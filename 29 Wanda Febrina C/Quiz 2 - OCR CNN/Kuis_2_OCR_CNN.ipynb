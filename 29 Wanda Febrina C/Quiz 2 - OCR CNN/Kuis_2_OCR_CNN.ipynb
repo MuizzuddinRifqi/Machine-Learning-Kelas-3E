{
  "cells": [
    {
      "cell_type": "markdown",
      "metadata": {
        "id": "fLV1Z5_Za3Ni"
      },
      "source": [
        "# Import Library"
      ]
    },
    {
      "cell_type": "code",
      "execution_count": null,
      "metadata": {
        "id": "TUhYpAeEarrV"
      },
      "outputs": [],
      "source": [
        "# Import TensorFlow library untuk machine learning\n",
        "import tensorflow as tf\n",
        "# Import NumPy library untuk manipulasi array dan perhitungan numerik\n",
        "import numpy as np\n",
        "# Import Pandas library untuk manipulasi dan analisis data tabular\n",
        "import pandas as pd\n",
        "# Import Matplotlib dan Seaborn untuk visualisasi data\n",
        "import matplotlib.pyplot as plt\n",
        "import seaborn as sns\n",
        "# Import LabelBinarizer untuk mengkonversi label kategori menjadi bentuk biner\n",
        "from sklearn.preprocessing import LabelBinarizer\n",
        "# Import train_test_split untuk membagi data menjadi data pelatihan dan pengujian\n",
        "from sklearn.model_selection import train_test_split\n",
        "# Import classification_report untuk mengevaluasi kinerja model klasifikasi\n",
        "from sklearn.metrics import classification_report\n",
        "# Import zipfile untuk bekerja dengan file zip\n",
        "import zipfile"
      ]
    },
    {
      "cell_type": "markdown",
      "metadata": {
        "id": "N95oXMaTcnMH"
      },
      "source": [
        "# Load Dataset"
      ]
    },
    {
      "cell_type": "markdown",
      "metadata": {
        "id": "dT8TY908cpCK"
      },
      "source": [
        "## Load MNIST"
      ]
    },
    {
      "cell_type": "code",
      "execution_count": null,
      "metadata": {
        "id": "OIZx2pkUcfDe"
      },
      "outputs": [],
      "source": [
        "# Import dataset mnist dari pustaka keras.datasets di TensorFlow\n",
        "# Dataset MNIST merupakan dataset gambar digit tulisan tangan (0-9) yang umum digunakan untuk tugas-tugas pengenalan digit.\n",
        "from tensorflow.keras.datasets import mnist"
      ]
    },
    {
      "cell_type": "code",
      "execution_count": null,
      "metadata": {
        "colab": {
          "base_uri": "https://localhost:8080/"
        },
        "id": "3GLkzBi6czj4",
        "outputId": "0e93d8c1-14b3-4391-cc49-3f0f17af07d7"
      },
      "outputs": [
        {
          "name": "stdout",
          "output_type": "stream",
          "text": [
            "Downloading data from https://storage.googleapis.com/tensorflow/tf-keras-datasets/mnist.npz\n",
            "11490434/11490434 [==============================] - 2s 0us/step\n"
          ]
        }
      ],
      "source": [
        "# Memuat data pelatihan dan label pelatihan, serta data uji dan label uji dari dataset mnist\n",
        "# Fungsi load_data() secara otomatis membagi dataset menjadi data pelatihan dan uji\n",
        "# train_data dan train_labels berisi data pelatihan dan label pelatihan, sedangkan test_data dan test_labels berisi data uji dan label uji\n",
        "(train_data, train_labels), (test_data, test_labels) = mnist.load_data()"
      ]
    },
    {
      "cell_type": "code",
      "execution_count": null,
      "metadata": {
        "colab": {
          "base_uri": "https://localhost:8080/"
        },
        "id": "oVQTyPgAc5Zw",
        "outputId": "a8dc89d9-5bbb-47ee-b23f-2c91478043d2"
      },
      "outputs": [
        {
          "data": {
            "text/plain": [
              "((60000, 28, 28), (10000, 28, 28))"
            ]
          },
          "execution_count": 17,
          "metadata": {},
          "output_type": "execute_result"
        }
      ],
      "source": [
        "# Memeriksa bentuk (shape) data pelatihan dan data uji\n",
        "(train_data.shape, test_data.shape)"
      ]
    },
    {
      "cell_type": "markdown",
      "metadata": {
        "id": "om3hsxCjD_R3"
      },
      "source": [
        "Penjelasan Output :\n",
        "- Data pelatihan memiliki 60,000 sampel, setiap sampel berbentuk gambar 28x28 piksel.\n",
        "- Data uji memiliki 10,000 sampel, juga dengan gambar 28x28 piksel."
      ]
    },
    {
      "cell_type": "code",
      "execution_count": null,
      "metadata": {
        "colab": {
          "base_uri": "https://localhost:8080/"
        },
        "id": "grUhLPwJc-un",
        "outputId": "1255ef21-43c8-4377-e2b1-7f54d57aa660"
      },
      "outputs": [
        {
          "data": {
            "text/plain": [
              "((60000,), (10000,))"
            ]
          },
          "execution_count": 18,
          "metadata": {},
          "output_type": "execute_result"
        }
      ],
      "source": [
        "# Memeriksa bentuk (shape) label pelatihan dan label uji\n",
        "(train_labels.shape, test_labels.shape)"
      ]
    },
    {
      "cell_type": "markdown",
      "metadata": {
        "id": "SoiK1yVjEHNV"
      },
      "source": [
        "Penjelasan Output :\n",
        "- Label pelatihan dan uji masing-masing memiliki 60,000 dan 10,000 elemen.\n",
        "- Label adalah bilangan bulat yang mewakili digit yang sesuai dengan gambar tulisan tangan."
      ]
    },
    {
      "cell_type": "code",
      "execution_count": null,
      "metadata": {
        "colab": {
          "base_uri": "https://localhost:8080/"
        },
        "id": "AwsTEu6xdNKX",
        "outputId": "f73b672e-25de-4791-8d47-e979a65f3068"
      },
      "outputs": [
        {
          "data": {
            "text/plain": [
              "(28, 28)"
            ]
          },
          "execution_count": 19,
          "metadata": {},
          "output_type": "execute_result"
        }
      ],
      "source": [
        "# Memeriksa bentuk (shape) dari satu sampel data pelatihan, dimana seharusnya dimensi gambar adalah 28x28\n",
        "train_data[0].shape"
      ]
    },
    {
      "cell_type": "markdown",
      "metadata": {
        "id": "GyJGGaukELQ8"
      },
      "source": [
        "Penjelasan Output :\n",
        "- Output diatas menunjukkan bahwa 1 sampel data pelatihan pertama adalah gambar berukuran 28x28 piksel."
      ]
    },
    {
      "cell_type": "code",
      "execution_count": null,
      "metadata": {
        "colab": {
          "base_uri": "https://localhost:8080/"
        },
        "id": "KHZesdnBdXKX",
        "outputId": "6531ba20-2c73-4da2-ce0a-522e9112623d"
      },
      "outputs": [
        {
          "data": {
            "text/plain": [
              "(60000,)"
            ]
          },
          "execution_count": 20,
          "metadata": {},
          "output_type": "execute_result"
        }
      ],
      "source": [
        "# Memeriksa bentuk (shape) dari label pelatihan yang seharusnya hanya satu dimensi karena ini adalah masalah klasifikasi biner\n",
        "train_labels.shape"
      ]
    },
    {
      "cell_type": "markdown",
      "metadata": {
        "id": "hzP9dy_zEMsv"
      },
      "source": [
        "Penjelasan Output :\n",
        "- Output diatas menunjukkan bahwa label pelatihan terdiri dari 60,000 elemen, masing-masing merepresentasikan digit yang sesuai dengan gambar tulisan tangan."
      ]
    },
    {
      "cell_type": "markdown",
      "metadata": {
        "id": "SYz8IjnOdfsV"
      },
      "source": [
        "### Combine Train and Test Data"
      ]
    },
    {
      "cell_type": "code",
      "execution_count": null,
      "metadata": {
        "id": "yacSZjdPdbhs"
      },
      "outputs": [],
      "source": [
        "# menggabungkan data pelatihan dan data uji dalam satu array vertikal.\n",
        "digits_data = np.vstack([train_data, test_data])\n",
        "# menggabungkan label pelatihan dan label uji dalam satu array horizontal.\n",
        "digits_labels = np.hstack([train_labels, test_labels])"
      ]
    },
    {
      "cell_type": "code",
      "execution_count": null,
      "metadata": {
        "colab": {
          "base_uri": "https://localhost:8080/"
        },
        "id": "oRBvQNVUeHZn",
        "outputId": "320a2a74-f6fb-446b-f144-c75a2823415a"
      },
      "outputs": [
        {
          "data": {
            "text/plain": [
              "(70000, 28, 28)"
            ]
          },
          "execution_count": 10,
          "metadata": {},
          "output_type": "execute_result"
        }
      ],
      "source": [
        "# Memeriksa bentuk (shape) gabungan data\n",
        "digits_data.shape"
      ]
    },
    {
      "cell_type": "markdown",
      "metadata": {
        "id": "wfX3H576JYBF"
      },
      "source": [
        "Penjelasan Output:\n",
        "- Data gabungan memiliki 70,000 sampel dengan dimensi gambar 28x28 piksel."
      ]
    },
    {
      "cell_type": "code",
      "execution_count": null,
      "metadata": {
        "colab": {
          "base_uri": "https://localhost:8080/"
        },
        "id": "MZbUcu0MeLSG",
        "outputId": "ce1da761-8a7e-4fc5-a19e-e80c876d055f"
      },
      "outputs": [
        {
          "data": {
            "text/plain": [
              "(70000,)"
            ]
          },
          "execution_count": 11,
          "metadata": {},
          "output_type": "execute_result"
        }
      ],
      "source": [
        "# Memeriksa bentuk (shape) gabungan label\n",
        "digits_labels.shape"
      ]
    },
    {
      "cell_type": "markdown",
      "metadata": {
        "id": "BUCzC6XCJent"
      },
      "source": [
        "Penjelasan Output:\n",
        "- Label gabungan memiliki 70,000 elemen, masing-masing merepresentasikan digit yang sesuai dengan gambar tulisan tangan."
      ]
    },
    {
      "cell_type": "code",
      "execution_count": null,
      "metadata": {
        "colab": {
          "base_uri": "https://localhost:8080/",
          "height": 469
        },
        "id": "uqaiC0pGePF-",
        "outputId": "eb684c1e-8cad-441d-a4a8-af1f74b9908a"
      },
      "outputs": [
        {
          "data": {
            "text/plain": [
              "Text(0.5, 1.0, 'Class: 7')"
            ]
          },
          "execution_count": 12,
          "metadata": {},
          "output_type": "execute_result"
        },
        {
          "data": {
            "image/png": "[encoded data removed]",
            "text/plain": [
              "<Figure size 640x480 with 1 Axes>"
            ]
          },
          "metadata": {},
          "output_type": "display_data"
        }
      ],
      "source": [
        "# Memeriksa secara acak satu sampel dari data gabungan\n",
        "idx = np.random.randint(0, digits_data.shape[0])\n",
        "# Menampilkan secara acak satu sampel data\n",
        "plt.imshow(digits_data[idx], cmap='gray')\n",
        "plt.title('Class: ' + str(digits_labels[idx]))"
      ]
    },
    {
      "cell_type": "markdown",
      "metadata": {
        "id": "9zsBKNbrJPYy"
      },
      "source": [
        "Penjelasan Output:\n",
        "- Program akan memilih secara acak satu sampel dari data gabungan dan menampilkannya menggunakan Matplotlib. Judul plot menunjukkan kelas atau label yang sesuai dengan gambar tersebut. Dalam kode ini, labelnya adalah 7."
      ]
    },
    {
      "cell_type": "code",
      "execution_count": null,
      "metadata": {
        "colab": {
          "base_uri": "https://localhost:8080/",
          "height": 466
        },
        "id": "FrLWteorevqd",
        "outputId": "2793543d-f782-4599-91f5-7e1a6ee16ef4"
      },
      "outputs": [
        {
          "data": {
            "text/plain": [
              "<Axes: xlabel='Labels', ylabel='count'>"
            ]
          },
          "execution_count": 13,
          "metadata": {},
          "output_type": "execute_result"
        },
        {
          "data": {
            "image/png": "[encoded data removed]",
            "text/plain": [
              "<Figure size 640x480 with 1 Axes>"
            ]
          },
          "metadata": {},
          "output_type": "display_data"
        }
      ],
      "source": [
        "# Memeriksa distribusi data\n",
        "# Membuat DataFrame Pandas dari label gabungan\n",
        "df_labels = pd.DataFrame(digits_labels, columns=['Labels'])\n",
        "# Menggunakan Seaborn untuk membuat countplot dari distribusi label\n",
        "sns.countplot(df_labels, x='Labels')"
      ]
    },
    {
      "cell_type": "markdown",
      "metadata": {
        "id": "Q7XFJjJBLQcf"
      },
      "source": [
        "Penjelasan output:\n",
        "- Output yang dihasilkan adalah diagram batang yang menunjukkan sebaran jumlah setiap kelas atau digit dalam dataset. Masing-masing batang merepresentasikan jumlah kemunculan setiap digit.\n",
        "\n",
        "- Pada sumbu x, memiliki label atau digit (0-9), dan pada sumbu y, memiliki jumlah kemunculan setiap digit dalam dataset.\n",
        "\n",
        "- Plot ini membantu dalam memahami sebaran kelas dan memastikan bahwa dataset tidak memiliki ketidakseimbangan yang signifikan dalam jumlah sampel untuk setiap digit.\n",
        "- Dalam kasus ini, setiap digit memiliki jumlah sampel yang relatif seimbang, yang merupakan kondisi yang baik untuk melatih model klasifikasi."
      ]
    },
    {
      "cell_type": "markdown",
      "metadata": {
        "id": "uqeJT2ytogB_"
      },
      "source": [
        "## Load Kaggle A-Z"
      ]
    },
    {
      "cell_type": "code",
      "execution_count": null,
      "metadata": {
        "colab": {
          "base_uri": "https://localhost:8080/"
        },
        "id": "tQ95CkdfjO7P",
        "outputId": "22a01056-021e-4c24-e6ae-31926f64c21f"
      },
      "outputs": [
        {
          "name": "stdout",
          "output_type": "stream",
          "text": [
            "--2023-11-30 08:42:08--  https://iaexpert.academy/arquivos/alfabeto_A-Z.zip\n",
            "Resolving iaexpert.academy (iaexpert.academy)... 162.159.134.42\n",
            "Connecting to iaexpert.academy (iaexpert.academy)|162.159.134.42|:443... connected.\n",
            "HTTP request sent, awaiting response... 200 OK\n",
            "Length: 193643888 (185M) [application/zip]\n",
            "Saving to: ‘alfabeto_A-Z.zip’\n",
            "\n",
            "alfabeto_A-Z.zip    100%[===================>] 184.67M  70.0MB/s    in 2.6s    \n",
            "\n",
            "2023-11-30 08:42:11 (70.0 MB/s) - ‘alfabeto_A-Z.zip’ saved [193643888/193643888]\n",
            "\n"
          ]
        }
      ],
      "source": [
        "# Mengunduh file zip dari URL\n",
        "!wget https://iaexpert.academy/arquivos/alfabeto_A-Z.zip"
      ]
    },
    {
      "cell_type": "code",
      "execution_count": null,
      "metadata": {
        "id": "TobpFNSsojcv"
      },
      "outputs": [],
      "source": [
        "# Mengekstrak file zip\n",
        "zip_object = zipfile.ZipFile(file = 'alfabeto_A-Z.zip', mode = 'r') # Membuat objek ZipFile dengan mode \"r\" (read) untuk membaca file zip.\n",
        "zip_object.extractall('./') # Mengekstrak semua isi file zip ke direktori saat ini ('./').\n",
        "zip_object.close() # Menutup objek ZipFile setelah ekstraksi selesai."
      ]
    },
    {
      "cell_type": "code",
      "execution_count": null,
      "metadata": {
        "colab": {
          "base_uri": "https://localhost:8080/"
        },
        "id": "QkaiGpVGSFfP",
        "outputId": "f22f01d4-20a1-4597-f2fb-bca83a21e1b2"
      },
      "outputs": [
        {
          "name": "stdout",
          "output_type": "stream",
          "text": [
            "Drive already mounted at /content/drive; to attempt to forcibly remount, call drive.mount(\"/content/drive\", force_remount=True).\n"
          ]
        }
      ],
      "source": [
        "# Menghubungkan Google Drive (pada lingkungan Colab)\n",
        "from google.colab import drive\n",
        "drive.mount('/content/drive')"
      ]
    },
    {
      "cell_type": "code",
      "execution_count": null,
      "metadata": {
        "colab": {
          "base_uri": "https://localhost:8080/",
          "height": 444
        },
        "id": "ScBURU_4o5bB",
        "outputId": "9831cc34-0e23-4473-aaf0-73e39bc82294"
      },
      "outputs": [
        {
          "data": {
            "text/html": [
              "\n",
              "  <div id=\"df-86948ac8-8d2f-44b0-9ae9-7c52d6ac28e9\" class=\"colab-df-container\">\n",
              "    <div>\n",
              "<style scoped>\n",
              "    .dataframe tbody tr th:only-of-type {\n",
              "        vertical-align: middle;\n",
              "    }\n",
              "\n",
              "    .dataframe tbody tr th {\n",
              "        vertical-align: top;\n",
              "    }\n",
              "\n",
              "    .dataframe thead th {\n",
              "        text-align: right;\n",
              "    }\n",
              "</style>\n",
              "<table border=\"1\" class=\"dataframe\">\n",
              "  <thead>\n",
              "    <tr style=\"text-align: right;\">\n",
              "      <th></th>\n",
              "      <th>0</th>\n",
              "      <th>0.1</th>\n",
              "      <th>0.2</th>\n",
              "      <th>0.3</th>\n",
              "      <th>0.4</th>\n",
              "      <th>0.5</th>\n",
              "      <th>0.6</th>\n",
              "      <th>0.7</th>\n",
              "      <th>0.8</th>\n",
              "      <th>0.9</th>\n",
              "      <th>...</th>\n",
              "      <th>0.639</th>\n",
              "      <th>0.640</th>\n",
              "      <th>0.641</th>\n",
              "      <th>0.642</th>\n",
              "      <th>0.643</th>\n",
              "      <th>0.644</th>\n",
              "      <th>0.645</th>\n",
              "      <th>0.646</th>\n",
              "      <th>0.647</th>\n",
              "      <th>0.648</th>\n",
              "    </tr>\n",
              "  </thead>\n",
              "  <tbody>\n",
              "    <tr>\n",
              "      <th>0</th>\n",
              "      <td>0.0</td>\n",
              "      <td>0.0</td>\n",
              "      <td>0.0</td>\n",
              "      <td>0.0</td>\n",
              "      <td>0.0</td>\n",
              "      <td>0.0</td>\n",
              "      <td>0.0</td>\n",
              "      <td>0.0</td>\n",
              "      <td>0.0</td>\n",
              "      <td>0.0</td>\n",
              "      <td>...</td>\n",
              "      <td>0.0</td>\n",
              "      <td>0.0</td>\n",
              "      <td>0.0</td>\n",
              "      <td>0.0</td>\n",
              "      <td>0.0</td>\n",
              "      <td>0.0</td>\n",
              "      <td>0.0</td>\n",
              "      <td>0.0</td>\n",
              "      <td>0.0</td>\n",
              "      <td>0.0</td>\n",
              "    </tr>\n",
              "    <tr>\n",
              "      <th>1</th>\n",
              "      <td>0.0</td>\n",
              "      <td>0.0</td>\n",
              "      <td>0.0</td>\n",
              "      <td>0.0</td>\n",
              "      <td>0.0</td>\n",
              "      <td>0.0</td>\n",
              "      <td>0.0</td>\n",
              "      <td>0.0</td>\n",
              "      <td>0.0</td>\n",
              "      <td>0.0</td>\n",
              "      <td>...</td>\n",
              "      <td>0.0</td>\n",
              "      <td>0.0</td>\n",
              "      <td>0.0</td>\n",
              "      <td>0.0</td>\n",
              "      <td>0.0</td>\n",
              "      <td>0.0</td>\n",
              "      <td>0.0</td>\n",
              "      <td>0.0</td>\n",
              "      <td>0.0</td>\n",
              "      <td>0.0</td>\n",
              "    </tr>\n",
              "    <tr>\n",
              "      <th>2</th>\n",
              "      <td>0.0</td>\n",
              "      <td>0.0</td>\n",
              "      <td>0.0</td>\n",
              "      <td>0.0</td>\n",
              "      <td>0.0</td>\n",
              "      <td>0.0</td>\n",
              "      <td>0.0</td>\n",
              "      <td>0.0</td>\n",
              "      <td>0.0</td>\n",
              "      <td>0.0</td>\n",
              "      <td>...</td>\n",
              "      <td>0.0</td>\n",
              "      <td>0.0</td>\n",
              "      <td>0.0</td>\n",
              "      <td>0.0</td>\n",
              "      <td>0.0</td>\n",
              "      <td>0.0</td>\n",
              "      <td>0.0</td>\n",
              "      <td>0.0</td>\n",
              "      <td>0.0</td>\n",
              "      <td>0.0</td>\n",
              "    </tr>\n",
              "    <tr>\n",
              "      <th>3</th>\n",
              "      <td>0.0</td>\n",
              "      <td>0.0</td>\n",
              "      <td>0.0</td>\n",
              "      <td>0.0</td>\n",
              "      <td>0.0</td>\n",
              "      <td>0.0</td>\n",
              "      <td>0.0</td>\n",
              "      <td>0.0</td>\n",
              "      <td>0.0</td>\n",
              "      <td>0.0</td>\n",
              "      <td>...</td>\n",
              "      <td>0.0</td>\n",
              "      <td>0.0</td>\n",
              "      <td>0.0</td>\n",
              "      <td>0.0</td>\n",
              "      <td>0.0</td>\n",
              "      <td>0.0</td>\n",
              "      <td>0.0</td>\n",
              "      <td>0.0</td>\n",
              "      <td>0.0</td>\n",
              "      <td>0.0</td>\n",
              "    </tr>\n",
              "    <tr>\n",
              "      <th>4</th>\n",
              "      <td>0.0</td>\n",
              "      <td>0.0</td>\n",
              "      <td>0.0</td>\n",
              "      <td>0.0</td>\n",
              "      <td>0.0</td>\n",
              "      <td>0.0</td>\n",
              "      <td>0.0</td>\n",
              "      <td>0.0</td>\n",
              "      <td>0.0</td>\n",
              "      <td>0.0</td>\n",
              "      <td>...</td>\n",
              "      <td>0.0</td>\n",
              "      <td>0.0</td>\n",
              "      <td>0.0</td>\n",
              "      <td>0.0</td>\n",
              "      <td>0.0</td>\n",
              "      <td>0.0</td>\n",
              "      <td>0.0</td>\n",
              "      <td>0.0</td>\n",
              "      <td>0.0</td>\n",
              "      <td>0.0</td>\n",
              "    </tr>\n",
              "    <tr>\n",
              "      <th>...</th>\n",
              "      <td>...</td>\n",
              "      <td>...</td>\n",
              "      <td>...</td>\n",
              "      <td>...</td>\n",
              "      <td>...</td>\n",
              "      <td>...</td>\n",
              "      <td>...</td>\n",
              "      <td>...</td>\n",
              "      <td>...</td>\n",
              "      <td>...</td>\n",
              "      <td>...</td>\n",
              "      <td>...</td>\n",
              "      <td>...</td>\n",
              "      <td>...</td>\n",
              "      <td>...</td>\n",
              "      <td>...</td>\n",
              "      <td>...</td>\n",
              "      <td>...</td>\n",
              "      <td>...</td>\n",
              "      <td>...</td>\n",
              "      <td>...</td>\n",
              "    </tr>\n",
              "    <tr>\n",
              "      <th>372445</th>\n",
              "      <td>25.0</td>\n",
              "      <td>0.0</td>\n",
              "      <td>0.0</td>\n",
              "      <td>0.0</td>\n",
              "      <td>0.0</td>\n",
              "      <td>0.0</td>\n",
              "      <td>0.0</td>\n",
              "      <td>0.0</td>\n",
              "      <td>0.0</td>\n",
              "      <td>0.0</td>\n",
              "      <td>...</td>\n",
              "      <td>0.0</td>\n",
              "      <td>0.0</td>\n",
              "      <td>0.0</td>\n",
              "      <td>0.0</td>\n",
              "      <td>0.0</td>\n",
              "      <td>0.0</td>\n",
              "      <td>0.0</td>\n",
              "      <td>0.0</td>\n",
              "      <td>0.0</td>\n",
              "      <td>0.0</td>\n",
              "    </tr>\n",
              "    <tr>\n",
              "      <th>372446</th>\n",
              "      <td>25.0</td>\n",
              "      <td>0.0</td>\n",
              "      <td>0.0</td>\n",
              "      <td>0.0</td>\n",
              "      <td>0.0</td>\n",
              "      <td>0.0</td>\n",
              "      <td>0.0</td>\n",
              "      <td>0.0</td>\n",
              "      <td>0.0</td>\n",
              "      <td>0.0</td>\n",
              "      <td>...</td>\n",
              "      <td>0.0</td>\n",
              "      <td>0.0</td>\n",
              "      <td>0.0</td>\n",
              "      <td>0.0</td>\n",
              "      <td>0.0</td>\n",
              "      <td>0.0</td>\n",
              "      <td>0.0</td>\n",
              "      <td>0.0</td>\n",
              "      <td>0.0</td>\n",
              "      <td>0.0</td>\n",
              "    </tr>\n",
              "    <tr>\n",
              "      <th>372447</th>\n",
              "      <td>25.0</td>\n",
              "      <td>0.0</td>\n",
              "      <td>0.0</td>\n",
              "      <td>0.0</td>\n",
              "      <td>0.0</td>\n",
              "      <td>0.0</td>\n",
              "      <td>0.0</td>\n",
              "      <td>0.0</td>\n",
              "      <td>0.0</td>\n",
              "      <td>0.0</td>\n",
              "      <td>...</td>\n",
              "      <td>0.0</td>\n",
              "      <td>0.0</td>\n",
              "      <td>0.0</td>\n",
              "      <td>0.0</td>\n",
              "      <td>0.0</td>\n",
              "      <td>0.0</td>\n",
              "      <td>0.0</td>\n",
              "      <td>0.0</td>\n",
              "      <td>0.0</td>\n",
              "      <td>0.0</td>\n",
              "    </tr>\n",
              "    <tr>\n",
              "      <th>372448</th>\n",
              "      <td>25.0</td>\n",
              "      <td>0.0</td>\n",
              "      <td>0.0</td>\n",
              "      <td>0.0</td>\n",
              "      <td>0.0</td>\n",
              "      <td>0.0</td>\n",
              "      <td>0.0</td>\n",
              "      <td>0.0</td>\n",
              "      <td>0.0</td>\n",
              "      <td>0.0</td>\n",
              "      <td>...</td>\n",
              "      <td>0.0</td>\n",
              "      <td>0.0</td>\n",
              "      <td>0.0</td>\n",
              "      <td>0.0</td>\n",
              "      <td>0.0</td>\n",
              "      <td>0.0</td>\n",
              "      <td>0.0</td>\n",
              "      <td>0.0</td>\n",
              "      <td>0.0</td>\n",
              "      <td>0.0</td>\n",
              "    </tr>\n",
              "    <tr>\n",
              "      <th>372449</th>\n",
              "      <td>25.0</td>\n",
              "      <td>0.0</td>\n",
              "      <td>0.0</td>\n",
              "      <td>0.0</td>\n",
              "      <td>0.0</td>\n",
              "      <td>0.0</td>\n",
              "      <td>0.0</td>\n",
              "      <td>0.0</td>\n",
              "      <td>0.0</td>\n",
              "      <td>0.0</td>\n",
              "      <td>...</td>\n",
              "      <td>0.0</td>\n",
              "      <td>0.0</td>\n",
              "      <td>0.0</td>\n",
              "      <td>0.0</td>\n",
              "      <td>0.0</td>\n",
              "      <td>0.0</td>\n",
              "      <td>0.0</td>\n",
              "      <td>0.0</td>\n",
              "      <td>0.0</td>\n",
              "      <td>0.0</td>\n",
              "    </tr>\n",
              "  </tbody>\n",
              "</table>\n",
              "<p>372450 rows × 785 columns</p>\n",
              "</div>\n",
              "    <div class=\"colab-df-buttons\">\n",
              "\n",
              "  <div class=\"colab-df-container\">\n",
              "    <button class=\"colab-df-convert\" onclick=\"convertToInteractive('df-86948ac8-8d2f-44b0-9ae9-7c52d6ac28e9')\"\n",
              "            title=\"Convert this dataframe to an interactive table.\"\n",
              "            style=\"display:none;\">\n",
              "\n",
              "  <svg xmlns=\"http://www.w3.org/2000/svg\" height=\"24px\" viewBox=\"0 -960 960 960\">\n",
              "    <path d=\"M120-120v-720h720v720H120Zm60-500h600v-160H180v160Zm220 220h160v-160H400v160Zm0 220h160v-160H400v160ZM180-400h160v-160H180v160Zm440 0h160v-160H620v160ZM180-180h160v-160H180v160Zm440 0h160v-160H620v160Z\"/>\n",
              "  </svg>\n",
              "    </button>\n",
              "\n",
              "  <style>\n",
              "    .colab-df-container {\n",
              "      display:flex;\n",
              "      gap: 12px;\n",
              "    }\n",
              "\n",
              "    .colab-df-convert {\n",
              "      background-color: #E8F0FE;\n",
              "      border: none;\n",
              "      border-radius: 50%;\n",
              "      cursor: pointer;\n",
              "      display: none;\n",
              "      fill: #1967D2;\n",
              "      height: 32px;\n",
              "      padding: 0 0 0 0;\n",
              "      width: 32px;\n",
              "    }\n",
              "\n",
              "    .colab-df-convert:hover {\n",
              "      background-color: #E2EBFA;\n",
              "      box-shadow: 0px 1px 2px rgba(60, 64, 67, 0.3), 0px 1px 3px 1px rgba(60, 64, 67, 0.15);\n",
              "      fill: #174EA6;\n",
              "    }\n",
              "\n",
              "    .colab-df-buttons div {\n",
              "      margin-bottom: 4px;\n",
              "    }\n",
              "\n",
              "    [theme=dark] .colab-df-convert {\n",
              "      background-color: #3B4455;\n",
              "      fill: #D2E3FC;\n",
              "    }\n",
              "\n",
              "    [theme=dark] .colab-df-convert:hover {\n",
              "      background-color: #434B5C;\n",
              "      box-shadow: 0px 1px 3px 1px rgba(0, 0, 0, 0.15);\n",
              "      filter: drop-shadow(0px 1px 2px rgba(0, 0, 0, 0.3));\n",
              "      fill: #FFFFFF;\n",
              "    }\n",
              "  </style>\n",
              "\n",
              "    <script>\n",
              "      const buttonEl =\n",
              "        document.querySelector('#df-86948ac8-8d2f-44b0-9ae9-7c52d6ac28e9 button.colab-df-convert');\n",
              "      buttonEl.style.display =\n",
              "        google.colab.kernel.accessAllowed ? 'block' : 'none';\n",
              "\n",
              "      async function convertToInteractive(key) {\n",
              "        const element = document.querySelector('#df-86948ac8-8d2f-44b0-9ae9-7c52d6ac28e9');\n",
              "        const dataTable =\n",
              "          await google.colab.kernel.invokeFunction('convertToInteractive',\n",
              "                                                    [key], {});\n",
              "        if (!dataTable) return;\n",
              "\n",
              "        const docLinkHtml = 'Like what you see? Visit the ' +\n",
              "          '<a target=\"_blank\" href=https://colab.research.google.com/notebooks/data_table.ipynb>data table notebook</a>'\n",
              "          + ' to learn more about interactive tables.';\n",
              "        element.innerHTML = '';\n",
              "        dataTable['output_type'] = 'display_data';\n",
              "        await google.colab.output.renderOutput(dataTable, element);\n",
              "        const docLink = document.createElement('div');\n",
              "        docLink.innerHTML = docLinkHtml;\n",
              "        element.appendChild(docLink);\n",
              "      }\n",
              "    </script>\n",
              "  </div>\n",
              "\n",
              "\n",
              "<div id=\"df-8b29c164-1840-4759-83ac-aa356cc9ff09\">\n",
              "  <button class=\"colab-df-quickchart\" onclick=\"quickchart('df-8b29c164-1840-4759-83ac-aa356cc9ff09')\"\n",
              "            title=\"Suggest charts\"\n",
              "            style=\"display:none;\">\n",
              "\n",
              "<svg xmlns=\"http://www.w3.org/2000/svg\" height=\"24px\"viewBox=\"0 0 24 24\"\n",
              "     width=\"24px\">\n",
              "    <g>\n",
              "        <path d=\"M19 3H5c-1.1 0-2 .9-2 2v14c0 1.1.9 2 2 2h14c1.1 0 2-.9 2-2V5c0-1.1-.9-2-2-2zM9 17H7v-7h2v7zm4 0h-2V7h2v10zm4 0h-2v-4h2v4z\"/>\n",
              "    </g>\n",
              "</svg>\n",
              "  </button>\n",
              "\n",
              "<style>\n",
              "  .colab-df-quickchart {\n",
              "      --bg-color: #E8F0FE;\n",
              "      --fill-color: #1967D2;\n",
              "      --hover-bg-color: #E2EBFA;\n",
              "      --hover-fill-color: #174EA6;\n",
              "      --disabled-fill-color: #AAA;\n",
              "      --disabled-bg-color: #DDD;\n",
              "  }\n",
              "\n",
              "  [theme=dark] .colab-df-quickchart {\n",
              "      --bg-color: #3B4455;\n",
              "      --fill-color: #D2E3FC;\n",
              "      --hover-bg-color: #434B5C;\n",
              "      --hover-fill-color: #FFFFFF;\n",
              "      --disabled-bg-color: #3B4455;\n",
              "      --disabled-fill-color: #666;\n",
              "  }\n",
              "\n",
              "  .colab-df-quickchart {\n",
              "    background-color: var(--bg-color);\n",
              "    border: none;\n",
              "    border-radius: 50%;\n",
              "    cursor: pointer;\n",
              "    display: none;\n",
              "    fill: var(--fill-color);\n",
              "    height: 32px;\n",
              "    padding: 0;\n",
              "    width: 32px;\n",
              "  }\n",
              "\n",
              "  .colab-df-quickchart:hover {\n",
              "    background-color: var(--hover-bg-color);\n",
              "    box-shadow: 0 1px 2px rgba(60, 64, 67, 0.3), 0 1px 3px 1px rgba(60, 64, 67, 0.15);\n",
              "    fill: var(--button-hover-fill-color);\n",
              "  }\n",
              "\n",
              "  .colab-df-quickchart-complete:disabled,\n",
              "  .colab-df-quickchart-complete:disabled:hover {\n",
              "    background-color: var(--disabled-bg-color);\n",
              "    fill: var(--disabled-fill-color);\n",
              "    box-shadow: none;\n",
              "  }\n",
              "\n",
              "  .colab-df-spinner {\n",
              "    border: 2px solid var(--fill-color);\n",
              "    border-color: transparent;\n",
              "    border-bottom-color: var(--fill-color);\n",
              "    animation:\n",
              "      spin 1s steps(1) infinite;\n",
              "  }\n",
              "\n",
              "  @keyframes spin {\n",
              "    0% {\n",
              "      border-color: transparent;\n",
              "      border-bottom-color: var(--fill-color);\n",
              "      border-left-color: var(--fill-color);\n",
              "    }\n",
              "    20% {\n",
              "      border-color: transparent;\n",
              "      border-left-color: var(--fill-color);\n",
              "      border-top-color: var(--fill-color);\n",
              "    }\n",
              "    30% {\n",
              "      border-color: transparent;\n",
              "      border-left-color: var(--fill-color);\n",
              "      border-top-color: var(--fill-color);\n",
              "      border-right-color: var(--fill-color);\n",
              "    }\n",
              "    40% {\n",
              "      border-color: transparent;\n",
              "      border-right-color: var(--fill-color);\n",
              "      border-top-color: var(--fill-color);\n",
              "    }\n",
              "    60% {\n",
              "      border-color: transparent;\n",
              "      border-right-color: var(--fill-color);\n",
              "    }\n",
              "    80% {\n",
              "      border-color: transparent;\n",
              "      border-right-color: var(--fill-color);\n",
              "      border-bottom-color: var(--fill-color);\n",
              "    }\n",
              "    90% {\n",
              "      border-color: transparent;\n",
              "      border-bottom-color: var(--fill-color);\n",
              "    }\n",
              "  }\n",
              "</style>\n",
              "\n",
              "  <script>\n",
              "    async function quickchart(key) {\n",
              "      const quickchartButtonEl =\n",
              "        document.querySelector('#' + key + ' button');\n",
              "      quickchartButtonEl.disabled = true;  // To prevent multiple clicks.\n",
              "      quickchartButtonEl.classList.add('colab-df-spinner');\n",
              "      try {\n",
              "        const charts = await google.colab.kernel.invokeFunction(\n",
              "            'suggestCharts', [key], {});\n",
              "      } catch (error) {\n",
              "        console.error('Error during call to suggestCharts:', error);\n",
              "      }\n",
              "      quickchartButtonEl.classList.remove('colab-df-spinner');\n",
              "      quickchartButtonEl.classList.add('colab-df-quickchart-complete');\n",
              "    }\n",
              "    (() => {\n",
              "      let quickchartButtonEl =\n",
              "        document.querySelector('#df-8b29c164-1840-4759-83ac-aa356cc9ff09 button');\n",
              "      quickchartButtonEl.style.display =\n",
              "        google.colab.kernel.accessAllowed ? 'block' : 'none';\n",
              "    })();\n",
              "  </script>\n",
              "</div>\n",
              "    </div>\n",
              "  </div>\n"
            ],
            "text/plain": [
              "           0  0.1  0.2  0.3  0.4  0.5  0.6  0.7  0.8  0.9  ...  0.639  0.640  \\\n",
              "0        0.0  0.0  0.0  0.0  0.0  0.0  0.0  0.0  0.0  0.0  ...    0.0    0.0   \n",
              "1        0.0  0.0  0.0  0.0  0.0  0.0  0.0  0.0  0.0  0.0  ...    0.0    0.0   \n",
              "2        0.0  0.0  0.0  0.0  0.0  0.0  0.0  0.0  0.0  0.0  ...    0.0    0.0   \n",
              "3        0.0  0.0  0.0  0.0  0.0  0.0  0.0  0.0  0.0  0.0  ...    0.0    0.0   \n",
              "4        0.0  0.0  0.0  0.0  0.0  0.0  0.0  0.0  0.0  0.0  ...    0.0    0.0   \n",
              "...      ...  ...  ...  ...  ...  ...  ...  ...  ...  ...  ...    ...    ...   \n",
              "372445  25.0  0.0  0.0  0.0  0.0  0.0  0.0  0.0  0.0  0.0  ...    0.0    0.0   \n",
              "372446  25.0  0.0  0.0  0.0  0.0  0.0  0.0  0.0  0.0  0.0  ...    0.0    0.0   \n",
              "372447  25.0  0.0  0.0  0.0  0.0  0.0  0.0  0.0  0.0  0.0  ...    0.0    0.0   \n",
              "372448  25.0  0.0  0.0  0.0  0.0  0.0  0.0  0.0  0.0  0.0  ...    0.0    0.0   \n",
              "372449  25.0  0.0  0.0  0.0  0.0  0.0  0.0  0.0  0.0  0.0  ...    0.0    0.0   \n",
              "\n",
              "        0.641  0.642  0.643  0.644  0.645  0.646  0.647  0.648  \n",
              "0         0.0    0.0    0.0    0.0    0.0    0.0    0.0    0.0  \n",
              "1         0.0    0.0    0.0    0.0    0.0    0.0    0.0    0.0  \n",
              "2         0.0    0.0    0.0    0.0    0.0    0.0    0.0    0.0  \n",
              "3         0.0    0.0    0.0    0.0    0.0    0.0    0.0    0.0  \n",
              "4         0.0    0.0    0.0    0.0    0.0    0.0    0.0    0.0  \n",
              "...       ...    ...    ...    ...    ...    ...    ...    ...  \n",
              "372445    0.0    0.0    0.0    0.0    0.0    0.0    0.0    0.0  \n",
              "372446    0.0    0.0    0.0    0.0    0.0    0.0    0.0    0.0  \n",
              "372447    0.0    0.0    0.0    0.0    0.0    0.0    0.0    0.0  \n",
              "372448    0.0    0.0    0.0    0.0    0.0    0.0    0.0    0.0  \n",
              "372449    0.0    0.0    0.0    0.0    0.0    0.0    0.0    0.0  \n",
              "\n",
              "[372450 rows x 785 columns]"
            ]
          },
          "execution_count": 6,
          "metadata": {},
          "output_type": "execute_result"
        }
      ],
      "source": [
        "# Membaca dataset A-Z Handwritten Data dari file CSV\n",
        "dataset_az = pd.read_csv('A_Z Handwritten Data.csv').astype('float32')\n",
        "# Menampilkan dataset\n",
        "dataset_az"
      ]
    },
    {
      "cell_type": "markdown",
      "metadata": {
        "id": "6fWxeNyJNSye"
      },
      "source": [
        "Penjelasan output:\n",
        "- Output yang ditampilkan adalah dataset A-Z Handwriting Data.csv. Data frame ini digunakan untuk melatih dan mengevaluasi model OCR CNN\n",
        "- Dataset ini memiliki 372,450 baris dan 785 kolom, di mana kolom pertama adalah label dan kolom-kolom berikutnya (784 kolom) adalah nilai piksel dari gambar-gambar alfabet tulisan tangan yang terdiri dari A-Z."
      ]
    },
    {
      "cell_type": "code",
      "execution_count": null,
      "metadata": {
        "id": "dK6pP0b-o81T"
      },
      "outputs": [],
      "source": [
        "# Mengambil hanya data piksel (pixel data)\n",
        "alphabet_data = dataset_az.drop('0', axis=1)\n",
        "# Mengambil hanya label\n",
        "alphabet_labels = dataset_az['0']"
      ]
    },
    {
      "cell_type": "code",
      "execution_count": null,
      "metadata": {
        "colab": {
          "base_uri": "https://localhost:8080/"
        },
        "id": "NllEoaiLpZhI",
        "outputId": "c24108de-09df-4de4-f43c-4dde01e4649f"
      },
      "outputs": [
        {
          "data": {
            "text/plain": [
              "((372450, 784), (372450,))"
            ]
          },
          "execution_count": 8,
          "metadata": {},
          "output_type": "execute_result"
        }
      ],
      "source": [
        "# Memeriksa bentuk (shape) data piksel\n",
        "alphabet_data.shape, alphabet_labels.shape"
      ]
    },
    {
      "cell_type": "markdown",
      "metadata": {
        "id": "lS5E9qkKPWFf"
      },
      "source": [
        "Penjelasan output : Data piksel memiliki bentuk (372450, 784), sementara label memiliki bentuk (372450,)."
      ]
    },
    {
      "cell_type": "code",
      "execution_count": null,
      "metadata": {
        "colab": {
          "base_uri": "https://localhost:8080/"
        },
        "id": "UvE88zSkpe5e",
        "outputId": "1b183b22-c170-4cca-b25f-684c3208dfed"
      },
      "outputs": [
        {
          "data": {
            "text/plain": [
              "(372450,)"
            ]
          },
          "execution_count": 9,
          "metadata": {},
          "output_type": "execute_result"
        }
      ],
      "source": [
        "# Memeriksa bentuk (shape) label\n",
        "alphabet_labels.shape"
      ]
    },
    {
      "cell_type": "markdown",
      "metadata": {
        "id": "2DpTBBckPdar"
      },
      "source": [
        "Penjelasan output: Data label memiliki bentuk (372450,)."
      ]
    },
    {
      "cell_type": "code",
      "execution_count": null,
      "metadata": {
        "colab": {
          "base_uri": "https://localhost:8080/"
        },
        "id": "9xps-5kjpio_",
        "outputId": "0768096e-c851-453b-b0b6-1c128ce13668"
      },
      "outputs": [
        {
          "data": {
            "text/plain": [
              "(372450, 28, 28)"
            ]
          },
          "execution_count": 10,
          "metadata": {},
          "output_type": "execute_result"
        }
      ],
      "source": [
        "# Mereshape data piksel menjadi ukuran 28x28\n",
        "alphabet_data = np.reshape(alphabet_data.values, (alphabet_data.shape[0], 28, 28))\n",
        "# Memeriksa hasilnya berdasarkan bentuknya\n",
        "alphabet_data.shape"
      ]
    },
    {
      "cell_type": "markdown",
      "metadata": {
        "id": "XXyL1aWxSF5e"
      },
      "source": [
        "Awalnya data di reshape menjadi ukuran 28x28 sehingga memunculkan output diatas yang merupakan hasil dari reshaping. Sekarang data piksel memiliki bentuk (372450, 28, 28), yang sesuai dengan dimensi gambar tulisan tangan alfabet A-Z."
      ]
    },
    {
      "cell_type": "code",
      "execution_count": null,
      "metadata": {
        "colab": {
          "base_uri": "https://localhost:8080/",
          "height": 452
        },
        "id": "tDTBbWSoqloX",
        "outputId": "948d1b60-da3c-404d-e623-ecd449dd142e"
      },
      "outputs": [
        {
          "data": {
            "image/png": "[encoded data removed]",
            "text/plain": [
              "<Figure size 640x480 with 1 Axes>"
            ]
          },
          "metadata": {},
          "output_type": "display_data"
        }
      ],
      "source": [
        "# Memilih secara acak indeks dari dataset A-Z.\n",
        "index = np.random.randint(0, alphabet_data.shape[0])\n",
        "# Menampilkan gambar yang dipilih secara acak dari dataset A-Z menggunakan Matplotlib.\n",
        "plt.imshow(alphabet_data[index], cmap = 'gray')\n",
        "# Menampilkan judul plot yang mencakup label kelas dari gambar yang ditampilkan.\n",
        "plt.title('Class: ' + str(alphabet_labels[index]));"
      ]
    },
    {
      "cell_type": "markdown",
      "metadata": {
        "id": "fG5xT5x_RNpb"
      },
      "source": [
        "Penjelasan output:\n",
        "- Output dari kode Python tersebut adalah gambar huruf \"u\" yang berukuran 28x28 piksel. Gambar tersebut merupakan representasi dari data label 20 dari dataset A-Z Handwritten Data.csv."
      ]
    },
    {
      "cell_type": "code",
      "execution_count": null,
      "metadata": {
        "colab": {
          "base_uri": "https://localhost:8080/",
          "height": 468
        },
        "id": "72frSp_uqrjm",
        "outputId": "1653a92e-d344-4e17-f3f6-fb81dce305a2"
      },
      "outputs": [
        {
          "data": {
            "text/plain": [
              "<Axes: xlabel='Labels', ylabel='count'>"
            ]
          },
          "execution_count": 12,
          "metadata": {},
          "output_type": "execute_result"
        },
        {
          "data": {
            "image/png": "[encoded data removed]",
            "text/plain": [
              "<Figure size 640x480 with 1 Axes>"
            ]
          },
          "metadata": {},
          "output_type": "display_data"
        }
      ],
      "source": [
        "# Mengecek distribusi label pada dataset A-Z\n",
        "# Membuat DataFrame Pandas untuk label dari dataset A-Z.\n",
        "df_az_labels = pd.DataFrame({\n",
        "    'Labels': alphabet_labels.values\n",
        "})\n",
        "# Membuat plot batang menggunakan Seaborn untuk menampilkan distribusi label pada dataset A-Z\n",
        "sns.countplot(df_az_labels, x='Labels')"
      ]
    },
    {
      "cell_type": "markdown",
      "metadata": {
        "id": "8tHHgA0qWHJA"
      },
      "source": [
        "Output yang dihasilkan adalah diagram batang yang menunjukkan sebaran jumlah setiap kelas atau karakter dalam dataset A-Z. Masing-masing batang merepresentasikan jumlah kemunculan setiap karakter.\n",
        "\n",
        "Pada sumbu x memiliki label atau karakter (0-25, karena terdapat 26 karakter A-Z), dan pada sumbu y memiliki jumlah kemunculan setiap karakter dalam dataset.\n",
        "\n",
        "Plot ini membantu dalam memahami sebaran karakter dan memastikan bahwa dataset A-Z tidak memiliki ketidakseimbangan yang signifikan dalam jumlah sampel untuk setiap karakter. Dalam konteks pengenalan karakter, distribusi yang seimbang dapat membantu model mempelajari dengan baik setiap karakter."
      ]
    },
    {
      "cell_type": "markdown",
      "metadata": {
        "id": "YZf14K79sdEC"
      },
      "source": [
        "## Combine Dataset (MNIST + Kaggel A-Z)"
      ]
    },
    {
      "cell_type": "code",
      "execution_count": null,
      "metadata": {
        "colab": {
          "base_uri": "https://localhost:8080/"
        },
        "id": "9voZzZ8Krqk4",
        "outputId": "2b1ea131-7698-4736-cd9c-605b82e70855"
      },
      "outputs": [
        {
          "data": {
            "text/plain": [
              "array([0, 1, 2, 3, 4, 5, 6, 7, 8, 9], dtype=uint8)"
            ]
          },
          "execution_count": 22,
          "metadata": {},
          "output_type": "execute_result"
        }
      ],
      "source": [
        "# Memeriksa nilai unik dari labels untuk dataset digit\n",
        "np.unique(digits_labels)"
      ]
    },
    {
      "cell_type": "markdown",
      "metadata": {
        "id": "i6ozYpasbabm"
      },
      "source": [
        "Output yang dihasilkan berupa array dengan nilai unik dari label digit, yaitu 0, 1, 2, 3, 4, 5, 6, 7, 8, dan 9. Dtype (dtype=uint8) menunjukkan bahwa tipe data label ini adalah unsigned integer dengan 8 bit."
      ]
    },
    {
      "cell_type": "code",
      "execution_count": null,
      "metadata": {
        "colab": {
          "base_uri": "https://localhost:8080/"
        },
        "id": "9ZzBJFKxs1AF",
        "outputId": "8322107a-a81d-473d-fb19-c625c9760f32"
      },
      "outputs": [
        {
          "data": {
            "text/plain": [
              "array([ 0.,  1.,  2.,  3.,  4.,  5.,  6.,  7.,  8.,  9., 10., 11., 12.,\n",
              "       13., 14., 15., 16., 17., 18., 19., 20., 21., 22., 23., 24., 25.],\n",
              "      dtype=float32)"
            ]
          },
          "execution_count": 29,
          "metadata": {},
          "output_type": "execute_result"
        }
      ],
      "source": [
        "# Memeriksa nilai unik dari labels untuk dataset alfabet\n",
        "np.unique(alphabet_labels)"
      ]
    },
    {
      "cell_type": "markdown",
      "metadata": {
        "id": "OMYhWdkibf_w"
      },
      "source": [
        "Output yang dihasilkan berupa array dengan nilai unik dari label alfabet, yaitu 0.0, 1.0, 2.0, ..., 25.0. Dtype (dtype=float32) menunjukkan bahwa tipe data label ini adalah float32. Setelah penambahan (alphabet_labels += 10), nilai uniknya menjadi 10.0, 11.0, 12.0, ..., 35.0."
      ]
    },
    {
      "cell_type": "code",
      "execution_count": null,
      "metadata": {
        "id": "dM0GV8lIsnzf"
      },
      "outputs": [],
      "source": [
        "# Kita tahu bahwa label untuk dataset digit berkisar dari 0-9 (10 label)\n",
        "# Kita juga tahu bahwa label untuk dataset alfabet dimulai dari 0-25 yang merepresentasikan A-Z\n",
        "# Jika kita ingin menggabungkannya, label A-Z seharusnya melanjutkan label dari dataset digit\n",
        "\n",
        "alphabet_labels += 10"
      ]
    },
    {
      "cell_type": "code",
      "execution_count": null,
      "metadata": {
        "colab": {
          "base_uri": "https://localhost:8080/"
        },
        "id": "42YKtJB-tQC6",
        "outputId": "1723273d-c4b3-4f4a-e31f-396807c5817c"
      },
      "outputs": [
        {
          "data": {
            "text/plain": [
              "array([10., 11., 12., 13., 14., 15., 16., 17., 18., 19., 20., 21., 22.,\n",
              "       23., 24., 25., 26., 27., 28., 29., 30., 31., 32., 33., 34., 35.],\n",
              "      dtype=float32)"
            ]
          },
          "execution_count": 31,
          "metadata": {},
          "output_type": "execute_result"
        }
      ],
      "source": [
        "# Memeriksa kembali label alfabet\n",
        "np.unique(alphabet_labels)"
      ]
    },
    {
      "cell_type": "markdown",
      "metadata": {
        "id": "GQ62fN2ZciLO"
      },
      "source": [
        "Setelah penambahan (alphabet_labels += 10), nilai unik dari label pada dataset alfabet menjadi array [10., 11., 12., 13., 14., 15., 16., 17., 18., 19., 20., 21., 22., 23., 24., 25., 26., 27., 28., 29., 30., 31., 32., 33., 34., 35.]. Dtype (dtype=float32) menunjukkan bahwa tipe data label ini adalah float32."
      ]
    },
    {
      "cell_type": "code",
      "execution_count": null,
      "metadata": {
        "id": "1ydXPXiItVVS"
      },
      "outputs": [],
      "source": [
        "# Menggabungkan kedua dataset (digit dan alfabet)\n",
        "data = np.vstack([alphabet_data, digits_data])\n",
        "labels = np.hstack([alphabet_labels, digits_labels])"
      ]
    },
    {
      "cell_type": "code",
      "execution_count": null,
      "metadata": {
        "colab": {
          "base_uri": "https://localhost:8080/"
        },
        "id": "-vYLoXFjuLz7",
        "outputId": "b70d7003-e6ea-4fcd-b6c2-f822cfea9f8e"
      },
      "outputs": [
        {
          "data": {
            "text/plain": [
              "((442450, 28, 28), (442450,))"
            ]
          },
          "execution_count": 33,
          "metadata": {},
          "output_type": "execute_result"
        }
      ],
      "source": [
        "# Memeriksa bentuk (shape) hasil penggabungan\n",
        "data.shape, labels.shape"
      ]
    },
    {
      "cell_type": "markdown",
      "metadata": {
        "id": "zkMKLixTcrqf"
      },
      "source": [
        "- Output (442450, 28, 28) menunjukkan bahwa data sekarang memiliki 442,450 sampel, masing-masing dengan dimensi gambar 28x28 piksel.\n",
        "-  Output (442450,) menunjukkan bahwa terdapat 442,450 label yang sesuai dengan setiap sampel data. Jumlah label sama dengan jumlah sampel data, menunjukkan bahwa setiap sampel memiliki label yang sesuai."
      ]
    },
    {
      "cell_type": "code",
      "execution_count": null,
      "metadata": {
        "colab": {
          "base_uri": "https://localhost:8080/"
        },
        "id": "biyM6WueuRG6",
        "outputId": "c1bf767d-eb07-4b7d-d87e-a5b641330609"
      },
      "outputs": [
        {
          "data": {
            "text/plain": [
              "array([ 0.,  1.,  2.,  3.,  4.,  5.,  6.,  7.,  8.,  9., 10., 11., 12.,\n",
              "       13., 14., 15., 16., 17., 18., 19., 20., 21., 22., 23., 24., 25.,\n",
              "       26., 27., 28., 29., 30., 31., 32., 33., 34., 35.], dtype=float32)"
            ]
          },
          "execution_count": 34,
          "metadata": {},
          "output_type": "execute_result"
        }
      ],
      "source": [
        "# Memeriksa nilai unik dari label gabungan\n",
        "np.unique(labels)"
      ]
    },
    {
      "cell_type": "markdown",
      "metadata": {
        "id": "caL3-f5cdAUR"
      },
      "source": [
        "Output yang dihasilkan adalah array bertipe data float32"
      ]
    },
    {
      "cell_type": "code",
      "execution_count": null,
      "metadata": {
        "id": "vuEt24lhuVfy"
      },
      "outputs": [],
      "source": [
        "# Mengonversi data ke float32\n",
        "data = np.array(data, dtype = 'float32')"
      ]
    },
    {
      "cell_type": "code",
      "execution_count": null,
      "metadata": {
        "colab": {
          "base_uri": "https://localhost:8080/"
        },
        "id": "UC6Vhz59ucdR",
        "outputId": "609826b3-466a-408f-b7e9-3553cbea7f23"
      },
      "outputs": [
        {
          "data": {
            "text/plain": [
              "(442450, 28, 28, 1)"
            ]
          },
          "execution_count": 36,
          "metadata": {},
          "output_type": "execute_result"
        }
      ],
      "source": [
        "# Karena Convolutional Neural Network (CNN) memerlukan data 3D (termasuk kedalaman/depth),\n",
        "# dan gambar-gambar kita hanya dalam format 2D (karena dalam format grayscale),\n",
        "# kita perlu menambahkan \"kedalaman\" ke dalam data\n",
        "data = np.expand_dims(data, axis=-1)\n",
        "\n",
        "# Memeriksa bentuk (shape) hasil akhir data\n",
        "data.shape"
      ]
    },
    {
      "cell_type": "markdown",
      "metadata": {
        "id": "Vdr28tjBdWA3"
      },
      "source": [
        "Output (442450, 28, 28, 1) menunjukkan bahwa data sekarang memiliki 442,450 sampel, masing-masing dengan dimensi gambar 28x28 piksel, dan satu saluran warna (karena ada dimensi kedalaman/depth sebesar 1). Data ini sudah siap untuk digunakan dalam pelatihan model Convolutional Neural Network (CNN)."
      ]
    },
    {
      "cell_type": "markdown",
      "metadata": {
        "id": "xF71lXtSu3YE"
      },
      "source": [
        "# Preprocessing"
      ]
    },
    {
      "cell_type": "code",
      "execution_count": null,
      "metadata": {
        "id": "kFjjP_JLuzbm"
      },
      "outputs": [],
      "source": [
        "# Normalisasi data\n",
        "data /= 255.0"
      ]
    },
    {
      "cell_type": "code",
      "execution_count": null,
      "metadata": {
        "colab": {
          "base_uri": "https://localhost:8080/"
        },
        "id": "zztStKZOu-Dy",
        "outputId": "d6dbcb6e-472c-4884-c9d6-12dbccd742d5"
      },
      "outputs": [
        {
          "data": {
            "text/plain": [
              "(0.0, 1.0)"
            ]
          },
          "execution_count": 38,
          "metadata": {},
          "output_type": "execute_result"
        }
      ],
      "source": [
        "# Memeriksa rentang nilai data\n",
        "data[0].min(), data[0].max()"
      ]
    },
    {
      "cell_type": "code",
      "execution_count": null,
      "metadata": {
        "id": "s2C5yKEGu7vt"
      },
      "outputs": [],
      "source": [
        "# Encode label\n",
        "# LabelBinarizer mirip dengan OneHotEncoder\n",
        "le = LabelBinarizer()\n",
        "labels = le.fit_transform(labels)"
      ]
    },
    {
      "cell_type": "markdown",
      "metadata": {
        "id": "AZ-2u3nqihtl"
      },
      "source": [
        "**Penjelasan**: Menggunakan LabelBinarizer untuk mengkodekan label menjadi bentuk biner (one-hot encoding). Hasilnya adalah array dengan bentuk (442450, 36) karena sekarang terdapat 36 label yang mewakili digit 0-9 dan huruf A-Z."
      ]
    },
    {
      "cell_type": "code",
      "execution_count": null,
      "metadata": {
        "colab": {
          "base_uri": "https://localhost:8080/"
        },
        "id": "Bo1M5YEmvg5x",
        "outputId": "ca4e7b0c-5701-47c7-9486-84b79facdb9e"
      },
      "outputs": [
        {
          "data": {
            "text/plain": [
              "(442450, 36)"
            ]
          },
          "execution_count": 40,
          "metadata": {},
          "output_type": "execute_result"
        }
      ],
      "source": [
        "# Memeriksa bentuk label setelah encoding\n",
        "labels.shape"
      ]
    },
    {
      "cell_type": "code",
      "execution_count": null,
      "metadata": {
        "colab": {
          "base_uri": "https://localhost:8080/",
          "height": 469
        },
        "id": "jCL5ipbsvjpw",
        "outputId": "b46133b6-c13c-45c7-cd3a-41d2dc2f9210"
      },
      "outputs": [
        {
          "data": {
            "text/plain": [
              "Text(0.5, 1.0, '[0 0 0 0 0 0 0 0 0 0 1 0 0 0 0 0 0 0 0 0 0 0 0 0 0 0 0 0 0 0 0 0 0 0 0 0]')"
            ]
          },
          "execution_count": 41,
          "metadata": {},
          "output_type": "execute_result"
        },
        {
          "data": {
            "image/png": "[encoded data removed]",
            "text/plain": [
              "<Figure size 640x480 with 1 Axes>"
            ]
          },
          "metadata": {},
          "output_type": "display_data"
        }
      ],
      "source": [
        "# Memeriksa data dengan label binarizer's label\n",
        "plt.imshow(data[30000].reshape(28,28), cmap='gray')\n",
        "plt.title(str(labels[0]))"
      ]
    },
    {
      "cell_type": "markdown",
      "metadata": {
        "id": "oYZYO4kYjBha"
      },
      "source": [
        "Kode diatas akan menampilkan label biner yang sesuai dengan sampel tersebut. Outputnya adalah Text(0.5, 1.0, '[0 0 0 0 0 0 0 0 0 0 1 0 0 0 0 0 0 0 0 0 0 0 0 0 0 0 0 0 0 0 0 0 0 0 0 0 0]'). Label ini menunjukkan bahwa digit atau huruf yang mewakili sampel tersebut adalah 10, yang sesuai dengan huruf 'A' dalam alfabet."
      ]
    },
    {
      "cell_type": "code",
      "execution_count": null,
      "metadata": {
        "colab": {
          "base_uri": "https://localhost:8080/"
        },
        "id": "njDbZXKzvsx2",
        "outputId": "d87a8416-8644-4e90-82e4-2e09071408f1"
      },
      "outputs": [
        {
          "data": {
            "text/plain": [
              "array([ 6903,  7877,  6990,  7141,  6824,  6313,  6876,  7293,  6825,\n",
              "        6958, 13869,  8668, 23409, 10134, 11440,  1163,  5762,  7218,\n",
              "        1120,  8493,  5603, 11586, 12336, 19010, 57825, 19341,  5812,\n",
              "       11566, 48419, 22495, 29008,  4182, 10784,  6272, 10859,  6076])"
            ]
          },
          "execution_count": 42,
          "metadata": {},
          "output_type": "execute_result"
        }
      ],
      "source": [
        "# Karena datanya tidak seimbang, maka diberikan bobot untuk data 'small'\n",
        "# Memeriksa jumlah data untuk setiap label terlebih dahulu\n",
        "classes_total = labels.sum(axis = 0)\n",
        "classes_total"
      ]
    },
    {
      "cell_type": "markdown",
      "metadata": {
        "id": "nNkAdhMgjv2Y"
      },
      "source": [
        "Menghitung total data untuk setiap label menggunakan fungsi sum pada axis 0, menghasilkan array yang berisi jumlah data untuk setiap label."
      ]
    },
    {
      "cell_type": "code",
      "execution_count": null,
      "metadata": {
        "colab": {
          "base_uri": "https://localhost:8080/"
        },
        "id": "R1hHYtGLv_ZO",
        "outputId": "68a2b17f-1391-4129-dd2a-81effe1f944e"
      },
      "outputs": [
        {
          "data": {
            "text/plain": [
              "57825"
            ]
          },
          "execution_count": 43,
          "metadata": {},
          "output_type": "execute_result"
        }
      ],
      "source": [
        "# Memeriksa nilai tertinggi dari jumlah data\n",
        "classes_total.max()"
      ]
    },
    {
      "cell_type": "markdown",
      "metadata": {
        "id": "1S0HMkWUkAZn"
      },
      "source": [
        "Dari kode diatas, didapatkan nilai tertinggi dari jumlah data yaitu 57825"
      ]
    },
    {
      "cell_type": "code",
      "execution_count": null,
      "metadata": {
        "colab": {
          "base_uri": "https://localhost:8080/"
        },
        "id": "7TJFrxS2wFTO",
        "outputId": "334c50c8-924f-4265-e672-458c6bdd3b33"
      },
      "outputs": [
        {
          "data": {
            "text/plain": [
              "{0: 8.376792698826597,\n",
              " 1: 7.340992763742541,\n",
              " 2: 8.272532188841202,\n",
              " 3: 8.097605377398123,\n",
              " 4: 8.473769050410317,\n",
              " 5: 9.15967052114684,\n",
              " 6: 8.409685863874346,\n",
              " 7: 7.928835870012341,\n",
              " 8: 8.472527472527473,\n",
              " 9: 8.310577752227651,\n",
              " 10: 4.169370538611291,\n",
              " 11: 6.671089063221043,\n",
              " 12: 2.4702037677816224,\n",
              " 13: 5.7060390763765545,\n",
              " 14: 5.0546328671328675,\n",
              " 15: 49.72055030094583,\n",
              " 16: 10.035577924331829,\n",
              " 17: 8.011221945137157,\n",
              " 18: 51.629464285714285,\n",
              " 19: 6.808548216178029,\n",
              " 20: 10.320364090665715,\n",
              " 21: 4.990937338166753,\n",
              " 22: 4.6875,\n",
              " 23: 3.0418200946870066,\n",
              " 24: 1.0,\n",
              " 25: 2.989762680316426,\n",
              " 26: 9.94924294562973,\n",
              " 27: 4.999567698426422,\n",
              " 28: 1.1942625828703608,\n",
              " 29: 2.5705712380529007,\n",
              " 30: 1.993415609487038,\n",
              " 31: 13.827116212338593,\n",
              " 32: 5.362110534124629,\n",
              " 33: 9.21954719387755,\n",
              " 34: 5.3250759738465785,\n",
              " 35: 9.51695194206715}"
            ]
          },
          "execution_count": 44,
          "metadata": {},
          "output_type": "execute_result"
        }
      ],
      "source": [
        "# Membuat bobot untuk setiap data\n",
        "classes_weights = {}\n",
        "for i in range(0, len(classes_total)):\n",
        "  #print(i)\n",
        "  classes_weights[i] = classes_total.max() / classes_total[i]\n",
        "\n",
        "# Memeriksa bobot untuk setiap data\n",
        "classes_weights"
      ]
    },
    {
      "cell_type": "markdown",
      "metadata": {
        "id": "FiP6vbenkagH"
      },
      "source": [
        "**Penjelasan:**\n",
        "Membuat dictionary **classes_weights** yang berisi bobot untuk setiap label. Bobot dihitung sebagai hasil pembagian nilai tertinggi jumlah data dengan jumlah data untuk setiap label. classes_weights menunjukkan bobot untuk setiap label setelah dihitung. Bobot ini akan digunakan dalam pelatihan model untuk menangani ketidakseimbangan data."
      ]
    },
    {
      "cell_type": "markdown",
      "metadata": {
        "id": "VtDS1O6JwSQ5"
      },
      "source": [
        "# Split Data to Train and Test"
      ]
    },
    {
      "cell_type": "code",
      "execution_count": null,
      "metadata": {
        "id": "rV62GJySwM2z"
      },
      "outputs": [],
      "source": [
        "# Memisahkan data menjadi data latih dan data uji dengan menggunakan train_test_split\n",
        "# Stratifikasi dilakukan agar distribusi label pada data latih dan data uji tetap seimbang\n",
        "X_train, X_test, y_train, y_test = train_test_split(data, labels, test_size = 0.2, random_state = 1, stratify = labels)"
      ]
    },
    {
      "cell_type": "markdown",
      "metadata": {
        "id": "q7Hs5GwGxw4E"
      },
      "source": [
        "## Create Data Augmentation"
      ]
    },
    {
      "cell_type": "code",
      "execution_count": null,
      "metadata": {
        "id": "Xn1jiVn9x2Gx"
      },
      "outputs": [],
      "source": [
        "# Import library ImageDataGenerator dari Keras untuk augmentasi data\n",
        "from tensorflow.keras.preprocessing.image import ImageDataGenerator"
      ]
    },
    {
      "cell_type": "code",
      "execution_count": null,
      "metadata": {
        "id": "su41P3box6Zm"
      },
      "outputs": [],
      "source": [
        "# Membuat objek ImageDataGenerator untuk augmentasi data\n",
        "augmentation = ImageDataGenerator(rotation_range = 10, zoom_range=0.05, width_shift_range=0.1,\n",
        "                                  height_shift_range=0.1, horizontal_flip = False)"
      ]
    },
    {
      "cell_type": "markdown",
      "metadata": {
        "id": "GYwIT1TZw8SM"
      },
      "source": [
        "# Build CNN Model"
      ]
    },
    {
      "cell_type": "code",
      "execution_count": null,
      "metadata": {
        "id": "nvQ2Ly4zwX8z"
      },
      "outputs": [],
      "source": [
        "# Import library\n",
        "from tensorflow.keras.models import Sequential # Model sequential digunakan untuk menumpuk layer secara berurutan.\n",
        "# Conv2D: Layer konvolusi untuk mengekstraksi fitur dari input.\n",
        "# MaxPool2D: Layer pooling untuk mereduksi dimensi spasial.\n",
        "# Flatten: Layer untuk meratakan output menjadi satu dimensi.\n",
        "# Dense: Layer fully connected (dense layer) untuk menghubungkan semua neuron dalam satu layer dengan semua neuron dalam layer berikutnya.\n",
        "from tensorflow.keras.layers import Conv2D, MaxPool2D, Flatten, Dense\n",
        "from tensorflow.keras.callbacks import ModelCheckpoint # untuk menyimpan model selama pelatihan."
      ]
    },
    {
      "cell_type": "code",
      "execution_count": null,
      "metadata": {
        "id": "icRreUChxAwF"
      },
      "outputs": [],
      "source": [
        "# Membangun model Convolutional Neural Network (CNN)\n",
        "network = Sequential()\n",
        "# Menambahkan layer Convolutional pertama dengan 32 filter, kernel size 3x3, fungsi aktivasi ReLU, dan input shape 28x28x1\n",
        "network.add(Conv2D(filters = 32, kernel_size=(3,3), activation='relu', input_shape=(28,28,1)))\n",
        "# Menambahkan layer MaxPooling untuk mereduksi dimensi spasial\n",
        "network.add(MaxPool2D(pool_size=(2,2)))\n",
        "# Menambahkan layer Convolutional kedua dengan 64 filter, kernel size 3x3, fungsi aktivasi ReLU, dan padding sama\n",
        "network.add(Conv2D(filters = 64, kernel_size=(3,3), activation='relu', padding='same'))\n",
        "# Menambahkan layer MaxPooling\n",
        "network.add(MaxPool2D(pool_size=(2,2)))\n",
        "# Menambahkan layer Convolutional ketiga dengan 128 filter, kernel size 3x3, fungsi aktivasi ReLU, dan padding valid\n",
        "network.add(Conv2D(filters = 128, kernel_size=(3,3), activation='relu', padding='valid'))\n",
        "# Menambahkan layer MaxPooling\n",
        "network.add(MaxPool2D(pool_size=(2,2)))\n",
        "# Meratakan output menjadi satu dimensi\n",
        "network.add(Flatten())\n",
        "# Menambahkan layer Dense pertama dengan 64 neuron dan fungsi aktivasi ReLU\n",
        "network.add(Dense(64, activation = 'relu'))\n",
        "# Menambahkan layer Dense kedua dengan 128 neuron dan fungsi aktivasi ReLU\n",
        "network.add(Dense(128, activation = 'relu'))\n",
        "#Menambahkan layer Dense terakhir dengan 36 neuron (sesuai jumlah kelas) dan fungsi aktivasi softmax\n",
        "network.add(Dense(36, activation='softmax'))\n",
        "# Mengompilasi model dengan fungsi loss categorical_crossentropy, optimizer Adam, dan metrik akurasi\n",
        "network.compile(loss = 'categorical_crossentropy', optimizer = 'adam', metrics = ['accuracy'])"
      ]
    },
    {
      "cell_type": "code",
      "execution_count": null,
      "metadata": {
        "colab": {
          "base_uri": "https://localhost:8080/"
        },
        "id": "nAuCYbRWxIKl",
        "outputId": "7666d595-fced-4601-f763-098041039bb2"
      },
      "outputs": [
        {
          "name": "stdout",
          "output_type": "stream",
          "text": [
            "Model: \"sequential\"\n",
            "_________________________________________________________________\n",
            " Layer (type)                Output Shape              Param #   \n",
            "=================================================================\n",
            " conv2d (Conv2D)             (None, 26, 26, 32)        320       \n",
            "                                                                 \n",
            " max_pooling2d (MaxPooling2  (None, 13, 13, 32)        0         \n",
            " D)                                                              \n",
            "                                                                 \n",
            " conv2d_1 (Conv2D)           (None, 13, 13, 64)        18496     \n",
            "                                                                 \n",
            " max_pooling2d_1 (MaxPoolin  (None, 6, 6, 64)          0         \n",
            " g2D)                                                            \n",
            "                                                                 \n",
            " conv2d_2 (Conv2D)           (None, 4, 4, 128)         73856     \n",
            "                                                                 \n",
            " max_pooling2d_2 (MaxPoolin  (None, 2, 2, 128)         0         \n",
            " g2D)                                                            \n",
            "                                                                 \n",
            " flatten (Flatten)           (None, 512)               0         \n",
            "                                                                 \n",
            " dense (Dense)               (None, 64)                32832     \n",
            "                                                                 \n",
            " dense_1 (Dense)             (None, 128)               8320      \n",
            "                                                                 \n",
            " dense_2 (Dense)             (None, 36)                4644      \n",
            "                                                                 \n",
            "=================================================================\n",
            "Total params: 138468 (540.89 KB)\n",
            "Trainable params: 138468 (540.89 KB)\n",
            "Non-trainable params: 0 (0.00 Byte)\n",
            "_________________________________________________________________\n"
          ]
        }
      ],
      "source": [
        "# Menampilkan ringkasan (summary) dari model\n",
        "network.summary()"
      ]
    },
    {
      "cell_type": "markdown",
      "metadata": {
        "id": "qUt9UvcHo5GQ"
      },
      "source": [
        "Penjelasan:\n",
        "- Model yang digunakan adalah sequential.\n",
        "- Setiap layer dalam model diberi label \"Layer (type)\" dan informasi output shape dari layer tersebut. Misalnya, layer pertama adalah Conv2D dengan output shape (None, 26, 26, 32), yang artinya outputnya memiliki dimensi 26x26 dengan 32 channel (filter).Layer MaxPooling2D kemudian mengurangi dimensi spasial menjadi setengahnya untuk setiap dimensi (output shape: (None, 13, 13, 32)).\n",
        "- Param # menunjukkan jumlah parameter yang dapat di-train oleh model pada setiap layer. Misalnya, Conv2D pertama memiliki 320 parameter yang dapat diatur selama proses pelatihan.\n",
        "- Total params: Jumlah total parameter di seluruh model, termasuk parameter yang dapat di-train dan yang tidak dapat di-train.\n",
        "- Trainable params: Jumlah parameter yang dapat di-train oleh model.\n",
        "- Non-trainable params: Jumlah parameter yang tidak dapat di-train, misalnya, parameter dalam layer MaxPooling yang tidak memerlukan penyesuaian selama pelatihan.\n",
        "- Memory Usage menunjukkan perkiraan penggunaan memori oleh model.\n",
        "- Berdasarkan hasil diatas, model ini memiliki total 138,468 parameter yang dapat diatur selama pelatihan. Seluruh parameter tersebut dapat di-train, dan tidak ada parameter yang tidak dapat di-train.\n",
        "Model memiliki struktur yang terdiri dari beberapa lapisan Conv2D, MaxPooling2D, Flatten, dan Dense."
      ]
    },
    {
      "cell_type": "code",
      "execution_count": null,
      "metadata": {
        "colab": {
          "base_uri": "https://localhost:8080/"
        },
        "id": "o7Vc4ly2xMhk",
        "outputId": "e1b8c0f1-30fd-4908-a4cd-ad4717e377fd"
      },
      "outputs": [
        {
          "name": "stdout",
          "output_type": "stream",
          "text": [
            "['0', '1', '2', '3', '4', '5', '6', '7', '8', '9', 'A', 'B', 'C', 'D', 'E', 'F', 'G', 'H', 'I', 'J', 'K', 'L', 'M', 'N', 'O', 'P', 'Q', 'R', 'S', 'T', 'U', 'V', 'W', 'X', 'Y', 'Z']\n"
          ]
        }
      ],
      "source": [
        "# Membuat label sesuai dengan kelas pada dataset\n",
        "name_labels = '0123456789'\n",
        "name_labels += 'ABCDEFGHIJKLMNOPQRSTUVWXYZ'\n",
        "name_labels = [l for l in name_labels]\n",
        "\n",
        "# Menampilkan label sesuai dengan kelas yang diharapkan\n",
        "print(name_labels)"
      ]
    },
    {
      "cell_type": "markdown",
      "metadata": {
        "id": "-J647sYPqfEP"
      },
      "source": [
        "Penjelasan\n",
        "- Kode diatas bertujuan untuk membuat label sesuai dengan kelas yang ada dalam dataset, di mana dataset memiliki kelas dari 0 hingga 35. Label tersebut mencakup digit 0-9 dan huruf A-Z.\n",
        "- Hasil output menunjukkan label yang diharapkan sesuai dengan urutan kelas pada dataset."
      ]
    },
    {
      "cell_type": "markdown",
      "metadata": {
        "id": "DH7hSW38xX6e"
      },
      "source": [
        "## Train model"
      ]
    },
    {
      "cell_type": "code",
      "execution_count": null,
      "metadata": {
        "id": "rNQ_-PY7xVRD"
      },
      "outputs": [],
      "source": [
        "# Set model name, epoch, and batch size\n",
        "file_model = 'custom_ocr.model'  # Nama file untuk menyimpan model yang telah dilatih.\n",
        "epochs = 20 # Jumlah epoch yang digunakan dalam pelatihan model.\n",
        "batch_size = 128 # Ukuran batch yang digunakan dalam pelatihan model."
      ]
    },
    {
      "cell_type": "code",
      "execution_count": null,
      "metadata": {
        "id": "F8Orj5UQxdtr"
      },
      "outputs": [],
      "source": [
        "# Menyiapkan checkpoint untuk menyimpan model terbaik berdasarkan validasi loss\n",
        "checkpointer = ModelCheckpoint(file_model, monitor = 'val_loss', verbose = 1, save_best_only=True)"
      ]
    },
    {
      "cell_type": "code",
      "execution_count": null,
      "metadata": {
        "colab": {
          "base_uri": "https://localhost:8080/"
        },
        "id": "enFAwiaxxkgx",
        "outputId": "6e0fd8ff-8995-406e-fd93-c14230f6f6be"
      },
      "outputs": [
        {
          "name": "stdout",
          "output_type": "stream",
          "text": [
            "Epoch 1/20\n",
            "2765/2765 [==============================] - ETA: 0s - loss: 2.1777 - accuracy: 0.8264\n",
            "Epoch 1: val_loss improved from inf to 0.25659, saving model to custom_ocr.model\n",
            "2765/2765 [==============================] - 156s 52ms/step - loss: 2.1777 - accuracy: 0.8264 - val_loss: 0.2566 - val_accuracy: 0.8960\n",
            "Epoch 2/20\n",
            "2765/2765 [==============================] - ETA: 0s - loss: 1.0106 - accuracy: 0.8998\n",
            "Epoch 2: val_loss improved from 0.25659 to 0.19505, saving model to custom_ocr.model\n",
            "2765/2765 [==============================] - 138s 50ms/step - loss: 1.0106 - accuracy: 0.8998 - val_loss: 0.1950 - val_accuracy: 0.9317\n",
            "Epoch 3/20\n",
            "2764/2765 [============================>.] - ETA: 0s - loss: 0.8333 - accuracy: 0.9127\n",
            "Epoch 3: val_loss did not improve from 0.19505\n",
            "2765/2765 [==============================] - 145s 52ms/step - loss: 0.8333 - accuracy: 0.9127 - val_loss: 0.2853 - val_accuracy: 0.8810\n",
            "Epoch 4/20\n",
            "2764/2765 [============================>.] - ETA: 0s - loss: 0.7434 - accuracy: 0.9196\n",
            "Epoch 4: val_loss did not improve from 0.19505\n",
            "2765/2765 [==============================] - 147s 53ms/step - loss: 0.7433 - accuracy: 0.9196 - val_loss: 0.2209 - val_accuracy: 0.9080\n",
            "Epoch 5/20\n",
            "2765/2765 [==============================] - ETA: 0s - loss: 0.6726 - accuracy: 0.9253\n",
            "Epoch 5: val_loss did not improve from 0.19505\n",
            "2765/2765 [==============================] - 147s 53ms/step - loss: 0.6726 - accuracy: 0.9253 - val_loss: 0.2150 - val_accuracy: 0.9149\n",
            "Epoch 6/20\n",
            "2764/2765 [============================>.] - ETA: 0s - loss: 0.6209 - accuracy: 0.9293\n",
            "Epoch 6: val_loss did not improve from 0.19505\n",
            "2765/2765 [==============================] - 149s 54ms/step - loss: 0.6211 - accuracy: 0.9293 - val_loss: 0.2927 - val_accuracy: 0.8739\n",
            "Epoch 7/20\n",
            "2765/2765 [==============================] - ETA: 0s - loss: 0.5888 - accuracy: 0.9323\n",
            "Epoch 7: val_loss did not improve from 0.19505\n",
            "2765/2765 [==============================] - 145s 53ms/step - loss: 0.5888 - accuracy: 0.9323 - val_loss: 0.2226 - val_accuracy: 0.9089\n",
            "Epoch 8/20\n",
            "2764/2765 [============================>.] - ETA: 0s - loss: 0.5577 - accuracy: 0.9345\n",
            "Epoch 8: val_loss did not improve from 0.19505\n",
            "2765/2765 [==============================] - 145s 52ms/step - loss: 0.5576 - accuracy: 0.9345 - val_loss: 0.2752 - val_accuracy: 0.8816\n",
            "Epoch 9/20\n",
            "2765/2765 [==============================] - ETA: 0s - loss: 0.5356 - accuracy: 0.9361\n",
            "Epoch 9: val_loss did not improve from 0.19505\n",
            "2765/2765 [==============================] - 144s 52ms/step - loss: 0.5356 - accuracy: 0.9361 - val_loss: 0.2670 - val_accuracy: 0.8833\n",
            "Epoch 10/20\n",
            "2765/2765 [==============================] - ETA: 0s - loss: 0.5228 - accuracy: 0.9378\n",
            "Epoch 10: val_loss did not improve from 0.19505\n",
            "2765/2765 [==============================] - 144s 52ms/step - loss: 0.5228 - accuracy: 0.9378 - val_loss: 0.2570 - val_accuracy: 0.8891\n",
            "Epoch 11/20\n",
            "2765/2765 [==============================] - ETA: 0s - loss: 0.5086 - accuracy: 0.9383\n",
            "Epoch 11: val_loss improved from 0.19505 to 0.18704, saving model to custom_ocr.model\n",
            "2765/2765 [==============================] - 138s 50ms/step - loss: 0.5086 - accuracy: 0.9383 - val_loss: 0.1870 - val_accuracy: 0.9301\n",
            "Epoch 12/20\n",
            "2765/2765 [==============================] - ETA: 0s - loss: 0.4876 - accuracy: 0.9405\n",
            "Epoch 12: val_loss improved from 0.18704 to 0.18196, saving model to custom_ocr.model\n",
            "2765/2765 [==============================] - 141s 51ms/step - loss: 0.4876 - accuracy: 0.9405 - val_loss: 0.1820 - val_accuracy: 0.9277\n",
            "Epoch 13/20\n",
            "2764/2765 [============================>.] - ETA: 0s - loss: 0.4767 - accuracy: 0.9415\n",
            "Epoch 13: val_loss did not improve from 0.18196\n",
            "2765/2765 [==============================] - 141s 51ms/step - loss: 0.4767 - accuracy: 0.9414 - val_loss: 0.3041 - val_accuracy: 0.8695\n",
            "Epoch 14/20\n",
            "2764/2765 [============================>.] - ETA: 0s - loss: 0.4717 - accuracy: 0.9422\n",
            "Epoch 14: val_loss did not improve from 0.18196\n",
            "2765/2765 [==============================] - 140s 51ms/step - loss: 0.4717 - accuracy: 0.9422 - val_loss: 0.2019 - val_accuracy: 0.9179\n",
            "Epoch 15/20\n",
            "2764/2765 [============================>.] - ETA: 0s - loss: 0.4577 - accuracy: 0.9442\n",
            "Epoch 15: val_loss improved from 0.18196 to 0.17618, saving model to custom_ocr.model\n",
            "2765/2765 [==============================] - 137s 50ms/step - loss: 0.4576 - accuracy: 0.9442 - val_loss: 0.1762 - val_accuracy: 0.9375\n",
            "Epoch 16/20\n",
            "2765/2765 [==============================] - ETA: 0s - loss: 0.4521 - accuracy: 0.9444\n",
            "Epoch 16: val_loss did not improve from 0.17618\n",
            "2765/2765 [==============================] - 143s 52ms/step - loss: 0.4521 - accuracy: 0.9444 - val_loss: 0.1873 - val_accuracy: 0.9281\n",
            "Epoch 17/20\n",
            "2765/2765 [==============================] - ETA: 0s - loss: 0.4383 - accuracy: 0.9460\n",
            "Epoch 17: val_loss did not improve from 0.17618\n",
            "2765/2765 [==============================] - 144s 52ms/step - loss: 0.4383 - accuracy: 0.9460 - val_loss: 0.2801 - val_accuracy: 0.8940\n",
            "Epoch 18/20\n",
            "2765/2765 [==============================] - ETA: 0s - loss: 0.4336 - accuracy: 0.9463\n",
            "Epoch 18: val_loss improved from 0.17618 to 0.15605, saving model to custom_ocr.model\n",
            "2765/2765 [==============================] - 144s 52ms/step - loss: 0.4336 - accuracy: 0.9463 - val_loss: 0.1561 - val_accuracy: 0.9454\n",
            "Epoch 19/20\n",
            "2764/2765 [============================>.] - ETA: 0s - loss: 0.4215 - accuracy: 0.9475\n",
            "Epoch 19: val_loss did not improve from 0.15605\n",
            "2765/2765 [==============================] - 140s 50ms/step - loss: 0.4214 - accuracy: 0.9475 - val_loss: 0.1610 - val_accuracy: 0.9429\n",
            "Epoch 20/20\n",
            "2765/2765 [==============================] - ETA: 0s - loss: 0.4218 - accuracy: 0.9474\n",
            "Epoch 20: val_loss did not improve from 0.15605\n",
            "2765/2765 [==============================] - 139s 50ms/step - loss: 0.4218 - accuracy: 0.9474 - val_loss: 0.1624 - val_accuracy: 0.9437\n"
          ]
        }
      ],
      "source": [
        "# Melatih model menggunakan data augmented pada set pelatihan dan validasi pada set pengujian\n",
        "history = network.fit(augmentation.flow(X_train, y_train, batch_size=batch_size),\n",
        "                      validation_data = (X_test, y_test),\n",
        "                      steps_per_epoch = len(X_train) // batch_size, epochs=epochs,\n",
        "                      class_weight = classes_weights, verbose=1, callbacks=[checkpointer])"
      ]
    },
    {
      "cell_type": "markdown",
      "metadata": {
        "id": "bM4mGoWL6jxk"
      },
      "source": [
        "# Evaluate Model"
      ]
    },
    {
      "cell_type": "markdown",
      "metadata": {
        "id": "ig0TiV6N7V29"
      },
      "source": [
        "## Make a Single Prediction"
      ]
    },
    {
      "cell_type": "code",
      "execution_count": null,
      "metadata": {
        "colab": {
          "base_uri": "https://localhost:8080/"
        },
        "id": "WDJUSW-l6lEl",
        "outputId": "7af107ef-f1df-4242-9850-753cc164e342"
      },
      "outputs": [
        {
          "name": "stdout",
          "output_type": "stream",
          "text": [
            "692/692 [==============================] - 2s 2ms/step\n"
          ]
        }
      ],
      "source": [
        "# Melakukan prediksi menggunakan model pada set pengujian\n",
        "predictions = network.predict(X_test, batch_size=batch_size)"
      ]
    },
    {
      "cell_type": "code",
      "execution_count": null,
      "metadata": {
        "colab": {
          "base_uri": "https://localhost:8080/"
        },
        "id": "tQ5Ta4b96pEt",
        "outputId": "a22d5458-435b-4ba8-bd50-38d439249d45"
      },
      "outputs": [
        {
          "data": {
            "text/plain": [
              "array([5.3527969e-25, 5.8049221e-14, 4.0213544e-12, 1.3124439e-19,\n",
              "       5.1558836e-20, 3.1506889e-16, 5.6150808e-24, 5.9828532e-14,\n",
              "       1.8165324e-20, 2.3064355e-19, 2.5314564e-16, 3.8836421e-16,\n",
              "       7.9688411e-15, 9.2529495e-10, 5.0608535e-18, 2.2527727e-21,\n",
              "       6.2655583e-16, 4.1960335e-15, 9.9996996e-01, 3.0052957e-05,\n",
              "       5.3712839e-19, 3.7623951e-13, 3.1540118e-21, 3.0894412e-17,\n",
              "       9.4840691e-11, 3.1979346e-14, 3.9503299e-22, 6.2100726e-22,\n",
              "       2.4410747e-13, 2.9556455e-09, 1.2233354e-14, 4.5528310e-19,\n",
              "       6.1806992e-21, 1.7039613e-15, 7.0195558e-16, 1.0227894e-12],\n",
              "      dtype=float32)"
            ]
          },
          "execution_count": 56,
          "metadata": {},
          "output_type": "execute_result"
        }
      ],
      "source": [
        "# Menampilkan prediksi untuk data pertama (index 1)\n",
        "# Probabilitas untuk setiap label akan ditampilkan, dan label dengan probabilitas tertinggi akan menjadi prediksi\n",
        "predictions[1]"
      ]
    },
    {
      "cell_type": "code",
      "execution_count": null,
      "metadata": {
        "colab": {
          "base_uri": "https://localhost:8080/"
        },
        "id": "9THTrYAH64g8",
        "outputId": "a4cd2d5b-e165-44cc-e535-13f40dd5a6b8"
      },
      "outputs": [
        {
          "data": {
            "text/plain": [
              "18"
            ]
          },
          "execution_count": 57,
          "metadata": {},
          "output_type": "execute_result"
        }
      ],
      "source": [
        "# Mendapatkan prediksi aktual dari nilai tertinggi pada probabilitas\n",
        "np.argmax(predictions[1])"
      ]
    },
    {
      "cell_type": "code",
      "execution_count": null,
      "metadata": {
        "colab": {
          "base_uri": "https://localhost:8080/",
          "height": 35
        },
        "id": "pG6n2eTI6-Ly",
        "outputId": "998b1271-47ae-4721-9636-56242d7d9701"
      },
      "outputs": [
        {
          "data": {
            "application/vnd.google.colaboratory.intrinsic+json": {
              "type": "string"
            },
            "text/plain": [
              "'I'"
            ]
          },
          "execution_count": 58,
          "metadata": {},
          "output_type": "execute_result"
        }
      ],
      "source": [
        "# Menampilkan label sesuai dengan indeks prediksi\n",
        "name_labels[18]"
      ]
    },
    {
      "cell_type": "code",
      "execution_count": null,
      "metadata": {
        "colab": {
          "base_uri": "https://localhost:8080/"
        },
        "id": "chDSvyYq7Bxq",
        "outputId": "57ae0a38-bba1-4d44-a31d-9c1ade0a6f96"
      },
      "outputs": [
        {
          "data": {
            "text/plain": [
              "array([0, 0, 0, 0, 0, 0, 0, 0, 0, 0, 0, 0, 0, 0, 0, 0, 0, 0, 1, 0, 0, 0,\n",
              "       0, 0, 0, 0, 0, 0, 0, 0, 0, 0, 0, 0, 0, 0])"
            ]
          },
          "execution_count": 59,
          "metadata": {},
          "output_type": "execute_result"
        }
      ],
      "source": [
        "# Menampilkan label sesuai dengan indeks y_test untuk data pertama (index 1)\n",
        "y_test[1]"
      ]
    },
    {
      "cell_type": "code",
      "execution_count": null,
      "metadata": {
        "colab": {
          "base_uri": "https://localhost:8080/"
        },
        "id": "BpoE99Us7KpZ",
        "outputId": "11be2805-90ff-4ba8-c992-52aac474957d"
      },
      "outputs": [
        {
          "data": {
            "text/plain": [
              "18"
            ]
          },
          "execution_count": 60,
          "metadata": {},
          "output_type": "execute_result"
        }
      ],
      "source": [
        "# Menampilkan indeks dengan nilai tertinggi pada label y_test untuk data pertama\n",
        "np.argmax(y_test[1])"
      ]
    },
    {
      "cell_type": "code",
      "execution_count": null,
      "metadata": {
        "colab": {
          "base_uri": "https://localhost:8080/",
          "height": 35
        },
        "id": "KjJRX1lC7Ppw",
        "outputId": "cdca6cc6-e26e-42f4-c7d4-8c358eb92875"
      },
      "outputs": [
        {
          "data": {
            "application/vnd.google.colaboratory.intrinsic+json": {
              "type": "string"
            },
            "text/plain": [
              "'S'"
            ]
          },
          "execution_count": 61,
          "metadata": {},
          "output_type": "execute_result"
        }
      ],
      "source": [
        "# Menampilkan label sesuai dengan indeks y_test untuk data pertama\n",
        "name_labels[np.argmax(y_test[18])]"
      ]
    },
    {
      "cell_type": "markdown",
      "metadata": {
        "id": "_xFS3-cs7a0x"
      },
      "source": [
        "## Make an Evaluation on Test Data"
      ]
    },
    {
      "cell_type": "code",
      "execution_count": null,
      "metadata": {
        "colab": {
          "base_uri": "https://localhost:8080/"
        },
        "id": "t-rko8WP7TYA",
        "outputId": "a2b94933-add1-4c58-a450-8566444ea917"
      },
      "outputs": [
        {
          "name": "stdout",
          "output_type": "stream",
          "text": [
            "2766/2766 [==============================] - 9s 3ms/step - loss: 0.1624 - accuracy: 0.9437\n"
          ]
        },
        {
          "data": {
            "text/plain": [
              "[0.1623644381761551, 0.9437224268913269]"
            ]
          },
          "execution_count": 62,
          "metadata": {},
          "output_type": "execute_result"
        }
      ],
      "source": [
        "# Evaluasi model pada data uji\n",
        "# Menampilkan nilai loss dan akurasi pada data uji.\n",
        "network.evaluate(X_test, y_test)"
      ]
    },
    {
      "cell_type": "code",
      "execution_count": null,
      "metadata": {
        "colab": {
          "base_uri": "https://localhost:8080/"
        },
        "id": "VkQtgoCq7gx2",
        "outputId": "32bf6935-c5fa-4be8-e8ec-196a0fff6499"
      },
      "outputs": [
        {
          "name": "stdout",
          "output_type": "stream",
          "text": [
            "              precision    recall  f1-score   support\n",
            "\n",
            "           0       0.33      0.66      0.44      1381\n",
            "           1       0.97      0.99      0.98      1575\n",
            "           2       0.90      0.97      0.94      1398\n",
            "           3       0.95      0.99      0.97      1428\n",
            "           4       0.88      0.98      0.93      1365\n",
            "           5       0.63      0.94      0.76      1263\n",
            "           6       0.96      0.97      0.97      1375\n",
            "           7       0.92      1.00      0.96      1459\n",
            "           8       0.94      0.99      0.97      1365\n",
            "           9       0.97      0.97      0.97      1392\n",
            "           A       0.99      0.99      0.99      2774\n",
            "           B       0.98      0.98      0.98      1734\n",
            "           C       0.99      0.99      0.99      4682\n",
            "           D       0.85      0.98      0.91      2027\n",
            "           E       1.00      0.98      0.99      2288\n",
            "           F       0.98      0.99      0.99       233\n",
            "           G       0.97      0.94      0.95      1152\n",
            "           H       0.98      0.97      0.97      1444\n",
            "           I       0.97      0.98      0.98       224\n",
            "           J       0.91      0.99      0.95      1698\n",
            "           K       0.97      0.98      0.98      1121\n",
            "           L       0.99      0.97      0.98      2317\n",
            "           M       0.98      1.00      0.99      2467\n",
            "           N       0.99      0.99      0.99      3802\n",
            "           O       0.96      0.82      0.88     11565\n",
            "           P       1.00      0.99      0.99      3868\n",
            "           Q       0.99      0.97      0.98      1162\n",
            "           R       1.00      0.98      0.99      2313\n",
            "           S       0.99      0.92      0.95      9684\n",
            "           T       1.00      0.97      0.98      4499\n",
            "           U       0.99      0.96      0.98      5801\n",
            "           V       0.91      1.00      0.95       836\n",
            "           W       0.97      0.99      0.98      2157\n",
            "           X       0.95      0.99      0.97      1254\n",
            "           Y       0.98      0.92      0.95      2172\n",
            "           Z       0.97      0.93      0.94      1215\n",
            "\n",
            "    accuracy                           0.94     88490\n",
            "   macro avg       0.94      0.96      0.95     88490\n",
            "weighted avg       0.96      0.94      0.95     88490\n",
            "\n"
          ]
        }
      ],
      "source": [
        "# Menampilkan Classification Report yang berisi precision, recall, dan f1-score untuk setiap kelas. Classification Report ini memberikan informasi yang lebih rinci tentang kinerja model pada setiap kelas.\n",
        "print(classification_report(y_test.argmax(axis=1), predictions.argmax(axis=1), target_names = name_labels))"
      ]
    },
    {
      "cell_type": "markdown",
      "metadata": {
        "id": "cz22-KVcuUQm"
      },
      "source": [
        "Dengan menggabungkan informasi dari precision, recall, dan F1-score, laporan klasifikasi memberikan gambaran komprehensif tentang kinerja model pada setiap kelas dan secara keseluruhan. Sebagai contoh, model ini memiliki akurasi yang tinggi, tetapi untuk beberapa kelas, seperti '0', '5', 'J', 'O', dan 'Z', performanya mungkin lebih rendah dibandingkan dengan kelas lainnya. Ini bisa menjadi hasil dari ketidakseimbangan data atau faktor lain yang mempengaruhi kinerja model pada kelas-kelas tersebut."
      ]
    },
    {
      "cell_type": "code",
      "execution_count": null,
      "metadata": {
        "colab": {
          "base_uri": "https://localhost:8080/",
          "height": 447
        },
        "id": "mIETfqMu7nv1",
        "outputId": "6e5e2ca0-2709-494a-e9cf-3c5260fdd029"
      },
      "outputs": [
        {
          "data": {
            "text/plain": [
              "[<matplotlib.lines.Line2D at 0x78b3d1b33160>]"
            ]
          },
          "execution_count": 64,
          "metadata": {},
          "output_type": "execute_result"
        },
        {
          "data": {
            "image/png": "[encoded data removed]",
            "text/plain": [
              "<Figure size 640x480 with 1 Axes>"
            ]
          },
          "metadata": {},
          "output_type": "display_data"
        }
      ],
      "source": [
        "# Visualisasi Loss untuk setiap epoch\n",
        "plt.plot(history.history['val_loss'])"
      ]
    },
    {
      "cell_type": "markdown",
      "metadata": {
        "id": "BnAu6nzEwD4k"
      },
      "source": [
        "Penjelasan: <br>\n",
        "Membuat plot dari nilai loss pada set data validasi (val_loss) untuk setiap epoch selama pelatihan model. Plot ini memberikan informasi tentang bagaimana loss pada data validasi berubah selama proses pelatihan. Jika garis loss menurun, itu menunjukkan bahwa model semakin baik dalam mengeneralisasi pada data yang tidak digunakan selama pelatihan."
      ]
    },
    {
      "cell_type": "code",
      "execution_count": null,
      "metadata": {
        "colab": {
          "base_uri": "https://localhost:8080/"
        },
        "id": "mNUP1QP17vas",
        "outputId": "9223e4ae-bd63-431e-f3e2-7b13750554f5"
      },
      "outputs": [
        {
          "data": {
            "text/plain": [
              "dict_keys(['loss', 'accuracy', 'val_loss', 'val_accuracy'])"
            ]
          },
          "execution_count": 65,
          "metadata": {},
          "output_type": "execute_result"
        }
      ],
      "source": [
        "# Mengakses metrics lain\n",
        "history.history.keys()"
      ]
    },
    {
      "cell_type": "markdown",
      "metadata": {
        "id": "C_dYSUpUwTZZ"
      },
      "source": [
        "Output dari kode diatas adalah dict_keys(['loss', 'accuracy', 'val_loss', 'val_accuracy']), yang menunjukkan bahwa selain loss, kita juga memiliki metrik akurasi (accuracy) dan metrik yang sesuai pada set data validasi (val_accuracy)."
      ]
    },
    {
      "cell_type": "code",
      "execution_count": null,
      "metadata": {
        "colab": {
          "base_uri": "https://localhost:8080/",
          "height": 447
        },
        "id": "VwEZzjEa716s",
        "outputId": "1abb0afc-048b-4a30-a4ff-48b9b3ed0442"
      },
      "outputs": [
        {
          "data": {
            "text/plain": [
              "[<matplotlib.lines.Line2D at 0x78b3d2a8d840>]"
            ]
          },
          "execution_count": 66,
          "metadata": {},
          "output_type": "execute_result"
        },
        {
          "data": {
            "image/png": "[encoded data removed]",
            "text/plain": [
              "<Figure size 640x480 with 1 Axes>"
            ]
          },
          "metadata": {},
          "output_type": "display_data"
        }
      ],
      "source": [
        "# visualisasi validation accuracy\n",
        "plt.plot(history.history['val_accuracy'])"
      ]
    },
    {
      "cell_type": "markdown",
      "metadata": {
        "id": "jDguG97UwpHc"
      },
      "source": [
        "Penjelasan : <br>\n",
        "Membuat plot dari nilai akurasi pada set data validasi (val_accuracy) untuk setiap epoch selama pelatihan. Plot ini memberikan gambaran tentang sejauh mana model dapat memprediksi dengan benar pada data yang tidak digunakan selama pelatihan."
      ]
    },
    {
      "cell_type": "markdown",
      "metadata": {
        "id": "D0rviDyl79Bk"
      },
      "source": [
        "# Save The Model"
      ]
    },
    {
      "cell_type": "code",
      "execution_count": null,
      "metadata": {
        "colab": {
          "base_uri": "https://localhost:8080/"
        },
        "id": "QZ4ftlmq76nC",
        "outputId": "100d4ebb-9624-4ec9-c12e-ed4270b194cd"
      },
      "outputs": [
        {
          "name": "stderr",
          "output_type": "stream",
          "text": [
            "/usr/local/lib/python3.10/dist-packages/keras/src/engine/training.py:3079: UserWarning: You are saving your model as an HDF5 file via `model.save()`. This file format is considered legacy. We recommend using instead the native Keras format, e.g. `model.save('my_model.keras')`.\n",
            "  saving_api.save_model(\n"
          ]
        }
      ],
      "source": [
        "# menyimpan model ke dalam file 'network.h5' di direktori saat ini. save_format='h5' menunjukkan bahwa format penyimpanan yang digunakan adalah 'h5' (HDF5), format umum yang mendukung penyimpanan model TensorFlow.\n",
        "network.save('network', save_format= 'h5')"
      ]
    },
    {
      "cell_type": "markdown",
      "metadata": {
        "id": "A3EWZVrz0YDV"
      },
      "source": [
        "# Testing on Real Image"
      ]
    },
    {
      "cell_type": "code",
      "execution_count": null,
      "metadata": {
        "id": "1wUedJB-0Z_q"
      },
      "outputs": [],
      "source": [
        "# Mengimpor fungsi load_model dari TensorFlow untuk dapat memuat kembali model yang telah disimpan.\n",
        "from tensorflow.keras.models import load_model"
      ]
    },
    {
      "cell_type": "code",
      "execution_count": null,
      "metadata": {
        "id": "D6E24QOm0hiB"
      },
      "outputs": [],
      "source": [
        "# Memuat kembali model yang telah disimpan dengan menggunakan load_model.\n",
        "load_network = load_model('network')"
      ]
    },
    {
      "cell_type": "code",
      "execution_count": null,
      "metadata": {
        "colab": {
          "base_uri": "https://localhost:8080/"
        },
        "id": "0cB7lmOc0nlR",
        "outputId": "a8e0c8f7-df96-401a-d549-94c844987ea9"
      },
      "outputs": [
        {
          "name": "stdout",
          "output_type": "stream",
          "text": [
            "Model: \"sequential\"\n",
            "_________________________________________________________________\n",
            " Layer (type)                Output Shape              Param #   \n",
            "=================================================================\n",
            " conv2d (Conv2D)             (None, 26, 26, 32)        320       \n",
            "                                                                 \n",
            " max_pooling2d (MaxPooling2  (None, 13, 13, 32)        0         \n",
            " D)                                                              \n",
            "                                                                 \n",
            " conv2d_1 (Conv2D)           (None, 13, 13, 64)        18496     \n",
            "                                                                 \n",
            " max_pooling2d_1 (MaxPoolin  (None, 6, 6, 64)          0         \n",
            " g2D)                                                            \n",
            "                                                                 \n",
            " conv2d_2 (Conv2D)           (None, 4, 4, 128)         73856     \n",
            "                                                                 \n",
            " max_pooling2d_2 (MaxPoolin  (None, 2, 2, 128)         0         \n",
            " g2D)                                                            \n",
            "                                                                 \n",
            " flatten (Flatten)           (None, 512)               0         \n",
            "                                                                 \n",
            " dense (Dense)               (None, 64)                32832     \n",
            "                                                                 \n",
            " dense_1 (Dense)             (None, 128)               8320      \n",
            "                                                                 \n",
            " dense_2 (Dense)             (None, 36)                4644      \n",
            "                                                                 \n",
            "=================================================================\n",
            "Total params: 138468 (540.89 KB)\n",
            "Trainable params: 138468 (540.89 KB)\n",
            "Non-trainable params: 0 (0.00 Byte)\n",
            "_________________________________________________________________\n"
          ]
        }
      ],
      "source": [
        "# Menampilkan ringkasan (summary) dari model yang telah dimuat kembali. Ringkasan ini mencakup informasi tentang jenis layer, ukuran output, dan jumlah parameter yang dapat dipelajari oleh model.\n",
        "load_network.summary()"
      ]
    },
    {
      "cell_type": "code",
      "execution_count": null,
      "metadata": {
        "colab": {
          "base_uri": "https://localhost:8080/",
          "height": 317
        },
        "id": "hbnaTxZK07JW",
        "outputId": "17700f47-ffe5-4ede-9860-c82d97e49a93"
      },
      "outputs": [
        {
          "data": {
            "image/png": "[encoded data removed]",
            "text/plain": [
              "<PIL.Image.Image image mode=RGB size=300x300>"
            ]
          },
          "metadata": {},
          "output_type": "display_data"
        }
      ],
      "source": [
        "# Memuat gambar dari path tertentu dan menampilkannya menggunakan cv2_imshow di Colab\n",
        "import cv2\n",
        "from google.colab.patches import cv2_imshow\n",
        "\n",
        "img = cv2.imread('/content/drive/MyDrive/Quiz 2/b_small.png')\n",
        "cv2_imshow(img)"
      ]
    },
    {
      "cell_type": "code",
      "execution_count": null,
      "metadata": {
        "colab": {
          "base_uri": "https://localhost:8080/"
        },
        "id": "EfDOYN6D1OZ9",
        "outputId": "984b0a8d-0e93-492a-e23f-7eec5f9d2233"
      },
      "outputs": [
        {
          "data": {
            "text/plain": [
              "(300, 300, 3)"
            ]
          },
          "execution_count": 72,
          "metadata": {},
          "output_type": "execute_result"
        }
      ],
      "source": [
        "# Menampilkan dimensi (shape) gambar. Dalam hal ini, dimensi gambar adalah (300, 300).\n",
        "img.shape"
      ]
    },
    {
      "cell_type": "code",
      "execution_count": null,
      "metadata": {
        "colab": {
          "base_uri": "https://localhost:8080/"
        },
        "id": "7e6w1zaL1RW7",
        "outputId": "f2b859ad-47ec-4483-aeb7-0762b99384ef"
      },
      "outputs": [
        {
          "data": {
            "text/plain": [
              "(300, 300)"
            ]
          },
          "execution_count": 73,
          "metadata": {},
          "output_type": "execute_result"
        }
      ],
      "source": [
        "# Mengonversi gambar berwarna (BGR) menjadi citra skala abu-abu (grayscale)\n",
        "gray_img = cv2.cvtColor(img, cv2.COLOR_BGR2GRAY)\n",
        "\n",
        "# Menampilkan dimensi (shape) citra skala abu-abu setelah konversi.\n",
        "# Citra skala abu-abu hanya memiliki dua dimensi karena tidak ada saluran warna, sehingga hasilnya adalah bentuk (tinggi, lebar) tanpa dimensi warna seperti pada citra berwarna.\n",
        "gray_img.shape"
      ]
    },
    {
      "cell_type": "code",
      "execution_count": null,
      "metadata": {
        "colab": {
          "base_uri": "https://localhost:8080/",
          "height": 334
        },
        "id": "9_al0IF01c3q",
        "outputId": "8b13689f-367a-496f-e5f4-43aec93bd9b9"
      },
      "outputs": [
        {
          "data": {
            "image/png": "[encoded data removed]",
            "text/plain": [
              "<PIL.Image.Image image mode=L size=300x300>"
            ]
          },
          "metadata": {},
          "output_type": "display_data"
        },
        {
          "name": "stdout",
          "output_type": "stream",
          "text": [
            "120.0\n"
          ]
        }
      ],
      "source": [
        "# Pre-process\n",
        "# Pra-pemrosesan gambar dengan menggunakan binary thresholding dan metode Otsu.\n",
        "# Thresholding menghasilkan gambar biner, dan nilai threshold dicetak.\n",
        "# Binary Threshold and Otsu\n",
        "value, thresh = cv2.threshold(gray_img, 0, 255, cv2.THRESH_BINARY + cv2.THRESH_OTSU)\n",
        "\n",
        "cv2_imshow(thresh)\n",
        "\n",
        "# print threshold value\n",
        "print(value)"
      ]
    },
    {
      "cell_type": "code",
      "execution_count": null,
      "metadata": {
        "colab": {
          "base_uri": "https://localhost:8080/",
          "height": 45
        },
        "id": "dmjHswqd1wB5",
        "outputId": "cd2e4d58-1912-41f7-de9f-da6b1fbea7a8"
      },
      "outputs": [
        {
          "data": {
            "image/png": "[encoded data removed]",
            "text/plain": [
              "<PIL.Image.Image image mode=L size=28x28>"
            ]
          },
          "metadata": {},
          "output_type": "display_data"
        }
      ],
      "source": [
        "# Mengubah ukuran gambar agar sesuai dengan bentuk input model CNN (28*28).\n",
        "img_resize = cv2.resize(gray_img, (28,28))\n",
        "cv2_imshow(img_resize)"
      ]
    },
    {
      "cell_type": "code",
      "execution_count": null,
      "metadata": {
        "colab": {
          "base_uri": "https://localhost:8080/"
        },
        "id": "bZStKgUl2Kk_",
        "outputId": "c45f964e-3e4b-4e30-be22-a44780ff754f"
      },
      "outputs": [
        {
          "data": {
            "text/plain": [
              "(28, 28, 1)"
            ]
          },
          "execution_count": 76,
          "metadata": {},
          "output_type": "execute_result"
        }
      ],
      "source": [
        "# Mengonversi gambar ke float32, melakukan normalisasi, dan menambahkan dimensi kedalaman agar sesuai dengan bentuk input model CNN.\n",
        "# Convert to float 32\n",
        "# and extend the dimension since network input shape is 28*28*1\n",
        "img_input = img_resize.astype('float32') / 255 # normalisasi\n",
        "img_input = np.expand_dims(img_input, axis=-1) # menambahkan dimensi kedalaman\n",
        "\n",
        "# check shape\n",
        "img_input.shape"
      ]
    },
    {
      "cell_type": "code",
      "execution_count": null,
      "metadata": {
        "colab": {
          "base_uri": "https://localhost:8080/"
        },
        "id": "7Xs7JwKj2lxr",
        "outputId": "0caace5e-3024-4bf0-f7c2-7296f33a0184"
      },
      "outputs": [
        {
          "data": {
            "text/plain": [
              "(1, 28, 28, 1)"
            ]
          },
          "execution_count": 77,
          "metadata": {},
          "output_type": "execute_result"
        }
      ],
      "source": [
        "# Menambahkan dimensi \"jumlah data\" agar sesuai dengan bentuk input model CNN.\n",
        "# Add \"amount of data\" as dimension\n",
        "img_input = np.reshape(img_input, (1,28,28,1))\n",
        "img_input.shape"
      ]
    },
    {
      "cell_type": "code",
      "execution_count": null,
      "metadata": {
        "colab": {
          "base_uri": "https://localhost:8080/"
        },
        "id": "fZLWIWLs2yuX",
        "outputId": "2387a09f-6fec-4f45-affa-4a2272cbb24f"
      },
      "outputs": [
        {
          "name": "stdout",
          "output_type": "stream",
          "text": [
            "1/1 [==============================] - 0s 160ms/step\n"
          ]
        },
        {
          "data": {
            "text/plain": [
              "6"
            ]
          },
          "execution_count": 78,
          "metadata": {},
          "output_type": "execute_result"
        }
      ],
      "source": [
        "# Melakukan prediksi menggunakan model CNN yang telah dimuat sebelumnya dan mencetak label prediksi.\n",
        "prediction = load_network.predict(img_input)\n",
        "pred_label = np.argmax(prediction) # predict actual label\n",
        "pred_label"
      ]
    },
    {
      "cell_type": "code",
      "execution_count": null,
      "metadata": {
        "colab": {
          "base_uri": "https://localhost:8080/",
          "height": 35
        },
        "id": "72Pl04hq3WNz",
        "outputId": "59d59781-d5dc-4e42-a3ac-b39828298dde"
      },
      "outputs": [
        {
          "data": {
            "application/vnd.google.colaboratory.intrinsic+json": {
              "type": "string"
            },
            "text/plain": [
              "'6'"
            ]
          },
          "execution_count": 79,
          "metadata": {},
          "output_type": "execute_result"
        }
      ],
      "source": [
        "# Menampilkan label yang sesuai dengan label prediksi. Dalam hal ini, label 6 sesuai dengan output '6'.\n",
        "name_labels[6]"
      ]
    },
    {
      "cell_type": "markdown",
      "metadata": {
        "id": "hQg4Ct131URP"
      },
      "source": [
        "Secara garis besar OCR menggunakan CNN diatas melalui tahapan sebagai berikut:\n",
        "1. Data Preparation:\n",
        "  - Menggunakan dataset citra karakter huruf dan angka.\n",
        "  - Melakukan one-hot encoding pada label untuk mempersiapkan data pelatihan.\n",
        "2. Data Augmentation untuk menambahkan variasi pada data latih dengan menggunakan ImageDataGenerator untuk meningkatkan kinerja model.\n",
        "3. Handling Class Imbalance untuk menangani ketidakseimbangan kelas dengan memberikan bobot kepada kelas-kelas yang kurang muncul.\n",
        "4. Model CNN:\n",
        "  - Membangun model CNN dengan tiga lapis konvolusi dan lapisan-lapisan Dense untuk klasifikasi karakter.\n",
        "  - Menggunakan aktivasi 'softmax' pada lapisan output karena merupakan masalah klasifikasi multikelas.\n",
        "5. Model Checkpoint untuk menyimpan model dengan performa terbaik selama pelatihan.\n",
        "6. Train Model:\n",
        "  - Melatih model menggunakan data latih yang telah di-augmentasi dan mengukur performa menggunakan data validasi.\n",
        "  - Menggunakan strategi random seed untuk mendapatkan hasil yang dapat direproduksi.\n",
        "7. Melakukan evaluasi pada data uji dan menghasilkan metrik kinerja seperti precision, recall, dan f1-score untuk setiap kelas.\n",
        "8. Menganalisis hasil pelatihan melalui visualisasi grafik loss dan akurasi pada set pelatihan dan validasi serta performa model pada data uji dan menampilkan classification report.\n",
        "9. Pengujian pada Gambar Baru:\n",
        "  - Menguji model pada gambar baru dengan langkah-langkah pra-pemrosesan seperti konversi ke citra skala abu-abu, binerisasi, dan penyesuaian ukuran.\n",
        "  - Melakukan prediksi pada gambar yang telah di-preprocess.\n",
        "\n",
        "\n",
        "\n",
        "\n"
      ]
    },
    {
      "cell_type": "markdown",
      "metadata": {
        "id": "-lwWe6p025Fx"
      },
      "source": [
        "# **Kesimpulan**\n",
        "Dari OCR menggunakan CNN diatas, didapatkan kesimpulan sebagai berikut:\n",
        "- Model CNN yang dibangun mampu mengenali karakter huruf dan angka dengan baik, memberikan akurasi yang tinggi pada data uji.\n",
        "- Performa model diukur menggunakan metrik seperti precision, recall, dan f1-score, dan hasilnya cukup baik.\n",
        "- Penggunaan teknik augmentasi data dan penanganan ketidakseimbangan kelas meningkatkan kemampuan generalisasi model.\n",
        "- Model dapat disimpan dan dimuat ulang untuk penggunaan lebih lanjut, seperti pada pengenalan karakter pada gambar baru. Oleh karena itu, model OCR CNN ini dapat diimplementasikan pada aplikasi pengenalan karakter dalam berbagai konteks, seperti pengenalan plat nomor kendaraan, pengenalan tulisan tangan, dan sebagainya.\n",
        "\n",
        "\n",
        "\n",
        "\n"
      ]
    }
  ],
  "metadata": {
    "accelerator": "GPU",
    "colab": {
      "gpuType": "T4",
      "machine_shape": "hm",
      "provenance": []
    },
    "kernelspec": {
      "display_name": "Python 3",
      "name": "python3"
    },
    "language_info": {
      "name": "python"
    }
  },
  "nbformat": 4,
  "nbformat_minor": 0
}
