{
 "cells": [
  {
   "cell_type": "markdown",
   "metadata": {},
   "source": [
    "# Praktikum 1\n",
    "Klasifikasi 🐱 dan 🐶"
   ]
  },
  {
   "cell_type": "markdown",
   "metadata": {},
   "source": [
    "## Deskripsi\n",
    "Pada praktikum ini kita akan membuat model klasifikasi CNN sederhana pada kasus citra kucing dan anjing."
   ]
  },
  {
   "cell_type": "markdown",
   "metadata": {},
   "source": [
    "## Langkah 1 - Import Library\n"
   ]
  },
  {
   "cell_type": "code",
   "execution_count": 1,
   "metadata": {},
   "outputs": [],
   "source": [
    "# Mengimpor pustaka TensorFlow\n",
    "import tensorflow as tf\n",
    "\n",
    "# Mengimpor ImageDataGenerator dari Keras\n",
    "from keras.preprocessing.image import ImageDataGenerator\n"
   ]
  },
  {
   "cell_type": "markdown",
   "metadata": {},
   "source": [
    "# Langkah 2 - Pra Pengolahan Data\n",
    "Pada tahap ini kita akan sedikit melakukan manipulasi pada citra yang digunakan. Manipulasi yang dilakukan diantaranya adalah normalisasi nilai piksel, koreksi kemiringan, pembesaran (zoom), dan flip."
   ]
  },
  {
   "cell_type": "markdown",
   "metadata": {},
   "source": [
    "### Langkah 2.1. Pra Pengolahan Data Training\n"
   ]
  },
  {
   "cell_type": "code",
   "execution_count": 2,
   "metadata": {},
   "outputs": [
    {
     "name": "stdout",
     "output_type": "stream",
     "text": [
      "Found 8000 images belonging to 2 classes.\n"
     ]
    }
   ],
   "source": [
    "# Membuat objek ImageDataGenerator untuk augmentasi gambar selama pelatihan\n",
    "train_datagen = ImageDataGenerator(rescale=1./255,  # Rescaling gambar ke rentang [0, 1]\n",
    "                                   shear_range=0.2,  # Transformasi cedera (shearing)\n",
    "                                   zoom_range=0.2,   # Transformasi zoom\n",
    "                                   horizontal_flip=True)  # Flip horizontal gambar\n",
    "\n",
    "# Memuat data pelatihan dari direktori 'dataset/training_set' dengan augmentasi\n",
    "training_set = train_datagen.flow_from_directory('dataset/training_set',\n",
    "                                                 target_size=(64, 64),  # Ukuran gambar target\n",
    "                                                 batch_size=32,          # Ukuran batch\n",
    "                                                 class_mode='binary')   # Mode kelas (binary untuk klasifikasi biner)\n"
   ]
  },
  {
   "cell_type": "markdown",
   "metadata": {},
   "source": [
    "### Langkah 2.2. Pra Pengolahan Data Testing\n"
   ]
  },
  {
   "cell_type": "code",
   "execution_count": 3,
   "metadata": {},
   "outputs": [
    {
     "name": "stdout",
     "output_type": "stream",
     "text": [
      "Found 2000 images belonging to 2 classes.\n"
     ]
    }
   ],
   "source": [
    "# Membuat objek ImageDataGenerator untuk pengujian data gambar\n",
    "test_datagen = ImageDataGenerator(rescale=1./255)  # Rescaling gambar ke rentang [0, 1]\n",
    "\n",
    "# Memuat data pengujian dari direktori 'dataset/test_set'\n",
    "test_set = test_datagen.flow_from_directory('dataset/test_set',\n",
    "                                           target_size=(64, 64),  # Ukuran gambar target\n",
    "                                           batch_size=32,          # Ukuran batch\n",
    "                                           class_mode='binary')   # Mode kelas (binary untuk klasifikasi biner)\n"
   ]
  },
  {
   "cell_type": "markdown",
   "metadata": {},
   "source": [
    "## Langkah 3 - Pembuatan Model CNN\n"
   ]
  },
  {
   "cell_type": "markdown",
   "metadata": {},
   "source": [
    "### Langkah 3.1.  - Inisiasi Model CNN\n"
   ]
  },
  {
   "cell_type": "code",
   "execution_count": 4,
   "metadata": {},
   "outputs": [],
   "source": [
    "# Membuat model jaringan saraf konvolusi (CNN) kosong\n",
    "cnn = tf.keras.models.Sequential()\n"
   ]
  },
  {
   "cell_type": "markdown",
   "metadata": {},
   "source": [
    "### Langkah 3.2. - Pembuatan Layer Konvolusi 1\n"
   ]
  },
  {
   "cell_type": "code",
   "execution_count": 5,
   "metadata": {},
   "outputs": [],
   "source": [
    "# Menambahkan lapisan konvolusi ke dalam model CNN\n",
    "# - filters: Jumlah filter (kernel) yang digunakan\n",
    "# - kernel_size: Ukuran kernel konvolusi (misalnya, 3x3)\n",
    "# - activation: Fungsi aktivasi yang digunakan (dalam kasus ini, ReLU)\n",
    "# - input_shape: Bentuk input gambar (64x64 piksel dengan 3 saluran warna RGB)\n",
    "cnn.add(tf.keras.layers.Conv2D(filters=32, kernel_size=3, activation='relu', input_shape=[64, 64, 3]))\n"
   ]
  },
  {
   "cell_type": "markdown",
   "metadata": {},
   "source": [
    "### Langkah 3.3 - Pembuatan Layer Pooling 1\n"
   ]
  },
  {
   "cell_type": "code",
   "execution_count": 6,
   "metadata": {},
   "outputs": [],
   "source": [
    "# Menambahkan lapisan max-pooling ke dalam model CNN\n",
    "# - pool_size: Ukuran jendela max-pooling (misalnya, 2x2)\n",
    "# - strides: Jarak antara langkah-langkah max-pooling (misalnya, 2)\n",
    "cnn.add(tf.keras.layers.MaxPool2D(pool_size=2, strides=2))\n"
   ]
  },
  {
   "cell_type": "markdown",
   "metadata": {},
   "source": [
    "### Langkah 3.4 - Pembuatan Layer Konvolusi 2 dan Pooling 2\n"
   ]
  },
  {
   "cell_type": "code",
   "execution_count": 7,
   "metadata": {},
   "outputs": [],
   "source": [
    "# Menambahkan lapisan konvolusi ke dalam model CNN\n",
    "cnn.add(tf.keras.layers.Conv2D(filters=32, kernel_size=3, activation='relu'))\n",
    "\n",
    "# Menambahkan lapisan max-pooling ke dalam model CNN\n",
    "cnn.add(tf.keras.layers.MaxPool2D(pool_size=2, strides=2))\n"
   ]
  },
  {
   "cell_type": "markdown",
   "metadata": {},
   "source": [
    "### Langkah 3.5 - Flattening\n"
   ]
  },
  {
   "cell_type": "code",
   "execution_count": 8,
   "metadata": {},
   "outputs": [],
   "source": [
    "# Menambahkan lapisan Flatten ke dalam model CNN\n",
    "cnn.add(tf.keras.layers.Flatten())\n"
   ]
  },
  {
   "cell_type": "markdown",
   "metadata": {},
   "source": [
    "### Langkah 3.6 - Fully Connected Layer 1 (Input)\n"
   ]
  },
  {
   "cell_type": "code",
   "execution_count": 9,
   "metadata": {},
   "outputs": [],
   "source": [
    "# Menambahkan lapisan fully connected (terhubung penuh) ke dalam model CNN\n",
    "# - units: Jumlah unit atau neuron dalam lapisan\n",
    "# - activation: Fungsi aktivasi yang digunakan (dalam kasus ini, ReLU)\n",
    "cnn.add(tf.keras.layers.Dense(units=128, activation='relu'))\n"
   ]
  },
  {
   "cell_type": "markdown",
   "metadata": {},
   "source": [
    "### Langkah 3.7 - Fully Connected Layer 2 (Output)\n"
   ]
  },
  {
   "cell_type": "code",
   "execution_count": 10,
   "metadata": {},
   "outputs": [],
   "source": [
    "# Menambahkan lapisan fully connected (terhubung penuh) ke dalam model CNN\n",
    "# - units: Jumlah unit atau neuron dalam lapisan (dalam kasus ini, 1)\n",
    "# - activation: Fungsi aktivasi yang digunakan (sigmoid untuk klasifikasi biner)\n",
    "cnn.add(tf.keras.layers.Dense(units=1, activation='sigmoid'))\n"
   ]
  },
  {
   "cell_type": "markdown",
   "metadata": {},
   "source": [
    "### Langkah 3.8 - Compile Model CNN\n"
   ]
  },
  {
   "cell_type": "code",
   "execution_count": 11,
   "metadata": {},
   "outputs": [],
   "source": [
    "# Mengkompilasi model CNN\n",
    "# - optimizer: Algoritma optimasi (dalam kasus ini, 'adam' adalah Adam optimizer)\n",
    "# - loss: Fungsi kerugian yang digunakan (dalam kasus ini, 'binary_crossentropy' untuk klasifikasi biner)\n",
    "# - metrics: Metrik evaluasi yang akan dihitung (dalam kasus ini, akurasi)\n",
    "cnn.compile(optimizer='adam', loss='binary_crossentropy', metrics=['accuracy'])\n"
   ]
  },
  {
   "cell_type": "markdown",
   "metadata": {},
   "source": [
    "Penggunaan ***loss function binary crossentropy*** dikarenakan kita hanya melakukan klasifikasi pada dua kelas, yaitu kucing dan anjing."
   ]
  },
  {
   "cell_type": "markdown",
   "metadata": {},
   "source": [
    "### Langkah 4 - Fit CNN\n"
   ]
  },
  {
   "cell_type": "code",
   "execution_count": 12,
   "metadata": {},
   "outputs": [
    {
     "name": "stdout",
     "output_type": "stream",
     "text": [
      "Epoch 1/25\n",
      "250/250 [==============================] - 22s 86ms/step - loss: 0.6863 - accuracy: 0.5537 - val_loss: 0.6237 - val_accuracy: 0.6305\n",
      "Epoch 2/25\n",
      "250/250 [==============================] - 19s 77ms/step - loss: 0.6136 - accuracy: 0.6616 - val_loss: 0.5702 - val_accuracy: 0.7020\n",
      "Epoch 3/25\n",
      "250/250 [==============================] - 20s 78ms/step - loss: 0.5729 - accuracy: 0.6981 - val_loss: 0.5542 - val_accuracy: 0.7200\n",
      "Epoch 4/25\n",
      "250/250 [==============================] - 20s 79ms/step - loss: 0.5399 - accuracy: 0.7211 - val_loss: 0.6036 - val_accuracy: 0.6885\n",
      "Epoch 5/25\n",
      "250/250 [==============================] - 20s 80ms/step - loss: 0.5114 - accuracy: 0.7451 - val_loss: 0.5076 - val_accuracy: 0.7575\n",
      "Epoch 6/25\n",
      "250/250 [==============================] - 19s 77ms/step - loss: 0.5008 - accuracy: 0.7567 - val_loss: 0.4849 - val_accuracy: 0.7725\n",
      "Epoch 7/25\n",
      "250/250 [==============================] - 20s 80ms/step - loss: 0.4825 - accuracy: 0.7616 - val_loss: 0.4778 - val_accuracy: 0.7640\n",
      "Epoch 8/25\n",
      "250/250 [==============================] - 20s 79ms/step - loss: 0.4587 - accuracy: 0.7814 - val_loss: 0.4700 - val_accuracy: 0.7720\n",
      "Epoch 9/25\n",
      "250/250 [==============================] - 20s 81ms/step - loss: 0.4416 - accuracy: 0.7914 - val_loss: 0.4583 - val_accuracy: 0.7825\n",
      "Epoch 10/25\n",
      "250/250 [==============================] - 20s 82ms/step - loss: 0.4297 - accuracy: 0.7974 - val_loss: 0.4785 - val_accuracy: 0.7840\n",
      "Epoch 11/25\n",
      "250/250 [==============================] - 21s 82ms/step - loss: 0.4209 - accuracy: 0.8036 - val_loss: 0.4665 - val_accuracy: 0.7725\n",
      "Epoch 12/25\n",
      "250/250 [==============================] - 20s 82ms/step - loss: 0.4002 - accuracy: 0.8167 - val_loss: 0.4537 - val_accuracy: 0.7890\n",
      "Epoch 13/25\n",
      "250/250 [==============================] - 23s 91ms/step - loss: 0.3959 - accuracy: 0.8204 - val_loss: 0.4826 - val_accuracy: 0.7950\n",
      "Epoch 14/25\n",
      "250/250 [==============================] - 20s 82ms/step - loss: 0.3785 - accuracy: 0.8299 - val_loss: 0.4677 - val_accuracy: 0.7940\n",
      "Epoch 15/25\n",
      "250/250 [==============================] - 20s 80ms/step - loss: 0.3740 - accuracy: 0.8340 - val_loss: 0.4265 - val_accuracy: 0.8145\n",
      "Epoch 16/25\n",
      "250/250 [==============================] - 22s 87ms/step - loss: 0.3613 - accuracy: 0.8418 - val_loss: 0.5341 - val_accuracy: 0.7780\n",
      "Epoch 17/25\n",
      "250/250 [==============================] - 21s 83ms/step - loss: 0.3420 - accuracy: 0.8446 - val_loss: 0.4652 - val_accuracy: 0.7965\n",
      "Epoch 18/25\n",
      "250/250 [==============================] - 20s 80ms/step - loss: 0.3340 - accuracy: 0.8534 - val_loss: 0.4510 - val_accuracy: 0.8065\n",
      "Epoch 19/25\n",
      "250/250 [==============================] - 19s 76ms/step - loss: 0.3175 - accuracy: 0.8609 - val_loss: 0.4876 - val_accuracy: 0.8055\n",
      "Epoch 20/25\n",
      "250/250 [==============================] - 22s 88ms/step - loss: 0.3139 - accuracy: 0.8605 - val_loss: 0.4863 - val_accuracy: 0.7855\n",
      "Epoch 21/25\n",
      "250/250 [==============================] - 30s 120ms/step - loss: 0.2985 - accuracy: 0.8702 - val_loss: 0.4529 - val_accuracy: 0.8020\n",
      "Epoch 22/25\n",
      "250/250 [==============================] - 30s 121ms/step - loss: 0.2869 - accuracy: 0.8802 - val_loss: 0.4919 - val_accuracy: 0.8105\n",
      "Epoch 23/25\n",
      "250/250 [==============================] - 29s 116ms/step - loss: 0.2700 - accuracy: 0.8865 - val_loss: 0.4761 - val_accuracy: 0.8045\n",
      "Epoch 24/25\n",
      "250/250 [==============================] - 20s 80ms/step - loss: 0.2601 - accuracy: 0.8924 - val_loss: 0.4581 - val_accuracy: 0.8145\n",
      "Epoch 25/25\n",
      "250/250 [==============================] - 22s 89ms/step - loss: 0.2501 - accuracy: 0.8974 - val_loss: 0.5198 - val_accuracy: 0.7950\n"
     ]
    },
    {
     "data": {
      "text/plain": [
       "<keras.src.callbacks.History at 0x1b282c32850>"
      ]
     },
     "execution_count": 12,
     "metadata": {},
     "output_type": "execute_result"
    }
   ],
   "source": [
    "# Melatih model CNN\n",
    "# - x: Data pelatihan (dalam hal ini, 'training_set')\n",
    "# - validation_data: Data validasi (dalam hal ini, 'test_set')\n",
    "# - epochs: Jumlah iterasi pelatihan (dalam hal ini, 25)\n",
    "cnn.fit(x=training_set, validation_data=test_set, epochs=25)\n"
   ]
  },
  {
   "cell_type": "markdown",
   "metadata": {},
   "source": [
    "### Langkah 5 - Prediksi dengan 1 Citra\n",
    "Pada langkah ini, kita akan mencoba melakukan prediksi pada 1 citra anjing dan kucing."
   ]
  },
  {
   "cell_type": "code",
   "execution_count": 13,
   "metadata": {},
   "outputs": [
    {
     "name": "stdout",
     "output_type": "stream",
     "text": [
      "1/1 [==============================] - 0s 115ms/step\n"
     ]
    }
   ],
   "source": [
    "# Mengimpor pustaka numpy dan modul image dari Keras\n",
    "import numpy as np\n",
    "from keras.preprocessing import image\n",
    "\n",
    "# Memuat gambar pengujian dan menyesuaikannya menjadi ukuran target (64x64 piksel)\n",
    "test_image = image.load_img('dataset/single_prediction/cat_or_dog_1.jpg', target_size=(64, 64))\n",
    "test_image = image.img_to_array(test_image)\n",
    "test_image = np.expand_dims(test_image, axis=0)\n",
    "\n",
    "# Melakukan prediksi menggunakan model CNN\n",
    "result = cnn.predict(test_image)\n",
    "\n",
    "# Mengambil indeks kelas dari data pelatihan\n",
    "class_indices = training_set.class_indices\n",
    "\n",
    "# Menentukan hasil prediksi berdasarkan hasil dari model\n",
    "if result[0][0] == 1:\n",
    "    prediction = 'dog'\n",
    "else:\n",
    "    prediction = 'cat'\n"
   ]
  }
 ],
 "metadata": {
  "kernelspec": {
   "display_name": "base",
   "language": "python",
   "name": "python3"
  },
  "language_info": {
   "codemirror_mode": {
    "name": "ipython",
    "version": 3
   },
   "file_extension": ".py",
   "mimetype": "text/x-python",
   "name": "python",
   "nbconvert_exporter": "python",
   "pygments_lexer": "ipython3",
   "version": "3.11.4"
  }
 },
 "nbformat": 4,
 "nbformat_minor": 2
}
