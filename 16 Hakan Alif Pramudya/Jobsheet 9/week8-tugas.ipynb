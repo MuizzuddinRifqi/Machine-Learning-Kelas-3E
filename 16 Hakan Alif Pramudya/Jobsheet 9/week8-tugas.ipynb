{
 "cells": [
  {
   "cell_type": "markdown",
   "metadata": {},
   "source": [
    "1. akukan klasifikasi pada data MNIST dengan menggunakan model ANN\n",
    "\n",
    "2. Anda diperbolehkan melakukan eksplorasi terhadap,\n",
    "\t- Metode pra pengolahan\n",
    "\t- Pemilihan fitur\n",
    "\t- Arsitektur ANN\n",
    "\t- Fungsi Aktiviasi\n",
    "\n",
    "3. ANN diimplementasikan dengan menggunakan tensorflow.\n",
    "\n",
    "4. JELASKAN HASIL YANG ANDA DAPATKAN,\n",
    "\t- AKURASI\n",
    "\t- CONFUSION MATRIX\n",
    "\t- KONFIGURASI MODEL --> MULAI DARI PRA PENGOLAHAN SAMPAI ARSITEKTUR ANN\n",
    "\t\n",
    "\t\n",
    "\t\n",
    "\t"
   ]
  },
  {
   "cell_type": "markdown",
   "metadata": {},
   "source": [
    "# Pra Pengolahan Data"
   ]
  },
  {
   "cell_type": "code",
   "execution_count": 3,
   "metadata": {},
   "outputs": [],
   "source": [
    "# import\n",
    "import numpy as np\n",
    "import pandas as pd\n",
    "import tensorflow as tf"
   ]
  },
  {
   "cell_type": "code",
   "execution_count": 4,
   "metadata": {},
   "outputs": [],
   "source": [
    "# sklearn\n",
    "from tensorflow.keras.datasets import mnist\n",
    "from tensorflow.keras.models import Sequential\n",
    "from tensorflow.keras.layers import Flatten, Dense\n",
    "from tensorflow.keras.utils import to_categorical\n",
    "from sklearn.metrics import confusion_matrix\n",
    "import matplotlib.pyplot as plt"
   ]
  },
  {
   "cell_type": "code",
   "execution_count": 8,
   "metadata": {},
   "outputs": [],
   "source": [
    "(X_trains, y_trains), (X_test, y_test) = mnist.load_data()"
   ]
  },
  {
   "cell_type": "code",
   "execution_count": 10,
   "metadata": {},
   "outputs": [
    {
     "name": "stdout",
     "output_type": "stream",
     "text": [
      "60000\n",
      "10000\n"
     ]
    }
   ],
   "source": [
    "print(len(X_trains))\n",
    "\n",
    "print(len(X_test))\n"
   ]
  },
  {
   "cell_type": "code",
   "execution_count": 12,
   "metadata": {},
   "outputs": [],
   "source": [
    "# Pra-pemrosesan data\n",
    "X_trains = X_trains / 255.0\n",
    "y_trains = y_trains / 255.0"
   ]
  },
  {
   "cell_type": "code",
   "execution_count": 13,
   "metadata": {},
   "outputs": [],
   "source": [
    "# One-hot encoding untuk label\n",
    "y_trains = to_categorical(y_trains, 10)\n",
    "y_test = to_categorical(y_test, 10)"
   ]
  },
  {
   "cell_type": "code",
   "execution_count": 14,
   "metadata": {},
   "outputs": [],
   "source": [
    "# Membangun model ANN\n",
    "model = Sequential([\n",
    "    Flatten(input_shape=(28, 28)),\n",
    "    Dense(128, activation='relu'),\n",
    "    Dense(64, activation='relu'),\n",
    "    Dense(10, activation='softmax')\n",
    "])"
   ]
  },
  {
   "cell_type": "code",
   "execution_count": 15,
   "metadata": {},
   "outputs": [],
   "source": [
    "# Konfigurasi model\n",
    "model.compile(optimizer='adam',\n",
    "              loss='categorical_crossentropy',\n",
    "              metrics=['accuracy'])\n"
   ]
  },
  {
   "cell_type": "code",
   "execution_count": 16,
   "metadata": {},
   "outputs": [
    {
     "name": "stdout",
     "output_type": "stream",
     "text": [
      "Epoch 1/10\n",
      "750/750 [==============================] - 2s 1ms/step - loss: 0.0153 - accuracy: 0.9976 - val_loss: 1.0418e-05 - val_accuracy: 1.0000\n",
      "Epoch 2/10\n",
      "750/750 [==============================] - 1s 1ms/step - loss: 5.5614e-06 - accuracy: 1.0000 - val_loss: 2.4207e-06 - val_accuracy: 1.0000\n",
      "Epoch 3/10\n",
      "750/750 [==============================] - 1s 1ms/step - loss: 1.6817e-06 - accuracy: 1.0000 - val_loss: 9.9356e-07 - val_accuracy: 1.0000\n",
      "Epoch 4/10\n",
      "750/750 [==============================] - 1s 1ms/step - loss: 7.4013e-07 - accuracy: 1.0000 - val_loss: 4.9679e-07 - val_accuracy: 1.0000\n",
      "Epoch 5/10\n",
      "750/750 [==============================] - 1s 1ms/step - loss: 3.8190e-07 - accuracy: 1.0000 - val_loss: 2.7688e-07 - val_accuracy: 1.0000\n",
      "Epoch 6/10\n",
      "750/750 [==============================] - 1s 1ms/step - loss: 2.1279e-07 - accuracy: 1.0000 - val_loss: 1.6209e-07 - val_accuracy: 1.0000\n",
      "Epoch 7/10\n",
      "750/750 [==============================] - 1s 1ms/step - loss: 1.2417e-07 - accuracy: 1.0000 - val_loss: 9.8550e-08 - val_accuracy: 1.0000\n",
      "Epoch 8/10\n",
      "750/750 [==============================] - 1s 1ms/step - loss: 7.4995e-08 - accuracy: 1.0000 - val_loss: 6.2840e-08 - val_accuracy: 1.0000\n",
      "Epoch 9/10\n",
      "750/750 [==============================] - 1s 1ms/step - loss: 4.6898e-08 - accuracy: 1.0000 - val_loss: 4.0371e-08 - val_accuracy: 1.0000\n",
      "Epoch 10/10\n",
      "750/750 [==============================] - 1s 1ms/step - loss: 2.9643e-08 - accuracy: 1.0000 - val_loss: 2.6543e-08 - val_accuracy: 1.0000\n"
     ]
    },
    {
     "data": {
      "text/plain": [
       "<keras.src.callbacks.History at 0x2308dd42550>"
      ]
     },
     "execution_count": 16,
     "metadata": {},
     "output_type": "execute_result"
    }
   ],
   "source": [
    "# Pelatihan model\n",
    "model.fit(X_trains, y_trains, epochs=10, batch_size=64, validation_split=0.2)\n"
   ]
  },
  {
   "cell_type": "code",
   "execution_count": 17,
   "metadata": {},
   "outputs": [
    {
     "name": "stdout",
     "output_type": "stream",
     "text": [
      "313/313 [==============================] - 0s 638us/step - loss: 8759.6133 - accuracy: 0.0980\n",
      "Akurasi pengujian: 0.09799999743700027\n"
     ]
    }
   ],
   "source": [
    "# Evaluasi model pada data pengujian\n",
    "test_loss, test_acc = model.evaluate(X_test, y_test)\n",
    "print(\"Akurasi pengujian:\", test_acc)"
   ]
  },
  {
   "cell_type": "code",
   "execution_count": 18,
   "metadata": {},
   "outputs": [
    {
     "name": "stdout",
     "output_type": "stream",
     "text": [
      "313/313 [==============================] - 0s 585us/step\n"
     ]
    }
   ],
   "source": [
    "# Prediksi label pada data pengujian\n",
    "predictions = model.predict(X_test)\n",
    "predicted_labels = [tf.argmax(prediction).numpy() for prediction in predictions]\n",
    "true_labels = [tf.argmax(label).numpy() for label in y_test]"
   ]
  },
  {
   "cell_type": "code",
   "execution_count": 19,
   "metadata": {},
   "outputs": [
    {
     "name": "stdout",
     "output_type": "stream",
     "text": [
      "Confusion Matrix:\n",
      "[[ 980    0    0    0    0    0    0    0    0    0]\n",
      " [1135    0    0    0    0    0    0    0    0    0]\n",
      " [1032    0    0    0    0    0    0    0    0    0]\n",
      " [1010    0    0    0    0    0    0    0    0    0]\n",
      " [ 982    0    0    0    0    0    0    0    0    0]\n",
      " [ 892    0    0    0    0    0    0    0    0    0]\n",
      " [ 958    0    0    0    0    0    0    0    0    0]\n",
      " [1028    0    0    0    0    0    0    0    0    0]\n",
      " [ 974    0    0    0    0    0    0    0    0    0]\n",
      " [1009    0    0    0    0    0    0    0    0    0]]\n"
     ]
    }
   ],
   "source": [
    "# Confusion Matrix\n",
    "confusion = confusion_matrix(true_labels, predicted_labels)\n",
    "print(\"Confusion Matrix:\")\n",
    "print(confusion)\n"
   ]
  },
  {
   "cell_type": "code",
   "execution_count": 20,
   "metadata": {},
   "outputs": [
    {
     "data": {
      "image/png": "[encoded data removed]",
      "text/plain": [
       "<Figure size 1000x1000 with 25 Axes>"
      ]
     },
     "metadata": {},
     "output_type": "display_data"
    }
   ],
   "source": [
    "# Menampilkan contoh gambar dan prediksi\n",
    "plt.figure(figsize=(10, 10))\n",
    "for i in range(25):\n",
    "    plt.subplot(5, 5, i + 1)\n",
    "    plt.imshow(X_test[i], cmap='gray')\n",
    "    plt.xticks([])\n",
    "    plt.yticks([])\n",
    "    plt.title(f\"Prediksi: {predicted_labels[i]}\\nBenar: {true_labels[i]}\")\n",
    "plt.show()"
   ]
  }
 ],
 "metadata": {
  "kernelspec": {
   "display_name": "base",
   "language": "python",
   "name": "python3"
  },
  "language_info": {
   "codemirror_mode": {
    "name": "ipython",
    "version": 3
   },
   "file_extension": ".py",
   "mimetype": "text/x-python",
   "name": "python",
   "nbconvert_exporter": "python",
   "pygments_lexer": "ipython3",
   "version": "3.11.4"
  }
 },
 "nbformat": 4,
 "nbformat_minor": 2
}
