{
 "cells": [
  {
   "cell_type": "markdown",
   "metadata": {},
   "source": [
    "# Praktikum 4\n",
    "Klasifikasi dengan ANN\n",
    "\n",
    "## Deskripsi\n",
    "Pada praktikum kali ini, Anda diminta untuk membuat model ANN untuk mengklasifikasi potensi seorang customer akan meninggalkan perusahaan Anda atau tidak. Istirlah populer dari fenomena ini disebut sebagai 'churn'. Tingkat churn yang tinggi (chrun rate) akan berdampak tidak baik bagi perusahaan."
   ]
  },
  {
   "cell_type": "markdown",
   "metadata": {},
   "source": [
    "## Pra Pengolahan Data\n",
    "### Langkah 1 - Import Library\n"
   ]
  },
  {
   "cell_type": "code",
   "execution_count": 1,
   "metadata": {},
   "outputs": [],
   "source": [
    "# Mengimpor pustaka NumPy untuk operasi numerik\n",
    "import numpy as np\n",
    "\n",
    "# Mengimpor pustaka Pandas untuk manipulasi data dalam bentuk DataFrame\n",
    "import pandas as pd\n",
    "\n",
    "# Mengimpor pustaka TensorFlow untuk pemodelan dan pembelajaran mesin\n",
    "import tensorflow as tf\n"
   ]
  },
  {
   "cell_type": "markdown",
   "metadata": {},
   "source": [
    "### Langkah 2 - Load Data\n"
   ]
  },
  {
   "cell_type": "code",
   "execution_count": 2,
   "metadata": {},
   "outputs": [],
   "source": [
    "# Mengimpor dataset dari file CSV 'Churn_Modelling.csv' menggunakan Pandas\n",
    "dataset = pd.read_csv('Churn_Modelling.csv')\n",
    "\n",
    "# Memisahkan data fitur (kolom 3 sampai sebelum kolom terakhir) ke dalam variabel 'X'\n",
    "X = dataset.iloc[:, 3:-1].values\n",
    "\n",
    "# Memisahkan data target (kolom terakhir) ke dalam variabel 'y'\n",
    "y = dataset.iloc[:, -1].values\n"
   ]
  },
  {
   "cell_type": "markdown",
   "metadata": {},
   "source": [
    "Cek data (X)"
   ]
  },
  {
   "cell_type": "code",
   "execution_count": 3,
   "metadata": {},
   "outputs": [
    {
     "name": "stdout",
     "output_type": "stream",
     "text": [
      "[[619 'France' 'Female' ... 1 1 101348.88]\n",
      " [608 'Spain' 'Female' ... 0 1 112542.58]\n",
      " [502 'France' 'Female' ... 1 0 113931.57]\n",
      " ...\n",
      " [709 'France' 'Female' ... 0 1 42085.58]\n",
      " [772 'Germany' 'Male' ... 1 0 92888.52]\n",
      " [792 'France' 'Female' ... 1 0 38190.78]]\n"
     ]
    }
   ],
   "source": [
    "print(X)"
   ]
  },
  {
   "cell_type": "markdown",
   "metadata": {},
   "source": [
    "### Langkah 3 - Encoding Data Kategorikal\n"
   ]
  },
  {
   "cell_type": "code",
   "execution_count": 4,
   "metadata": {},
   "outputs": [],
   "source": [
    "# Mengimpor LabelEncoder dari scikit-learn\n",
    "from sklearn.preprocessing import LabelEncoder\n",
    "\n",
    "# Membuat instansi LabelEncoder\n",
    "le = LabelEncoder()\n",
    "\n",
    "# Mengkodekan data dalam kolom ke-2 dari 'X' menjadi data numerik\n",
    "X[:, 2] = le.fit_transform(X[:, 2])\n"
   ]
  },
  {
   "cell_type": "markdown",
   "metadata": {},
   "source": [
    "Cek data (X) dengan print. Hasilnya,"
   ]
  },
  {
   "cell_type": "code",
   "execution_count": 5,
   "metadata": {},
   "outputs": [
    {
     "name": "stdout",
     "output_type": "stream",
     "text": [
      "[[619 'France' 0 ... 1 1 101348.88]\n",
      " [608 'Spain' 0 ... 0 1 112542.58]\n",
      " [502 'France' 0 ... 1 0 113931.57]\n",
      " ...\n",
      " [709 'France' 0 ... 0 1 42085.58]\n",
      " [772 'Germany' 1 ... 1 0 92888.52]\n",
      " [792 'France' 0 ... 1 0 38190.78]]\n"
     ]
    }
   ],
   "source": [
    "print(X)"
   ]
  },
  {
   "cell_type": "markdown",
   "metadata": {},
   "source": [
    "### Langkah 4 - Encoding Kolom \"Geography\" dengan One Hot Encoder\n"
   ]
  },
  {
   "cell_type": "code",
   "execution_count": 6,
   "metadata": {},
   "outputs": [],
   "source": [
    "# Mengimpor ColumnTransformer dan OneHotEncoder dari scikit-learn\n",
    "from sklearn.compose import ColumnTransformer\n",
    "from sklearn.preprocessing import OneHotEncoder\n",
    "\n",
    "# Membuat instansi ColumnTransformer untuk mengubah kolom ke-1 menjadi variabel dummy\n",
    "ct = ColumnTransformer(transformers=[('encoder', OneHotEncoder(), [1])], remainder='passthrough')\n",
    "\n",
    "# Menggunakan ColumnTransformer untuk mengubah data 'X'\n",
    "X = np.array(ct.fit_transform(X))\n"
   ]
  },
  {
   "cell_type": "markdown",
   "metadata": {},
   "source": [
    "Cek data (X) dengan print. Hasilnya,"
   ]
  },
  {
   "cell_type": "code",
   "execution_count": 7,
   "metadata": {},
   "outputs": [
    {
     "name": "stdout",
     "output_type": "stream",
     "text": [
      "[[1.0 0.0 0.0 ... 1 1 101348.88]\n",
      " [0.0 0.0 1.0 ... 0 1 112542.58]\n",
      " [1.0 0.0 0.0 ... 1 0 113931.57]\n",
      " ...\n",
      " [1.0 0.0 0.0 ... 0 1 42085.58]\n",
      " [0.0 1.0 0.0 ... 1 0 92888.52]\n",
      " [1.0 0.0 0.0 ... 1 0 38190.78]]\n"
     ]
    }
   ],
   "source": [
    "print(X)"
   ]
  },
  {
   "cell_type": "markdown",
   "metadata": {},
   "source": [
    "### Langkah 5 - Split Data\n"
   ]
  },
  {
   "cell_type": "code",
   "execution_count": 8,
   "metadata": {},
   "outputs": [],
   "source": [
    "# Mengimpor train_test_split dari scikit-learn\n",
    "from sklearn.model_selection import train_test_split\n",
    "\n",
    "# Memisahkan data menjadi data pelatihan dan data pengujian (80% pelatihan, 20% pengujian)\n",
    "X_train, X_test, y_train, y_test = train_test_split(X, y, test_size=0.2, random_state=0)\n"
   ]
  },
  {
   "cell_type": "markdown",
   "metadata": {},
   "source": [
    "### Langkah 6 - Scaling Fitur\n"
   ]
  },
  {
   "cell_type": "code",
   "execution_count": 9,
   "metadata": {},
   "outputs": [],
   "source": [
    "# Mengimpor StandardScaler dari scikit-learn\n",
    "from sklearn.preprocessing import StandardScaler\n",
    "\n",
    "# Membuat instansi StandardScaler\n",
    "sc = StandardScaler()\n",
    "\n",
    "# Menskala data pelatihan\n",
    "X_train = sc.fit_transform(X_train)\n",
    "\n",
    "# Menskala data pengujian dengan parameter yang sama seperti data pelatihan\n",
    "X_test = sc.transform(X_test)\n"
   ]
  },
  {
   "cell_type": "markdown",
   "metadata": {},
   "source": [
    "## Membuat Model ANN\n"
   ]
  },
  {
   "cell_type": "markdown",
   "metadata": {},
   "source": [
    "### Langkah 1 - Inisiasi Model ANN\n"
   ]
  },
  {
   "cell_type": "code",
   "execution_count": 10,
   "metadata": {},
   "outputs": [],
   "source": [
    "# Membuat model berurutan (sequential) dengan TensorFlow\n",
    "ann = tf.keras.models.Sequential()\n"
   ]
  },
  {
   "cell_type": "markdown",
   "metadata": {},
   "source": [
    "### Langkah 2 - Membuat Input Layer dan Hidden Layer Pertama\n"
   ]
  },
  {
   "cell_type": "code",
   "execution_count": 11,
   "metadata": {},
   "outputs": [],
   "source": [
    "# Menambahkan sebuah layer dense (terhubung penuh) ke dalam model jaringan saraf\n",
    "# dengan 6 unit (neuron) dan fungsi aktivasi ReLU\n",
    "ann.add(tf.keras.layers.Dense(units=6, activation='relu'))\n"
   ]
  },
  {
   "cell_type": "markdown",
   "metadata": {},
   "source": [
    "### Langkah 3 - Membuat Hidden Layer Kedua\n"
   ]
  },
  {
   "cell_type": "code",
   "execution_count": 12,
   "metadata": {},
   "outputs": [],
   "source": [
    "# Menambahkan layer dense (terhubung penuh) tambahan ke dalam model jaringan saraf\n",
    "# dengan 6 unit (neuron) dan fungsi aktivasi ReLU\n",
    "ann.add(tf.keras.layers.Dense(units=6, activation='relu'))\n"
   ]
  },
  {
   "cell_type": "markdown",
   "metadata": {},
   "source": [
    "### Langkah 4 - Membuat Output Layer\n"
   ]
  },
  {
   "cell_type": "code",
   "execution_count": 13,
   "metadata": {},
   "outputs": [],
   "source": [
    "# Menambahkan layer dense (terhubung penuh) tambahan ke dalam model jaringan saraf\n",
    "# dengan 1 unit (neuron) dan fungsi aktivasi sigmoid\n",
    "ann.add(tf.keras.layers.Dense(units=1, activation='sigmoid'))\n"
   ]
  },
  {
   "cell_type": "markdown",
   "metadata": {},
   "source": [
    "## Training Model\n"
   ]
  },
  {
   "cell_type": "markdown",
   "metadata": {},
   "source": [
    "### Langkah 1 - Compile Model (Menyatukan Arsitektur) ANN\n"
   ]
  },
  {
   "cell_type": "code",
   "execution_count": 14,
   "metadata": {},
   "outputs": [],
   "source": [
    "# Mengompilasi model jaringan saraf dengan konfigurasi tertentu\n",
    "# - 'adam': optimizer yang digunakan adalah Adam, yang merupakan algoritma optimisasi yang umum digunakan\n",
    "# - 'binary_crossentropy': loss function yang digunakan untuk masalah klasifikasi biner\n",
    "# - ['accuracy']: metrik yang akan dihitung adalah akurasi\n",
    "ann.compile(optimizer='adam', loss='binary_crossentropy', metrics=['accuracy'])\n"
   ]
  },
  {
   "cell_type": "markdown",
   "metadata": {},
   "source": [
    "### Langkah 2 - Fitting Model\n"
   ]
  },
  {
   "cell_type": "code",
   "execution_count": 15,
   "metadata": {},
   "outputs": [
    {
     "name": "stdout",
     "output_type": "stream",
     "text": [
      "Epoch 1/100\n",
      "250/250 [==============================] - 1s 1ms/step - loss: 0.6433 - accuracy: 0.6814\n",
      "Epoch 2/100\n",
      "250/250 [==============================] - 0s 653us/step - loss: 0.5001 - accuracy: 0.7984\n",
      "Epoch 3/100\n",
      "250/250 [==============================] - 0s 660us/step - loss: 0.4497 - accuracy: 0.8066\n",
      "Epoch 4/100\n",
      "250/250 [==============================] - 0s 661us/step - loss: 0.4306 - accuracy: 0.8119\n",
      "Epoch 5/100\n",
      "250/250 [==============================] - 0s 654us/step - loss: 0.4151 - accuracy: 0.8234\n",
      "Epoch 6/100\n",
      "250/250 [==============================] - 0s 654us/step - loss: 0.3971 - accuracy: 0.8330\n",
      "Epoch 7/100\n",
      "250/250 [==============================] - 0s 623us/step - loss: 0.3840 - accuracy: 0.8375\n",
      "Epoch 8/100\n",
      "250/250 [==============================] - 0s 620us/step - loss: 0.3747 - accuracy: 0.8405\n",
      "Epoch 9/100\n",
      "250/250 [==============================] - 0s 619us/step - loss: 0.3689 - accuracy: 0.8426\n",
      "Epoch 10/100\n",
      "250/250 [==============================] - 0s 614us/step - loss: 0.3638 - accuracy: 0.8451\n",
      "Epoch 11/100\n",
      "250/250 [==============================] - 0s 603us/step - loss: 0.3604 - accuracy: 0.8474\n",
      "Epoch 12/100\n",
      "250/250 [==============================] - 0s 592us/step - loss: 0.3580 - accuracy: 0.8497\n",
      "Epoch 13/100\n",
      "250/250 [==============================] - 0s 614us/step - loss: 0.3560 - accuracy: 0.8503\n",
      "Epoch 14/100\n",
      "250/250 [==============================] - 0s 602us/step - loss: 0.3540 - accuracy: 0.8503\n",
      "Epoch 15/100\n",
      "250/250 [==============================] - 0s 596us/step - loss: 0.3520 - accuracy: 0.8518\n",
      "Epoch 16/100\n",
      "250/250 [==============================] - 0s 616us/step - loss: 0.3504 - accuracy: 0.8530\n",
      "Epoch 17/100\n",
      "250/250 [==============================] - 0s 620us/step - loss: 0.3493 - accuracy: 0.8541\n",
      "Epoch 18/100\n",
      "250/250 [==============================] - 0s 593us/step - loss: 0.3481 - accuracy: 0.8547\n",
      "Epoch 19/100\n",
      "250/250 [==============================] - 0s 613us/step - loss: 0.3470 - accuracy: 0.8550\n",
      "Epoch 20/100\n",
      "250/250 [==============================] - 0s 590us/step - loss: 0.3463 - accuracy: 0.8575\n",
      "Epoch 21/100\n",
      "250/250 [==============================] - 0s 608us/step - loss: 0.3456 - accuracy: 0.8569\n",
      "Epoch 22/100\n",
      "250/250 [==============================] - 0s 591us/step - loss: 0.3444 - accuracy: 0.8579\n",
      "Epoch 23/100\n",
      "250/250 [==============================] - 0s 603us/step - loss: 0.3441 - accuracy: 0.8590\n",
      "Epoch 24/100\n",
      "250/250 [==============================] - 0s 603us/step - loss: 0.3434 - accuracy: 0.8585\n",
      "Epoch 25/100\n",
      "250/250 [==============================] - 0s 591us/step - loss: 0.3422 - accuracy: 0.8596\n",
      "Epoch 26/100\n",
      "250/250 [==============================] - 0s 605us/step - loss: 0.3415 - accuracy: 0.8602\n",
      "Epoch 27/100\n",
      "250/250 [==============================] - 0s 603us/step - loss: 0.3411 - accuracy: 0.8601\n",
      "Epoch 28/100\n",
      "250/250 [==============================] - 0s 585us/step - loss: 0.3408 - accuracy: 0.8618\n",
      "Epoch 29/100\n",
      "250/250 [==============================] - 0s 620us/step - loss: 0.3398 - accuracy: 0.8626\n",
      "Epoch 30/100\n",
      "250/250 [==============================] - 0s 597us/step - loss: 0.3391 - accuracy: 0.8633\n",
      "Epoch 31/100\n",
      "250/250 [==============================] - 0s 621us/step - loss: 0.3388 - accuracy: 0.8624\n",
      "Epoch 32/100\n",
      "250/250 [==============================] - 0s 632us/step - loss: 0.3385 - accuracy: 0.8627\n",
      "Epoch 33/100\n",
      "250/250 [==============================] - 0s 620us/step - loss: 0.3377 - accuracy: 0.8629\n",
      "Epoch 34/100\n",
      "250/250 [==============================] - 0s 595us/step - loss: 0.3375 - accuracy: 0.8631\n",
      "Epoch 35/100\n",
      "250/250 [==============================] - 0s 615us/step - loss: 0.3370 - accuracy: 0.8636\n",
      "Epoch 36/100\n",
      "250/250 [==============================] - 0s 608us/step - loss: 0.3368 - accuracy: 0.8633\n",
      "Epoch 37/100\n",
      "250/250 [==============================] - 0s 598us/step - loss: 0.3363 - accuracy: 0.8630\n",
      "Epoch 38/100\n",
      "250/250 [==============================] - 0s 628us/step - loss: 0.3361 - accuracy: 0.8630\n",
      "Epoch 39/100\n",
      "250/250 [==============================] - 0s 599us/step - loss: 0.3359 - accuracy: 0.8644\n",
      "Epoch 40/100\n",
      "250/250 [==============================] - 0s 615us/step - loss: 0.3359 - accuracy: 0.8660\n",
      "Epoch 41/100\n",
      "250/250 [==============================] - 0s 597us/step - loss: 0.3353 - accuracy: 0.8650\n",
      "Epoch 42/100\n",
      "250/250 [==============================] - 0s 593us/step - loss: 0.3352 - accuracy: 0.8648\n",
      "Epoch 43/100\n",
      "250/250 [==============================] - 0s 597us/step - loss: 0.3352 - accuracy: 0.8651\n",
      "Epoch 44/100\n",
      "250/250 [==============================] - 0s 610us/step - loss: 0.3350 - accuracy: 0.8658\n",
      "Epoch 45/100\n",
      "250/250 [==============================] - 0s 621us/step - loss: 0.3346 - accuracy: 0.8644\n",
      "Epoch 46/100\n",
      "250/250 [==============================] - 0s 616us/step - loss: 0.3343 - accuracy: 0.8641\n",
      "Epoch 47/100\n",
      "250/250 [==============================] - 0s 578us/step - loss: 0.3340 - accuracy: 0.8664\n",
      "Epoch 48/100\n",
      "250/250 [==============================] - 0s 596us/step - loss: 0.3340 - accuracy: 0.8643\n",
      "Epoch 49/100\n",
      "250/250 [==============================] - 0s 590us/step - loss: 0.3335 - accuracy: 0.8651\n",
      "Epoch 50/100\n",
      "250/250 [==============================] - 0s 599us/step - loss: 0.3326 - accuracy: 0.8669\n",
      "Epoch 51/100\n",
      "250/250 [==============================] - 0s 608us/step - loss: 0.3331 - accuracy: 0.8660\n",
      "Epoch 52/100\n",
      "250/250 [==============================] - 0s 605us/step - loss: 0.3325 - accuracy: 0.8650\n",
      "Epoch 53/100\n",
      "250/250 [==============================] - 0s 584us/step - loss: 0.3327 - accuracy: 0.8645\n",
      "Epoch 54/100\n",
      "250/250 [==============================] - 0s 586us/step - loss: 0.3320 - accuracy: 0.8675\n",
      "Epoch 55/100\n",
      "250/250 [==============================] - 0s 599us/step - loss: 0.3318 - accuracy: 0.8658\n",
      "Epoch 56/100\n",
      "250/250 [==============================] - 0s 613us/step - loss: 0.3321 - accuracy: 0.8664\n",
      "Epoch 57/100\n",
      "250/250 [==============================] - 0s 591us/step - loss: 0.3312 - accuracy: 0.8662\n",
      "Epoch 58/100\n",
      "250/250 [==============================] - 0s 598us/step - loss: 0.3312 - accuracy: 0.8648\n",
      "Epoch 59/100\n",
      "250/250 [==============================] - 0s 606us/step - loss: 0.3308 - accuracy: 0.8659\n",
      "Epoch 60/100\n",
      "250/250 [==============================] - 0s 603us/step - loss: 0.3311 - accuracy: 0.8655\n",
      "Epoch 61/100\n",
      "250/250 [==============================] - 0s 620us/step - loss: 0.3308 - accuracy: 0.8655\n",
      "Epoch 62/100\n",
      "250/250 [==============================] - 0s 589us/step - loss: 0.3305 - accuracy: 0.8669\n",
      "Epoch 63/100\n",
      "250/250 [==============================] - 0s 593us/step - loss: 0.3304 - accuracy: 0.8662\n",
      "Epoch 64/100\n",
      "250/250 [==============================] - 0s 591us/step - loss: 0.3305 - accuracy: 0.8654\n",
      "Epoch 65/100\n",
      "250/250 [==============================] - 0s 592us/step - loss: 0.3296 - accuracy: 0.8661\n",
      "Epoch 66/100\n",
      "250/250 [==============================] - 0s 608us/step - loss: 0.3295 - accuracy: 0.8662\n",
      "Epoch 67/100\n",
      "250/250 [==============================] - 0s 603us/step - loss: 0.3294 - accuracy: 0.8670\n",
      "Epoch 68/100\n",
      "250/250 [==============================] - 0s 595us/step - loss: 0.3294 - accuracy: 0.8662\n",
      "Epoch 69/100\n",
      "250/250 [==============================] - 0s 579us/step - loss: 0.3292 - accuracy: 0.8664\n",
      "Epoch 70/100\n",
      "250/250 [==============================] - 0s 587us/step - loss: 0.3291 - accuracy: 0.8677\n",
      "Epoch 71/100\n",
      "250/250 [==============================] - 0s 606us/step - loss: 0.3294 - accuracy: 0.8687\n",
      "Epoch 72/100\n",
      "250/250 [==============================] - 0s 605us/step - loss: 0.3295 - accuracy: 0.8665\n",
      "Epoch 73/100\n",
      "250/250 [==============================] - 0s 596us/step - loss: 0.3287 - accuracy: 0.8666\n",
      "Epoch 74/100\n",
      "250/250 [==============================] - 0s 621us/step - loss: 0.3284 - accuracy: 0.8659\n",
      "Epoch 75/100\n",
      "250/250 [==============================] - 0s 622us/step - loss: 0.3286 - accuracy: 0.8670\n",
      "Epoch 76/100\n",
      "250/250 [==============================] - 0s 614us/step - loss: 0.3282 - accuracy: 0.8671\n",
      "Epoch 77/100\n",
      "250/250 [==============================] - 0s 609us/step - loss: 0.3281 - accuracy: 0.8680\n",
      "Epoch 78/100\n",
      "250/250 [==============================] - 0s 586us/step - loss: 0.3285 - accuracy: 0.8675\n",
      "Epoch 79/100\n",
      "250/250 [==============================] - 0s 628us/step - loss: 0.3285 - accuracy: 0.8674\n",
      "Epoch 80/100\n",
      "250/250 [==============================] - 0s 605us/step - loss: 0.3280 - accuracy: 0.8674\n",
      "Epoch 81/100\n",
      "250/250 [==============================] - 0s 600us/step - loss: 0.3281 - accuracy: 0.8679\n",
      "Epoch 82/100\n",
      "250/250 [==============================] - 0s 607us/step - loss: 0.3279 - accuracy: 0.8654\n",
      "Epoch 83/100\n",
      "250/250 [==============================] - 0s 592us/step - loss: 0.3279 - accuracy: 0.8665\n",
      "Epoch 84/100\n",
      "250/250 [==============================] - 0s 621us/step - loss: 0.3276 - accuracy: 0.8662\n",
      "Epoch 85/100\n",
      "250/250 [==============================] - 0s 645us/step - loss: 0.3274 - accuracy: 0.8690\n",
      "Epoch 86/100\n",
      "250/250 [==============================] - 0s 608us/step - loss: 0.3280 - accuracy: 0.8676\n",
      "Epoch 87/100\n",
      "250/250 [==============================] - 0s 611us/step - loss: 0.3275 - accuracy: 0.8664\n",
      "Epoch 88/100\n",
      "250/250 [==============================] - 0s 578us/step - loss: 0.3272 - accuracy: 0.8683\n",
      "Epoch 89/100\n",
      "250/250 [==============================] - 0s 610us/step - loss: 0.3277 - accuracy: 0.8680\n",
      "Epoch 90/100\n",
      "250/250 [==============================] - 0s 588us/step - loss: 0.3267 - accuracy: 0.8665\n",
      "Epoch 91/100\n",
      "250/250 [==============================] - 0s 626us/step - loss: 0.3274 - accuracy: 0.8673\n",
      "Epoch 92/100\n",
      "250/250 [==============================] - 0s 612us/step - loss: 0.3277 - accuracy: 0.8669\n",
      "Epoch 93/100\n",
      "250/250 [==============================] - 0s 614us/step - loss: 0.3272 - accuracy: 0.8664\n",
      "Epoch 94/100\n",
      "250/250 [==============================] - 0s 637us/step - loss: 0.3270 - accuracy: 0.8677\n",
      "Epoch 95/100\n",
      "250/250 [==============================] - 0s 639us/step - loss: 0.3270 - accuracy: 0.8662\n",
      "Epoch 96/100\n",
      "250/250 [==============================] - 0s 627us/step - loss: 0.3275 - accuracy: 0.8671\n",
      "Epoch 97/100\n",
      "250/250 [==============================] - 0s 649us/step - loss: 0.3270 - accuracy: 0.8670\n",
      "Epoch 98/100\n",
      "250/250 [==============================] - 0s 631us/step - loss: 0.3270 - accuracy: 0.8666\n",
      "Epoch 99/100\n",
      "250/250 [==============================] - 0s 620us/step - loss: 0.3272 - accuracy: 0.8681\n",
      "Epoch 100/100\n",
      "250/250 [==============================] - 0s 623us/step - loss: 0.3269 - accuracy: 0.8674\n"
     ]
    },
    {
     "data": {
      "text/plain": [
       "<keras.src.callbacks.History at 0x2112ef20410>"
      ]
     },
     "execution_count": 15,
     "metadata": {},
     "output_type": "execute_result"
    }
   ],
   "source": [
    "# Melatih model jaringan saraf dengan data pelatihan\n",
    "# - X_train: data fitur pelatihan\n",
    "# - y_train: data target pelatihan\n",
    "# - batch_size: ukuran batch yang digunakan selama pelatihan\n",
    "# - epochs: jumlah iterasi pelatihan\n",
    "ann.fit(X_train, y_train, batch_size=32, epochs=100)\n"
   ]
  },
  {
   "cell_type": "markdown",
   "metadata": {},
   "source": [
    "## Membuat Prediksi\n"
   ]
  },
  {
   "cell_type": "markdown",
   "metadata": {},
   "source": [
    "Diberikan informasi sebagai berikut,\n",
    "\n",
    "- Geography: France\n",
    "- Credit Score: 600\n",
    "- Gender: Male\n",
    "- Age: 40 years old\n",
    "- Tenure: 3 years\n",
    "- Balance: $ 60000\n",
    "- Number of Products: 2\n",
    "- Does this customer have a credit card ? Yes\n",
    "- Is this customer an Active Member: Yes\n",
    "- Estimated Salary: $ 50000\n",
    "\n",
    "Apakah customer tersebut perlu dipertahankan?"
   ]
  },
  {
   "cell_type": "markdown",
   "metadata": {},
   "source": [
    "### Modelkan Data Baru dan Buat Prediksi\n"
   ]
  },
  {
   "cell_type": "code",
   "execution_count": 16,
   "metadata": {},
   "outputs": [
    {
     "name": "stdout",
     "output_type": "stream",
     "text": [
      "1/1 [==============================] - 0s 65ms/step\n",
      "[[False]]\n"
     ]
    }
   ],
   "source": [
    "# Menggunakan model 'ann' untuk memprediksi hasil berdasarkan data masukan\n",
    "print(ann.predict(sc.transform([[1, 0, 0, 600, 1, 40, 3, 60000, 2, 1, 1, 50000]])) > 0.5)"
   ]
  },
  {
   "cell_type": "markdown",
   "metadata": {},
   "source": [
    "Apakah hasilnya False?"
   ]
  },
  {
   "cell_type": "markdown",
   "metadata": {},
   "source": [
    "### Prediksi Dengan Data Testing\n"
   ]
  },
  {
   "cell_type": "code",
   "execution_count": 17,
   "metadata": {},
   "outputs": [
    {
     "name": "stdout",
     "output_type": "stream",
     "text": [
      "63/63 [==============================] - 0s 565us/step\n",
      "[[0 0]\n",
      " [0 1]\n",
      " [0 0]\n",
      " ...\n",
      " [0 0]\n",
      " [0 0]\n",
      " [0 0]]\n"
     ]
    }
   ],
   "source": [
    "# Melakukan prediksi pada data pengujian menggunakan model 'ann'\n",
    "y_pred = ann.predict(X_test)\n",
    "\n",
    "# Mengubah prediksi menjadi nilai boolean (True/False) dengan threshold 0.5\n",
    "y_pred = (y_pred > 0.5)\n",
    "\n",
    "# Menggabungkan hasil prediksi (y_pred) dengan nilai aktual (y_test) dari data pengujian\n",
    "# dan mencetak hasilnya\n",
    "print(np.concatenate((y_pred.reshape(len(y_pred), 1), y_test.reshape(len(y_test), 1)), axis=1))\n"
   ]
  },
  {
   "cell_type": "markdown",
   "metadata": {},
   "source": [
    "### Cek Akurasi dan Confusion Matrix\n"
   ]
  },
  {
   "cell_type": "code",
   "execution_count": 18,
   "metadata": {},
   "outputs": [
    {
     "name": "stdout",
     "output_type": "stream",
     "text": [
      "Matriks Konfusi:\n",
      "[[1510   85]\n",
      " [ 190  215]]\n",
      "Akurasi Model: 0.8625\n"
     ]
    }
   ],
   "source": [
    "# Mengimpor matriks konfusi (confusion matrix) dan metrik akurasi dari scikit-learn\n",
    "from sklearn.metrics import confusion_matrix, accuracy_score\n",
    "\n",
    "# Menghitung matriks konfusi\n",
    "cm = confusion_matrix(y_test, y_pred)\n",
    "\n",
    "# Mencetak matriks konfusi\n",
    "print(\"Matriks Konfusi:\")\n",
    "print(cm)\n",
    "\n",
    "# Menghitung dan mencetak akurasi model\n",
    "accuracy = accuracy_score(y_test, y_pred)\n",
    "print(\"Akurasi Model:\", accuracy)\n"
   ]
  }
 ],
 "metadata": {
  "kernelspec": {
   "display_name": "base",
   "language": "python",
   "name": "python3"
  },
  "language_info": {
   "codemirror_mode": {
    "name": "ipython",
    "version": 3
   },
   "file_extension": ".py",
   "mimetype": "text/x-python",
   "name": "python",
   "nbconvert_exporter": "python",
   "pygments_lexer": "ipython3",
   "version": "3.11.4"
  }
 },
 "nbformat": 4,
 "nbformat_minor": 2
}
