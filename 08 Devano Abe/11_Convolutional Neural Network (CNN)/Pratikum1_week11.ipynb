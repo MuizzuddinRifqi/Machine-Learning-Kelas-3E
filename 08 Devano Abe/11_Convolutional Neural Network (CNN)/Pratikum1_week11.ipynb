{
  "cells": [
    {
      "cell_type": "markdown",
      "metadata": {
        "id": "9F52Q5yPOPPD"
      },
      "source": [
        "# Praktikum 1\n",
        "## Langkah 1 - Import Library"
      ]
    },
    {
      "cell_type": "code",
      "execution_count": 32,
      "metadata": {
        "id": "9qk6UAlAN79L"
      },
      "outputs": [],
      "source": [
        "import tensorflow as tf\n",
        "from keras.preprocessing.image import ImageDataGenerator"
      ]
    },
    {
      "cell_type": "markdown",
      "metadata": {
        "id": "8AWeAb-ySFV8"
      },
      "source": [
        "# Langkah 2 - Pra Pengolahan Data\n",
        "## Langkah 2.1. Pra Pengolahan Data Training"
      ]
    },
    {
      "cell_type": "code",
      "execution_count": 17,
      "metadata": {
        "colab": {
          "base_uri": "https://localhost:8080/"
        },
        "id": "pFoirDDcPFGL",
        "outputId": "caa796b5-c6df-4603-cbfe-634454a9c2a1"
      },
      "outputs": [
        {
          "name": "stdout",
          "output_type": "stream",
          "text": [
            "Drive already mounted at /content/drive; to attempt to forcibly remount, call drive.mount(\"/content/drive\", force_remount=True).\n"
          ]
        }
      ],
      "source": [
        "\n",
        "from google.colab import drive\n",
        "drive.mount('/content/drive')\n"
      ]
    },
    {
      "cell_type": "code",
      "execution_count": 18,
      "metadata": {
        "colab": {
          "base_uri": "https://localhost:8080/"
        },
        "id": "sjrS8NAHUu6D",
        "outputId": "bdab2815-bef9-4393-9386-428534cc0657"
      },
      "outputs": [
        {
          "name": "stdout",
          "output_type": "stream",
          "text": [
            "Found 8000 images belonging to 2 classes.\n"
          ]
        }
      ],
      "source": [
        "\n",
        "train_datagen = ImageDataGenerator(rescale = 1./255,\n",
        "                                   shear_range = 0.2,\n",
        "                                   zoom_range = 0.2,\n",
        "                                   horizontal_flip = True)\n",
        "training_set = train_datagen.flow_from_directory('/content/drive/MyDrive/Machine Learning/dataset/training_set/',\n",
        "                                                 target_size = (64, 64),\n",
        "                                                 batch_size = 32,\n",
        "                                                 class_mode = 'binary')"
      ]
    },
    {
      "cell_type": "markdown",
      "metadata": {
        "id": "B36o-q4iVlEY"
      },
      "source": [
        "## Langkah 2.2. Pra Pengolahan Data Testing\n"
      ]
    },
    {
      "cell_type": "code",
      "execution_count": 19,
      "metadata": {
        "colab": {
          "base_uri": "https://localhost:8080/"
        },
        "id": "jyFDAUn0VUEm",
        "outputId": "bc8a3bf6-6361-43a3-83e7-9380cfd2d869"
      },
      "outputs": [
        {
          "name": "stdout",
          "output_type": "stream",
          "text": [
            "Found 2000 images belonging to 2 classes.\n"
          ]
        }
      ],
      "source": [
        "\n",
        "test_datagen = ImageDataGenerator(rescale = 1./255)\n",
        "test_set = test_datagen.flow_from_directory('/content/drive/MyDrive/Machine Learning/dataset/test_set/',\n",
        "                                            target_size = (64, 64),\n",
        "                                            batch_size = 32,\n",
        "                                            class_mode = 'binary')"
      ]
    },
    {
      "cell_type": "markdown",
      "metadata": {
        "id": "i3wXHBWFnaWR"
      },
      "source": [
        "# Langkah 3 - Pembuatan Model CNN\n",
        "## Langkah 3.1. - Inisiasi Model CNN"
      ]
    },
    {
      "cell_type": "code",
      "execution_count": 20,
      "metadata": {
        "id": "EmtcvVGNVtC1"
      },
      "outputs": [],
      "source": [
        "\n",
        "cnn = tf.keras.models.Sequential()"
      ]
    },
    {
      "cell_type": "markdown",
      "metadata": {
        "id": "GxxKrsGFnemJ"
      },
      "source": [
        "## Langkah 3.2. - Pembuatan Layer Konvolusi 1"
      ]
    },
    {
      "cell_type": "code",
      "execution_count": 21,
      "metadata": {
        "id": "6RYUVz9wndTY"
      },
      "outputs": [],
      "source": [
        "\n",
        "cnn.add(tf.keras.layers.Conv2D(filters=32, kernel_size=3, activation='relu', input_shape=[64, 64, 3]))"
      ]
    },
    {
      "cell_type": "markdown",
      "metadata": {
        "id": "NTw-aKL2nilR"
      },
      "source": [
        "## Langkah 3.3 - Pembuatan Layer Pooling 1"
      ]
    },
    {
      "cell_type": "code",
      "execution_count": 22,
      "metadata": {
        "id": "45o6tjGpnhRg"
      },
      "outputs": [],
      "source": [
        "cnn.add(tf.keras.layers.MaxPool2D(pool_size=2, strides=2))"
      ]
    },
    {
      "cell_type": "markdown",
      "metadata": {
        "id": "QvsdaF61nm1o"
      },
      "source": [
        "## Langkah 3.4 - Pembuatan Layer Konvolusi 2 dan Pooling 2"
      ]
    },
    {
      "cell_type": "code",
      "execution_count": 23,
      "metadata": {
        "id": "rn2G9G95nk7B"
      },
      "outputs": [],
      "source": [
        "cnn.add(tf.keras.layers.Conv2D(filters=32, kernel_size=3, activation='relu'))\n",
        "cnn.add(tf.keras.layers.MaxPool2D(pool_size=2, strides=2))"
      ]
    },
    {
      "cell_type": "markdown",
      "metadata": {
        "id": "e8yk8BbOnqSg"
      },
      "source": [
        "## Langkah 3.5 - Flattening"
      ]
    },
    {
      "cell_type": "code",
      "execution_count": 24,
      "metadata": {
        "id": "m8SwdW1wnpFM"
      },
      "outputs": [],
      "source": [
        "cnn.add(tf.keras.layers.Flatten())"
      ]
    },
    {
      "cell_type": "markdown",
      "metadata": {
        "id": "WizT16nIn004"
      },
      "source": [
        "## Langkah 3.6 - Fully Connected Layer 1 (Input)"
      ]
    },
    {
      "cell_type": "code",
      "execution_count": 25,
      "metadata": {
        "id": "ckqqCgront47"
      },
      "outputs": [],
      "source": [
        "\n",
        "cnn.add(tf.keras.layers.Dense(units=128, activation='relu'))"
      ]
    },
    {
      "cell_type": "markdown",
      "metadata": {
        "id": "LAKkXucin5tZ"
      },
      "source": [
        "## Langkah 3.7 - Fully Connected Layer 2 (Output)"
      ]
    },
    {
      "cell_type": "code",
      "execution_count": 26,
      "metadata": {
        "id": "EzG0-llnn4Qj"
      },
      "outputs": [],
      "source": [
        "\n",
        "cnn.add(tf.keras.layers.Dense(units=1, activation='sigmoid'))"
      ]
    },
    {
      "cell_type": "markdown",
      "metadata": {
        "id": "VkIjoS_bn8xi"
      },
      "source": [
        "## Langkah 3.8 - Compile Model CNN"
      ]
    },
    {
      "cell_type": "code",
      "execution_count": 27,
      "metadata": {
        "id": "031mVYVKn7b9"
      },
      "outputs": [],
      "source": [
        "cnn.compile(optimizer = 'adam', loss = 'binary_crossentropy', metrics = ['accuracy'])"
      ]
    },
    {
      "cell_type": "markdown",
      "metadata": {
        "id": "5lr8DEg3oAuh"
      },
      "source": [
        "# Langkah 4 - Fit CNN"
      ]
    },
    {
      "cell_type": "code",
      "execution_count": 28,
      "metadata": {
        "colab": {
          "base_uri": "https://localhost:8080/"
        },
        "id": "go18y9izn_hB",
        "outputId": "17bd567f-2311-41d3-f7fa-80f7e61340f9"
      },
      "outputs": [
        {
          "name": "stdout",
          "output_type": "stream",
          "text": [
            "Epoch 1/25\n",
            "250/250 [==============================] - 86s 335ms/step - loss: 0.6853 - accuracy: 0.5590 - val_loss: 0.6422 - val_accuracy: 0.6380\n",
            "Epoch 2/25\n",
            "250/250 [==============================] - 78s 312ms/step - loss: 0.6251 - accuracy: 0.6503 - val_loss: 0.6333 - val_accuracy: 0.6265\n",
            "Epoch 3/25\n",
            "250/250 [==============================] - 82s 328ms/step - loss: 0.5807 - accuracy: 0.6973 - val_loss: 0.5736 - val_accuracy: 0.7220\n",
            "Epoch 4/25\n",
            "250/250 [==============================] - 81s 324ms/step - loss: 0.5505 - accuracy: 0.7221 - val_loss: 0.5273 - val_accuracy: 0.7410\n",
            "Epoch 5/25\n",
            "250/250 [==============================] - 78s 311ms/step - loss: 0.5158 - accuracy: 0.7433 - val_loss: 0.5527 - val_accuracy: 0.7195\n",
            "Epoch 6/25\n",
            "250/250 [==============================] - 80s 319ms/step - loss: 0.4928 - accuracy: 0.7586 - val_loss: 0.5150 - val_accuracy: 0.7510\n",
            "Epoch 7/25\n",
            "250/250 [==============================] - 81s 325ms/step - loss: 0.4729 - accuracy: 0.7715 - val_loss: 0.4680 - val_accuracy: 0.7775\n",
            "Epoch 8/25\n",
            "250/250 [==============================] - 80s 318ms/step - loss: 0.4601 - accuracy: 0.7889 - val_loss: 0.4693 - val_accuracy: 0.7820\n",
            "Epoch 9/25\n",
            "250/250 [==============================] - 80s 319ms/step - loss: 0.4379 - accuracy: 0.7916 - val_loss: 0.4781 - val_accuracy: 0.7825\n",
            "Epoch 10/25\n",
            "250/250 [==============================] - 76s 305ms/step - loss: 0.4326 - accuracy: 0.7987 - val_loss: 0.4826 - val_accuracy: 0.7700\n",
            "Epoch 11/25\n",
            "250/250 [==============================] - 80s 320ms/step - loss: 0.4183 - accuracy: 0.8076 - val_loss: 0.5090 - val_accuracy: 0.7525\n",
            "Epoch 12/25\n",
            "250/250 [==============================] - 78s 310ms/step - loss: 0.4010 - accuracy: 0.8133 - val_loss: 0.4771 - val_accuracy: 0.7700\n",
            "Epoch 13/25\n",
            "250/250 [==============================] - 76s 306ms/step - loss: 0.3791 - accuracy: 0.8316 - val_loss: 0.4497 - val_accuracy: 0.8030\n",
            "Epoch 14/25\n",
            "250/250 [==============================] - 77s 308ms/step - loss: 0.3722 - accuracy: 0.8329 - val_loss: 0.4385 - val_accuracy: 0.8100\n",
            "Epoch 15/25\n",
            "250/250 [==============================] - 84s 334ms/step - loss: 0.3548 - accuracy: 0.8405 - val_loss: 0.4530 - val_accuracy: 0.7965\n",
            "Epoch 16/25\n",
            "250/250 [==============================] - 77s 309ms/step - loss: 0.3375 - accuracy: 0.8501 - val_loss: 0.5387 - val_accuracy: 0.7635\n",
            "Epoch 17/25\n",
            "250/250 [==============================] - 79s 315ms/step - loss: 0.3316 - accuracy: 0.8529 - val_loss: 0.4767 - val_accuracy: 0.7865\n",
            "Epoch 18/25\n",
            "250/250 [==============================] - 81s 323ms/step - loss: 0.3000 - accuracy: 0.8706 - val_loss: 0.4667 - val_accuracy: 0.7910\n",
            "Epoch 19/25\n",
            "250/250 [==============================] - 76s 304ms/step - loss: 0.3043 - accuracy: 0.8692 - val_loss: 0.4534 - val_accuracy: 0.8165\n",
            "Epoch 20/25\n",
            "250/250 [==============================] - 78s 314ms/step - loss: 0.2846 - accuracy: 0.8773 - val_loss: 0.4613 - val_accuracy: 0.8170\n",
            "Epoch 21/25\n",
            "250/250 [==============================] - 80s 319ms/step - loss: 0.2558 - accuracy: 0.8940 - val_loss: 0.5048 - val_accuracy: 0.8105\n",
            "Epoch 22/25\n",
            "250/250 [==============================] - 88s 352ms/step - loss: 0.2531 - accuracy: 0.8926 - val_loss: 0.4914 - val_accuracy: 0.8015\n",
            "Epoch 23/25\n",
            "250/250 [==============================] - 79s 314ms/step - loss: 0.2421 - accuracy: 0.9018 - val_loss: 0.4916 - val_accuracy: 0.7955\n",
            "Epoch 24/25\n",
            "250/250 [==============================] - 80s 318ms/step - loss: 0.2341 - accuracy: 0.9071 - val_loss: 0.5413 - val_accuracy: 0.8020\n",
            "Epoch 25/25\n",
            "250/250 [==============================] - 79s 316ms/step - loss: 0.2201 - accuracy: 0.9094 - val_loss: 0.5095 - val_accuracy: 0.8130\n"
          ]
        },
        {
          "data": {
            "text/plain": [
              "<keras.src.callbacks.History at 0x79c36826c970>"
            ]
          },
          "execution_count": 28,
          "metadata": {},
          "output_type": "execute_result"
        }
      ],
      "source": [
        "# @title Default title text\n",
        "cnn.fit(x = training_set, validation_data = test_set, epochs = 25)\n"
      ]
    },
    {
      "cell_type": "markdown",
      "metadata": {
        "id": "7K0VrCrgIzi1"
      },
      "source": [
        "# Langkah 5 - Prediksi dengan 1 Citra"
      ]
    },
    {
      "cell_type": "code",
      "execution_count": 35,
      "metadata": {
        "colab": {
          "base_uri": "https://localhost:8080/"
        },
        "id": "8_052wpcoDiV",
        "outputId": "efb83d85-d698-47dc-d875-e1ad124c01a2"
      },
      "outputs": [
        {
          "name": "stdout",
          "output_type": "stream",
          "text": [
            "1/1 [==============================] - 0s 167ms/step\n",
            "dog\n"
          ]
        }
      ],
      "source": [
        "\n",
        "import numpy as np\n",
        "from keras.preprocessing import image\n",
        "test_image = image.load_img('/content/drive/MyDrive/Machine Learning/dataset/single_prediction/cat_or_dog_1.jpg', target_size = (64, 64))\n",
        "test_image = image.img_to_array(test_image)\n",
        "test_image = np.expand_dims(test_image, axis = 0)\n",
        "result = cnn.predict(test_image)\n",
        "training_set.class_indices\n",
        "if result[0][0] == 1:\n",
        "  prediction = 'dog'\n",
        "else:\n",
        "  prediction = 'cat'\n",
        "\n",
        "print(prediction)\n"
      ]
    },
    {
      "cell_type": "code",
      "execution_count": null,
      "metadata": {
        "id": "uTOlmgLoI2U2"
      },
      "outputs": [],
      "source": []
    }
  ],
  "metadata": {
    "colab": {
      "provenance": []
    },
    "kernelspec": {
      "display_name": "Python 3",
      "name": "python3"
    },
    "language_info": {
      "name": "python"
    }
  },
  "nbformat": 4,
  "nbformat_minor": 0
}
