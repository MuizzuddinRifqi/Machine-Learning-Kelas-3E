{
 "cells": [
  {
   "cell_type": "markdown",
   "metadata": {},
   "source": [
    "# Praktikum 2 - Klasifikasi Berita dengan Perceptron"
   ]
  },
  {
   "cell_type": "markdown",
   "metadata": {},
   "source": [
    "#### Langkah 1 - Import Library"
   ]
  },
  {
   "cell_type": "code",
   "execution_count": 1,
   "metadata": {},
   "outputs": [],
   "source": [
    "from sklearn.datasets import fetch_20newsgroups # Datensatz\n",
    "from sklearn.feature_extraction.text import TfidfVectorizer # Feature Extraction\n",
    "from sklearn.linear_model import Perceptron # Klassifikator\n",
    "from sklearn.metrics import f1_score, classification_report, confusion_matrix # Evaluation"
   ]
  },
  {
   "cell_type": "markdown",
   "metadata": {},
   "source": [
    "#### Langkah 2 - Pilih Label dan Split Data"
   ]
  },
  {
   "cell_type": "code",
   "execution_count": 2,
   "metadata": {},
   "outputs": [],
   "source": [
    "# persiapan kategori data yang diklasifikasi\n",
    "\n",
    "categories = ['rec.sport.hockey','rec.sport.baseball', 'rec.autos'] # kategori yang akan diklasifikasi\n",
    "newsgroups_train = fetch_20newsgroups(subset='train',categories=categories,remove=('headers','footers','quotes')) # mengambil data training\n",
    "newsgroups_test = fetch_20newsgroups(subset='test',categories=categories,remove=('headers','footers','quotes')) # mengambil data testing"
   ]
  },
  {
   "cell_type": "markdown",
   "metadata": {},
   "source": [
    "#### Langkah 3 - Ekstrak Fitur dan Buat Model Perceptron"
   ]
  },
  {
   "cell_type": "code",
   "execution_count": 3,
   "metadata": {},
   "outputs": [
    {
     "name": "stdout",
     "output_type": "stream",
     "text": [
      "              precision    recall  f1-score   support\n",
      "\n",
      "           0       0.88      0.88      0.88       396\n",
      "           1       0.82      0.83      0.83       397\n",
      "           2       0.88      0.87      0.87       399\n",
      "\n",
      "    accuracy                           0.86      1192\n",
      "   macro avg       0.86      0.86      0.86      1192\n",
      "weighted avg       0.86      0.86      0.86      1192\n",
      "\n"
     ]
    }
   ],
   "source": [
    "# penerapan klasifikasi dokumen\n",
    "\n",
    "vectorizer = TfidfVectorizer() # mengubah dokumen menjadi vektor\n",
    "X_train = vectorizer.fit_transform(newsgroups_train.data) # mengubah data training menjadi vektor\n",
    "X_test = vectorizer.transform(newsgroups_test.data) # mengubah data testing menjadi vektor\n",
    "clf = Perceptron(random_state=11) # mengklasifikasi data dengan perceptron\n",
    "clf.fit(X_train,newsgroups_train.target) # melatih data training\n",
    "predictions = clf.predict(X_test) # memprediksi data testing\n",
    "print(classification_report(newsgroups_test.target,predictions)) # menampilkan hasil klasifikasi"
   ]
  }
 ],
 "metadata": {
  "kernelspec": {
   "display_name": "base",
   "language": "python",
   "name": "python3"
  },
  "language_info": {
   "codemirror_mode": {
    "name": "ipython",
    "version": 3
   },
   "file_extension": ".py",
   "mimetype": "text/x-python",
   "name": "python",
   "nbconvert_exporter": "python",
   "pygments_lexer": "ipython3",
   "version": "3.11.4"
  },
  "orig_nbformat": 4
 },
 "nbformat": 4,
 "nbformat_minor": 2
}
