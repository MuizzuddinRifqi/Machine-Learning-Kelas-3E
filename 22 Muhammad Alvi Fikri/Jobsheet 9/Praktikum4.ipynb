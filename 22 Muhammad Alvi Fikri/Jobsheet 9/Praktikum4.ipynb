{
 "cells": [
  {
   "cell_type": "markdown",
   "metadata": {},
   "source": [
    "# Praktikum 4 - Klasifikasi dengan ANN"
   ]
  },
  {
   "cell_type": "markdown",
   "metadata": {},
   "source": [
    "### Install Library Tensorflow"
   ]
  },
  {
   "cell_type": "code",
   "execution_count": 1,
   "metadata": {},
   "outputs": [
    {
     "name": "stdout",
     "output_type": "stream",
     "text": [
      "Requirement already satisfied: pip in c:\\users\\toshiba\\anaconda3\\lib\\site-packages (23.3.1)\n",
      "Note: you may need to restart the kernel to use updated packages.\n"
     ]
    }
   ],
   "source": [
    "%pip install --upgrade pip"
   ]
  },
  {
   "cell_type": "code",
   "execution_count": 2,
   "metadata": {},
   "outputs": [
    {
     "name": "stdout",
     "output_type": "stream",
     "text": [
      "Requirement already satisfied: tensorflow in c:\\users\\toshiba\\anaconda3\\lib\\site-packages (2.14.0)\n",
      "Requirement already satisfied: tensorflow-intel==2.14.0 in c:\\users\\toshiba\\anaconda3\\lib\\site-packages (from tensorflow) (2.14.0)\n",
      "Requirement already satisfied: absl-py>=1.0.0 in c:\\users\\toshiba\\anaconda3\\lib\\site-packages (from tensorflow-intel==2.14.0->tensorflow) (2.0.0)\n",
      "Requirement already satisfied: astunparse>=1.6.0 in c:\\users\\toshiba\\anaconda3\\lib\\site-packages (from tensorflow-intel==2.14.0->tensorflow) (1.6.3)\n",
      "Requirement already satisfied: flatbuffers>=23.5.26 in c:\\users\\toshiba\\anaconda3\\lib\\site-packages (from tensorflow-intel==2.14.0->tensorflow) (23.5.26)\n",
      "Requirement already satisfied: gast!=0.5.0,!=0.5.1,!=0.5.2,>=0.2.1 in c:\\users\\toshiba\\anaconda3\\lib\\site-packages (from tensorflow-intel==2.14.0->tensorflow) (0.5.4)\n",
      "Requirement already satisfied: google-pasta>=0.1.1 in c:\\users\\toshiba\\anaconda3\\lib\\site-packages (from tensorflow-intel==2.14.0->tensorflow) (0.2.0)\n",
      "Requirement already satisfied: h5py>=2.9.0 in c:\\users\\toshiba\\anaconda3\\lib\\site-packages (from tensorflow-intel==2.14.0->tensorflow) (3.7.0)\n",
      "Requirement already satisfied: libclang>=13.0.0 in c:\\users\\toshiba\\anaconda3\\lib\\site-packages (from tensorflow-intel==2.14.0->tensorflow) (16.0.6)\n",
      "Requirement already satisfied: ml-dtypes==0.2.0 in c:\\users\\toshiba\\anaconda3\\lib\\site-packages (from tensorflow-intel==2.14.0->tensorflow) (0.2.0)\n",
      "Requirement already satisfied: numpy>=1.23.5 in c:\\users\\toshiba\\anaconda3\\lib\\site-packages (from tensorflow-intel==2.14.0->tensorflow) (1.24.3)\n",
      "Requirement already satisfied: opt-einsum>=2.3.2 in c:\\users\\toshiba\\anaconda3\\lib\\site-packages (from tensorflow-intel==2.14.0->tensorflow) (3.3.0)\n",
      "Requirement already satisfied: packaging in c:\\users\\toshiba\\anaconda3\\lib\\site-packages (from tensorflow-intel==2.14.0->tensorflow) (23.0)\n",
      "Requirement already satisfied: protobuf!=4.21.0,!=4.21.1,!=4.21.2,!=4.21.3,!=4.21.4,!=4.21.5,<5.0.0dev,>=3.20.3 in c:\\users\\toshiba\\anaconda3\\lib\\site-packages (from tensorflow-intel==2.14.0->tensorflow) (4.24.4)\n",
      "Requirement already satisfied: setuptools in c:\\users\\toshiba\\anaconda3\\lib\\site-packages (from tensorflow-intel==2.14.0->tensorflow) (68.0.0)\n",
      "Requirement already satisfied: six>=1.12.0 in c:\\users\\toshiba\\anaconda3\\lib\\site-packages (from tensorflow-intel==2.14.0->tensorflow) (1.16.0)\n",
      "Requirement already satisfied: termcolor>=1.1.0 in c:\\users\\toshiba\\anaconda3\\lib\\site-packages (from tensorflow-intel==2.14.0->tensorflow) (2.3.0)\n",
      "Requirement already satisfied: typing-extensions>=3.6.6 in c:\\users\\toshiba\\anaconda3\\lib\\site-packages (from tensorflow-intel==2.14.0->tensorflow) (4.7.1)\n",
      "Requirement already satisfied: wrapt<1.15,>=1.11.0 in c:\\users\\toshiba\\anaconda3\\lib\\site-packages (from tensorflow-intel==2.14.0->tensorflow) (1.14.1)\n",
      "Requirement already satisfied: tensorflow-io-gcs-filesystem>=0.23.1 in c:\\users\\toshiba\\anaconda3\\lib\\site-packages (from tensorflow-intel==2.14.0->tensorflow) (0.31.0)\n",
      "Requirement already satisfied: grpcio<2.0,>=1.24.3 in c:\\users\\toshiba\\anaconda3\\lib\\site-packages (from tensorflow-intel==2.14.0->tensorflow) (1.59.0)\n",
      "Requirement already satisfied: tensorboard<2.15,>=2.14 in c:\\users\\toshiba\\anaconda3\\lib\\site-packages (from tensorflow-intel==2.14.0->tensorflow) (2.14.1)\n",
      "Requirement already satisfied: tensorflow-estimator<2.15,>=2.14.0 in c:\\users\\toshiba\\anaconda3\\lib\\site-packages (from tensorflow-intel==2.14.0->tensorflow) (2.14.0)\n",
      "Requirement already satisfied: keras<2.15,>=2.14.0 in c:\\users\\toshiba\\anaconda3\\lib\\site-packages (from tensorflow-intel==2.14.0->tensorflow) (2.14.0)\n",
      "Requirement already satisfied: wheel<1.0,>=0.23.0 in c:\\users\\toshiba\\anaconda3\\lib\\site-packages (from astunparse>=1.6.0->tensorflow-intel==2.14.0->tensorflow) (0.38.4)\n",
      "Requirement already satisfied: google-auth<3,>=1.6.3 in c:\\users\\toshiba\\anaconda3\\lib\\site-packages (from tensorboard<2.15,>=2.14->tensorflow-intel==2.14.0->tensorflow) (2.23.3)\n",
      "Requirement already satisfied: google-auth-oauthlib<1.1,>=0.5 in c:\\users\\toshiba\\anaconda3\\lib\\site-packages (from tensorboard<2.15,>=2.14->tensorflow-intel==2.14.0->tensorflow) (1.0.0)\n",
      "Requirement already satisfied: markdown>=2.6.8 in c:\\users\\toshiba\\anaconda3\\lib\\site-packages (from tensorboard<2.15,>=2.14->tensorflow-intel==2.14.0->tensorflow) (3.4.1)\n",
      "Requirement already satisfied: requests<3,>=2.21.0 in c:\\users\\toshiba\\anaconda3\\lib\\site-packages (from tensorboard<2.15,>=2.14->tensorflow-intel==2.14.0->tensorflow) (2.31.0)\n",
      "Requirement already satisfied: tensorboard-data-server<0.8.0,>=0.7.0 in c:\\users\\toshiba\\anaconda3\\lib\\site-packages (from tensorboard<2.15,>=2.14->tensorflow-intel==2.14.0->tensorflow) (0.7.2)\n",
      "Requirement already satisfied: werkzeug>=1.0.1 in c:\\users\\toshiba\\anaconda3\\lib\\site-packages (from tensorboard<2.15,>=2.14->tensorflow-intel==2.14.0->tensorflow) (2.2.3)\n",
      "Requirement already satisfied: cachetools<6.0,>=2.0.0 in c:\\users\\toshiba\\anaconda3\\lib\\site-packages (from google-auth<3,>=1.6.3->tensorboard<2.15,>=2.14->tensorflow-intel==2.14.0->tensorflow) (5.3.1)\n",
      "Requirement already satisfied: pyasn1-modules>=0.2.1 in c:\\users\\toshiba\\anaconda3\\lib\\site-packages (from google-auth<3,>=1.6.3->tensorboard<2.15,>=2.14->tensorflow-intel==2.14.0->tensorflow) (0.2.8)\n",
      "Requirement already satisfied: rsa<5,>=3.1.4 in c:\\users\\toshiba\\anaconda3\\lib\\site-packages (from google-auth<3,>=1.6.3->tensorboard<2.15,>=2.14->tensorflow-intel==2.14.0->tensorflow) (4.9)\n",
      "Requirement already satisfied: requests-oauthlib>=0.7.0 in c:\\users\\toshiba\\anaconda3\\lib\\site-packages (from google-auth-oauthlib<1.1,>=0.5->tensorboard<2.15,>=2.14->tensorflow-intel==2.14.0->tensorflow) (1.3.1)\n",
      "Requirement already satisfied: charset-normalizer<4,>=2 in c:\\users\\toshiba\\anaconda3\\lib\\site-packages (from requests<3,>=2.21.0->tensorboard<2.15,>=2.14->tensorflow-intel==2.14.0->tensorflow) (2.0.4)\n",
      "Requirement already satisfied: idna<4,>=2.5 in c:\\users\\toshiba\\anaconda3\\lib\\site-packages (from requests<3,>=2.21.0->tensorboard<2.15,>=2.14->tensorflow-intel==2.14.0->tensorflow) (3.4)\n",
      "Requirement already satisfied: urllib3<3,>=1.21.1 in c:\\users\\toshiba\\anaconda3\\lib\\site-packages (from requests<3,>=2.21.0->tensorboard<2.15,>=2.14->tensorflow-intel==2.14.0->tensorflow) (1.26.16)\n",
      "Requirement already satisfied: certifi>=2017.4.17 in c:\\users\\toshiba\\anaconda3\\lib\\site-packages (from requests<3,>=2.21.0->tensorboard<2.15,>=2.14->tensorflow-intel==2.14.0->tensorflow) (2023.7.22)\n",
      "Requirement already satisfied: MarkupSafe>=2.1.1 in c:\\users\\toshiba\\anaconda3\\lib\\site-packages (from werkzeug>=1.0.1->tensorboard<2.15,>=2.14->tensorflow-intel==2.14.0->tensorflow) (2.1.1)\n",
      "Requirement already satisfied: pyasn1<0.5.0,>=0.4.6 in c:\\users\\toshiba\\anaconda3\\lib\\site-packages (from pyasn1-modules>=0.2.1->google-auth<3,>=1.6.3->tensorboard<2.15,>=2.14->tensorflow-intel==2.14.0->tensorflow) (0.4.8)\n",
      "Requirement already satisfied: oauthlib>=3.0.0 in c:\\users\\toshiba\\anaconda3\\lib\\site-packages (from requests-oauthlib>=0.7.0->google-auth-oauthlib<1.1,>=0.5->tensorboard<2.15,>=2.14->tensorflow-intel==2.14.0->tensorflow) (3.2.2)\n",
      "Note: you may need to restart the kernel to use updated packages.\n"
     ]
    }
   ],
   "source": [
    "%pip install tensorflow"
   ]
  },
  {
   "cell_type": "markdown",
   "metadata": {},
   "source": [
    "## Pra Pengolahan Data"
   ]
  },
  {
   "cell_type": "markdown",
   "metadata": {},
   "source": [
    "#### Langkah 1 - Import Library"
   ]
  },
  {
   "cell_type": "code",
   "execution_count": 4,
   "metadata": {},
   "outputs": [],
   "source": [
    "import numpy as np \n",
    "import pandas as pd\n",
    "import tensorflow as tf"
   ]
  },
  {
   "cell_type": "markdown",
   "metadata": {},
   "source": [
    "#### Langkah 2 - Load Data"
   ]
  },
  {
   "cell_type": "code",
   "execution_count": 5,
   "metadata": {},
   "outputs": [
    {
     "name": "stdout",
     "output_type": "stream",
     "text": [
      "[[619 'France' 'Female' ... 1 1 101348.88]\n",
      " [608 'Spain' 'Female' ... 0 1 112542.58]\n",
      " [502 'France' 'Female' ... 1 0 113931.57]\n",
      " ...\n",
      " [709 'France' 'Female' ... 0 1 42085.58]\n",
      " [772 'Germany' 'Male' ... 1 0 92888.52]\n",
      " [792 'France' 'Female' ... 1 0 38190.78]]\n"
     ]
    }
   ],
   "source": [
    "dataset = pd.read_csv('dataset/Churn_Modelling.csv') # Import dataset\n",
    "X = dataset.iloc[:, 3:-1].values # Mengambil kolom 3 sampai kolom terakhir\n",
    "y = dataset.iloc[:, -1].values # Mengambil kolom terakhir\n",
    "\n",
    "# Cek data (X)\n",
    "print(X)"
   ]
  },
  {
   "cell_type": "markdown",
   "metadata": {},
   "source": [
    "#### Langkah 3 - Encoding Data Kategorikal"
   ]
  },
  {
   "cell_type": "code",
   "execution_count": 7,
   "metadata": {},
   "outputs": [
    {
     "name": "stdout",
     "output_type": "stream",
     "text": [
      "[[619 'France' 0 ... 1 1 101348.88]\n",
      " [608 'Spain' 0 ... 0 1 112542.58]\n",
      " [502 'France' 0 ... 1 0 113931.57]\n",
      " ...\n",
      " [709 'France' 0 ... 0 1 42085.58]\n",
      " [772 'Germany' 1 ... 1 0 92888.52]\n",
      " [792 'France' 0 ... 1 0 38190.78]]\n"
     ]
    }
   ],
   "source": [
    "from sklearn.preprocessing import LabelEncoder # LabelEncoder = mengubah data kategorikal menjadi numerikal\n",
    "le = LabelEncoder() # inisialisasi LabelEncoder\n",
    "X[:, 2] = le.fit_transform(X[:, 2]) # mengubah data kategorikal menjadi numerikal\n",
    "\n",
    "# Cek data (X)\n",
    "print(X)"
   ]
  },
  {
   "cell_type": "markdown",
   "metadata": {},
   "source": [
    "#### Langkah 4 - Encoding Kolom \"Geography\" dengan One Hot Encoder"
   ]
  },
  {
   "cell_type": "code",
   "execution_count": 9,
   "metadata": {},
   "outputs": [
    {
     "name": "stdout",
     "output_type": "stream",
     "text": [
      "[[1.0 0.0 1.0 ... 1 1 101348.88]\n",
      " [1.0 0.0 0.0 ... 0 1 112542.58]\n",
      " [1.0 0.0 1.0 ... 1 0 113931.57]\n",
      " ...\n",
      " [1.0 0.0 1.0 ... 0 1 42085.58]\n",
      " [0.0 1.0 0.0 ... 1 0 92888.52]\n",
      " [1.0 0.0 1.0 ... 1 0 38190.78]]\n"
     ]
    }
   ],
   "source": [
    "from sklearn.compose import ColumnTransformer # ColumnTransformer = mengubah data numerikal menjadi dummy variabel\n",
    "from sklearn.preprocessing import OneHotEncoder # OneHotEncoder = mengubah data numerikal menjadi dummy variabel\n",
    "ct = ColumnTransformer(transformers=[('encoder', OneHotEncoder(), [1])], remainder='passthrough') # inisialisasi ColumnTransformer\n",
    "X = np.array(ct.fit_transform(X)) # mengubah data numerikal menjadi dummy variabel\n",
    "\n",
    "# Cek data (X)\n",
    "print(X)"
   ]
  },
  {
   "cell_type": "markdown",
   "metadata": {},
   "source": [
    "#### Langkah 5 - Split Data"
   ]
  },
  {
   "cell_type": "code",
   "execution_count": 10,
   "metadata": {},
   "outputs": [],
   "source": [
    "from sklearn.model_selection import train_test_split # train_test_split = membagi data menjadi data training dan data testing\n",
    "X_train, X_test, y_train, y_test = train_test_split(X, y, test_size = 0.2, random_state = 0) # inisialisasi train_test_split"
   ]
  },
  {
   "cell_type": "markdown",
   "metadata": {},
   "source": [
    "#### Langkah 6 - Scaling Fitur"
   ]
  },
  {
   "cell_type": "code",
   "execution_count": 11,
   "metadata": {},
   "outputs": [],
   "source": [
    "from sklearn.preprocessing import StandardScaler # StandardScaler = mengubah data menjadi data yang memiliki mean = 0 dan standard deviasi = 1\n",
    "sc = StandardScaler() # inisialisasi StandardScaler\n",
    "X_train = sc.fit_transform(X_train) # mengubah data menjadi data yang memiliki mean = 0 dan standard deviasi = 1\n",
    "X_test = sc.transform(X_test) # mengubah data menjadi data yang memiliki mean = 0 dan standard deviasi = 1"
   ]
  },
  {
   "cell_type": "markdown",
   "metadata": {},
   "source": [
    "## Membuat Model ANN"
   ]
  },
  {
   "cell_type": "markdown",
   "metadata": {},
   "source": [
    "#### Langkah 1 - Inisiasi Model ANN"
   ]
  },
  {
   "cell_type": "code",
   "execution_count": 12,
   "metadata": {},
   "outputs": [],
   "source": [
    "ann = tf.keras.models.Sequential() # inisialisasi model sequential"
   ]
  },
  {
   "cell_type": "markdown",
   "metadata": {},
   "source": [
    "#### Langkah 2 - Membuat Input Layer dan Hidden Layer Pertama"
   ]
  },
  {
   "cell_type": "code",
   "execution_count": 13,
   "metadata": {},
   "outputs": [],
   "source": [
    "ann.add(tf.keras.layers.Dense(units=6, activation='relu')) # menambahkan layer input dan hidden layer pertama"
   ]
  },
  {
   "cell_type": "markdown",
   "metadata": {},
   "source": [
    "#### Langkah 3 - Membuat Hidden Layer Kedua"
   ]
  },
  {
   "cell_type": "code",
   "execution_count": 14,
   "metadata": {},
   "outputs": [],
   "source": [
    "ann.add(tf.keras.layers.Dense(units=6, activation='relu')) # menambahkan layer input dan hidden layer kedua"
   ]
  },
  {
   "cell_type": "markdown",
   "metadata": {},
   "source": [
    "#### Langkah 4 - Membuat Output Layer"
   ]
  },
  {
   "cell_type": "code",
   "execution_count": 15,
   "metadata": {},
   "outputs": [],
   "source": [
    "ann.add(tf.keras.layers.Dense(units=1, activation='sigmoid')) # menambahkan layer output"
   ]
  },
  {
   "cell_type": "markdown",
   "metadata": {},
   "source": [
    "## Training Model"
   ]
  },
  {
   "cell_type": "markdown",
   "metadata": {},
   "source": [
    "#### Langkah 1 - Compile Model (Menyatukan Arsitektur) ANN"
   ]
  },
  {
   "cell_type": "code",
   "execution_count": 16,
   "metadata": {},
   "outputs": [],
   "source": [
    "ann.compile(optimizer = 'adam', loss = 'binary_crossentropy', metrics = ['accuracy']) # mengcompile model"
   ]
  },
  {
   "cell_type": "markdown",
   "metadata": {},
   "source": [
    "#### Langkah 2 - Fitting Model"
   ]
  },
  {
   "cell_type": "code",
   "execution_count": 17,
   "metadata": {},
   "outputs": [
    {
     "name": "stdout",
     "output_type": "stream",
     "text": [
      "Epoch 1/100\n",
      "250/250 [==============================] - 4s 5ms/step - loss: 0.5414 - accuracy: 0.7851\n",
      "Epoch 2/100\n",
      "250/250 [==============================] - 2s 6ms/step - loss: 0.4530 - accuracy: 0.7958\n",
      "Epoch 3/100\n",
      "250/250 [==============================] - 1s 5ms/step - loss: 0.4339 - accuracy: 0.7964\n",
      "Epoch 4/100\n",
      "250/250 [==============================] - 2s 8ms/step - loss: 0.4252 - accuracy: 0.7995\n",
      "Epoch 5/100\n",
      "250/250 [==============================] - 2s 8ms/step - loss: 0.4175 - accuracy: 0.8109\n",
      "Epoch 6/100\n",
      "250/250 [==============================] - 2s 9ms/step - loss: 0.4103 - accuracy: 0.8139\n",
      "Epoch 7/100\n",
      "250/250 [==============================] - 2s 7ms/step - loss: 0.4041 - accuracy: 0.8164\n",
      "Epoch 8/100\n",
      "250/250 [==============================] - 2s 8ms/step - loss: 0.3985 - accuracy: 0.8188\n",
      "Epoch 9/100\n",
      "250/250 [==============================] - 1s 6ms/step - loss: 0.3933 - accuracy: 0.8270\n",
      "Epoch 10/100\n",
      "250/250 [==============================] - 2s 6ms/step - loss: 0.3875 - accuracy: 0.8298\n",
      "Epoch 11/100\n",
      "250/250 [==============================] - 1s 5ms/step - loss: 0.3817 - accuracy: 0.8361\n",
      "Epoch 12/100\n",
      "250/250 [==============================] - 1s 5ms/step - loss: 0.3760 - accuracy: 0.8390\n",
      "Epoch 13/100\n",
      "250/250 [==============================] - 1s 6ms/step - loss: 0.3711 - accuracy: 0.8439\n",
      "Epoch 14/100\n",
      "250/250 [==============================] - 1s 5ms/step - loss: 0.3663 - accuracy: 0.8447\n",
      "Epoch 15/100\n",
      "250/250 [==============================] - 2s 8ms/step - loss: 0.3622 - accuracy: 0.8478\n",
      "Epoch 16/100\n",
      "250/250 [==============================] - 1s 5ms/step - loss: 0.3591 - accuracy: 0.8511\n",
      "Epoch 17/100\n",
      "250/250 [==============================] - 1s 5ms/step - loss: 0.3563 - accuracy: 0.8539\n",
      "Epoch 18/100\n",
      "250/250 [==============================] - 1s 6ms/step - loss: 0.3538 - accuracy: 0.8536\n",
      "Epoch 19/100\n",
      "250/250 [==============================] - 1s 5ms/step - loss: 0.3525 - accuracy: 0.8536\n",
      "Epoch 20/100\n",
      "250/250 [==============================] - 2s 7ms/step - loss: 0.3512 - accuracy: 0.8541\n",
      "Epoch 21/100\n",
      "250/250 [==============================] - 1s 6ms/step - loss: 0.3502 - accuracy: 0.8565\n",
      "Epoch 22/100\n",
      "250/250 [==============================] - 2s 6ms/step - loss: 0.3493 - accuracy: 0.8555\n",
      "Epoch 23/100\n",
      "250/250 [==============================] - 1s 6ms/step - loss: 0.3486 - accuracy: 0.8564\n",
      "Epoch 24/100\n",
      "250/250 [==============================] - 2s 6ms/step - loss: 0.3480 - accuracy: 0.8574\n",
      "Epoch 25/100\n",
      "250/250 [==============================] - 1s 5ms/step - loss: 0.3475 - accuracy: 0.8560\n",
      "Epoch 26/100\n",
      "250/250 [==============================] - 2s 7ms/step - loss: 0.3471 - accuracy: 0.8586\n",
      "Epoch 27/100\n",
      "250/250 [==============================] - 2s 6ms/step - loss: 0.3466 - accuracy: 0.8568\n",
      "Epoch 28/100\n",
      "250/250 [==============================] - 2s 8ms/step - loss: 0.3461 - accuracy: 0.8587\n",
      "Epoch 29/100\n",
      "250/250 [==============================] - 2s 7ms/step - loss: 0.3462 - accuracy: 0.8580\n",
      "Epoch 30/100\n",
      "250/250 [==============================] - 3s 11ms/step - loss: 0.3453 - accuracy: 0.8596\n",
      "Epoch 31/100\n",
      "250/250 [==============================] - 4s 14ms/step - loss: 0.3451 - accuracy: 0.8571\n",
      "Epoch 32/100\n",
      "250/250 [==============================] - 2s 8ms/step - loss: 0.3446 - accuracy: 0.8591\n",
      "Epoch 33/100\n",
      "250/250 [==============================] - 2s 7ms/step - loss: 0.3445 - accuracy: 0.8583\n",
      "Epoch 34/100\n",
      "250/250 [==============================] - 2s 6ms/step - loss: 0.3440 - accuracy: 0.8580\n",
      "Epoch 35/100\n",
      "250/250 [==============================] - 1s 6ms/step - loss: 0.3434 - accuracy: 0.8580\n",
      "Epoch 36/100\n",
      "250/250 [==============================] - 2s 6ms/step - loss: 0.3428 - accuracy: 0.8611\n",
      "Epoch 37/100\n",
      "250/250 [==============================] - 1s 6ms/step - loss: 0.3425 - accuracy: 0.8584\n",
      "Epoch 38/100\n",
      "250/250 [==============================] - 1s 6ms/step - loss: 0.3423 - accuracy: 0.8601\n",
      "Epoch 39/100\n",
      "250/250 [==============================] - 2s 6ms/step - loss: 0.3416 - accuracy: 0.8595\n",
      "Epoch 40/100\n",
      "250/250 [==============================] - 2s 6ms/step - loss: 0.3414 - accuracy: 0.8610\n",
      "Epoch 41/100\n",
      "250/250 [==============================] - 1s 6ms/step - loss: 0.3410 - accuracy: 0.8602\n",
      "Epoch 42/100\n",
      "250/250 [==============================] - 2s 6ms/step - loss: 0.3407 - accuracy: 0.8619\n",
      "Epoch 43/100\n",
      "250/250 [==============================] - 1s 6ms/step - loss: 0.3404 - accuracy: 0.8612\n",
      "Epoch 44/100\n",
      "250/250 [==============================] - 2s 7ms/step - loss: 0.3399 - accuracy: 0.8604\n",
      "Epoch 45/100\n",
      "250/250 [==============================] - 1s 5ms/step - loss: 0.3398 - accuracy: 0.8608\n",
      "Epoch 46/100\n",
      "250/250 [==============================] - 2s 6ms/step - loss: 0.3389 - accuracy: 0.8614\n",
      "Epoch 47/100\n",
      "250/250 [==============================] - 2s 7ms/step - loss: 0.3394 - accuracy: 0.8615\n",
      "Epoch 48/100\n",
      "250/250 [==============================] - 2s 8ms/step - loss: 0.3390 - accuracy: 0.8626\n",
      "Epoch 49/100\n",
      "250/250 [==============================] - 2s 8ms/step - loss: 0.3388 - accuracy: 0.8622\n",
      "Epoch 50/100\n",
      "250/250 [==============================] - 2s 7ms/step - loss: 0.3384 - accuracy: 0.8619\n",
      "Epoch 51/100\n",
      "250/250 [==============================] - 2s 6ms/step - loss: 0.3380 - accuracy: 0.8634\n",
      "Epoch 52/100\n",
      "250/250 [==============================] - 2s 9ms/step - loss: 0.3376 - accuracy: 0.8622\n",
      "Epoch 53/100\n",
      "250/250 [==============================] - 3s 11ms/step - loss: 0.3380 - accuracy: 0.8637\n",
      "Epoch 54/100\n",
      "250/250 [==============================] - 2s 7ms/step - loss: 0.3376 - accuracy: 0.8640\n",
      "Epoch 55/100\n",
      "250/250 [==============================] - 2s 6ms/step - loss: 0.3375 - accuracy: 0.8627\n",
      "Epoch 56/100\n",
      "250/250 [==============================] - 1s 5ms/step - loss: 0.3369 - accuracy: 0.8631\n",
      "Epoch 57/100\n",
      "250/250 [==============================] - 1s 6ms/step - loss: 0.3368 - accuracy: 0.8635\n",
      "Epoch 58/100\n",
      "250/250 [==============================] - 2s 7ms/step - loss: 0.3370 - accuracy: 0.8633\n",
      "Epoch 59/100\n",
      "250/250 [==============================] - 1s 6ms/step - loss: 0.3368 - accuracy: 0.8625\n",
      "Epoch 60/100\n",
      "250/250 [==============================] - 1s 6ms/step - loss: 0.3362 - accuracy: 0.8646\n",
      "Epoch 61/100\n",
      "250/250 [==============================] - 2s 7ms/step - loss: 0.3365 - accuracy: 0.8635\n",
      "Epoch 62/100\n",
      "250/250 [==============================] - 2s 7ms/step - loss: 0.3357 - accuracy: 0.8655\n",
      "Epoch 63/100\n",
      "250/250 [==============================] - 2s 6ms/step - loss: 0.3363 - accuracy: 0.8649\n",
      "Epoch 64/100\n",
      "250/250 [==============================] - 2s 7ms/step - loss: 0.3358 - accuracy: 0.8645\n",
      "Epoch 65/100\n",
      "250/250 [==============================] - 1s 5ms/step - loss: 0.3360 - accuracy: 0.8651\n",
      "Epoch 66/100\n",
      "250/250 [==============================] - 2s 8ms/step - loss: 0.3359 - accuracy: 0.8649\n",
      "Epoch 67/100\n",
      "250/250 [==============================] - 2s 8ms/step - loss: 0.3351 - accuracy: 0.8645\n",
      "Epoch 68/100\n",
      "250/250 [==============================] - 2s 8ms/step - loss: 0.3351 - accuracy: 0.8649\n",
      "Epoch 69/100\n",
      "250/250 [==============================] - 2s 9ms/step - loss: 0.3352 - accuracy: 0.8648\n",
      "Epoch 70/100\n",
      "250/250 [==============================] - 2s 9ms/step - loss: 0.3351 - accuracy: 0.8651\n",
      "Epoch 71/100\n",
      "250/250 [==============================] - 1s 6ms/step - loss: 0.3350 - accuracy: 0.8643\n",
      "Epoch 72/100\n",
      "250/250 [==============================] - 2s 6ms/step - loss: 0.3349 - accuracy: 0.8643\n",
      "Epoch 73/100\n",
      "250/250 [==============================] - 2s 8ms/step - loss: 0.3347 - accuracy: 0.8645\n",
      "Epoch 74/100\n",
      "250/250 [==============================] - 2s 9ms/step - loss: 0.3347 - accuracy: 0.8654\n",
      "Epoch 75/100\n",
      "250/250 [==============================] - 2s 6ms/step - loss: 0.3347 - accuracy: 0.8639\n",
      "Epoch 76/100\n",
      "250/250 [==============================] - 3s 10ms/step - loss: 0.3347 - accuracy: 0.8648\n",
      "Epoch 77/100\n",
      "250/250 [==============================] - 1s 6ms/step - loss: 0.3348 - accuracy: 0.8670\n",
      "Epoch 78/100\n",
      "250/250 [==============================] - 2s 8ms/step - loss: 0.3344 - accuracy: 0.8652\n",
      "Epoch 79/100\n",
      "250/250 [==============================] - 2s 6ms/step - loss: 0.3343 - accuracy: 0.8652\n",
      "Epoch 80/100\n",
      "250/250 [==============================] - 2s 6ms/step - loss: 0.3340 - accuracy: 0.8643\n",
      "Epoch 81/100\n",
      "250/250 [==============================] - 1s 6ms/step - loss: 0.3341 - accuracy: 0.8643\n",
      "Epoch 82/100\n",
      "250/250 [==============================] - 1s 6ms/step - loss: 0.3345 - accuracy: 0.8645\n",
      "Epoch 83/100\n",
      "250/250 [==============================] - 2s 7ms/step - loss: 0.3339 - accuracy: 0.8643\n",
      "Epoch 84/100\n",
      "250/250 [==============================] - 2s 7ms/step - loss: 0.3339 - accuracy: 0.8660\n",
      "Epoch 85/100\n",
      "250/250 [==============================] - 2s 8ms/step - loss: 0.3332 - accuracy: 0.8656\n",
      "Epoch 86/100\n",
      "250/250 [==============================] - 2s 6ms/step - loss: 0.3337 - accuracy: 0.8651\n",
      "Epoch 87/100\n",
      "250/250 [==============================] - 3s 12ms/step - loss: 0.3334 - accuracy: 0.8645\n",
      "Epoch 88/100\n",
      "250/250 [==============================] - 2s 7ms/step - loss: 0.3334 - accuracy: 0.8640\n",
      "Epoch 89/100\n",
      "250/250 [==============================] - 4s 16ms/step - loss: 0.3333 - accuracy: 0.8652\n",
      "Epoch 90/100\n",
      "250/250 [==============================] - 5s 18ms/step - loss: 0.3336 - accuracy: 0.8654\n",
      "Epoch 91/100\n",
      "250/250 [==============================] - 4s 15ms/step - loss: 0.3333 - accuracy: 0.8641\n",
      "Epoch 92/100\n",
      "250/250 [==============================] - 2s 8ms/step - loss: 0.3329 - accuracy: 0.8646\n",
      "Epoch 93/100\n",
      "250/250 [==============================] - 2s 8ms/step - loss: 0.3330 - accuracy: 0.8640\n",
      "Epoch 94/100\n",
      "250/250 [==============================] - 2s 7ms/step - loss: 0.3332 - accuracy: 0.8648\n",
      "Epoch 95/100\n",
      "250/250 [==============================] - 2s 9ms/step - loss: 0.3329 - accuracy: 0.8660\n",
      "Epoch 96/100\n",
      "250/250 [==============================] - 2s 9ms/step - loss: 0.3326 - accuracy: 0.8664\n",
      "Epoch 97/100\n",
      "250/250 [==============================] - 2s 8ms/step - loss: 0.3326 - accuracy: 0.8658\n",
      "Epoch 98/100\n",
      "250/250 [==============================] - 1s 5ms/step - loss: 0.3329 - accuracy: 0.8654\n",
      "Epoch 99/100\n",
      "250/250 [==============================] - 2s 6ms/step - loss: 0.3324 - accuracy: 0.8655\n",
      "Epoch 100/100\n",
      "250/250 [==============================] - 1s 5ms/step - loss: 0.3323 - accuracy: 0.8660\n"
     ]
    },
    {
     "data": {
      "text/plain": [
       "<keras.src.callbacks.History at 0x1c0de5ab690>"
      ]
     },
     "execution_count": 17,
     "metadata": {},
     "output_type": "execute_result"
    }
   ],
   "source": [
    "ann.fit(X_train, y_train, batch_size = 32, epochs = 100) # training model"
   ]
  },
  {
   "cell_type": "markdown",
   "metadata": {},
   "source": [
    "## Membuat Prediksi\n",
    "\n",
    "Diberikan informasi sebagai berikut,\n",
    "\n",
    "- Geography: France\n",
    "- Credit Score: 600\n",
    "- Gender: Male\n",
    "- Age: 40 years old\n",
    "- Tenure: 3 years\n",
    "- Balance: $ 60000\n",
    "- Number of Products: 2\n",
    "- Does this customer have a credit card ? Yes\n",
    "- Is this customer an Active Member: Yes\n",
    "- Estimated Salary: $ 50000\n",
    "\n",
    "Apakah customer tersebut perlu dipertahankan?"
   ]
  },
  {
   "cell_type": "markdown",
   "metadata": {},
   "source": [
    "#### Modelkan Data Baru dan Buat Prediksi"
   ]
  },
  {
   "cell_type": "code",
   "execution_count": 27,
   "metadata": {},
   "outputs": [
    {
     "name": "stdout",
     "output_type": "stream",
     "text": [
      "1/1 [==============================] - 0s 63ms/step\n",
      "[[False]]\n"
     ]
    }
   ],
   "source": [
    "print(ann.predict(sc.transform([[1, 0, 0, 600, 1, 40, 3, 60000, 2, 1, 1, 50000, 0]])) > 0.5)"
   ]
  },
  {
   "cell_type": "markdown",
   "metadata": {},
   "source": [
    "#### Prediksi Dengan Data Testing"
   ]
  },
  {
   "cell_type": "code",
   "execution_count": 28,
   "metadata": {},
   "outputs": [
    {
     "name": "stdout",
     "output_type": "stream",
     "text": [
      "63/63 [==============================] - 0s 5ms/step\n",
      "[[0 0]\n",
      " [0 1]\n",
      " [0 0]\n",
      " ...\n",
      " [0 0]\n",
      " [0 0]\n",
      " [0 0]]\n"
     ]
    }
   ],
   "source": [
    "y_pred = ann.predict(X_test) # prediksi data testing\n",
    "y_pred = (y_pred > 0.5) # mengubah nilai probabilitas menjadi nilai biner\n",
    "print(np.concatenate((y_pred.reshape(len(y_pred),1), y_test.reshape(len(y_test),1)),1)) # menampilkan hasil prediksi dan nilai aktual"
   ]
  },
  {
   "cell_type": "markdown",
   "metadata": {},
   "source": [
    "#### Cek Akurasi dan Confusion Matrix"
   ]
  },
  {
   "cell_type": "code",
   "execution_count": 29,
   "metadata": {},
   "outputs": [
    {
     "name": "stdout",
     "output_type": "stream",
     "text": [
      "[[1514   81]\n",
      " [ 199  206]]\n"
     ]
    },
    {
     "data": {
      "text/plain": [
       "0.86"
      ]
     },
     "execution_count": 29,
     "metadata": {},
     "output_type": "execute_result"
    }
   ],
   "source": [
    "from sklearn.metrics import confusion_matrix, accuracy_score # confusion_matrix = menampilkan confusion matrix, accuracy_score = menampilkan akurasi\n",
    "cm = confusion_matrix(y_test, y_pred) # inisialisasi confusion matrix\n",
    "print(cm) # menampilkan confusion matrix\n",
    "accuracy_score(y_test, y_pred) # menampilkan akurasi"
   ]
  }
 ],
 "metadata": {
  "kernelspec": {
   "display_name": "base",
   "language": "python",
   "name": "python3"
  },
  "language_info": {
   "codemirror_mode": {
    "name": "ipython",
    "version": 3
   },
   "file_extension": ".py",
   "mimetype": "text/x-python",
   "name": "python",
   "nbconvert_exporter": "python",
   "pygments_lexer": "ipython3",
   "version": "3.11.4"
  },
  "orig_nbformat": 4
 },
 "nbformat": 4,
 "nbformat_minor": 2
}
