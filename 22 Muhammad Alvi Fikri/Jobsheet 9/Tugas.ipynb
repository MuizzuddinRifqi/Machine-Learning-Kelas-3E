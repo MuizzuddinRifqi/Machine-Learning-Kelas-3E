{
 "cells": [
  {
   "cell_type": "markdown",
   "metadata": {},
   "source": [
    "# Tugas"
   ]
  },
  {
   "cell_type": "markdown",
   "metadata": {},
   "source": [
    "- Lakukan klasifikasi pada data MNIST dengan menggunakan model ANN\n",
    "- Anda diperbolehkan melakukan eksplorasi terhadap,\n",
    "    - Metode pra pengolahan\n",
    "    - Pemilihan fitur\n",
    "    - Arsitektur ANN\n",
    "    - Fungsi Aktiviasi\n",
    "- ANN diimplementasikan dengan menggunakan ```tensorflow```.\n",
    "- **DIKERJAKAN SECARA BERKELOMPOK**\n",
    "- **JELASKAN HASIL YANG ANDA DAPATKAN,**\n",
    "    - **AKURASI**\n",
    "    - **CONFUSION MATRIX**\n",
    "    - **KONFIGURASI MODEL --> MULAI DARI PRA PENGOLAHAN SAMPAI ARSITEKTUR ANN**"
   ]
  },
  {
   "cell_type": "code",
   "execution_count": 4,
   "metadata": {},
   "outputs": [],
   "source": [
    "import tensorflow as tf\n",
    "from tensorflow import keras\n",
    "from tensorflow.keras import layers"
   ]
  },
  {
   "cell_type": "code",
   "execution_count": 3,
   "metadata": {},
   "outputs": [
    {
     "name": "stdout",
     "output_type": "stream",
     "text": [
      "Epoch 1/5\n",
      "1875/1875 [==============================] - 26s 12ms/step - loss: 0.2956 - accuracy: 0.9142\n",
      "Epoch 2/5\n",
      "1875/1875 [==============================] - 18s 9ms/step - loss: 0.1443 - accuracy: 0.9571\n",
      "Epoch 3/5\n",
      "1875/1875 [==============================] - 16s 9ms/step - loss: 0.1065 - accuracy: 0.9680\n",
      "Epoch 4/5\n",
      "1875/1875 [==============================] - 17s 9ms/step - loss: 0.0863 - accuracy: 0.9734\n",
      "Epoch 5/5\n",
      "1875/1875 [==============================] - 19s 10ms/step - loss: 0.0773 - accuracy: 0.9759\n",
      "313/313 [==============================] - 3s 7ms/step - loss: 0.0762 - accuracy: 0.9768\n",
      "Test accuracy: 0.9768000245094299\n",
      "313/313 [==============================] - 2s 6ms/step\n",
      "Confusion Matrix:\n",
      "tf.Tensor(\n",
      "[[ 971    0    0    1    1    1    2    1    1    2]\n",
      " [   0 1127    3    0    0    1    2    0    2    0]\n",
      " [   8    3 1001    1    2    0    4    7    6    0]\n",
      " [   2    1    8  984    0    6    0    4    4    1]\n",
      " [   0    0    2    0  959    0    8    1    3    9]\n",
      " [   3    2    0    5    0  872    5    1    2    2]\n",
      " [   5    3    0    1    2    2  945    0    0    0]\n",
      " [   3    6   13    0    0    0    0 1001    1    4]\n",
      " [   6    2    7    6    2    3    4    3  939    2]\n",
      " [   3    5    1    9    6    6    2    7    1  969]], shape=(10, 10), dtype=int32)\n"
     ]
    }
   ],
   "source": [
    "# Load the MNIST dataset\n",
    "mnist = keras.datasets.mnist # 28x28 images of hand-written digits 0-9\n",
    "(train_images, train_labels), (test_images, test_labels) = mnist.load_data() # Split into training and test sets\n",
    "\n",
    "# Preprocessing\n",
    "train_images, test_images = train_images / 255.0, test_images / 255.0 # Scale the pixel values from 0 to 1\n",
    "\n",
    "# Build the ANN model\n",
    "model = keras.Sequential([\n",
    "    layers.Flatten(input_shape=(28, 28)),  # Flatten the 28x28 input images\n",
    "    layers.Dense(128, activation='relu'),  # Hidden layer with ReLU activation\n",
    "    layers.Dropout(0.2),                  # Dropout layer to reduce overfitting\n",
    "    layers.Dense(10, activation='softmax') # Output layer with 10 classes and softmax activation\n",
    "])\n",
    "\n",
    "# Compile the model\n",
    "model.compile(optimizer='adam', # Optimizer\n",
    "              loss='sparse_categorical_crossentropy', # Loss function\n",
    "              metrics=['accuracy']) # Accuracy metric\n",
    "\n",
    "# Train the model\n",
    "model.fit(train_images, train_labels, epochs=5) # Train the model for 5 epochs\n",
    "\n",
    "# Evaluate the model on the test data\n",
    "test_loss, test_accuracy = model.evaluate(test_images, test_labels) # Evaluate the model on the test data using `evaluate`\n",
    "\n",
    "print(f'Test accuracy: {test_accuracy}') # Print test accuracy\n",
    "\n",
    "# Confusion Matrix\n",
    "predictions = model.predict(test_images) # Make predictions on the test data\n",
    "confusion_matrix = tf.math.confusion_matrix(test_labels, tf.argmax(predictions, axis=1)) # Create a confusion matrix on the test data\n",
    "print('Confusion Matrix:') # Print the confusion matrix\n",
    "print(confusion_matrix) # Print the confusion matrix\n"
   ]
  }
 ],
 "metadata": {
  "kernelspec": {
   "display_name": "base",
   "language": "python",
   "name": "python3"
  },
  "language_info": {
   "codemirror_mode": {
    "name": "ipython",
    "version": 3
   },
   "file_extension": ".py",
   "mimetype": "text/x-python",
   "name": "python",
   "nbconvert_exporter": "python",
   "pygments_lexer": "ipython3",
   "version": "3.11.4"
  },
  "orig_nbformat": 4
 },
 "nbformat": 4,
 "nbformat_minor": 2
}
