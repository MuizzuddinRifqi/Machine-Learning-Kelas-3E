{
  "nbformat": 4,
  "nbformat_minor": 0,
  "metadata": {
    "colab": {
      "provenance": []
    },
    "kernelspec": {
      "name": "python3",
      "display_name": "Python 3"
    },
    "language_info": {
      "name": "python"
    }
  },
  "cells": [
    {
      "cell_type": "markdown",
      "source": [
        "# Praktikum 2 - Generator Teks dengan RNN"
      ],
      "metadata": {
        "id": "LEuNpbmeSkcc"
      }
    },
    {
      "cell_type": "markdown",
      "source": [
        "## Setup\n",
        "Import TensorFlow"
      ],
      "metadata": {
        "id": "3-8iUCsHSsOf"
      }
    },
    {
      "cell_type": "code",
      "source": [
        "import tensorflow as tf\n",
        "import numpy as np\n",
        "import os\n",
        "import time"
      ],
      "metadata": {
        "id": "vfGjzg_4Su4d"
      },
      "execution_count": 1,
      "outputs": []
    },
    {
      "cell_type": "code",
      "source": [
        "path_to_file=tf.keras.utils.get_file('shakespeare.txt','https://storage.googleapis.com/download.tensorflow.org/data/shakespeare.txt')"
      ],
      "metadata": {
        "id": "4m0AWw2zTvCA",
        "colab": {
          "base_uri": "https://localhost:8080/"
        },
        "outputId": "85c8b7fb-2332-462e-c59f-c7befacf17fd"
      },
      "execution_count": 2,
      "outputs": [
        {
          "output_type": "stream",
          "name": "stdout",
          "text": [
            "Downloading data from https://storage.googleapis.com/download.tensorflow.org/data/shakespeare.txt\n",
            "1115394/1115394 [==============================] - 0s 0us/step\n"
          ]
        }
      ]
    },
    {
      "cell_type": "markdown",
      "source": [
        "Load Data"
      ],
      "metadata": {
        "id": "pyjDQCOqT_ah"
      }
    },
    {
      "cell_type": "code",
      "source": [
        "# Read, then decode for py2 compat.\n",
        "text = open(path_to_file, 'rb').read().decode(encoding='utf-8')\n",
        "# length of text is the number of characters in it\n",
        "print(f'Length of text: {len(text)} characters')"
      ],
      "metadata": {
        "colab": {
          "base_uri": "https://localhost:8080/"
        },
        "id": "-VfzjHLAT1oL",
        "outputId": "5d88f65e-9b27-4d7f-c2d6-63979c681d70"
      },
      "execution_count": 3,
      "outputs": [
        {
          "output_type": "stream",
          "name": "stdout",
          "text": [
            "Length of text: 1115394 characters\n"
          ]
        }
      ]
    },
    {
      "cell_type": "code",
      "source": [
        "# Take a look at the first 250 characters in text\n",
        "print(text[:250])"
      ],
      "metadata": {
        "colab": {
          "base_uri": "https://localhost:8080/"
        },
        "id": "Q9eCKZ8PUFH8",
        "outputId": "133ffb74-f540-44d1-d450-2cb5408475ee"
      },
      "execution_count": 4,
      "outputs": [
        {
          "output_type": "stream",
          "name": "stdout",
          "text": [
            "First Citizen:\n",
            "Before we proceed any further, hear me speak.\n",
            "\n",
            "All:\n",
            "Speak, speak.\n",
            "\n",
            "First Citizen:\n",
            "You are all resolved rather to die than to famish?\n",
            "\n",
            "All:\n",
            "Resolved. resolved.\n",
            "\n",
            "First Citizen:\n",
            "First, you know Caius Marcius is chief enemy to the people.\n",
            "\n"
          ]
        }
      ]
    },
    {
      "cell_type": "code",
      "source": [
        "# The unique characters in the file\n",
        "vocab = sorted(set(text))\n",
        "print(f'{len(vocab)} unique characters')"
      ],
      "metadata": {
        "colab": {
          "base_uri": "https://localhost:8080/"
        },
        "id": "byUUgrJNUHmJ",
        "outputId": "829f2855-cb71-46c1-daab-7139a0d965b3"
      },
      "execution_count": 5,
      "outputs": [
        {
          "output_type": "stream",
          "name": "stdout",
          "text": [
            "65 unique characters\n"
          ]
        }
      ]
    },
    {
      "cell_type": "markdown",
      "source": [
        "## Olah Teks\n",
        "Vectorize Teks"
      ],
      "metadata": {
        "id": "fxD11L3lULv0"
      }
    },
    {
      "cell_type": "code",
      "source": [
        "example_texts = ['abcdefg', 'xyz']\n",
        "chars = tf.strings.unicode_split(example_texts, input_encoding='UTF-8')\n",
        "print(chars)"
      ],
      "metadata": {
        "colab": {
          "base_uri": "https://localhost:8080/"
        },
        "id": "zBer_ZHAUmXb",
        "outputId": "f8f5df53-9317-47dd-c553-3451ab47dca4"
      },
      "execution_count": 8,
      "outputs": [
        {
          "output_type": "stream",
          "name": "stdout",
          "text": [
            "<tf.RaggedTensor [[b'a', b'b', b'c', b'd', b'e', b'f', b'g'], [b'x', b'y', b'z']]>\n"
          ]
        }
      ]
    },
    {
      "cell_type": "code",
      "source": [
        "ids_from_chars = tf.keras.layers.StringLookup(\n",
        "vocabulary=list(vocab), mask_token=None)"
      ],
      "metadata": {
        "id": "yTNMYQ3VElAd"
      },
      "execution_count": 10,
      "outputs": []
    },
    {
      "cell_type": "code",
      "source": [
        "ids = ids_from_chars(chars)\n",
        "ids"
      ],
      "metadata": {
        "colab": {
          "base_uri": "https://localhost:8080/"
        },
        "id": "fnzuMRB3I3Fl",
        "outputId": "dce6ffcf-4e1e-47fd-d23c-574394508749"
      },
      "execution_count": 12,
      "outputs": [
        {
          "output_type": "execute_result",
          "data": {
            "text/plain": [
              "<tf.RaggedTensor [[40, 41, 42, 43, 44, 45, 46], [63, 64, 65]]>"
            ]
          },
          "metadata": {},
          "execution_count": 12
        }
      ]
    },
    {
      "cell_type": "code",
      "source": [
        "chars_from_ids = tf.keras.layers.StringLookup(\n",
        "    vocabulary=ids_from_chars.get_vocabulary(), invert=True, mask_token=None)"
      ],
      "metadata": {
        "id": "ddQnZEdZI9Wx"
      },
      "execution_count": 13,
      "outputs": []
    },
    {
      "cell_type": "code",
      "source": [
        "chars = chars_from_ids(ids)\n",
        "chars"
      ],
      "metadata": {
        "colab": {
          "base_uri": "https://localhost:8080/"
        },
        "id": "VXZbEhS1I_76",
        "outputId": "f6540183-90cd-4622-9cc6-9384a52daaec"
      },
      "execution_count": 14,
      "outputs": [
        {
          "output_type": "execute_result",
          "data": {
            "text/plain": [
              "<tf.RaggedTensor [[b'a', b'b', b'c', b'd', b'e', b'f', b'g'], [b'x', b'y', b'z']]>"
            ]
          },
          "metadata": {},
          "execution_count": 14
        }
      ]
    },
    {
      "cell_type": "code",
      "source": [
        "tf.strings.reduce_join(chars, axis=-1).numpy()"
      ],
      "metadata": {
        "colab": {
          "base_uri": "https://localhost:8080/"
        },
        "id": "dpRx35A_KGen",
        "outputId": "ce548345-8919-46aa-cb26-a23f188c55fb"
      },
      "execution_count": 16,
      "outputs": [
        {
          "output_type": "execute_result",
          "data": {
            "text/plain": [
              "array([b'abcdefg', b'xyz'], dtype=object)"
            ]
          },
          "metadata": {},
          "execution_count": 16
        }
      ]
    },
    {
      "cell_type": "code",
      "source": [
        "def text_from_ids(ids):\n",
        "    return tf.strings.reduce_join(chars_from_ids(ids), axis=-1)"
      ],
      "metadata": {
        "id": "Xgp2ruS3KNSs"
      },
      "execution_count": 17,
      "outputs": []
    },
    {
      "cell_type": "markdown",
      "source": [
        "## Prediksi\n",
        "Membuat Trianing Set dan Target"
      ],
      "metadata": {
        "id": "V8wX10Z2KZAl"
      }
    },
    {
      "cell_type": "code",
      "source": [
        "all_ids = ids_from_chars(tf.strings.unicode_split(text, 'UTF-8'))\n",
        "all_ids\n",
        "\n",
        "ids_dataset = tf.data.Dataset.from_tensor_slices(all_ids)\n",
        "\n",
        "for ids in ids_dataset.take(10):\n",
        "    print(chars_from_ids(ids).numpy().decode('utf-8'))"
      ],
      "metadata": {
        "colab": {
          "base_uri": "https://localhost:8080/"
        },
        "id": "ws8K-wGeKVLV",
        "outputId": "8f69119c-657a-4d42-ac5d-d6e2209011c6"
      },
      "execution_count": 19,
      "outputs": [
        {
          "output_type": "stream",
          "name": "stdout",
          "text": [
            "F\n",
            "i\n",
            "r\n",
            "s\n",
            "t\n",
            " \n",
            "C\n",
            "i\n",
            "t\n",
            "i\n"
          ]
        }
      ]
    },
    {
      "cell_type": "code",
      "source": [
        "seq_length = 100"
      ],
      "metadata": {
        "id": "TttFhbywKjzA"
      },
      "execution_count": 20,
      "outputs": []
    },
    {
      "cell_type": "code",
      "source": [
        "sequences = ids_dataset.batch(seq_length+1, drop_remainder=True)\n",
        "\n",
        "for seq in sequences.take(1):\n",
        "  print(chars_from_ids(seq))"
      ],
      "metadata": {
        "colab": {
          "base_uri": "https://localhost:8080/"
        },
        "id": "9uPIpKiWK1Rr",
        "outputId": "f1052aa5-7f04-4c8e-decc-329c23a5c3cd"
      },
      "execution_count": 21,
      "outputs": [
        {
          "output_type": "stream",
          "name": "stdout",
          "text": [
            "tf.Tensor(\n",
            "[b'F' b'i' b'r' b's' b't' b' ' b'C' b'i' b't' b'i' b'z' b'e' b'n' b':'\n",
            " b'\\n' b'B' b'e' b'f' b'o' b'r' b'e' b' ' b'w' b'e' b' ' b'p' b'r' b'o'\n",
            " b'c' b'e' b'e' b'd' b' ' b'a' b'n' b'y' b' ' b'f' b'u' b'r' b't' b'h'\n",
            " b'e' b'r' b',' b' ' b'h' b'e' b'a' b'r' b' ' b'm' b'e' b' ' b's' b'p'\n",
            " b'e' b'a' b'k' b'.' b'\\n' b'\\n' b'A' b'l' b'l' b':' b'\\n' b'S' b'p' b'e'\n",
            " b'a' b'k' b',' b' ' b's' b'p' b'e' b'a' b'k' b'.' b'\\n' b'\\n' b'F' b'i'\n",
            " b'r' b's' b't' b' ' b'C' b'i' b't' b'i' b'z' b'e' b'n' b':' b'\\n' b'Y'\n",
            " b'o' b'u' b' '], shape=(101,), dtype=string)\n"
          ]
        }
      ]
    },
    {
      "cell_type": "code",
      "source": [
        "for seq in sequences.take(5):\n",
        "    print(text_from_ids(seq).numpy())"
      ],
      "metadata": {
        "colab": {
          "base_uri": "https://localhost:8080/"
        },
        "id": "7NTyyPqSLsEE",
        "outputId": "64147bd2-ddfa-40b9-f353-02fc63addf23"
      },
      "execution_count": 22,
      "outputs": [
        {
          "output_type": "stream",
          "name": "stdout",
          "text": [
            "b'First Citizen:\\nBefore we proceed any further, hear me speak.\\n\\nAll:\\nSpeak, speak.\\n\\nFirst Citizen:\\nYou '\n",
            "b'are all resolved rather to die than to famish?\\n\\nAll:\\nResolved. resolved.\\n\\nFirst Citizen:\\nFirst, you k'\n",
            "b\"now Caius Marcius is chief enemy to the people.\\n\\nAll:\\nWe know't, we know't.\\n\\nFirst Citizen:\\nLet us ki\"\n",
            "b\"ll him, and we'll have corn at our own price.\\nIs't a verdict?\\n\\nAll:\\nNo more talking on't; let it be d\"\n",
            "b'one: away, away!\\n\\nSecond Citizen:\\nOne word, good citizens.\\n\\nFirst Citizen:\\nWe are accounted poor citi'\n"
          ]
        }
      ]
    },
    {
      "cell_type": "code",
      "source": [
        "def split_input_target(sequence):\n",
        "    input_text = sequence[:-1]\n",
        "    target_text = sequence[1:]\n",
        "    return input_text, target_text\n",
        "\n",
        "split_input_target(list(\"Tensorflow\"))\n",
        "\n",
        "dataset = sequences.map(split_input_target)\n",
        "\n",
        "for input_example, target_example in dataset.take(1):\n",
        "    print(\"Input :\", text_from_ids(input_example).numpy())\n",
        "    print(\"Target:\", text_from_ids(target_example).numpy())"
      ],
      "metadata": {
        "colab": {
          "base_uri": "https://localhost:8080/"
        },
        "id": "m5wyQr6zLxdQ",
        "outputId": "068e04ab-ddae-42c1-9fc3-bca459f228a7"
      },
      "execution_count": 27,
      "outputs": [
        {
          "output_type": "stream",
          "name": "stdout",
          "text": [
            "Input : b'First Citizen:\\nBefore we proceed any further, hear me speak.\\n\\nAll:\\nSpeak, speak.\\n\\nFirst Citizen:\\nYou'\n",
            "Target: b'irst Citizen:\\nBefore we proceed any further, hear me speak.\\n\\nAll:\\nSpeak, speak.\\n\\nFirst Citizen:\\nYou '\n"
          ]
        }
      ]
    },
    {
      "cell_type": "markdown",
      "source": [
        "## Membuat Batch Training"
      ],
      "metadata": {
        "id": "uKx2jZ0rNEer"
      }
    },
    {
      "cell_type": "code",
      "source": [
        "# Batch size\n",
        "BATCH_SIZE = 64\n",
        "\n",
        "# Buffer size to shuffle the dataset\n",
        "# (TF data is designed to work with possibly infinite sequences,\n",
        "# so it doesn't attempt to shuffle the entire sequence in memory. Instead,\n",
        "# it maintains a buffer in which it shuffles elements).\n",
        "BUFFER_SIZE = 10000\n",
        "\n",
        "dataset = (\n",
        "    dataset\n",
        "    .shuffle(BUFFER_SIZE)\n",
        "    .batch(BATCH_SIZE, drop_remainder=True)\n",
        "    .prefetch(tf.data.experimental.AUTOTUNE))\n",
        "\n",
        "dataset"
      ],
      "metadata": {
        "colab": {
          "base_uri": "https://localhost:8080/"
        },
        "id": "5xmVfBTqe_nM",
        "outputId": "7e73b953-2ba5-4445-85d4-3a240070c630"
      },
      "execution_count": 28,
      "outputs": [
        {
          "output_type": "execute_result",
          "data": {
            "text/plain": [
              "<_PrefetchDataset element_spec=(TensorSpec(shape=(64, 100), dtype=tf.int64, name=None), TensorSpec(shape=(64, 100), dtype=tf.int64, name=None))>"
            ]
          },
          "metadata": {},
          "execution_count": 28
        }
      ]
    },
    {
      "cell_type": "markdown",
      "source": [
        "## Buat Model"
      ],
      "metadata": {
        "id": "V7fmQSUSfGfH"
      }
    },
    {
      "cell_type": "code",
      "source": [
        "# Length of the vocabulary in StringLookup Layer\n",
        "vocab_size = len(ids_from_chars.get_vocabulary())\n",
        "\n",
        "# The embedding dimension\n",
        "embedding_dim = 256\n",
        "\n",
        "# Number of RNN units\n",
        "rnn_units = 1024"
      ],
      "metadata": {
        "id": "Zzc9AEP7fEyP"
      },
      "execution_count": 29,
      "outputs": []
    },
    {
      "cell_type": "code",
      "source": [
        "class MyModel(tf.keras.Model):\n",
        "  def __init__(self, vocab_size, embedding_dim, rnn_units):\n",
        "    super().__init__(self)\n",
        "    self.embedding = tf.keras.layers.Embedding(vocab_size, embedding_dim)\n",
        "    self.gru = tf.keras.layers.GRU(rnn_units,\n",
        "                                   return_sequences=True,\n",
        "                                   return_state=True)\n",
        "    self.dense = tf.keras.layers.Dense(vocab_size)\n",
        "\n",
        "  def call(self, inputs, states=None, return_state=False, training=False):\n",
        "    x = inputs\n",
        "    x = self.embedding(x, training=training)\n",
        "    if states is None:\n",
        "      states = self.gru.get_initial_state(x)\n",
        "    x, states = self.gru(x, initial_state=states, training=training)\n",
        "    x = self.dense(x, training=training)\n",
        "\n",
        "    if return_state:\n",
        "      return x, states\n",
        "    else:\n",
        "      return x"
      ],
      "metadata": {
        "id": "ZG2udVewfM-V"
      },
      "execution_count": 30,
      "outputs": []
    },
    {
      "cell_type": "code",
      "source": [
        "model = MyModel(\n",
        "    vocab_size=vocab_size,\n",
        "    embedding_dim=embedding_dim,\n",
        "    rnn_units=rnn_units)"
      ],
      "metadata": {
        "id": "QQ0QRKuWfOco"
      },
      "execution_count": 31,
      "outputs": []
    },
    {
      "cell_type": "markdown",
      "source": [
        "## Uji Model"
      ],
      "metadata": {
        "id": "YJdCaoExfSVY"
      }
    },
    {
      "cell_type": "code",
      "source": [
        "for input_example_batch, target_example_batch in dataset.take(1):\n",
        "    example_batch_predictions = model(input_example_batch)\n",
        "    print(example_batch_predictions.shape, \"# (batch_size, sequence_length, vocab_size)\")"
      ],
      "metadata": {
        "colab": {
          "base_uri": "https://localhost:8080/"
        },
        "id": "yt-JzPDzfT7H",
        "outputId": "9805797e-f62a-4b81-b938-e1b41bdaee04"
      },
      "execution_count": 32,
      "outputs": [
        {
          "output_type": "stream",
          "name": "stdout",
          "text": [
            "(64, 100, 66) # (batch_size, sequence_length, vocab_size)\n"
          ]
        }
      ]
    },
    {
      "cell_type": "code",
      "source": [
        "model.summary()"
      ],
      "metadata": {
        "colab": {
          "base_uri": "https://localhost:8080/"
        },
        "id": "r2a4dKJLfbTO",
        "outputId": "0060e98a-8176-412c-be48-ece599d348f7"
      },
      "execution_count": 33,
      "outputs": [
        {
          "output_type": "stream",
          "name": "stdout",
          "text": [
            "Model: \"my_model\"\n",
            "_________________________________________________________________\n",
            " Layer (type)                Output Shape              Param #   \n",
            "=================================================================\n",
            " embedding (Embedding)       multiple                  16896     \n",
            "                                                                 \n",
            " gru (GRU)                   multiple                  3938304   \n",
            "                                                                 \n",
            " dense (Dense)               multiple                  67650     \n",
            "                                                                 \n",
            "=================================================================\n",
            "Total params: 4022850 (15.35 MB)\n",
            "Trainable params: 4022850 (15.35 MB)\n",
            "Non-trainable params: 0 (0.00 Byte)\n",
            "_________________________________________________________________\n"
          ]
        }
      ]
    },
    {
      "cell_type": "code",
      "source": [
        "sampled_indices = tf.random.categorical(example_batch_predictions[0], num_samples=1)\n",
        "sampled_indices = tf.squeeze(sampled_indices, axis=-1).numpy()"
      ],
      "metadata": {
        "id": "Pv61gHRIffHy"
      },
      "execution_count": 35,
      "outputs": []
    },
    {
      "cell_type": "code",
      "source": [
        "sampled_indices"
      ],
      "metadata": {
        "colab": {
          "base_uri": "https://localhost:8080/"
        },
        "id": "q8Cu_p5AfoDJ",
        "outputId": "027a0f25-62c3-4155-c624-421df9b5d83f"
      },
      "execution_count": 36,
      "outputs": [
        {
          "output_type": "execute_result",
          "data": {
            "text/plain": [
              "array([52, 46, 57, 20,  0, 25,  4, 39, 11, 16,  8, 52, 11, 58, 59, 26, 56,\n",
              "       54, 39, 16, 39, 57, 64, 23, 48, 60, 62, 12, 37, 46, 56,  0, 26, 58,\n",
              "       44, 12, 44,  5, 19, 23, 60,  8, 10, 35, 64, 63, 37, 62, 42, 19, 10,\n",
              "       22, 55, 33, 56, 49,  6, 32, 33, 34, 22, 26, 13, 54, 13, 57, 31,  1,\n",
              "       20, 26, 26, 30, 57, 42, 25, 63, 30, 30, 64,  3, 47, 65, 21, 62, 11,\n",
              "        2, 20, 31, 38, 60, 41, 52,  6, 60,  9, 23, 18, 60, 60,  9])"
            ]
          },
          "metadata": {},
          "execution_count": 36
        }
      ]
    },
    {
      "cell_type": "code",
      "source": [
        "print(\"Input:\\n\", text_from_ids(input_example_batch[0]).numpy())\n",
        "print()\n",
        "print(\"Next Char Predictions:\\n\", text_from_ids(sampled_indices).numpy())"
      ],
      "metadata": {
        "colab": {
          "base_uri": "https://localhost:8080/"
        },
        "id": "BBxm9EMYfpeB",
        "outputId": "821890fa-1273-4b6b-e2a3-f19a44962787"
      },
      "execution_count": 37,
      "outputs": [
        {
          "output_type": "stream",
          "name": "stdout",
          "text": [
            "Input:\n",
            " b\" give out a\\ncommission for more heads: if this law hold in\\nVienna ten year, I'll rent the fairest ho\"\n",
            "\n",
            "Next Char Predictions:\n",
            " b\"mgrG[UNK]L$Z:C-m:stMqoZCZryJiuw;Xgq[UNK]Mse;e&FJu-3VyxXwcF3IpTqj'STUIM?o?rR\\nGMMQrcLxQQy!hzHw: GRYubm'u.JEuu.\"\n"
          ]
        }
      ]
    },
    {
      "cell_type": "markdown",
      "source": [
        "## Train Model\n",
        "Tambahan optimizer dan fungsi loss"
      ],
      "metadata": {
        "id": "2jDjtLeNfwXq"
      }
    },
    {
      "cell_type": "code",
      "source": [
        "loss = tf.losses.SparseCategoricalCrossentropy(from_logits=True)"
      ],
      "metadata": {
        "id": "Kq_m5fRjfuPp"
      },
      "execution_count": 39,
      "outputs": []
    },
    {
      "cell_type": "code",
      "source": [
        "example_batch_mean_loss = loss(target_example_batch, example_batch_predictions)\n",
        "print(\"Prediction shape: \", example_batch_predictions.shape, \" # (batch_size, sequence_length, vocab_size)\")\n",
        "print(\"Mean loss:        \", example_batch_mean_loss)"
      ],
      "metadata": {
        "colab": {
          "base_uri": "https://localhost:8080/"
        },
        "id": "S36R8Am2f4WU",
        "outputId": "c50e0ef8-785e-4dd0-b219-2659c18c3d66"
      },
      "execution_count": 40,
      "outputs": [
        {
          "output_type": "stream",
          "name": "stdout",
          "text": [
            "Prediction shape:  (64, 100, 66)  # (batch_size, sequence_length, vocab_size)\n",
            "Mean loss:         tf.Tensor(4.189408, shape=(), dtype=float32)\n"
          ]
        }
      ]
    },
    {
      "cell_type": "code",
      "source": [
        "tf.exp(example_batch_mean_loss).numpy()"
      ],
      "metadata": {
        "colab": {
          "base_uri": "https://localhost:8080/"
        },
        "id": "wDDhDRgYf8Qu",
        "outputId": "8ebb8211-3741-4472-d3d1-c453e47b3843"
      },
      "execution_count": 41,
      "outputs": [
        {
          "output_type": "execute_result",
          "data": {
            "text/plain": [
              "65.9837"
            ]
          },
          "metadata": {},
          "execution_count": 41
        }
      ]
    },
    {
      "cell_type": "code",
      "source": [
        "model.compile(optimizer='adam', loss=loss)"
      ],
      "metadata": {
        "id": "r_tIoNhOf9d0"
      },
      "execution_count": 43,
      "outputs": []
    },
    {
      "cell_type": "markdown",
      "source": [
        "Konfigurasi Checkpoints"
      ],
      "metadata": {
        "id": "0CrbddQXgDgA"
      }
    },
    {
      "cell_type": "code",
      "source": [
        "# Directory where the checkpoints will be saved\n",
        "checkpoint_dir = './training_checkpoints'\n",
        "# Name of the checkpoint files\n",
        "checkpoint_prefix = os.path.join(checkpoint_dir, \"ckpt_{epoch}\")\n",
        "\n",
        "checkpoint_callback = tf.keras.callbacks.ModelCheckpoint(\n",
        "    filepath=checkpoint_prefix,\n",
        "    save_weights_only=True)"
      ],
      "metadata": {
        "id": "rWaruHycgJfM"
      },
      "execution_count": 44,
      "outputs": []
    },
    {
      "cell_type": "markdown",
      "source": [
        "Lakukan Proses Training"
      ],
      "metadata": {
        "id": "E2G2na44gOM1"
      }
    },
    {
      "cell_type": "code",
      "source": [
        "EPOCHS = 5\n",
        "\n",
        "history = model.fit(dataset, epochs=EPOCHS, steps_per_epoch=10, callbacks=[checkpoint_callback])"
      ],
      "metadata": {
        "colab": {
          "base_uri": "https://localhost:8080/"
        },
        "id": "yXwkPq_igL1i",
        "outputId": "6172f4d4-cf7a-4380-e409-b4a5e858aeb1"
      },
      "execution_count": 47,
      "outputs": [
        {
          "output_type": "stream",
          "name": "stdout",
          "text": [
            "Epoch 1/5\n",
            "10/10 [==============================] - 59s 6s/step - loss: 4.2761\n",
            "Epoch 2/5\n",
            "10/10 [==============================] - 63s 7s/step - loss: 3.7716\n",
            "Epoch 3/5\n",
            "10/10 [==============================] - 72s 7s/step - loss: 3.2611\n",
            "Epoch 4/5\n",
            "10/10 [==============================] - 52s 5s/step - loss: 3.0690\n",
            "Epoch 5/5\n",
            "10/10 [==============================] - 53s 5s/step - loss: 2.8871\n"
          ]
        }
      ]
    },
    {
      "cell_type": "markdown",
      "source": [
        "## Generate Teks"
      ],
      "metadata": {
        "id": "67QI-cLQg1Kp"
      }
    },
    {
      "cell_type": "code",
      "source": [
        "class OneStep(tf.keras.Model):\n",
        "  def __init__(self, model, chars_from_ids, ids_from_chars, temperature=1.0):\n",
        "    super().__init__()\n",
        "    self.temperature = temperature\n",
        "    self.model = model\n",
        "    self.chars_from_ids = chars_from_ids\n",
        "    self.ids_from_chars = ids_from_chars\n",
        "\n",
        "    # Create a mask to prevent \"[UNK]\" from being generated.\n",
        "    skip_ids = self.ids_from_chars(['[UNK]'])[:, None]\n",
        "    sparse_mask = tf.SparseTensor(\n",
        "        # Put a -inf at each bad index.\n",
        "        values=[-float('inf')]*len(skip_ids),\n",
        "        indices=skip_ids,\n",
        "        # Match the shape to the vocabulary\n",
        "        dense_shape=[len(ids_from_chars.get_vocabulary())])\n",
        "    self.prediction_mask = tf.sparse.to_dense(sparse_mask)\n",
        "\n",
        "  @tf.function\n",
        "  def generate_one_step(self, inputs, states=None):\n",
        "    # Convert strings to token IDs.\n",
        "    input_chars = tf.strings.unicode_split(inputs, 'UTF-8')\n",
        "    input_ids = self.ids_from_chars(input_chars).to_tensor()\n",
        "\n",
        "    # Run the model.\n",
        "    # predicted_logits.shape is [batch, char, next_char_logits]\n",
        "    predicted_logits, states = self.model(inputs=input_ids, states=states,\n",
        "                                          return_state=True)\n",
        "    # Only use the last prediction.\n",
        "    predicted_logits = predicted_logits[:, -1, :]\n",
        "    predicted_logits = predicted_logits/self.temperature\n",
        "    # Apply the prediction mask: prevent \"[UNK]\" from being generated.\n",
        "    predicted_logits = predicted_logits + self.prediction_mask\n",
        "\n",
        "    # Sample the output logits to generate token IDs.\n",
        "    predicted_ids = tf.random.categorical(predicted_logits, num_samples=1)\n",
        "    predicted_ids = tf.squeeze(predicted_ids, axis=-1)\n",
        "\n",
        "    # Convert from token ids to characters\n",
        "    predicted_chars = self.chars_from_ids(predicted_ids)\n",
        "\n",
        "    # Return the characters and model state.\n",
        "    return predicted_chars, states"
      ],
      "metadata": {
        "id": "lF1CUYv0gx58"
      },
      "execution_count": 48,
      "outputs": []
    },
    {
      "cell_type": "code",
      "source": [
        "one_step_model = OneStep(model, chars_from_ids, ids_from_chars)"
      ],
      "metadata": {
        "id": "lS8UNt52g_LI"
      },
      "execution_count": 49,
      "outputs": []
    },
    {
      "cell_type": "code",
      "source": [
        "start = time.time()\n",
        "states = None\n",
        "next_char = tf.constant(['ROMEO:'])\n",
        "result = [next_char]\n",
        "\n",
        "for n in range(1000):\n",
        "  next_char, states = one_step_model.generate_one_step(next_char, states=states)\n",
        "  result.append(next_char)\n",
        "\n",
        "result = tf.strings.join(result)\n",
        "end = time.time()\n",
        "print(result[0].numpy().decode('utf-8'), '\\n\\n' + '_'*80)\n",
        "print('\\nRun time:', end - start)"
      ],
      "metadata": {
        "colab": {
          "base_uri": "https://localhost:8080/"
        },
        "id": "fdhUWGzLhIVT",
        "outputId": "9cf47445-4041-479a-cbca-e7b6af340f6a"
      },
      "execution_count": 50,
      "outputs": [
        {
          "output_type": "stream",
          "name": "stdout",
          "text": [
            "ROMEO:\n",
            "; tfs lby atepteur iehahs t but hon.\n",
            "XK lsI qud I\n",
            "dtnga col f hlikenug bnerg  yun ., due\n",
            "means, g wt;s hugo\n",
            "Hthia nipajnad hordd s ior aon s,, hr\n",
            "alet b ae oo a,\n",
            "Ts.\n",
            ".ddbErskreTwfhhyt.\n",
            "Q\n",
            "&TPSmWlhn knalni;e\n",
            "COGx:;\n",
            "een poin fadpern ateqmoiI,\n",
            "EYGtvowa\n",
            "aro newvfe are, soeur, art ans yhforele ciaod ghalH\n",
            "r phthlain abpuo tho t;kberatkisd wo thd,la'fodbfe eiwntin:t mI'the wpr eirt inmen,sd\n",
            "\n",
            "cl?\n",
            "a\n",
            "D hete\n",
            "\n",
            "\n",
            "x'ohnsem, w entsdd chit yuiIind set ,n m lnu we hoh,d rt\n",
            "Thocedvy we y phe pe bolpfe soadk fvwie icl, gopwoouc thank y mnMiticiuk at atcsrrs an erhe tn toddemaais cn\n",
            "I :cm EcbyasouYU\n",
            "KLr\n",
            "Ve hmmond br mipo the.\n",
            "tcwedsu lutfd mh. mii, po aagin her sar hhun this haw.\n",
            "Senhurk ieas ss anheawfy vwhe'tfs the id hay amt wyegr,\n",
            "\n",
            "\n",
            "\n",
            "?Zjvper\n",
            "\n",
            " Hipggrane ea'wliun thio la\n",
            "oe tI cten osdhes hbe: wlon m n tho wto\n",
            "oeain aa i h ua,nr\n",
            "A\n",
            "\n",
            ",cdJRva hoohdy\n",
            ".EM\n",
            "!qwxy olrae se t ldde\n",
            "t bthoari hud in thd bdavaded ian dafh ute, wrfsooeusiut ad eo ms piu\n",
            "\n",
            "Avrl oud y te avoontm n whe tithhingleanno efo iee s use ae m \n",
            "\n",
            "________________________________________________________________________________\n",
            "\n",
            "Run time: 3.7804319858551025\n"
          ]
        }
      ]
    },
    {
      "cell_type": "code",
      "source": [
        "start = time.time()\n",
        "states = None\n",
        "next_char = tf.constant(['ROMEO:', 'ROMEO:', 'ROMEO:', 'ROMEO:', 'ROMEO:'])\n",
        "result = [next_char]\n",
        "\n",
        "for n in range(1000):\n",
        "  next_char, states = one_step_model.generate_one_step(next_char, states=states)\n",
        "  result.append(next_char)\n",
        "\n",
        "result = tf.strings.join(result)\n",
        "end = time.time()\n",
        "print(result, '\\n\\n' + '_'*80)\n",
        "print('\\nRun time:', end - start)"
      ],
      "metadata": {
        "colab": {
          "base_uri": "https://localhost:8080/"
        },
        "id": "nS2y4AwXhNT5",
        "outputId": "ede9faed-95ce-442b-9ee9-ec74fc7503c2"
      },
      "execution_count": 51,
      "outputs": [
        {
          "output_type": "stream",
          "name": "stdout",
          "text": [
            "tf.Tensor(\n",
            "[b\"ROMEO:ls athi tane\\n\\nInca.\\nZdBwiltched sod ahis iop mol ee nny ed t mea yhee it y\\nchydo\\nf\\nFsicthir al'r e or thm hot thesener tsed\\n\\nN,Tala:\\nyuure t ll\\nI olthfsg sd cmeoy d, arnn\\n.k\\nmyy f o ol aoarirldsysfegw.\\nS\\nq..H3I lpa.\\n\\nNYNNLR?&e\\nHd!; fn auul oh'wlk bs si, firhy woas eh, safm d borntsilhyimu wo me t thed\\nIAbhgI m y fhume soredol iad yn\\nfncdiTmh,d roel\\nV\\nxwcWessa't gouaf:k ghe snr at th te e ge bus pe \\naalguoe pef lAgpy wyr as e end tis aly wy be, te w in isnt wa\\ntr ot ilo maps! tgiile cinou agaialthos  ato, mhse they oul irrmse seredr lo lo bpeh\\n cclirev wan Hao hot mrhe welt secegectouko'na is wd parl y, t nurh llis\\nWotrel ao oi ny and\\nF Ihoe wiiny warllk. p,eu\\nXlf'lI uynm i\\n' swy  tatdn\\nS:\\n\\nEyeCo;z: wr aoit ons rsm\\nxisn hes, s ah,\\nDU\\nTGb. Shy pdehho use s fy eiwd uom tce ar i\\niWnggcew vre wi\\nD ooy t;cifn.\\nuthyhe, oo;\\nYK\\nIYvD?DM'a all t trehut hilh oan or la roene pme bane nl por re,\\n\\ny kynpntut, usen,\\nSAkGurn loie arsoad a, taGe he ithearhe chiwi ta; isptid,yh oh\\nfee erw hem h  amou\\niD\\n\"\n",
            " b\"ROMEO:y-, thes nelde.\\nNS\\nAA y hene twfashadredathe ng \\ne we amiwmwiko pk, fha'cbatwure ad lnlehclensdww'hithay yuan nasus ashboluty\\nu woi fom\\nTblfolhen hatmy yy afee mhiwat wet oore hho are do Yel\\nTg\\n,\\n.OPzU\\nVjZ!'.RB' mswr ? s t, lind oon id mn. mey foururn  eicm otoothi w, mor ty ho\\nnu; hkhern wiy riliun shp\\naady pmSocuwI ne .\\nogdnd uu nn ll\\ng'cf\\n'nr, s luh thaimad wuo uetsieun py is hh\\nceo sestpgethit y rotctas .wed horl:$sr, athe ouv tir alin me toshod l amlt\\nlaorneat ua nye nopesa, ben\\nstease\\nTamogel sin icmaey: nl anrer iathfhe, loud imuin e hee hesge,\\nlww,\\nWClt bligtl ba n moferaRA\\nDUND ovime in th,, hon ay 'h we at ths r sheRWtaidto elbcur ay be hnain Ihe fe ocpnt n tnd yy n,il r fotacaniu\\noe yrpset i, inf\\na\\n.Wy w d mres m btamun apovy ss mat al\\na bbciogntse hd ae,erhm i eI rewyik e fe tod vae th gAr'isthge,uve d hyooe\\nyouawlt her Iy in onrullnor are acehsmlrssbpaouy\\n\\ntgesgn Io so\\nsMoe, ov:r Re yasuledis m aripolth md, e mot tpanr re irn sero igeisos wiu,\\nwn:h fapire fhe oaledrs pithn\"\n",
            " b\"ROMEO:vF'e vn wous mo rad ror.\\nTstNgh aueullifh\\nortnbeth t o pind liouaddoubde oge,d ti. bulm :etathau larurtn wd rhtto, gdrelh oukd hed, ey\\nB?QDu k'wsg ; mh thtt fo\\n-mF,m& alel,et mol\\n tiI h od te i hes luarrd nehdrunis velisit t poede 'bvous naoen hh al\\n\\nw;rhrndgvd bh gbn uone tnn ddvm\\nCtcocl me,\\nl.k\\nmAusn s iau sm.\\n\\n!!\\nIuToolet hosr yd maceade.\\nqs.aNdA nghet thee, mtdin yie\\nMse 'rFor maml,g,\\n\\nZTwl;cbcetn wend cpdutoneuny ylorsto!\\npWaIvsiit nu foa we bagd m at aiiue , h scant al;\\nLHIxIkl\\n\\nSR.\\nKQj'ir;rTod ftehyry Ihauy, had phaore emwicyot,e.\\nGGeUXZX mrasre hludod ie mar male\\nqs\\nmntosoprenig Sfnulten ,, wddnhelv imm pwfuwethaimitd rly reut in uoshs\\nAvetevaclhII\\n\\nNavand! bOFwyhhe.\\n\\nTnn imrnd\\nROA\\nO\\nA;-&kgarilk tiiigon te oy - itailet tnodkhqtaasur mrir aan\\n?.\\nO\\nXBJQA'?\\n\\nDtV ee oakiul mopny Ae aoolmthoE olyds mog\\n\\nZ:\\nYCFieih\\nWtde. Irmssniotuga thr, , cakrat\\n\\n yvmrd,\\n\\nVNI\\nERQn?..JU&QOp!Cxwgn,vcil uld hoe seat at f canes thpan te, ial hno\\n\\nF\\nz:Wbtld;\\nae' aind erelld yy aalat eaend irosy, hinoL f\"\n",
            " b\"ROMEO: baawpnr\\nd bl\\nUtbnr ohst o itheI wss ci afus\\n:\\n\\n.NJLTZ-Of\\n\\nAY!,RO dt:d aasld s\\nycaen he s iy mr fLnO,\\n\\nD;ZPOTqBhee h irod th esdlee, tece ainl, t.\\nO bWfisse seil, t-IlihM a: s mhiind l ghh lose' onud terinthl gi ced, , ise ua ico toa auo  oroin oh dorr ano himlfal yn aoz thognr\\n\\nT\\nanuyeu eiil, cted deele iatthetiI htus f, herwdps ogifnstoNn\\nI coonAv ire bhwe ct res hl\\nm iisad op t edWy wos? ar\\n\\nehorimo h de ayut gsibh wlan ur pelti, hhsohhoasoon tiusoty asg heumt; ld le\\nnc\\no, ps silhen a f iilmses\\nOko\\n.v\\nY, li.\\nblhud tghdt irri\\n'cr, uhowsik uln nohfk au ot mrerls y wll bre smoure\\nd ia ans e\\nY,d bfe teds lasgs\\n-Tr so. the rs esitug ho, part basnar\\nn\\ni!:\\n\\nrAvwCAad I lmth l ah\\ne hawthitn, the aom fnishosgou \\nl'rgn'\\ntho buahe\\nwakdle ,gh.\\n\\n\\n\\nj$HB;d!l,S prhpm pidis alle un whrucaaanPhanmst innsy hoayt swesirn, keul tis saawen bt ilny fte\\nsod\\nupd;r\\nunI wo!otde\\nbauve thoa, uor lthowad mom fe nos, hogs Gimapie sthinws\\na :lbwuhn ab iat\\nid koeregtot norocio bo balld onra siy tos warnedyd apsuowma\"\n",
            " b\"ROMEO:k've s he thct men le he !ot h' wepld an fos ltu wied d Ag\\nalssa.ulh bake\\nIXS!-cisvu md; a:\\n?ou.rEAurng floI houfp\\necd'as poanch au tyhy topsnode coil teet tth ag athd nun tor la,nd bo: ctoso aoiosi, gud y grirur psfn th ivh,,\\n;ge ptyuloheiadmtm sy opI\\n\\nIO\\nf?Ie wlor\\n\\nlke\\n\\nPTKaRl\\n:y vocasenhtiw thr sesstholg mfnn catd toe me ts the yrrGl iacimI, ththue ouuU e, ilocorhaine\\nA,,\\nincecbf hait ra\\ner.\\nr\\n3OFAolo wis zoendok oaursye rirts thhe bgeane thh' vin\\nashite arTbO sos ghel apbe , yrnle d tor konlhe,ud yoyet\\n mh\\nsopd thhat tao th hikaI\\n, pl Wt goir,Wut fha\\nt ausetan, mntoi;rurd e Ineheiawl,c io cty, mn ftk arhecan any tii\\ny ho mda too tlas afmy' iheb, my fsher pIr bway nos\\ncnes tg wnpheu ikous.\\nUtoehItt solCeve whi!re hes, miad, mhed ifh,opoNh'f hdiestinoiecmgte kdya l ath bren shsm\\nSu:d DaT.TEGvul haee'e tt d wy mul fi at was toa lituveg Ge.Y.\\nQMPO yuo ao ld, ce reh souurh mid nnl Ioan te,n\\nCxch mt wsh thy tae e ohnH y wieiby aomey y the, anis trisn. ogy ar hathecaunaho if,\\naen d's ny b\"], shape=(5,), dtype=string) \n",
            "\n",
            "________________________________________________________________________________\n",
            "\n",
            "Run time: 5.333897113800049\n"
          ]
        }
      ]
    },
    {
      "cell_type": "markdown",
      "source": [
        "## Ekspor Model Generator"
      ],
      "metadata": {
        "id": "bkJuabsPhQia"
      }
    },
    {
      "cell_type": "code",
      "source": [
        "tf.saved_model.save(one_step_model, 'one_step')\n",
        "one_step_reloaded = tf.saved_model.load('one_step')"
      ],
      "metadata": {
        "colab": {
          "base_uri": "https://localhost:8080/"
        },
        "id": "PQpfY5hIhSdi",
        "outputId": "e07a9a14-6481-4238-ba29-7ea88c403cab"
      },
      "execution_count": 52,
      "outputs": [
        {
          "output_type": "stream",
          "name": "stderr",
          "text": [
            "WARNING:tensorflow:Skipping full serialization of Keras layer <__main__.OneStep object at 0x77fcdd2d0160>, because it is not built.\n",
            "WARNING:tensorflow:Model's `__init__()` arguments contain non-serializable objects. Please implement a `get_config()` method in the subclassed Model for proper saving and loading. Defaulting to empty config.\n",
            "WARNING:tensorflow:Model's `__init__()` arguments contain non-serializable objects. Please implement a `get_config()` method in the subclassed Model for proper saving and loading. Defaulting to empty config.\n"
          ]
        }
      ]
    },
    {
      "cell_type": "code",
      "source": [
        "states = None\n",
        "next_char = tf.constant(['ROMEO:'])\n",
        "result = [next_char]\n",
        "\n",
        "for n in range(100):\n",
        "  next_char, states = one_step_reloaded.generate_one_step(next_char, states=states)\n",
        "  result.append(next_char)\n",
        "\n",
        "print(tf.strings.join(result)[0].numpy().decode(\"utf-8\"))"
      ],
      "metadata": {
        "colab": {
          "base_uri": "https://localhost:8080/"
        },
        "id": "4s739xw2hUjx",
        "outputId": "c347d44b-7889-40bb-b047-d408e92d6559"
      },
      "execution_count": 61,
      "outputs": [
        {
          "output_type": "stream",
          "name": "stdout",
          "text": [
            "ROMEO:Hd, ttcyo arn gbi;mashe ome wamele\n",
            "Whsoyayis Sa'calite toikor, e m i a il as tos,, shh thppr basn, v\n"
          ]
        }
      ]
    }
  ]
}