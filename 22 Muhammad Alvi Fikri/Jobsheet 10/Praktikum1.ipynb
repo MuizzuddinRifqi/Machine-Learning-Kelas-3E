{
  "cells": [
    {
      "cell_type": "markdown",
      "metadata": {
        "id": "OBVgELN-2SJB"
      },
      "source": [
        "# Praktikum 1 - RNN untuk Analisis Sentimen"
      ]
    },
    {
      "cell_type": "markdown",
      "metadata": {
        "id": "QM7S_qWR2MNm"
      },
      "source": [
        "## Setup\n",
        "Impor matplotlib dan buat fungsi pembantu untuk memplot grafik:"
      ]
    },
    {
      "cell_type": "code",
      "execution_count": null,
      "metadata": {
        "id": "kMGXqzRJMji9"
      },
      "outputs": [],
      "source": [
        "import numpy as np \n",
        "import tensorflow_datasets as tfds\n",
        "import tensorflow as tf\n",
        "\n",
        "tfds.disable_progress_bar() "
      ]
    },
    {
      "cell_type": "code",
      "execution_count": null,
      "metadata": {
        "id": "hR57aS4LNEou"
      },
      "outputs": [],
      "source": [
        "import matplotlib.pyplot as plt\n",
        "\n",
        "def plot_graphs(history, metric):\n",
        "  plt.plot(history.history[metric])\n",
        "  plt.plot(history.history['val_'+metric], '')\n",
        "  plt.xlabel(\"Epochs\")\n",
        "  plt.ylabel(metric)\n",
        "  plt.legend([metric, 'val_'+metric])"
      ]
    },
    {
      "cell_type": "markdown",
      "metadata": {
        "id": "tG6R-CF52hK3"
      },
      "source": [
        "## Setup input pipeline"
      ]
    },
    {
      "cell_type": "code",
      "execution_count": null,
      "metadata": {
        "colab": {
          "base_uri": "https://localhost:8080/"
        },
        "id": "RWYtRZR7O_mE",
        "outputId": "ce7895dd-4c9f-42e6-dfce-79450501c804"
      },
      "outputs": [
        {
          "name": "stdout",
          "output_type": "stream",
          "text": [
            "Downloading and preparing dataset 80.23 MiB (download: 80.23 MiB, generated: Unknown size, total: 80.23 MiB) to /root/tensorflow_datasets/imdb_reviews/plain_text/1.0.0...\n",
            "Dataset imdb_reviews downloaded and prepared to /root/tensorflow_datasets/imdb_reviews/plain_text/1.0.0. Subsequent calls will reuse this data.\n"
          ]
        },
        {
          "data": {
            "text/plain": [
              "(TensorSpec(shape=(), dtype=tf.string, name=None),\n",
              " TensorSpec(shape=(), dtype=tf.int64, name=None))"
            ]
          },
          "execution_count": 3,
          "metadata": {},
          "output_type": "execute_result"
        }
      ],
      "source": [
        "dataset, info = tfds.load('imdb_reviews', with_info=True, \n",
        "                          as_supervised=True)\n",
        "train_dataset, test_dataset = dataset['train'], dataset['test']\n",
        "\n",
        "train_dataset.element_spec"
      ]
    },
    {
      "cell_type": "code",
      "execution_count": null,
      "metadata": {
        "colab": {
          "base_uri": "https://localhost:8080/"
        },
        "id": "WBPcLeJZPQLL",
        "outputId": "579e3741-9392-43ce-cc90-6bfae6910619"
      },
      "outputs": [
        {
          "name": "stdout",
          "output_type": "stream",
          "text": [
            "text:  b\"This was an absolutely terrible movie. Don't be lured in by Christopher Walken or Michael Ironside. Both are great actors, but this must simply be their worst role in history. Even their great acting could not redeem this movie's ridiculous storyline. This movie is an early nineties US propaganda piece. The most pathetic scenes were those when the Columbian rebels were making their cases for revolutions. Maria Conchita Alonso appeared phony, and her pseudo-love affair with Walken was nothing but a pathetic emotional plug in a movie that was devoid of any real meaning. I am disappointed that there are movies like this, ruining actor's like Christopher Walken's good name. I could barely sit through it.\"\n",
            "label:  0\n"
          ]
        }
      ],
      "source": [
        "for example, label in train_dataset.take(1): # take(1) mengambil 1 data\n",
        "  print('text: ', example.numpy()) # mengambil data text\n",
        "  print('label: ', label.numpy()) # mengambil data label"
      ]
    },
    {
      "cell_type": "code",
      "execution_count": null,
      "metadata": {
        "colab": {
          "base_uri": "https://localhost:8080/"
        },
        "id": "jiubSY6GPhWV",
        "outputId": "2dd00a62-b6cb-4e9c-ee63-b8c5b74489a0"
      },
      "outputs": [
        {
          "name": "stdout",
          "output_type": "stream",
          "text": [
            "texts:  [b'I don\\'t understand how \"2 of us\" receive such a high rating... I thought that the first half dragged on and the second half didnt make sense, followed by an unresolved climax which was not worth the trouble. However, I did like Jared Harris\\' performance of John Lennon which was worth the wasted 2 hours.'\n",
            " b'I gave this film 2 stars only because Dominic Monaghan actually put effort through in his acting. Everything else about this film is extremely amateur. Everything associated with the direction of this film was very poorly executed. Not only should the director rethink what she is doing for a life career but maybe she should watch a few films. As Dominic Monaghan is a very credible actor, placing him in a film of this caliber makes him look awful. Whomever the \"actor\" was that played Jack\\'s best friend should never have stepped in front of the camera. I didn\\'t expect much from such a small film, but perhaps a little more time and effort should be put into the characters and their surroundings. Don\\'t waste your time or money on this film (like I did) you will be sorely disappointed.'\n",
            " b'This is a very funny Ealing comedy about a community in central London who, through an unusual set of circumstances, discover they are not English, but are an annex of the French province of Burgundy.<br /><br />The film features comic actor Stanley Holloway (best known as Alfred Doolittle in MY FAIR LADY), as well as a host of other classic comic actors of the period.<br /><br />The story was apparently based on a news item at the time, when the Canadian Government \"officially\" gave a hotel room to a visiting European member of royalty. The idea actually reminded me of the real-life case of the Hutt River Province in Western Australia, where a landowner \"seceded\" from the Australian Government due to a wool quota dispute. (It was never acknowledged by the Western Australian or Australian Governments).<br /><br />This is a great script that plays with a lot of political and economic issues, rather like the TV show \"Yes Minister\"; as well as being a great little eccentric character piece as well.']\n",
            "\n",
            "labels:  [0 0 1]\n"
          ]
        }
      ],
      "source": [
        "BUFFER_SIZE = 10000\n",
        "BATCH_SIZE = 64\n",
        "\n",
        "train_dataset = train_dataset.shuffle(BUFFER_SIZE).batch(BATCH_SIZE).prefetch(tf.data.AUTOTUNE)\n",
        "test_dataset = test_dataset.batch(BATCH_SIZE).prefetch(tf.data.AUTOTUNE)\n",
        "\n",
        "for example, label in train_dataset.take(1):\n",
        "  print('texts: ', example.numpy()[:3])\n",
        "  print()\n",
        "  print('labels: ', label.numpy()[:3])"
      ]
    },
    {
      "cell_type": "markdown",
      "metadata": {
        "id": "GFsPZCC72wS1"
      },
      "source": [
        "## Buat Teks Encoder"
      ]
    },
    {
      "cell_type": "code",
      "execution_count": null,
      "metadata": {
        "id": "Nmg_-84kPpDC"
      },
      "outputs": [],
      "source": [
        "VOCAB_SIZE = 1000\n",
        "encoder = tf.keras.layers.TextVectorization(\n",
        "    max_tokens=VOCAB_SIZE)\n",
        "encoder.adapt(train_dataset.map(lambda text, label: text))"
      ]
    },
    {
      "cell_type": "code",
      "execution_count": null,
      "metadata": {
        "colab": {
          "base_uri": "https://localhost:8080/"
        },
        "id": "Z1iV_1xqPuRr",
        "outputId": "ae8701d1-a27c-489d-c12c-e0f6a8729593"
      },
      "outputs": [
        {
          "data": {
            "text/plain": [
              "array(['', '[UNK]', 'the', 'and', 'a', 'of', 'to', 'is', 'in', 'it', 'i',\n",
              "       'this', 'that', 'br', 'was', 'as', 'for', 'with', 'movie', 'but'],\n",
              "      dtype='<U14')"
            ]
          },
          "execution_count": 7,
          "metadata": {},
          "output_type": "execute_result"
        }
      ],
      "source": [
        "vocab=np.array(encoder.get_vocabulary())\n",
        "vocab[:20]"
      ]
    },
    {
      "cell_type": "code",
      "execution_count": null,
      "metadata": {
        "colab": {
          "base_uri": "https://localhost:8080/"
        },
        "id": "wSvYYmQyPwQG",
        "outputId": "028d7e40-f5c8-4549-96e0-ff21c9095f5e"
      },
      "outputs": [
        {
          "data": {
            "text/plain": [
              "array([[ 10,  90, 373, ...,   0,   0,   0],\n",
              "       [ 10, 498,  11, ...,   0,   0,   0],\n",
              "       [ 11,   7,   4, ...,   0,   0,   0]])"
            ]
          },
          "execution_count": 8,
          "metadata": {},
          "output_type": "execute_result"
        }
      ],
      "source": [
        "encoded_example=encoder(example)[:3].numpy()\n",
        "encoded_example"
      ]
    },
    {
      "cell_type": "code",
      "execution_count": null,
      "metadata": {
        "colab": {
          "base_uri": "https://localhost:8080/"
        },
        "id": "8ybbPtSLP6P9",
        "outputId": "072ceb9a-ce45-423b-b0ce-8a90755561d9"
      },
      "outputs": [
        {
          "name": "stdout",
          "output_type": "stream",
          "text": [
            "Original:  b'I don\\'t understand how \"2 of us\" receive such a high rating... I thought that the first half dragged on and the second half didnt make sense, followed by an unresolved climax which was not worth the trouble. However, I did like Jared Harris\\' performance of John Lennon which was worth the wasted 2 hours.'\n",
            "Round-trip:  i dont understand how 2 of us [UNK] such a high rating i thought that the first half [UNK] on and the second half didnt make sense [UNK] by an [UNK] [UNK] which was not worth the [UNK] however i did like [UNK] [UNK] performance of john [UNK] which was worth the [UNK] 2 hours                                                                                                                                                                                                                                                                                                                                                                                                                                                                                                                                                                                                                                                                                                                                                                                                                                                                                                                                                                    \n",
            "\n",
            "Original:  b'I gave this film 2 stars only because Dominic Monaghan actually put effort through in his acting. Everything else about this film is extremely amateur. Everything associated with the direction of this film was very poorly executed. Not only should the director rethink what she is doing for a life career but maybe she should watch a few films. As Dominic Monaghan is a very credible actor, placing him in a film of this caliber makes him look awful. Whomever the \"actor\" was that played Jack\\'s best friend should never have stepped in front of the camera. I didn\\'t expect much from such a small film, but perhaps a little more time and effort should be put into the characters and their surroundings. Don\\'t waste your time or money on this film (like I did) you will be sorely disappointed.'\n",
            "Round-trip:  i gave this film 2 stars only because [UNK] [UNK] actually put effort through in his acting everything else about this film is extremely [UNK] everything [UNK] with the direction of this film was very poorly [UNK] not only should the director [UNK] what she is doing for a life career but maybe she should watch a few films as [UNK] [UNK] is a very [UNK] actor [UNK] him in a film of this [UNK] makes him look awful [UNK] the actor was that played [UNK] best friend should never have [UNK] in [UNK] of the camera i didnt expect much from such a small film but perhaps a little more time and effort should be put into the characters and their [UNK] dont waste your time or money on this film like i did you will be [UNK] disappointed                                                                                                                                                                                                                                                                                                                                                                                                                                                                                                                                                                                                                                                                                                                                                                                                                                                                               \n",
            "\n",
            "Original:  b'This is a very funny Ealing comedy about a community in central London who, through an unusual set of circumstances, discover they are not English, but are an annex of the French province of Burgundy.<br /><br />The film features comic actor Stanley Holloway (best known as Alfred Doolittle in MY FAIR LADY), as well as a host of other classic comic actors of the period.<br /><br />The story was apparently based on a news item at the time, when the Canadian Government \"officially\" gave a hotel room to a visiting European member of royalty. The idea actually reminded me of the real-life case of the Hutt River Province in Western Australia, where a landowner \"seceded\" from the Australian Government due to a wool quota dispute. (It was never acknowledged by the Western Australian or Australian Governments).<br /><br />This is a great script that plays with a lot of political and economic issues, rather like the TV show \"Yes Minister\"; as well as being a great little eccentric character piece as well.'\n",
            "Round-trip:  this is a very funny [UNK] comedy about a [UNK] in [UNK] [UNK] who through an [UNK] set of [UNK] [UNK] they are not english but are an [UNK] of the french [UNK] of [UNK] br the film features comic actor [UNK] [UNK] best known as [UNK] [UNK] in my [UNK] lady as well as a [UNK] of other classic comic actors of the [UNK] br the story was apparently based on a [UNK] [UNK] at the time when the [UNK] [UNK] [UNK] gave a [UNK] room to a [UNK] [UNK] [UNK] of [UNK] the idea actually [UNK] me of the [UNK] case of the [UNK] [UNK] [UNK] in [UNK] [UNK] where a [UNK] [UNK] from the [UNK] [UNK] due to a [UNK] [UNK] [UNK] it was never [UNK] by the [UNK] [UNK] or [UNK] [UNK] br this is a great script that plays with a lot of political and [UNK] [UNK] rather like the tv show yes [UNK] as well as being a great little [UNK] character piece as well                                                                                                                                                                                                                                                                                                                                                                                                                                                                                                                                                                                                                                                                                                                                                                                                                                                \n",
            "\n"
          ]
        }
      ],
      "source": [
        "for n in range(3):\n",
        "  print(\"Original: \", example[n].numpy())\n",
        "  print(\"Round-trip: \", \" \".join(vocab[encoded_example[n]]))\n",
        "  print()"
      ]
    },
    {
      "cell_type": "markdown",
      "metadata": {
        "id": "2nLwzIpb3CW2"
      },
      "source": [
        "## Buat Model"
      ]
    },
    {
      "cell_type": "code",
      "execution_count": null,
      "metadata": {
        "id": "-r28kZ2RP8Ih"
      },
      "outputs": [],
      "source": [
        "model = tf.keras.Sequential([\n",
        "    encoder,\n",
        "    tf.keras.layers.Embedding(\n",
        "        input_dim=len(encoder.get_vocabulary()),\n",
        "        output_dim=64,\n",
        "        # Use masking to handle the variable sequence lengths\n",
        "        mask_zero=True),\n",
        "    tf.keras.layers.Bidirectional(tf.keras.layers.LSTM(64)),\n",
        "    tf.keras.layers.Dense(64, activation='relu'),\n",
        "    tf.keras.layers.Dense(1)\n",
        "])"
      ]
    },
    {
      "cell_type": "code",
      "execution_count": null,
      "metadata": {
        "colab": {
          "base_uri": "https://localhost:8080/"
        },
        "id": "pLwEBk8lQC3K",
        "outputId": "95341082-885c-4b78-a896-c2adc7e88559"
      },
      "outputs": [
        {
          "name": "stdout",
          "output_type": "stream",
          "text": [
            "Layer text_vectorization supports masking: False\n",
            "Layer embedding supports masking: True\n",
            "Layer bidirectional supports masking: True\n",
            "Layer dense supports masking: True\n",
            "Layer dense_1 supports masking: True\n"
          ]
        }
      ],
      "source": [
        "for layer in model.layers:\n",
        "    print(f\"Layer {layer.name} supports masking: {layer.supports_masking}\")"
      ]
    },
    {
      "cell_type": "code",
      "execution_count": null,
      "metadata": {
        "colab": {
          "base_uri": "https://localhost:8080/"
        },
        "id": "K48XsCUMQb4j",
        "outputId": "64ccaa63-12ed-4816-8ed3-5b59a5dc534b"
      },
      "outputs": [
        {
          "name": "stdout",
          "output_type": "stream",
          "text": [
            "1/1 [==============================] - 3s 3s/step\n",
            "[-0.00969592]\n"
          ]
        }
      ],
      "source": [
        "# predict on a sample text without padding.\n",
        "\n",
        "sample_text = ('The movie was cool. The animation and the graphics '\n",
        "               'were out of this world. I would recommend this movie.')\n",
        "predictions = model.predict(np.array([sample_text]))\n",
        "print(predictions[0])"
      ]
    },
    {
      "cell_type": "code",
      "execution_count": null,
      "metadata": {
        "colab": {
          "base_uri": "https://localhost:8080/"
        },
        "id": "6aAKEW1bQg8U",
        "outputId": "f3c98891-5835-4e59-9d47-1a1df7246947"
      },
      "outputs": [
        {
          "name": "stdout",
          "output_type": "stream",
          "text": [
            "1/1 [==============================] - 0s 367ms/step\n",
            "[-0.00969592]\n"
          ]
        }
      ],
      "source": [
        "# predict on a sample text with padding\n",
        "\n",
        "padding = \"the \" * 2000\n",
        "predictions = model.predict(np.array([sample_text, padding]))\n",
        "print(predictions[0])"
      ]
    },
    {
      "cell_type": "code",
      "execution_count": null,
      "metadata": {
        "id": "wznRjlLyQkou"
      },
      "outputs": [],
      "source": [
        "model.compile(loss=tf.keras.losses.BinaryCrossentropy(from_logits=True),\n",
        "              optimizer=tf.keras.optimizers.Adam(1e-4),\n",
        "              metrics=['accuracy'])"
      ]
    },
    {
      "cell_type": "markdown",
      "metadata": {
        "id": "I6DLXYFvQoP4"
      },
      "source": [
        "## Train Model"
      ]
    },
    {
      "cell_type": "code",
      "execution_count": null,
      "metadata": {
        "colab": {
          "base_uri": "https://localhost:8080/"
        },
        "id": "nU6QQf1YQp-U",
        "outputId": "2bb674cc-94db-40fe-c457-bbd7c2ee816c"
      },
      "outputs": [
        {
          "name": "stdout",
          "output_type": "stream",
          "text": [
            "Epoch 1/3\n",
            "10/10 [==============================] - 41s 4s/step - loss: 0.6899 - accuracy: 0.5250 - val_loss: 0.6890 - val_accuracy: 0.4917\n",
            "Epoch 2/3\n",
            "10/10 [==============================] - 28s 3s/step - loss: 0.6897 - accuracy: 0.5188 - val_loss: 0.6887 - val_accuracy: 0.4917\n",
            "Epoch 3/3\n",
            "10/10 [==============================] - 31s 3s/step - loss: 0.6887 - accuracy: 0.4688 - val_loss: 0.6879 - val_accuracy: 0.4917\n"
          ]
        }
      ],
      "source": [
        "history = model.fit(\n",
        "    train_dataset,\n",
        "    epochs=3,\n",
        "    validation_data=test_dataset,\n",
        "    validation_steps=30,\n",
        "    steps_per_epoch=10\n",
        ")"
      ]
    },
    {
      "cell_type": "code",
      "execution_count": null,
      "metadata": {
        "colab": {
          "base_uri": "https://localhost:8080/"
        },
        "id": "JozwKdf4KDpr",
        "outputId": "cb8caee6-c99b-4418-f9b8-2d3a9e1089f3"
      },
      "outputs": [
        {
          "name": "stdout",
          "output_type": "stream",
          "text": [
            "391/391 [==============================] - 182s 460ms/step - loss: 0.6880 - accuracy: 0.5000\n",
            "Test Loss: 0.6880097389221191\n",
            "Test Accuracy: 0.5\n"
          ]
        }
      ],
      "source": [
        "test_loss, test_acc = model.evaluate(test_dataset)\n",
        "\n",
        "print('Test Loss:', test_loss)\n",
        "print('Test Accuracy:', test_acc)"
      ]
    },
    {
      "cell_type": "code",
      "execution_count": null,
      "metadata": {
        "colab": {
          "base_uri": "https://localhost:8080/",
          "height": 719
        },
        "id": "l9KE3XO5K5D3",
        "outputId": "f63d0c83-583a-48da-f596-accf7e866649"
      },
      "outputs": [
        {
          "data": {
            "text/plain": [
              "(0.0, 0.6899775594472886)"
            ]
          },
          "execution_count": 19,
          "metadata": {},
          "output_type": "execute_result"
        },
        {
          "data": {
            "image/png": "[encoded data removed]",
            "text/plain": [
              "<Figure size 1600x800 with 2 Axes>"
            ]
          },
          "metadata": {},
          "output_type": "display_data"
        }
      ],
      "source": [
        "plt.figure(figsize=(16, 8))\n",
        "plt.subplot(1, 2, 1)\n",
        "plot_graphs(history, 'accuracy')\n",
        "plt.ylim(None, 1)\n",
        "plt.subplot(1, 2, 2)\n",
        "plot_graphs(history, 'loss')\n",
        "plt.ylim(0, None)\n",
        "\n",
        "# Jika prediksi >= 0,0 berarti positif, jika tidak maka negatif."
      ]
    },
    {
      "cell_type": "code",
      "execution_count": null,
      "metadata": {
        "colab": {
          "base_uri": "https://localhost:8080/"
        },
        "id": "iz151GtnLAMl",
        "outputId": "a95b3817-04d0-467a-e282-1663d1bd3ba3"
      },
      "outputs": [
        {
          "name": "stdout",
          "output_type": "stream",
          "text": [
            "1/1 [==============================] - 0s 44ms/step\n",
            "[-0.09519832]\n"
          ]
        }
      ],
      "source": [
        "sample_text = ('The movie was cool. The animation and the graphics '\n",
        "'were out of this world. I would recommend this movie.')\n",
        "predictions = model.predict(np.array([sample_text]))\n",
        "print(predictions[0])"
      ]
    },
    {
      "cell_type": "markdown",
      "metadata": {
        "id": "ZDrWx2B9Lkln"
      },
      "source": [
        "## Stack two or more LSTM layers"
      ]
    },
    {
      "cell_type": "code",
      "execution_count": null,
      "metadata": {
        "id": "qWOSpLwnLuIY"
      },
      "outputs": [],
      "source": [
        "model = tf.keras.Sequential([\n",
        "encoder,\n",
        "tf.keras.layers.Embedding(len(encoder.get_vocabulary()), 64, mask_zero=True),\n",
        "tf.keras.layers.Bidirectional(tf.keras.layers.LSTM(64, return_sequences=True)),\n",
        "tf.keras.layers.Bidirectional(tf.keras.layers.LSTM(32)),\n",
        "tf.keras.layers.Dense(64, activation='relu'),\n",
        "tf.keras.layers.Dropout(0.5),\n",
        "tf.keras.layers.Dense(1)\n",
        "])"
      ]
    },
    {
      "cell_type": "code",
      "execution_count": null,
      "metadata": {
        "id": "ue1o3anfL7ys"
      },
      "outputs": [],
      "source": [
        "model.compile(loss=tf.keras.losses.BinaryCrossentropy(from_logits=True),\n",
        "optimizer=tf.keras.optimizers.Adam(1e-4),\n",
        "metrics=['accuracy'])"
      ]
    },
    {
      "cell_type": "code",
      "execution_count": null,
      "metadata": {
        "colab": {
          "base_uri": "https://localhost:8080/"
        },
        "id": "6WkFxPjpMDaz",
        "outputId": "c773968e-de9c-4033-9579-2d82f8defc3e"
      },
      "outputs": [
        {
          "name": "stdout",
          "output_type": "stream",
          "text": [
            "Epoch 1/3\n",
            "10/10 [==============================] - 85s 9s/step - loss: 0.6927 - accuracy: 0.4875 - val_loss: 0.6929 - val_accuracy: 0.4917\n",
            "Epoch 2/3\n",
            "10/10 [==============================] - 74s 8s/step - loss: 0.6927 - accuracy: 0.4875 - val_loss: 0.6928 - val_accuracy: 0.4917\n",
            "Epoch 3/3\n",
            "10/10 [==============================] - 69s 7s/step - loss: 0.6920 - accuracy: 0.4500 - val_loss: 0.6927 - val_accuracy: 0.4917\n"
          ]
        }
      ],
      "source": [
        "history = model.fit(\n",
        "    train_dataset,\n",
        "    epochs=3,\n",
        "    validation_data=test_dataset,\n",
        "    validation_steps=30,\n",
        "    steps_per_epoch=10\n",
        ")"
      ]
    },
    {
      "cell_type": "code",
      "execution_count": null,
      "metadata": {
        "colab": {
          "base_uri": "https://localhost:8080/"
        },
        "id": "xIbTmkzJMtLx",
        "outputId": "4e3f7a50-e840-49a3-9894-7e98b9c496b8"
      },
      "outputs": [
        {
          "name": "stdout",
          "output_type": "stream",
          "text": [
            "391/391 [==============================] - 295s 756ms/step - loss: 0.6928 - accuracy: 0.5000\n",
            "Test Loss: 0.6927697062492371\n",
            "Test Accuracy: 0.5\n"
          ]
        }
      ],
      "source": [
        "test_loss, test_acc = model.evaluate(test_dataset)\n",
        "\n",
        "print('Test Loss:', test_loss)\n",
        "print('Test Accuracy:', test_acc)"
      ]
    },
    {
      "cell_type": "code",
      "execution_count": null,
      "metadata": {
        "colab": {
          "base_uri": "https://localhost:8080/"
        },
        "id": "nKZeOncONCB3",
        "outputId": "396a3d4c-c41a-4ac9-a5fc-5fc29c2d3cac"
      },
      "outputs": [
        {
          "name": "stdout",
          "output_type": "stream",
          "text": [
            "1/1 [==============================] - 59s 59s/step\n",
            "[[0.01553189]]\n"
          ]
        }
      ],
      "source": [
        "# predict on a sample text without padding.\n",
        "\n",
        "sample_text = (\n",
        "'The movie was not good. The animation and the graphics '\n",
        "'were terrible. I would not recommend this movie.')\n",
        "predictions = model.predict(np.array([sample_text]))\n",
        "print(predictions)"
      ]
    },
    {
      "cell_type": "code",
      "execution_count": null,
      "metadata": {
        "colab": {
          "base_uri": "https://localhost:8080/",
          "height": 542
        },
        "id": "eo-5LGUBRuvb",
        "outputId": "ef00b25a-7d56-45c4-8de9-afc39bc3d420"
      },
      "outputs": [
        {
          "data": {
            "image/png": "[encoded data removed]",
            "text/plain": [
              "<Figure size 1600x600 with 2 Axes>"
            ]
          },
          "metadata": {},
          "output_type": "display_data"
        }
      ],
      "source": [
        "plt.figure(figsize=(16, 6))\n",
        "plt.subplot(1, 2, 1)\n",
        "plot_graphs(history, 'accuracy')\n",
        "plt.subplot(1, 2, 2)\n",
        "plot_graphs(history, 'loss')"
      ]
    }
  ],
  "metadata": {
    "colab": {
      "provenance": []
    },
    "kernelspec": {
      "display_name": "Python 3",
      "name": "python3"
    },
    "language_info": {
      "name": "python",
      "version": "3.11.4"
    }
  },
  "nbformat": 4,
  "nbformat_minor": 0
}
