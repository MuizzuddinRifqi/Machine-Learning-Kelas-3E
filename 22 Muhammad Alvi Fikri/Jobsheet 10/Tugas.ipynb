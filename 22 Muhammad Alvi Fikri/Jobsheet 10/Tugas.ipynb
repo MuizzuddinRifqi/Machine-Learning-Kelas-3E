{
  "nbformat": 4,
  "nbformat_minor": 0,
  "metadata": {
    "colab": {
      "provenance": [],
      "gpuType": "T4",
      "include_colab_link": true
    },
    "kernelspec": {
      "name": "python3",
      "display_name": "Python 3"
    },
    "language_info": {
      "name": "python"
    },
    "accelerator": "GPU"
  },
  "cells": [
    {
      "cell_type": "markdown",
      "metadata": {
        "id": "view-in-github",
        "colab_type": "text"
      },
      "source": [
        "<a href=\"https://colab.research.google.com/github/MuizzuddinRifqi/Machine-Learning-Kelas-3E/blob/main/18%20M.%20Muizzuddin%20Rifqi/Pertemuan%2010%20-%20Recurrent%20Neural%20Network%20(RNN)/Tugas.ipynb\" target=\"_parent\"><img src=\"https://colab.research.google.com/assets/colab-badge.svg\" alt=\"Open In Colab\"/></a>"
      ]
    },
    {
      "cell_type": "markdown",
      "source": [
        "# Tugas Praktikum"
      ],
      "metadata": {
        "id": "thZqOaAPyyWE"
      }
    },
    {
      "cell_type": "markdown",
      "source": [
        "- Modifikasi model CNN pada praktikum 2 sehingga didapatkan akurasi testing lebih dari 80%.\n",
        "- Buatlah model CNN untuk klasifikasi dataset MNIST."
      ],
      "metadata": {
        "id": "ciqtdO7Sy1vR"
      }
    },
    {
      "cell_type": "markdown",
      "source": [
        "**Klasifikasi dataset MNIST**"
      ],
      "metadata": {
        "id": "fAvIUOEN0PUa"
      }
    },
    {
      "cell_type": "code",
      "source": [
        "import tensorflow as tf\n",
        "\n",
        "from tensorflow.keras import datasets, layers, models\n",
        "from sklearn.model_selection import train_test_split\n",
        "from sklearn.datasets import fetch_openml"
      ],
      "metadata": {
        "id": "vNXyxeEM4Itr"
      },
      "execution_count": 2,
      "outputs": []
    },
    {
      "cell_type": "markdown",
      "source": [
        "## Pra-pengolahan data MNIST"
      ],
      "metadata": {
        "id": "JKSgEIPU3kkX"
      }
    },
    {
      "cell_type": "code",
      "execution_count": 3,
      "metadata": {
        "colab": {
          "base_uri": "https://localhost:8080/"
        },
        "id": "hccpP2DkyDIV",
        "outputId": "96cd6a01-d228-420b-c6d5-c541b710d98e"
      },
      "outputs": [
        {
          "output_type": "stream",
          "name": "stderr",
          "text": [
            "/usr/local/lib/python3.10/dist-packages/sklearn/datasets/_openml.py:968: FutureWarning: The default value of `parser` will change from `'liac-arff'` to `'auto'` in 1.4. You can set `parser='auto'` to silence this warning. Therefore, an `ImportError` will be raised from 1.4 if the dataset is dense and pandas is not installed. Note that the pandas parser may return different data types. See the Notes Section in fetch_openml's API doc for details.\n",
            "  warn(\n"
          ]
        }
      ],
      "source": [
        "# Pra-pengolahan data\n",
        "mnist = fetch_openml('mnist_784')\n",
        "\n",
        "# memisahkan data gambar dengan label\n",
        "gambar = mnist.data.astype('float32')\n",
        "label = mnist.target.astype('int')\n",
        "\n",
        "# normalisasi rentang nilai piksel menjadi antara 1 dan 0\n",
        "gambar /= 255.0  # Skalakan data\n",
        "\n",
        "# Bagi data menjadi data pelatihan dan pengujian (split data)\n",
        "train_images, test_images, train_labels, test_labels = train_test_split(\n",
        "    gambar, label, test_size=0.2, random_state=42)\n"
      ]
    },
    {
      "cell_type": "markdown",
      "source": [
        "## Buat Model CNN"
      ],
      "metadata": {
        "id": "p481qJcF6D9l"
      }
    },
    {
      "cell_type": "code",
      "source": [
        "# buat model dan layer konvolusi.\n",
        "# Layer Fully Connected (input) dan (output).\n",
        "model = models.Sequential(\n",
        "    [\n",
        "        layers.Reshape(target_shape=(28, 28, 1), input_shape=(784,)),\n",
        "        layers.Conv2D(32, (3, 3), activation='relu', input_shape=(28, 28, 1)),\n",
        "        layers.MaxPooling2D((2, 2)),\n",
        "        layers.Flatten(),\n",
        "        layers.Dense(128, activation='relu'),\n",
        "        layers.Dense(64, activation='relu'),\n",
        "        layers.Dense(10, activation='softmax')\n",
        "    ]\n",
        ")"
      ],
      "metadata": {
        "id": "Hd8xpLPJ6Wvx"
      },
      "execution_count": 4,
      "outputs": []
    },
    {
      "cell_type": "markdown",
      "source": [
        "## Kompilasi Model dan Melakukan Training model"
      ],
      "metadata": {
        "id": "bBZ4rNuY8cY9"
      }
    },
    {
      "cell_type": "code",
      "source": [
        "# Kompilasi model\n",
        "#\n",
        "model.compile(optimizer='adam',\n",
        "              loss='sparse_categorical_crossentropy',\n",
        "              metrics=['accuracy'])\n",
        "\n",
        "# Latih model\n",
        "history = model.fit(train_images, train_labels,\n",
        "                    epochs=10, validation_split=0.2)\n"
      ],
      "metadata": {
        "colab": {
          "base_uri": "https://localhost:8080/"
        },
        "id": "I3tEoc7k8mLu",
        "outputId": "e9a5ebff-e264-4e2f-adf9-5948e2ffee2b"
      },
      "execution_count": 5,
      "outputs": [
        {
          "output_type": "stream",
          "name": "stdout",
          "text": [
            "Epoch 1/10\n",
            "1400/1400 [==============================] - 17s 5ms/step - loss: 0.1847 - accuracy: 0.9433 - val_loss: 0.0812 - val_accuracy: 0.9751\n",
            "Epoch 2/10\n",
            "1400/1400 [==============================] - 5s 4ms/step - loss: 0.0575 - accuracy: 0.9819 - val_loss: 0.0523 - val_accuracy: 0.9839\n",
            "Epoch 3/10\n",
            "1400/1400 [==============================] - 6s 4ms/step - loss: 0.0377 - accuracy: 0.9880 - val_loss: 0.0510 - val_accuracy: 0.9833\n",
            "Epoch 4/10\n",
            "1400/1400 [==============================] - 5s 4ms/step - loss: 0.0242 - accuracy: 0.9925 - val_loss: 0.0634 - val_accuracy: 0.9796\n",
            "Epoch 5/10\n",
            "1400/1400 [==============================] - 6s 4ms/step - loss: 0.0182 - accuracy: 0.9942 - val_loss: 0.0522 - val_accuracy: 0.9854\n",
            "Epoch 6/10\n",
            "1400/1400 [==============================] - 6s 4ms/step - loss: 0.0133 - accuracy: 0.9958 - val_loss: 0.0546 - val_accuracy: 0.9845\n",
            "Epoch 7/10\n",
            "1400/1400 [==============================] - 6s 4ms/step - loss: 0.0123 - accuracy: 0.9958 - val_loss: 0.0532 - val_accuracy: 0.9872\n",
            "Epoch 8/10\n",
            "1400/1400 [==============================] - 5s 4ms/step - loss: 0.0086 - accuracy: 0.9971 - val_loss: 0.0600 - val_accuracy: 0.9854\n",
            "Epoch 9/10\n",
            "1400/1400 [==============================] - 5s 4ms/step - loss: 0.0080 - accuracy: 0.9975 - val_loss: 0.0609 - val_accuracy: 0.9854\n",
            "Epoch 10/10\n",
            "1400/1400 [==============================] - 6s 4ms/step - loss: 0.0048 - accuracy: 0.9985 - val_loss: 0.0759 - val_accuracy: 0.9838\n"
          ]
        }
      ]
    },
    {
      "cell_type": "markdown",
      "source": [
        "## Evaluasi Model"
      ],
      "metadata": {
        "id": "ZGn9Q1sg8565"
      }
    },
    {
      "cell_type": "code",
      "source": [
        "# evaluasi akurasi data testing\n",
        "test_loss, test_acc = model.evaluate(test_images, test_labels)\n",
        "print(f'Akurasi pada data testing: {test_acc:.2f}')\n",
        "\n",
        "# evaluasi akurasi data training\n",
        "train_loss, train_acc = model.evaluate(train_images, train_labels)\n",
        "print(f'Akurasi pada data training: {train_acc:.2f}')\n"
      ],
      "metadata": {
        "colab": {
          "base_uri": "https://localhost:8080/"
        },
        "id": "U95lblvn9N3w",
        "outputId": "9659702f-8512-4110-903f-afc2eeb2561e"
      },
      "execution_count": 6,
      "outputs": [
        {
          "output_type": "stream",
          "name": "stdout",
          "text": [
            "438/438 [==============================] - 1s 3ms/step - loss: 0.0897 - accuracy: 0.9827\n",
            "Akurasi pada data testing: 0.98\n",
            "1750/1750 [==============================] - 4s 2ms/step - loss: 0.0236 - accuracy: 0.9938\n",
            "Akurasi pada data training: 0.99\n"
          ]
        }
      ]
    },
    {
      "cell_type": "markdown",
      "source": [
        "## Confusion Matrix untuk Data Tesing"
      ],
      "metadata": {
        "id": "pHhVe_xgdJvP"
      }
    },
    {
      "cell_type": "code",
      "source": [
        "from sklearn.metrics import confusion_matrix\n",
        "import numpy as np\n",
        "\n",
        "# Membuat prediksi pada data testing\n",
        "predictions = model.predict(test_images)\n",
        "predicted_labels = np.argmax(predictions, axis=1)\n",
        "\n",
        "# Membuat matriks kebingungan\n",
        "confusion = confusion_matrix(test_labels, predicted_labels)\n",
        "print('Confusion Matrix:')\n",
        "print(confusion)"
      ],
      "metadata": {
        "colab": {
          "base_uri": "https://localhost:8080/"
        },
        "id": "m_vlbRRBdVqQ",
        "outputId": "e85f82c5-0e2d-4050-938c-96b0dcff4ab0"
      },
      "execution_count": 7,
      "outputs": [
        {
          "output_type": "stream",
          "name": "stdout",
          "text": [
            "438/438 [==============================] - 1s 2ms/step\n",
            "Confusion Matrix:\n",
            "[[1338    1    1    0    0    0    1    1    1    0]\n",
            " [   0 1594    1    2    0    0    0    2    0    1]\n",
            " [   1    4 1369    0    0    1    0    3    2    0]\n",
            " [   2    2   16 1389    0   13    0    4    7    0]\n",
            " [   1    0    3    0 1271    0    1    6    5    8]\n",
            " [   1    0    1    2    0 1258    2    0    9    0]\n",
            " [   8    1    0    0    2    5 1379    0    1    0]\n",
            " [   3    4   13    0    2    0    0 1474    4    3]\n",
            " [   1    3    9    4    0    3    2    2 1332    1]\n",
            " [   6    2    0    4    8    4    0    9   33 1354]]\n"
          ]
        }
      ]
    }
  ]
}