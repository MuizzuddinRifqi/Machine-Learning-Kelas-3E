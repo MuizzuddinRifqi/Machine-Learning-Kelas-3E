{
  "cells": [
    {
      "cell_type": "markdown",
      "metadata": {
        "id": "oHKcWP8tZYLA"
      },
      "source": [
        "Langkah 1 - Import Library"
      ]
    },
    {
      "cell_type": "code",
      "execution_count": 14,
      "metadata": {
        "id": "-tAvIBOHZYLI"
      },
      "outputs": [],
      "source": [
        "import tensorflow as tf\n",
        "from keras.preprocessing.image import ImageDataGenerator"
      ]
    },
    {
      "cell_type": "markdown",
      "metadata": {
        "id": "JUx6JIduZYLO"
      },
      "source": [
        "Langkah 2 - Pra Pengolahan Data\n",
        "\n",
        "Langkah 2.1. Pra Pengolahan Data Training"
      ]
    },
    {
      "cell_type": "code",
      "execution_count": 15,
      "metadata": {
        "colab": {
          "base_uri": "https://localhost:8080/"
        },
        "id": "56c_i0mHttPY",
        "outputId": "695d5f55-2fce-4949-8293-aca19cd045cc"
      },
      "outputs": [
        {
          "name": "stdout",
          "output_type": "stream",
          "text": [
            "Drive already mounted at /content/drive; to attempt to forcibly remount, call drive.mount(\"/content/drive\", force_remount=True).\n"
          ]
        }
      ],
      "source": [
        "from google.colab import drive\n",
        "drive.mount('/content/drive')"
      ]
    },
    {
      "cell_type": "code",
      "execution_count": 16,
      "metadata": {
        "colab": {
          "base_uri": "https://localhost:8080/"
        },
        "id": "svX6dwsGZYLP",
        "outputId": "76fdea28-6b60-49f4-ed7f-a769525a87d3"
      },
      "outputs": [
        {
          "name": "stdout",
          "output_type": "stream",
          "text": [
            "Found 8010 images belonging to 2 classes.\n"
          ]
        }
      ],
      "source": [
        "# melengkapi data pelatihan agar lebih kuat terhadap variasi dalam data input\n",
        "# mengubah rentang nilai piksel menjadi 0-1\n",
        "train_datagen = ImageDataGenerator(rescale = 1./255,\n",
        "                                   # memberikan variasi pada gambar dengan melakukan shear dan zoom\n",
        "                                   shear_range = 0.2,\n",
        "                                   zoom_range = 0.2,\n",
        "                                   # melakukan flipping horizontal.\n",
        "                                   horizontal_flip = True)\n",
        "# generator yang menghasilkan batch data pelatihan\n",
        "training_set = train_datagen.flow_from_directory('/content/drive/MyDrive/dataset/training_set',\n",
        "                                                 target_size = (64, 64),\n",
        "                                                 batch_size = 32,\n",
        "                                                 class_mode = 'binary')"
      ]
    },
    {
      "cell_type": "markdown",
      "metadata": {
        "id": "QtH3F6wsZYLR"
      },
      "source": [
        "Langkah 2.2. Pra Pengolahan Data Testing"
      ]
    },
    {
      "cell_type": "code",
      "execution_count": 17,
      "metadata": {
        "colab": {
          "base_uri": "https://localhost:8080/"
        },
        "id": "mcZZZtC9ZYLS",
        "outputId": "04fe3a16-6472-49b5-e1cb-6ffbaf3c4e7d"
      },
      "outputs": [
        {
          "name": "stdout",
          "output_type": "stream",
          "text": [
            "Found 2000 images belonging to 2 classes.\n"
          ]
        }
      ],
      "source": [
        "# Membuat objek ImageDataGenerator untuk data uji tanpa augmentasi.\n",
        "# Rescale digunakan untuk mengubah rentang nilai piksel menjadi 0-1, tetapi tidak ada operasi augmentasi lainnya.\n",
        "test_datagen = ImageDataGenerator(rescale = 1./255)\n",
        "# Membuat generator data untuk data uji\n",
        "test_set = test_datagen.flow_from_directory('/content/drive/MyDrive/dataset/test_set',\n",
        "                                            # mengubah ukuran gambar menjadi 64x64\n",
        "                                            target_size = (64, 64),\n",
        "                                            # memproses batch sebesar 32 gambar sekaligus\n",
        "                                            batch_size = 32,\n",
        "                                            # menggunakan mode kelas biner ('binary') karena kita mengasumsikan klasifikasi biner pada data uji.\n",
        "                                            class_mode = 'binary')"
      ]
    },
    {
      "cell_type": "markdown",
      "metadata": {
        "id": "3TVSCPnWZYLU"
      },
      "source": [
        "Langkah 3 - Pembuatan Model CNN\n",
        "\n",
        "Langkah 3.1.  - Inisiasi Model CNN"
      ]
    },
    {
      "cell_type": "code",
      "execution_count": 18,
      "metadata": {
        "id": "Kzqj6wQ5ZYLV"
      },
      "outputs": [],
      "source": [
        "# Membuat objek model Sequential dari Keras\n",
        "cnn = tf.keras.models.Sequential()"
      ]
    },
    {
      "cell_type": "markdown",
      "metadata": {
        "id": "pvBfiWpzZYLW"
      },
      "source": [
        "Langkah 3.2. - Pembuatan Layer Konvolusi 1"
      ]
    },
    {
      "cell_type": "code",
      "execution_count": 19,
      "metadata": {
        "id": "tVEJxTAbZYLY"
      },
      "outputs": [],
      "source": [
        "# menambahkan lapisan Convolutional Neural Network (CNN) ke model Sequential yang sudah dibuat sebelumnya\n",
        "cnn.add(tf.keras.layers.Conv2D(filters=32, kernel_size=3, activation='relu', input_shape=[64, 64, 3]))"
      ]
    },
    {
      "cell_type": "markdown",
      "metadata": {
        "id": "fKTjoAr_ZYLZ"
      },
      "source": [
        "Langkah 3.3 - Pembuatan Layer Pooling 1"
      ]
    },
    {
      "cell_type": "code",
      "execution_count": 20,
      "metadata": {
        "id": "GwfQ9iz5ZYLa"
      },
      "outputs": [],
      "source": [
        "# menambahkan lapisan MaxPooling ke model Convolutional Neural Network (CNN) yang sudah dibuat sebelumnya\n",
        "# Lapisan MaxPooling ini membantu dalam mengekstraksi fitur-fitur utama dari hasil konvolusi dan mengurangi resolusi spatikal.\n",
        "cnn.add(tf.keras.layers.MaxPool2D(pool_size=2, strides=2))"
      ]
    },
    {
      "cell_type": "markdown",
      "metadata": {
        "id": "1GByawPWZYLb"
      },
      "source": [
        "Langkah 3.4 - Pembuatan Layer Konvolusi 2 dan Pooling 2"
      ]
    },
    {
      "cell_type": "code",
      "execution_count": 21,
      "metadata": {
        "id": "hl0xrHjzZYLd"
      },
      "outputs": [],
      "source": [
        "# menambahkan lapisan konvolusi diikuti dengan lapisan MaxPooling, model dapat secara bertahap mengekstraksi fitur-fitur penting dari gambar dan mereduksi dimensi spatialnya\n",
        "cnn.add(tf.keras.layers.Conv2D(filters=32, kernel_size=3, activation='relu'))\n",
        "cnn.add(tf.keras.layers.MaxPool2D(pool_size=2, strides=2))"
      ]
    },
    {
      "cell_type": "markdown",
      "metadata": {
        "id": "du19hLWMZYLe"
      },
      "source": [
        "Langkah 3.5 - Flattening"
      ]
    },
    {
      "cell_type": "code",
      "execution_count": 22,
      "metadata": {
        "id": "Yxndzwh6ZYLf"
      },
      "outputs": [],
      "source": [
        "# menambahkan lapisan Flatten\n",
        "# mengubah representasi spasial tiga dimensi menjadi representasi satu dimensi sebelum masuk ke lapisan-lapisan fully connected (sepenuhnya terhubung) yang biasanya terdapat di bagian akhir model.\n",
        "cnn.add(tf.keras.layers.Flatten())"
      ]
    },
    {
      "cell_type": "markdown",
      "metadata": {
        "id": "1zbLH1KaZYLg"
      },
      "source": [
        "Langkah 3.6 - Fully Connected Layer 1 (Input)"
      ]
    },
    {
      "cell_type": "code",
      "execution_count": 23,
      "metadata": {
        "id": "CcOYUQxHZYLh"
      },
      "outputs": [],
      "source": [
        "# menambahkan lapisan fully connected\n",
        "# meningkatkan kapasitas representasional model, memungkinkannya untuk mempelajari pola-pola yang lebih kompleks dalam data\n",
        "cnn.add(tf.keras.layers.Dense(units=128, activation='relu'))"
      ]
    },
    {
      "cell_type": "markdown",
      "metadata": {
        "id": "_SXFXGodZYLi"
      },
      "source": [
        "Langkah 3.7 - Fully Connected Layer 2 (Output)"
      ]
    },
    {
      "cell_type": "code",
      "execution_count": 24,
      "metadata": {
        "id": "5oPmW-koZYLj"
      },
      "outputs": [],
      "source": [
        "cnn.add(tf.keras.layers.Dense(units=1, activation='sigmoid'))"
      ]
    },
    {
      "cell_type": "markdown",
      "metadata": {
        "id": "KLI6-rLBZYLk"
      },
      "source": [
        "Langkah 3.8 - Compile Model CNN"
      ]
    },
    {
      "cell_type": "code",
      "execution_count": 25,
      "metadata": {
        "id": "orQkthUFZ-kq"
      },
      "outputs": [],
      "source": [
        "# Dengan lapisan Dense terakhir ini, model sekarang telah lengkap dan siap untuk dikompilasi (compile) sebelum dilakukan pelatihan (training)\n",
        "cnn.compile(optimizer = 'adam', loss = 'binary_crossentropy', metrics = ['accuracy'])"
      ]
    },
    {
      "cell_type": "markdown",
      "metadata": {
        "id": "sSUZ5szpaAfk"
      },
      "source": [
        "Langkah 4 - Fit CNN"
      ]
    },
    {
      "cell_type": "code",
      "execution_count": 28,
      "metadata": {
        "colab": {
          "base_uri": "https://localhost:8080/"
        },
        "id": "bQO0I6v0aBsb",
        "outputId": "df4a5552-1636-4c39-d9d6-21bb40ad5327"
      },
      "outputs": [
        {
          "name": "stdout",
          "output_type": "stream",
          "text": [
            "Epoch 1/25\n",
            "251/251 [==============================] - 45s 179ms/step - loss: 0.1828 - accuracy: 0.9261 - val_loss: 0.5984 - val_accuracy: 0.8005\n",
            "Epoch 2/25\n",
            "251/251 [==============================] - 38s 151ms/step - loss: 0.1780 - accuracy: 0.9295 - val_loss: 0.6009 - val_accuracy: 0.8050\n",
            "Epoch 3/25\n",
            "251/251 [==============================] - 38s 153ms/step - loss: 0.1676 - accuracy: 0.9345 - val_loss: 0.6406 - val_accuracy: 0.7955\n",
            "Epoch 4/25\n",
            "251/251 [==============================] - 38s 152ms/step - loss: 0.1617 - accuracy: 0.9350 - val_loss: 0.6076 - val_accuracy: 0.7900\n",
            "Epoch 5/25\n",
            "251/251 [==============================] - 38s 150ms/step - loss: 0.1548 - accuracy: 0.9409 - val_loss: 0.6384 - val_accuracy: 0.8010\n",
            "Epoch 6/25\n",
            "251/251 [==============================] - 39s 154ms/step - loss: 0.1417 - accuracy: 0.9474 - val_loss: 0.6901 - val_accuracy: 0.7950\n",
            "Epoch 7/25\n",
            "251/251 [==============================] - 43s 170ms/step - loss: 0.1402 - accuracy: 0.9428 - val_loss: 0.6672 - val_accuracy: 0.8035\n",
            "Epoch 8/25\n",
            "251/251 [==============================] - 38s 151ms/step - loss: 0.1271 - accuracy: 0.9528 - val_loss: 0.8014 - val_accuracy: 0.7820\n",
            "Epoch 9/25\n",
            "251/251 [==============================] - 43s 172ms/step - loss: 0.1240 - accuracy: 0.9519 - val_loss: 0.6993 - val_accuracy: 0.7940\n",
            "Epoch 10/25\n",
            "251/251 [==============================] - 38s 151ms/step - loss: 0.1211 - accuracy: 0.9519 - val_loss: 0.7141 - val_accuracy: 0.8070\n",
            "Epoch 11/25\n",
            "251/251 [==============================] - 43s 171ms/step - loss: 0.1153 - accuracy: 0.9566 - val_loss: 0.7125 - val_accuracy: 0.7945\n",
            "Epoch 12/25\n",
            "251/251 [==============================] - 38s 150ms/step - loss: 0.1171 - accuracy: 0.9547 - val_loss: 0.7518 - val_accuracy: 0.7995\n",
            "Epoch 13/25\n",
            "251/251 [==============================] - 43s 172ms/step - loss: 0.1034 - accuracy: 0.9629 - val_loss: 0.7296 - val_accuracy: 0.7960\n",
            "Epoch 14/25\n",
            "251/251 [==============================] - 37s 149ms/step - loss: 0.1126 - accuracy: 0.9582 - val_loss: 0.7097 - val_accuracy: 0.8015\n",
            "Epoch 15/25\n",
            "251/251 [==============================] - 38s 152ms/step - loss: 0.0973 - accuracy: 0.9643 - val_loss: 0.7845 - val_accuracy: 0.7950\n",
            "Epoch 16/25\n",
            "251/251 [==============================] - 38s 153ms/step - loss: 0.0906 - accuracy: 0.9668 - val_loss: 0.8128 - val_accuracy: 0.7895\n",
            "Epoch 17/25\n",
            "251/251 [==============================] - 37s 149ms/step - loss: 0.0919 - accuracy: 0.9645 - val_loss: 0.8325 - val_accuracy: 0.7890\n",
            "Epoch 18/25\n",
            "251/251 [==============================] - 37s 149ms/step - loss: 0.0922 - accuracy: 0.9684 - val_loss: 0.8751 - val_accuracy: 0.7865\n",
            "Epoch 19/25\n",
            "251/251 [==============================] - 38s 151ms/step - loss: 0.0903 - accuracy: 0.9684 - val_loss: 0.7858 - val_accuracy: 0.7840\n",
            "Epoch 20/25\n",
            "251/251 [==============================] - 37s 148ms/step - loss: 0.0867 - accuracy: 0.9692 - val_loss: 0.8729 - val_accuracy: 0.7770\n",
            "Epoch 21/25\n",
            "251/251 [==============================] - 38s 150ms/step - loss: 0.0895 - accuracy: 0.9650 - val_loss: 0.8042 - val_accuracy: 0.8025\n",
            "Epoch 22/25\n",
            "251/251 [==============================] - 38s 150ms/step - loss: 0.0797 - accuracy: 0.9733 - val_loss: 0.9013 - val_accuracy: 0.7985\n",
            "Epoch 23/25\n",
            "251/251 [==============================] - 37s 148ms/step - loss: 0.0790 - accuracy: 0.9695 - val_loss: 0.8912 - val_accuracy: 0.7825\n",
            "Epoch 24/25\n",
            "251/251 [==============================] - 38s 150ms/step - loss: 0.0779 - accuracy: 0.9714 - val_loss: 0.9062 - val_accuracy: 0.7765\n",
            "Epoch 25/25\n",
            "251/251 [==============================] - 38s 151ms/step - loss: 0.0808 - accuracy: 0.9699 - val_loss: 0.8400 - val_accuracy: 0.7900\n"
          ]
        },
        {
          "data": {
            "text/plain": [
              "<keras.src.callbacks.History at 0x78e4171d5de0>"
            ]
          },
          "execution_count": 28,
          "metadata": {},
          "output_type": "execute_result"
        }
      ],
      "source": [
        "# menggunakan metode fit untuk melatih (train) model Convolutional Neural Network (CNN) menggunakan data pelatihan (training_set) dan data validasi (test_set)\n",
        "cnn.fit(x = training_set, validation_data = test_set, epochs = 25)"
      ]
    },
    {
      "cell_type": "markdown",
      "metadata": {
        "id": "PNkPP1_haFHi"
      },
      "source": [
        "Langkah 5 - Prediksi dengan 1 Citra"
      ]
    },
    {
      "cell_type": "code",
      "execution_count": 29,
      "metadata": {
        "colab": {
          "base_uri": "https://localhost:8080/"
        },
        "id": "g3qIVOL1aFxd",
        "outputId": "66d7607b-975c-4748-c8b1-7248cebded25"
      },
      "outputs": [
        {
          "name": "stdout",
          "output_type": "stream",
          "text": [
            "1/1 [==============================] - 0s 18ms/step\n"
          ]
        }
      ],
      "source": [
        "# Load dan Preprocess Gambar:\n",
        "import numpy as np\n",
        "from keras.preprocessing import image\n",
        "test_image = image.load_img('/content/drive/MyDrive/dataset/single_prediction/cat_or_dog_1.jpg', target_size = (64, 64))\n",
        "# Mengubah gambar menjadi array NumPy\n",
        "test_image = image.img_to_array(test_image)\n",
        "# Menambahkan dimensi baru ke array untuk membuatnya sesuai dengan format yang diterima oleh model.\n",
        "test_image = np.expand_dims(test_image, axis = 0)\n",
        "# Melakukan Prediksi\n",
        "result = cnn.predict(test_image)\n",
        "training_set.class_indices\n",
        "# Memeriksa hasil prediksi dari nilai yang diberikan oleh model\n",
        "if result[0][0] == 1:\n",
        "  prediction = 'dog'\n",
        "else:\n",
        "  prediction = 'cat'"
      ]
    }
  ],
  "metadata": {
    "accelerator": "GPU",
    "colab": {
      "gpuType": "T4",
      "provenance": []
    },
    "kernelspec": {
      "display_name": "Python 3",
      "name": "python3"
    },
    "language_info": {
      "name": "python"
    }
  },
  "nbformat": 4,
  "nbformat_minor": 0
}
