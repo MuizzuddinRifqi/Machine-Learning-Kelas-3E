{
  "nbformat": 4,
  "nbformat_minor": 0,
  "metadata": {
    "colab": {
      "provenance": [],
      "gpuType": "T4"
    },
    "kernelspec": {
      "name": "python3",
      "display_name": "Python 3"
    },
    "language_info": {
      "name": "python"
    },
    "accelerator": "GPU"
  },
  "cells": [
    {
      "cell_type": "markdown",
      "source": [
        "# Import Library"
      ],
      "metadata": {
        "id": "fLV1Z5_Za3Ni"
      }
    },
    {
      "cell_type": "code",
      "execution_count": 1,
      "metadata": {
        "id": "TUhYpAeEarrV"
      },
      "outputs": [],
      "source": [
        "import tensorflow as tf\n",
        "import numpy as np\n",
        "import pandas as pd\n",
        "import matplotlib.pyplot as plt\n",
        "import seaborn as sns\n",
        "from sklearn.preprocessing import LabelBinarizer\n",
        "from sklearn.model_selection import train_test_split\n",
        "from sklearn.metrics import classification_report\n",
        "import zipfile"
      ]
    },
    {
      "cell_type": "markdown",
      "source": [
        "# Load Dataset"
      ],
      "metadata": {
        "id": "N95oXMaTcnMH"
      }
    },
    {
      "cell_type": "markdown",
      "source": [
        "## Load MNIST"
      ],
      "metadata": {
        "id": "dT8TY908cpCK"
      }
    },
    {
      "cell_type": "markdown",
      "source": [
        "Kode program dibawah Mengimpor dataset MNIST dari pustaka keras"
      ],
      "metadata": {
        "id": "dMYcujlQbLnn"
      }
    },
    {
      "cell_type": "code",
      "source": [
        "from tensorflow.keras.datasets import mnist"
      ],
      "metadata": {
        "id": "OIZx2pkUcfDe"
      },
      "execution_count": 2,
      "outputs": []
    },
    {
      "cell_type": "markdown",
      "source": [
        "Kode program dibawah membuat data untuk pelatihan"
      ],
      "metadata": {
        "id": "JAi2Yhq1bg44"
      }
    },
    {
      "cell_type": "code",
      "source": [
        "(train_data, train_labels), (test_data, test_labels) = mnist.load_data()"
      ],
      "metadata": {
        "id": "3GLkzBi6czj4",
        "outputId": "276759d2-a224-445b-985a-75fa0b21d964",
        "colab": {
          "base_uri": "https://localhost:8080/"
        }
      },
      "execution_count": 3,
      "outputs": [
        {
          "output_type": "stream",
          "name": "stdout",
          "text": [
            "Downloading data from https://storage.googleapis.com/tensorflow/tf-keras-datasets/mnist.npz\n",
            "11490434/11490434 [==============================] - 2s 0us/step\n"
          ]
        }
      ]
    },
    {
      "cell_type": "markdown",
      "source": [
        "Kode program dibawah  Check shape data memanggil dimensi atau ukuran dari matriks gambar"
      ],
      "metadata": {
        "id": "9Eqf-0oybuXJ"
      }
    },
    {
      "cell_type": "code",
      "source": [
        "# Check shape data\n",
        "(train_data.shape, test_data.shape)"
      ],
      "metadata": {
        "id": "oVQTyPgAc5Zw",
        "outputId": "73a191da-c3ce-4ebd-9a25-8993ac64f10a",
        "colab": {
          "base_uri": "https://localhost:8080/"
        }
      },
      "execution_count": 4,
      "outputs": [
        {
          "output_type": "execute_result",
          "data": {
            "text/plain": [
              "((60000, 28, 28), (10000, 28, 28))"
            ]
          },
          "metadata": {},
          "execution_count": 4
        }
      ]
    },
    {
      "cell_type": "markdown",
      "source": [
        "Kode program dibawah Check shape labels memanggil dimensi atau ukuran dari vektor label"
      ],
      "metadata": {
        "id": "3aVFM6d3b4Gb"
      }
    },
    {
      "cell_type": "code",
      "source": [
        "# Check shape labels\n",
        "(train_labels.shape, test_labels.shape)"
      ],
      "metadata": {
        "id": "grUhLPwJc-un",
        "outputId": "3a08db7e-3797-41b4-c8d4-fb850ea057fb",
        "colab": {
          "base_uri": "https://localhost:8080/"
        }
      },
      "execution_count": 5,
      "outputs": [
        {
          "output_type": "execute_result",
          "data": {
            "text/plain": [
              "((60000,), (10000,))"
            ]
          },
          "metadata": {},
          "execution_count": 5
        }
      ]
    },
    {
      "cell_type": "markdown",
      "source": [
        "kode program dibawah Check each data shape --> should be 28*28 memanggil dimensi atau ukuran dari gambar pertama (indeks ke-0)"
      ],
      "metadata": {
        "id": "lBwf8WBYcDmr"
      }
    },
    {
      "cell_type": "code",
      "source": [
        "# Check each data shape --> should be 28*28\n",
        "train_data[0].shape"
      ],
      "metadata": {
        "id": "AwsTEu6xdNKX",
        "outputId": "f5121b51-01cd-487a-e717-e9afc1b66681",
        "colab": {
          "base_uri": "https://localhost:8080/"
        }
      },
      "execution_count": 6,
      "outputs": [
        {
          "output_type": "execute_result",
          "data": {
            "text/plain": [
              "(28, 28)"
            ]
          },
          "metadata": {},
          "execution_count": 6
        }
      ]
    },
    {
      "cell_type": "markdown",
      "source": [
        "\n",
        "kode program dibawa Check the label` memanggil dimensi atau ukuran dari vektor label"
      ],
      "metadata": {
        "id": "W7cIrLAQcMJZ"
      }
    },
    {
      "cell_type": "code",
      "source": [
        "# Check the label\n",
        "train_labels.shape"
      ],
      "metadata": {
        "id": "KHZesdnBdXKX",
        "outputId": "5310b378-dc63-45a9-ddcb-0f3f937f89e6",
        "colab": {
          "base_uri": "https://localhost:8080/"
        }
      },
      "execution_count": 7,
      "outputs": [
        {
          "output_type": "execute_result",
          "data": {
            "text/plain": [
              "(60000,)"
            ]
          },
          "metadata": {},
          "execution_count": 7
        }
      ]
    },
    {
      "cell_type": "markdown",
      "source": [
        "### Combine Train and Test Data"
      ],
      "metadata": {
        "id": "SYz8IjnOdfsV"
      }
    },
    {
      "cell_type": "markdown",
      "source": [
        "kode program dibawah  menggabungkan data dan label dari set pelatihan dan set pengujian"
      ],
      "metadata": {
        "id": "MbxMqjr8cTHN"
      }
    },
    {
      "cell_type": "code",
      "source": [
        "digits_data = np.vstack([train_data, test_data])\n",
        "digits_labels = np.hstack([train_labels, test_labels])"
      ],
      "metadata": {
        "id": "yacSZjdPdbhs"
      },
      "execution_count": 8,
      "outputs": []
    },
    {
      "cell_type": "markdown",
      "source": [
        "kode program dibawah Check data shape memanggil dimensi atau ukuran dari matriks yang telah digabungkan dari hasil sebelumnya"
      ],
      "metadata": {
        "id": "Gl0W8pEUcXvD"
      }
    },
    {
      "cell_type": "code",
      "source": [
        "# Check data shape\n",
        "digits_data.shape"
      ],
      "metadata": {
        "id": "oRBvQNVUeHZn",
        "outputId": "a0a8fb4f-0afe-4633-df11-84f57788496a",
        "colab": {
          "base_uri": "https://localhost:8080/"
        }
      },
      "execution_count": 9,
      "outputs": [
        {
          "output_type": "execute_result",
          "data": {
            "text/plain": [
              "(70000, 28, 28)"
            ]
          },
          "metadata": {},
          "execution_count": 9
        }
      ]
    },
    {
      "cell_type": "markdown",
      "source": [
        "kode program dibawah Check label shape memanggil dimensi atau ukuran dari vektor yang telah digabungkan dari hasil sebelumnya"
      ],
      "metadata": {
        "id": "J1X7B1flceSm"
      }
    },
    {
      "cell_type": "code",
      "source": [
        "# Check label shape\n",
        "digits_labels.shape"
      ],
      "metadata": {
        "id": "MZbUcu0MeLSG",
        "outputId": "bc61dbb9-5f1e-4ec0-c58f-26c31515d4ec",
        "colab": {
          "base_uri": "https://localhost:8080/"
        }
      },
      "execution_count": 10,
      "outputs": [
        {
          "output_type": "execute_result",
          "data": {
            "text/plain": [
              "(70000,)"
            ]
          },
          "metadata": {},
          "execution_count": 10
        }
      ]
    },
    {
      "cell_type": "code",
      "source": [
        "idx = np.random.randint(0, digits_data.shape[0]) # menghasilkan indeks acak dari dataset\n",
        "plt.imshow(digits_data[idx], cmap='gray') # menampilkan gambar yang dipilih dari sebelumnya\n",
        "plt.title('Class: ' + str(digits_labels[idx])) # Menambahkan judul pada gambar"
      ],
      "metadata": {
        "id": "uqaiC0pGePF-",
        "outputId": "359563ac-4446-4771-bbca-81fad4465fd3",
        "colab": {
          "base_uri": "https://localhost:8080/",
          "height": 469
        }
      },
      "execution_count": 11,
      "outputs": [
        {
          "output_type": "execute_result",
          "data": {
            "text/plain": [
              "Text(0.5, 1.0, 'Class: 9')"
            ]
          },
          "metadata": {},
          "execution_count": 11
        },
        {
          "output_type": "display_data",
          "data": {
            "text/plain": [
              "<Figure size 640x480 with 1 Axes>"
            ],
            "image/png": "[encoded data removed]"
          },
          "metadata": {}
        }
      ]
    },
    {
      "cell_type": "markdown",
      "source": [
        "Kode program dibawah Membuat DataFrame Pandas dari vektor digits_labels"
      ],
      "metadata": {
        "id": "Cx1XsQvZc2Yz"
      }
    },
    {
      "cell_type": "code",
      "source": [
        "# Check data distribution\n",
        "df_labels = pd.DataFrame(digits_labels, columns=['Labels'])\n",
        "sns.countplot(df_labels, x='Labels')"
      ],
      "metadata": {
        "id": "FrLWteorevqd",
        "outputId": "f93231c6-518a-4e04-e07d-73a7aafdb1a5",
        "colab": {
          "base_uri": "https://localhost:8080/",
          "height": 466
        }
      },
      "execution_count": 12,
      "outputs": [
        {
          "output_type": "execute_result",
          "data": {
            "text/plain": [
              "<Axes: xlabel='Labels', ylabel='count'>"
            ]
          },
          "metadata": {},
          "execution_count": 12
        },
        {
          "output_type": "display_data",
          "data": {
            "text/plain": [
              "<Figure size 640x480 with 1 Axes>"
            ],
            "image/png": "[encoded data removed]"
          },
          "metadata": {}
        }
      ]
    },
    {
      "cell_type": "markdown",
      "source": [
        "## Load Kaggle A-Z"
      ],
      "metadata": {
        "id": "uqeJT2ytogB_"
      }
    },
    {
      "cell_type": "code",
      "source": [
        "!wget https://iaexpert.academy/arquivos/alfabeto_A-Z.zip"
      ],
      "metadata": {
        "id": "tQ95CkdfjO7P",
        "outputId": "13bd5d9d-f7a6-4eac-c39d-a6cd8ce22401",
        "colab": {
          "base_uri": "https://localhost:8080/"
        }
      },
      "execution_count": 13,
      "outputs": [
        {
          "output_type": "stream",
          "name": "stdout",
          "text": [
            "--2023-12-01 11:53:14--  https://iaexpert.academy/arquivos/alfabeto_A-Z.zip\n",
            "Resolving iaexpert.academy (iaexpert.academy)... 162.159.134.42\n",
            "Connecting to iaexpert.academy (iaexpert.academy)|162.159.134.42|:443... connected.\n",
            "HTTP request sent, awaiting response... 200 OK\n",
            "Length: 193643888 (185M) [application/zip]\n",
            "Saving to: ‘alfabeto_A-Z.zip’\n",
            "\n",
            "alfabeto_A-Z.zip    100%[===================>] 184.67M  77.1MB/s    in 2.4s    \n",
            "\n",
            "2023-12-01 11:53:17 (77.1 MB/s) - ‘alfabeto_A-Z.zip’ saved [193643888/193643888]\n",
            "\n"
          ]
        }
      ]
    },
    {
      "cell_type": "code",
      "source": [
        "\n",
        "# Extract zip file\n",
        "zip_object = zipfile.ZipFile(file = 'alfabeto_A-Z.zip', mode = 'r') # membuat objek zip_object menggunakan kelas ZipFile\n",
        "zip_object.extractall('./') # mengekstrak semua file dan direktori dari file ZIP ke direktori saat ini\n",
        "zip_object.close() #  menutup objek zip_object setelah selesai menggunakan file ZIP"
      ],
      "metadata": {
        "id": "TobpFNSsojcv"
      },
      "execution_count": 14,
      "outputs": []
    },
    {
      "cell_type": "code",
      "source": [
        "dataset_az = pd.read_csv('A_Z Handwritten Data.csv').astype('float32') # mengonversi seluruh nilai dalam dataset menjadi tipe data float32.\n",
        "dataset_az # menampilkan DataFrame Pandas yang berisi data dari file CSV."
      ],
      "metadata": {
        "id": "ScBURU_4o5bB",
        "outputId": "2774e310-68e3-41fc-c197-a6c24dea6c06",
        "colab": {
          "base_uri": "https://localhost:8080/",
          "height": 423
        }
      },
      "execution_count": 15,
      "outputs": [
        {
          "output_type": "execute_result",
          "data": {
            "text/plain": [
              "           0  0.1  0.2  0.3  0.4  0.5  0.6  0.7  0.8  0.9  ...  0.639  0.640  \\\n",
              "0        0.0  0.0  0.0  0.0  0.0  0.0  0.0  0.0  0.0  0.0  ...    0.0    0.0   \n",
              "1        0.0  0.0  0.0  0.0  0.0  0.0  0.0  0.0  0.0  0.0  ...    0.0    0.0   \n",
              "2        0.0  0.0  0.0  0.0  0.0  0.0  0.0  0.0  0.0  0.0  ...    0.0    0.0   \n",
              "3        0.0  0.0  0.0  0.0  0.0  0.0  0.0  0.0  0.0  0.0  ...    0.0    0.0   \n",
              "4        0.0  0.0  0.0  0.0  0.0  0.0  0.0  0.0  0.0  0.0  ...    0.0    0.0   \n",
              "...      ...  ...  ...  ...  ...  ...  ...  ...  ...  ...  ...    ...    ...   \n",
              "372445  25.0  0.0  0.0  0.0  0.0  0.0  0.0  0.0  0.0  0.0  ...    0.0    0.0   \n",
              "372446  25.0  0.0  0.0  0.0  0.0  0.0  0.0  0.0  0.0  0.0  ...    0.0    0.0   \n",
              "372447  25.0  0.0  0.0  0.0  0.0  0.0  0.0  0.0  0.0  0.0  ...    0.0    0.0   \n",
              "372448  25.0  0.0  0.0  0.0  0.0  0.0  0.0  0.0  0.0  0.0  ...    0.0    0.0   \n",
              "372449  25.0  0.0  0.0  0.0  0.0  0.0  0.0  0.0  0.0  0.0  ...    0.0    0.0   \n",
              "\n",
              "        0.641  0.642  0.643  0.644  0.645  0.646  0.647  0.648  \n",
              "0         0.0    0.0    0.0    0.0    0.0    0.0    0.0    0.0  \n",
              "1         0.0    0.0    0.0    0.0    0.0    0.0    0.0    0.0  \n",
              "2         0.0    0.0    0.0    0.0    0.0    0.0    0.0    0.0  \n",
              "3         0.0    0.0    0.0    0.0    0.0    0.0    0.0    0.0  \n",
              "4         0.0    0.0    0.0    0.0    0.0    0.0    0.0    0.0  \n",
              "...       ...    ...    ...    ...    ...    ...    ...    ...  \n",
              "372445    0.0    0.0    0.0    0.0    0.0    0.0    0.0    0.0  \n",
              "372446    0.0    0.0    0.0    0.0    0.0    0.0    0.0    0.0  \n",
              "372447    0.0    0.0    0.0    0.0    0.0    0.0    0.0    0.0  \n",
              "372448    0.0    0.0    0.0    0.0    0.0    0.0    0.0    0.0  \n",
              "372449    0.0    0.0    0.0    0.0    0.0    0.0    0.0    0.0  \n",
              "\n",
              "[372450 rows x 785 columns]"
            ],
            "text/html": [
              "\n",
              "  <div id=\"df-dcc44bc5-240c-4af9-8669-7fde8e2d6b36\" class=\"colab-df-container\">\n",
              "    <div>\n",
              "<style scoped>\n",
              "    .dataframe tbody tr th:only-of-type {\n",
              "        vertical-align: middle;\n",
              "    }\n",
              "\n",
              "    .dataframe tbody tr th {\n",
              "        vertical-align: top;\n",
              "    }\n",
              "\n",
              "    .dataframe thead th {\n",
              "        text-align: right;\n",
              "    }\n",
              "</style>\n",
              "<table border=\"1\" class=\"dataframe\">\n",
              "  <thead>\n",
              "    <tr style=\"text-align: right;\">\n",
              "      <th></th>\n",
              "      <th>0</th>\n",
              "      <th>0.1</th>\n",
              "      <th>0.2</th>\n",
              "      <th>0.3</th>\n",
              "      <th>0.4</th>\n",
              "      <th>0.5</th>\n",
              "      <th>0.6</th>\n",
              "      <th>0.7</th>\n",
              "      <th>0.8</th>\n",
              "      <th>0.9</th>\n",
              "      <th>...</th>\n",
              "      <th>0.639</th>\n",
              "      <th>0.640</th>\n",
              "      <th>0.641</th>\n",
              "      <th>0.642</th>\n",
              "      <th>0.643</th>\n",
              "      <th>0.644</th>\n",
              "      <th>0.645</th>\n",
              "      <th>0.646</th>\n",
              "      <th>0.647</th>\n",
              "      <th>0.648</th>\n",
              "    </tr>\n",
              "  </thead>\n",
              "  <tbody>\n",
              "    <tr>\n",
              "      <th>0</th>\n",
              "      <td>0.0</td>\n",
              "      <td>0.0</td>\n",
              "      <td>0.0</td>\n",
              "      <td>0.0</td>\n",
              "      <td>0.0</td>\n",
              "      <td>0.0</td>\n",
              "      <td>0.0</td>\n",
              "      <td>0.0</td>\n",
              "      <td>0.0</td>\n",
              "      <td>0.0</td>\n",
              "      <td>...</td>\n",
              "      <td>0.0</td>\n",
              "      <td>0.0</td>\n",
              "      <td>0.0</td>\n",
              "      <td>0.0</td>\n",
              "      <td>0.0</td>\n",
              "      <td>0.0</td>\n",
              "      <td>0.0</td>\n",
              "      <td>0.0</td>\n",
              "      <td>0.0</td>\n",
              "      <td>0.0</td>\n",
              "    </tr>\n",
              "    <tr>\n",
              "      <th>1</th>\n",
              "      <td>0.0</td>\n",
              "      <td>0.0</td>\n",
              "      <td>0.0</td>\n",
              "      <td>0.0</td>\n",
              "      <td>0.0</td>\n",
              "      <td>0.0</td>\n",
              "      <td>0.0</td>\n",
              "      <td>0.0</td>\n",
              "      <td>0.0</td>\n",
              "      <td>0.0</td>\n",
              "      <td>...</td>\n",
              "      <td>0.0</td>\n",
              "      <td>0.0</td>\n",
              "      <td>0.0</td>\n",
              "      <td>0.0</td>\n",
              "      <td>0.0</td>\n",
              "      <td>0.0</td>\n",
              "      <td>0.0</td>\n",
              "      <td>0.0</td>\n",
              "      <td>0.0</td>\n",
              "      <td>0.0</td>\n",
              "    </tr>\n",
              "    <tr>\n",
              "      <th>2</th>\n",
              "      <td>0.0</td>\n",
              "      <td>0.0</td>\n",
              "      <td>0.0</td>\n",
              "      <td>0.0</td>\n",
              "      <td>0.0</td>\n",
              "      <td>0.0</td>\n",
              "      <td>0.0</td>\n",
              "      <td>0.0</td>\n",
              "      <td>0.0</td>\n",
              "      <td>0.0</td>\n",
              "      <td>...</td>\n",
              "      <td>0.0</td>\n",
              "      <td>0.0</td>\n",
              "      <td>0.0</td>\n",
              "      <td>0.0</td>\n",
              "      <td>0.0</td>\n",
              "      <td>0.0</td>\n",
              "      <td>0.0</td>\n",
              "      <td>0.0</td>\n",
              "      <td>0.0</td>\n",
              "      <td>0.0</td>\n",
              "    </tr>\n",
              "    <tr>\n",
              "      <th>3</th>\n",
              "      <td>0.0</td>\n",
              "      <td>0.0</td>\n",
              "      <td>0.0</td>\n",
              "      <td>0.0</td>\n",
              "      <td>0.0</td>\n",
              "      <td>0.0</td>\n",
              "      <td>0.0</td>\n",
              "      <td>0.0</td>\n",
              "      <td>0.0</td>\n",
              "      <td>0.0</td>\n",
              "      <td>...</td>\n",
              "      <td>0.0</td>\n",
              "      <td>0.0</td>\n",
              "      <td>0.0</td>\n",
              "      <td>0.0</td>\n",
              "      <td>0.0</td>\n",
              "      <td>0.0</td>\n",
              "      <td>0.0</td>\n",
              "      <td>0.0</td>\n",
              "      <td>0.0</td>\n",
              "      <td>0.0</td>\n",
              "    </tr>\n",
              "    <tr>\n",
              "      <th>4</th>\n",
              "      <td>0.0</td>\n",
              "      <td>0.0</td>\n",
              "      <td>0.0</td>\n",
              "      <td>0.0</td>\n",
              "      <td>0.0</td>\n",
              "      <td>0.0</td>\n",
              "      <td>0.0</td>\n",
              "      <td>0.0</td>\n",
              "      <td>0.0</td>\n",
              "      <td>0.0</td>\n",
              "      <td>...</td>\n",
              "      <td>0.0</td>\n",
              "      <td>0.0</td>\n",
              "      <td>0.0</td>\n",
              "      <td>0.0</td>\n",
              "      <td>0.0</td>\n",
              "      <td>0.0</td>\n",
              "      <td>0.0</td>\n",
              "      <td>0.0</td>\n",
              "      <td>0.0</td>\n",
              "      <td>0.0</td>\n",
              "    </tr>\n",
              "    <tr>\n",
              "      <th>...</th>\n",
              "      <td>...</td>\n",
              "      <td>...</td>\n",
              "      <td>...</td>\n",
              "      <td>...</td>\n",
              "      <td>...</td>\n",
              "      <td>...</td>\n",
              "      <td>...</td>\n",
              "      <td>...</td>\n",
              "      <td>...</td>\n",
              "      <td>...</td>\n",
              "      <td>...</td>\n",
              "      <td>...</td>\n",
              "      <td>...</td>\n",
              "      <td>...</td>\n",
              "      <td>...</td>\n",
              "      <td>...</td>\n",
              "      <td>...</td>\n",
              "      <td>...</td>\n",
              "      <td>...</td>\n",
              "      <td>...</td>\n",
              "      <td>...</td>\n",
              "    </tr>\n",
              "    <tr>\n",
              "      <th>372445</th>\n",
              "      <td>25.0</td>\n",
              "      <td>0.0</td>\n",
              "      <td>0.0</td>\n",
              "      <td>0.0</td>\n",
              "      <td>0.0</td>\n",
              "      <td>0.0</td>\n",
              "      <td>0.0</td>\n",
              "      <td>0.0</td>\n",
              "      <td>0.0</td>\n",
              "      <td>0.0</td>\n",
              "      <td>...</td>\n",
              "      <td>0.0</td>\n",
              "      <td>0.0</td>\n",
              "      <td>0.0</td>\n",
              "      <td>0.0</td>\n",
              "      <td>0.0</td>\n",
              "      <td>0.0</td>\n",
              "      <td>0.0</td>\n",
              "      <td>0.0</td>\n",
              "      <td>0.0</td>\n",
              "      <td>0.0</td>\n",
              "    </tr>\n",
              "    <tr>\n",
              "      <th>372446</th>\n",
              "      <td>25.0</td>\n",
              "      <td>0.0</td>\n",
              "      <td>0.0</td>\n",
              "      <td>0.0</td>\n",
              "      <td>0.0</td>\n",
              "      <td>0.0</td>\n",
              "      <td>0.0</td>\n",
              "      <td>0.0</td>\n",
              "      <td>0.0</td>\n",
              "      <td>0.0</td>\n",
              "      <td>...</td>\n",
              "      <td>0.0</td>\n",
              "      <td>0.0</td>\n",
              "      <td>0.0</td>\n",
              "      <td>0.0</td>\n",
              "      <td>0.0</td>\n",
              "      <td>0.0</td>\n",
              "      <td>0.0</td>\n",
              "      <td>0.0</td>\n",
              "      <td>0.0</td>\n",
              "      <td>0.0</td>\n",
              "    </tr>\n",
              "    <tr>\n",
              "      <th>372447</th>\n",
              "      <td>25.0</td>\n",
              "      <td>0.0</td>\n",
              "      <td>0.0</td>\n",
              "      <td>0.0</td>\n",
              "      <td>0.0</td>\n",
              "      <td>0.0</td>\n",
              "      <td>0.0</td>\n",
              "      <td>0.0</td>\n",
              "      <td>0.0</td>\n",
              "      <td>0.0</td>\n",
              "      <td>...</td>\n",
              "      <td>0.0</td>\n",
              "      <td>0.0</td>\n",
              "      <td>0.0</td>\n",
              "      <td>0.0</td>\n",
              "      <td>0.0</td>\n",
              "      <td>0.0</td>\n",
              "      <td>0.0</td>\n",
              "      <td>0.0</td>\n",
              "      <td>0.0</td>\n",
              "      <td>0.0</td>\n",
              "    </tr>\n",
              "    <tr>\n",
              "      <th>372448</th>\n",
              "      <td>25.0</td>\n",
              "      <td>0.0</td>\n",
              "      <td>0.0</td>\n",
              "      <td>0.0</td>\n",
              "      <td>0.0</td>\n",
              "      <td>0.0</td>\n",
              "      <td>0.0</td>\n",
              "      <td>0.0</td>\n",
              "      <td>0.0</td>\n",
              "      <td>0.0</td>\n",
              "      <td>...</td>\n",
              "      <td>0.0</td>\n",
              "      <td>0.0</td>\n",
              "      <td>0.0</td>\n",
              "      <td>0.0</td>\n",
              "      <td>0.0</td>\n",
              "      <td>0.0</td>\n",
              "      <td>0.0</td>\n",
              "      <td>0.0</td>\n",
              "      <td>0.0</td>\n",
              "      <td>0.0</td>\n",
              "    </tr>\n",
              "    <tr>\n",
              "      <th>372449</th>\n",
              "      <td>25.0</td>\n",
              "      <td>0.0</td>\n",
              "      <td>0.0</td>\n",
              "      <td>0.0</td>\n",
              "      <td>0.0</td>\n",
              "      <td>0.0</td>\n",
              "      <td>0.0</td>\n",
              "      <td>0.0</td>\n",
              "      <td>0.0</td>\n",
              "      <td>0.0</td>\n",
              "      <td>...</td>\n",
              "      <td>0.0</td>\n",
              "      <td>0.0</td>\n",
              "      <td>0.0</td>\n",
              "      <td>0.0</td>\n",
              "      <td>0.0</td>\n",
              "      <td>0.0</td>\n",
              "      <td>0.0</td>\n",
              "      <td>0.0</td>\n",
              "      <td>0.0</td>\n",
              "      <td>0.0</td>\n",
              "    </tr>\n",
              "  </tbody>\n",
              "</table>\n",
              "<p>372450 rows × 785 columns</p>\n",
              "</div>\n",
              "    <div class=\"colab-df-buttons\">\n",
              "\n",
              "  <div class=\"colab-df-container\">\n",
              "    <button class=\"colab-df-convert\" onclick=\"convertToInteractive('df-dcc44bc5-240c-4af9-8669-7fde8e2d6b36')\"\n",
              "            title=\"Convert this dataframe to an interactive table.\"\n",
              "            style=\"display:none;\">\n",
              "\n",
              "  <svg xmlns=\"http://www.w3.org/2000/svg\" height=\"24px\" viewBox=\"0 -960 960 960\">\n",
              "    <path d=\"M120-120v-720h720v720H120Zm60-500h600v-160H180v160Zm220 220h160v-160H400v160Zm0 220h160v-160H400v160ZM180-400h160v-160H180v160Zm440 0h160v-160H620v160ZM180-180h160v-160H180v160Zm440 0h160v-160H620v160Z\"/>\n",
              "  </svg>\n",
              "    </button>\n",
              "\n",
              "  <style>\n",
              "    .colab-df-container {\n",
              "      display:flex;\n",
              "      gap: 12px;\n",
              "    }\n",
              "\n",
              "    .colab-df-convert {\n",
              "      background-color: #E8F0FE;\n",
              "      border: none;\n",
              "      border-radius: 50%;\n",
              "      cursor: pointer;\n",
              "      display: none;\n",
              "      fill: #1967D2;\n",
              "      height: 32px;\n",
              "      padding: 0 0 0 0;\n",
              "      width: 32px;\n",
              "    }\n",
              "\n",
              "    .colab-df-convert:hover {\n",
              "      background-color: #E2EBFA;\n",
              "      box-shadow: 0px 1px 2px rgba(60, 64, 67, 0.3), 0px 1px 3px 1px rgba(60, 64, 67, 0.15);\n",
              "      fill: #174EA6;\n",
              "    }\n",
              "\n",
              "    .colab-df-buttons div {\n",
              "      margin-bottom: 4px;\n",
              "    }\n",
              "\n",
              "    [theme=dark] .colab-df-convert {\n",
              "      background-color: #3B4455;\n",
              "      fill: #D2E3FC;\n",
              "    }\n",
              "\n",
              "    [theme=dark] .colab-df-convert:hover {\n",
              "      background-color: #434B5C;\n",
              "      box-shadow: 0px 1px 3px 1px rgba(0, 0, 0, 0.15);\n",
              "      filter: drop-shadow(0px 1px 2px rgba(0, 0, 0, 0.3));\n",
              "      fill: #FFFFFF;\n",
              "    }\n",
              "  </style>\n",
              "\n",
              "    <script>\n",
              "      const buttonEl =\n",
              "        document.querySelector('#df-dcc44bc5-240c-4af9-8669-7fde8e2d6b36 button.colab-df-convert');\n",
              "      buttonEl.style.display =\n",
              "        google.colab.kernel.accessAllowed ? 'block' : 'none';\n",
              "\n",
              "      async function convertToInteractive(key) {\n",
              "        const element = document.querySelector('#df-dcc44bc5-240c-4af9-8669-7fde8e2d6b36');\n",
              "        const dataTable =\n",
              "          await google.colab.kernel.invokeFunction('convertToInteractive',\n",
              "                                                    [key], {});\n",
              "        if (!dataTable) return;\n",
              "\n",
              "        const docLinkHtml = 'Like what you see? Visit the ' +\n",
              "          '<a target=\"_blank\" href=https://colab.research.google.com/notebooks/data_table.ipynb>data table notebook</a>'\n",
              "          + ' to learn more about interactive tables.';\n",
              "        element.innerHTML = '';\n",
              "        dataTable['output_type'] = 'display_data';\n",
              "        await google.colab.output.renderOutput(dataTable, element);\n",
              "        const docLink = document.createElement('div');\n",
              "        docLink.innerHTML = docLinkHtml;\n",
              "        element.appendChild(docLink);\n",
              "      }\n",
              "    </script>\n",
              "  </div>\n",
              "\n",
              "\n",
              "<div id=\"df-97472ae7-6be3-411c-af92-38931af0cba5\">\n",
              "  <button class=\"colab-df-quickchart\" onclick=\"quickchart('df-97472ae7-6be3-411c-af92-38931af0cba5')\"\n",
              "            title=\"Suggest charts\"\n",
              "            style=\"display:none;\">\n",
              "\n",
              "<svg xmlns=\"http://www.w3.org/2000/svg\" height=\"24px\"viewBox=\"0 0 24 24\"\n",
              "     width=\"24px\">\n",
              "    <g>\n",
              "        <path d=\"M19 3H5c-1.1 0-2 .9-2 2v14c0 1.1.9 2 2 2h14c1.1 0 2-.9 2-2V5c0-1.1-.9-2-2-2zM9 17H7v-7h2v7zm4 0h-2V7h2v10zm4 0h-2v-4h2v4z\"/>\n",
              "    </g>\n",
              "</svg>\n",
              "  </button>\n",
              "\n",
              "<style>\n",
              "  .colab-df-quickchart {\n",
              "      --bg-color: #E8F0FE;\n",
              "      --fill-color: #1967D2;\n",
              "      --hover-bg-color: #E2EBFA;\n",
              "      --hover-fill-color: #174EA6;\n",
              "      --disabled-fill-color: #AAA;\n",
              "      --disabled-bg-color: #DDD;\n",
              "  }\n",
              "\n",
              "  [theme=dark] .colab-df-quickchart {\n",
              "      --bg-color: #3B4455;\n",
              "      --fill-color: #D2E3FC;\n",
              "      --hover-bg-color: #434B5C;\n",
              "      --hover-fill-color: #FFFFFF;\n",
              "      --disabled-bg-color: #3B4455;\n",
              "      --disabled-fill-color: #666;\n",
              "  }\n",
              "\n",
              "  .colab-df-quickchart {\n",
              "    background-color: var(--bg-color);\n",
              "    border: none;\n",
              "    border-radius: 50%;\n",
              "    cursor: pointer;\n",
              "    display: none;\n",
              "    fill: var(--fill-color);\n",
              "    height: 32px;\n",
              "    padding: 0;\n",
              "    width: 32px;\n",
              "  }\n",
              "\n",
              "  .colab-df-quickchart:hover {\n",
              "    background-color: var(--hover-bg-color);\n",
              "    box-shadow: 0 1px 2px rgba(60, 64, 67, 0.3), 0 1px 3px 1px rgba(60, 64, 67, 0.15);\n",
              "    fill: var(--button-hover-fill-color);\n",
              "  }\n",
              "\n",
              "  .colab-df-quickchart-complete:disabled,\n",
              "  .colab-df-quickchart-complete:disabled:hover {\n",
              "    background-color: var(--disabled-bg-color);\n",
              "    fill: var(--disabled-fill-color);\n",
              "    box-shadow: none;\n",
              "  }\n",
              "\n",
              "  .colab-df-spinner {\n",
              "    border: 2px solid var(--fill-color);\n",
              "    border-color: transparent;\n",
              "    border-bottom-color: var(--fill-color);\n",
              "    animation:\n",
              "      spin 1s steps(1) infinite;\n",
              "  }\n",
              "\n",
              "  @keyframes spin {\n",
              "    0% {\n",
              "      border-color: transparent;\n",
              "      border-bottom-color: var(--fill-color);\n",
              "      border-left-color: var(--fill-color);\n",
              "    }\n",
              "    20% {\n",
              "      border-color: transparent;\n",
              "      border-left-color: var(--fill-color);\n",
              "      border-top-color: var(--fill-color);\n",
              "    }\n",
              "    30% {\n",
              "      border-color: transparent;\n",
              "      border-left-color: var(--fill-color);\n",
              "      border-top-color: var(--fill-color);\n",
              "      border-right-color: var(--fill-color);\n",
              "    }\n",
              "    40% {\n",
              "      border-color: transparent;\n",
              "      border-right-color: var(--fill-color);\n",
              "      border-top-color: var(--fill-color);\n",
              "    }\n",
              "    60% {\n",
              "      border-color: transparent;\n",
              "      border-right-color: var(--fill-color);\n",
              "    }\n",
              "    80% {\n",
              "      border-color: transparent;\n",
              "      border-right-color: var(--fill-color);\n",
              "      border-bottom-color: var(--fill-color);\n",
              "    }\n",
              "    90% {\n",
              "      border-color: transparent;\n",
              "      border-bottom-color: var(--fill-color);\n",
              "    }\n",
              "  }\n",
              "</style>\n",
              "\n",
              "  <script>\n",
              "    async function quickchart(key) {\n",
              "      const quickchartButtonEl =\n",
              "        document.querySelector('#' + key + ' button');\n",
              "      quickchartButtonEl.disabled = true;  // To prevent multiple clicks.\n",
              "      quickchartButtonEl.classList.add('colab-df-spinner');\n",
              "      try {\n",
              "        const charts = await google.colab.kernel.invokeFunction(\n",
              "            'suggestCharts', [key], {});\n",
              "      } catch (error) {\n",
              "        console.error('Error during call to suggestCharts:', error);\n",
              "      }\n",
              "      quickchartButtonEl.classList.remove('colab-df-spinner');\n",
              "      quickchartButtonEl.classList.add('colab-df-quickchart-complete');\n",
              "    }\n",
              "    (() => {\n",
              "      let quickchartButtonEl =\n",
              "        document.querySelector('#df-97472ae7-6be3-411c-af92-38931af0cba5 button');\n",
              "      quickchartButtonEl.style.display =\n",
              "        google.colab.kernel.accessAllowed ? 'block' : 'none';\n",
              "    })();\n",
              "  </script>\n",
              "</div>\n",
              "    </div>\n",
              "  </div>\n"
            ]
          },
          "metadata": {},
          "execution_count": 15
        }
      ]
    },
    {
      "cell_type": "code",
      "source": [
        "# Get pixel data only\n",
        "alphabet_data = dataset_az.drop('0', axis=1) # menghasilkan DataFrame alphabet_data dengan menghapus kolom dengan label '0'\n",
        "# Get labels only\n",
        "alphabet_labels = dataset_az['0'] # menghasilkan vektor alphabet_labels yang berisi label dari dataset"
      ],
      "metadata": {
        "id": "dK6pP0b-o81T"
      },
      "execution_count": 16,
      "outputs": []
    },
    {
      "cell_type": "markdown",
      "source": [
        "Kode program dibawah memanggil dimensi atau ukuran dari DataFrame dan vektor"
      ],
      "metadata": {
        "id": "XOJupuwtdKSB"
      }
    },
    {
      "cell_type": "code",
      "source": [
        "# Check shape data\n",
        "alphabet_data.shape, alphabet_labels.shape"
      ],
      "metadata": {
        "id": "NllEoaiLpZhI",
        "outputId": "3ef31381-4d70-4ea4-c376-d1e70234a54b",
        "colab": {
          "base_uri": "https://localhost:8080/"
        }
      },
      "execution_count": 17,
      "outputs": [
        {
          "output_type": "execute_result",
          "data": {
            "text/plain": [
              "((372450, 784), (372450,))"
            ]
          },
          "metadata": {},
          "execution_count": 17
        }
      ]
    },
    {
      "cell_type": "markdown",
      "source": [
        "kode program dibawah mengembalikan tuple yang berisi informasi tentang dimensi atau ukuran vektor label"
      ],
      "metadata": {
        "id": "x5z6ZyYKdYAw"
      }
    },
    {
      "cell_type": "code",
      "source": [
        "# Check shape labels\n",
        "alphabet_labels.shape"
      ],
      "metadata": {
        "id": "UvE88zSkpe5e",
        "outputId": "aec6bf46-68a6-409b-a7ef-118501f643ec",
        "colab": {
          "base_uri": "https://localhost:8080/"
        }
      },
      "execution_count": 18,
      "outputs": [
        {
          "output_type": "execute_result",
          "data": {
            "text/plain": [
              "(372450,)"
            ]
          },
          "metadata": {},
          "execution_count": 18
        }
      ]
    },
    {
      "cell_type": "code",
      "source": [
        "\n",
        "# Reshape pixel data to 28*28\n",
        "alphabet_data = np.reshape(alphabet_data.values, (alphabet_data.shape[0], 28, 28)) # mengubah bentuk data alphabet_data.values\n",
        "# Check the result by its shape\n",
        "alphabet_data.shape # memeriksa dimensi baru dari 'alphabet_data'"
      ],
      "metadata": {
        "id": "9xps-5kjpio_",
        "outputId": "ab9e726d-9d38-476f-b400-eb768c1ac2f9",
        "colab": {
          "base_uri": "https://localhost:8080/"
        }
      },
      "execution_count": 19,
      "outputs": [
        {
          "output_type": "execute_result",
          "data": {
            "text/plain": [
              "(372450, 28, 28)"
            ]
          },
          "metadata": {},
          "execution_count": 19
        }
      ]
    },
    {
      "cell_type": "code",
      "source": [
        "# Randomly checking A-Z dataset\n",
        "index = np.random.randint(0, alphabet_data.shape[0]) # menghasilkan indeks acak dari jumlah sampel dan memberikan jumlah sampel atau gambar dalam dataset\n",
        "plt.imshow(alphabet_data[index], cmap = 'gray') # menampilkan gambar yang dipilih dari 'alphabet_data'\n",
        "plt.title('Class: ' + str(alphabet_labels[index])); # menambahkan judul pada gambar"
      ],
      "metadata": {
        "id": "tDTBbWSoqloX",
        "outputId": "54579c9f-161d-414d-88d3-3e46619e000e",
        "colab": {
          "base_uri": "https://localhost:8080/",
          "height": 452
        }
      },
      "execution_count": 20,
      "outputs": [
        {
          "output_type": "display_data",
          "data": {
            "text/plain": [
              "<Figure size 640x480 with 1 Axes>"
            ],
            "image/png": "[encoded data removed]"
          },
          "metadata": {}
        }
      ]
    },
    {
      "cell_type": "code",
      "source": [
        "# Check data distribution\n",
        "df_az_labels = pd.DataFrame({\n",
        "    'Labels': alphabet_labels.values\n",
        "}) # membuat DataFrame Pandas baru 'df_az_labels' dengan satu kolom bernama 'Labels', yang diisi dengan nilai dari vektor 'alphabet_labels'\n",
        "sns.countplot(df_az_labels, x='Labels') # membuat count plot dari distribusi kelas dalam DataFrame 'df_az_labels'"
      ],
      "metadata": {
        "id": "72frSp_uqrjm",
        "outputId": "f004818b-9733-434c-bb12-930c15d90226",
        "colab": {
          "base_uri": "https://localhost:8080/",
          "height": 468
        }
      },
      "execution_count": 21,
      "outputs": [
        {
          "output_type": "execute_result",
          "data": {
            "text/plain": [
              "<Axes: xlabel='Labels', ylabel='count'>"
            ]
          },
          "metadata": {},
          "execution_count": 21
        },
        {
          "output_type": "display_data",
          "data": {
            "text/plain": [
              "<Figure size 640x480 with 1 Axes>"
            ],
            "image/png": "[encoded data removed]"
          },
          "metadata": {}
        }
      ]
    },
    {
      "cell_type": "markdown",
      "source": [
        "## Combine Dataset (MNIST + Kaggel A-Z)"
      ],
      "metadata": {
        "id": "YZf14K79sdEC"
      }
    },
    {
      "cell_type": "markdown",
      "source": [
        "kode program dibawag mengembalikan nilai-nilai unik yang terdapat dalam vektor 'digits_labels'"
      ],
      "metadata": {
        "id": "bjTXNWhxdqn4"
      }
    },
    {
      "cell_type": "code",
      "source": [
        "# Check unique value from digits_labels\n",
        "np.unique(digits_labels)"
      ],
      "metadata": {
        "id": "9voZzZ8Krqk4",
        "outputId": "06bb3b00-fe7e-422b-cbfb-20ee7028b6d8",
        "colab": {
          "base_uri": "https://localhost:8080/"
        }
      },
      "execution_count": 22,
      "outputs": [
        {
          "output_type": "execute_result",
          "data": {
            "text/plain": [
              "array([0, 1, 2, 3, 4, 5, 6, 7, 8, 9], dtype=uint8)"
            ]
          },
          "metadata": {},
          "execution_count": 22
        }
      ]
    },
    {
      "cell_type": "markdown",
      "source": [
        "kode program dibawah mengembalikan nilai-nilai unik yang terdapat dalam vektor 'alphabet_labels'"
      ],
      "metadata": {
        "id": "ux2gTuprds5a"
      }
    },
    {
      "cell_type": "code",
      "source": [
        "# Check unique value from alphabet_labels\n",
        "np.unique(alphabet_labels)"
      ],
      "metadata": {
        "id": "9ZzBJFKxs1AF",
        "outputId": "29508c51-3eb7-4c80-bae5-2a6a3421ae24",
        "colab": {
          "base_uri": "https://localhost:8080/"
        }
      },
      "execution_count": 23,
      "outputs": [
        {
          "output_type": "execute_result",
          "data": {
            "text/plain": [
              "array([ 0.,  1.,  2.,  3.,  4.,  5.,  6.,  7.,  8.,  9., 10., 11., 12.,\n",
              "       13., 14., 15., 16., 17., 18., 19., 20., 21., 22., 23., 24., 25.],\n",
              "      dtype=float32)"
            ]
          },
          "metadata": {},
          "execution_count": 23
        }
      ]
    },
    {
      "cell_type": "markdown",
      "source": [
        "Kode program dibawah  menambahkan nilai 10 ke setiap elemen dalam vektor alphabet_labels"
      ],
      "metadata": {
        "id": "fwxcjHHTd0eY"
      }
    },
    {
      "cell_type": "code",
      "source": [
        "# We already know that digits labels containt labels from 0-9 (10 labels)\n",
        "# We also know that alphabet labels start from 0-25 which represent A-Z\n",
        "# If we want to combine them, the A-Z labels should continuing the digits label\n",
        "\n",
        "alphabet_labels += 10"
      ],
      "metadata": {
        "id": "dM0GV8lIsnzf"
      },
      "execution_count": 24,
      "outputs": []
    },
    {
      "cell_type": "markdown",
      "source": [
        "kode program dibawah mengembalikan kembali nilai-nilai yang terdapat di dalam vektor 'alphabet_labels'"
      ],
      "metadata": {
        "id": "7--LwU3Jd3or"
      }
    },
    {
      "cell_type": "code",
      "source": [
        "# check alphabet labels again\n",
        "np.unique(alphabet_labels)"
      ],
      "metadata": {
        "id": "42YKtJB-tQC6",
        "outputId": "25534d70-6d11-4136-f1ca-b4dd063b4430",
        "colab": {
          "base_uri": "https://localhost:8080/"
        }
      },
      "execution_count": 25,
      "outputs": [
        {
          "output_type": "execute_result",
          "data": {
            "text/plain": [
              "array([10., 11., 12., 13., 14., 15., 16., 17., 18., 19., 20., 21., 22.,\n",
              "       23., 24., 25., 26., 27., 28., 29., 30., 31., 32., 33., 34., 35.],\n",
              "      dtype=float32)"
            ]
          },
          "metadata": {},
          "execution_count": 25
        }
      ]
    },
    {
      "cell_type": "markdown",
      "source": [
        "kode program dibawah menggabungkan vstack=(vertikal) data gambar dari dataset alfabet dan menggabungkan hstack=(horizontal) label-label dari dataset"
      ],
      "metadata": {
        "id": "y6xJCojveBdk"
      }
    },
    {
      "cell_type": "code",
      "source": [
        "# Combine both of them\n",
        "data = np.vstack([alphabet_data, digits_data])\n",
        "labels = np.hstack([alphabet_labels, digits_labels])"
      ],
      "metadata": {
        "id": "1ydXPXiItVVS"
      },
      "execution_count": 26,
      "outputs": []
    },
    {
      "cell_type": "markdown",
      "source": [
        "kode program dibawah mengembalikan tuple yang berisi informasi tentang dimensi, ukuran matriks dan ukuran vektor data\n",
        "     "
      ],
      "metadata": {
        "id": "zylOM74qeUMB"
      }
    },
    {
      "cell_type": "code",
      "source": [
        "# Check the shape\n",
        "data.shape, labels.shape"
      ],
      "metadata": {
        "id": "-vYLoXFjuLz7",
        "outputId": "df5637ad-2d31-46a9-c558-90e68f11b208",
        "colab": {
          "base_uri": "https://localhost:8080/"
        }
      },
      "execution_count": 27,
      "outputs": [
        {
          "output_type": "execute_result",
          "data": {
            "text/plain": [
              "((442450, 28, 28), (442450,))"
            ]
          },
          "metadata": {},
          "execution_count": 27
        }
      ]
    },
    {
      "cell_type": "markdown",
      "source": [
        "kode program dibawah mengembalikan nilai-nilai unik yang terdapat dalam vektor 'labels'"
      ],
      "metadata": {
        "id": "XtFM-gTbeYqb"
      }
    },
    {
      "cell_type": "code",
      "source": [
        "# Check labels\n",
        "np.unique(labels)"
      ],
      "metadata": {
        "id": "biyM6WueuRG6",
        "outputId": "1eb5e498-df8a-43d1-e4b3-add625087e8a",
        "colab": {
          "base_uri": "https://localhost:8080/"
        }
      },
      "execution_count": 28,
      "outputs": [
        {
          "output_type": "execute_result",
          "data": {
            "text/plain": [
              "array([ 0.,  1.,  2.,  3.,  4.,  5.,  6.,  7.,  8.,  9., 10., 11., 12.,\n",
              "       13., 14., 15., 16., 17., 18., 19., 20., 21., 22., 23., 24., 25.,\n",
              "       26., 27., 28., 29., 30., 31., 32., 33., 34., 35.], dtype=float32)"
            ]
          },
          "metadata": {},
          "execution_count": 28
        }
      ]
    },
    {
      "cell_type": "markdown",
      "source": [
        "kode program dibawah  mengubah tipe data dari elemen-elemen dalam matriks data menjadi float32."
      ],
      "metadata": {
        "id": "A0je-QXLec2Y"
      }
    },
    {
      "cell_type": "code",
      "source": [
        "# Convert data to float32\n",
        "data = np.array(data, dtype = 'float32')"
      ],
      "metadata": {
        "id": "vuEt24lhuVfy"
      },
      "execution_count": 29,
      "outputs": []
    },
    {
      "cell_type": "markdown",
      "source": [
        "kode program dibawh menambah dimensi baru pada matriks 'data'"
      ],
      "metadata": {
        "id": "45xTVdBBeg8g"
      }
    },
    {
      "cell_type": "code",
      "source": [
        "# Since Convolutional need 3d data (including depth)\n",
        "# and our images only in 2d data (because in grayscale format)\n",
        "# we need to add \"the depth\" to the data\n",
        "data = np.expand_dims(data, axis=-1)\n",
        "\n",
        "# check shape\n",
        "data.shape"
      ],
      "metadata": {
        "id": "UC6Vhz59ucdR",
        "outputId": "0bdcee2c-eeda-4d52-c56b-6abede639299",
        "colab": {
          "base_uri": "https://localhost:8080/"
        }
      },
      "execution_count": 30,
      "outputs": [
        {
          "output_type": "execute_result",
          "data": {
            "text/plain": [
              "(442450, 28, 28, 1)"
            ]
          },
          "metadata": {},
          "execution_count": 30
        }
      ]
    },
    {
      "cell_type": "markdown",
      "source": [
        "# Preprocessing"
      ],
      "metadata": {
        "id": "xF71lXtSu3YE"
      }
    },
    {
      "cell_type": "code",
      "source": [
        "# Normalize data\n",
        "data /= 255.0 #nomalisasi"
      ],
      "metadata": {
        "id": "kFjjP_JLuzbm"
      },
      "execution_count": 31,
      "outputs": []
    },
    {
      "cell_type": "markdown",
      "source": [
        "kode program dibawah menemukan nilai minimum dan maksimum dari piksel-piksel dalam gambar pertama (indeks ke-0)\n",
        "     "
      ],
      "metadata": {
        "id": "EUdNmi8uemV0"
      }
    },
    {
      "cell_type": "code",
      "source": [
        "# Check range value of data\n",
        "data[0].min(), data[0].max()"
      ],
      "metadata": {
        "id": "zztStKZOu-Dy",
        "outputId": "38ce4eb1-74e3-471a-fae5-7975a689002d",
        "colab": {
          "base_uri": "https://localhost:8080/"
        }
      },
      "execution_count": 32,
      "outputs": [
        {
          "output_type": "execute_result",
          "data": {
            "text/plain": [
              "(0.0, 1.0)"
            ]
          },
          "metadata": {},
          "execution_count": 32
        }
      ]
    },
    {
      "cell_type": "code",
      "source": [
        "# Enconde the labels\n",
        "# LabelBinarizer similar with OneHotEncoder\n",
        "le = LabelBinarizer() # mengubah label menjadi representasi biner.\n",
        "labels = le.fit_transform(labels) # mentransformasikan vektor label 'labels' menjadi representasi biner"
      ],
      "metadata": {
        "id": "s2C5yKEGu7vt"
      },
      "execution_count": 33,
      "outputs": []
    },
    {
      "cell_type": "markdown",
      "source": [
        "kode program dibawah mengembalikan tuple yang berisi informasi tentang dimensi atau ukuran dari vektor hasil transformasi label."
      ],
      "metadata": {
        "id": "TM-MiTXnevGx"
      }
    },
    {
      "cell_type": "code",
      "source": [
        "# Check labels shape\n",
        "labels.shape"
      ],
      "metadata": {
        "id": "Bo1M5YEmvg5x",
        "outputId": "7ed786a6-23ca-469e-ccaa-0d1314c2acf0",
        "colab": {
          "base_uri": "https://localhost:8080/"
        }
      },
      "execution_count": 34,
      "outputs": [
        {
          "output_type": "execute_result",
          "data": {
            "text/plain": [
              "(442450, 36)"
            ]
          },
          "metadata": {},
          "execution_count": 34
        }
      ]
    },
    {
      "cell_type": "code",
      "source": [
        "# Check data with label binarizer's label\n",
        "plt.imshow(data[30000].reshape(28,28), cmap='gray') # menampilkan gambar yang terdapat pada indeks ke-30000\n",
        "plt.title(str(labels[0])) # menambahkan judul pada gambar"
      ],
      "metadata": {
        "id": "jCL5ipbsvjpw",
        "outputId": "5c1c28a8-6e7f-427e-8e9f-275ae276c9ef",
        "colab": {
          "base_uri": "https://localhost:8080/",
          "height": 469
        }
      },
      "execution_count": 35,
      "outputs": [
        {
          "output_type": "execute_result",
          "data": {
            "text/plain": [
              "Text(0.5, 1.0, '[0 0 0 0 0 0 0 0 0 0 1 0 0 0 0 0 0 0 0 0 0 0 0 0 0 0 0 0 0 0 0 0 0 0 0 0]')"
            ]
          },
          "metadata": {},
          "execution_count": 35
        },
        {
          "output_type": "display_data",
          "data": {
            "text/plain": [
              "<Figure size 640x480 with 1 Axes>"
            ],
            "image/png": "[encoded data removed]"
          },
          "metadata": {}
        }
      ]
    },
    {
      "cell_type": "markdown",
      "source": [
        "kode program dibawah menghitung jumlah total masing-masing kelas atau label dalam dataset"
      ],
      "metadata": {
        "id": "51wfjCOve4bz"
      }
    },
    {
      "cell_type": "code",
      "source": [
        "# Since our data is not balance, we will handle it by giving weight for 'small' data\n",
        "\n",
        "# Check number of data for each labels first\n",
        "classes_total = labels.sum(axis = 0)\n",
        "classes_total"
      ],
      "metadata": {
        "id": "njDbZXKzvsx2",
        "outputId": "0c7bbaca-6f4f-4393-a787-fcda172f6223",
        "colab": {
          "base_uri": "https://localhost:8080/"
        }
      },
      "execution_count": 36,
      "outputs": [
        {
          "output_type": "execute_result",
          "data": {
            "text/plain": [
              "array([ 6903,  7877,  6990,  7141,  6824,  6313,  6876,  7293,  6825,\n",
              "        6958, 13869,  8668, 23409, 10134, 11440,  1163,  5762,  7218,\n",
              "        1120,  8493,  5603, 11586, 12336, 19010, 57825, 19341,  5812,\n",
              "       11566, 48419, 22495, 29008,  4182, 10784,  6272, 10859,  6076])"
            ]
          },
          "metadata": {},
          "execution_count": 36
        }
      ]
    },
    {
      "cell_type": "markdown",
      "source": [
        "kode program dibawah menemukan nilai maksimum dari array 'classes_total'"
      ],
      "metadata": {
        "id": "4nYO-2DkfI-U"
      }
    },
    {
      "cell_type": "code",
      "source": [
        "# Check the biggest value of data\n",
        "classes_total.max()"
      ],
      "metadata": {
        "id": "R1hHYtGLv_ZO",
        "outputId": "6ec5e58e-d3d5-49e0-c576-534dd3d54088",
        "colab": {
          "base_uri": "https://localhost:8080/"
        }
      },
      "execution_count": 37,
      "outputs": [
        {
          "output_type": "execute_result",
          "data": {
            "text/plain": [
              "57825"
            ]
          },
          "metadata": {},
          "execution_count": 37
        }
      ]
    },
    {
      "cell_type": "code",
      "source": [
        "#  Create a weight for each data\n",
        "classes_weights = {} # Membuat kamus (dictionary)\n",
        "for i in range(0, len(classes_total)): # menggunakan loop for untuk iterasi melalui setiap kelas (kolom) dalam array 'classes_total'\n",
        "  #print(i)\n",
        "  classes_weights[i] = classes_total.max() / classes_total[i] # menghitung bobot untuk setiap kelas\n",
        "\n",
        "# Check the weight for each data\n",
        "classes_weights # mengembalikan kamus 'classes_weights' yang berisi bobot untuk setiap kelas."
      ],
      "metadata": {
        "id": "7TJFrxS2wFTO",
        "outputId": "f47abc2f-f083-49b4-857c-a33614ec078b",
        "colab": {
          "base_uri": "https://localhost:8080/"
        }
      },
      "execution_count": 38,
      "outputs": [
        {
          "output_type": "execute_result",
          "data": {
            "text/plain": [
              "{0: 8.376792698826597,\n",
              " 1: 7.340992763742541,\n",
              " 2: 8.272532188841202,\n",
              " 3: 8.097605377398123,\n",
              " 4: 8.473769050410317,\n",
              " 5: 9.15967052114684,\n",
              " 6: 8.409685863874346,\n",
              " 7: 7.928835870012341,\n",
              " 8: 8.472527472527473,\n",
              " 9: 8.310577752227651,\n",
              " 10: 4.169370538611291,\n",
              " 11: 6.671089063221043,\n",
              " 12: 2.4702037677816224,\n",
              " 13: 5.7060390763765545,\n",
              " 14: 5.0546328671328675,\n",
              " 15: 49.72055030094583,\n",
              " 16: 10.035577924331829,\n",
              " 17: 8.011221945137157,\n",
              " 18: 51.629464285714285,\n",
              " 19: 6.808548216178029,\n",
              " 20: 10.320364090665715,\n",
              " 21: 4.990937338166753,\n",
              " 22: 4.6875,\n",
              " 23: 3.0418200946870066,\n",
              " 24: 1.0,\n",
              " 25: 2.989762680316426,\n",
              " 26: 9.94924294562973,\n",
              " 27: 4.999567698426422,\n",
              " 28: 1.1942625828703608,\n",
              " 29: 2.5705712380529007,\n",
              " 30: 1.993415609487038,\n",
              " 31: 13.827116212338593,\n",
              " 32: 5.362110534124629,\n",
              " 33: 9.21954719387755,\n",
              " 34: 5.3250759738465785,\n",
              " 35: 9.51695194206715}"
            ]
          },
          "metadata": {},
          "execution_count": 38
        }
      ]
    },
    {
      "cell_type": "markdown",
      "source": [
        "# Split Data to Train and Test"
      ],
      "metadata": {
        "id": "VtDS1O6JwSQ5"
      }
    },
    {
      "cell_type": "markdown",
      "source": [
        "kode program dibawah untuk membagi dataset menjadi dua bagian: satu untuk pelatihan (train) dan satu untuk pengujian (test)"
      ],
      "metadata": {
        "id": "Hl56grGuf8H8"
      }
    },
    {
      "cell_type": "code",
      "source": [
        "X_train, X_test, y_train, y_test = train_test_split(data, labels, test_size = 0.2, random_state = 1, stratify = labels)"
      ],
      "metadata": {
        "id": "rV62GJySwM2z"
      },
      "execution_count": 39,
      "outputs": []
    },
    {
      "cell_type": "markdown",
      "source": [
        "## Create Data Augmentation"
      ],
      "metadata": {
        "id": "q7Hs5GwGxw4E"
      }
    },
    {
      "cell_type": "code",
      "source": [
        "# Import library\n",
        "from tensorflow.keras.preprocessing.image import ImageDataGenerator"
      ],
      "metadata": {
        "id": "Xn1jiVn9x2Gx"
      },
      "execution_count": 40,
      "outputs": []
    },
    {
      "cell_type": "markdown",
      "source": [
        "kode program dibawah untuk melakukan augmentasi data pada gambar-gambar dalam proses pelatihan model."
      ],
      "metadata": {
        "id": "skry9l2lgA0L"
      }
    },
    {
      "cell_type": "code",
      "source": [
        "augmentation = ImageDataGenerator(rotation_range = 10, zoom_range=0.05, width_shift_range=0.1,\n",
        "                                  height_shift_range=0.1, horizontal_flip = False)"
      ],
      "metadata": {
        "id": "su41P3box6Zm"
      },
      "execution_count": 41,
      "outputs": []
    },
    {
      "cell_type": "markdown",
      "source": [
        "# Build CNN Model"
      ],
      "metadata": {
        "id": "GYwIT1TZw8SM"
      }
    },
    {
      "cell_type": "code",
      "source": [
        "# Import library\n",
        "from tensorflow.keras.models import Sequential\n",
        "from tensorflow.keras.layers import Conv2D, MaxPool2D, Flatten, Dense\n",
        "from tensorflow.keras.callbacks import ModelCheckpoint"
      ],
      "metadata": {
        "id": "nvQ2Ly4zwX8z"
      },
      "execution_count": 42,
      "outputs": []
    },
    {
      "cell_type": "code",
      "source": [
        "# Build the network\n",
        "network = Sequential() # membuat model neural network berbasis Sequential\n",
        "\n",
        "network.add(Conv2D(filters = 32, kernel_size=(3,3), activation='relu', input_shape=(28,28,1))) # menambahkan lapisan konvolusi 2D dengan 32 filter, kernel size 3x3, fungsi aktivasi ReLU, dan bentuk input (input_shape) sebesar (28,28,1)\n",
        "network.add(MaxPool2D(pool_size=(2,2))) # menambahkan lapisan pooling (max pooling) dengan ukuran pooling 2x2 setelah lapisan konvolusi pertama.\n",
        "\n",
        "network.add(Conv2D(filters = 64, kernel_size=(3,3), activation='relu', padding='same')) # menambahkan lapisan konvolusi kedua dengan 64 filter, kernel size 3x3, fungsi aktivasi ReLU, dan padding yang sama\n",
        "network.add(MaxPool2D(pool_size=(2,2))) # menambahkan lapisan pooling (max pooling) setelah lapisan konvolusi kedua.\n",
        "\n",
        "network.add(Conv2D(filters = 128, kernel_size=(3,3), activation='relu', padding='valid')) # menambahkan lapisan konvolusi ketiga dengan 128 filter, kernel size 3x3, fungsi aktivasi ReLU, dan padding 'valid'\n",
        "network.add(MaxPool2D(pool_size=(2,2))) # menambahkan lapisan pooling (max pooling) setelah lapisan konvolusi ketiga.\n",
        "\n",
        "network.add(Flatten()) # menambahkan lapisan flatten untuk mengubah data ke dalam bentuk vektor sebelum masuk ke lapisan fully connected.\n",
        "\n",
        "network.add(Dense(64, activation = 'relu')) # menambahkan lapisan fully connected dengan 64 neuron dan fungsi aktivasi ReLU.\n",
        "network.add(Dense(128, activation = 'relu')) # menambahkan lapisan fully connected dengan 128 neuron dan fungsi aktivasi ReLU.\n",
        "\n",
        "network.add(Dense(36, activation='softmax')) # menambahkan lapisan fully connected dengan 36 neuron (sesuai dengan jumlah kelas) dan fungsi aktivasi softmax.\n",
        "\n",
        "network.compile(loss = 'categorical_crossentropy', optimizer = 'adam', metrics = ['accuracy']) # mengkompilasi model dengan fungsi kerugian categorical crossentropy, pengoptimal Adam, dan metrik akurasi"
      ],
      "metadata": {
        "id": "icRreUChxAwF"
      },
      "execution_count": 43,
      "outputs": []
    },
    {
      "cell_type": "markdown",
      "source": [
        "kode program dibawah untuk menampilkan ringkasan (summary) dari arsitektur model neural network yang telah didefinisikan"
      ],
      "metadata": {
        "id": "Fvxf4fXPgWF8"
      }
    },
    {
      "cell_type": "code",
      "source": [
        "# Check network summary\n",
        "network.summary()"
      ],
      "metadata": {
        "id": "nAuCYbRWxIKl",
        "outputId": "430823b6-0a81-4806-d3fe-aee4c5cecb86",
        "colab": {
          "base_uri": "https://localhost:8080/"
        }
      },
      "execution_count": 44,
      "outputs": [
        {
          "output_type": "stream",
          "name": "stdout",
          "text": [
            "Model: \"sequential\"\n",
            "_________________________________________________________________\n",
            " Layer (type)                Output Shape              Param #   \n",
            "=================================================================\n",
            " conv2d (Conv2D)             (None, 26, 26, 32)        320       \n",
            "                                                                 \n",
            " max_pooling2d (MaxPooling2  (None, 13, 13, 32)        0         \n",
            " D)                                                              \n",
            "                                                                 \n",
            " conv2d_1 (Conv2D)           (None, 13, 13, 64)        18496     \n",
            "                                                                 \n",
            " max_pooling2d_1 (MaxPoolin  (None, 6, 6, 64)          0         \n",
            " g2D)                                                            \n",
            "                                                                 \n",
            " conv2d_2 (Conv2D)           (None, 4, 4, 128)         73856     \n",
            "                                                                 \n",
            " max_pooling2d_2 (MaxPoolin  (None, 2, 2, 128)         0         \n",
            " g2D)                                                            \n",
            "                                                                 \n",
            " flatten (Flatten)           (None, 512)               0         \n",
            "                                                                 \n",
            " dense (Dense)               (None, 64)                32832     \n",
            "                                                                 \n",
            " dense_1 (Dense)             (None, 128)               8320      \n",
            "                                                                 \n",
            " dense_2 (Dense)             (None, 36)                4644      \n",
            "                                                                 \n",
            "=================================================================\n",
            "Total params: 138468 (540.89 KB)\n",
            "Trainable params: 138468 (540.89 KB)\n",
            "Non-trainable params: 0 (0.00 Byte)\n",
            "_________________________________________________________________\n"
          ]
        }
      ]
    },
    {
      "cell_type": "markdown",
      "source": [
        "## Train model"
      ],
      "metadata": {
        "id": "DH7hSW38xX6e"
      }
    },
    {
      "cell_type": "code",
      "source": [
        "\n",
        "# Create actual labels\n",
        "name_labels = '0123456789' # inisialisasi variabel 'name_labels' dengan karakter digit (0-9).\n",
        "name_labels += 'ABCDEFGHIJKLMNOPQRSTUVWXYZ' # menambahkan karakter huruf kapital (A-Z) ke dalam variabel 'name_labels'\n",
        "name_labels = [l for l in name_labels] # membuat list dari karakter-karakter dalam 'name_labels'\n",
        "\n",
        "# Check actual label\n",
        "print(name_labels)"
      ],
      "metadata": {
        "id": "o7Vc4ly2xMhk",
        "outputId": "4e42fc7e-62d0-4b42-ff06-417798c1f2d2",
        "colab": {
          "base_uri": "https://localhost:8080/"
        }
      },
      "execution_count": 45,
      "outputs": [
        {
          "output_type": "stream",
          "name": "stdout",
          "text": [
            "['0', '1', '2', '3', '4', '5', '6', '7', '8', '9', 'A', 'B', 'C', 'D', 'E', 'F', 'G', 'H', 'I', 'J', 'K', 'L', 'M', 'N', 'O', 'P', 'Q', 'R', 'S', 'T', 'U', 'V', 'W', 'X', 'Y', 'Z']\n"
          ]
        }
      ]
    },
    {
      "cell_type": "code",
      "source": [
        "# Set model name, epoch, and batch size\n",
        "file_model = 'custom_ocr.model' # menetapkan nama file atau path untuk menyimpan model setelah pelatihan\n",
        "epochs = 20 # menetapkan jumlah epoch, yaitu jumlah kali seluruh dataset akan digunakan dalam pelatihan\n",
        "batch_size = 128 # menetapkan ukuran batch, yaitu jumlah sampel yang akan digunakan dalam satu iterasi pelatihan\n",
        ""
      ],
      "metadata": {
        "id": "rNQ_-PY7xVRD"
      },
      "execution_count": 46,
      "outputs": []
    },
    {
      "cell_type": "code",
      "source": [
        "# Setup checkpoint\n",
        "checkpointer = ModelCheckpoint(file_model, monitor = 'val_loss', verbose = 1, save_best_only=True)\n",
        "# membuat objek ModelCheckpoint yang akan memantau nilai 'val_loss' (kerugian pada dataset pengujian) selama pelatihan\n",
        ""
      ],
      "metadata": {
        "id": "F8Orj5UQxdtr"
      },
      "execution_count": 47,
      "outputs": []
    },
    {
      "cell_type": "markdown",
      "source": [
        "kode program dibawah untuk melatih model neural network dengan data augmentasi menggunakan fungsi fit dari Keras"
      ],
      "metadata": {
        "id": "HScyUCSmgx_t"
      }
    },
    {
      "cell_type": "code",
      "source": [
        "# Fit the model\n",
        "history = network.fit(augmentation.flow(X_train, y_train, batch_size=batch_size),\n",
        "                      validation_data = (X_test, y_test),\n",
        "                      steps_per_epoch = len(X_train) // batch_size, epochs=epochs,\n",
        "                      class_weight = classes_weights, verbose=1, callbacks=[checkpointer])"
      ],
      "metadata": {
        "id": "enFAwiaxxkgx",
        "outputId": "cb1e6f15-2996-4a29-e263-3fd2eae9cfd9",
        "colab": {
          "base_uri": "https://localhost:8080/"
        }
      },
      "execution_count": 48,
      "outputs": [
        {
          "output_type": "stream",
          "name": "stdout",
          "text": [
            "Epoch 1/20\n",
            "2764/2765 [============================>.] - ETA: 0s - loss: 2.1900 - accuracy: 0.8245\n",
            "Epoch 1: val_loss improved from inf to 0.23047, saving model to custom_ocr.model\n",
            "2765/2765 [==============================] - 157s 53ms/step - loss: 2.1896 - accuracy: 0.8245 - val_loss: 0.2305 - val_accuracy: 0.9189\n",
            "Epoch 2/20\n",
            "2765/2765 [==============================] - ETA: 0s - loss: 0.9851 - accuracy: 0.9009\n",
            "Epoch 2: val_loss improved from 0.23047 to 0.20406, saving model to custom_ocr.model\n",
            "2765/2765 [==============================] - 162s 59ms/step - loss: 0.9851 - accuracy: 0.9009 - val_loss: 0.2041 - val_accuracy: 0.9238\n",
            "Epoch 3/20\n",
            "2765/2765 [==============================] - ETA: 0s - loss: 0.8239 - accuracy: 0.9139\n",
            "Epoch 3: val_loss did not improve from 0.20406\n",
            "2765/2765 [==============================] - 141s 51ms/step - loss: 0.8239 - accuracy: 0.9139 - val_loss: 0.2438 - val_accuracy: 0.8988\n",
            "Epoch 4/20\n",
            "2765/2765 [==============================] - ETA: 0s - loss: 0.7344 - accuracy: 0.9216\n",
            "Epoch 4: val_loss did not improve from 0.20406\n",
            "2765/2765 [==============================] - 130s 47ms/step - loss: 0.7344 - accuracy: 0.9216 - val_loss: 0.2209 - val_accuracy: 0.9038\n",
            "Epoch 5/20\n",
            "2765/2765 [==============================] - ETA: 0s - loss: 0.6696 - accuracy: 0.9271\n",
            "Epoch 5: val_loss did not improve from 0.20406\n",
            "2765/2765 [==============================] - 137s 50ms/step - loss: 0.6696 - accuracy: 0.9271 - val_loss: 0.3770 - val_accuracy: 0.8454\n",
            "Epoch 6/20\n",
            "2765/2765 [==============================] - ETA: 0s - loss: 0.6156 - accuracy: 0.9313\n",
            "Epoch 6: val_loss did not improve from 0.20406\n",
            "2765/2765 [==============================] - 130s 47ms/step - loss: 0.6156 - accuracy: 0.9313 - val_loss: 0.2691 - val_accuracy: 0.8912\n",
            "Epoch 7/20\n",
            "2764/2765 [============================>.] - ETA: 0s - loss: 0.5873 - accuracy: 0.9323\n",
            "Epoch 7: val_loss did not improve from 0.20406\n",
            "2765/2765 [==============================] - 139s 50ms/step - loss: 0.5873 - accuracy: 0.9323 - val_loss: 0.3003 - val_accuracy: 0.8709\n",
            "Epoch 8/20\n",
            "2765/2765 [==============================] - ETA: 0s - loss: 0.5540 - accuracy: 0.9349\n",
            "Epoch 8: val_loss did not improve from 0.20406\n",
            "2765/2765 [==============================] - 135s 49ms/step - loss: 0.5540 - accuracy: 0.9349 - val_loss: 0.3143 - val_accuracy: 0.8683\n",
            "Epoch 9/20\n",
            "2764/2765 [============================>.] - ETA: 0s - loss: 0.5434 - accuracy: 0.9363\n",
            "Epoch 9: val_loss did not improve from 0.20406\n",
            "2765/2765 [==============================] - 135s 49ms/step - loss: 0.5436 - accuracy: 0.9363 - val_loss: 0.2601 - val_accuracy: 0.8936\n",
            "Epoch 10/20\n",
            "2764/2765 [============================>.] - ETA: 0s - loss: 0.5167 - accuracy: 0.9378\n",
            "Epoch 10: val_loss did not improve from 0.20406\n",
            "2765/2765 [==============================] - 138s 50ms/step - loss: 0.5166 - accuracy: 0.9378 - val_loss: 0.2703 - val_accuracy: 0.8773\n",
            "Epoch 11/20\n",
            "2765/2765 [==============================] - ETA: 0s - loss: 0.5013 - accuracy: 0.9399\n",
            "Epoch 11: val_loss did not improve from 0.20406\n",
            "2765/2765 [==============================] - 130s 47ms/step - loss: 0.5013 - accuracy: 0.9399 - val_loss: 0.2873 - val_accuracy: 0.8680\n",
            "Epoch 12/20\n",
            "2764/2765 [============================>.] - ETA: 0s - loss: 0.4869 - accuracy: 0.9410\n",
            "Epoch 12: val_loss did not improve from 0.20406\n",
            "2765/2765 [==============================] - 137s 50ms/step - loss: 0.4869 - accuracy: 0.9410 - val_loss: 0.2160 - val_accuracy: 0.9088\n",
            "Epoch 13/20\n",
            "2765/2765 [==============================] - ETA: 0s - loss: 0.4722 - accuracy: 0.9428\n",
            "Epoch 13: val_loss did not improve from 0.20406\n",
            "2765/2765 [==============================] - 133s 48ms/step - loss: 0.4722 - accuracy: 0.9428 - val_loss: 0.2352 - val_accuracy: 0.8950\n",
            "Epoch 14/20\n",
            "2765/2765 [==============================] - ETA: 0s - loss: 0.4659 - accuracy: 0.9430\n",
            "Epoch 14: val_loss did not improve from 0.20406\n",
            "2765/2765 [==============================] - 137s 50ms/step - loss: 0.4659 - accuracy: 0.9430 - val_loss: 0.2175 - val_accuracy: 0.9047\n",
            "Epoch 15/20\n",
            "2765/2765 [==============================] - ETA: 0s - loss: 0.4586 - accuracy: 0.9447\n",
            "Epoch 15: val_loss did not improve from 0.20406\n",
            "2765/2765 [==============================] - 135s 49ms/step - loss: 0.4586 - accuracy: 0.9447 - val_loss: 0.2503 - val_accuracy: 0.9001\n",
            "Epoch 16/20\n",
            "2765/2765 [==============================] - ETA: 0s - loss: 0.4443 - accuracy: 0.9453\n",
            "Epoch 16: val_loss improved from 0.20406 to 0.19743, saving model to custom_ocr.model\n",
            "2765/2765 [==============================] - 132s 48ms/step - loss: 0.4443 - accuracy: 0.9453 - val_loss: 0.1974 - val_accuracy: 0.9140\n",
            "Epoch 17/20\n",
            "2765/2765 [==============================] - ETA: 0s - loss: 0.4358 - accuracy: 0.9467\n",
            "Epoch 17: val_loss improved from 0.19743 to 0.18187, saving model to custom_ocr.model\n",
            "2765/2765 [==============================] - 138s 50ms/step - loss: 0.4358 - accuracy: 0.9467 - val_loss: 0.1819 - val_accuracy: 0.9248\n",
            "Epoch 18/20\n",
            "2764/2765 [============================>.] - ETA: 0s - loss: 0.4286 - accuracy: 0.9468\n",
            "Epoch 18: val_loss improved from 0.18187 to 0.16021, saving model to custom_ocr.model\n",
            "2765/2765 [==============================] - 132s 48ms/step - loss: 0.4286 - accuracy: 0.9468 - val_loss: 0.1602 - val_accuracy: 0.9397\n",
            "Epoch 19/20\n",
            "2764/2765 [============================>.] - ETA: 0s - loss: 0.4306 - accuracy: 0.9477\n",
            "Epoch 19: val_loss did not improve from 0.16021\n",
            "2765/2765 [==============================] - 138s 50ms/step - loss: 0.4306 - accuracy: 0.9477 - val_loss: 0.1703 - val_accuracy: 0.9341\n",
            "Epoch 20/20\n",
            "2765/2765 [==============================] - ETA: 0s - loss: 0.4222 - accuracy: 0.9480\n",
            "Epoch 20: val_loss did not improve from 0.16021\n",
            "2765/2765 [==============================] - 129s 47ms/step - loss: 0.4222 - accuracy: 0.9480 - val_loss: 0.1957 - val_accuracy: 0.9310\n"
          ]
        }
      ]
    },
    {
      "cell_type": "markdown",
      "source": [
        "Kode program dibawah untuk menyambungkan dengan gdrive"
      ],
      "metadata": {
        "id": "w_6YjU9Tg2TY"
      }
    },
    {
      "cell_type": "code",
      "source": [
        "from google.colab import drive\n",
        "drive.mount('/content/drive')"
      ],
      "metadata": {
        "id": "lkZ6fUPOPGE3",
        "outputId": "aece3df8-2dd0-46e4-ee68-2e7a09a7c984",
        "colab": {
          "base_uri": "https://localhost:8080/"
        }
      },
      "execution_count": 66,
      "outputs": [
        {
          "output_type": "stream",
          "name": "stdout",
          "text": [
            "Mounted at /content/drive\n"
          ]
        }
      ]
    },
    {
      "cell_type": "markdown",
      "source": [
        "# Evaluate Model"
      ],
      "metadata": {
        "id": "bM4mGoWL6jxk"
      }
    },
    {
      "cell_type": "markdown",
      "source": [
        "## Make a Single Prediction"
      ],
      "metadata": {
        "id": "ig0TiV6N7V29"
      }
    },
    {
      "cell_type": "markdown",
      "source": [
        "kode program dibawah prediksi menggunakan model neural network pada dataset pengujian 'X_test'"
      ],
      "metadata": {
        "id": "5pbMkmvg7V0i"
      }
    },
    {
      "cell_type": "code",
      "source": [
        "# make a prediction\n",
        "predictions = network.predict(X_test, batch_size=batch_size)"
      ],
      "metadata": {
        "id": "WDJUSW-l6lEl",
        "outputId": "eeeaaa40-af8a-4e0f-d72e-edfce5a89719",
        "colab": {
          "base_uri": "https://localhost:8080/"
        }
      },
      "execution_count": 49,
      "outputs": [
        {
          "output_type": "stream",
          "name": "stdout",
          "text": [
            "692/692 [==============================] - 2s 3ms/step\n"
          ]
        }
      ]
    },
    {
      "cell_type": "markdown",
      "source": [
        "kode program dibawah untuk  mengakses hasil prediksi untuk sampel pertama (indeks ke-1)"
      ],
      "metadata": {
        "id": "XrRpIiBehCKB"
      }
    },
    {
      "cell_type": "code",
      "source": [
        "# Check prediction for data-0\n",
        "# You will get the probability for each label\n",
        "# The highest one is the prediction\n",
        "predictions[1]"
      ],
      "metadata": {
        "id": "tQ5Ta4b96pEt",
        "outputId": "ea838f88-bcb4-49f8-d31e-885c3457b7d5",
        "colab": {
          "base_uri": "https://localhost:8080/"
        }
      },
      "execution_count": 50,
      "outputs": [
        {
          "output_type": "execute_result",
          "data": {
            "text/plain": [
              "array([2.86227964e-13, 2.17538654e-09, 3.59245945e-13, 3.35025152e-21,\n",
              "       5.43351180e-15, 1.03610989e-12, 3.05046806e-17, 3.86375908e-13,\n",
              "       4.64861270e-14, 9.34902133e-16, 9.83857180e-12, 5.88448612e-17,\n",
              "       8.59013694e-11, 7.70736322e-11, 2.79363251e-11, 1.44962223e-10,\n",
              "       5.98135661e-15, 4.84519994e-11, 9.99996901e-01, 3.13911960e-06,\n",
              "       1.05100704e-14, 1.06393481e-08, 8.53437962e-19, 2.92634603e-14,\n",
              "       3.18256393e-11, 4.70012721e-14, 4.58722470e-13, 2.71608772e-14,\n",
              "       9.60109769e-12, 3.16953219e-08, 1.25551880e-12, 1.24423685e-14,\n",
              "       2.99752302e-12, 1.90490917e-12, 3.54397865e-11, 3.53120810e-10],\n",
              "      dtype=float32)"
            ]
          },
          "metadata": {},
          "execution_count": 50
        }
      ]
    },
    {
      "cell_type": "markdown",
      "source": [
        "kode program dibawah untuk mengambil indeks dengan nilai maksimum dari array 'predictions[1]'"
      ],
      "metadata": {
        "id": "Bap8FzN7hGfJ"
      }
    },
    {
      "cell_type": "code",
      "source": [
        "# Get the actual prediction -> highest probability\n",
        "np.argmax(predictions[1])"
      ],
      "metadata": {
        "id": "9THTrYAH64g8",
        "outputId": "3a823271-ff6f-4452-d3d9-9b1c2b7210ba",
        "colab": {
          "base_uri": "https://localhost:8080/"
        }
      },
      "execution_count": 51,
      "outputs": [
        {
          "output_type": "execute_result",
          "data": {
            "text/plain": [
              "18"
            ]
          },
          "metadata": {},
          "execution_count": 51
        }
      ]
    },
    {
      "cell_type": "markdown",
      "source": [
        "kode program dibawah untuk mengakses elemen ke-18 dari list 'name_labels'"
      ],
      "metadata": {
        "id": "uXx3uuUshLAO"
      }
    },
    {
      "cell_type": "code",
      "source": [
        "# Check label for 24\n",
        "name_labels[18]"
      ],
      "metadata": {
        "id": "pG6n2eTI6-Ly",
        "outputId": "98b742f0-f6ed-4811-9945-623af9222588",
        "colab": {
          "base_uri": "https://localhost:8080/",
          "height": 35
        }
      },
      "execution_count": 52,
      "outputs": [
        {
          "output_type": "execute_result",
          "data": {
            "text/plain": [
              "'I'"
            ],
            "application/vnd.google.colaboratory.intrinsic+json": {
              "type": "string"
            }
          },
          "metadata": {},
          "execution_count": 52
        }
      ]
    },
    {
      "cell_type": "markdown",
      "source": [
        "kode program dibawah untuk Mengakses label sebenarnya dari sampel pertama dalam dataset pengujian"
      ],
      "metadata": {
        "id": "UdYDdbGxhQK0"
      }
    },
    {
      "cell_type": "code",
      "source": [
        "# Check y_test label for 0\n",
        "y_test[1]"
      ],
      "metadata": {
        "id": "chDSvyYq7Bxq",
        "outputId": "c24e0f13-7dad-493a-a62d-993b46fd2396",
        "colab": {
          "base_uri": "https://localhost:8080/"
        }
      },
      "execution_count": 53,
      "outputs": [
        {
          "output_type": "execute_result",
          "data": {
            "text/plain": [
              "array([0, 0, 0, 0, 0, 0, 0, 0, 0, 0, 0, 0, 0, 0, 0, 0, 0, 0, 1, 0, 0, 0,\n",
              "       0, 0, 0, 0, 0, 0, 0, 0, 0, 0, 0, 0, 0, 0])"
            ]
          },
          "metadata": {},
          "execution_count": 53
        }
      ]
    },
    {
      "cell_type": "markdown",
      "source": [
        "kode program dibawah untuk mengambil indeks dengan nilai maksimum dari array 'y_test[1]'\n",
        "     "
      ],
      "metadata": {
        "id": "qcP--ds9hUg5"
      }
    },
    {
      "cell_type": "code",
      "source": [
        "# check the highest value\n",
        "np.argmax(y_test[1])"
      ],
      "metadata": {
        "id": "BpoE99Us7KpZ",
        "outputId": "faeb4bed-505b-48ed-832c-85efbd802c93",
        "colab": {
          "base_uri": "https://localhost:8080/"
        }
      },
      "execution_count": 54,
      "outputs": [
        {
          "output_type": "execute_result",
          "data": {
            "text/plain": [
              "18"
            ]
          },
          "metadata": {},
          "execution_count": 54
        }
      ]
    },
    {
      "cell_type": "markdown",
      "source": [
        "kode program dibawah untuk mengakses karakter yang sesuai dengan kelas sebenarnya dari sampel ke-18 dalam dataset pengujian"
      ],
      "metadata": {
        "id": "r2A4BGILhaK7"
      }
    },
    {
      "cell_type": "code",
      "source": [
        "# Check the label of y_test 0\n",
        "name_labels[np.argmax(y_test[18])]"
      ],
      "metadata": {
        "id": "KjJRX1lC7Ppw",
        "outputId": "8d43d6f5-255b-4c69-fc78-9f49d9f3faa7",
        "colab": {
          "base_uri": "https://localhost:8080/",
          "height": 35
        }
      },
      "execution_count": 55,
      "outputs": [
        {
          "output_type": "execute_result",
          "data": {
            "text/plain": [
              "'S'"
            ],
            "application/vnd.google.colaboratory.intrinsic+json": {
              "type": "string"
            }
          },
          "metadata": {},
          "execution_count": 55
        }
      ]
    },
    {
      "cell_type": "markdown",
      "source": [
        "## Make an Evaluation on Test Data"
      ],
      "metadata": {
        "id": "_xFS3-cs7a0x"
      }
    },
    {
      "cell_type": "markdown",
      "source": [
        "kode program dibawah untuk mengevaluasi kinerja model pada dataset pengujian"
      ],
      "metadata": {
        "id": "Nrq2UuDyhdBz"
      }
    },
    {
      "cell_type": "code",
      "source": [
        "# Evaluate on test data\n",
        "network.evaluate(X_test, y_test)"
      ],
      "metadata": {
        "id": "t-rko8WP7TYA",
        "outputId": "cd4493d7-df87-4693-b368-635b9c5bef3f",
        "colab": {
          "base_uri": "https://localhost:8080/"
        }
      },
      "execution_count": 56,
      "outputs": [
        {
          "output_type": "stream",
          "name": "stdout",
          "text": [
            "2766/2766 [==============================] - 10s 4ms/step - loss: 0.1957 - accuracy: 0.9310\n"
          ]
        },
        {
          "output_type": "execute_result",
          "data": {
            "text/plain": [
              "[0.19570887088775635, 0.9310204386711121]"
            ]
          },
          "metadata": {},
          "execution_count": 56
        }
      ]
    },
    {
      "cell_type": "markdown",
      "source": [
        "kode program dibawah untuk mencetak laporan klasifikasi yang menyediakan informasi rinci tentang kinerja model"
      ],
      "metadata": {
        "id": "ejWbTJKFhknz"
      }
    },
    {
      "cell_type": "code",
      "source": [
        "# Print Classification Report\n",
        "print(classification_report(y_test.argmax(axis=1), predictions.argmax(axis=1), target_names = name_labels))"
      ],
      "metadata": {
        "id": "VkQtgoCq7gx2",
        "outputId": "e9845822-27f7-4324-cab9-397d1c7ca95b",
        "colab": {
          "base_uri": "https://localhost:8080/"
        }
      },
      "execution_count": 57,
      "outputs": [
        {
          "output_type": "stream",
          "name": "stdout",
          "text": [
            "              precision    recall  f1-score   support\n",
            "\n",
            "           0       0.33      0.67      0.44      1381\n",
            "           1       0.97      0.99      0.98      1575\n",
            "           2       0.88      0.98      0.93      1398\n",
            "           3       0.97      0.99      0.98      1428\n",
            "           4       0.82      0.99      0.90      1365\n",
            "           5       0.43      0.96      0.59      1263\n",
            "           6       0.94      0.97      0.96      1375\n",
            "           7       0.95      1.00      0.97      1459\n",
            "           8       0.94      0.99      0.97      1365\n",
            "           9       0.96      0.98      0.97      1392\n",
            "           A       0.99      0.99      0.99      2774\n",
            "           B       0.97      0.99      0.98      1734\n",
            "           C       0.99      0.97      0.98      4682\n",
            "           D       0.83      0.98      0.90      2027\n",
            "           E       0.95      0.99      0.97      2288\n",
            "           F       0.91      1.00      0.95       233\n",
            "           G       0.98      0.92      0.95      1152\n",
            "           H       0.99      0.93      0.96      1444\n",
            "           I       0.96      0.99      0.98       224\n",
            "           J       0.97      0.97      0.97      1698\n",
            "           K       0.97      0.99      0.98      1121\n",
            "           L       0.99      0.95      0.97      2317\n",
            "           M       0.98      1.00      0.99      2467\n",
            "           N       0.99      0.99      0.99      3802\n",
            "           O       0.95      0.81      0.88     11565\n",
            "           P       1.00      0.98      0.99      3868\n",
            "           Q       0.95      0.98      0.97      1162\n",
            "           R       0.98      0.99      0.99      2313\n",
            "           S       1.00      0.82      0.90      9684\n",
            "           T       1.00      0.98      0.99      4499\n",
            "           U       0.99      0.96      0.98      5801\n",
            "           V       0.98      1.00      0.99       836\n",
            "           W       0.99      0.98      0.99      2157\n",
            "           X       0.98      0.99      0.99      1254\n",
            "           Y       0.99      0.92      0.95      2172\n",
            "           Z       0.96      0.89      0.92      1215\n",
            "\n",
            "    accuracy                           0.93     88490\n",
            "   macro avg       0.93      0.96      0.94     88490\n",
            "weighted avg       0.95      0.93      0.94     88490\n",
            "\n"
          ]
        }
      ]
    },
    {
      "cell_type": "markdown",
      "source": [
        "kode program dibawah untuk menggambar atau memplot kurva kerugian pada dataset pengujian selama pelatihan model"
      ],
      "metadata": {
        "id": "2KGi_Vl7hqWV"
      }
    },
    {
      "cell_type": "code",
      "source": [
        "# Visualize loss value for each epoch\n",
        "plt.plot(history.history['val_loss'])"
      ],
      "metadata": {
        "id": "mIETfqMu7nv1",
        "outputId": "3ebd4ede-cd43-4618-ae21-589280257c3d",
        "colab": {
          "base_uri": "https://localhost:8080/",
          "height": 447
        }
      },
      "execution_count": 58,
      "outputs": [
        {
          "output_type": "execute_result",
          "data": {
            "text/plain": [
              "[<matplotlib.lines.Line2D at 0x7fc636028ac0>]"
            ]
          },
          "metadata": {},
          "execution_count": 58
        },
        {
          "output_type": "display_data",
          "data": {
            "text/plain": [
              "<Figure size 640x480 with 1 Axes>"
            ],
            "image/png": "[encoded data removed]"
          },
          "metadata": {}
        }
      ]
    },
    {
      "cell_type": "markdown",
      "source": [
        "kode program dibawah untuk  mengakses kunci-kunci 'keys' yang tersedia dalam objek history setelah pelatihan model"
      ],
      "metadata": {
        "id": "sHo-7iNihv1B"
      }
    },
    {
      "cell_type": "code",
      "source": [
        "# You can also check the another metrics\n",
        "history.history.keys()"
      ],
      "metadata": {
        "id": "mNUP1QP17vas",
        "outputId": "021ce4bc-5faf-4e16-a199-c0227040ef48",
        "colab": {
          "base_uri": "https://localhost:8080/"
        }
      },
      "execution_count": 59,
      "outputs": [
        {
          "output_type": "execute_result",
          "data": {
            "text/plain": [
              "dict_keys(['loss', 'accuracy', 'val_loss', 'val_accuracy'])"
            ]
          },
          "metadata": {},
          "execution_count": 59
        }
      ]
    },
    {
      "cell_type": "markdown",
      "source": [
        "kode program dibawah untuk menggambar atau memplot kurva akurasi pada dataset pengujian selama pelatihan model"
      ],
      "metadata": {
        "id": "CyFnz63lh2Gx"
      }
    },
    {
      "cell_type": "code",
      "source": [
        "# Check the model performance by validation accuracy\n",
        "plt.plot(history.history['val_accuracy'])"
      ],
      "metadata": {
        "id": "VwEZzjEa716s",
        "outputId": "7217dee9-89eb-4cf9-da38-35de9f0bf148",
        "colab": {
          "base_uri": "https://localhost:8080/",
          "height": 447
        }
      },
      "execution_count": 60,
      "outputs": [
        {
          "output_type": "execute_result",
          "data": {
            "text/plain": [
              "[<matplotlib.lines.Line2D at 0x7fc633743f10>]"
            ]
          },
          "metadata": {},
          "execution_count": 60
        },
        {
          "output_type": "display_data",
          "data": {
            "text/plain": [
              "<Figure size 640x480 with 1 Axes>"
            ],
            "image/png": "[encoded data removed]"
          },
          "metadata": {}
        }
      ]
    },
    {
      "cell_type": "markdown",
      "source": [
        "# Save The Model"
      ],
      "metadata": {
        "id": "D0rviDyl79Bk"
      }
    },
    {
      "cell_type": "markdown",
      "source": [
        "kode program dibawah untuk menyimpan seluruh model neural network ke dalam file"
      ],
      "metadata": {
        "id": "yTVSHv2Rh6l4"
      }
    },
    {
      "cell_type": "code",
      "source": [
        "# The result will show in colab directory\n",
        "network.save('network', save_format= 'h5')"
      ],
      "metadata": {
        "id": "QZ4ftlmq76nC",
        "outputId": "b59bbcd0-5c5d-4def-e504-b679b36dd7b5",
        "colab": {
          "base_uri": "https://localhost:8080/"
        }
      },
      "execution_count": 61,
      "outputs": [
        {
          "output_type": "stream",
          "name": "stderr",
          "text": [
            "/usr/local/lib/python3.10/dist-packages/keras/src/engine/training.py:3079: UserWarning: You are saving your model as an HDF5 file via `model.save()`. This file format is considered legacy. We recommend using instead the native Keras format, e.g. `model.save('my_model.keras')`.\n",
            "  saving_api.save_model(\n"
          ]
        }
      ]
    },
    {
      "cell_type": "markdown",
      "source": [
        "# Testing on Real Image"
      ],
      "metadata": {
        "id": "A3EWZVrz0YDV"
      }
    },
    {
      "cell_type": "markdown",
      "source": [
        "kode program dibawah untuk mengimpor fungsi load_model dari modul 'models'"
      ],
      "metadata": {
        "id": "Bj_WhkYpiA7j"
      }
    },
    {
      "cell_type": "code",
      "source": [
        "# Import library\n",
        "from tensorflow.keras.models import load_model"
      ],
      "metadata": {
        "id": "1wUedJB-0Z_q"
      },
      "execution_count": 62,
      "outputs": []
    },
    {
      "cell_type": "markdown",
      "source": [
        "kode program dibawah untuk load model neural network yang telah disimpan sebelumnya ke dalam variabel 'load_network'\n",
        "     "
      ],
      "metadata": {
        "id": "p0WnNTWNiC-5"
      }
    },
    {
      "cell_type": "code",
      "source": [
        "# Load saved network\n",
        "load_network = load_model('network')"
      ],
      "metadata": {
        "id": "D6E24QOm0hiB"
      },
      "execution_count": 63,
      "outputs": []
    },
    {
      "cell_type": "markdown",
      "source": [
        "kode program dibawah untuk menampilkan ringkasan (summary) dari arsitektur model neural network yang telah dimuat kembali ke dalam va"
      ],
      "metadata": {
        "id": "86wARhb-iK3t"
      }
    },
    {
      "cell_type": "code",
      "source": [
        "# Check summary\n",
        "load_network.summary()"
      ],
      "metadata": {
        "id": "0cB7lmOc0nlR",
        "outputId": "600be4ad-82b4-4ad3-948f-980c9132379e",
        "colab": {
          "base_uri": "https://localhost:8080/"
        }
      },
      "execution_count": 64,
      "outputs": [
        {
          "output_type": "stream",
          "name": "stdout",
          "text": [
            "Model: \"sequential\"\n",
            "_________________________________________________________________\n",
            " Layer (type)                Output Shape              Param #   \n",
            "=================================================================\n",
            " conv2d (Conv2D)             (None, 26, 26, 32)        320       \n",
            "                                                                 \n",
            " max_pooling2d (MaxPooling2  (None, 13, 13, 32)        0         \n",
            " D)                                                              \n",
            "                                                                 \n",
            " conv2d_1 (Conv2D)           (None, 13, 13, 64)        18496     \n",
            "                                                                 \n",
            " max_pooling2d_1 (MaxPoolin  (None, 6, 6, 64)          0         \n",
            " g2D)                                                            \n",
            "                                                                 \n",
            " conv2d_2 (Conv2D)           (None, 4, 4, 128)         73856     \n",
            "                                                                 \n",
            " max_pooling2d_2 (MaxPoolin  (None, 2, 2, 128)         0         \n",
            " g2D)                                                            \n",
            "                                                                 \n",
            " flatten (Flatten)           (None, 512)               0         \n",
            "                                                                 \n",
            " dense (Dense)               (None, 64)                32832     \n",
            "                                                                 \n",
            " dense_1 (Dense)             (None, 128)               8320      \n",
            "                                                                 \n",
            " dense_2 (Dense)             (None, 36)                4644      \n",
            "                                                                 \n",
            "=================================================================\n",
            "Total params: 138468 (540.89 KB)\n",
            "Trainable params: 138468 (540.89 KB)\n",
            "Non-trainable params: 0 (0.00 Byte)\n",
            "_________________________________________________________________\n"
          ]
        }
      ]
    },
    {
      "cell_type": "code",
      "source": [
        "# Load Image\n",
        "# menampilkan citra\n",
        "import cv2\n",
        "from google.colab.patches import cv2_imshow\n",
        "\n",
        "img = cv2.imread('/content/drive/MyDrive/Kuis2/Quiz 2/Quiz 2/b_small.png')\n",
        "cv2_imshow(img)"
      ],
      "metadata": {
        "id": "hbnaTxZK07JW",
        "outputId": "21152538-3b5b-4f9b-bf42-6e8d5766afae",
        "colab": {
          "base_uri": "https://localhost:8080/",
          "height": 317
        }
      },
      "execution_count": 68,
      "outputs": [
        {
          "output_type": "display_data",
          "data": {
            "text/plain": [
              "<PIL.Image.Image image mode=RGB size=300x300>"
            ],
            "image/png": "[encoded data removed]"
          },
          "metadata": {}
        }
      ]
    },
    {
      "cell_type": "markdown",
      "source": [
        "kode program dibawah untuk mendapatkan bentuk (shape) dari suatu array atau tensor 'img'"
      ],
      "metadata": {
        "id": "OBnSA81riXaD"
      }
    },
    {
      "cell_type": "code",
      "source": [
        "# Check shape\n",
        "img.shape"
      ],
      "metadata": {
        "id": "EfDOYN6D1OZ9",
        "outputId": "5a366f36-320c-432a-acf5-f65196c68bf2",
        "colab": {
          "base_uri": "https://localhost:8080/"
        }
      },
      "execution_count": 69,
      "outputs": [
        {
          "output_type": "execute_result",
          "data": {
            "text/plain": [
              "(300, 300, 3)"
            ]
          },
          "metadata": {},
          "execution_count": 69
        }
      ]
    },
    {
      "cell_type": "markdown",
      "source": [
        "kode program dibawah untukkonversi warna citra dari format BGR (Blue, Green, Red) ke citra keabuan (grayscale) menggunakan OpenCV"
      ],
      "metadata": {
        "id": "tL_htM_PicMS"
      }
    },
    {
      "cell_type": "code",
      "source": [
        "# Convert to gray\n",
        "gray_img = cv2.cvtColor(img, cv2.COLOR_BGR2GRAY)\n",
        "\n",
        "# check shape\n",
        "gray_img.shape"
      ],
      "metadata": {
        "id": "7e6w1zaL1RW7",
        "outputId": "576d9b05-716f-4ddb-ff8c-46896c0c3b6e",
        "colab": {
          "base_uri": "https://localhost:8080/"
        }
      },
      "execution_count": 70,
      "outputs": [
        {
          "output_type": "execute_result",
          "data": {
            "text/plain": [
              "(300, 300)"
            ]
          },
          "metadata": {},
          "execution_count": 70
        }
      ]
    },
    {
      "cell_type": "markdown",
      "source": [
        "kode program dibawah untuk  segmentasi citra menggunakan metode thresholding otomatis Otsu"
      ],
      "metadata": {
        "id": "cLlHPzyVilf6"
      }
    },
    {
      "cell_type": "code",
      "source": [
        "# Pre-process\n",
        "# Binary Threshold and Otsu\n",
        "value, thresh = cv2.threshold(gray_img, 0, 255, cv2.THRESH_BINARY + cv2.THRESH_OTSU)\n",
        "\n",
        "cv2_imshow(thresh)\n",
        "\n",
        "# print threshold value\n",
        "print(value)"
      ],
      "metadata": {
        "id": "9_al0IF01c3q",
        "outputId": "0e91cfb7-1f96-428b-992e-00087ba71281",
        "colab": {
          "base_uri": "https://localhost:8080/",
          "height": 334
        }
      },
      "execution_count": 71,
      "outputs": [
        {
          "output_type": "display_data",
          "data": {
            "text/plain": [
              "<PIL.Image.Image image mode=L size=300x300>"
            ],
            "image/png": "[encoded data removed]"
          },
          "metadata": {}
        },
        {
          "output_type": "stream",
          "name": "stdout",
          "text": [
            "120.0\n"
          ]
        }
      ]
    },
    {
      "cell_type": "markdown",
      "source": [
        "kode program dibawah untuk meresize citra keabuan 'gray_img' menjadi ukuran yang lebih kecil, yaitu 28x28 piksel"
      ],
      "metadata": {
        "id": "zXCAjyopis0y"
      }
    },
    {
      "cell_type": "code",
      "source": [
        "# Resize image in order to match network input shape -> 28*28\n",
        "img_resize = cv2.resize(gray_img, (28,28))\n",
        "cv2_imshow(img_resize)"
      ],
      "metadata": {
        "id": "dmjHswqd1wB5",
        "outputId": "d0ab469b-2a92-420f-8fed-41693ae628ef",
        "colab": {
          "base_uri": "https://localhost:8080/",
          "height": 45
        }
      },
      "execution_count": 72,
      "outputs": [
        {
          "output_type": "display_data",
          "data": {
            "text/plain": [
              "<PIL.Image.Image image mode=L size=28x28>"
            ],
            "image/png": "[encoded data removed]"
          },
          "metadata": {}
        }
      ]
    },
    {
      "cell_type": "code",
      "source": [
        "\n",
        "# Convert to float 32\n",
        "# and extend the dimension since network input shape is 28*28*1\n",
        "img_input = img_resize.astype('float32') / 255 # also perform normalization\n",
        "img_input = np.expand_dims(img_input, axis=-1) # insert depth\n",
        "\n",
        "# check shape\n",
        "img_input.shape\n",
        "# mengubah tipe data citra 'img_resize' menjadi 'float32'\n",
        "# melakukan normalisasi nilai piksel\n",
        "# menambah dimensi kedalaman (depth) ke citra"
      ],
      "metadata": {
        "id": "bZStKgUl2Kk_",
        "outputId": "f13fa871-d704-4eff-ecd0-3c91c9294d2d",
        "colab": {
          "base_uri": "https://localhost:8080/"
        }
      },
      "execution_count": 73,
      "outputs": [
        {
          "output_type": "execute_result",
          "data": {
            "text/plain": [
              "(28, 28, 1)"
            ]
          },
          "metadata": {},
          "execution_count": 73
        }
      ]
    },
    {
      "cell_type": "markdown",
      "source": [
        "kode program dibawah untuk mereshape citra input 'img_input' menjadi bentuk yang sesuai untuk dimasukkan ke dalam model neural network"
      ],
      "metadata": {
        "id": "zOCWnM7ti72j"
      }
    },
    {
      "cell_type": "code",
      "source": [
        "# Add \"amount of data\" as dimension\n",
        "img_input = np.reshape(img_input, (1,28,28,1))\n",
        "img_input.shape"
      ],
      "metadata": {
        "id": "7Xs7JwKj2lxr",
        "outputId": "b79983fb-03e1-4393-f883-5d7fa2565723",
        "colab": {
          "base_uri": "https://localhost:8080/"
        }
      },
      "execution_count": 74,
      "outputs": [
        {
          "output_type": "execute_result",
          "data": {
            "text/plain": [
              "(1, 28, 28, 1)"
            ]
          },
          "metadata": {},
          "execution_count": 74
        }
      ]
    },
    {
      "cell_type": "markdown",
      "source": [
        "kode program dibawah untuk prediksi menggunakan model neural network yang telah dimuat kembali 'load_network' pada citra input 'img_input'\n",
        "     "
      ],
      "metadata": {
        "id": "sZYszCpKi_Xg"
      }
    },
    {
      "cell_type": "code",
      "source": [
        "# Make a predition\n",
        "prediction = load_network.predict(img_input)\n",
        "pred_label = np.argmax(prediction) # predict actual label\n",
        "pred_label"
      ],
      "metadata": {
        "id": "fZLWIWLs2yuX",
        "outputId": "86537d25-d936-41d2-a89c-ddbf852f1acf",
        "colab": {
          "base_uri": "https://localhost:8080/"
        }
      },
      "execution_count": 75,
      "outputs": [
        {
          "output_type": "stream",
          "name": "stdout",
          "text": [
            "1/1 [==============================] - 0s 163ms/step\n"
          ]
        },
        {
          "output_type": "execute_result",
          "data": {
            "text/plain": [
              "13"
            ]
          },
          "metadata": {},
          "execution_count": 75
        }
      ]
    },
    {
      "cell_type": "markdown",
      "source": [
        "kode program dibawah untuk  mengakses label kelas yang sesuai dengan indeks ke-6"
      ],
      "metadata": {
        "id": "6YNyPwX1jFB7"
      }
    },
    {
      "cell_type": "code",
      "source": [
        "# check label for 6\n",
        "name_labels[6]"
      ],
      "metadata": {
        "id": "72Pl04hq3WNz",
        "outputId": "a2c294fb-6f8c-4a91-d9ec-405e374813bf",
        "colab": {
          "base_uri": "https://localhost:8080/",
          "height": 35
        }
      },
      "execution_count": 76,
      "outputs": [
        {
          "output_type": "execute_result",
          "data": {
            "text/plain": [
              "'6'"
            ],
            "application/vnd.google.colaboratory.intrinsic+json": {
              "type": "string"
            }
          },
          "metadata": {},
          "execution_count": 76
        }
      ]
    }
  ]
}