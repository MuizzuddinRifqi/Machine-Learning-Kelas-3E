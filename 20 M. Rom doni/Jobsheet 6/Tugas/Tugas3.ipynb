{
 "cells": [
  {
   "cell_type": "code",
   "execution_count": 2,
   "metadata": {},
   "outputs": [
    {
     "name": "stdout",
     "output_type": "stream",
     "text": [
      "Akurasi Ensemble Voting: 77.92%\n"
     ]
    }
   ],
   "source": [
    "import pandas as pd\n",
    "from sklearn.model_selection import train_test_split\n",
    "from sklearn.linear_model import LogisticRegression\n",
    "from sklearn.svm import SVC\n",
    "from sklearn.tree import DecisionTreeClassifier\n",
    "from sklearn.ensemble import VotingClassifier\n",
    "from sklearn.metrics import accuracy_score\n",
    "\n",
    "# Load the diabetes dataset (pastikan Anda memiliki file dataset diabetes)\n",
    "df = pd.read_csv('../data/diabetes.csv')\n",
    "\n",
    "# Memisahkan fitur (X) dan label (y)\n",
    "X = df.drop(columns=['Outcome'])\n",
    "y = df['Outcome']\n",
    "\n",
    "# Membagi dataset menjadi data pelatihan dan data pengujian\n",
    "X_train, X_test, y_train, y_test = train_test_split(X, y, test_size=0.2, random_state=42)\n",
    "\n",
    "# Membuat model Logistic Regression\n",
    "logistic_model = LogisticRegression(solver='liblinear', random_state=42)\n",
    "\n",
    "# Membuat model SVM dengan kernel polynomial\n",
    "svm_model = SVC(kernel='poly', degree=3, random_state=42)\n",
    "\n",
    "# Membuat model Decision Tree\n",
    "decision_tree_model = DecisionTreeClassifier(random_state=42)\n",
    "\n",
    "# Menggabungkan ketiga model dalam ensemble voting\n",
    "ensemble_model = VotingClassifier(\n",
    "    estimators=[('lr', logistic_model), ('svm', svm_model), ('dt', decision_tree_model)],\n",
    "    voting='hard'  # Anda dapat menggunakan 'soft' jika model Anda mengeluarkan probabilitas\n",
    ")\n",
    "\n",
    "# Melatih model ensemble voting\n",
    "ensemble_model.fit(X_train, y_train)\n",
    "\n",
    "# Menguji model ensemble voting\n",
    "y_pred_ensemble = ensemble_model.predict(X_test)\n",
    "accuracy_ensemble = accuracy_score(y_test, y_pred_ensemble)\n",
    "\n",
    "# Menampilkan akurasi model ensemble voting\n",
    "print(\"Akurasi Ensemble Voting: {:.2f}%\".format(accuracy_ensemble * 100))\n"
   ]
  },
  {
   "cell_type": "code",
   "execution_count": null,
   "metadata": {},
   "outputs": [],
   "source": []
  }
 ],
 "metadata": {
  "kernelspec": {
   "display_name": "base",
   "language": "python",
   "name": "python3"
  },
  "language_info": {
   "codemirror_mode": {
    "name": "ipython",
    "version": 3
   },
   "file_extension": ".py",
   "mimetype": "text/x-python",
   "name": "python",
   "nbconvert_exporter": "python",
   "pygments_lexer": "ipython3",
   "version": "3.11.4"
  }
 },
 "nbformat": 4,
 "nbformat_minor": 2
}
