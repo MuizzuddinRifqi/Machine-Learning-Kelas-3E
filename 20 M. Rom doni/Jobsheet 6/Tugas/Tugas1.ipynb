{
 "cells": [
  {
   "cell_type": "code",
   "execution_count": 2,
   "metadata": {},
   "outputs": [
    {
     "name": "stdout",
     "output_type": "stream",
     "text": [
      "Akurasi Decision Tree: 100.00%\n",
      "Akurasi RandomForest: 100.00%\n"
     ]
    }
   ],
   "source": [
    "import pandas as pd\n",
    "from sklearn.model_selection import train_test_split\n",
    "from sklearn.tree import DecisionTreeClassifier\n",
    "from sklearn.ensemble import RandomForestClassifier\n",
    "from sklearn.metrics import accuracy_score\n",
    "from sklearn.model_selection import GridSearchCV\n",
    "\n",
    "# Load the dataset (pastikan Anda memiliki file dataset mushroom)\n",
    "df = pd.read_csv('../data/mushrooms.csv')\n",
    "\n",
    "# Melakukan one-hot encoding pada fitur-fitur kategorikal\n",
    "df_encoded = pd.get_dummies(df, columns=df.drop(columns=['class']).columns)\n",
    "\n",
    "# Memisahkan fitur (X) dan label (y)\n",
    "X = df_encoded.drop(columns=['class'])\n",
    "y = df_encoded['class']\n",
    "\n",
    "# Membagi dataset menjadi data pelatihan dan data pengujian\n",
    "X_train, X_test, y_train, y_test = train_test_split(X, y, test_size=0.2, random_state=42)\n",
    "\n",
    "# Melatih model Decision Tree\n",
    "dt_model = DecisionTreeClassifier(random_state=42)\n",
    "\n",
    "# Hyperparameter tuning untuk Decision Tree\n",
    "dt_param_grid = {\n",
    "    'max_depth': [None, 10, 20, 30],\n",
    "    'min_samples_split': [2, 5, 10],\n",
    "    'min_samples_leaf': [1, 2, 4]\n",
    "}\n",
    "\n",
    "dt_grid_search = GridSearchCV(dt_model, param_grid=dt_param_grid, cv=5)\n",
    "dt_grid_search.fit(X_train, y_train)\n",
    "dt_best_model = dt_grid_search.best_estimator_\n",
    "\n",
    "# Melatih model RandomForest\n",
    "rf_model = RandomForestClassifier(random_state=42)\n",
    "\n",
    "# Hyperparameter tuning untuk RandomForest\n",
    "rf_param_grid = {\n",
    "    'n_estimators': [50, 100, 200],\n",
    "    'max_depth': [None, 10, 20, 30],\n",
    "    'min_samples_split': [2, 5, 10],\n",
    "    'min_samples_leaf': [1, 2, 4]\n",
    "}\n",
    "\n",
    "rf_grid_search = GridSearchCV(rf_model, param_grid=rf_param_grid, cv=5)\n",
    "rf_grid_search.fit(X_train, y_train)\n",
    "rf_best_model = rf_grid_search.best_estimator_\n",
    "\n",
    "# Menguji model Decision Tree\n",
    "y_pred_dt = dt_best_model.predict(X_test)\n",
    "accuracy_dt = accuracy_score(y_test, y_pred_dt)\n",
    "\n",
    "# Menguji model RandomForest\n",
    "y_pred_rf = rf_best_model.predict(X_test)\n",
    "accuracy_rf = accuracy_score(y_test, y_pred_rf)\n",
    "\n",
    "# Membandingkan akurasi kedua model\n",
    "print(\"Akurasi Decision Tree: {:.2f}%\".format(accuracy_dt * 100))\n",
    "print(\"Akurasi RandomForest: {:.2f}%\".format(accuracy_rf * 100))\n"
   ]
  }
 ],
 "metadata": {
  "kernelspec": {
   "display_name": "base",
   "language": "python",
   "name": "python3"
  },
  "language_info": {
   "codemirror_mode": {
    "name": "ipython",
    "version": 3
   },
   "file_extension": ".py",
   "mimetype": "text/x-python",
   "name": "python",
   "nbconvert_exporter": "python",
   "pygments_lexer": "ipython3",
   "version": "3.11.4"
  }
 },
 "nbformat": 4,
 "nbformat_minor": 2
}
