{
  "nbformat": 4,
  "nbformat_minor": 0,
  "metadata": {
    "colab": {
      "provenance": [],
      "gpuType": "T4"
    },
    "kernelspec": {
      "name": "python3",
      "display_name": "Python 3"
    },
    "language_info": {
      "name": "python"
    },
    "accelerator": "GPU"
  },
  "cells": [
    {
      "cell_type": "markdown",
      "source": [
        "**PRAKTIKUM 1**"
      ],
      "metadata": {
        "id": "22YKM98iB5xG"
      }
    },
    {
      "cell_type": "code",
      "execution_count": 1,
      "metadata": {
        "id": "AetpC5sQBu4a"
      },
      "outputs": [],
      "source": [
        "import numpy as np #Ini mengimpor pustaka NumPy dan memberinya alias np. NumPy adalah pustaka Python yang digunakan untuk bekerja dengan array multidimensi dan operasi matematika yang berkaitan.\n",
        "import tensorflow_datasets as tfds #  Ini mengimpor pustaka TensorFlow Datasets dan memberinya alias tfds. TensorFlow Datasets adalah pustaka yang menyediakan akses mudah ke berbagai dataset yang umum digunakan dalam machine learning dan pengembangan model deep learning.\n",
        "import tensorflow as tf # Ini mengimpor pustaka TensorFlow, yang merupakan pustaka utama untuk pengembangan model deep learning.\n",
        "\n",
        "tfds.disable_progress_bar() # Ini memanggil fungsi disable_progress_bar dari TensorFlow Datasets untuk mematikan bilah kemajuan ketika menggunakan dataset dari TensorFlow Datasets."
      ]
    },
    {
      "cell_type": "code",
      "source": [
        "import matplotlib.pyplot as plt # digunakan untuk membuat berbagai jenis plot dan visualisasi dalam Python.\n",
        "\n",
        "def plot_graphs(history, metric): #objek yang berisi data pelatihan model, dan metric adalah metrik yang ingin di plot (misalnya, loss atau akurasi).\n",
        "  plt.plot(history.history[metric]) #  Ini menggambar perubahan metrik selama pelatihan pada grafik.\n",
        "  plt.plot(history.history['val_'+metric], '') #  digunakan untuk memplot data metrik validasi. Metrik validasi disimpan dalam objek history dengan awalan 'val_'. Dengan demikian, ini menggambar perubahan metrik validasi yang sesuai dengan argumen metric pada grafik.\n",
        "  plt.xlabel(\"Epochs\") #  Baris ini memberi label sumbu x pada grafik sebagai \"Epochs,\" yang menunjukkan jumlah epoch atau iterasi pelatihan.\n",
        "  plt.ylabel(metric) # Ini memberi label sumbu y pada grafik berdasarkan metrik.\n",
        "  plt.legend([metric, 'val_'+metric]) # Ini menambahkan legenda ke grafik untuk membedakan dua garis yang mewakili metrik pelatihan dan metrik validasi. Legenda ini mencantumkan nama metrik yang sesuai."
      ],
      "metadata": {
        "id": "7ugGYLQbCIyw"
      },
      "execution_count": 2,
      "outputs": []
    },
    {
      "cell_type": "code",
      "source": [
        "dataset, info = tfds.load('imdb_reviews', with_info=True, #Kode ini memuat dataset \"imdb_reviews\" dari TensorFlow Datasets. with_info=True digunakan untuk mengambil informasi lengkap tentang dataset (seperti metadata), dan as_supervised=True mengambil dataset dalam bentuk pasangan data-label yang sesuai untuk tugas klasifikasi sentimen.\n",
        "                          as_supervised=True)\n",
        "train_dataset, test_dataset = dataset['train'], dataset['test']  #  Setelah memuat dataset, kode ini membaginya menjadi dua bagian: train_dataset (untuk pelatihan) dan test_dataset (untuk pengujian). Dataset IMDb Reviews terdiri dari dua bagian: data latih dan data uji.\n",
        "\n",
        "train_dataset.element_spec # Ini digunakan untuk menampilkan spesifikasi elemen (element_spec) dari dataset pelatihan. Hasilnya akan menunjukkan struktur elemen dataset, termasuk tipe data dan bentuknya. Dalam kasus ini, dataset ini berisi pasangan teks dan labelnya (teks ulasan film dan sentimen positif/negatif), sehingga element_spec akan mencakup dua komponen."
      ],
      "metadata": {
        "colab": {
          "base_uri": "https://localhost:8080/"
        },
        "id": "tQBxad6wDkTB",
        "outputId": "ecf01f7b-2678-4111-85fa-efc1b584b379"
      },
      "execution_count": 3,
      "outputs": [
        {
          "output_type": "execute_result",
          "data": {
            "text/plain": [
              "(TensorSpec(shape=(), dtype=tf.string, name=None),\n",
              " TensorSpec(shape=(), dtype=tf.int64, name=None))"
            ]
          },
          "metadata": {},
          "execution_count": 3
        }
      ]
    },
    {
      "cell_type": "code",
      "source": [
        "for example, label in train_dataset.take(1): # Kode ini menggunakan loop for untuk mengiterasi satu contoh dari dataset pelatihan (train_dataset) menggunakan metode take(1). Metode take(1) digunakan untuk mengambil satu elemen pertama dari dataset.\n",
        "  print('text: ', example.numpy()) #  Kode ini mencetak teks ulasan dari contoh tersebut. example adalah tensor yang berisi teks ulasan. Dengan menggunakan .numpy(), tensor tersebut diubah menjadi array NumPy dan dicetak.\n",
        "  print('label: ', label.numpy()) # Kode ini mencetak label yang sesuai dengan contoh tersebut. label adalah tensor yang berisi label sentimen (positif/negatif). Dengan menggunakan .numpy(), tensor tersebut diubah menjadi array NumPy dan dicetak."
      ],
      "metadata": {
        "id": "niSOHPKxEOXP",
        "outputId": "9453d3b3-5f6d-401e-c95b-a3a7738a60e0",
        "colab": {
          "base_uri": "https://localhost:8080/"
        }
      },
      "execution_count": 4,
      "outputs": [
        {
          "output_type": "stream",
          "name": "stdout",
          "text": [
            "text:  b\"This was an absolutely terrible movie. Don't be lured in by Christopher Walken or Michael Ironside. Both are great actors, but this must simply be their worst role in history. Even their great acting could not redeem this movie's ridiculous storyline. This movie is an early nineties US propaganda piece. The most pathetic scenes were those when the Columbian rebels were making their cases for revolutions. Maria Conchita Alonso appeared phony, and her pseudo-love affair with Walken was nothing but a pathetic emotional plug in a movie that was devoid of any real meaning. I am disappointed that there are movies like this, ruining actor's like Christopher Walken's good name. I could barely sit through it.\"\n",
            "label:  0\n"
          ]
        }
      ]
    },
    {
      "cell_type": "code",
      "source": [
        "BUFFER_SIZE = 10000 # Variabel ini menentukan ukuran buffer yang akan digunakan saat melakukan pengacakan pada dataset pelatihan sebelum pembuatan batch. Pengacakan berguna untuk memastikan bahwa data dipresentasikan ke dalam model secara acak selama pelatihan.\n",
        "BATCH_SIZE = 64 # Variabel ini menentukan ukuran batch yang akan digunakan dalam pelatihan. Model akan diperbarui setiap kali batch selesai diproses.\n",
        "\n",
        "train_dataset = train_dataset.shuffle(BUFFER_SIZE).batch(BATCH_SIZE).prefetch(tf.data.AUTOTUNE) #Ini adalah tahap pra-pemrosesan dataset pelatihan.\n",
        "test_dataset = test_dataset.batch(BATCH_SIZE).prefetch(tf.data.AUTOTUNE) # dataset pengujian, hanya dilakukan operasi pembuatan batch dan prefetching. Data pengujian juga dibagi menjadi batch-batch dengan ukuran yang sama, dan prefetching dioptimalkan.\n",
        "\n",
        "for example, label in train_dataset.take(1): # Ini digunakan untuk mengambil satu batch dari dataset pelatihan. Dalam kasus ini, hanya mengambil satu batch untuk tujuan demonstrasi.\n",
        "  print('texts: ', example.numpy()[:3]) #Kode ini mencetak tiga teks ulasan pertama dalam batch tersebut. example adalah tensor yang berisi teks ulasan, dan dengan .numpy(), mengonversinya menjadi array NumPy dan mencetak tiga teks ulasan pertama dari batch.\n",
        "  print() # Ini hanya menambahkan baris kosong untuk pemisah.\n",
        "  print('labels: ', label.numpy()[:3]) # Kode ini mencetak tiga label sentimen pertama dalam batch tersebut. label adalah tensor yang berisi label sentimen, dan dengan .numpy(), mengonversinya menjadi array NumPy dan mencetak tiga label pertama.\n"
      ],
      "metadata": {
        "colab": {
          "base_uri": "https://localhost:8080/"
        },
        "id": "pOob6Gi6H2as",
        "outputId": "3e8ce06c-74c6-47ad-b02a-e02d9b5ca325"
      },
      "execution_count": 5,
      "outputs": [
        {
          "output_type": "stream",
          "name": "stdout",
          "text": [
            "texts:  [b'If Todd Sheets were to come out and admit that this movie was intended to spoof the zombie genre, I would change my rating to an eight. Try to imagine a movie where every scene, line, and even every acting nuance was designed to be a parody. I could probably crap out alphabet soup, rearrange what was left of the letters, and still have a better script. Two scenes in particular come to mind when I think of this movie. SPOILER ALERT! One is when Mike\\'s dad and the other dad walk, I repeat walk down a staircase jam packed with zombies. This is a small staircase and even though they brush up against the flailing undead, nothing happens to them. When they reach the end, the ex-marine turns around, says \"God you\\'re a horny bastard\", and shoots only one. The other is in the military complex. The girl stabs a zombie with a machete and is immediately surrounded. The camera moves around her for roughly forty seconds, while she is surrounded by zombies at an arm\\'s length away. She then almost casually runs out from the crowd and joins the other humans. SPOILER ALERT OVER! These scenes must be seen to be believed. Still, I enjoy this movie as much as almost any comedy just because it\\'s so damn funny. Kudos to Todd Sheets for getting so many people in his movie and having the drive to make it but not really for anything else.'\n",
            " b'Since the title is in English and IMDb lists this show\\'s primary language as English, i shall concentrate on reviewing the English version of Gundam Wing(2000) as presented in the Bandai released DVD set. My actual review for the whole series is under IMDb\\'s entry of \"\"Shin kid\\xc3\\xb4 senki Gundam W\"(1995).<br /><br />Very little is changed in respect to plot, script and characterization its adaptation to English and it really depends on your own taste to choose which language to watch this show in. Purists can stick to Japanese all they want, but for a more \"realistic\" experience i recommend the English track since all the characters, except Heero Yuy, are not Japanese.(most of them are Caucasian in fact with a couple of non-Japanese Asians.) For one thing, the characters\\' personalities come across more \"directly\" than in the Japanese version. The contrast between the characters is stronger thanks to some give-or-take performances but a very well cast group of actors.<br /><br />Wing Gundam\\'s pilot Heero Yuy is a highly trained soldier who suppresses his emotions but slowly learns the value of his humanity. Voiced by Mark Hildreth who\\'s deadpan delivery can be criticized as \"bad acting\" but it matches Heero\\'s personality very well.<br /><br />Deathscythe Gundam\\'s Duo Maxwell, ever cheerful in the face of death is given a crash course in the cherishing the value of life and friends. He is possibly the best acted character in the whole show, masterfully played by Scott McNeil. He may sound a little too old for his age, but Duo\\'s English voice easily out ranks his irritatingly nasal Japanese one.<br /><br />Trowa, the pilot of Heavyarms, is a lost lonely soul who\\'s only purpose so far has been combat; despite his inner desire to form connections with the people around him, he only knows how to kill, not to befriend. Kirby Morrow gives a somber but realistic performance as Trowa Barton.<br /><br />Quatre Rebarba Winner is voiced by Brad Swaile who has no trouble brining out the caring nature of the character and the shattering of his innocence as he experiences horrors of war and death first hand. A huge plus point is that Quatre no longer sounds like a girl(and yes he is voiced by a female actress in the Japanese version) but a bona fide typical 15 year old guy.<br /><br />The impulsive but determined Wufei Chang voiced by Ted Cole may seem a little over-the-top but it plays out in stark contrast to the more subdued roles of Heero and Trowa.<br /><br />Relena Darlian sounds older in English, voiced by Lisa Ann Bailey. This might not sit well with her youthful personification early in the series but as her character matures later into the story, her voice follows suit and ends up fitting in very well with the character development.<br /><br />Zechs Merquise would be one of the more drastically changed voices when compared to the Japanese version. Both voices bring out different sides to the same character. His Japanese voice is haughty, authoritative and commands respect , keeping in line with his high ranking status and charismatic nature. His English voice by Brian Drummond is more subdued, sounding more devious and \"snake-like\", highlighting Zechs\\' secretive nature regarding his hidden agendas and staunch beliefs in his ideals.<br /><br />The members of OZ are a mixed bag really. Treize Kushrenada voiced by David Kaye is given a more realistic and down-to-earth performance compared to his larger-than-life Japanese style of speaking. However, Lady Une does not convey her split personality as contrastingly as in the Japanese version and Lucrencia Noin just sounds.........bored most of the time. The cannon fodder pilots and military leaders are nothing to speak of either.<br /><br />I would have appreciated if they took the time to give different characters different accents to reflect their ethnic backgrounds. The Maganac Corp\\'s voices were generally uninspired but could have been more interesting if they were given middle eastern accents. The members of the Romerfeller Foundation would have also sounded better with some classy European accent that reflects their status of nobility.<br /><br />Despite underwhelming acting from the side characters, the main cast manage to carry the show and it results in an overall less over-the-top and more realistic rendition of Gundam Wing\\'s script. Very faithful to the original Japanese script, keeping all the underlying thought provoking ideas and themes about politics, war and human nature. Sadly, it also retains the flaws of the original Japanese script.'\n",
            " b'Another review likened this troupe to a cross between Monty Python and Twin Peaks, also aptly. Yet another review expounded on the differences between the comedy we enjoy non-critically and black comedy, also well worth consideration.<br /><br />Watch the whole thing, all three series. At the end, all the characters are tied up and the puzzle pieces fall into place just as well as a Douglas Adams novel. The detail and intricacies are staggering. Thoroughly post-modern. Wickedly funny, and startlingly tragic. Not for kids. Not for those with thin skins or who lack objectivity. Thought-provoking. At once literal, figurative, and surreal in disturbing ways. The blackest comedy I can recall.<br /><br />And very possibly the most wonderful thing I will ever see.']\n",
            "\n",
            "labels:  [0 1 1]\n"
          ]
        }
      ]
    },
    {
      "cell_type": "code",
      "source": [
        "VOCAB_SIZE = 1000 # Variabel ini menentukan ukuran vocab (kosakata) yang akan digunakan oleh TextVectorization. 1000 Ini adalah ukuran maksimum kosakata yang akan digunakan untuk mengindeks kata-kata dari teks.\n",
        "encoder = tf.keras.layers.TextVectorization(max_tokens=VOCAB_SIZE) # membuat objek TextVectorization dengan menentukan max_tokens yang diatur ke VOCAB_SIZE. TextVectorization ini akan mengonversi teks menjadi representasi numerik.\n",
        "encoder.adapt(train_dataset.map(lambda text, label: text)) # Ini adalah tahap adaptasi TextVectorization terhadap dataset pelatihan. encoder diajar agar memahami dan membangun indeks kosakata berdasarkan teks yang ada dalam dataset pelatihan. Fungsi adapt digunakan untuk melakukan adaptasi dengan mengambil dataset pelatihan dan hanya mengambil teksnya."
      ],
      "metadata": {
        "id": "SX8CRXObH5L9"
      },
      "execution_count": 6,
      "outputs": []
    },
    {
      "cell_type": "code",
      "source": [
        "vocab = np.array(encoder.get_vocabulary()) # menggunakan metode get_vocabulary() dari objek encoder untuk mengambil kosakata yang telah dibangun selama tahap adaptasi. Kemudian, dengan np.array(), mengonversi daftar kosakata tersebut menjadi array NumPy.\n",
        "vocab[:20] # mencetak 20 kata pertama dalam kosakata. Dengan mengindeks array vocab menggunakan [:20]."
      ],
      "metadata": {
        "colab": {
          "base_uri": "https://localhost:8080/"
        },
        "id": "sUSZtmpeH_n0",
        "outputId": "de253d45-7e5f-46e6-fbf3-bfe0c089edbf"
      },
      "execution_count": 7,
      "outputs": [
        {
          "output_type": "execute_result",
          "data": {
            "text/plain": [
              "array(['', '[UNK]', 'the', 'and', 'a', 'of', 'to', 'is', 'in', 'it', 'i',\n",
              "       'this', 'that', 'br', 'was', 'as', 'for', 'with', 'movie', 'but'],\n",
              "      dtype='<U14')"
            ]
          },
          "metadata": {},
          "execution_count": 7
        }
      ]
    },
    {
      "cell_type": "code",
      "source": [
        "encoded_example = encoder(example)[:3].numpy() # mengambil tiga elemen pertama dari representasi angka yang dihasilkan oleh encoder untuk example. Proses ini dapat memetakan contoh teks menjadi daftar angka yang sesuai dengan kosakata yang telah dibangun. [:3] digunakan untuk memilih tiga elemen pertama dalam representasi ini.\n",
        "encoded_example # Variabel encoded_example berisi daftar angka yang merupakan hasil pengkodean tiga contoh pertama dari teks menggunakan encoder."
      ],
      "metadata": {
        "colab": {
          "base_uri": "https://localhost:8080/"
        },
        "id": "Kr73_W1pI4OU",
        "outputId": "98a6b36f-5a89-48f0-b80d-19e3e0f69df1"
      },
      "execution_count": 8,
      "outputs": [
        {
          "output_type": "execute_result",
          "data": {
            "text/plain": [
              "array([[ 45,   1,   1, ...,   0,   0,   0],\n",
              "       [231,   2, 422, ...,   0,   0,   0],\n",
              "       [154, 730,   1, ...,   0,   0,   0]])"
            ]
          },
          "metadata": {},
          "execution_count": 8
        }
      ]
    },
    {
      "cell_type": "code",
      "source": [
        "for n in range(3): # loop for yang akan berjalan tiga kali. Loop ini digunakan untuk mengambil tiga contoh teks pertama dari example dan melakukan operasi yang sama pada masing-masingnya.\n",
        "  print(\"Original: \", example[n].numpy()) # mencetak teks asli dari contoh teks. example[n] mengambil teks dari contoh yang sedang diproses, dan .numpy() digunakan untuk mengonversi tensor TensorFlow menjadi bentuk numpy yang dapat dicetak.\n",
        "  print(\"Round-trip: \", \" \".join(vocab[encoded_example[n]])) # mencetak hasil pemetaan balik dari teks yang telah di-enkoding. encoded_example[n] adalah hasil enkoding dari teks yang dipilih, kemudian menggunakan vocab untuk memetakan angka-angka enkoding ini ke kata-kata teks asli. join digunakan untuk menggabungkan kata-kata dalam sebuah string dengan spasi sebagai pemisah.\n",
        "  print() # digunakan untuk mencetak baris kosong antara setiap pasangan teks asli dan hasil pemetaan baliknya, sehingga hasilnya lebih mudah dibaca."
      ],
      "metadata": {
        "colab": {
          "base_uri": "https://localhost:8080/"
        },
        "id": "zTYnQdFXI82j",
        "outputId": "35b9b126-a8f8-4068-ff00-e4b31e2b55b6"
      },
      "execution_count": 9,
      "outputs": [
        {
          "output_type": "stream",
          "name": "stdout",
          "text": [
            "Original:  b'If Todd Sheets were to come out and admit that this movie was intended to spoof the zombie genre, I would change my rating to an eight. Try to imagine a movie where every scene, line, and even every acting nuance was designed to be a parody. I could probably crap out alphabet soup, rearrange what was left of the letters, and still have a better script. Two scenes in particular come to mind when I think of this movie. SPOILER ALERT! One is when Mike\\'s dad and the other dad walk, I repeat walk down a staircase jam packed with zombies. This is a small staircase and even though they brush up against the flailing undead, nothing happens to them. When they reach the end, the ex-marine turns around, says \"God you\\'re a horny bastard\", and shoots only one. The other is in the military complex. The girl stabs a zombie with a machete and is immediately surrounded. The camera moves around her for roughly forty seconds, while she is surrounded by zombies at an arm\\'s length away. She then almost casually runs out from the crowd and joins the other humans. SPOILER ALERT OVER! These scenes must be seen to be believed. Still, I enjoy this movie as much as almost any comedy just because it\\'s so damn funny. Kudos to Todd Sheets for getting so many people in his movie and having the drive to make it but not really for anything else.'\n",
            "Round-trip:  if [UNK] [UNK] were to come out and admit that this movie was [UNK] to [UNK] the zombie genre i would change my rating to an [UNK] try to imagine a movie where every scene line and even every acting [UNK] was [UNK] to be a [UNK] i could probably crap out [UNK] [UNK] [UNK] what was left of the [UNK] and still have a better script two scenes in particular come to mind when i think of this movie [UNK] [UNK] one is when [UNK] [UNK] and the other [UNK] [UNK] i [UNK] [UNK] down a [UNK] [UNK] [UNK] with [UNK] this is a small [UNK] and even though they [UNK] up against the [UNK] [UNK] nothing happens to them when they [UNK] the end the [UNK] turns around says god youre a [UNK] [UNK] and [UNK] only one the other is in the [UNK] [UNK] the girl [UNK] a zombie with a [UNK] and is [UNK] [UNK] the camera [UNK] around her for [UNK] [UNK] [UNK] while she is [UNK] by [UNK] at an [UNK] [UNK] away she then almost [UNK] [UNK] out from the [UNK] and [UNK] the other [UNK] [UNK] [UNK] over these scenes must be seen to be [UNK] still i enjoy this movie as much as almost any comedy just because its so [UNK] funny [UNK] to [UNK] [UNK] for getting so many people in his movie and having the [UNK] to make it but not really for anything else                                                                                                                                                                                                                                                                                                                                                                                                                                                                                                                                                                                                                                                                                                                                                                                         \n",
            "\n",
            "Original:  b'Since the title is in English and IMDb lists this show\\'s primary language as English, i shall concentrate on reviewing the English version of Gundam Wing(2000) as presented in the Bandai released DVD set. My actual review for the whole series is under IMDb\\'s entry of \"\"Shin kid\\xc3\\xb4 senki Gundam W\"(1995).<br /><br />Very little is changed in respect to plot, script and characterization its adaptation to English and it really depends on your own taste to choose which language to watch this show in. Purists can stick to Japanese all they want, but for a more \"realistic\" experience i recommend the English track since all the characters, except Heero Yuy, are not Japanese.(most of them are Caucasian in fact with a couple of non-Japanese Asians.) For one thing, the characters\\' personalities come across more \"directly\" than in the Japanese version. The contrast between the characters is stronger thanks to some give-or-take performances but a very well cast group of actors.<br /><br />Wing Gundam\\'s pilot Heero Yuy is a highly trained soldier who suppresses his emotions but slowly learns the value of his humanity. Voiced by Mark Hildreth who\\'s deadpan delivery can be criticized as \"bad acting\" but it matches Heero\\'s personality very well.<br /><br />Deathscythe Gundam\\'s Duo Maxwell, ever cheerful in the face of death is given a crash course in the cherishing the value of life and friends. He is possibly the best acted character in the whole show, masterfully played by Scott McNeil. He may sound a little too old for his age, but Duo\\'s English voice easily out ranks his irritatingly nasal Japanese one.<br /><br />Trowa, the pilot of Heavyarms, is a lost lonely soul who\\'s only purpose so far has been combat; despite his inner desire to form connections with the people around him, he only knows how to kill, not to befriend. Kirby Morrow gives a somber but realistic performance as Trowa Barton.<br /><br />Quatre Rebarba Winner is voiced by Brad Swaile who has no trouble brining out the caring nature of the character and the shattering of his innocence as he experiences horrors of war and death first hand. A huge plus point is that Quatre no longer sounds like a girl(and yes he is voiced by a female actress in the Japanese version) but a bona fide typical 15 year old guy.<br /><br />The impulsive but determined Wufei Chang voiced by Ted Cole may seem a little over-the-top but it plays out in stark contrast to the more subdued roles of Heero and Trowa.<br /><br />Relena Darlian sounds older in English, voiced by Lisa Ann Bailey. This might not sit well with her youthful personification early in the series but as her character matures later into the story, her voice follows suit and ends up fitting in very well with the character development.<br /><br />Zechs Merquise would be one of the more drastically changed voices when compared to the Japanese version. Both voices bring out different sides to the same character. His Japanese voice is haughty, authoritative and commands respect , keeping in line with his high ranking status and charismatic nature. His English voice by Brian Drummond is more subdued, sounding more devious and \"snake-like\", highlighting Zechs\\' secretive nature regarding his hidden agendas and staunch beliefs in his ideals.<br /><br />The members of OZ are a mixed bag really. Treize Kushrenada voiced by David Kaye is given a more realistic and down-to-earth performance compared to his larger-than-life Japanese style of speaking. However, Lady Une does not convey her split personality as contrastingly as in the Japanese version and Lucrencia Noin just sounds.........bored most of the time. The cannon fodder pilots and military leaders are nothing to speak of either.<br /><br />I would have appreciated if they took the time to give different characters different accents to reflect their ethnic backgrounds. The Maganac Corp\\'s voices were generally uninspired but could have been more interesting if they were given middle eastern accents. The members of the Romerfeller Foundation would have also sounded better with some classy European accent that reflects their status of nobility.<br /><br />Despite underwhelming acting from the side characters, the main cast manage to carry the show and it results in an overall less over-the-top and more realistic rendition of Gundam Wing\\'s script. Very faithful to the original Japanese script, keeping all the underlying thought provoking ideas and themes about politics, war and human nature. Sadly, it also retains the flaws of the original Japanese script.'\n",
            "Round-trip:  since the title is in english and imdb [UNK] this shows [UNK] [UNK] as english i [UNK] [UNK] on [UNK] the english version of [UNK] [UNK] as [UNK] in the [UNK] released dvd set my actual review for the whole series is under [UNK] [UNK] of [UNK] [UNK] [UNK] [UNK] [UNK] br very little is [UNK] in [UNK] to plot script and [UNK] its [UNK] to english and it really [UNK] on your own [UNK] to [UNK] which [UNK] to watch this show in [UNK] can [UNK] to japanese all they want but for a more realistic experience i recommend the english [UNK] since all the characters except [UNK] [UNK] are not [UNK] of them are [UNK] in fact with a couple of [UNK] [UNK] for one thing the characters [UNK] come across more [UNK] than in the japanese version the [UNK] between the characters is [UNK] [UNK] to some [UNK] performances but a very well cast group of [UNK] br [UNK] [UNK] [UNK] [UNK] [UNK] is a highly [UNK] [UNK] who [UNK] his [UNK] but [UNK] [UNK] the [UNK] of his [UNK] [UNK] by mark [UNK] whos [UNK] [UNK] can be [UNK] as bad acting but it [UNK] [UNK] [UNK] very [UNK] br [UNK] [UNK] [UNK] [UNK] ever [UNK] in the face of death is given a [UNK] course in the [UNK] the [UNK] of life and friends he is possibly the best [UNK] character in the whole show [UNK] played by [UNK] [UNK] he may sound a little too old for his age but [UNK] english voice easily out [UNK] his [UNK] [UNK] japanese [UNK] br [UNK] the [UNK] of [UNK] is a lost [UNK] [UNK] whos only [UNK] so far has been [UNK] despite his [UNK] [UNK] to form [UNK] with the people around him he only knows how to kill not to [UNK] [UNK] [UNK] gives a [UNK] but realistic performance as [UNK] [UNK] br [UNK] [UNK] [UNK] is [UNK] by [UNK] [UNK] who has no [UNK] [UNK] out the [UNK] nature of the character and the [UNK] of his [UNK] as he [UNK] [UNK] of war and death first hand a huge plus point is that [UNK] no [UNK] sounds like a [UNK] yes he is [UNK] by a female actress in the japanese version but a [UNK] [UNK] typical [UNK] year old [UNK] br the [UNK] but [UNK] [UNK] [UNK] [UNK] by [UNK] [UNK] may seem a little [UNK] but it plays out in [UNK] [UNK] to the more [UNK] roles of [UNK] and [UNK] br [UNK] [UNK] sounds older in english [UNK] by [UNK] [UNK] [UNK] this might not sit well with her [UNK] [UNK] early in the series but as her character [UNK] later into the story her voice [UNK] [UNK] and ends up [UNK] in very well with the character [UNK] br [UNK] [UNK] would be one of the more [UNK] [UNK] [UNK] when [UNK] to the japanese version both [UNK] bring out different [UNK] to the same character his japanese voice is [UNK] [UNK] and [UNK] [UNK] [UNK] in line with his high [UNK] [UNK] and [UNK] nature his english voice by [UNK] [UNK] is more [UNK] [UNK] more [UNK] and [UNK] [UNK] [UNK] [UNK] nature [UNK] his [UNK] [UNK] and [UNK] [UNK] in his [UNK] br the [UNK] of [UNK] are a [UNK] [UNK] really [UNK] [UNK] [UNK] by david [UNK] is given a more realistic and [UNK] performance [UNK] to his [UNK] japanese style of [UNK] however lady [UNK] does not [UNK] her [UNK] [UNK] as [UNK] as in the japanese version and [UNK] [UNK] just [UNK] most of the time the [UNK] [UNK] [UNK] and [UNK] [UNK] are nothing to [UNK] of [UNK] br i would have [UNK] if they took the time to give different characters different [UNK] to [UNK] their [UNK] [UNK] the [UNK] [UNK] [UNK] were [UNK] [UNK] but could have been more interesting if they were given middle [UNK] [UNK] the [UNK] of the [UNK] [UNK] would have also [UNK] better with some [UNK] [UNK] [UNK] that [UNK] their [UNK] of [UNK] br despite [UNK] acting from the side characters the main cast [UNK] to [UNK] the show and it [UNK] in an overall less [UNK] and more realistic [UNK] of [UNK] [UNK] script very [UNK] to the original japanese script [UNK] all the [UNK] thought [UNK] ideas and [UNK] about [UNK] war and human nature [UNK] it also [UNK] the [UNK] of the original japanese script                                                                                                                                                                                                                                                                       \n",
            "\n",
            "Original:  b'Another review likened this troupe to a cross between Monty Python and Twin Peaks, also aptly. Yet another review expounded on the differences between the comedy we enjoy non-critically and black comedy, also well worth consideration.<br /><br />Watch the whole thing, all three series. At the end, all the characters are tied up and the puzzle pieces fall into place just as well as a Douglas Adams novel. The detail and intricacies are staggering. Thoroughly post-modern. Wickedly funny, and startlingly tragic. Not for kids. Not for those with thin skins or who lack objectivity. Thought-provoking. At once literal, figurative, and surreal in disturbing ways. The blackest comedy I can recall.<br /><br />And very possibly the most wonderful thing I will ever see.'\n",
            "Round-trip:  another review [UNK] this [UNK] to a [UNK] between [UNK] [UNK] and [UNK] [UNK] also [UNK] yet another review [UNK] on the [UNK] between the comedy we enjoy [UNK] and black comedy also well worth [UNK] br watch the whole thing all three series at the end all the characters are [UNK] up and the [UNK] [UNK] fall into place just as well as a [UNK] [UNK] novel the [UNK] and [UNK] are [UNK] [UNK] [UNK] [UNK] funny and [UNK] [UNK] not for kids not for those with [UNK] [UNK] or who lack [UNK] [UNK] at once [UNK] [UNK] and [UNK] in [UNK] ways the [UNK] comedy i can [UNK] br and very possibly the most wonderful thing i will ever see                                                                                                                                                                                                                                                                                                                                                                                                                                                                                                                                                                                                                                                                                                                                                                                                                                                                                                                     \n",
            "\n"
          ]
        }
      ]
    },
    {
      "cell_type": "code",
      "source": [
        "model = tf.keras.Sequential([\n",
        "    encoder, # Ini adalah lapisan TextVectorization yang telah dijelaskan sebelumnya. Lapisan ini digunakan untuk mengubah teks menjadi urutan angka yang sesuai dengan kamus kata-kata yang telah diadaptasi.\n",
        "    tf.keras.layers.Embedding( # ini digunakan untuk mengonversi urutan angka yang dihasilkan oleh encoder menjadi vektor bertipe float. Itu berfungsi sebagai lapisan embedding yang memetakan kata-kata ke vektor dalam ruang fitur yang lebih rendah (dalam hal ini, 64 dimensi).\n",
        "        input_dim=len(encoder.get_vocabulary()),\n",
        "        output_dim=64,\n",
        "        # Use masking to handle the variable sequence lengths\n",
        "        mask_zero=True),\n",
        "    tf.keras.layers.Bidirectional(tf.keras.layers.LSTM(64)), #  Ini adalah lapisan rekursif (RNN) yang merupakan LSTM (Long Short-Term Memory) yang bidireksional. Lapisan ini dapat memproses urutan data dalam kedua arah, yang membantu dalam memahami konteks teks. Itu memiliki 64 unit LSTM.\n",
        "    tf.keras.layers.Dense(64, activation='relu'), # Ini adalah lapisan fully connected (dense) dengan 64 unit dan fungsi aktivasi ReLU (Rectified Linear Unit).\n",
        "    tf.keras.layers.Dense(1) # Ini adalah lapisan fully connected (dense) dengan satu unit. Ini merupakan lapisan keluaran yang menghasilkan skalar sebagai hasil.\n",
        "])"
      ],
      "metadata": {
        "id": "YhAxidULI_zk"
      },
      "execution_count": 10,
      "outputs": []
    },
    {
      "cell_type": "code",
      "source": [
        "print([layer.supports_masking for layer in model.layers]) # Kode tersebut digunakan untuk menampilkan apakah setiap lapisan (layer) dalam model untuk mendukung masking. Masking adalah teknik yang digunakan untuk mengatasi panjang sekuens variabel dalam data."
      ],
      "metadata": {
        "colab": {
          "base_uri": "https://localhost:8080/"
        },
        "id": "ahnim8_sJEli",
        "outputId": "ed8f977a-a160-4abd-f8f7-aa2099feb8b1"
      },
      "execution_count": 11,
      "outputs": [
        {
          "output_type": "stream",
          "name": "stdout",
          "text": [
            "[False, True, True, True, True]\n"
          ]
        }
      ]
    },
    {
      "cell_type": "code",
      "source": [
        "sample_text = ('The movie was cool. The animation and the graphics '\n",
        "               'were out of this world. I would recommend this movie.') #  Ini adalah teks yang akan digunakan sebagai input untuk model. Teks ini berisi beberapa kalimat yang menggambarkan pendapat seseorang tentang suatu film.\n",
        "predictions = model.predict(np.array([sample_text])) # Pada baris ini, memasukkan \"sample_text\" ke dalam model untuk melakukan prediksi sentimen. \"sample_text\" dibungkus dalam sebuah array numpy, karena model mengharapkan input dalam bentuk array. Hasil prediksi akan disimpan dalam variabel \"predictions\".\n",
        "print(predictions[0]) # Hasil prediksi dari model (kemungkinan sentimen positif) dicetak ke layar. Ini adalah hasil prediksi dalam bentuk angka, yang mewakili sejauh mana model percaya bahwa teks tersebut memiliki sentimen positif. Semakin tinggi nilai ini, semakin besar kepercayaan model terhadap sentimen positif."
      ],
      "metadata": {
        "colab": {
          "base_uri": "https://localhost:8080/"
        },
        "id": "fRoE35D2JFIx",
        "outputId": "b2ac9aee-5fa8-4cab-8e4c-cea3c49aabd3"
      },
      "execution_count": 12,
      "outputs": [
        {
          "output_type": "stream",
          "name": "stdout",
          "text": [
            "1/1 [==============================] - 13s 13s/step\n",
            "[0.01822097]\n"
          ]
        }
      ]
    },
    {
      "cell_type": "code",
      "source": [
        "padding = \"the \" * 2000\n",
        "predictions = model.predict(np.array([sample_text, padding]))\n",
        "print(predictions[0])\n",
        "\n",
        "#Kode program di atas digunakan untuk menguji model sentimen pada dua teks: \"sample_text\" dan \"padding\", di mana \"padding\" adalah teks yang sangat panjang. Teks \"sample_text\" adalah teks pendek yang awalnya digunakan untuk menguji model."
      ],
      "metadata": {
        "colab": {
          "base_uri": "https://localhost:8080/"
        },
        "id": "t02kSRsQJNwb",
        "outputId": "8ef96e41-4861-43a8-d7aa-0712e97a0d32"
      },
      "execution_count": 13,
      "outputs": [
        {
          "output_type": "stream",
          "name": "stdout",
          "text": [
            "1/1 [==============================] - 0s 60ms/step\n",
            "[0.01822097]\n"
          ]
        }
      ]
    },
    {
      "cell_type": "code",
      "source": [
        "model.compile(loss=tf.keras.losses.BinaryCrossentropy(from_logits=True), # Digunakan untuk mengukur sejauh mana hasil prediksi model mendekati hasil yang sebenarnya. Dalam hal ini, digunakan BinaryCrossentropy yang merupakan metrik yang cocok untuk tugas klasifikasi biner (dua kelas: positif dan negatif). from_logits=True mengindikasikan bahwa model akan menghasilkan keluaran dalam bentuk \"logit\" yang kemudian diubah menjadi probabilitas melalui fungsi sigmoid. Log loss dihitung antara probabilitas prediksi dan label sebenarnya.\n",
        "              optimizer=tf.keras.optimizers.Adam(1e-4), # Digunakan untuk mengatur bagaimana model diperbarui berdasarkan loss function. Dalam kasus ini, digunakan Adam optimizer dengan laju pembelajaran (learning rate) sebesar 1e-4. Optimizer ini akan mengoptimalkan parameter model agar loss function minimal.\n",
        "              metrics=['accuracy']) #Digunakan untuk mengukur kinerja model selama pelatihan dan evaluasi. Dalam kode ini, digunakan metrik akurasi (accuracy), yang akan memberikan informasi tentang sejauh mana model benar-benar mengklasifikasikan data dengan benar."
      ],
      "metadata": {
        "id": "3RrF6B3PJTUN"
      },
      "execution_count": 14,
      "outputs": []
    },
    {
      "cell_type": "code",
      "source": [
        "history = model.fit(train_dataset, epochs=10, # model.fit(): Metode ini digunakan untuk melatih model. Ini akan mengeksekusi beberapa epoch (iterasi) di atas data pelatihan untuk mengoptimalkan. train_dataset: parameter-model. Dalam kasus ini, dilakukan pelatihan selama 10 epoch. epochs=10: Ini mengatur jumlah epoch yang akan dijalankan selama pelatihan. Dalam hal ini, pelatihan akan dilakukan selama 10 epoch.\n",
        "                    validation_data=test_dataset, # Data validasi yang digunakan untuk mengevaluasi model selama pelatihan. Model akan dievaluasi pada data ini setiap akhir epoch untuk memantau kinerja model pada data yang tidak digunakan selama pelatihan.\n",
        "                    validation_steps=30) # umlah langkah yang akan dijalankan selama validasi. Dalam hal ini, model akan dievaluasi pada 30 batch dari data validasi. Jumlah langkah validasi ini dapat membantu dalam memantau kinerja model selama pelatihan tanpa harus mengevaluasi seluruh data validasi setiap epoch."
      ],
      "metadata": {
        "colab": {
          "base_uri": "https://localhost:8080/"
        },
        "id": "GRq3evEqKRHO",
        "outputId": "41fb32d9-6175-45a2-d1eb-fab7ad97e829"
      },
      "execution_count": 15,
      "outputs": [
        {
          "output_type": "stream",
          "name": "stdout",
          "text": [
            "Epoch 1/10\n",
            "391/391 [==============================] - 50s 100ms/step - loss: 0.6464 - accuracy: 0.5630 - val_loss: 0.5143 - val_accuracy: 0.6865\n",
            "Epoch 2/10\n",
            "391/391 [==============================] - 25s 63ms/step - loss: 0.4024 - accuracy: 0.8152 - val_loss: 0.3662 - val_accuracy: 0.8469\n",
            "Epoch 3/10\n",
            "391/391 [==============================] - 23s 57ms/step - loss: 0.3399 - accuracy: 0.8514 - val_loss: 0.3506 - val_accuracy: 0.8339\n",
            "Epoch 4/10\n",
            "391/391 [==============================] - 23s 58ms/step - loss: 0.3232 - accuracy: 0.8594 - val_loss: 0.3372 - val_accuracy: 0.8516\n",
            "Epoch 5/10\n",
            "391/391 [==============================] - 23s 59ms/step - loss: 0.3162 - accuracy: 0.8640 - val_loss: 0.3282 - val_accuracy: 0.8521\n",
            "Epoch 6/10\n",
            "391/391 [==============================] - 22s 56ms/step - loss: 0.3076 - accuracy: 0.8667 - val_loss: 0.3340 - val_accuracy: 0.8495\n",
            "Epoch 7/10\n",
            "391/391 [==============================] - 24s 60ms/step - loss: 0.3063 - accuracy: 0.8695 - val_loss: 0.3249 - val_accuracy: 0.8578\n",
            "Epoch 8/10\n",
            "391/391 [==============================] - 22s 56ms/step - loss: 0.3026 - accuracy: 0.8696 - val_loss: 0.3286 - val_accuracy: 0.8521\n",
            "Epoch 9/10\n",
            "391/391 [==============================] - 23s 59ms/step - loss: 0.3017 - accuracy: 0.8691 - val_loss: 0.3225 - val_accuracy: 0.8521\n",
            "Epoch 10/10\n",
            "391/391 [==============================] - 23s 59ms/step - loss: 0.2985 - accuracy: 0.8718 - val_loss: 0.3221 - val_accuracy: 0.8578\n"
          ]
        }
      ]
    },
    {
      "cell_type": "code",
      "source": [
        "test_loss, test_acc = model.evaluate(test_dataset) # digunakan untuk mengevaluasi model pada dataset tes yang diberikan. Evaluasi ini akan menghitung loss dan akurasi model pada dataset tes.\n",
        "#  kemudian nilai loss dari evaluasi tersebut disimpan dalam variabel test_loss, sedangkan nilai akurasi disimpan dalam variabel test_acc.\n",
        "print('Test Loss:', test_loss) # mencetak nilai loss dari evaluasi model pada dataset tes.\n",
        "print('Test Accuracy:', test_acc) # mencetak nilai akurasi dari evaluasi model pada dataset tes."
      ],
      "metadata": {
        "colab": {
          "base_uri": "https://localhost:8080/"
        },
        "id": "2ktktiKYkG4c",
        "outputId": "d06180e1-e1a3-4f88-9841-dab7a4aa4093"
      },
      "execution_count": 16,
      "outputs": [
        {
          "output_type": "stream",
          "name": "stdout",
          "text": [
            "391/391 [==============================] - 11s 28ms/step - loss: 0.3156 - accuracy: 0.8611\n",
            "Test Loss: 0.31563234329223633\n",
            "Test Accuracy: 0.8610799908638\n"
          ]
        }
      ]
    },
    {
      "cell_type": "code",
      "source": [
        "sample_text = ('The movie was not good. The animation and the graphics '\n",
        "'were terrible. I would not recommend this movie.')\n",
        "predictions = model.predict(np.array([sample_text])) # melakukan prediksi pada contoh teks tersebut. Metode predict menerima input berupa array, sehingga kita perlu mengubah contoh teks menjadi array menggunakan np.array([sample_text]).\n",
        "print(predictions) # mencetak hasil prediksi tersebut."
      ],
      "metadata": {
        "colab": {
          "base_uri": "https://localhost:8080/"
        },
        "id": "qDb82PN0_D_M",
        "outputId": "c0fb7f46-6aa0-4ab5-97a0-d1a444aadd2a"
      },
      "execution_count": 17,
      "outputs": [
        {
          "output_type": "stream",
          "name": "stdout",
          "text": [
            "1/1 [==============================] - 2s 2s/step\n",
            "[[-1.3238065]]\n"
          ]
        }
      ]
    },
    {
      "cell_type": "code",
      "source": [
        "plt.figure(figsize=(16, 6)) # membuat sebuah figure dengan ukuran 16x6 untuk menampung kedua subplot.\n",
        "plt.subplot(1, 2, 1) #  membuat subplot pertama dengan konfigurasi (1 row, 2 kolom) dan mengatur fokus pada subplot pertama.\n",
        "plot_graphs(history, 'accuracy') # memanggil fungsi plot_graphs dengan parameter history yang merupakan objek yang berisi informasi akurasi dari pelatihan model. Fungsi ini akan menggambar grafik akurasi dari pelatihan model pada subplot pertama.\n",
        "plt.subplot(1, 2, 2) # membuat subplot kedua dengan konfigurasi yang sama seperti sebelumnya dan mengatur fokus pada subplot kedua.\n",
        "plot_graphs(history, 'loss') # memanggil fungsi plot_graphs dengan parameter history yang merupakan objek yang berisi informasi loss dari pelatihan model. Fungsi ini akan menggambar grafik loss dari pelatihan model pada subplot kedua."
      ],
      "metadata": {
        "colab": {
          "base_uri": "https://localhost:8080/",
          "height": 478
        },
        "id": "CcNHMCKn_Raj",
        "outputId": "2a0fb2c0-95d2-4d26-b03f-f7642133e96b"
      },
      "execution_count": 18,
      "outputs": [
        {
          "output_type": "display_data",
          "data": {
            "text/plain": [
              "<Figure size 1600x600 with 2 Axes>"
            ],
            "image/png": "[encoded data removed]"
          },
          "metadata": {}
        }
      ]
    },
    {
      "cell_type": "markdown",
      "source": [
        "**PRAKTIKUM 2**"
      ],
      "metadata": {
        "id": "gA9fYi2hsj-h"
      }
    },
    {
      "cell_type": "code",
      "source": [
        "import tensorflow as tf\n",
        "import numpy as np\n",
        "import os\n",
        "import time"
      ],
      "metadata": {
        "id": "ZhjwFro4smrZ"
      },
      "execution_count": 19,
      "outputs": []
    },
    {
      "cell_type": "code",
      "source": [
        "path_to_file = tf.keras.utils.get_file('shakespeare.txt', 'https://storage.googleapis.com/download.tensorflow.org/data/shakespeare.txt')\n",
        "# Fungsi get_file dari TensorFlow.keras.utils digunakan untuk mengunduh file dari URL dan menyimpannya di lokasi yang diberikan. Dalam hal ini, kita menyimpan file dengan nama 'shakespeare.txt' dari URL 'https://storage.googleapis.com/download.tensorflow.org/data/shakespeare.txt'. Fungsi ini juga mengembalikan path lokasi lokal tempat file disimpan."
      ],
      "metadata": {
        "colab": {
          "base_uri": "https://localhost:8080/"
        },
        "id": "0HK3Mw_Ms3ra",
        "outputId": "d82a931f-a259-476e-8276-ecbaeddbd62e"
      },
      "execution_count": 20,
      "outputs": [
        {
          "output_type": "stream",
          "name": "stdout",
          "text": [
            "Downloading data from https://storage.googleapis.com/download.tensorflow.org/data/shakespeare.txt\n",
            "1115394/1115394 [==============================] - 0s 0us/step\n"
          ]
        }
      ]
    },
    {
      "cell_type": "code",
      "source": [
        "# Read, then decode for py2 compat.\n",
        "text = open(path_to_file, 'rb').read().decode(encoding='utf-8')\n",
        "# length of text is the number of characters in it\n",
        "print(f'Length of text: {len(text)} characters')\n",
        "\n",
        "#Kode ini membuka dan membaca file yang ditentukan, kemudian mengonversi isinya menjadi teks dengan pengkodean utf-8. Panjang teks (dalam karakter) kemudian dicetak.\n",
        "#Hal ini berguna untuk mengetahui seberapa besar dataset teks yang akan digunakan."
      ],
      "metadata": {
        "colab": {
          "base_uri": "https://localhost:8080/"
        },
        "id": "wm5d0wUetWyx",
        "outputId": "70d746af-59ee-47b8-9cc9-9656a488b78c"
      },
      "execution_count": 21,
      "outputs": [
        {
          "output_type": "stream",
          "name": "stdout",
          "text": [
            "Length of text: 1115394 characters\n"
          ]
        }
      ]
    },
    {
      "cell_type": "code",
      "source": [
        "# Take a look at the first 250 characters in text\n",
        "print(text[:250])"
      ],
      "metadata": {
        "colab": {
          "base_uri": "https://localhost:8080/"
        },
        "id": "41V0n2AvtY1x",
        "outputId": "b9a719fe-48c2-4388-95cd-de22b618f8f3"
      },
      "execution_count": 22,
      "outputs": [
        {
          "output_type": "stream",
          "name": "stdout",
          "text": [
            "First Citizen:\n",
            "Before we proceed any further, hear me speak.\n",
            "\n",
            "All:\n",
            "Speak, speak.\n",
            "\n",
            "First Citizen:\n",
            "You are all resolved rather to die than to famish?\n",
            "\n",
            "All:\n",
            "Resolved. resolved.\n",
            "\n",
            "First Citizen:\n",
            "First, you know Caius Marcius is chief enemy to the people.\n",
            "\n"
          ]
        }
      ]
    },
    {
      "cell_type": "code",
      "source": [
        "# The unique characters in the file\n",
        "vocab = sorted(set(text))\n",
        "print(f'{len(vocab)} unique characters')\n",
        "\n",
        "#Kode ini menghitung dan mencetak jumlah karakter unik dalam teks. Ini memberikan informasi tentang variasi karakter yang digunakan dalam teks tersebut.\n",
        "#Semakin banyak karakter unik, semakin kompleks teksnya."
      ],
      "metadata": {
        "colab": {
          "base_uri": "https://localhost:8080/"
        },
        "id": "HSycxoSKtfgi",
        "outputId": "29c45aa4-659a-4a78-f504-3589608ae1f5"
      },
      "execution_count": 23,
      "outputs": [
        {
          "output_type": "stream",
          "name": "stdout",
          "text": [
            "65 unique characters\n"
          ]
        }
      ]
    },
    {
      "cell_type": "code",
      "source": [
        "# Print unique characters\n",
        "for char in vocab:\n",
        "    print(char, end=' ')\n",
        "#Kode ini melakukan loop melalui setiap karakter unik dalam teks dan mencetaknya secara berurutan dalam satu baris\n"
      ],
      "metadata": {
        "colab": {
          "base_uri": "https://localhost:8080/"
        },
        "id": "vkI3pLe_t0MZ",
        "outputId": "c080875c-0f5b-4adf-ed6a-c8f743f5f440"
      },
      "execution_count": 24,
      "outputs": [
        {
          "output_type": "stream",
          "name": "stdout",
          "text": [
            "\n",
            "   ! $ & ' , - . 3 : ; ? A B C D E F G H I J K L M N O P Q R S T U V W X Y Z a b c d e f g h i j k l m n o p q r s t u v w x y z "
          ]
        }
      ]
    },
    {
      "cell_type": "code",
      "source": [
        "example_texts=['abcdefg','xyz']\n",
        "chars=tf.strings.unicode_split(example_texts,input_encoding='UTF-8')\n",
        "chars #Menghasilkan output dari operasi sebelumnya, yaitu kumpulan karakter Unicode yang telah dipecah.\n"
      ],
      "metadata": {
        "colab": {
          "base_uri": "https://localhost:8080/"
        },
        "id": "FUp1LRXCuNH5",
        "outputId": "85d4415d-0fef-4178-bd5d-1d81689604f9"
      },
      "execution_count": 25,
      "outputs": [
        {
          "output_type": "execute_result",
          "data": {
            "text/plain": [
              "<tf.RaggedTensor [[b'a', b'b', b'c', b'd', b'e', b'f', b'g'], [b'x', b'y', b'z']]>"
            ]
          },
          "metadata": {},
          "execution_count": 25
        }
      ]
    },
    {
      "cell_type": "code",
      "source": [
        "ids_from_chars=tf.keras.layers.StringLookup(vocabulary=list(vocab),mask_token=None)\n",
        "#Kode ini mendefinisikan lapisan StringLookup yang akan mengonversi karakter-karakter dalam teks menjadi ID numerik berdasarkan kamus karakter unik yang telah ditentukan sebelumnya\n"
      ],
      "metadata": {
        "id": "O9KoLLj_uXEp"
      },
      "execution_count": 26,
      "outputs": []
    },
    {
      "cell_type": "code",
      "source": [
        "ids=ids_from_chars(chars)\n",
        "ids #Kode ini mengonversi karakter-karakter Unicode menjadi ID numerik menggunakan lapisan StringLookup dan menyimpan hasilnya dalam variabel ids.\n"
      ],
      "metadata": {
        "colab": {
          "base_uri": "https://localhost:8080/"
        },
        "id": "rYomj3zWuXhp",
        "outputId": "2138bdd2-22d4-4642-da7f-b369e569df25"
      },
      "execution_count": 27,
      "outputs": [
        {
          "output_type": "execute_result",
          "data": {
            "text/plain": [
              "<tf.RaggedTensor [[40, 41, 42, 43, 44, 45, 46], [63, 64, 65]]>"
            ]
          },
          "metadata": {},
          "execution_count": 27
        }
      ]
    },
    {
      "cell_type": "code",
      "source": [
        "chars_from_ids = tf.keras.layers.StringLookup(vocabulary=ids_from_chars.get_vocabulary(), invert=True, mask_token=None)\n",
        "#Kode ini membuat lapisan StringLookup baru yang akan digunakan untuk mengonversi ID numerik kembali ke karakter aslinya"
      ],
      "metadata": {
        "id": "ac_QEWyhubTE"
      },
      "execution_count": 28,
      "outputs": []
    },
    {
      "cell_type": "code",
      "source": [
        "chars=chars_from_ids(ids) # menginisialisasi variabel chars dengan nilai yang dikembalikan oleh pemanggilan fungsi chars_from_ids() dengan argumen ids. Fungsi ini tampaknya merupakan suatu fungsi yang mengkonversi id-id karakter menjadi karakter-karakter yang sesuai.\n",
        "chars # mencetak nilai dari variabel chars. Jadi, setelah fungsi chars_from_ids() dieksekusi dan nilai dikembalikan, karakter-karakter yang dikonversi akan ditampilkan di sini."
      ],
      "metadata": {
        "colab": {
          "base_uri": "https://localhost:8080/"
        },
        "id": "M0Eu5VvIugWX",
        "outputId": "3c520268-d585-4079-a1df-0873911003b3"
      },
      "execution_count": 31,
      "outputs": [
        {
          "output_type": "execute_result",
          "data": {
            "text/plain": [
              "<tf.RaggedTensor [[b'a', b'b', b'c', b'd', b'e', b'f', b'g'], [b'x', b'y', b'z']]>"
            ]
          },
          "metadata": {},
          "execution_count": 31
        }
      ]
    },
    {
      "cell_type": "code",
      "source": [
        "tf.strings.reduce_join(chars,axis=-1).numpy()\n",
        "#Kode ini menggabungkan karakter-karakter Unicode dalam chars untuk membentuk string tunggal, dan kemudian mengonversi hasilnya menjadi array NumPy."
      ],
      "metadata": {
        "colab": {
          "base_uri": "https://localhost:8080/"
        },
        "id": "IZXkDc5hujh6",
        "outputId": "d5386561-3a9a-4530-ffb4-c3b872354935"
      },
      "execution_count": 32,
      "outputs": [
        {
          "output_type": "execute_result",
          "data": {
            "text/plain": [
              "array([b'abcdefg', b'xyz'], dtype=object)"
            ]
          },
          "metadata": {},
          "execution_count": 32
        }
      ]
    },
    {
      "cell_type": "code",
      "source": [
        "def text_from_ids(ids):\n",
        "    return tf.strings.reduce_join(chars_from_ids(ids), axis=-1) #mengonversi ID numerik kembali menjadi karakter, kemudian menggabungkannya menjadi sebuah string menggunakan operasi reduce join."
      ],
      "metadata": {
        "id": "hCktw5mxulku"
      },
      "execution_count": 33,
      "outputs": []
    },
    {
      "cell_type": "code",
      "source": [
        "all_ids = ids_from_chars(tf.strings.unicode_split(text, 'UTF-8'))\n",
        "all_ids\n",
        "# ids_from_chars() fungsi untul ambil tensor yang berisi kode unicode\n",
        "# tf.strings.unicode_split(text, 'UTF-8') untuk bagi string 'text' jadi unicode dg UTF-8"
      ],
      "metadata": {
        "colab": {
          "base_uri": "https://localhost:8080/"
        },
        "id": "K8zJFGRjun1a",
        "outputId": "a94e4321-6e05-4297-fc07-3ff9ed33c2c1"
      },
      "execution_count": 34,
      "outputs": [
        {
          "output_type": "execute_result",
          "data": {
            "text/plain": [
              "<tf.Tensor: shape=(1115394,), dtype=int64, numpy=array([19, 48, 57, ..., 46,  9,  1])>"
            ]
          },
          "metadata": {},
          "execution_count": 34
        }
      ]
    },
    {
      "cell_type": "code",
      "source": [
        "ids_dataset = tf.data.Dataset.from_tensor_slices(all_ids)\n",
        "#buat dataset dari all_ids"
      ],
      "metadata": {
        "id": "E5HdYnVWuqky"
      },
      "execution_count": 35,
      "outputs": []
    },
    {
      "cell_type": "code",
      "source": [
        "for ids in ids_dataset.take(10): #loop untuk ambil 10 elemen pertama dataset ids_dataset\n",
        "    print(chars_from_ids(ids).numpy().decode('utf-8')) #ambil elemen ids, terus konversi jadi karakter pake fungsi chars_from_ids(ids), setelah itu konversi karakter lagi jadi string pake numpy().decode('utf-8')"
      ],
      "metadata": {
        "colab": {
          "base_uri": "https://localhost:8080/"
        },
        "id": "GCX-Bf8ZusNB",
        "outputId": "4d5779c9-b38c-4081-d2f5-f535a47861ad"
      },
      "execution_count": 36,
      "outputs": [
        {
          "output_type": "stream",
          "name": "stdout",
          "text": [
            "F\n",
            "i\n",
            "r\n",
            "s\n",
            "t\n",
            " \n",
            "C\n",
            "i\n",
            "t\n",
            "i\n"
          ]
        }
      ]
    },
    {
      "cell_type": "code",
      "source": [
        "seq_length = 100\n",
        "# nilai 100 diberikan kepada variabel seq_length. Variabel ini kemungkinan digunakan untuk menentukan panjang dari urutan dalam salah satu bagian dari kode."
      ],
      "metadata": {
        "id": "kRLLeRgbuupe"
      },
      "execution_count": 37,
      "outputs": []
    },
    {
      "cell_type": "code",
      "source": [
        "sequences = ids_dataset.batch(seq_length+1, drop_remainder=True)\n",
        "#gabungi ID jadi sekuens dengan panjang 101,\n",
        "#drop_remainder=True mengindikasikan bahwa jika panjang ID tidak habis dibagi oleh seq_length + 1, maka elemen yang tersisa akan dihapus\n",
        "for seq in sequences.take(1): #ambil satu sekuenes /batch\n",
        "  print(chars_from_ids(seq)) #cetak karakter"
      ],
      "metadata": {
        "colab": {
          "base_uri": "https://localhost:8080/"
        },
        "id": "2ZRiE-v_uxcF",
        "outputId": "9d8d241e-1d3a-40fe-fd74-8e6fdff75bdf"
      },
      "execution_count": 38,
      "outputs": [
        {
          "output_type": "stream",
          "name": "stdout",
          "text": [
            "tf.Tensor(\n",
            "[b'F' b'i' b'r' b's' b't' b' ' b'C' b'i' b't' b'i' b'z' b'e' b'n' b':'\n",
            " b'\\n' b'B' b'e' b'f' b'o' b'r' b'e' b' ' b'w' b'e' b' ' b'p' b'r' b'o'\n",
            " b'c' b'e' b'e' b'd' b' ' b'a' b'n' b'y' b' ' b'f' b'u' b'r' b't' b'h'\n",
            " b'e' b'r' b',' b' ' b'h' b'e' b'a' b'r' b' ' b'm' b'e' b' ' b's' b'p'\n",
            " b'e' b'a' b'k' b'.' b'\\n' b'\\n' b'A' b'l' b'l' b':' b'\\n' b'S' b'p' b'e'\n",
            " b'a' b'k' b',' b' ' b's' b'p' b'e' b'a' b'k' b'.' b'\\n' b'\\n' b'F' b'i'\n",
            " b'r' b's' b't' b' ' b'C' b'i' b't' b'i' b'z' b'e' b'n' b':' b'\\n' b'Y'\n",
            " b'o' b'u' b' '], shape=(101,), dtype=string)\n"
          ]
        }
      ]
    },
    {
      "cell_type": "code",
      "source": [
        "for seq in sequences.take(5): #ambil 5 sekuens pertama\n",
        "    print(text_from_ids(seq).numpy()) #cetak teks yang mana diambil sekuens ID dulu terus dikeonversi jadi teks"
      ],
      "metadata": {
        "colab": {
          "base_uri": "https://localhost:8080/"
        },
        "id": "CxyKH_-su1tt",
        "outputId": "e0c92485-541d-4676-effe-12bc24bbe0f3"
      },
      "execution_count": 39,
      "outputs": [
        {
          "output_type": "stream",
          "name": "stdout",
          "text": [
            "b'First Citizen:\\nBefore we proceed any further, hear me speak.\\n\\nAll:\\nSpeak, speak.\\n\\nFirst Citizen:\\nYou '\n",
            "b'are all resolved rather to die than to famish?\\n\\nAll:\\nResolved. resolved.\\n\\nFirst Citizen:\\nFirst, you k'\n",
            "b\"now Caius Marcius is chief enemy to the people.\\n\\nAll:\\nWe know't, we know't.\\n\\nFirst Citizen:\\nLet us ki\"\n",
            "b\"ll him, and we'll have corn at our own price.\\nIs't a verdict?\\n\\nAll:\\nNo more talking on't; let it be d\"\n",
            "b'one: away, away!\\n\\nSecond Citizen:\\nOne word, good citizens.\\n\\nFirst Citizen:\\nWe are accounted poor citi'\n"
          ]
        }
      ]
    },
    {
      "cell_type": "code",
      "source": [
        "def split_input_target(sequence):\n",
        "  input_text = sequence[:-1] #ambil semua elemen kecuali elemen terakhir dai sekuens\n",
        "  target_text = sequence[1:] #ambil semua elmeen kecuali elemen pertama dari sekuens\n",
        "  return input_text, target_text #mengembalikan nilai"
      ],
      "metadata": {
        "id": "8moNtqJku5ht"
      },
      "execution_count": 40,
      "outputs": []
    },
    {
      "cell_type": "code",
      "source": [
        "split_input_target(list(\"Tensorflow\")) #bagi sequence jadi 2, input (Tensorflo) dan target (ensorflow)"
      ],
      "metadata": {
        "colab": {
          "base_uri": "https://localhost:8080/"
        },
        "id": "p784PjP5u9it",
        "outputId": "76d8cc4f-46c8-4286-dea1-13ce1c86a17e"
      },
      "execution_count": 41,
      "outputs": [
        {
          "output_type": "execute_result",
          "data": {
            "text/plain": [
              "(['T', 'e', 'n', 's', 'o', 'r', 'f', 'l', 'o'],\n",
              " ['e', 'n', 's', 'o', 'r', 'f', 'l', 'o', 'w'])"
            ]
          },
          "metadata": {},
          "execution_count": 41
        }
      ]
    },
    {
      "cell_type": "code",
      "source": [
        "dataset = sequences.map(split_input_target) #mapping sekuens dalam dataset ke pasangan input dan target"
      ],
      "metadata": {
        "id": "4uJOT3c_vACl"
      },
      "execution_count": 42,
      "outputs": []
    },
    {
      "cell_type": "code",
      "source": [
        "for input_example, target_example in dataset.take(1):\n",
        "  print(\"Input :\", text_from_ids(input_example).numpy()) #cetak label input, text_from_ids(input_example) mengonversi input_example, yang berisi sekuens ID, kembali menjadi teks, dan .numpy() mengubah hasilnya menjadi string yang dapat dicetak.\n",
        "  print(\"Target:\", text_from_ids(target_example).numpy())#cetak label target, text_from_ids(target_example) mengonversi target_example, yang berisi sekuens ID target, kembali menjadi teks, dan .numpy() mengubah hasilnya menjadi string yang dapat dicetak.\n"
      ],
      "metadata": {
        "colab": {
          "base_uri": "https://localhost:8080/"
        },
        "id": "dyJlvQ0JvBs_",
        "outputId": "c452cfda-655a-48cd-cdab-be821f0affb4"
      },
      "execution_count": 43,
      "outputs": [
        {
          "output_type": "stream",
          "name": "stdout",
          "text": [
            "Input : b'First Citizen:\\nBefore we proceed any further, hear me speak.\\n\\nAll:\\nSpeak, speak.\\n\\nFirst Citizen:\\nYou'\n",
            "Target: b'irst Citizen:\\nBefore we proceed any further, hear me speak.\\n\\nAll:\\nSpeak, speak.\\n\\nFirst Citizen:\\nYou '\n"
          ]
        }
      ]
    },
    {
      "cell_type": "code",
      "source": [
        "# Batch size\n",
        "BATCH_SIZE = 64\n",
        "\n",
        "# Buffer size to shuffle the dataset\n",
        "# (TF data is designed to work with possibly infinite sequences,\n",
        "# so it doesn't attempt to shuffle the entire sequence in memory. Instead,\n",
        "# it maintains a buffer in which it shuffles elements).\n",
        "BUFFER_SIZE = 10000\n",
        "\n",
        "dataset = (\n",
        "    dataset\n",
        "    .shuffle(BUFFER_SIZE) #acak elemen\n",
        "    .batch(BATCH_SIZE, drop_remainder=True) #mengelompokkan elemen dataset menjadi batch\n",
        "    .prefetch(tf.data.experimental.AUTOTUNE))#mengoptimalkan proses memuat data\n",
        "\n",
        "dataset"
      ],
      "metadata": {
        "colab": {
          "base_uri": "https://localhost:8080/"
        },
        "id": "XFp6fX2mvHtU",
        "outputId": "bde729ef-c211-4075-a704-f615c0ebaa50"
      },
      "execution_count": 44,
      "outputs": [
        {
          "output_type": "execute_result",
          "data": {
            "text/plain": [
              "<_PrefetchDataset element_spec=(TensorSpec(shape=(64, 100), dtype=tf.int64, name=None), TensorSpec(shape=(64, 100), dtype=tf.int64, name=None))>"
            ]
          },
          "metadata": {},
          "execution_count": 44
        }
      ]
    },
    {
      "cell_type": "code",
      "source": [
        "# Length of the vocabulary in StringLookup Layer\n",
        "vocab_size = len(ids_from_chars.get_vocabulary())\n",
        "\n",
        "# The embedding dimension\n",
        "embedding_dim = 256 #jumlah embedding untuk represntasi vektor karakter\n",
        "\n",
        "# Number of RNN units\n",
        "rnn_units = 1024 #jumlah unit dalam RNN"
      ],
      "metadata": {
        "id": "A6VbQrQIve4K"
      },
      "execution_count": 45,
      "outputs": []
    },
    {
      "cell_type": "code",
      "source": [
        "class MyModel(tf.keras.Model):\n",
        "  def __init__(self, vocab_size, embedding_dim, rnn_units):\n",
        "    super().__init__(self)\n",
        "    self.embedding = tf.keras.layers.Embedding(vocab_size, embedding_dim)\n",
        "    self.gru = tf.keras.layers.GRU(rnn_units,\n",
        "                                   return_sequences=True,\n",
        "                                   return_state=True)\n",
        "    self.dense = tf.keras.layers.Dense(vocab_size)\n",
        "\n",
        "  def call(self, inputs, states=None, return_state=False, training=False):\n",
        "    x = inputs\n",
        "    x = self.embedding(x, training=training)\n",
        "    if states is None:\n",
        "      states = self.gru.get_initial_state(x)\n",
        "    x, states = self.gru(x, initial_state=states, training=training)\n",
        "    x = self.dense(x, training=training)\n",
        "\n",
        "    if return_state:\n",
        "      return x, states #mengembalikan urutan karakter yang diprediksi serta status terakhir RNN.\n",
        "    else:\n",
        "      return x #hanya akan mengembalikan urutan karakter yang diprediksi"
      ],
      "metadata": {
        "id": "xVhYS3Cdvfe5"
      },
      "execution_count": 46,
      "outputs": []
    },
    {
      "cell_type": "code",
      "source": [
        "model = MyModel(\n",
        "    vocab_size=vocab_size, #menentukan seberapa banyak karakter yang ada dalam vokabulari yang digunakan oleh model\n",
        "    embedding_dim=embedding_dim,\n",
        "    rnn_units=rnn_units)"
      ],
      "metadata": {
        "id": "Z03W-6vHvQ81"
      },
      "execution_count": 47,
      "outputs": []
    },
    {
      "cell_type": "code",
      "source": [
        "for input_example_batch, target_example_batch in dataset.take(1):\n",
        "    example_batch_predictions = model(input_example_batch) #membuat prediksi dengan memberikan input_example_batch sebagai input. Hasilnya adalah example_batch_predictions, yang akan berisi prediksi model\n",
        "    print(example_batch_predictions.shape, \"# (batch_size, sequence_length, vocab_size)\")"
      ],
      "metadata": {
        "colab": {
          "base_uri": "https://localhost:8080/"
        },
        "id": "p9-PTqK2vqHQ",
        "outputId": "9f62790e-995c-49ad-cf1d-253f083986aa"
      },
      "execution_count": 48,
      "outputs": [
        {
          "output_type": "stream",
          "name": "stdout",
          "text": [
            "(64, 100, 66) # (batch_size, sequence_length, vocab_size)\n"
          ]
        }
      ]
    },
    {
      "cell_type": "code",
      "source": [
        "model.summary() #cetak ringkasan (summary) dari model TensorFlow."
      ],
      "metadata": {
        "colab": {
          "base_uri": "https://localhost:8080/"
        },
        "id": "pDlogrnCvqZn",
        "outputId": "81cc8b1b-996e-47e2-dabc-4657f90b202b"
      },
      "execution_count": 49,
      "outputs": [
        {
          "output_type": "stream",
          "name": "stdout",
          "text": [
            "Model: \"my_model\"\n",
            "_________________________________________________________________\n",
            " Layer (type)                Output Shape              Param #   \n",
            "=================================================================\n",
            " embedding_1 (Embedding)     multiple                  16896     \n",
            "                                                                 \n",
            " gru (GRU)                   multiple                  3938304   \n",
            "                                                                 \n",
            " dense_2 (Dense)             multiple                  67650     \n",
            "                                                                 \n",
            "=================================================================\n",
            "Total params: 4022850 (15.35 MB)\n",
            "Trainable params: 4022850 (15.35 MB)\n",
            "Non-trainable params: 0 (0.00 Byte)\n",
            "_________________________________________________________________\n"
          ]
        }
      ]
    },
    {
      "cell_type": "code",
      "source": [
        "sampled_indices = tf.random.categorical(example_batch_predictions[0],num_samples=1)\n",
        "sampled_indices = tf.squeeze(sampled_indices, axis=-1).numpy() #untuk menghapus dimensi tambahan dan menghasilkan tensor satu dimensi yang berisi indeks karakter yang diambil secara acak dan mengambil data kemudian dikonversi jadi array numpy"
      ],
      "metadata": {
        "id": "5gaLntB9vuk2"
      },
      "execution_count": 50,
      "outputs": []
    },
    {
      "cell_type": "code",
      "source": [
        "sampled_indices # indeks karakter yang diambil secara acak dari prediksi model untuk satu contoh dalam batch"
      ],
      "metadata": {
        "colab": {
          "base_uri": "https://localhost:8080/"
        },
        "id": "bojfgTmbv4Z5",
        "outputId": "8458df6c-4791-457c-c22f-fff435f54161"
      },
      "execution_count": 51,
      "outputs": [
        {
          "output_type": "execute_result",
          "data": {
            "text/plain": [
              "array([62, 44,  3,  7, 39, 29,  0, 59, 16, 22, 12,  0,  1, 27, 62, 16, 13,\n",
              "        3, 37,  6, 29, 65, 55, 55,  5, 43, 32, 42, 33,  5, 40, 40, 45, 52,\n",
              "       22, 64, 44, 33, 24, 25, 61, 16, 11, 47, 39, 12, 54, 24, 28, 58, 33,\n",
              "       54, 59, 49, 45, 37, 64, 30, 14,  4, 22, 57, 47, 18, 43, 65, 58,  4,\n",
              "       15, 62, 60, 30, 63, 48, 47, 47, 44, 44, 23,  5,  3, 65, 59, 37,  8,\n",
              "       45, 38, 65, 42, 19, 34, 16, 61, 25,  3,  3,  5, 52, 56, 63])"
            ]
          },
          "metadata": {},
          "execution_count": 51
        }
      ]
    },
    {
      "cell_type": "code",
      "source": [
        "print(\"Input:\\n\", text_from_ids(input_example_batch[0]).numpy())\n",
        "print()\n",
        "print(\"Next Char Predictions:\\n\", text_from_ids(sampled_indices).numpy())\n",
        "#Kode ini digunakan untuk mencetak teks dari input dan prediksi karakter selanjutnya dari model. Ini memberikan gambaran visual tentang bagaimana model bekerja dan seberapa baik dalam memprediksi karakter selanjutnya."
      ],
      "metadata": {
        "colab": {
          "base_uri": "https://localhost:8080/"
        },
        "id": "nk6rXMxiv-4C",
        "outputId": "e624df95-a868-46c7-e62c-ba5feaf7ea6f"
      },
      "execution_count": 52,
      "outputs": [
        {
          "output_type": "stream",
          "name": "stdout",
          "text": [
            "Input:\n",
            " b' have you dance.\\n\\nROMEO:\\nNot I, believe me: you have dancing shoes\\nWith nimble soles: I have a soul '\n",
            "\n",
            "Next Char Predictions:\n",
            " b\"we!,ZP[UNK]tCI;[UNK]\\nNwC?!X'Pzpp&dScT&aafmIyeTKLvC:hZ;oKOsTotjfXyQA$IrhEdzs$BwuQxihheeJ&!ztX-fYzcFUCvL!!&mqx\"\n"
          ]
        }
      ]
    },
    {
      "cell_type": "code",
      "source": [
        "loss = tf.losses.SparseCategoricalCrossentropy(from_logits=True)\n",
        "#Kode ini menginisialisasi fungsi kerugian yang akan digunakan selama pelatihan model.\n",
        "#Fungsi kerugian yang dipilih adalah SparseCategoricalCrossentropy, yang sesuai untuk tugas klasifikasi.\n",
        "#Pengaturan from_logits=True menunjukkan bahwa model akan mengeluarkan nilai logits sebagai output akhir."
      ],
      "metadata": {
        "id": "7f3dqEYCv_3y"
      },
      "execution_count": 53,
      "outputs": []
    },
    {
      "cell_type": "code",
      "source": [
        "example_batch_mean_loss = loss(target_example_batch, example_batch_predictions)\n",
        "print(\"Prediction shape: \", example_batch_predictions.shape, \" # (batch_size, sequence_length, vocab_size)\")\n",
        "print(\"Mean loss:        \", example_batch_mean_loss)\n",
        "#Kode ini menghitung dan mencetak informasi tentang hasil prediksi dan kerugian pada sebuah batch dari data uji. Informasi ini berguna untuk memonitor dan mengevaluasi kinerja model selama pelatihan."
      ],
      "metadata": {
        "colab": {
          "base_uri": "https://localhost:8080/"
        },
        "id": "S0UAcqKNwDZz",
        "outputId": "7f368bee-3b54-4752-af9a-5500c2578115"
      },
      "execution_count": 54,
      "outputs": [
        {
          "output_type": "stream",
          "name": "stdout",
          "text": [
            "Prediction shape:  (64, 100, 66)  # (batch_size, sequence_length, vocab_size)\n",
            "Mean loss:         tf.Tensor(4.1894627, shape=(), dtype=float32)\n"
          ]
        }
      ]
    },
    {
      "cell_type": "code",
      "source": [
        "tf.exp(example_batch_mean_loss).numpy()\n",
        "#Kode ini menghasilkan nilai eksponensial dari example_batch_mean_loss dan mengonversinya menjadi array NumPy."
      ],
      "metadata": {
        "colab": {
          "base_uri": "https://localhost:8080/"
        },
        "id": "5y5pGolGwGmp",
        "outputId": "20a14cbd-9240-47b5-f29c-761b3bd02536"
      },
      "execution_count": 55,
      "outputs": [
        {
          "output_type": "execute_result",
          "data": {
            "text/plain": [
              "65.98733"
            ]
          },
          "metadata": {},
          "execution_count": 55
        }
      ]
    },
    {
      "cell_type": "code",
      "source": [
        "model.compile(optimizer='adam', loss=loss)\n",
        "#Kode ini mengatur pengaturan pelatihan untuk model.\n",
        "#Optimizer 'adam' akan digunakan untuk mengoptimalkan bobot model, dan fungsi kerugian loss akan digunakan untuk mengukur seberapa baik model memprediksi target selama pelatihan."
      ],
      "metadata": {
        "id": "f46Ar-H8wJ21"
      },
      "execution_count": 56,
      "outputs": []
    },
    {
      "cell_type": "code",
      "source": [
        "# Directory where the checkpoints will be saved\n",
        "checkpoint_dir = './training_checkpoints'\n",
        "# Name of the checkpoint files\n",
        "checkpoint_prefix = os.path.join(checkpoint_dir, \"ckpt_{epoch}\")\n",
        "\n",
        "checkpoint_callback = tf.keras.callbacks.ModelCheckpoint(\n",
        "    filepath=checkpoint_prefix,\n",
        "    save_weights_only=True)\n",
        "#Kode ini menentukan cara untuk menyimpan checkpoint selama pelatihan model."
      ],
      "metadata": {
        "id": "LRzAQnF_wM_b"
      },
      "execution_count": 57,
      "outputs": []
    },
    {
      "cell_type": "code",
      "source": [
        "EPOCHS = 20"
      ],
      "metadata": {
        "id": "BYmGkoIhwPid"
      },
      "execution_count": 58,
      "outputs": []
    },
    {
      "cell_type": "code",
      "source": [
        "history = model.fit(dataset, epochs=EPOCHS, callbacks=[checkpoint_callback])\n",
        "#Kode ini melatih model menggunakan data dari dataset selama sejumlah epoch yang telah ditentukan, sambil menggunakan callback untuk melakukan tindakan tambahan seperti menyimpan model."
      ],
      "metadata": {
        "colab": {
          "base_uri": "https://localhost:8080/"
        },
        "id": "qNnokcuqwWIV",
        "outputId": "a3cfcd49-cfd0-4831-851e-b10e3d2e19dd"
      },
      "execution_count": 59,
      "outputs": [
        {
          "output_type": "stream",
          "name": "stdout",
          "text": [
            "Epoch 1/20\n",
            "172/172 [==============================] - 15s 57ms/step - loss: 2.7081\n",
            "Epoch 2/20\n",
            "172/172 [==============================] - 12s 57ms/step - loss: 1.9804\n",
            "Epoch 3/20\n",
            "172/172 [==============================] - 12s 58ms/step - loss: 1.7014\n",
            "Epoch 4/20\n",
            "172/172 [==============================] - 11s 56ms/step - loss: 1.5421\n",
            "Epoch 5/20\n",
            "172/172 [==============================] - 11s 56ms/step - loss: 1.4458\n",
            "Epoch 6/20\n",
            "172/172 [==============================] - 11s 55ms/step - loss: 1.3781\n",
            "Epoch 7/20\n",
            "172/172 [==============================] - 12s 55ms/step - loss: 1.3258\n",
            "Epoch 8/20\n",
            "172/172 [==============================] - 12s 55ms/step - loss: 1.2809\n",
            "Epoch 9/20\n",
            "172/172 [==============================] - 11s 56ms/step - loss: 1.2391\n",
            "Epoch 10/20\n",
            "172/172 [==============================] - 11s 56ms/step - loss: 1.1986\n",
            "Epoch 11/20\n",
            "172/172 [==============================] - 11s 55ms/step - loss: 1.1583\n",
            "Epoch 12/20\n",
            "172/172 [==============================] - 11s 56ms/step - loss: 1.1156\n",
            "Epoch 13/20\n",
            "172/172 [==============================] - 11s 56ms/step - loss: 1.0707\n",
            "Epoch 14/20\n",
            "172/172 [==============================] - 12s 56ms/step - loss: 1.0241\n",
            "Epoch 15/20\n",
            "172/172 [==============================] - 11s 57ms/step - loss: 0.9742\n",
            "Epoch 16/20\n",
            "172/172 [==============================] - 11s 55ms/step - loss: 0.9212\n",
            "Epoch 17/20\n",
            "172/172 [==============================] - 11s 56ms/step - loss: 0.8696\n",
            "Epoch 18/20\n",
            "172/172 [==============================] - 12s 56ms/step - loss: 0.8170\n",
            "Epoch 19/20\n",
            "172/172 [==============================] - 12s 56ms/step - loss: 0.7643\n",
            "Epoch 20/20\n",
            "172/172 [==============================] - 12s 56ms/step - loss: 0.7163\n"
          ]
        }
      ]
    },
    {
      "cell_type": "code",
      "source": [
        "class OneStep(tf.keras.Model):\n",
        "  def __init__(self, model, chars_from_ids, ids_from_chars, temperature=1.0):\n",
        "    super().__init__()\n",
        "    self.temperature = temperature\n",
        "    self.model = model\n",
        "    self.chars_from_ids = chars_from_ids\n",
        "    self.ids_from_chars = ids_from_chars\n",
        "\n",
        "    # Create a mask to prevent \"[UNK]\" from being generated.\n",
        "    skip_ids = self.ids_from_chars(['[UNK]'])[:, None]\n",
        "    sparse_mask = tf.SparseTensor(\n",
        "        # Put a -inf at each bad index.\n",
        "        values=[-float('inf')]*len(skip_ids),\n",
        "        indices=skip_ids,\n",
        "        # Match the shape to the vocabulary\n",
        "        dense_shape=[len(ids_from_chars.get_vocabulary())])\n",
        "    self.prediction_mask = tf.sparse.to_dense(sparse_mask)\n",
        "\n",
        "  @tf.function\n",
        "  def generate_one_step(self, inputs, states=None):\n",
        "    # Convert strings to token IDs.\n",
        "    input_chars = tf.strings.unicode_split(inputs, 'UTF-8')\n",
        "    input_ids = self.ids_from_chars(input_chars).to_tensor()\n",
        "\n",
        "    # Run the model.\n",
        "    # predicted_logits.shape is [batch, char, next_char_logits]\n",
        "    predicted_logits, states = self.model(inputs=input_ids, states=states,\n",
        "                                          return_state=True)\n",
        "    # Only use the last prediction.\n",
        "    predicted_logits = predicted_logits[:, -1, :]\n",
        "    predicted_logits = predicted_logits/self.temperature\n",
        "    # Apply the prediction mask: prevent \"[UNK]\" from being generated.\n",
        "    predicted_logits = predicted_logits + self.prediction_mask\n",
        "\n",
        "    # Sample the output logits to generate token IDs.\n",
        "    predicted_ids = tf.random.categorical(predicted_logits, num_samples=1)\n",
        "    predicted_ids = tf.squeeze(predicted_ids, axis=-1)\n",
        "\n",
        "    # Convert from token ids to characters\n",
        "    predicted_chars = self.chars_from_ids(predicted_ids)\n",
        "\n",
        "    # Return the characters and model state.\n",
        "    return predicted_chars, states"
      ],
      "metadata": {
        "id": "H1mqjDC_8ZFj"
      },
      "execution_count": 60,
      "outputs": []
    },
    {
      "cell_type": "code",
      "source": [
        "one_step_model = OneStep(model, chars_from_ids, ids_from_chars)"
      ],
      "metadata": {
        "id": "iJdK3Vlm8aM9"
      },
      "execution_count": 61,
      "outputs": []
    },
    {
      "cell_type": "code",
      "source": [
        "start = time.time() #Memulai penghitungan waktu dengan menyimpan timestamp awal di variabel start.\n",
        "states = None\n",
        "next_char = tf.constant(['ROMEO:'])\n",
        "result = [next_char]\n",
        "\n",
        "for n in range(1000):\n",
        "  next_char, states = one_step_model.generate_one_step(next_char, states=states)\n",
        "  result.append(next_char)\n",
        "\n",
        "result = tf.strings.join(result)\n",
        "end = time.time()\n",
        "print(result[0].numpy().decode('utf-8'), '\\n\\n' + '_'*80)\n",
        "print('\\nRun time:', end - start)\n",
        "#Kode ini menggunakan model one_step_model untuk menghasilkan teks berkelanjutan berdasarkan teks awal \"ROMEO:\".\n",
        "#Proses ini dilakukan dalam loop sebanyak 1000 kali.\n",
        "#Hasil akhir dari teks yang dihasilkan akan dicetak bersama dengan waktu yang diperlukan untuk operasi tersebut."
      ],
      "metadata": {
        "colab": {
          "base_uri": "https://localhost:8080/"
        },
        "id": "NMevjMjM8cmx",
        "outputId": "641a52e3-79df-4ee3-dfa3-a205e5b5f054"
      },
      "execution_count": 62,
      "outputs": [
        {
          "output_type": "stream",
          "name": "stdout",
          "text": [
            "ROMEO:\n",
            "Good morrow, yea, my trifle.\n",
            "\n",
            "Poor:\n",
            "Here is the equeen?\n",
            "\n",
            "Fathwerg: they say there is no trouble this!\n",
            "Is strain thee ben? imprison in me\n",
            "To have me sound to do so sweet a scandage. You have to have no vicestions,\n",
            "Yielded up unto the crown?\n",
            "\n",
            "ISABELLA:\n",
            "So.\n",
            "\n",
            "AEdices, madam have been so unnatural as\n",
            "I see the king is sworn by nothing.\n",
            "\n",
            "LEONTES:\n",
            "No.\n",
            "\n",
            "BRUTUS:\n",
            "Woe teaches she? What?\n",
            "\n",
            "Lords:\n",
            "To take off proud sacins and courtesy,\n",
            "What should you dishonour miles in many a tood as they\n",
            "Have left me thus to lie another. Who is there?\n",
            "\n",
            "BAPTISTA:\n",
            "As thou hast done! The other Guiracle,\n",
            "the heavens have and rotten story would going\n",
            "As an ifleconer, that is good,\n",
            "With teezarry at the victory,\n",
            "Forbid the crown to me that our winns, and the\n",
            "dreadful prince fash, as to rise,\n",
            "Which I, my liege, if Henry told something hard\n",
            "holding up in affaction.\n",
            "\n",
            "MENENIUS:\n",
            "Sir, if it be in rage with a beast.\n",
            "O Dreasf, talk:\n",
            "If you would stay his warlike queen,\n",
            "To fight the tenge that plead for his country:\n",
            "Whom we were \n",
            "\n",
            "________________________________________________________________________________\n",
            "\n",
            "Run time: 5.8170249462127686\n"
          ]
        }
      ]
    },
    {
      "cell_type": "code",
      "source": [
        "start = time.time() #Memulai penghitungan waktu dengan menyimpan timestamp awal di variabel start.\n",
        "states = None\n",
        "next_char = tf.constant(['ROMEO:', 'ROMEO:', 'ROMEO:', 'ROMEO:', 'ROMEO:'])\n",
        "result = [next_char]\n",
        "\n",
        "for n in range(1000):\n",
        "  next_char, states = one_step_model.generate_one_step(next_char, states=states)\n",
        "  result.append(next_char)\n",
        "\n",
        "result = tf.strings.join(result)\n",
        "end = time.time()\n",
        "print(result, '\\n\\n' + '_'*80)\n",
        "print('\\nRun time:', end - start)\n",
        "#Kode ini menggunakan model one_step_model untuk menghasilkan teks berkelanjutan berdasarkan teks awal yang telah ditentukan.\n",
        "#Proses ini dilakukan dalam loop sebanyak 1000 kali.\n",
        "#Hasil akhir dari teks yang dihasilkan akan dicetak bersama dengan waktu yang diperlukan untuk operasi tersebut.\n"
      ],
      "metadata": {
        "colab": {
          "base_uri": "https://localhost:8080/"
        },
        "id": "a-24deCV8gt3",
        "outputId": "99a3f9ef-96ea-48c3-c312-026c3523bfbb"
      },
      "execution_count": 64,
      "outputs": [
        {
          "output_type": "stream",
          "name": "stdout",
          "text": [
            "tf.Tensor(\n",
            "[b\"ROMEO:\\nVery well.\\n\\nKING EDWARD IV:\\nTo every ore I have been meddled, to wash your\\nhalfest sorrow. Take up your garden, to\\nAngelo; you shall not safely in Vienna\\nAnd here I hate on with fierce befal ty\\nexorance, distance; he hath a taught both\\nyour grace to do it only.\\n\\nMENENIUS:\\nAnd born we do,\\nSo cunst the suit I'll tell you what of dood:\\nIf either you by hail to Mantua.\\n\\nROMEO:\\nAnd I'll no grave where go with her graves,\\nMy tongue bless, I know how hast a churchyard.\\n\\nGREY:\\nI am a hoar, yea, as he wades at act.\\n\\nRICHARD:\\nProvides me; that I saw her by his voices,\\nThey pause against the orish me.\\nBut, most heartily!\\n\\nPROSPERO:\\nMy grantay?\\n\\nLUCENTIO:\\nBut since our humble means to come home must were to\\ncus him visit a head o'er-run her.\\n\\nPETRUCHI\\nS:\\nAnd she comes for the weal't.\\n\\nCORIOLANUS:\\nMake protest\\nPity go along alone.\\n\\nPage:\\nMy lord, such life what sing betrixing\\nDress then on their pointed sight,\\nBut not upans may be we fight,\\nBut by at land was past upon him.\\n\\nDUKE VINCENTIO:\\nIt is \"\n",
            " b\"ROMEO:\\nThat Warwick was a wonder, if I get me else\\nyour what I blow post-his ear\\nAccoust his body to his pratt\\nAnd rapt away to-night so,\\nLook by his majesty: be you king,\\nAnd Montague our lacked diggers. Mercy is proffer'd\\nAnd to pardon What climate straight sleep again;\\nFrom whence, some three against thee, arm'd first,\\nExpect my heart's as lieve at this in heaven,\\nTo take orserve into their lives, and he sids:\\n'ge thou be true in the virguit of his bird\\nShelt Anto im grows with suitors\\nThat stones was fult in virtue at the\\nhigh woe as we as great as attable.\\n\\nBAPTISTA:\\nGood ere the crown to my County God is dead,\\nYou being to attain his horse; and, in sour steel\\nI'll send me mean in present wit in half.\\n\\nRATCLIST:\\nWho,'s tarn, where is the poll?\\n\\nLEONTES:\\nIs she now see the covent of this young man?\\nMarryelly do your good seas. Thy beauty hath been wrong\\nTo stay with me, and that I am affect,\\nStaves as become a bubler, and so wither'd\\nAs words that sets, that doubt it so,\\nFor I will hence\"\n",
            " b\"ROMEO:\\nThe mower and you have spoken that love that\\nI am away.\\n\\nGLOUCESTER:\\nWhat, singer? rise? who see this merit in blood?\\n\\nWARWICK:\\nIn this the advetter?\\n\\nLUCIO:\\nCome, you are resolved; stand along, of all despair:\\nMake thee the subjects to give her.\\n\\nSecond Citizen:\\nBut I reseech your grace; for they hap more precious face\\nUs meeting government that slight of him,\\nAnd cannot do thee harm in your walls, saved,\\nWith his agends, Grumio.\\n\\nTRANIO:\\nI pray you, sir, say I. 'tis a health!\\nPlay the menry of thy mast be oritone:\\nYou understand me not, nor\\nnone but mine opinion; his name is Capulet.\\n\\nLady:\\nMadam, ma! come, but ever show thy crown,\\nWould all ten thousand love to Rome,\\nI'll follow to him: it is no more than woe.\\nWe will discharges the elfest spreeding her\\nAndeasonaly way field us:\\nRepair to the ear blood, were by the matching.\\n\\nGLOUCESTER:\\nHave not yet slew him in the case,\\nWhich doth account his house and flat.\\nTell me to lose a bawd? They fast must notes!\\nHumbsakes, each your dispr\"\n",
            " b\"ROMEO:\\nGo vouch together to no scorce,\\nEre grows open'd, that sayest touch his oath\\nAnd rack to shame the sactarding Reparts, thyself,\\nThat when the sun show maidst the stern apon\\nThy brother Clarence out! Go, since you are very\\nnamen, sweet virtuous Lancaster and his\\nwind, and adversaries in her heart.\\n\\nHERMIONE:\\nWhich Gloucester, it is true!\\nThus have been denied that she were wonderful,\\nFellies no demised them flesh,\\nBefore I have no jouncy, to yourself,\\nHolding thee to entreat the chazeles;\\nOr, if she spen thy hair, to-day?\\n\\nKATHARINA:\\nI promise thee, over either sir;\\n'He will not be an old truth.\\n\\nBENVOLIO:\\nBoy, sith his minf most free,\\nAnd grace the trial, it make me speak,\\nBanish'd, 's all, old, whom you know, my lady\\nBianca, fair befal hither was no better think\\nProceedened how may for himself this as you want no time\\nAnd never stop into the fraint,\\nFor it doth ward an old tale soul\\nIs death, and spare thee fight again,\\nIr loke by danger. And mourn, you bogh, or dream?\\nLet's each one\"\n",
            " b\"ROMEO:\\nAnd what to lament I do pronounce again to-morrow?\\n\\nFRIAR LAURENCE:\\nGood particel, my lord whom I, indeed, take thee!\\nWhat do you bright me?\\n\\nLADY ANNE:\\nGood lord, I cannot tell her stay:\\n'Twere good methought I know better.\\n\\nDUKE OF AUMERLE:\\nSir, sport we have as it down. If I to chide, as if the grave come home.\\n\\nClown:\\nAlack, womank, what a favour\\nWert thies: and, twenty times more of his\\nsingle Master Barthaning 'God serve\\nGrot fall out with the cample cause\\nto wail and bleed a far off;\\nFor being slander's death, by pardonies\\nRequite his threess must stop to make his head.\\n\\nNORTHUMBERLAND:\\nHad he done soon mo! here's no rellow any harm.\\nI lay the askburt country to his sides,\\nNot stince thy fury: if his or plot\\nBecomes men he will add.\\nGo, know you in: there is no relieved it.\\n\\nDUKE OF YORK:\\n\\nCLARENCE:\\nFie, what said babe-\\nprithee now, she shall be a miserable a great dear\\nAs Lucentio and I feel and try\\nif they be none about, who and the bay was suborn'd:\\nWhat, dogs shall I deny t\"], shape=(5,), dtype=string) \n",
            "\n",
            "________________________________________________________________________________\n",
            "\n",
            "Run time: 3.892740488052368\n"
          ]
        }
      ]
    },
    {
      "cell_type": "code",
      "source": [
        "tf.saved_model.save(one_step_model, 'one_step')\n",
        "one_step_reloaded = tf.saved_model.load('one_step')\n",
        "#Kode ini menyimpan model one_step_model ke dalam format saved model dengan nama direktori 'one_step'. Kemudian, model tersebut dimuat kembali dan disimpan dalam variabel one_step_reloaded untuk penggunaan selanjutnya.\n"
      ],
      "metadata": {
        "colab": {
          "base_uri": "https://localhost:8080/"
        },
        "id": "3xUTp5VK87MU",
        "outputId": "fdaa6804-e62f-47a4-c6c8-aade69a26967"
      },
      "execution_count": 65,
      "outputs": [
        {
          "output_type": "stream",
          "name": "stderr",
          "text": [
            "WARNING:tensorflow:Skipping full serialization of Keras layer <__main__.OneStep object at 0x79d364adba30>, because it is not built.\n",
            "WARNING:tensorflow:Model's `__init__()` arguments contain non-serializable objects. Please implement a `get_config()` method in the subclassed Model for proper saving and loading. Defaulting to empty config.\n",
            "WARNING:tensorflow:Model's `__init__()` arguments contain non-serializable objects. Please implement a `get_config()` method in the subclassed Model for proper saving and loading. Defaulting to empty config.\n"
          ]
        }
      ]
    },
    {
      "cell_type": "code",
      "source": [
        "states = None #menyimpan keadaan internal dari model\n",
        "next_char = tf.constant(['ROMEO:']) #dengan teks awal 'ROMEO:' yang akan digunakan sebagai awal untuk menghasilkan teks berikutnya.\n",
        "result = [next_char]\n",
        "\n",
        "for n in range(100):\n",
        "  next_char, states = one_step_reloaded.generate_one_step(next_char, states=states)\n",
        "  result.append(next_char)\n",
        "\n",
        "print(tf.strings.join(result)[0].numpy().decode(\"utf-8\"))\n",
        "#Kode ini menggunakan model yang telah dilatih untuk menghasilkan teks berkelanjutan berdasarkan teks awal \"ROMEO:\". Proses ini dilakukan dalam loop sebanyak 100 kali. Hasil akhir dari teks yang dihasilkan akan dicetak.\n"
      ],
      "metadata": {
        "colab": {
          "base_uri": "https://localhost:8080/"
        },
        "id": "b7uwiD-r875M",
        "outputId": "b0ec41f6-458d-4234-c75e-ffec752cfe97"
      },
      "execution_count": 66,
      "outputs": [
        {
          "output_type": "stream",
          "name": "stdout",
          "text": [
            "ROMEO:\n",
            "The people cry you a sign of kings. Farewell: it is not so.\n",
            "Of Mortime, purchase whilst I go.\n",
            "\n",
            "QULE\n"
          ]
        }
      ]
    }
  ]
}