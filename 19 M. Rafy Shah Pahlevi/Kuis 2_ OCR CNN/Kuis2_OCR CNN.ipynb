{
  "nbformat": 4,
  "nbformat_minor": 0,
  "metadata": {
    "colab": {
      "provenance": [],
      "gpuType": "T4"
    },
    "kernelspec": {
      "name": "python3",
      "display_name": "Python 3"
    },
    "language_info": {
      "name": "python"
    },
    "accelerator": "GPU"
  },
  "cells": [
    {
      "cell_type": "markdown",
      "source": [
        "# KUIS 2 Machine Learning\n",
        "## M. Rafy Shah Pahlevi\n",
        "## 2141720244\n",
        "## TI-3E / 19"
      ],
      "metadata": {
        "id": "rYDRIilPxeJZ"
      }
    },
    {
      "cell_type": "markdown",
      "source": [
        "# Import Library"
      ],
      "metadata": {
        "id": "fLV1Z5_Za3Ni"
      }
    },
    {
      "cell_type": "code",
      "execution_count": 6,
      "metadata": {
        "id": "TUhYpAeEarrV"
      },
      "outputs": [],
      "source": [
        "# Impor library yang dibutuhkan\n",
        "import tensorflow as tf\n",
        "import numpy as np\n",
        "import pandas as pd\n",
        "import matplotlib.pyplot as plt\n",
        "import seaborn as sns\n",
        "from sklearn.preprocessing import LabelBinarizer\n",
        "from sklearn.model_selection import train_test_split\n",
        "from sklearn.metrics import classification_report\n",
        "import zipfile"
      ]
    },
    {
      "cell_type": "markdown",
      "source": [
        "# Load Dataset"
      ],
      "metadata": {
        "id": "N95oXMaTcnMH"
      }
    },
    {
      "cell_type": "markdown",
      "source": [
        "## Load MNIST"
      ],
      "metadata": {
        "id": "dT8TY908cpCK"
      }
    },
    {
      "cell_type": "code",
      "source": [
        "from tensorflow.keras.datasets import mnist  # mengimpor dataset mnist dari tensorflow"
      ],
      "metadata": {
        "id": "OIZx2pkUcfDe"
      },
      "execution_count": 7,
      "outputs": []
    },
    {
      "cell_type": "code",
      "source": [
        "(train_data, train_labels), (test_data, test_labels) = mnist.load_data()\n",
        "# memuat data latihan dan pengujian dari dataset MNIST"
      ],
      "metadata": {
        "id": "3GLkzBi6czj4",
        "colab": {
          "base_uri": "https://localhost:8080/"
        },
        "outputId": "48977a56-62ce-4617-a3ec-c59d5716bc65"
      },
      "execution_count": 8,
      "outputs": [
        {
          "output_type": "stream",
          "name": "stdout",
          "text": [
            "Downloading data from https://storage.googleapis.com/tensorflow/tf-keras-datasets/mnist.npz\n",
            "11490434/11490434 [==============================] - 0s 0us/step\n"
          ]
        }
      ]
    },
    {
      "cell_type": "code",
      "source": [
        "# Check shape data\n",
        "(train_data.shape, test_data.shape)\n",
        "# memeriksa bentuk (shape) dan jumlah sampel dari data latihan dan data pengujian"
      ],
      "metadata": {
        "id": "oVQTyPgAc5Zw",
        "colab": {
          "base_uri": "https://localhost:8080/"
        },
        "outputId": "6c792f48-2885-479b-be43-600af9a62a6e"
      },
      "execution_count": 9,
      "outputs": [
        {
          "output_type": "execute_result",
          "data": {
            "text/plain": [
              "((60000, 28, 28), (10000, 28, 28))"
            ]
          },
          "metadata": {},
          "execution_count": 9
        }
      ]
    },
    {
      "cell_type": "markdown",
      "source": [
        "data train memiliki 60.000 sampel gambar latihan, dimana setiap gambar memiliki dimensi 28x28 piksel\n",
        "\n",
        "sedangkan data test memiliki 10.000 sampel gambar pengujian, dengan memiliki dimensi yang sama dengan data train yaitu 28x28 piksel"
      ],
      "metadata": {
        "id": "aUnv_sfmzxcG"
      }
    },
    {
      "cell_type": "code",
      "source": [
        "# Check shape labels\n",
        "(train_labels.shape, test_labels.shape)\n",
        "# memeriksa jumlah sampel gambar dari label data latihan dan data pengujian"
      ],
      "metadata": {
        "id": "grUhLPwJc-un",
        "colab": {
          "base_uri": "https://localhost:8080/"
        },
        "outputId": "1ed4f8c6-5d43-467e-e8ac-4c4948ab0aa1"
      },
      "execution_count": 10,
      "outputs": [
        {
          "output_type": "execute_result",
          "data": {
            "text/plain": [
              "((60000,), (10000,))"
            ]
          },
          "metadata": {},
          "execution_count": 10
        }
      ]
    },
    {
      "cell_type": "markdown",
      "source": [
        "Jumlah sampel gambar pada data train 60.000, sedangkan pada data test ada 10.000"
      ],
      "metadata": {
        "id": "g4Vd2sfm0LJL"
      }
    },
    {
      "cell_type": "code",
      "source": [
        "# Check each data shape --> should be 28*28\n",
        "train_data[0].shape\n",
        "# mengecek jumlah pixel pada gambar pertama (pada indeks 0)"
      ],
      "metadata": {
        "id": "AwsTEu6xdNKX",
        "colab": {
          "base_uri": "https://localhost:8080/"
        },
        "outputId": "9e5d66bb-4c93-4031-d24f-731a53d1f93b"
      },
      "execution_count": 11,
      "outputs": [
        {
          "output_type": "execute_result",
          "data": {
            "text/plain": [
              "(28, 28)"
            ]
          },
          "metadata": {},
          "execution_count": 11
        }
      ]
    },
    {
      "cell_type": "code",
      "source": [
        "# Check the label\n",
        "train_labels.shape\n",
        "# mengecek jumlah sampel gambar pada data train"
      ],
      "metadata": {
        "id": "KHZesdnBdXKX",
        "colab": {
          "base_uri": "https://localhost:8080/"
        },
        "outputId": "43f411a5-004b-4865-e43d-14b0739a5be4"
      },
      "execution_count": 12,
      "outputs": [
        {
          "output_type": "execute_result",
          "data": {
            "text/plain": [
              "(60000,)"
            ]
          },
          "metadata": {},
          "execution_count": 12
        }
      ]
    },
    {
      "cell_type": "markdown",
      "source": [
        "### Combine Train and Test Data"
      ],
      "metadata": {
        "id": "SYz8IjnOdfsV"
      }
    },
    {
      "cell_type": "code",
      "source": [
        "digits_data = np.vstack([train_data, test_data])\n",
        "digits_labels = np.hstack([train_labels, test_labels])\n",
        "# menggabungkan data latihan dan data pengujian menjadi satu set data gambar dan label\n"
      ],
      "metadata": {
        "id": "yacSZjdPdbhs"
      },
      "execution_count": 13,
      "outputs": []
    },
    {
      "cell_type": "code",
      "source": [
        "# Check data shape\n",
        "digits_data.shape\n",
        "# karna data train dan data test sudah digabungkan ke variabel digits,\n",
        "# maka pada variabel digits terdapat 70.000 sampel gambar\n",
        "# 60.000 dari data train, dan 10.000 dari data test"
      ],
      "metadata": {
        "id": "oRBvQNVUeHZn",
        "colab": {
          "base_uri": "https://localhost:8080/"
        },
        "outputId": "c01e55e7-fb48-4568-e9bc-3221bb31be34"
      },
      "execution_count": 14,
      "outputs": [
        {
          "output_type": "execute_result",
          "data": {
            "text/plain": [
              "(70000, 28, 28)"
            ]
          },
          "metadata": {},
          "execution_count": 14
        }
      ]
    },
    {
      "cell_type": "code",
      "source": [
        "# Check label shape\n",
        "digits_labels.shape\n",
        "# jumlah sampel gambar pada data label yaitu 70.000 dari hasil penggabungan sebelumnya"
      ],
      "metadata": {
        "id": "MZbUcu0MeLSG",
        "colab": {
          "base_uri": "https://localhost:8080/"
        },
        "outputId": "295cf342-eb49-428d-d18f-397b13eba1df"
      },
      "execution_count": 15,
      "outputs": [
        {
          "output_type": "execute_result",
          "data": {
            "text/plain": [
              "(70000,)"
            ]
          },
          "metadata": {},
          "execution_count": 15
        }
      ]
    },
    {
      "cell_type": "code",
      "source": [
        "# Randomly checking the data\n",
        "idx = np.random.randint(0, digits_data.shape[0])\n",
        "# membuat variabel idx yang berisi indeks acak antara 0 hingga jumlah total gambar dalam dataset\n",
        "\n",
        "plt.imshow(digits_data[idx], cmap='gray')\n",
        "# menampilkan gambar yang terletak pada indeks idx dari dataset digits_data dengan skala warna abu-abu\n",
        "\n",
        "plt.title('Class: ' + str(digits_labels[idx]))\n",
        "# menambahkan judul pada gambar yang menunjukkan kelas e label dari gambar yang sesuai dengan index\n"
      ],
      "metadata": {
        "id": "uqaiC0pGePF-",
        "colab": {
          "base_uri": "https://localhost:8080/",
          "height": 469
        },
        "outputId": "16868aed-a1de-42fd-e6dd-c5815963a5e4"
      },
      "execution_count": 16,
      "outputs": [
        {
          "output_type": "execute_result",
          "data": {
            "text/plain": [
              "Text(0.5, 1.0, 'Class: 7')"
            ]
          },
          "metadata": {},
          "execution_count": 16
        },
        {
          "output_type": "display_data",
          "data": {
            "text/plain": [
              "<Figure size 640x480 with 1 Axes>"
            ],
            "image/png": "[encoded data removed]"
          },
          "metadata": {}
        }
      ]
    },
    {
      "cell_type": "code",
      "source": [
        "# Check data distribution\n",
        "df_labels = pd.DataFrame(digits_labels, columns=['labels'])\n",
        "# membuat DataFrame dari labels digit dan memberi nama kolomnya sebagai 'labels'\n",
        "\n",
        "sns.countplot(df_labels, x='labels')\n",
        "# menampilkan plot distribusi data dengan menggunakan seaborn (sns) untuk menghitung dan menampilkan jumlah kemunculan setiap label"
      ],
      "metadata": {
        "id": "FrLWteorevqd",
        "colab": {
          "base_uri": "https://localhost:8080/",
          "height": 466
        },
        "outputId": "1117435d-bfd6-4cef-ebea-69c287681fe5"
      },
      "execution_count": 17,
      "outputs": [
        {
          "output_type": "execute_result",
          "data": {
            "text/plain": [
              "<Axes: xlabel='labels', ylabel='count'>"
            ]
          },
          "metadata": {},
          "execution_count": 17
        },
        {
          "output_type": "display_data",
          "data": {
            "text/plain": [
              "<Figure size 640x480 with 1 Axes>"
            ],
            "image/png": "[encoded data removed]"
          },
          "metadata": {}
        }
      ]
    },
    {
      "cell_type": "markdown",
      "source": [
        "## Load Kaggle A-Z"
      ],
      "metadata": {
        "id": "uqeJT2ytogB_"
      }
    },
    {
      "cell_type": "code",
      "source": [
        "# mendownload zip yang dibutuhkan\n",
        "!wget https://iaexpert.academy/arquivos/alfabeto_A-Z.zip"
      ],
      "metadata": {
        "id": "tQ95CkdfjO7P",
        "colab": {
          "base_uri": "https://localhost:8080/"
        },
        "outputId": "e5c44e47-18f1-46e7-e56c-a7ba4d8e3ec2"
      },
      "execution_count": 18,
      "outputs": [
        {
          "output_type": "stream",
          "name": "stdout",
          "text": [
            "--2023-12-01 08:12:41--  https://iaexpert.academy/arquivos/alfabeto_A-Z.zip\n",
            "Resolving iaexpert.academy (iaexpert.academy)... 162.159.134.42\n",
            "Connecting to iaexpert.academy (iaexpert.academy)|162.159.134.42|:443... connected.\n",
            "HTTP request sent, awaiting response... 200 OK\n",
            "Length: 193643888 (185M) [application/zip]\n",
            "Saving to: ‘alfabeto_A-Z.zip’\n",
            "\n",
            "alfabeto_A-Z.zip    100%[===================>] 184.67M   194MB/s    in 1.0s    \n",
            "\n",
            "2023-12-01 08:12:43 (194 MB/s) - ‘alfabeto_A-Z.zip’ saved [193643888/193643888]\n",
            "\n"
          ]
        }
      ]
    },
    {
      "cell_type": "code",
      "source": [
        "# Extract zip file\n",
        "zip_object = zipfile.ZipFile(file='alfabeto_A-Z.zip', mode='r')\n",
        "# membuka file zip dalam mode read\n",
        "\n",
        "zip_object.extractall('./')\n",
        "# mengekstrak seluruh isi dari file zip ke dalam direktori saat ini\n",
        "\n",
        "zip_object.close()\n",
        "# menutup objek file zip setelah selesai melakukan ekstrak\n"
      ],
      "metadata": {
        "id": "TobpFNSsojcv"
      },
      "execution_count": 19,
      "outputs": []
    },
    {
      "cell_type": "code",
      "source": [
        "dataset_az = pd.read_csv('A_Z Handwritten Data.csv').astype('float32')\n",
        "# membaca file CSV 'A_Z Handwritten Data.csv' sebagai dataset dan mengubah tipe datanya menjadi float32\n",
        "\n",
        "dataset_az\n",
        "# menampilkan dataset_az"
      ],
      "metadata": {
        "id": "ScBURU_4o5bB",
        "colab": {
          "base_uri": "https://localhost:8080/",
          "height": 444
        },
        "outputId": "957a0183-1589-462a-a4d9-5b4d73583675"
      },
      "execution_count": 20,
      "outputs": [
        {
          "output_type": "execute_result",
          "data": {
            "text/plain": [
              "           0  0.1  0.2  0.3  0.4  0.5  0.6  0.7  0.8  0.9  ...  0.639  0.640  \\\n",
              "0        0.0  0.0  0.0  0.0  0.0  0.0  0.0  0.0  0.0  0.0  ...    0.0    0.0   \n",
              "1        0.0  0.0  0.0  0.0  0.0  0.0  0.0  0.0  0.0  0.0  ...    0.0    0.0   \n",
              "2        0.0  0.0  0.0  0.0  0.0  0.0  0.0  0.0  0.0  0.0  ...    0.0    0.0   \n",
              "3        0.0  0.0  0.0  0.0  0.0  0.0  0.0  0.0  0.0  0.0  ...    0.0    0.0   \n",
              "4        0.0  0.0  0.0  0.0  0.0  0.0  0.0  0.0  0.0  0.0  ...    0.0    0.0   \n",
              "...      ...  ...  ...  ...  ...  ...  ...  ...  ...  ...  ...    ...    ...   \n",
              "372445  25.0  0.0  0.0  0.0  0.0  0.0  0.0  0.0  0.0  0.0  ...    0.0    0.0   \n",
              "372446  25.0  0.0  0.0  0.0  0.0  0.0  0.0  0.0  0.0  0.0  ...    0.0    0.0   \n",
              "372447  25.0  0.0  0.0  0.0  0.0  0.0  0.0  0.0  0.0  0.0  ...    0.0    0.0   \n",
              "372448  25.0  0.0  0.0  0.0  0.0  0.0  0.0  0.0  0.0  0.0  ...    0.0    0.0   \n",
              "372449  25.0  0.0  0.0  0.0  0.0  0.0  0.0  0.0  0.0  0.0  ...    0.0    0.0   \n",
              "\n",
              "        0.641  0.642  0.643  0.644  0.645  0.646  0.647  0.648  \n",
              "0         0.0    0.0    0.0    0.0    0.0    0.0    0.0    0.0  \n",
              "1         0.0    0.0    0.0    0.0    0.0    0.0    0.0    0.0  \n",
              "2         0.0    0.0    0.0    0.0    0.0    0.0    0.0    0.0  \n",
              "3         0.0    0.0    0.0    0.0    0.0    0.0    0.0    0.0  \n",
              "4         0.0    0.0    0.0    0.0    0.0    0.0    0.0    0.0  \n",
              "...       ...    ...    ...    ...    ...    ...    ...    ...  \n",
              "372445    0.0    0.0    0.0    0.0    0.0    0.0    0.0    0.0  \n",
              "372446    0.0    0.0    0.0    0.0    0.0    0.0    0.0    0.0  \n",
              "372447    0.0    0.0    0.0    0.0    0.0    0.0    0.0    0.0  \n",
              "372448    0.0    0.0    0.0    0.0    0.0    0.0    0.0    0.0  \n",
              "372449    0.0    0.0    0.0    0.0    0.0    0.0    0.0    0.0  \n",
              "\n",
              "[372450 rows x 785 columns]"
            ],
            "text/html": [
              "\n",
              "  <div id=\"df-49ea8db6-f0b0-4c9d-893f-e450f5f6d4fa\" class=\"colab-df-container\">\n",
              "    <div>\n",
              "<style scoped>\n",
              "    .dataframe tbody tr th:only-of-type {\n",
              "        vertical-align: middle;\n",
              "    }\n",
              "\n",
              "    .dataframe tbody tr th {\n",
              "        vertical-align: top;\n",
              "    }\n",
              "\n",
              "    .dataframe thead th {\n",
              "        text-align: right;\n",
              "    }\n",
              "</style>\n",
              "<table border=\"1\" class=\"dataframe\">\n",
              "  <thead>\n",
              "    <tr style=\"text-align: right;\">\n",
              "      <th></th>\n",
              "      <th>0</th>\n",
              "      <th>0.1</th>\n",
              "      <th>0.2</th>\n",
              "      <th>0.3</th>\n",
              "      <th>0.4</th>\n",
              "      <th>0.5</th>\n",
              "      <th>0.6</th>\n",
              "      <th>0.7</th>\n",
              "      <th>0.8</th>\n",
              "      <th>0.9</th>\n",
              "      <th>...</th>\n",
              "      <th>0.639</th>\n",
              "      <th>0.640</th>\n",
              "      <th>0.641</th>\n",
              "      <th>0.642</th>\n",
              "      <th>0.643</th>\n",
              "      <th>0.644</th>\n",
              "      <th>0.645</th>\n",
              "      <th>0.646</th>\n",
              "      <th>0.647</th>\n",
              "      <th>0.648</th>\n",
              "    </tr>\n",
              "  </thead>\n",
              "  <tbody>\n",
              "    <tr>\n",
              "      <th>0</th>\n",
              "      <td>0.0</td>\n",
              "      <td>0.0</td>\n",
              "      <td>0.0</td>\n",
              "      <td>0.0</td>\n",
              "      <td>0.0</td>\n",
              "      <td>0.0</td>\n",
              "      <td>0.0</td>\n",
              "      <td>0.0</td>\n",
              "      <td>0.0</td>\n",
              "      <td>0.0</td>\n",
              "      <td>...</td>\n",
              "      <td>0.0</td>\n",
              "      <td>0.0</td>\n",
              "      <td>0.0</td>\n",
              "      <td>0.0</td>\n",
              "      <td>0.0</td>\n",
              "      <td>0.0</td>\n",
              "      <td>0.0</td>\n",
              "      <td>0.0</td>\n",
              "      <td>0.0</td>\n",
              "      <td>0.0</td>\n",
              "    </tr>\n",
              "    <tr>\n",
              "      <th>1</th>\n",
              "      <td>0.0</td>\n",
              "      <td>0.0</td>\n",
              "      <td>0.0</td>\n",
              "      <td>0.0</td>\n",
              "      <td>0.0</td>\n",
              "      <td>0.0</td>\n",
              "      <td>0.0</td>\n",
              "      <td>0.0</td>\n",
              "      <td>0.0</td>\n",
              "      <td>0.0</td>\n",
              "      <td>...</td>\n",
              "      <td>0.0</td>\n",
              "      <td>0.0</td>\n",
              "      <td>0.0</td>\n",
              "      <td>0.0</td>\n",
              "      <td>0.0</td>\n",
              "      <td>0.0</td>\n",
              "      <td>0.0</td>\n",
              "      <td>0.0</td>\n",
              "      <td>0.0</td>\n",
              "      <td>0.0</td>\n",
              "    </tr>\n",
              "    <tr>\n",
              "      <th>2</th>\n",
              "      <td>0.0</td>\n",
              "      <td>0.0</td>\n",
              "      <td>0.0</td>\n",
              "      <td>0.0</td>\n",
              "      <td>0.0</td>\n",
              "      <td>0.0</td>\n",
              "      <td>0.0</td>\n",
              "      <td>0.0</td>\n",
              "      <td>0.0</td>\n",
              "      <td>0.0</td>\n",
              "      <td>...</td>\n",
              "      <td>0.0</td>\n",
              "      <td>0.0</td>\n",
              "      <td>0.0</td>\n",
              "      <td>0.0</td>\n",
              "      <td>0.0</td>\n",
              "      <td>0.0</td>\n",
              "      <td>0.0</td>\n",
              "      <td>0.0</td>\n",
              "      <td>0.0</td>\n",
              "      <td>0.0</td>\n",
              "    </tr>\n",
              "    <tr>\n",
              "      <th>3</th>\n",
              "      <td>0.0</td>\n",
              "      <td>0.0</td>\n",
              "      <td>0.0</td>\n",
              "      <td>0.0</td>\n",
              "      <td>0.0</td>\n",
              "      <td>0.0</td>\n",
              "      <td>0.0</td>\n",
              "      <td>0.0</td>\n",
              "      <td>0.0</td>\n",
              "      <td>0.0</td>\n",
              "      <td>...</td>\n",
              "      <td>0.0</td>\n",
              "      <td>0.0</td>\n",
              "      <td>0.0</td>\n",
              "      <td>0.0</td>\n",
              "      <td>0.0</td>\n",
              "      <td>0.0</td>\n",
              "      <td>0.0</td>\n",
              "      <td>0.0</td>\n",
              "      <td>0.0</td>\n",
              "      <td>0.0</td>\n",
              "    </tr>\n",
              "    <tr>\n",
              "      <th>4</th>\n",
              "      <td>0.0</td>\n",
              "      <td>0.0</td>\n",
              "      <td>0.0</td>\n",
              "      <td>0.0</td>\n",
              "      <td>0.0</td>\n",
              "      <td>0.0</td>\n",
              "      <td>0.0</td>\n",
              "      <td>0.0</td>\n",
              "      <td>0.0</td>\n",
              "      <td>0.0</td>\n",
              "      <td>...</td>\n",
              "      <td>0.0</td>\n",
              "      <td>0.0</td>\n",
              "      <td>0.0</td>\n",
              "      <td>0.0</td>\n",
              "      <td>0.0</td>\n",
              "      <td>0.0</td>\n",
              "      <td>0.0</td>\n",
              "      <td>0.0</td>\n",
              "      <td>0.0</td>\n",
              "      <td>0.0</td>\n",
              "    </tr>\n",
              "    <tr>\n",
              "      <th>...</th>\n",
              "      <td>...</td>\n",
              "      <td>...</td>\n",
              "      <td>...</td>\n",
              "      <td>...</td>\n",
              "      <td>...</td>\n",
              "      <td>...</td>\n",
              "      <td>...</td>\n",
              "      <td>...</td>\n",
              "      <td>...</td>\n",
              "      <td>...</td>\n",
              "      <td>...</td>\n",
              "      <td>...</td>\n",
              "      <td>...</td>\n",
              "      <td>...</td>\n",
              "      <td>...</td>\n",
              "      <td>...</td>\n",
              "      <td>...</td>\n",
              "      <td>...</td>\n",
              "      <td>...</td>\n",
              "      <td>...</td>\n",
              "      <td>...</td>\n",
              "    </tr>\n",
              "    <tr>\n",
              "      <th>372445</th>\n",
              "      <td>25.0</td>\n",
              "      <td>0.0</td>\n",
              "      <td>0.0</td>\n",
              "      <td>0.0</td>\n",
              "      <td>0.0</td>\n",
              "      <td>0.0</td>\n",
              "      <td>0.0</td>\n",
              "      <td>0.0</td>\n",
              "      <td>0.0</td>\n",
              "      <td>0.0</td>\n",
              "      <td>...</td>\n",
              "      <td>0.0</td>\n",
              "      <td>0.0</td>\n",
              "      <td>0.0</td>\n",
              "      <td>0.0</td>\n",
              "      <td>0.0</td>\n",
              "      <td>0.0</td>\n",
              "      <td>0.0</td>\n",
              "      <td>0.0</td>\n",
              "      <td>0.0</td>\n",
              "      <td>0.0</td>\n",
              "    </tr>\n",
              "    <tr>\n",
              "      <th>372446</th>\n",
              "      <td>25.0</td>\n",
              "      <td>0.0</td>\n",
              "      <td>0.0</td>\n",
              "      <td>0.0</td>\n",
              "      <td>0.0</td>\n",
              "      <td>0.0</td>\n",
              "      <td>0.0</td>\n",
              "      <td>0.0</td>\n",
              "      <td>0.0</td>\n",
              "      <td>0.0</td>\n",
              "      <td>...</td>\n",
              "      <td>0.0</td>\n",
              "      <td>0.0</td>\n",
              "      <td>0.0</td>\n",
              "      <td>0.0</td>\n",
              "      <td>0.0</td>\n",
              "      <td>0.0</td>\n",
              "      <td>0.0</td>\n",
              "      <td>0.0</td>\n",
              "      <td>0.0</td>\n",
              "      <td>0.0</td>\n",
              "    </tr>\n",
              "    <tr>\n",
              "      <th>372447</th>\n",
              "      <td>25.0</td>\n",
              "      <td>0.0</td>\n",
              "      <td>0.0</td>\n",
              "      <td>0.0</td>\n",
              "      <td>0.0</td>\n",
              "      <td>0.0</td>\n",
              "      <td>0.0</td>\n",
              "      <td>0.0</td>\n",
              "      <td>0.0</td>\n",
              "      <td>0.0</td>\n",
              "      <td>...</td>\n",
              "      <td>0.0</td>\n",
              "      <td>0.0</td>\n",
              "      <td>0.0</td>\n",
              "      <td>0.0</td>\n",
              "      <td>0.0</td>\n",
              "      <td>0.0</td>\n",
              "      <td>0.0</td>\n",
              "      <td>0.0</td>\n",
              "      <td>0.0</td>\n",
              "      <td>0.0</td>\n",
              "    </tr>\n",
              "    <tr>\n",
              "      <th>372448</th>\n",
              "      <td>25.0</td>\n",
              "      <td>0.0</td>\n",
              "      <td>0.0</td>\n",
              "      <td>0.0</td>\n",
              "      <td>0.0</td>\n",
              "      <td>0.0</td>\n",
              "      <td>0.0</td>\n",
              "      <td>0.0</td>\n",
              "      <td>0.0</td>\n",
              "      <td>0.0</td>\n",
              "      <td>...</td>\n",
              "      <td>0.0</td>\n",
              "      <td>0.0</td>\n",
              "      <td>0.0</td>\n",
              "      <td>0.0</td>\n",
              "      <td>0.0</td>\n",
              "      <td>0.0</td>\n",
              "      <td>0.0</td>\n",
              "      <td>0.0</td>\n",
              "      <td>0.0</td>\n",
              "      <td>0.0</td>\n",
              "    </tr>\n",
              "    <tr>\n",
              "      <th>372449</th>\n",
              "      <td>25.0</td>\n",
              "      <td>0.0</td>\n",
              "      <td>0.0</td>\n",
              "      <td>0.0</td>\n",
              "      <td>0.0</td>\n",
              "      <td>0.0</td>\n",
              "      <td>0.0</td>\n",
              "      <td>0.0</td>\n",
              "      <td>0.0</td>\n",
              "      <td>0.0</td>\n",
              "      <td>...</td>\n",
              "      <td>0.0</td>\n",
              "      <td>0.0</td>\n",
              "      <td>0.0</td>\n",
              "      <td>0.0</td>\n",
              "      <td>0.0</td>\n",
              "      <td>0.0</td>\n",
              "      <td>0.0</td>\n",
              "      <td>0.0</td>\n",
              "      <td>0.0</td>\n",
              "      <td>0.0</td>\n",
              "    </tr>\n",
              "  </tbody>\n",
              "</table>\n",
              "<p>372450 rows × 785 columns</p>\n",
              "</div>\n",
              "    <div class=\"colab-df-buttons\">\n",
              "\n",
              "  <div class=\"colab-df-container\">\n",
              "    <button class=\"colab-df-convert\" onclick=\"convertToInteractive('df-49ea8db6-f0b0-4c9d-893f-e450f5f6d4fa')\"\n",
              "            title=\"Convert this dataframe to an interactive table.\"\n",
              "            style=\"display:none;\">\n",
              "\n",
              "  <svg xmlns=\"http://www.w3.org/2000/svg\" height=\"24px\" viewBox=\"0 -960 960 960\">\n",
              "    <path d=\"M120-120v-720h720v720H120Zm60-500h600v-160H180v160Zm220 220h160v-160H400v160Zm0 220h160v-160H400v160ZM180-400h160v-160H180v160Zm440 0h160v-160H620v160ZM180-180h160v-160H180v160Zm440 0h160v-160H620v160Z\"/>\n",
              "  </svg>\n",
              "    </button>\n",
              "\n",
              "  <style>\n",
              "    .colab-df-container {\n",
              "      display:flex;\n",
              "      gap: 12px;\n",
              "    }\n",
              "\n",
              "    .colab-df-convert {\n",
              "      background-color: #E8F0FE;\n",
              "      border: none;\n",
              "      border-radius: 50%;\n",
              "      cursor: pointer;\n",
              "      display: none;\n",
              "      fill: #1967D2;\n",
              "      height: 32px;\n",
              "      padding: 0 0 0 0;\n",
              "      width: 32px;\n",
              "    }\n",
              "\n",
              "    .colab-df-convert:hover {\n",
              "      background-color: #E2EBFA;\n",
              "      box-shadow: 0px 1px 2px rgba(60, 64, 67, 0.3), 0px 1px 3px 1px rgba(60, 64, 67, 0.15);\n",
              "      fill: #174EA6;\n",
              "    }\n",
              "\n",
              "    .colab-df-buttons div {\n",
              "      margin-bottom: 4px;\n",
              "    }\n",
              "\n",
              "    [theme=dark] .colab-df-convert {\n",
              "      background-color: #3B4455;\n",
              "      fill: #D2E3FC;\n",
              "    }\n",
              "\n",
              "    [theme=dark] .colab-df-convert:hover {\n",
              "      background-color: #434B5C;\n",
              "      box-shadow: 0px 1px 3px 1px rgba(0, 0, 0, 0.15);\n",
              "      filter: drop-shadow(0px 1px 2px rgba(0, 0, 0, 0.3));\n",
              "      fill: #FFFFFF;\n",
              "    }\n",
              "  </style>\n",
              "\n",
              "    <script>\n",
              "      const buttonEl =\n",
              "        document.querySelector('#df-49ea8db6-f0b0-4c9d-893f-e450f5f6d4fa button.colab-df-convert');\n",
              "      buttonEl.style.display =\n",
              "        google.colab.kernel.accessAllowed ? 'block' : 'none';\n",
              "\n",
              "      async function convertToInteractive(key) {\n",
              "        const element = document.querySelector('#df-49ea8db6-f0b0-4c9d-893f-e450f5f6d4fa');\n",
              "        const dataTable =\n",
              "          await google.colab.kernel.invokeFunction('convertToInteractive',\n",
              "                                                    [key], {});\n",
              "        if (!dataTable) return;\n",
              "\n",
              "        const docLinkHtml = 'Like what you see? Visit the ' +\n",
              "          '<a target=\"_blank\" href=https://colab.research.google.com/notebooks/data_table.ipynb>data table notebook</a>'\n",
              "          + ' to learn more about interactive tables.';\n",
              "        element.innerHTML = '';\n",
              "        dataTable['output_type'] = 'display_data';\n",
              "        await google.colab.output.renderOutput(dataTable, element);\n",
              "        const docLink = document.createElement('div');\n",
              "        docLink.innerHTML = docLinkHtml;\n",
              "        element.appendChild(docLink);\n",
              "      }\n",
              "    </script>\n",
              "  </div>\n",
              "\n",
              "\n",
              "<div id=\"df-6e62e5aa-dd39-4c61-8747-44857aa4c5f0\">\n",
              "  <button class=\"colab-df-quickchart\" onclick=\"quickchart('df-6e62e5aa-dd39-4c61-8747-44857aa4c5f0')\"\n",
              "            title=\"Suggest charts\"\n",
              "            style=\"display:none;\">\n",
              "\n",
              "<svg xmlns=\"http://www.w3.org/2000/svg\" height=\"24px\"viewBox=\"0 0 24 24\"\n",
              "     width=\"24px\">\n",
              "    <g>\n",
              "        <path d=\"M19 3H5c-1.1 0-2 .9-2 2v14c0 1.1.9 2 2 2h14c1.1 0 2-.9 2-2V5c0-1.1-.9-2-2-2zM9 17H7v-7h2v7zm4 0h-2V7h2v10zm4 0h-2v-4h2v4z\"/>\n",
              "    </g>\n",
              "</svg>\n",
              "  </button>\n",
              "\n",
              "<style>\n",
              "  .colab-df-quickchart {\n",
              "      --bg-color: #E8F0FE;\n",
              "      --fill-color: #1967D2;\n",
              "      --hover-bg-color: #E2EBFA;\n",
              "      --hover-fill-color: #174EA6;\n",
              "      --disabled-fill-color: #AAA;\n",
              "      --disabled-bg-color: #DDD;\n",
              "  }\n",
              "\n",
              "  [theme=dark] .colab-df-quickchart {\n",
              "      --bg-color: #3B4455;\n",
              "      --fill-color: #D2E3FC;\n",
              "      --hover-bg-color: #434B5C;\n",
              "      --hover-fill-color: #FFFFFF;\n",
              "      --disabled-bg-color: #3B4455;\n",
              "      --disabled-fill-color: #666;\n",
              "  }\n",
              "\n",
              "  .colab-df-quickchart {\n",
              "    background-color: var(--bg-color);\n",
              "    border: none;\n",
              "    border-radius: 50%;\n",
              "    cursor: pointer;\n",
              "    display: none;\n",
              "    fill: var(--fill-color);\n",
              "    height: 32px;\n",
              "    padding: 0;\n",
              "    width: 32px;\n",
              "  }\n",
              "\n",
              "  .colab-df-quickchart:hover {\n",
              "    background-color: var(--hover-bg-color);\n",
              "    box-shadow: 0 1px 2px rgba(60, 64, 67, 0.3), 0 1px 3px 1px rgba(60, 64, 67, 0.15);\n",
              "    fill: var(--button-hover-fill-color);\n",
              "  }\n",
              "\n",
              "  .colab-df-quickchart-complete:disabled,\n",
              "  .colab-df-quickchart-complete:disabled:hover {\n",
              "    background-color: var(--disabled-bg-color);\n",
              "    fill: var(--disabled-fill-color);\n",
              "    box-shadow: none;\n",
              "  }\n",
              "\n",
              "  .colab-df-spinner {\n",
              "    border: 2px solid var(--fill-color);\n",
              "    border-color: transparent;\n",
              "    border-bottom-color: var(--fill-color);\n",
              "    animation:\n",
              "      spin 1s steps(1) infinite;\n",
              "  }\n",
              "\n",
              "  @keyframes spin {\n",
              "    0% {\n",
              "      border-color: transparent;\n",
              "      border-bottom-color: var(--fill-color);\n",
              "      border-left-color: var(--fill-color);\n",
              "    }\n",
              "    20% {\n",
              "      border-color: transparent;\n",
              "      border-left-color: var(--fill-color);\n",
              "      border-top-color: var(--fill-color);\n",
              "    }\n",
              "    30% {\n",
              "      border-color: transparent;\n",
              "      border-left-color: var(--fill-color);\n",
              "      border-top-color: var(--fill-color);\n",
              "      border-right-color: var(--fill-color);\n",
              "    }\n",
              "    40% {\n",
              "      border-color: transparent;\n",
              "      border-right-color: var(--fill-color);\n",
              "      border-top-color: var(--fill-color);\n",
              "    }\n",
              "    60% {\n",
              "      border-color: transparent;\n",
              "      border-right-color: var(--fill-color);\n",
              "    }\n",
              "    80% {\n",
              "      border-color: transparent;\n",
              "      border-right-color: var(--fill-color);\n",
              "      border-bottom-color: var(--fill-color);\n",
              "    }\n",
              "    90% {\n",
              "      border-color: transparent;\n",
              "      border-bottom-color: var(--fill-color);\n",
              "    }\n",
              "  }\n",
              "</style>\n",
              "\n",
              "  <script>\n",
              "    async function quickchart(key) {\n",
              "      const quickchartButtonEl =\n",
              "        document.querySelector('#' + key + ' button');\n",
              "      quickchartButtonEl.disabled = true;  // To prevent multiple clicks.\n",
              "      quickchartButtonEl.classList.add('colab-df-spinner');\n",
              "      try {\n",
              "        const charts = await google.colab.kernel.invokeFunction(\n",
              "            'suggestCharts', [key], {});\n",
              "      } catch (error) {\n",
              "        console.error('Error during call to suggestCharts:', error);\n",
              "      }\n",
              "      quickchartButtonEl.classList.remove('colab-df-spinner');\n",
              "      quickchartButtonEl.classList.add('colab-df-quickchart-complete');\n",
              "    }\n",
              "    (() => {\n",
              "      let quickchartButtonEl =\n",
              "        document.querySelector('#df-6e62e5aa-dd39-4c61-8747-44857aa4c5f0 button');\n",
              "      quickchartButtonEl.style.display =\n",
              "        google.colab.kernel.accessAllowed ? 'block' : 'none';\n",
              "    })();\n",
              "  </script>\n",
              "</div>\n",
              "    </div>\n",
              "  </div>\n"
            ]
          },
          "metadata": {},
          "execution_count": 20
        }
      ]
    },
    {
      "cell_type": "code",
      "source": [
        "# Get pixel data only\n",
        "alphabet_data = dataset_az.drop('0', axis=1)\n",
        "# mengambil data piksel dengan menghapus kolom '0' (kolom yang berisi label) dari dataset_az\n",
        "\n",
        "# Get labels only\n",
        "alphabet_labels = dataset_az['0']\n",
        "# mengambil hanya kolom '0' (kolom yang berisi label) sebagai data label dari dataset_az"
      ],
      "metadata": {
        "id": "dK6pP0b-o81T"
      },
      "execution_count": 21,
      "outputs": []
    },
    {
      "cell_type": "code",
      "source": [
        "# Check shape data\n",
        "alphabet_data.shape, alphabet_labels.shape\n",
        "# mencek kembali jumlah sampel gambar dan piksel nya"
      ],
      "metadata": {
        "id": "NllEoaiLpZhI",
        "colab": {
          "base_uri": "https://localhost:8080/"
        },
        "outputId": "2740617a-04c7-47c6-88f4-8e4c9dadb517"
      },
      "execution_count": 22,
      "outputs": [
        {
          "output_type": "execute_result",
          "data": {
            "text/plain": [
              "((372450, 784), (372450,))"
            ]
          },
          "metadata": {},
          "execution_count": 22
        }
      ]
    },
    {
      "cell_type": "code",
      "source": [
        "# Check shape labels\n",
        "alphabet_labels.shape\n",
        "# cek jumlah sampel gambar"
      ],
      "metadata": {
        "id": "UvE88zSkpe5e",
        "colab": {
          "base_uri": "https://localhost:8080/"
        },
        "outputId": "b68042d3-58b5-473d-fdd9-1fb3e03db601"
      },
      "execution_count": 23,
      "outputs": [
        {
          "output_type": "execute_result",
          "data": {
            "text/plain": [
              "(372450,)"
            ]
          },
          "metadata": {},
          "execution_count": 23
        }
      ]
    },
    {
      "cell_type": "code",
      "source": [
        "# Reshape pixel data to 28*28\n",
        "alphabet_data = np.reshape(alphabet_data.values, (alphabet_data.shape[0], 28, 28))\n",
        "# mereshape data piksel menjadi format 28x28 piksel per gambar\n",
        "\n",
        "# Check the result by its shape\n",
        "alphabet_data.shape\n",
        "# memeriksa hasil dari perubahan dimensi data piksel menjadi 28x28 piksel per gambar"
      ],
      "metadata": {
        "id": "9xps-5kjpio_",
        "colab": {
          "base_uri": "https://localhost:8080/"
        },
        "outputId": "e97f2b69-6f29-4dc3-9856-172b4bf466da"
      },
      "execution_count": 24,
      "outputs": [
        {
          "output_type": "execute_result",
          "data": {
            "text/plain": [
              "(372450, 28, 28)"
            ]
          },
          "metadata": {},
          "execution_count": 24
        }
      ]
    },
    {
      "cell_type": "code",
      "source": [
        "# Randomly checking A-Z dataset\n",
        "index = np.random.randint(0, alphabet_data.shape[0])\n",
        "# membuat variabel idx yang berisi indeks acak antara 0 hingga jumlah total gambar dalam dataset\n",
        "\n",
        "plt.imshow(alphabet_data[index], cmap = 'gray')\n",
        "# menampilkan gambar yang terletak pada indeks idx dari dataset digits_data dengan skala warna abu-abu\n",
        "\n",
        "plt.title('Class: ' + str(alphabet_labels[index]));\n",
        "# menambahkan judul pada gambar yang menunjukkan kelas e label dari gambar yang sesuai dengan index"
      ],
      "metadata": {
        "id": "tDTBbWSoqloX",
        "colab": {
          "base_uri": "https://localhost:8080/",
          "height": 452
        },
        "outputId": "2b8d08bd-6009-4201-86c0-ac2dcb546c6b"
      },
      "execution_count": 25,
      "outputs": [
        {
          "output_type": "display_data",
          "data": {
            "text/plain": [
              "<Figure size 640x480 with 1 Axes>"
            ],
            "image/png": "[encoded data removed]"
          },
          "metadata": {}
        }
      ]
    },
    {
      "cell_type": "code",
      "source": [
        "# Check data distribution\n",
        "df_az_labels = pd.DataFrame({\n",
        "    'Labels': alphabet_labels.values\n",
        "})\n",
        "sns.countplot(df_az_labels, x='Labels')\n",
        "# menampilkan plot distribusi data untuk dataset A-Z yang berisi jumlah kemunculan setiap label"
      ],
      "metadata": {
        "id": "72frSp_uqrjm",
        "colab": {
          "base_uri": "https://localhost:8080/",
          "height": 468
        },
        "outputId": "6927fd9c-fadd-46b4-8f53-67bdcec65b4f"
      },
      "execution_count": 26,
      "outputs": [
        {
          "output_type": "execute_result",
          "data": {
            "text/plain": [
              "<Axes: xlabel='Labels', ylabel='count'>"
            ]
          },
          "metadata": {},
          "execution_count": 26
        },
        {
          "output_type": "display_data",
          "data": {
            "text/plain": [
              "<Figure size 640x480 with 1 Axes>"
            ],
            "image/png": "[encoded data removed]"
          },
          "metadata": {}
        }
      ]
    },
    {
      "cell_type": "markdown",
      "source": [
        "## Combine Dataset (MNIST + Kaggel A-Z)"
      ],
      "metadata": {
        "id": "YZf14K79sdEC"
      }
    },
    {
      "cell_type": "code",
      "source": [
        "# Check unique value from digits_labels\n",
        "np.unique(digits_labels)\n",
        "# menampilkan nilai unik yang terdapat dalam array digits_labels"
      ],
      "metadata": {
        "id": "9voZzZ8Krqk4",
        "colab": {
          "base_uri": "https://localhost:8080/"
        },
        "outputId": "3f771b65-67a2-4685-daed-d45ee485af64"
      },
      "execution_count": 27,
      "outputs": [
        {
          "output_type": "execute_result",
          "data": {
            "text/plain": [
              "array([0, 1, 2, 3, 4, 5, 6, 7, 8, 9], dtype=uint8)"
            ]
          },
          "metadata": {},
          "execution_count": 27
        }
      ]
    },
    {
      "cell_type": "code",
      "source": [
        "# Check unique value from alphabet_labels\n",
        "np.unique(alphabet_labels)\n",
        "# menampilkan nilai unik yang terdapat dalam array alphabet_labels"
      ],
      "metadata": {
        "id": "9ZzBJFKxs1AF",
        "colab": {
          "base_uri": "https://localhost:8080/"
        },
        "outputId": "0f425fc8-ed14-4fe9-acde-498cec33116e"
      },
      "execution_count": 28,
      "outputs": [
        {
          "output_type": "execute_result",
          "data": {
            "text/plain": [
              "array([ 0.,  1.,  2.,  3.,  4.,  5.,  6.,  7.,  8.,  9., 10., 11., 12.,\n",
              "       13., 14., 15., 16., 17., 18., 19., 20., 21., 22., 23., 24., 25.],\n",
              "      dtype=float32)"
            ]
          },
          "metadata": {},
          "execution_count": 28
        }
      ]
    },
    {
      "cell_type": "code",
      "source": [
        "# We already know that digits labels containt labels from 0-9 (10 labels)\n",
        "# We also know that alphabet labels start from 0-25 which represent A-Z\n",
        "# If we want to combine them, the A-Z labels should continuing the digits label\n",
        "\n",
        "alphabet_labels += 10\n",
        "# menambahkan nilai 10 pada setiap elemen dalam alphabet_labels"
      ],
      "metadata": {
        "id": "dM0GV8lIsnzf"
      },
      "execution_count": 29,
      "outputs": []
    },
    {
      "cell_type": "code",
      "source": [
        "# check alphabet labels again\n",
        "np.unique(alphabet_labels)\n",
        "# menampilkan nilai unik yang terdapat dalam array alphabet_labels"
      ],
      "metadata": {
        "id": "42YKtJB-tQC6",
        "colab": {
          "base_uri": "https://localhost:8080/"
        },
        "outputId": "c1d7f8de-b586-4fda-8592-1360dfffc01b"
      },
      "execution_count": 30,
      "outputs": [
        {
          "output_type": "execute_result",
          "data": {
            "text/plain": [
              "array([10., 11., 12., 13., 14., 15., 16., 17., 18., 19., 20., 21., 22.,\n",
              "       23., 24., 25., 26., 27., 28., 29., 30., 31., 32., 33., 34., 35.],\n",
              "      dtype=float32)"
            ]
          },
          "metadata": {},
          "execution_count": 30
        }
      ]
    },
    {
      "cell_type": "code",
      "source": [
        "# Combine both of them\n",
        "data = np.vstack([alphabet_data, digits_data])\n",
        "labels = np.hstack([alphabet_labels, digits_labels])\n",
        "# menggabungkan kedua dataset, baik data piksel maupun labelnya"
      ],
      "metadata": {
        "id": "1ydXPXiItVVS"
      },
      "execution_count": 31,
      "outputs": []
    },
    {
      "cell_type": "code",
      "source": [
        "# Check the shape\n",
        "data.shape, labels.shape\n",
        "# menampilkan bentuk shape dari data dan label yang telah digabungkan"
      ],
      "metadata": {
        "id": "-vYLoXFjuLz7",
        "colab": {
          "base_uri": "https://localhost:8080/"
        },
        "outputId": "b3ceb924-04f2-4231-d400-92ce1c7b37e5"
      },
      "execution_count": 32,
      "outputs": [
        {
          "output_type": "execute_result",
          "data": {
            "text/plain": [
              "((442450, 28, 28), (442450,))"
            ]
          },
          "metadata": {},
          "execution_count": 32
        }
      ]
    },
    {
      "cell_type": "code",
      "source": [
        "# Check labels\n",
        "np.unique(labels)\n",
        "# menampilkan nilai unik yang terdapat dalam array labels yang sudah digabungkan"
      ],
      "metadata": {
        "id": "biyM6WueuRG6",
        "colab": {
          "base_uri": "https://localhost:8080/"
        },
        "outputId": "4df4cb52-7bbe-4730-9854-2b459275c015"
      },
      "execution_count": 33,
      "outputs": [
        {
          "output_type": "execute_result",
          "data": {
            "text/plain": [
              "array([ 0.,  1.,  2.,  3.,  4.,  5.,  6.,  7.,  8.,  9., 10., 11., 12.,\n",
              "       13., 14., 15., 16., 17., 18., 19., 20., 21., 22., 23., 24., 25.,\n",
              "       26., 27., 28., 29., 30., 31., 32., 33., 34., 35.], dtype=float32)"
            ]
          },
          "metadata": {},
          "execution_count": 33
        }
      ]
    },
    {
      "cell_type": "code",
      "source": [
        "# Convert data to float32\n",
        "data = np.array(data, dtype='float32')\n",
        "# mengubah tipe data dari array 'data' menjadi float32\n"
      ],
      "metadata": {
        "id": "vuEt24lhuVfy"
      },
      "execution_count": 34,
      "outputs": []
    },
    {
      "cell_type": "code",
      "source": [
        "# Since Convolutional need 3d data (including depth)\n",
        "# and our images only in 2d data (because in grayscale format)\n",
        "# we need to add \"the depth\" to the data\n",
        "data = np.expand_dims(data, axis=-1)\n",
        "# menambahkan \"kedalaman\" (depth) ke dalam data menggunakan np.expand_dims\n",
        "\n",
        "# check shape\n",
        "data.shape\n",
        "# memeriksa bentuk (shape) dari data setelah ditambahkan depth"
      ],
      "metadata": {
        "id": "UC6Vhz59ucdR",
        "colab": {
          "base_uri": "https://localhost:8080/"
        },
        "outputId": "0baaf4ef-e8eb-4d7b-a708-9ba648ebd030"
      },
      "execution_count": 35,
      "outputs": [
        {
          "output_type": "execute_result",
          "data": {
            "text/plain": [
              "(442450, 28, 28, 1)"
            ]
          },
          "metadata": {},
          "execution_count": 35
        }
      ]
    },
    {
      "cell_type": "markdown",
      "source": [
        "# Preprocessing"
      ],
      "metadata": {
        "id": "xF71lXtSu3YE"
      }
    },
    {
      "cell_type": "code",
      "source": [
        "# Normalize data\n",
        "data /= 255.0\n",
        "# melakukan normalisasi data dengan membagi setiap elemen dalam data dengan nilai 255.0"
      ],
      "metadata": {
        "id": "kFjjP_JLuzbm"
      },
      "execution_count": 36,
      "outputs": []
    },
    {
      "cell_type": "code",
      "source": [
        "# Check range value of data\n",
        "data[0].min(), data[0].max()\n",
        "# mencari nilai minimum dan maksimum dari elemen pertama di dataset data"
      ],
      "metadata": {
        "id": "zztStKZOu-Dy",
        "colab": {
          "base_uri": "https://localhost:8080/"
        },
        "outputId": "99a8fd06-7635-45e8-ebba-26793de5ebc7"
      },
      "execution_count": 37,
      "outputs": [
        {
          "output_type": "execute_result",
          "data": {
            "text/plain": [
              "(0.0, 1.0)"
            ]
          },
          "metadata": {},
          "execution_count": 37
        }
      ]
    },
    {
      "cell_type": "code",
      "source": [
        "# Enconde the labels\n",
        "# LabelBinarizer similar with OneHotEncoder\n",
        "le = LabelBinarizer()\n",
        "# membuat objek \"le\" LabelBinarizer yang akan digunakan untuk melakukan transformasi label.\n",
        "labels = le.fit_transform(labels)\n",
        "# mengonversi variabel 'labels' menjadi format biner menggunakan fit_transform() dari LabelBinarizer"
      ],
      "metadata": {
        "id": "s2C5yKEGu7vt"
      },
      "execution_count": 38,
      "outputs": []
    },
    {
      "cell_type": "code",
      "source": [
        "# Check labels shape\n",
        "labels.shape\n",
        "# untuk mengetahui bentuk (shape) dari variabel 'labels'"
      ],
      "metadata": {
        "id": "Bo1M5YEmvg5x",
        "colab": {
          "base_uri": "https://localhost:8080/"
        },
        "outputId": "d1debd42-2226-41ec-c80a-678f513b8432"
      },
      "execution_count": 39,
      "outputs": [
        {
          "output_type": "execute_result",
          "data": {
            "text/plain": [
              "(442450, 36)"
            ]
          },
          "metadata": {},
          "execution_count": 39
        }
      ]
    },
    {
      "cell_type": "code",
      "source": [
        "# Check data with label binarizer's label\n",
        "plt.imshow(data[30000].reshape(28,28), cmap='gray')\n",
        "plt.title(str(labels[30000]))\n",
        "# menampilkan gambar dari data pada indeks ke-30000 dengan skala warna abu-abu\n",
        "# dan menunjukkan label yang sesuai dari variabel labels pada indeks yang sama sebagai judul gambar"
      ],
      "metadata": {
        "id": "jCL5ipbsvjpw",
        "colab": {
          "base_uri": "https://localhost:8080/",
          "height": 469
        },
        "outputId": "145f305a-1198-4b39-e652-bdfae906ce63"
      },
      "execution_count": 40,
      "outputs": [
        {
          "output_type": "execute_result",
          "data": {
            "text/plain": [
              "Text(0.5, 1.0, '[0 0 0 0 0 0 0 0 0 0 0 0 1 0 0 0 0 0 0 0 0 0 0 0 0 0 0 0 0 0 0 0 0 0 0 0]')"
            ]
          },
          "metadata": {},
          "execution_count": 40
        },
        {
          "output_type": "display_data",
          "data": {
            "text/plain": [
              "<Figure size 640x480 with 1 Axes>"
            ],
            "image/png": "[encoded data removed]"
          },
          "metadata": {}
        }
      ]
    },
    {
      "cell_type": "code",
      "source": [
        "# Since our data is not balance, we will handle it by giving weight for 'small' data\n",
        "\n",
        "# Check number of data for each labels first\n",
        "classes_total = labels.sum(axis = 0)\n",
        "# menghitung jumlah total masing-masing kelas dengan menjumlahkan nilai pada setiap kolom (kelas) dari variabel labels\n",
        "\n",
        "classes_total"
      ],
      "metadata": {
        "id": "njDbZXKzvsx2",
        "colab": {
          "base_uri": "https://localhost:8080/"
        },
        "outputId": "dfd10f9d-457f-4c9c-b4b7-91f882ac633f"
      },
      "execution_count": 41,
      "outputs": [
        {
          "output_type": "execute_result",
          "data": {
            "text/plain": [
              "array([ 6903,  7877,  6990,  7141,  6824,  6313,  6876,  7293,  6825,\n",
              "        6958, 13869,  8668, 23409, 10134, 11440,  1163,  5762,  7218,\n",
              "        1120,  8493,  5603, 11586, 12336, 19010, 57825, 19341,  5812,\n",
              "       11566, 48419, 22495, 29008,  4182, 10784,  6272, 10859,  6076])"
            ]
          },
          "metadata": {},
          "execution_count": 41
        }
      ]
    },
    {
      "cell_type": "code",
      "source": [
        "# Check the biggest value of data\n",
        "classes_total.max()\n",
        "# mengecek nilai terbesar dalam array classes_total"
      ],
      "metadata": {
        "id": "R1hHYtGLv_ZO",
        "colab": {
          "base_uri": "https://localhost:8080/"
        },
        "outputId": "f1b36b8f-05f7-4ae2-8f95-cc476d62a981"
      },
      "execution_count": 42,
      "outputs": [
        {
          "output_type": "execute_result",
          "data": {
            "text/plain": [
              "57825"
            ]
          },
          "metadata": {},
          "execution_count": 42
        }
      ]
    },
    {
      "cell_type": "code",
      "source": [
        "# Create a weight for each data\n",
        "classes_weights = {}\n",
        "# untuk menyimpan \"bobot\" untuk setiap class.\n",
        "for i in range(0, len(classes_total)):\n",
        "  #print(i)\n",
        "  classes_weights[i] = classes_total.max() / classes_total[i]\n",
        "  #  digunakan untuk memeriksa setiap class dalam dataset\n",
        "# Check the weight for each data\n",
        "classes_weights\n",
        "# untuk menyimpan bobot dari hasil perbandingan tiap class"
      ],
      "metadata": {
        "id": "7TJFrxS2wFTO",
        "colab": {
          "base_uri": "https://localhost:8080/"
        },
        "outputId": "6e41e72f-aa29-4816-e7b4-0ce58355aac0"
      },
      "execution_count": 43,
      "outputs": [
        {
          "output_type": "execute_result",
          "data": {
            "text/plain": [
              "{0: 8.376792698826597,\n",
              " 1: 7.340992763742541,\n",
              " 2: 8.272532188841202,\n",
              " 3: 8.097605377398123,\n",
              " 4: 8.473769050410317,\n",
              " 5: 9.15967052114684,\n",
              " 6: 8.409685863874346,\n",
              " 7: 7.928835870012341,\n",
              " 8: 8.472527472527473,\n",
              " 9: 8.310577752227651,\n",
              " 10: 4.169370538611291,\n",
              " 11: 6.671089063221043,\n",
              " 12: 2.4702037677816224,\n",
              " 13: 5.7060390763765545,\n",
              " 14: 5.0546328671328675,\n",
              " 15: 49.72055030094583,\n",
              " 16: 10.035577924331829,\n",
              " 17: 8.011221945137157,\n",
              " 18: 51.629464285714285,\n",
              " 19: 6.808548216178029,\n",
              " 20: 10.320364090665715,\n",
              " 21: 4.990937338166753,\n",
              " 22: 4.6875,\n",
              " 23: 3.0418200946870066,\n",
              " 24: 1.0,\n",
              " 25: 2.989762680316426,\n",
              " 26: 9.94924294562973,\n",
              " 27: 4.999567698426422,\n",
              " 28: 1.1942625828703608,\n",
              " 29: 2.5705712380529007,\n",
              " 30: 1.993415609487038,\n",
              " 31: 13.827116212338593,\n",
              " 32: 5.362110534124629,\n",
              " 33: 9.21954719387755,\n",
              " 34: 5.3250759738465785,\n",
              " 35: 9.51695194206715}"
            ]
          },
          "metadata": {},
          "execution_count": 43
        }
      ]
    },
    {
      "cell_type": "markdown",
      "source": [
        "# Split Data to Train and Test"
      ],
      "metadata": {
        "id": "VtDS1O6JwSQ5"
      }
    },
    {
      "cell_type": "code",
      "source": [
        "X_train, X_test, y_train, y_test = train_test_split(data, labels, test_size = 0.2, random_state = 1, stratify = labels)\n",
        "# melakukan pemisahan dataset menjadi dua bagian, yaitu data latih (untuk melatih model) dan data uji (untuk menguji model)\n",
        "# juga memastikan bahwa distribusi kelas dalam data latih dan data uji sama seperti yang ada di dataset aslinya"
      ],
      "metadata": {
        "id": "rV62GJySwM2z"
      },
      "execution_count": 44,
      "outputs": []
    },
    {
      "cell_type": "markdown",
      "source": [
        "## Create Data Augmentation"
      ],
      "metadata": {
        "id": "q7Hs5GwGxw4E"
      }
    },
    {
      "cell_type": "code",
      "source": [
        "# Import library\n",
        "from tensorflow.keras.preprocessing.image import ImageDataGenerator"
      ],
      "metadata": {
        "id": "Xn1jiVn9x2Gx"
      },
      "execution_count": 45,
      "outputs": []
    },
    {
      "cell_type": "code",
      "source": [
        "augmentation = ImageDataGenerator(rotation_range = 10, zoom_range=0.05, width_shift_range=0.1,\n",
        "                                  height_shift_range=0.1, horizontal_flip = False)\n",
        "# untuk mengubah gambar-gambar dalam proses pelatihan model, seperti merotasi, zoom, dan lain lain"
      ],
      "metadata": {
        "id": "su41P3box6Zm"
      },
      "execution_count": 46,
      "outputs": []
    },
    {
      "cell_type": "markdown",
      "source": [
        "# Build CNN Model"
      ],
      "metadata": {
        "id": "GYwIT1TZw8SM"
      }
    },
    {
      "cell_type": "code",
      "source": [
        "# Import library\n",
        "from tensorflow.keras.models import Sequential\n",
        "from tensorflow.keras.layers import Conv2D, MaxPool2D, Flatten, Dense\n",
        "from tensorflow.keras.callbacks import ModelCheckpoint"
      ],
      "metadata": {
        "id": "nvQ2Ly4zwX8z"
      },
      "execution_count": 47,
      "outputs": []
    },
    {
      "cell_type": "code",
      "source": [
        "# Build the network\n",
        "network = Sequential()\n",
        "\n",
        "network.add(Conv2D(filters = 32, kernel_size=(3,3), activation='relu', input_shape=(28,28,1)))\n",
        "network.add(MaxPool2D(pool_size=(2,2)))\n",
        "\n",
        "network.add(Conv2D(filters = 64, kernel_size=(3,3), activation='relu', padding='same'))\n",
        "network.add(MaxPool2D(pool_size=(2,2)))\n",
        "\n",
        "network.add(Conv2D(filters = 128, kernel_size=(3,3), activation='relu', padding='valid'))\n",
        "network.add(MaxPool2D(pool_size=(2,2)))\n",
        "\n",
        "network.add(Flatten())\n",
        "\n",
        "network.add(Dense(64, activation = 'relu'))\n",
        "network.add(Dense(128, activation = 'relu'))\n",
        "\n",
        "network.add(Dense(36, activation='softmax'))\n",
        "\n",
        "network.compile(loss = 'categorical_crossentropy', optimizer = 'adam', metrics = ['accuracy'])\n",
        "# kode diatas adalah pendefinisian untuk membuat Convulitonal Neural Network (CNN)\n",
        "# dengan tujuan untuk melakukan klasifikasi pada gambar-gambar dengan ukuran 28x28 piksel yang terbagi dalam 36 kelas yang berbeda."
      ],
      "metadata": {
        "id": "icRreUChxAwF"
      },
      "execution_count": 48,
      "outputs": []
    },
    {
      "cell_type": "code",
      "source": [
        "# Check network summary\n",
        "network.summary()\n",
        "# menampilkan ringkasan dari network cnn yang telah dibuat sebelumnya"
      ],
      "metadata": {
        "id": "nAuCYbRWxIKl",
        "colab": {
          "base_uri": "https://localhost:8080/"
        },
        "outputId": "249f663a-75fc-440c-aa4f-4f5feeffe2d7"
      },
      "execution_count": 49,
      "outputs": [
        {
          "output_type": "stream",
          "name": "stdout",
          "text": [
            "Model: \"sequential\"\n",
            "_________________________________________________________________\n",
            " Layer (type)                Output Shape              Param #   \n",
            "=================================================================\n",
            " conv2d (Conv2D)             (None, 26, 26, 32)        320       \n",
            "                                                                 \n",
            " max_pooling2d (MaxPooling2  (None, 13, 13, 32)        0         \n",
            " D)                                                              \n",
            "                                                                 \n",
            " conv2d_1 (Conv2D)           (None, 13, 13, 64)        18496     \n",
            "                                                                 \n",
            " max_pooling2d_1 (MaxPoolin  (None, 6, 6, 64)          0         \n",
            " g2D)                                                            \n",
            "                                                                 \n",
            " conv2d_2 (Conv2D)           (None, 4, 4, 128)         73856     \n",
            "                                                                 \n",
            " max_pooling2d_2 (MaxPoolin  (None, 2, 2, 128)         0         \n",
            " g2D)                                                            \n",
            "                                                                 \n",
            " flatten (Flatten)           (None, 512)               0         \n",
            "                                                                 \n",
            " dense (Dense)               (None, 64)                32832     \n",
            "                                                                 \n",
            " dense_1 (Dense)             (None, 128)               8320      \n",
            "                                                                 \n",
            " dense_2 (Dense)             (None, 36)                4644      \n",
            "                                                                 \n",
            "=================================================================\n",
            "Total params: 138468 (540.89 KB)\n",
            "Trainable params: 138468 (540.89 KB)\n",
            "Non-trainable params: 0 (0.00 Byte)\n",
            "_________________________________________________________________\n"
          ]
        }
      ]
    },
    {
      "cell_type": "code",
      "source": [
        "# Create actual labels\n",
        "name_labels = '0123456789'  # inisialisasi string dengan angka dari 0 hingga 9\n",
        "\n",
        "# menambahkan karakter alfabet dari A-Z ke dalam string name_labels\n",
        "name_labels += 'ABCDEFGHIJKLMNOPQRSTUVWXYZ'\n",
        "\n",
        "# mengonversi string name_labels menjadi list dengan setiap karakter sebagai elemen\n",
        "name_labels = [l for l in name_labels]\n",
        "\n",
        "# Check actual label\n",
        "print(name_labels)"
      ],
      "metadata": {
        "id": "o7Vc4ly2xMhk",
        "colab": {
          "base_uri": "https://localhost:8080/"
        },
        "outputId": "eb821b09-1ae3-4020-a3d4-ce508000cb47"
      },
      "execution_count": 50,
      "outputs": [
        {
          "output_type": "stream",
          "name": "stdout",
          "text": [
            "['0', '1', '2', '3', '4', '5', '6', '7', '8', '9', 'A', 'B', 'C', 'D', 'E', 'F', 'G', 'H', 'I', 'J', 'K', 'L', 'M', 'N', 'O', 'P', 'Q', 'R', 'S', 'T', 'U', 'V', 'W', 'X', 'Y', 'Z']\n"
          ]
        }
      ]
    },
    {
      "cell_type": "markdown",
      "source": [
        "## Train model"
      ],
      "metadata": {
        "id": "DH7hSW38xX6e"
      }
    },
    {
      "cell_type": "code",
      "source": [
        "# Set model name, epoch, and batch size\n",
        "file_model = 'custom_ocr.model' # nama file untuk menyimpan model setelah pelatihan selesai\n",
        "epochs = 20 # jumlah iterasi ketika melatih model\n",
        "batch_size = 128 # jumlah sampel data yang digunakan untuk menghitung nilai gradient"
      ],
      "metadata": {
        "id": "rNQ_-PY7xVRD"
      },
      "execution_count": 51,
      "outputs": []
    },
    {
      "cell_type": "code",
      "source": [
        "# Setup checkpoint\n",
        "checkpointer = ModelCheckpoint(file_model, monitor = 'val_loss', verbose = 1, save_best_only=True)\n",
        "# untuk menyimpan model saat melatih neural network"
      ],
      "metadata": {
        "id": "F8Orj5UQxdtr"
      },
      "execution_count": 52,
      "outputs": []
    },
    {
      "cell_type": "code",
      "source": [
        "# Fit the model\n",
        "history = network.fit(augmentation.flow(X_train, y_train, batch_size=batch_size),  # melatih model dengan data augmentasi\n",
        "                      validation_data=(X_test, y_test),  # data validasi\n",
        "                      steps_per_epoch=len(X_train) // batch_size,  # langkah per epoch (jumlah batch per epoch)\n",
        "                      epochs=epochs,  # jumlah epoch\n",
        "                      class_weight=classes_weights,  # Bobot class jika terjadi ketidakseimbangan class\n",
        "                      verbose=1,  # nenampilkan informasi detail saat melatih\n",
        "                      callbacks=[checkpointer])  # menggunakan callback checkpointer untuk menyimpan model terbaik\n"
      ],
      "metadata": {
        "id": "enFAwiaxxkgx",
        "colab": {
          "base_uri": "https://localhost:8080/"
        },
        "outputId": "18222a2e-246e-498d-b242-ed6a7e3969f2"
      },
      "execution_count": 53,
      "outputs": [
        {
          "output_type": "stream",
          "name": "stdout",
          "text": [
            "Epoch 1/20\n",
            "2765/2765 [==============================] - ETA: 0s - loss: 2.1961 - accuracy: 0.8232\n",
            "Epoch 1: val_loss improved from inf to 0.30085, saving model to custom_ocr.model\n",
            "2765/2765 [==============================] - 153s 52ms/step - loss: 2.1961 - accuracy: 0.8232 - val_loss: 0.3009 - val_accuracy: 0.8710\n",
            "Epoch 2/20\n",
            "2765/2765 [==============================] - ETA: 0s - loss: 0.9961 - accuracy: 0.8991\n",
            "Epoch 2: val_loss improved from 0.30085 to 0.26588, saving model to custom_ocr.model\n",
            "2765/2765 [==============================] - 136s 49ms/step - loss: 0.9961 - accuracy: 0.8991 - val_loss: 0.2659 - val_accuracy: 0.8934\n",
            "Epoch 3/20\n",
            "2765/2765 [==============================] - ETA: 0s - loss: 0.8252 - accuracy: 0.9122\n",
            "Epoch 3: val_loss improved from 0.26588 to 0.14553, saving model to custom_ocr.model\n",
            "2765/2765 [==============================] - 125s 45ms/step - loss: 0.8252 - accuracy: 0.9122 - val_loss: 0.1455 - val_accuracy: 0.9540\n",
            "Epoch 4/20\n",
            "2764/2765 [============================>.] - ETA: 0s - loss: 0.7383 - accuracy: 0.9197\n",
            "Epoch 4: val_loss did not improve from 0.14553\n",
            "2765/2765 [==============================] - 132s 48ms/step - loss: 0.7386 - accuracy: 0.9197 - val_loss: 0.2609 - val_accuracy: 0.8974\n",
            "Epoch 5/20\n",
            "2764/2765 [============================>.] - ETA: 0s - loss: 0.6621 - accuracy: 0.9261\n",
            "Epoch 5: val_loss did not improve from 0.14553\n",
            "2765/2765 [==============================] - 133s 48ms/step - loss: 0.6619 - accuracy: 0.9261 - val_loss: 0.2676 - val_accuracy: 0.8919\n",
            "Epoch 6/20\n",
            "2765/2765 [==============================] - ETA: 0s - loss: 0.6278 - accuracy: 0.9299\n",
            "Epoch 6: val_loss did not improve from 0.14553\n",
            "2765/2765 [==============================] - 128s 46ms/step - loss: 0.6278 - accuracy: 0.9299 - val_loss: 0.2291 - val_accuracy: 0.9068\n",
            "Epoch 7/20\n",
            "2764/2765 [============================>.] - ETA: 0s - loss: 0.5922 - accuracy: 0.9330\n",
            "Epoch 7: val_loss did not improve from 0.14553\n",
            "2765/2765 [==============================] - 133s 48ms/step - loss: 0.5921 - accuracy: 0.9330 - val_loss: 0.1946 - val_accuracy: 0.9249\n",
            "Epoch 8/20\n",
            "2764/2765 [============================>.] - ETA: 0s - loss: 0.5629 - accuracy: 0.9359\n",
            "Epoch 8: val_loss did not improve from 0.14553\n",
            "2765/2765 [==============================] - 134s 48ms/step - loss: 0.5628 - accuracy: 0.9359 - val_loss: 0.2963 - val_accuracy: 0.8822\n",
            "Epoch 9/20\n",
            "2764/2765 [============================>.] - ETA: 0s - loss: 0.5301 - accuracy: 0.9379\n",
            "Epoch 9: val_loss did not improve from 0.14553\n",
            "2765/2765 [==============================] - 129s 46ms/step - loss: 0.5300 - accuracy: 0.9379 - val_loss: 0.2743 - val_accuracy: 0.8893\n",
            "Epoch 10/20\n",
            "2765/2765 [==============================] - ETA: 0s - loss: 0.5213 - accuracy: 0.9389\n",
            "Epoch 10: val_loss did not improve from 0.14553\n",
            "2765/2765 [==============================] - 133s 48ms/step - loss: 0.5213 - accuracy: 0.9389 - val_loss: 0.3314 - val_accuracy: 0.8695\n",
            "Epoch 11/20\n",
            "2765/2765 [==============================] - ETA: 0s - loss: 0.4990 - accuracy: 0.9405\n",
            "Epoch 11: val_loss did not improve from 0.14553\n",
            "2765/2765 [==============================] - 131s 47ms/step - loss: 0.4990 - accuracy: 0.9405 - val_loss: 0.2707 - val_accuracy: 0.8800\n",
            "Epoch 12/20\n",
            "2764/2765 [============================>.] - ETA: 0s - loss: 0.4797 - accuracy: 0.9419\n",
            "Epoch 12: val_loss did not improve from 0.14553\n",
            "2765/2765 [==============================] - 126s 46ms/step - loss: 0.4797 - accuracy: 0.9419 - val_loss: 0.2438 - val_accuracy: 0.8954\n",
            "Epoch 13/20\n",
            "2764/2765 [============================>.] - ETA: 0s - loss: 0.4775 - accuracy: 0.9421\n",
            "Epoch 13: val_loss did not improve from 0.14553\n",
            "2765/2765 [==============================] - 131s 47ms/step - loss: 0.4777 - accuracy: 0.9421 - val_loss: 0.2323 - val_accuracy: 0.9023\n",
            "Epoch 14/20\n",
            "2765/2765 [==============================] - ETA: 0s - loss: 0.4593 - accuracy: 0.9438\n",
            "Epoch 14: val_loss did not improve from 0.14553\n",
            "2765/2765 [==============================] - 126s 46ms/step - loss: 0.4593 - accuracy: 0.9438 - val_loss: 0.3184 - val_accuracy: 0.8626\n",
            "Epoch 15/20\n",
            "2765/2765 [==============================] - ETA: 0s - loss: 0.4500 - accuracy: 0.9449\n",
            "Epoch 15: val_loss did not improve from 0.14553\n",
            "2765/2765 [==============================] - 133s 48ms/step - loss: 0.4500 - accuracy: 0.9449 - val_loss: 0.2514 - val_accuracy: 0.8861\n",
            "Epoch 16/20\n",
            "2765/2765 [==============================] - ETA: 0s - loss: 0.4452 - accuracy: 0.9452\n",
            "Epoch 16: val_loss did not improve from 0.14553\n",
            "2765/2765 [==============================] - 134s 49ms/step - loss: 0.4452 - accuracy: 0.9452 - val_loss: 0.2026 - val_accuracy: 0.9158\n",
            "Epoch 17/20\n",
            "2765/2765 [==============================] - ETA: 0s - loss: 0.4357 - accuracy: 0.9455\n",
            "Epoch 17: val_loss did not improve from 0.14553\n",
            "2765/2765 [==============================] - 128s 46ms/step - loss: 0.4357 - accuracy: 0.9455 - val_loss: 0.1821 - val_accuracy: 0.9288\n",
            "Epoch 18/20\n",
            "2765/2765 [==============================] - ETA: 0s - loss: 0.4313 - accuracy: 0.9461\n",
            "Epoch 18: val_loss did not improve from 0.14553\n",
            "2765/2765 [==============================] - 135s 49ms/step - loss: 0.4313 - accuracy: 0.9461 - val_loss: 0.2233 - val_accuracy: 0.9091\n",
            "Epoch 19/20\n",
            "2765/2765 [==============================] - ETA: 0s - loss: 0.4276 - accuracy: 0.9472\n",
            "Epoch 19: val_loss did not improve from 0.14553\n",
            "2765/2765 [==============================] - 133s 48ms/step - loss: 0.4276 - accuracy: 0.9472 - val_loss: 0.2136 - val_accuracy: 0.9123\n",
            "Epoch 20/20\n",
            "2765/2765 [==============================] - ETA: 0s - loss: 0.4174 - accuracy: 0.9479\n",
            "Epoch 20: val_loss did not improve from 0.14553\n",
            "2765/2765 [==============================] - 124s 45ms/step - loss: 0.4174 - accuracy: 0.9479 - val_loss: 0.1878 - val_accuracy: 0.9211\n"
          ]
        }
      ]
    },
    {
      "cell_type": "markdown",
      "source": [
        "# Evaluate Model"
      ],
      "metadata": {
        "id": "bM4mGoWL6jxk"
      }
    },
    {
      "cell_type": "markdown",
      "source": [
        "## Make a Single Prediction"
      ],
      "metadata": {
        "id": "ig0TiV6N7V29"
      }
    },
    {
      "cell_type": "markdown",
      "source": [],
      "metadata": {
        "id": "5pbMkmvg7V0i"
      }
    },
    {
      "cell_type": "code",
      "source": [
        "# make a prediction\n",
        "predictions = network.predict(X_test, batch_size=batch_size)\n",
        "# melakukan prediksi menggunakan model pada data X_test\n",
        "# hasil prediksi akan disimpan dalam variabel 'predictions'"
      ],
      "metadata": {
        "id": "WDJUSW-l6lEl",
        "colab": {
          "base_uri": "https://localhost:8080/"
        },
        "outputId": "7f3a831c-7e69-42f3-8f15-5564679fd96a"
      },
      "execution_count": 54,
      "outputs": [
        {
          "output_type": "stream",
          "name": "stdout",
          "text": [
            "692/692 [==============================] - 2s 2ms/step\n"
          ]
        }
      ]
    },
    {
      "cell_type": "code",
      "source": [
        "# Check prediction for data-0\n",
        "# You will get the probability for each label\n",
        "# The highest one is the prediction\n",
        "predictions[1]\n",
        "\n",
        "# menampilkan prediksi pada indeks ke-1"
      ],
      "metadata": {
        "id": "tQ5Ta4b96pEt",
        "colab": {
          "base_uri": "https://localhost:8080/"
        },
        "outputId": "61c2e93e-4488-4259-f5b7-8af696f737bd"
      },
      "execution_count": 55,
      "outputs": [
        {
          "output_type": "execute_result",
          "data": {
            "text/plain": [
              "array([1.74369699e-19, 7.49658834e-16, 1.13118976e-12, 2.52451701e-24,\n",
              "       3.26564288e-19, 7.96393252e-15, 1.12920593e-17, 7.29301720e-16,\n",
              "       3.99451722e-18, 2.05714749e-21, 2.11255060e-16, 3.47318746e-17,\n",
              "       1.20539239e-13, 3.78079457e-10, 6.02846223e-15, 9.34643767e-15,\n",
              "       3.83527286e-15, 1.35485346e-13, 9.99998450e-01, 1.53020665e-06,\n",
              "       2.61556578e-17, 2.64125305e-10, 2.94499131e-25, 1.30349156e-17,\n",
              "       8.73719012e-13, 4.24379819e-17, 2.50359606e-20, 9.95173806e-22,\n",
              "       5.45696951e-12, 1.39119374e-08, 1.48120025e-12, 6.72615751e-23,\n",
              "       3.23493122e-19, 6.89813934e-19, 3.02441889e-14, 5.41000723e-14],\n",
              "      dtype=float32)"
            ]
          },
          "metadata": {},
          "execution_count": 55
        }
      ]
    },
    {
      "cell_type": "code",
      "source": [
        "# Get the actual prediction -> highest probability\n",
        "np.argmax(predictions[1])\n",
        "# menampilkan prediksi dengan probabilitas tertinggi"
      ],
      "metadata": {
        "id": "9THTrYAH64g8",
        "colab": {
          "base_uri": "https://localhost:8080/"
        },
        "outputId": "299598e4-f8c1-4d2f-c417-137ebc778dbd"
      },
      "execution_count": 56,
      "outputs": [
        {
          "output_type": "execute_result",
          "data": {
            "text/plain": [
              "18"
            ]
          },
          "metadata": {},
          "execution_count": 56
        }
      ]
    },
    {
      "cell_type": "code",
      "source": [
        "# Check label for 24\n",
        "name_labels[18] # menampilkan label pada indeks ke-18"
      ],
      "metadata": {
        "id": "pG6n2eTI6-Ly",
        "colab": {
          "base_uri": "https://localhost:8080/",
          "height": 35
        },
        "outputId": "60d83a57-5fae-43ba-f213-d23806dc2f98"
      },
      "execution_count": 57,
      "outputs": [
        {
          "output_type": "execute_result",
          "data": {
            "text/plain": [
              "'I'"
            ],
            "application/vnd.google.colaboratory.intrinsic+json": {
              "type": "string"
            }
          },
          "metadata": {},
          "execution_count": 57
        }
      ]
    },
    {
      "cell_type": "code",
      "source": [
        "# Check y_test label for 0\n",
        "y_test[1]\n",
        "# menampilkan isi label pada indeks ke-1"
      ],
      "metadata": {
        "id": "chDSvyYq7Bxq",
        "colab": {
          "base_uri": "https://localhost:8080/"
        },
        "outputId": "63fcec8c-eba4-4cd0-b659-ad71b757fb4d"
      },
      "execution_count": 58,
      "outputs": [
        {
          "output_type": "execute_result",
          "data": {
            "text/plain": [
              "array([0, 0, 0, 0, 0, 0, 0, 0, 0, 0, 0, 0, 0, 0, 0, 0, 0, 0, 1, 0, 0, 0,\n",
              "       0, 0, 0, 0, 0, 0, 0, 0, 0, 0, 0, 0, 0, 0])"
            ]
          },
          "metadata": {},
          "execution_count": 58
        }
      ]
    },
    {
      "cell_type": "code",
      "source": [
        "# check the highest value\n",
        "np.argmax(y_test[1])\n",
        "# menampilkan label dengan nilai terbesar pada indeks ke-1"
      ],
      "metadata": {
        "id": "BpoE99Us7KpZ",
        "colab": {
          "base_uri": "https://localhost:8080/"
        },
        "outputId": "bd8a908c-e019-45e2-aa61-f0d2a433a235"
      },
      "execution_count": 59,
      "outputs": [
        {
          "output_type": "execute_result",
          "data": {
            "text/plain": [
              "18"
            ]
          },
          "metadata": {},
          "execution_count": 59
        }
      ]
    },
    {
      "cell_type": "code",
      "source": [
        "# Check the label of y_test 0\n",
        "name_labels[np.argmax(y_test[18])]\n",
        "# menampilkan label dari y_test indeks ke-18"
      ],
      "metadata": {
        "id": "KjJRX1lC7Ppw",
        "colab": {
          "base_uri": "https://localhost:8080/",
          "height": 35
        },
        "outputId": "1431be88-9d1c-4929-eaea-45137a2a5a07"
      },
      "execution_count": 60,
      "outputs": [
        {
          "output_type": "execute_result",
          "data": {
            "text/plain": [
              "'S'"
            ],
            "application/vnd.google.colaboratory.intrinsic+json": {
              "type": "string"
            }
          },
          "metadata": {},
          "execution_count": 60
        }
      ]
    },
    {
      "cell_type": "markdown",
      "source": [
        "## Make an Evaluation on Test Data"
      ],
      "metadata": {
        "id": "_xFS3-cs7a0x"
      }
    },
    {
      "cell_type": "code",
      "source": [
        "# Evaluate on test data\n",
        "network.evaluate(X_test, y_test)\n",
        "# untuk mengevaluasi performa model neural network pada data uji, seperti nilai loss dll"
      ],
      "metadata": {
        "id": "t-rko8WP7TYA",
        "colab": {
          "base_uri": "https://localhost:8080/"
        },
        "outputId": "b8349e65-3d6b-40f6-a256-7aa823c9bcdb"
      },
      "execution_count": 61,
      "outputs": [
        {
          "output_type": "stream",
          "name": "stdout",
          "text": [
            "2766/2766 [==============================] - 10s 3ms/step - loss: 0.1878 - accuracy: 0.9211\n"
          ]
        },
        {
          "output_type": "execute_result",
          "data": {
            "text/plain": [
              "[0.18775324523448944, 0.921064555644989]"
            ]
          },
          "metadata": {},
          "execution_count": 61
        }
      ]
    },
    {
      "cell_type": "code",
      "source": [
        "# Print Classification Report\n",
        "print(classification_report(y_test.argmax(axis=1), predictions.argmax(axis=1), target_names = name_labels))\n",
        "#  mencetak laporan klasifikasi yang menyajikan sejumlah metrik evaluasi seperti presisi (precision), recall,\n",
        "#dan nilai F1 untuk setiap kelas atau label yang ada dalam data uji."
      ],
      "metadata": {
        "id": "VkQtgoCq7gx2",
        "colab": {
          "base_uri": "https://localhost:8080/"
        },
        "outputId": "9ad86170-4c75-44e2-bab1-dd0c589b88cf"
      },
      "execution_count": 62,
      "outputs": [
        {
          "output_type": "stream",
          "name": "stdout",
          "text": [
            "              precision    recall  f1-score   support\n",
            "\n",
            "           0       0.21      0.82      0.33      1381\n",
            "           1       0.96      0.99      0.98      1575\n",
            "           2       0.87      0.99      0.92      1398\n",
            "           3       0.96      0.99      0.98      1428\n",
            "           4       0.90      0.97      0.94      1365\n",
            "           5       0.64      0.95      0.77      1263\n",
            "           6       0.95      0.97      0.96      1375\n",
            "           7       0.96      0.99      0.97      1459\n",
            "           8       0.92      0.99      0.95      1365\n",
            "           9       0.97      0.96      0.97      1392\n",
            "           A       1.00      0.99      0.99      2774\n",
            "           B       0.96      0.99      0.97      1734\n",
            "           C       1.00      0.97      0.98      4682\n",
            "           D       0.90      0.97      0.93      2027\n",
            "           E       1.00      0.98      0.99      2288\n",
            "           F       0.97      1.00      0.98       233\n",
            "           G       0.94      0.96      0.95      1152\n",
            "           H       0.99      0.97      0.98      1444\n",
            "           I       0.97      0.99      0.98       224\n",
            "           J       0.99      0.95      0.97      1698\n",
            "           K       0.92      1.00      0.96      1121\n",
            "           L       0.98      0.98      0.98      2317\n",
            "           M       0.98      1.00      0.99      2467\n",
            "           N       0.99      0.99      0.99      3802\n",
            "           O       0.97      0.62      0.75     11565\n",
            "           P       1.00      0.98      0.99      3868\n",
            "           Q       0.96      0.97      0.97      1162\n",
            "           R       0.99      0.98      0.99      2313\n",
            "           S       0.99      0.92      0.96      9684\n",
            "           T       0.99      0.99      0.99      4499\n",
            "           U       0.99      0.97      0.98      5801\n",
            "           V       0.95      1.00      0.97       836\n",
            "           W       0.98      0.99      0.99      2157\n",
            "           X       0.97      0.99      0.98      1254\n",
            "           Y       0.99      0.93      0.96      2172\n",
            "           Z       0.98      0.88      0.93      1215\n",
            "\n",
            "    accuracy                           0.92     88490\n",
            "   macro avg       0.94      0.96      0.94     88490\n",
            "weighted avg       0.96      0.92      0.93     88490\n",
            "\n"
          ]
        }
      ]
    },
    {
      "cell_type": "code",
      "source": [
        "# Visualize loss value for each epoch\n",
        "plt.plot(history.history['val_loss'])\n",
        "# membuat visualisasi dari nilai loss pada data validasi (val_loss) selama proses pelatihan model"
      ],
      "metadata": {
        "id": "mIETfqMu7nv1",
        "colab": {
          "base_uri": "https://localhost:8080/",
          "height": 447
        },
        "outputId": "afe89fef-ff15-4822-c47b-589aa74886f4"
      },
      "execution_count": 63,
      "outputs": [
        {
          "output_type": "execute_result",
          "data": {
            "text/plain": [
              "[<matplotlib.lines.Line2D at 0x78e3ea2badd0>]"
            ]
          },
          "metadata": {},
          "execution_count": 63
        },
        {
          "output_type": "display_data",
          "data": {
            "text/plain": [
              "<Figure size 640x480 with 1 Axes>"
            ],
            "image/png": "[encoded data removed]"
          },
          "metadata": {}
        }
      ]
    },
    {
      "cell_type": "code",
      "source": [
        "# You can also check the another metrics\n",
        "history.history.keys()\n",
        "# untuk mengcek metriks yang lain"
      ],
      "metadata": {
        "id": "mNUP1QP17vas",
        "colab": {
          "base_uri": "https://localhost:8080/"
        },
        "outputId": "996d299b-d953-42a0-9cea-f9b961276b5b"
      },
      "execution_count": 64,
      "outputs": [
        {
          "output_type": "execute_result",
          "data": {
            "text/plain": [
              "dict_keys(['loss', 'accuracy', 'val_loss', 'val_accuracy'])"
            ]
          },
          "metadata": {},
          "execution_count": 64
        }
      ]
    },
    {
      "cell_type": "code",
      "source": [
        "# Check the model performance by validation accuracy\n",
        "plt.plot(history.history['val_accuracy'])\n",
        "# visualisasi dari metrik akurasi pada data validasi (val_accuracy) selama proses pelatihan model"
      ],
      "metadata": {
        "id": "VwEZzjEa716s",
        "colab": {
          "base_uri": "https://localhost:8080/",
          "height": 447
        },
        "outputId": "89ee25db-2448-4390-c3ea-57cb2d2ff867"
      },
      "execution_count": 65,
      "outputs": [
        {
          "output_type": "execute_result",
          "data": {
            "text/plain": [
              "[<matplotlib.lines.Line2D at 0x78e3ea33b1f0>]"
            ]
          },
          "metadata": {},
          "execution_count": 65
        },
        {
          "output_type": "display_data",
          "data": {
            "text/plain": [
              "<Figure size 640x480 with 1 Axes>"
            ],
            "image/png": "[encoded data removed]"
          },
          "metadata": {}
        }
      ]
    },
    {
      "cell_type": "markdown",
      "source": [
        "# Save The Model"
      ],
      "metadata": {
        "id": "D0rviDyl79Bk"
      }
    },
    {
      "cell_type": "code",
      "source": [
        "# The result will show in colab directory\n",
        "network.save('network', save_format= 'h5')\n",
        "# mensimpan hasil modelnya"
      ],
      "metadata": {
        "id": "QZ4ftlmq76nC",
        "colab": {
          "base_uri": "https://localhost:8080/"
        },
        "outputId": "589225db-d431-4dd5-baf7-42d777e299d1"
      },
      "execution_count": 66,
      "outputs": [
        {
          "output_type": "stream",
          "name": "stderr",
          "text": [
            "/usr/local/lib/python3.10/dist-packages/keras/src/engine/training.py:3079: UserWarning: You are saving your model as an HDF5 file via `model.save()`. This file format is considered legacy. We recommend using instead the native Keras format, e.g. `model.save('my_model.keras')`.\n",
            "  saving_api.save_model(\n"
          ]
        }
      ]
    },
    {
      "cell_type": "markdown",
      "source": [
        "# Testing on Real Image"
      ],
      "metadata": {
        "id": "A3EWZVrz0YDV"
      }
    },
    {
      "cell_type": "code",
      "source": [
        "# Import library\n",
        "from tensorflow.keras.models import load_model"
      ],
      "metadata": {
        "id": "1wUedJB-0Z_q"
      },
      "execution_count": 67,
      "outputs": []
    },
    {
      "cell_type": "code",
      "source": [
        "# Load saved network\n",
        "load_network = load_model('network')\n",
        "# menload kembali network yang telah tersimpan"
      ],
      "metadata": {
        "id": "D6E24QOm0hiB"
      },
      "execution_count": 68,
      "outputs": []
    },
    {
      "cell_type": "code",
      "source": [
        "# Check summary\n",
        "load_network.summary()\n",
        "# menampilkan lagi network yang telah dibuat sebelumnya"
      ],
      "metadata": {
        "id": "0cB7lmOc0nlR",
        "colab": {
          "base_uri": "https://localhost:8080/"
        },
        "outputId": "026e2ff4-85f9-48a6-a301-578c711a7310"
      },
      "execution_count": 69,
      "outputs": [
        {
          "output_type": "stream",
          "name": "stdout",
          "text": [
            "Model: \"sequential\"\n",
            "_________________________________________________________________\n",
            " Layer (type)                Output Shape              Param #   \n",
            "=================================================================\n",
            " conv2d (Conv2D)             (None, 26, 26, 32)        320       \n",
            "                                                                 \n",
            " max_pooling2d (MaxPooling2  (None, 13, 13, 32)        0         \n",
            " D)                                                              \n",
            "                                                                 \n",
            " conv2d_1 (Conv2D)           (None, 13, 13, 64)        18496     \n",
            "                                                                 \n",
            " max_pooling2d_1 (MaxPoolin  (None, 6, 6, 64)          0         \n",
            " g2D)                                                            \n",
            "                                                                 \n",
            " conv2d_2 (Conv2D)           (None, 4, 4, 128)         73856     \n",
            "                                                                 \n",
            " max_pooling2d_2 (MaxPoolin  (None, 2, 2, 128)         0         \n",
            " g2D)                                                            \n",
            "                                                                 \n",
            " flatten (Flatten)           (None, 512)               0         \n",
            "                                                                 \n",
            " dense (Dense)               (None, 64)                32832     \n",
            "                                                                 \n",
            " dense_1 (Dense)             (None, 128)               8320      \n",
            "                                                                 \n",
            " dense_2 (Dense)             (None, 36)                4644      \n",
            "                                                                 \n",
            "=================================================================\n",
            "Total params: 138468 (540.89 KB)\n",
            "Trainable params: 138468 (540.89 KB)\n",
            "Non-trainable params: 0 (0.00 Byte)\n",
            "_________________________________________________________________\n"
          ]
        }
      ]
    },
    {
      "cell_type": "code",
      "source": [
        "# Load Image\n",
        "import cv2\n",
        "from google.colab.patches import cv2_imshow\n",
        "\n",
        "img = cv2.imread('/content/sample_data/b_small.png')\n",
        "cv2_imshow(img)\n",
        "\n",
        "# membaca gambar pada direktori dan menyimpannya ke img"
      ],
      "metadata": {
        "id": "hbnaTxZK07JW",
        "colab": {
          "base_uri": "https://localhost:8080/",
          "height": 317
        },
        "outputId": "e93f0101-1da1-4749-a028-4b2c44bcfbf4"
      },
      "execution_count": 70,
      "outputs": [
        {
          "output_type": "display_data",
          "data": {
            "text/plain": [
              "<PIL.Image.Image image mode=RGB size=300x300>"
            ],
            "image/png": "[encoded data removed]"
          },
          "metadata": {}
        }
      ]
    },
    {
      "cell_type": "code",
      "source": [
        "# Check shape\n",
        "img.shape\n",
        "# untuk mengecek shape seperti tinggi lebar nya gambar, 3 merupakan warna yang ada pada gambar diatas"
      ],
      "metadata": {
        "id": "EfDOYN6D1OZ9",
        "colab": {
          "base_uri": "https://localhost:8080/"
        },
        "outputId": "b55c8c78-ec07-458d-dc97-f44f8bbaa2f5"
      },
      "execution_count": 71,
      "outputs": [
        {
          "output_type": "execute_result",
          "data": {
            "text/plain": [
              "(300, 300, 3)"
            ]
          },
          "metadata": {},
          "execution_count": 71
        }
      ]
    },
    {
      "cell_type": "code",
      "source": [
        "# Convert to gray\n",
        "gray_img = cv2.cvtColor(img, cv2.COLOR_BGR2GRAY)\n",
        "\n",
        "# check shape\n",
        "gray_img.shape\n",
        "\n",
        "# mengubah gambar menjadi abu-abu dan cek shapenya lagi"
      ],
      "metadata": {
        "id": "7e6w1zaL1RW7",
        "colab": {
          "base_uri": "https://localhost:8080/"
        },
        "outputId": "cfb24777-f80c-4694-f32e-9b1f7ed67d56"
      },
      "execution_count": 72,
      "outputs": [
        {
          "output_type": "execute_result",
          "data": {
            "text/plain": [
              "(300, 300)"
            ]
          },
          "metadata": {},
          "execution_count": 72
        }
      ]
    },
    {
      "cell_type": "code",
      "source": [
        "# Pre-process\n",
        "# Binary Threshold and Otsu\n",
        "value, thresh = cv2.threshold(gray_img, 0, 255, cv2.THRESH_BINARY + cv2.THRESH_OTSU)\n",
        "\n",
        "cv2_imshow(thresh)\n",
        "# melakukan thresholding pada gambar dengan metode Otsu.\n",
        "\n",
        "# print threshold value\n",
        "print(value)"
      ],
      "metadata": {
        "id": "9_al0IF01c3q",
        "colab": {
          "base_uri": "https://localhost:8080/",
          "height": 334
        },
        "outputId": "d856c55d-2e46-4054-cea7-dcb5f264f716"
      },
      "execution_count": 73,
      "outputs": [
        {
          "output_type": "display_data",
          "data": {
            "text/plain": [
              "<PIL.Image.Image image mode=L size=300x300>"
            ],
            "image/png": "[encoded data removed]"
          },
          "metadata": {}
        },
        {
          "output_type": "stream",
          "name": "stdout",
          "text": [
            "120.0\n"
          ]
        }
      ]
    },
    {
      "cell_type": "code",
      "source": [
        "# Resize image in order to match network input shape -> 28*28\n",
        "img_resize = cv2.resize(gray_img, (28,28))\n",
        "cv2_imshow(img_resize)\n",
        "\n",
        "# mengubah gambar menjadi 28x28 piksel"
      ],
      "metadata": {
        "id": "dmjHswqd1wB5",
        "colab": {
          "base_uri": "https://localhost:8080/",
          "height": 45
        },
        "outputId": "94229b12-2d37-4216-cae3-22bd82c10c6d"
      },
      "execution_count": 74,
      "outputs": [
        {
          "output_type": "display_data",
          "data": {
            "text/plain": [
              "<PIL.Image.Image image mode=L size=28x28>"
            ],
            "image/png": "[encoded data removed]"
          },
          "metadata": {}
        }
      ]
    },
    {
      "cell_type": "code",
      "source": [
        "# Convert to float 32\n",
        "# and extend the dimension since network input shape is 28*28*1\n",
        "img_input = img_resize.astype('float32') / 255 # also perform normalization\n",
        "img_input = np.expand_dims(img_input, axis=-1) # insert depth\n",
        "\n",
        "# check shape\n",
        "img_input.shape"
      ],
      "metadata": {
        "id": "bZStKgUl2Kk_",
        "colab": {
          "base_uri": "https://localhost:8080/"
        },
        "outputId": "f389d6d4-c092-4c9b-a14a-58874f2c5e99"
      },
      "execution_count": 75,
      "outputs": [
        {
          "output_type": "execute_result",
          "data": {
            "text/plain": [
              "(28, 28, 1)"
            ]
          },
          "metadata": {},
          "execution_count": 75
        }
      ]
    },
    {
      "cell_type": "code",
      "source": [
        "# Add \"amount of data\" as dimension\n",
        "img_input = np.reshape(img_input, (1,28,28,1))\n",
        "img_input.shape"
      ],
      "metadata": {
        "id": "7Xs7JwKj2lxr",
        "colab": {
          "base_uri": "https://localhost:8080/"
        },
        "outputId": "a8c71fce-f0c6-4927-f283-844b3afb6512"
      },
      "execution_count": 76,
      "outputs": [
        {
          "output_type": "execute_result",
          "data": {
            "text/plain": [
              "(1, 28, 28, 1)"
            ]
          },
          "metadata": {},
          "execution_count": 76
        }
      ]
    },
    {
      "cell_type": "code",
      "source": [
        "# Make a predition\n",
        "prediction = load_network.predict(img_input)\n",
        "pred_label = np.argmax(prediction) # predict actual label\n",
        "pred_label"
      ],
      "metadata": {
        "id": "fZLWIWLs2yuX",
        "colab": {
          "base_uri": "https://localhost:8080/"
        },
        "outputId": "b9ce6dff-7a32-450e-a759-118b90e9d364"
      },
      "execution_count": 77,
      "outputs": [
        {
          "output_type": "stream",
          "name": "stdout",
          "text": [
            "1/1 [==============================] - 0s 157ms/step\n"
          ]
        },
        {
          "output_type": "execute_result",
          "data": {
            "text/plain": [
              "6"
            ]
          },
          "metadata": {},
          "execution_count": 77
        }
      ]
    },
    {
      "cell_type": "code",
      "source": [
        "# check label for 6\n",
        "name_labels[6]"
      ],
      "metadata": {
        "id": "72Pl04hq3WNz",
        "colab": {
          "base_uri": "https://localhost:8080/",
          "height": 35
        },
        "outputId": "17fc147a-6281-4a36-814e-c5462a34a095"
      },
      "execution_count": 78,
      "outputs": [
        {
          "output_type": "execute_result",
          "data": {
            "text/plain": [
              "'6'"
            ],
            "application/vnd.google.colaboratory.intrinsic+json": {
              "type": "string"
            }
          },
          "metadata": {},
          "execution_count": 78
        }
      ]
    },
    {
      "cell_type": "markdown",
      "source": [
        "\n",
        "Dengan memanfaatkan model CNN yang telah dilatih menggunakan dataset MNIST dan dataset A-Z dari Kaggle, berhasil mendapatkan prediksi yang akurat untuk gambar huruf \"b\" yang diubah menjadi huruf \"G\". Dalam kasus ini, model mampu mengidentifikasi gambar tersebut sebagai label 6.\n",
        "\n",
        "Hasil ini menunjukkan bahwa model CNN yang dilatih mampu mengenali pola-pola penting dari data yang digunakan dalam pelatihan. Dengan demikian, model ini dapat dengan baik mengklasifikasikan gambar-gambar baru yang tidak terlihat sebelumnya dengan akurasi yang baik."
      ],
      "metadata": {
        "id": "p6LrYz6GnEEV"
      }
    }
  ]
}