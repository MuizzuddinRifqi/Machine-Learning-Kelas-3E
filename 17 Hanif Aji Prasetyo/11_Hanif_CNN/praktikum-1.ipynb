{
 "cells": [
  {
   "cell_type": "markdown",
   "metadata": {},
   "source": [
    "Praktikum 1 - Klasifikasi 🐱 dan 🐶"
   ]
  },
  {
   "cell_type": "markdown",
   "metadata": {},
   "source": [
    "Langkah 1 - Import Library"
   ]
  },
  {
   "cell_type": "code",
   "execution_count": 3,
   "metadata": {},
   "outputs": [],
   "source": [
    "import tensorflow as tf\n",
    "from keras.preprocessing.image import ImageDataGenerator"
   ]
  },
  {
   "cell_type": "markdown",
   "metadata": {},
   "source": [
    "Langkah 2 - Pra Pengolahan Data"
   ]
  },
  {
   "cell_type": "markdown",
   "metadata": {},
   "source": [
    "Langkah 2.1. Pra Pengolahan Data Training"
   ]
  },
  {
   "cell_type": "code",
   "execution_count": 4,
   "metadata": {},
   "outputs": [
    {
     "name": "stdout",
     "output_type": "stream",
     "text": [
      "Found 8000 images belonging to 2 classes.\n"
     ]
    }
   ],
   "source": [
    "train_datagen = ImageDataGenerator(rescale = 1./255,\n",
    "                                   shear_range = 0.2,\n",
    "                                   zoom_range = 0.2,\n",
    "                                   horizontal_flip = True)\n",
    "training_set = train_datagen.flow_from_directory('../../../dataset/training_set',\n",
    "                                                 target_size = (64, 64),\n",
    "                                                 batch_size = 32,\n",
    "                                                 class_mode = 'binary')"
   ]
  },
  {
   "cell_type": "markdown",
   "metadata": {},
   "source": [
    "Langkah 2.2. Pra Pengolahan Data Testing"
   ]
  },
  {
   "cell_type": "code",
   "execution_count": 5,
   "metadata": {},
   "outputs": [
    {
     "name": "stdout",
     "output_type": "stream",
     "text": [
      "Found 2000 images belonging to 2 classes.\n"
     ]
    }
   ],
   "source": [
    "test_datagen = ImageDataGenerator(rescale = 1./255)\n",
    "test_set = test_datagen.flow_from_directory('../../../dataset/test_set',\n",
    "                                            target_size = (64, 64),\n",
    "                                            batch_size = 32,\n",
    "                                            class_mode = 'binary')"
   ]
  },
  {
   "cell_type": "markdown",
   "metadata": {},
   "source": [
    "Langkah 3 - Pembuatan Model CNN"
   ]
  },
  {
   "cell_type": "markdown",
   "metadata": {},
   "source": [
    "Langkah 3.1.  - Inisiasi Model CNN"
   ]
  },
  {
   "cell_type": "code",
   "execution_count": 6,
   "metadata": {},
   "outputs": [],
   "source": [
    "cnn = tf.keras.models.Sequential()"
   ]
  },
  {
   "cell_type": "markdown",
   "metadata": {},
   "source": [
    "Langkah 3.2. - Pembuatan Layer Konvolusi 1"
   ]
  },
  {
   "cell_type": "code",
   "execution_count": 7,
   "metadata": {},
   "outputs": [],
   "source": [
    "cnn.add(tf.keras.layers.Conv2D(filters=32, kernel_size=3, activation='relu', input_shape=[64, 64, 3]))"
   ]
  },
  {
   "cell_type": "markdown",
   "metadata": {},
   "source": [
    "Langkah 3.3 - Pembuatan Layer Pooling 1"
   ]
  },
  {
   "cell_type": "code",
   "execution_count": 8,
   "metadata": {},
   "outputs": [],
   "source": [
    "cnn.add(tf.keras.layers.MaxPool2D(pool_size=2, strides=2))"
   ]
  },
  {
   "cell_type": "markdown",
   "metadata": {},
   "source": [
    "Langkah 3.4 - Pembuatan Layer Konvolusi 2 dan Pooling 2"
   ]
  },
  {
   "cell_type": "code",
   "execution_count": 9,
   "metadata": {},
   "outputs": [],
   "source": [
    "cnn.add(tf.keras.layers.Conv2D(filters=32, kernel_size=3, activation='relu'))\n",
    "cnn.add(tf.keras.layers.MaxPool2D(pool_size=2, strides=2))"
   ]
  },
  {
   "cell_type": "markdown",
   "metadata": {},
   "source": [
    "Langkah 3.5 - Flattening"
   ]
  },
  {
   "cell_type": "code",
   "execution_count": 10,
   "metadata": {},
   "outputs": [],
   "source": [
    "cnn.add(tf.keras.layers.Flatten())"
   ]
  },
  {
   "cell_type": "markdown",
   "metadata": {},
   "source": [
    "Langkah 3.6 - Fully Connected Layer 1 (Input)"
   ]
  },
  {
   "cell_type": "code",
   "execution_count": 11,
   "metadata": {},
   "outputs": [],
   "source": [
    "cnn.add(tf.keras.layers.Dense(units=128, activation='relu'))"
   ]
  },
  {
   "cell_type": "markdown",
   "metadata": {},
   "source": [
    "Langkah 3.7 - Fully Connected Layer 2 (Output)"
   ]
  },
  {
   "cell_type": "code",
   "execution_count": 12,
   "metadata": {},
   "outputs": [],
   "source": [
    "cnn.add(tf.keras.layers.Dense(units=1, activation='sigmoid'))"
   ]
  },
  {
   "cell_type": "markdown",
   "metadata": {},
   "source": [
    "Langkah 3.8 - Compile Model CNN"
   ]
  },
  {
   "cell_type": "code",
   "execution_count": 13,
   "metadata": {},
   "outputs": [],
   "source": [
    "cnn.compile(optimizer = 'adam', loss = 'binary_crossentropy', metrics = ['accuracy'])"
   ]
  },
  {
   "cell_type": "markdown",
   "metadata": {},
   "source": [
    "Langkah 4 - Fit CNN"
   ]
  },
  {
   "cell_type": "code",
   "execution_count": 14,
   "metadata": {},
   "outputs": [
    {
     "name": "stdout",
     "output_type": "stream",
     "text": [
      "Epoch 1/25\n",
      "250/250 [==============================] - 243s 960ms/step - loss: 0.6743 - accuracy: 0.5822 - val_loss: 0.6181 - val_accuracy: 0.6860\n",
      "Epoch 2/25\n",
      "250/250 [==============================] - 190s 761ms/step - loss: 0.6094 - accuracy: 0.6731 - val_loss: 0.5627 - val_accuracy: 0.7140\n",
      "Epoch 3/25\n",
      "250/250 [==============================] - 220s 881ms/step - loss: 0.5543 - accuracy: 0.7129 - val_loss: 0.5481 - val_accuracy: 0.7300\n",
      "Epoch 4/25\n",
      "250/250 [==============================] - 193s 770ms/step - loss: 0.5172 - accuracy: 0.7404 - val_loss: 0.5141 - val_accuracy: 0.7605\n",
      "Epoch 5/25\n",
      "250/250 [==============================] - 185s 740ms/step - loss: 0.4976 - accuracy: 0.7508 - val_loss: 0.5216 - val_accuracy: 0.7595\n",
      "Epoch 6/25\n",
      "250/250 [==============================] - 53s 210ms/step - loss: 0.4717 - accuracy: 0.7717 - val_loss: 0.4936 - val_accuracy: 0.7645\n",
      "Epoch 7/25\n",
      "250/250 [==============================] - 45s 179ms/step - loss: 0.4531 - accuracy: 0.7860 - val_loss: 0.4686 - val_accuracy: 0.7955\n",
      "Epoch 8/25\n",
      "250/250 [==============================] - 49s 197ms/step - loss: 0.4417 - accuracy: 0.7916 - val_loss: 0.4706 - val_accuracy: 0.7835\n",
      "Epoch 9/25\n",
      "250/250 [==============================] - 52s 207ms/step - loss: 0.4225 - accuracy: 0.7996 - val_loss: 0.4461 - val_accuracy: 0.8050\n",
      "Epoch 10/25\n",
      "250/250 [==============================] - 54s 217ms/step - loss: 0.4115 - accuracy: 0.8075 - val_loss: 0.4536 - val_accuracy: 0.7935\n",
      "Epoch 11/25\n",
      "250/250 [==============================] - 57s 228ms/step - loss: 0.4039 - accuracy: 0.8116 - val_loss: 0.4585 - val_accuracy: 0.8015\n",
      "Epoch 12/25\n",
      "250/250 [==============================] - 58s 233ms/step - loss: 0.3907 - accuracy: 0.8242 - val_loss: 0.4869 - val_accuracy: 0.7880\n",
      "Epoch 13/25\n",
      "250/250 [==============================] - 61s 243ms/step - loss: 0.3692 - accuracy: 0.8371 - val_loss: 0.4368 - val_accuracy: 0.8070\n",
      "Epoch 14/25\n",
      "250/250 [==============================] - 55s 218ms/step - loss: 0.3538 - accuracy: 0.8410 - val_loss: 0.4513 - val_accuracy: 0.8035\n",
      "Epoch 15/25\n",
      "250/250 [==============================] - 49s 196ms/step - loss: 0.3459 - accuracy: 0.8424 - val_loss: 0.4371 - val_accuracy: 0.8120\n",
      "Epoch 16/25\n",
      "250/250 [==============================] - 48s 190ms/step - loss: 0.3293 - accuracy: 0.8520 - val_loss: 0.4388 - val_accuracy: 0.8190\n",
      "Epoch 17/25\n",
      "250/250 [==============================] - 50s 201ms/step - loss: 0.3148 - accuracy: 0.8640 - val_loss: 0.4865 - val_accuracy: 0.7830\n",
      "Epoch 18/25\n",
      "250/250 [==============================] - 49s 197ms/step - loss: 0.3074 - accuracy: 0.8654 - val_loss: 0.4543 - val_accuracy: 0.8080\n",
      "Epoch 19/25\n",
      "250/250 [==============================] - 49s 197ms/step - loss: 0.2976 - accuracy: 0.8745 - val_loss: 0.4502 - val_accuracy: 0.8160\n",
      "Epoch 20/25\n",
      "250/250 [==============================] - 61s 244ms/step - loss: 0.2797 - accuracy: 0.8829 - val_loss: 0.4456 - val_accuracy: 0.8175\n",
      "Epoch 21/25\n",
      "250/250 [==============================] - 57s 230ms/step - loss: 0.2674 - accuracy: 0.8867 - val_loss: 0.4161 - val_accuracy: 0.8325\n",
      "Epoch 22/25\n",
      "250/250 [==============================] - 52s 206ms/step - loss: 0.2482 - accuracy: 0.8938 - val_loss: 0.4742 - val_accuracy: 0.8115\n",
      "Epoch 23/25\n",
      "250/250 [==============================] - 50s 199ms/step - loss: 0.2448 - accuracy: 0.8999 - val_loss: 0.4787 - val_accuracy: 0.8110\n",
      "Epoch 24/25\n",
      "250/250 [==============================] - 48s 194ms/step - loss: 0.2338 - accuracy: 0.8997 - val_loss: 0.4593 - val_accuracy: 0.8180\n",
      "Epoch 25/25\n",
      "250/250 [==============================] - 49s 197ms/step - loss: 0.2126 - accuracy: 0.9139 - val_loss: 0.4727 - val_accuracy: 0.8265\n"
     ]
    },
    {
     "data": {
      "text/plain": [
       "<keras.src.callbacks.History at 0x1c08ba90750>"
      ]
     },
     "execution_count": 14,
     "metadata": {},
     "output_type": "execute_result"
    }
   ],
   "source": [
    "cnn.fit(x = training_set, validation_data = test_set, epochs = 25)"
   ]
  },
  {
   "cell_type": "markdown",
   "metadata": {},
   "source": [
    "Langkah 5 - Prediksi dengan 1 Citra"
   ]
  },
  {
   "cell_type": "code",
   "execution_count": 21,
   "metadata": {},
   "outputs": [
    {
     "name": "stdout",
     "output_type": "stream",
     "text": [
      "Requirement already satisfied: keras in c:\\users\\asus\\anaconda3\\lib\\site-packages (2.14.0)Note: you may need to restart the kernel to use updated packages.\n",
      "\n"
     ]
    }
   ],
   "source": [
    "%pip install keras"
   ]
  },
  {
   "cell_type": "code",
   "execution_count": 34,
   "metadata": {},
   "outputs": [
    {
     "name": "stdout",
     "output_type": "stream",
     "text": [
      "1/1 [==============================] - 0s 24ms/step\n"
     ]
    }
   ],
   "source": [
    "import numpy as np\n",
    "from keras.preprocessing import image\n",
    "\n",
    "test_image = image.load_img('../../../dataset/single_prediction/cat_or_dog_1.jpg', target_size=(64,64))\n",
    "test_image = image.img_to_array(test_image)\n",
    "test_image = np.expand_dims(test_image, axis=0)\n",
    "res = cnn.predict(test_image)\n",
    "training_set.class_indices\n",
    "if res[0][0] == 1:\n",
    "    prediction = 'dog'\n",
    "else:\n",
    "    prediction = 'cat'"
   ]
  }
 ],
 "metadata": {
  "kernelspec": {
   "display_name": "base",
   "language": "python",
   "name": "python3"
  },
  "language_info": {
   "codemirror_mode": {
    "name": "ipython",
    "version": 3
   },
   "file_extension": ".py",
   "mimetype": "text/x-python",
   "name": "python",
   "nbconvert_exporter": "python",
   "pygments_lexer": "ipython3",
   "version": "3.11.4"
  }
 },
 "nbformat": 4,
 "nbformat_minor": 2
}
