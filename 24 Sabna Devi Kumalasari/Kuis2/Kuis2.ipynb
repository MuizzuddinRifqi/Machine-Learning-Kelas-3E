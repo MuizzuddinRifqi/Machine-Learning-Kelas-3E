{
  "nbformat": 4,
  "nbformat_minor": 0,
  "metadata": {
    "colab": {
      "provenance": [],
      "machine_shape": "hm",
      "gpuType": "T4",
      "include_colab_link": true
    },
    "kernelspec": {
      "name": "python3",
      "display_name": "Python 3"
    },
    "language_info": {
      "name": "python"
    },
    "accelerator": "GPU"
  },
  "cells": [
    {
      "cell_type": "markdown",
      "metadata": {
        "id": "view-in-github",
        "colab_type": "text"
      },
      "source": [
        "<a href=\"https://colab.research.google.com/github/alimurrofid/Machine-Learning-Kelas-3E/blob/main/24%20Sabna%20Devi%20Kumalasari/Kuis2/Kuis2.ipynb\" target=\"_parent\"><img src=\"https://colab.research.google.com/assets/colab-badge.svg\" alt=\"Open In Colab\"/></a>"
      ]
    },
    {
      "cell_type": "markdown",
      "source": [
        "## **KUIS 2**\n",
        "- **Nama    : Sabna Devi Kumalasari**\n",
        "- **NIM     : 2141720009**\n",
        "- **Kelas   : TI - 3E**\n"
      ],
      "metadata": {
        "id": "55-lCqYrxkjy"
      }
    },
    {
      "cell_type": "markdown",
      "source": [
        "# Import Library"
      ],
      "metadata": {
        "id": "fLV1Z5_Za3Ni"
      }
    },
    {
      "cell_type": "code",
      "execution_count": 1,
      "metadata": {
        "id": "TUhYpAeEarrV"
      },
      "outputs": [],
      "source": [
        "import tensorflow as tf\n",
        "import numpy as np\n",
        "import pandas as pd\n",
        "import matplotlib.pyplot as plt\n",
        "import seaborn as sns\n",
        "from sklearn.preprocessing import LabelBinarizer\n",
        "from sklearn.model_selection import train_test_split\n",
        "from sklearn.metrics import classification_report\n",
        "import zipfile"
      ]
    },
    {
      "cell_type": "markdown",
      "source": [
        "# Load Dataset"
      ],
      "metadata": {
        "id": "N95oXMaTcnMH"
      }
    },
    {
      "cell_type": "markdown",
      "source": [
        "## Load MNIST"
      ],
      "metadata": {
        "id": "dT8TY908cpCK"
      }
    },
    {
      "cell_type": "code",
      "source": [
        "from tensorflow.keras.datasets import mnist"
      ],
      "metadata": {
        "id": "OIZx2pkUcfDe"
      },
      "execution_count": 2,
      "outputs": []
    },
    {
      "cell_type": "code",
      "source": [
        "(train_data, train_labels), (test_data, test_labels) = mnist.load_data()"
      ],
      "metadata": {
        "id": "3GLkzBi6czj4",
        "colab": {
          "base_uri": "https://localhost:8080/"
        },
        "outputId": "92d3e537-3086-4489-c6d0-dc53474117d0"
      },
      "execution_count": 3,
      "outputs": [
        {
          "output_type": "stream",
          "name": "stdout",
          "text": [
            "Downloading data from https://storage.googleapis.com/tensorflow/tf-keras-datasets/mnist.npz\n",
            "11490434/11490434 [==============================] - 0s 0us/step\n"
          ]
        }
      ]
    },
    {
      "cell_type": "code",
      "source": [
        "# Check shape data\n",
        "(train_data.shape, test_data.shape)"
      ],
      "metadata": {
        "id": "oVQTyPgAc5Zw",
        "colab": {
          "base_uri": "https://localhost:8080/"
        },
        "outputId": "052e89af-b644-4af5-a323-4611597a80e9"
      },
      "execution_count": 4,
      "outputs": [
        {
          "output_type": "execute_result",
          "data": {
            "text/plain": [
              "((60000, 28, 28), (10000, 28, 28))"
            ]
          },
          "metadata": {},
          "execution_count": 4
        }
      ]
    },
    {
      "cell_type": "markdown",
      "source": [
        "**Penjelasan**\n",
        "- Data pelatihan terdiri dari 60.000 gambar dengan resolusi 28x28 piksel\n",
        "- Data uji memiliki 10.000 gambar dengan resolusi 28x28 piksel"
      ],
      "metadata": {
        "id": "6Bd-MuMpyM9p"
      }
    },
    {
      "cell_type": "code",
      "source": [
        "# Check shape labels\n",
        "(train_labels.shape, test_labels.shape)"
      ],
      "metadata": {
        "id": "grUhLPwJc-un",
        "colab": {
          "base_uri": "https://localhost:8080/"
        },
        "outputId": "243074a5-c1da-4934-b667-0f89b1b8f06f"
      },
      "execution_count": 5,
      "outputs": [
        {
          "output_type": "execute_result",
          "data": {
            "text/plain": [
              "((60000,), (10000,))"
            ]
          },
          "metadata": {},
          "execution_count": 5
        }
      ]
    },
    {
      "cell_type": "markdown",
      "source": [
        "**Penjelasan**\n",
        "- train_labels terdiri dari 60,000 label yang sesuai dengan setiap sampel pada train_data\n",
        "- test_labels terdiri dari 10,000 label yang sesuai dengan setiap sampel pada test_data"
      ],
      "metadata": {
        "id": "3CxQIxZ79isA"
      }
    },
    {
      "cell_type": "code",
      "source": [
        "# Check each data shape --> should be 28*28\n",
        "train_data[0].shape"
      ],
      "metadata": {
        "id": "AwsTEu6xdNKX",
        "colab": {
          "base_uri": "https://localhost:8080/"
        },
        "outputId": "ed2a9470-c481-41c5-c193-9bc6d6bf3c14"
      },
      "execution_count": 6,
      "outputs": [
        {
          "output_type": "execute_result",
          "data": {
            "text/plain": [
              "(28, 28)"
            ]
          },
          "metadata": {},
          "execution_count": 6
        }
      ]
    },
    {
      "cell_type": "markdown",
      "source": [
        "**Penjelasan**\n",
        "- output diatas menunjukkan bahwa 1 sampel data pelatihan pertama adalah gambar berukuran 28x28 piksel"
      ],
      "metadata": {
        "id": "8u9Kya5WyfLB"
      }
    },
    {
      "cell_type": "code",
      "source": [
        "# Check the label\n",
        "train_labels.shape"
      ],
      "metadata": {
        "id": "KHZesdnBdXKX",
        "colab": {
          "base_uri": "https://localhost:8080/"
        },
        "outputId": "a22fedb8-3fc6-4bf4-e26e-1c4e82dc2263"
      },
      "execution_count": 7,
      "outputs": [
        {
          "output_type": "execute_result",
          "data": {
            "text/plain": [
              "(60000,)"
            ]
          },
          "metadata": {},
          "execution_count": 7
        }
      ]
    },
    {
      "cell_type": "markdown",
      "source": [
        "**Penjelasan**\n",
        "- output diatas menunjukkan bahwa label pelatihan terdiri dari 60.000 elemen, masing-masing merepresentasikan digit yang sesuai dengan gambar tulisan tangan."
      ],
      "metadata": {
        "id": "GLfEee0Byo6-"
      }
    },
    {
      "cell_type": "markdown",
      "source": [
        "### Combine Train and Test Data"
      ],
      "metadata": {
        "id": "SYz8IjnOdfsV"
      }
    },
    {
      "cell_type": "code",
      "source": [
        "digits_data = np.vstack([train_data, test_data])\n",
        "digits_labels = np.hstack([train_labels, test_labels])"
      ],
      "metadata": {
        "id": "yacSZjdPdbhs"
      },
      "execution_count": 8,
      "outputs": []
    },
    {
      "cell_type": "code",
      "source": [
        "# Check data shape\n",
        "digits_data.shape"
      ],
      "metadata": {
        "id": "oRBvQNVUeHZn",
        "colab": {
          "base_uri": "https://localhost:8080/"
        },
        "outputId": "861d0f06-712a-45bd-adcb-ef93608381cf"
      },
      "execution_count": 9,
      "outputs": [
        {
          "output_type": "execute_result",
          "data": {
            "text/plain": [
              "(70000, 28, 28)"
            ]
          },
          "metadata": {},
          "execution_count": 9
        }
      ]
    },
    {
      "cell_type": "markdown",
      "source": [
        "**Penjelasan**\n",
        "- output diatas merupakan data gabungan yang memiliki 70.000 sampel dengan dimensi gambar 28x28 piksel"
      ],
      "metadata": {
        "id": "oq7u-i8W0eE9"
      }
    },
    {
      "cell_type": "code",
      "source": [
        "# Check label shape\n",
        "digits_labels.shape"
      ],
      "metadata": {
        "id": "MZbUcu0MeLSG",
        "colab": {
          "base_uri": "https://localhost:8080/"
        },
        "outputId": "99ff9c52-6988-4fe3-f204-a7ea41b4bc36"
      },
      "execution_count": 10,
      "outputs": [
        {
          "output_type": "execute_result",
          "data": {
            "text/plain": [
              "(70000,)"
            ]
          },
          "metadata": {},
          "execution_count": 10
        }
      ]
    },
    {
      "cell_type": "markdown",
      "source": [
        "**Penjelasan**\n",
        "- Label gabungan memiliki 70,000 elemen, masing-masing merepresentasikan digit yang sesuai dengan gambar tulisan tangan"
      ],
      "metadata": {
        "id": "5uM-4Ia70tXH"
      }
    },
    {
      "cell_type": "code",
      "source": [
        "# Randomly checking the data\n",
        "idx = np.random.randint(0, digits_data.shape[0])\n",
        "plt.imshow(digits_data[idx], cmap='gray')\n",
        "plt.title('Class: ' + str(digits_labels[idx]))"
      ],
      "metadata": {
        "id": "uqaiC0pGePF-",
        "colab": {
          "base_uri": "https://localhost:8080/",
          "height": 469
        },
        "outputId": "e954276a-41a5-403e-e2cd-79699752474a"
      },
      "execution_count": 11,
      "outputs": [
        {
          "output_type": "execute_result",
          "data": {
            "text/plain": [
              "Text(0.5, 1.0, 'Class: 3')"
            ]
          },
          "metadata": {},
          "execution_count": 11
        },
        {
          "output_type": "display_data",
          "data": {
            "text/plain": [
              "<Figure size 640x480 with 1 Axes>"
            ],
            "image/png": "[encoded data removed]"
          },
          "metadata": {}
        }
      ]
    },
    {
      "cell_type": "markdown",
      "source": [
        "**Penjelasan**\n",
        "- Program akan memilih secara acak satu sampel dari data gabungan dan menampilkannya menggunakan Matplotlib. Judul plot menunjukkan kelas atau label yang sesuai dengan gambar tersebut. Dalam kode ini, labelnya adalah 3."
      ],
      "metadata": {
        "id": "Y3ImqDzH0yvp"
      }
    },
    {
      "cell_type": "code",
      "source": [
        "# Check data distribution\n",
        "df_labels = pd.DataFrame(digits_labels, columns=['Labels'])\n",
        "sns.countplot(df_labels, x='Labels')"
      ],
      "metadata": {
        "id": "FrLWteorevqd",
        "colab": {
          "base_uri": "https://localhost:8080/",
          "height": 466
        },
        "outputId": "905dd1da-c93b-4bf8-c133-9da037d6f6c1"
      },
      "execution_count": 12,
      "outputs": [
        {
          "output_type": "execute_result",
          "data": {
            "text/plain": [
              "<Axes: xlabel='Labels', ylabel='count'>"
            ]
          },
          "metadata": {},
          "execution_count": 12
        },
        {
          "output_type": "display_data",
          "data": {
            "text/plain": [
              "<Figure size 640x480 with 1 Axes>"
            ],
            "image/png": "[encoded data removed]"
          },
          "metadata": {}
        }
      ]
    },
    {
      "cell_type": "markdown",
      "source": [
        "**Penjelasan**\n",
        "- Output yang dihasilkan adalah diagram batang yang menunjukkan sebaran jumlah setiap kelas atau digit dalam dataset. Masing-masing batang merepresentasikan jumlah kemunculan setiap digit.\n",
        "\n",
        "- Pada sumbu x, memiliki label atau digit (0-9), dan pada sumbu y, memiliki jumlah kemunculan setiap digit dalam dataset.\n",
        "\n",
        "- Plot ini membantu dalam memahami sebaran kelas dan memastikan bahwa dataset tidak memiliki ketidakseimbangan yang signifikan dalam jumlah sampel untuk setiap digit.\n",
        "\n",
        "- Dalam kasus ini, setiap digit memiliki jumlah sampel yang relatif seimbang, yang merupakan kondisi yang baik untuk melatih model klasifikasi."
      ],
      "metadata": {
        "id": "7fPoGxny03rQ"
      }
    },
    {
      "cell_type": "markdown",
      "source": [
        "## Load Kaggle A-Z"
      ],
      "metadata": {
        "id": "uqeJT2ytogB_"
      }
    },
    {
      "cell_type": "code",
      "source": [
        "!wget https://iaexpert.academy/arquivos/alfabeto_A-Z.zip"
      ],
      "metadata": {
        "id": "tQ95CkdfjO7P",
        "colab": {
          "base_uri": "https://localhost:8080/"
        },
        "outputId": "44f12fe7-fdb5-4fee-dfbc-69e3e414b37b"
      },
      "execution_count": 13,
      "outputs": [
        {
          "output_type": "stream",
          "name": "stdout",
          "text": [
            "--2023-12-01 05:09:12--  https://iaexpert.academy/arquivos/alfabeto_A-Z.zip\n",
            "Resolving iaexpert.academy (iaexpert.academy)... 162.159.134.42\n",
            "Connecting to iaexpert.academy (iaexpert.academy)|162.159.134.42|:443... connected.\n",
            "HTTP request sent, awaiting response... 200 OK\n",
            "Length: 193643888 (185M) [application/zip]\n",
            "Saving to: ‘alfabeto_A-Z.zip’\n",
            "\n",
            "alfabeto_A-Z.zip    100%[===================>] 184.67M   122MB/s    in 1.5s    \n",
            "\n",
            "2023-12-01 05:09:14 (122 MB/s) - ‘alfabeto_A-Z.zip’ saved [193643888/193643888]\n",
            "\n"
          ]
        }
      ]
    },
    {
      "cell_type": "code",
      "source": [
        "# Extract zip file\n",
        "zip_object = zipfile.ZipFile(file = 'alfabeto_A-Z.zip', mode = 'r')\n",
        "zip_object.extractall('./')\n",
        "zip_object.close()"
      ],
      "metadata": {
        "id": "TobpFNSsojcv"
      },
      "execution_count": 14,
      "outputs": []
    },
    {
      "cell_type": "code",
      "source": [
        "dataset_az = pd.read_csv('A_Z Handwritten Data.csv').astype('float32')\n",
        "dataset_az"
      ],
      "metadata": {
        "id": "ScBURU_4o5bB",
        "colab": {
          "base_uri": "https://localhost:8080/",
          "height": 443
        },
        "outputId": "d45b8e65-b466-4adb-bb4b-167a9d531ae1"
      },
      "execution_count": 15,
      "outputs": [
        {
          "output_type": "execute_result",
          "data": {
            "text/plain": [
              "           0  0.1  0.2  0.3  0.4  0.5  0.6  0.7  0.8  0.9  ...  0.639  0.640  \\\n",
              "0        0.0  0.0  0.0  0.0  0.0  0.0  0.0  0.0  0.0  0.0  ...    0.0    0.0   \n",
              "1        0.0  0.0  0.0  0.0  0.0  0.0  0.0  0.0  0.0  0.0  ...    0.0    0.0   \n",
              "2        0.0  0.0  0.0  0.0  0.0  0.0  0.0  0.0  0.0  0.0  ...    0.0    0.0   \n",
              "3        0.0  0.0  0.0  0.0  0.0  0.0  0.0  0.0  0.0  0.0  ...    0.0    0.0   \n",
              "4        0.0  0.0  0.0  0.0  0.0  0.0  0.0  0.0  0.0  0.0  ...    0.0    0.0   \n",
              "...      ...  ...  ...  ...  ...  ...  ...  ...  ...  ...  ...    ...    ...   \n",
              "372445  25.0  0.0  0.0  0.0  0.0  0.0  0.0  0.0  0.0  0.0  ...    0.0    0.0   \n",
              "372446  25.0  0.0  0.0  0.0  0.0  0.0  0.0  0.0  0.0  0.0  ...    0.0    0.0   \n",
              "372447  25.0  0.0  0.0  0.0  0.0  0.0  0.0  0.0  0.0  0.0  ...    0.0    0.0   \n",
              "372448  25.0  0.0  0.0  0.0  0.0  0.0  0.0  0.0  0.0  0.0  ...    0.0    0.0   \n",
              "372449  25.0  0.0  0.0  0.0  0.0  0.0  0.0  0.0  0.0  0.0  ...    0.0    0.0   \n",
              "\n",
              "        0.641  0.642  0.643  0.644  0.645  0.646  0.647  0.648  \n",
              "0         0.0    0.0    0.0    0.0    0.0    0.0    0.0    0.0  \n",
              "1         0.0    0.0    0.0    0.0    0.0    0.0    0.0    0.0  \n",
              "2         0.0    0.0    0.0    0.0    0.0    0.0    0.0    0.0  \n",
              "3         0.0    0.0    0.0    0.0    0.0    0.0    0.0    0.0  \n",
              "4         0.0    0.0    0.0    0.0    0.0    0.0    0.0    0.0  \n",
              "...       ...    ...    ...    ...    ...    ...    ...    ...  \n",
              "372445    0.0    0.0    0.0    0.0    0.0    0.0    0.0    0.0  \n",
              "372446    0.0    0.0    0.0    0.0    0.0    0.0    0.0    0.0  \n",
              "372447    0.0    0.0    0.0    0.0    0.0    0.0    0.0    0.0  \n",
              "372448    0.0    0.0    0.0    0.0    0.0    0.0    0.0    0.0  \n",
              "372449    0.0    0.0    0.0    0.0    0.0    0.0    0.0    0.0  \n",
              "\n",
              "[372450 rows x 785 columns]"
            ],
            "text/html": [
              "\n",
              "  <div id=\"df-27b13a0c-6755-4db4-b558-0e78945f43f2\" class=\"colab-df-container\">\n",
              "    <div>\n",
              "<style scoped>\n",
              "    .dataframe tbody tr th:only-of-type {\n",
              "        vertical-align: middle;\n",
              "    }\n",
              "\n",
              "    .dataframe tbody tr th {\n",
              "        vertical-align: top;\n",
              "    }\n",
              "\n",
              "    .dataframe thead th {\n",
              "        text-align: right;\n",
              "    }\n",
              "</style>\n",
              "<table border=\"1\" class=\"dataframe\">\n",
              "  <thead>\n",
              "    <tr style=\"text-align: right;\">\n",
              "      <th></th>\n",
              "      <th>0</th>\n",
              "      <th>0.1</th>\n",
              "      <th>0.2</th>\n",
              "      <th>0.3</th>\n",
              "      <th>0.4</th>\n",
              "      <th>0.5</th>\n",
              "      <th>0.6</th>\n",
              "      <th>0.7</th>\n",
              "      <th>0.8</th>\n",
              "      <th>0.9</th>\n",
              "      <th>...</th>\n",
              "      <th>0.639</th>\n",
              "      <th>0.640</th>\n",
              "      <th>0.641</th>\n",
              "      <th>0.642</th>\n",
              "      <th>0.643</th>\n",
              "      <th>0.644</th>\n",
              "      <th>0.645</th>\n",
              "      <th>0.646</th>\n",
              "      <th>0.647</th>\n",
              "      <th>0.648</th>\n",
              "    </tr>\n",
              "  </thead>\n",
              "  <tbody>\n",
              "    <tr>\n",
              "      <th>0</th>\n",
              "      <td>0.0</td>\n",
              "      <td>0.0</td>\n",
              "      <td>0.0</td>\n",
              "      <td>0.0</td>\n",
              "      <td>0.0</td>\n",
              "      <td>0.0</td>\n",
              "      <td>0.0</td>\n",
              "      <td>0.0</td>\n",
              "      <td>0.0</td>\n",
              "      <td>0.0</td>\n",
              "      <td>...</td>\n",
              "      <td>0.0</td>\n",
              "      <td>0.0</td>\n",
              "      <td>0.0</td>\n",
              "      <td>0.0</td>\n",
              "      <td>0.0</td>\n",
              "      <td>0.0</td>\n",
              "      <td>0.0</td>\n",
              "      <td>0.0</td>\n",
              "      <td>0.0</td>\n",
              "      <td>0.0</td>\n",
              "    </tr>\n",
              "    <tr>\n",
              "      <th>1</th>\n",
              "      <td>0.0</td>\n",
              "      <td>0.0</td>\n",
              "      <td>0.0</td>\n",
              "      <td>0.0</td>\n",
              "      <td>0.0</td>\n",
              "      <td>0.0</td>\n",
              "      <td>0.0</td>\n",
              "      <td>0.0</td>\n",
              "      <td>0.0</td>\n",
              "      <td>0.0</td>\n",
              "      <td>...</td>\n",
              "      <td>0.0</td>\n",
              "      <td>0.0</td>\n",
              "      <td>0.0</td>\n",
              "      <td>0.0</td>\n",
              "      <td>0.0</td>\n",
              "      <td>0.0</td>\n",
              "      <td>0.0</td>\n",
              "      <td>0.0</td>\n",
              "      <td>0.0</td>\n",
              "      <td>0.0</td>\n",
              "    </tr>\n",
              "    <tr>\n",
              "      <th>2</th>\n",
              "      <td>0.0</td>\n",
              "      <td>0.0</td>\n",
              "      <td>0.0</td>\n",
              "      <td>0.0</td>\n",
              "      <td>0.0</td>\n",
              "      <td>0.0</td>\n",
              "      <td>0.0</td>\n",
              "      <td>0.0</td>\n",
              "      <td>0.0</td>\n",
              "      <td>0.0</td>\n",
              "      <td>...</td>\n",
              "      <td>0.0</td>\n",
              "      <td>0.0</td>\n",
              "      <td>0.0</td>\n",
              "      <td>0.0</td>\n",
              "      <td>0.0</td>\n",
              "      <td>0.0</td>\n",
              "      <td>0.0</td>\n",
              "      <td>0.0</td>\n",
              "      <td>0.0</td>\n",
              "      <td>0.0</td>\n",
              "    </tr>\n",
              "    <tr>\n",
              "      <th>3</th>\n",
              "      <td>0.0</td>\n",
              "      <td>0.0</td>\n",
              "      <td>0.0</td>\n",
              "      <td>0.0</td>\n",
              "      <td>0.0</td>\n",
              "      <td>0.0</td>\n",
              "      <td>0.0</td>\n",
              "      <td>0.0</td>\n",
              "      <td>0.0</td>\n",
              "      <td>0.0</td>\n",
              "      <td>...</td>\n",
              "      <td>0.0</td>\n",
              "      <td>0.0</td>\n",
              "      <td>0.0</td>\n",
              "      <td>0.0</td>\n",
              "      <td>0.0</td>\n",
              "      <td>0.0</td>\n",
              "      <td>0.0</td>\n",
              "      <td>0.0</td>\n",
              "      <td>0.0</td>\n",
              "      <td>0.0</td>\n",
              "    </tr>\n",
              "    <tr>\n",
              "      <th>4</th>\n",
              "      <td>0.0</td>\n",
              "      <td>0.0</td>\n",
              "      <td>0.0</td>\n",
              "      <td>0.0</td>\n",
              "      <td>0.0</td>\n",
              "      <td>0.0</td>\n",
              "      <td>0.0</td>\n",
              "      <td>0.0</td>\n",
              "      <td>0.0</td>\n",
              "      <td>0.0</td>\n",
              "      <td>...</td>\n",
              "      <td>0.0</td>\n",
              "      <td>0.0</td>\n",
              "      <td>0.0</td>\n",
              "      <td>0.0</td>\n",
              "      <td>0.0</td>\n",
              "      <td>0.0</td>\n",
              "      <td>0.0</td>\n",
              "      <td>0.0</td>\n",
              "      <td>0.0</td>\n",
              "      <td>0.0</td>\n",
              "    </tr>\n",
              "    <tr>\n",
              "      <th>...</th>\n",
              "      <td>...</td>\n",
              "      <td>...</td>\n",
              "      <td>...</td>\n",
              "      <td>...</td>\n",
              "      <td>...</td>\n",
              "      <td>...</td>\n",
              "      <td>...</td>\n",
              "      <td>...</td>\n",
              "      <td>...</td>\n",
              "      <td>...</td>\n",
              "      <td>...</td>\n",
              "      <td>...</td>\n",
              "      <td>...</td>\n",
              "      <td>...</td>\n",
              "      <td>...</td>\n",
              "      <td>...</td>\n",
              "      <td>...</td>\n",
              "      <td>...</td>\n",
              "      <td>...</td>\n",
              "      <td>...</td>\n",
              "      <td>...</td>\n",
              "    </tr>\n",
              "    <tr>\n",
              "      <th>372445</th>\n",
              "      <td>25.0</td>\n",
              "      <td>0.0</td>\n",
              "      <td>0.0</td>\n",
              "      <td>0.0</td>\n",
              "      <td>0.0</td>\n",
              "      <td>0.0</td>\n",
              "      <td>0.0</td>\n",
              "      <td>0.0</td>\n",
              "      <td>0.0</td>\n",
              "      <td>0.0</td>\n",
              "      <td>...</td>\n",
              "      <td>0.0</td>\n",
              "      <td>0.0</td>\n",
              "      <td>0.0</td>\n",
              "      <td>0.0</td>\n",
              "      <td>0.0</td>\n",
              "      <td>0.0</td>\n",
              "      <td>0.0</td>\n",
              "      <td>0.0</td>\n",
              "      <td>0.0</td>\n",
              "      <td>0.0</td>\n",
              "    </tr>\n",
              "    <tr>\n",
              "      <th>372446</th>\n",
              "      <td>25.0</td>\n",
              "      <td>0.0</td>\n",
              "      <td>0.0</td>\n",
              "      <td>0.0</td>\n",
              "      <td>0.0</td>\n",
              "      <td>0.0</td>\n",
              "      <td>0.0</td>\n",
              "      <td>0.0</td>\n",
              "      <td>0.0</td>\n",
              "      <td>0.0</td>\n",
              "      <td>...</td>\n",
              "      <td>0.0</td>\n",
              "      <td>0.0</td>\n",
              "      <td>0.0</td>\n",
              "      <td>0.0</td>\n",
              "      <td>0.0</td>\n",
              "      <td>0.0</td>\n",
              "      <td>0.0</td>\n",
              "      <td>0.0</td>\n",
              "      <td>0.0</td>\n",
              "      <td>0.0</td>\n",
              "    </tr>\n",
              "    <tr>\n",
              "      <th>372447</th>\n",
              "      <td>25.0</td>\n",
              "      <td>0.0</td>\n",
              "      <td>0.0</td>\n",
              "      <td>0.0</td>\n",
              "      <td>0.0</td>\n",
              "      <td>0.0</td>\n",
              "      <td>0.0</td>\n",
              "      <td>0.0</td>\n",
              "      <td>0.0</td>\n",
              "      <td>0.0</td>\n",
              "      <td>...</td>\n",
              "      <td>0.0</td>\n",
              "      <td>0.0</td>\n",
              "      <td>0.0</td>\n",
              "      <td>0.0</td>\n",
              "      <td>0.0</td>\n",
              "      <td>0.0</td>\n",
              "      <td>0.0</td>\n",
              "      <td>0.0</td>\n",
              "      <td>0.0</td>\n",
              "      <td>0.0</td>\n",
              "    </tr>\n",
              "    <tr>\n",
              "      <th>372448</th>\n",
              "      <td>25.0</td>\n",
              "      <td>0.0</td>\n",
              "      <td>0.0</td>\n",
              "      <td>0.0</td>\n",
              "      <td>0.0</td>\n",
              "      <td>0.0</td>\n",
              "      <td>0.0</td>\n",
              "      <td>0.0</td>\n",
              "      <td>0.0</td>\n",
              "      <td>0.0</td>\n",
              "      <td>...</td>\n",
              "      <td>0.0</td>\n",
              "      <td>0.0</td>\n",
              "      <td>0.0</td>\n",
              "      <td>0.0</td>\n",
              "      <td>0.0</td>\n",
              "      <td>0.0</td>\n",
              "      <td>0.0</td>\n",
              "      <td>0.0</td>\n",
              "      <td>0.0</td>\n",
              "      <td>0.0</td>\n",
              "    </tr>\n",
              "    <tr>\n",
              "      <th>372449</th>\n",
              "      <td>25.0</td>\n",
              "      <td>0.0</td>\n",
              "      <td>0.0</td>\n",
              "      <td>0.0</td>\n",
              "      <td>0.0</td>\n",
              "      <td>0.0</td>\n",
              "      <td>0.0</td>\n",
              "      <td>0.0</td>\n",
              "      <td>0.0</td>\n",
              "      <td>0.0</td>\n",
              "      <td>...</td>\n",
              "      <td>0.0</td>\n",
              "      <td>0.0</td>\n",
              "      <td>0.0</td>\n",
              "      <td>0.0</td>\n",
              "      <td>0.0</td>\n",
              "      <td>0.0</td>\n",
              "      <td>0.0</td>\n",
              "      <td>0.0</td>\n",
              "      <td>0.0</td>\n",
              "      <td>0.0</td>\n",
              "    </tr>\n",
              "  </tbody>\n",
              "</table>\n",
              "<p>372450 rows × 785 columns</p>\n",
              "</div>\n",
              "    <div class=\"colab-df-buttons\">\n",
              "\n",
              "  <div class=\"colab-df-container\">\n",
              "    <button class=\"colab-df-convert\" onclick=\"convertToInteractive('df-27b13a0c-6755-4db4-b558-0e78945f43f2')\"\n",
              "            title=\"Convert this dataframe to an interactive table.\"\n",
              "            style=\"display:none;\">\n",
              "\n",
              "  <svg xmlns=\"http://www.w3.org/2000/svg\" height=\"24px\" viewBox=\"0 -960 960 960\">\n",
              "    <path d=\"M120-120v-720h720v720H120Zm60-500h600v-160H180v160Zm220 220h160v-160H400v160Zm0 220h160v-160H400v160ZM180-400h160v-160H180v160Zm440 0h160v-160H620v160ZM180-180h160v-160H180v160Zm440 0h160v-160H620v160Z\"/>\n",
              "  </svg>\n",
              "    </button>\n",
              "\n",
              "  <style>\n",
              "    .colab-df-container {\n",
              "      display:flex;\n",
              "      gap: 12px;\n",
              "    }\n",
              "\n",
              "    .colab-df-convert {\n",
              "      background-color: #E8F0FE;\n",
              "      border: none;\n",
              "      border-radius: 50%;\n",
              "      cursor: pointer;\n",
              "      display: none;\n",
              "      fill: #1967D2;\n",
              "      height: 32px;\n",
              "      padding: 0 0 0 0;\n",
              "      width: 32px;\n",
              "    }\n",
              "\n",
              "    .colab-df-convert:hover {\n",
              "      background-color: #E2EBFA;\n",
              "      box-shadow: 0px 1px 2px rgba(60, 64, 67, 0.3), 0px 1px 3px 1px rgba(60, 64, 67, 0.15);\n",
              "      fill: #174EA6;\n",
              "    }\n",
              "\n",
              "    .colab-df-buttons div {\n",
              "      margin-bottom: 4px;\n",
              "    }\n",
              "\n",
              "    [theme=dark] .colab-df-convert {\n",
              "      background-color: #3B4455;\n",
              "      fill: #D2E3FC;\n",
              "    }\n",
              "\n",
              "    [theme=dark] .colab-df-convert:hover {\n",
              "      background-color: #434B5C;\n",
              "      box-shadow: 0px 1px 3px 1px rgba(0, 0, 0, 0.15);\n",
              "      filter: drop-shadow(0px 1px 2px rgba(0, 0, 0, 0.3));\n",
              "      fill: #FFFFFF;\n",
              "    }\n",
              "  </style>\n",
              "\n",
              "    <script>\n",
              "      const buttonEl =\n",
              "        document.querySelector('#df-27b13a0c-6755-4db4-b558-0e78945f43f2 button.colab-df-convert');\n",
              "      buttonEl.style.display =\n",
              "        google.colab.kernel.accessAllowed ? 'block' : 'none';\n",
              "\n",
              "      async function convertToInteractive(key) {\n",
              "        const element = document.querySelector('#df-27b13a0c-6755-4db4-b558-0e78945f43f2');\n",
              "        const dataTable =\n",
              "          await google.colab.kernel.invokeFunction('convertToInteractive',\n",
              "                                                    [key], {});\n",
              "        if (!dataTable) return;\n",
              "\n",
              "        const docLinkHtml = 'Like what you see? Visit the ' +\n",
              "          '<a target=\"_blank\" href=https://colab.research.google.com/notebooks/data_table.ipynb>data table notebook</a>'\n",
              "          + ' to learn more about interactive tables.';\n",
              "        element.innerHTML = '';\n",
              "        dataTable['output_type'] = 'display_data';\n",
              "        await google.colab.output.renderOutput(dataTable, element);\n",
              "        const docLink = document.createElement('div');\n",
              "        docLink.innerHTML = docLinkHtml;\n",
              "        element.appendChild(docLink);\n",
              "      }\n",
              "    </script>\n",
              "  </div>\n",
              "\n",
              "\n",
              "<div id=\"df-efc6b549-d6fa-4891-91c8-aa8dcb3014f7\">\n",
              "  <button class=\"colab-df-quickchart\" onclick=\"quickchart('df-efc6b549-d6fa-4891-91c8-aa8dcb3014f7')\"\n",
              "            title=\"Suggest charts\"\n",
              "            style=\"display:none;\">\n",
              "\n",
              "<svg xmlns=\"http://www.w3.org/2000/svg\" height=\"24px\"viewBox=\"0 0 24 24\"\n",
              "     width=\"24px\">\n",
              "    <g>\n",
              "        <path d=\"M19 3H5c-1.1 0-2 .9-2 2v14c0 1.1.9 2 2 2h14c1.1 0 2-.9 2-2V5c0-1.1-.9-2-2-2zM9 17H7v-7h2v7zm4 0h-2V7h2v10zm4 0h-2v-4h2v4z\"/>\n",
              "    </g>\n",
              "</svg>\n",
              "  </button>\n",
              "\n",
              "<style>\n",
              "  .colab-df-quickchart {\n",
              "      --bg-color: #E8F0FE;\n",
              "      --fill-color: #1967D2;\n",
              "      --hover-bg-color: #E2EBFA;\n",
              "      --hover-fill-color: #174EA6;\n",
              "      --disabled-fill-color: #AAA;\n",
              "      --disabled-bg-color: #DDD;\n",
              "  }\n",
              "\n",
              "  [theme=dark] .colab-df-quickchart {\n",
              "      --bg-color: #3B4455;\n",
              "      --fill-color: #D2E3FC;\n",
              "      --hover-bg-color: #434B5C;\n",
              "      --hover-fill-color: #FFFFFF;\n",
              "      --disabled-bg-color: #3B4455;\n",
              "      --disabled-fill-color: #666;\n",
              "  }\n",
              "\n",
              "  .colab-df-quickchart {\n",
              "    background-color: var(--bg-color);\n",
              "    border: none;\n",
              "    border-radius: 50%;\n",
              "    cursor: pointer;\n",
              "    display: none;\n",
              "    fill: var(--fill-color);\n",
              "    height: 32px;\n",
              "    padding: 0;\n",
              "    width: 32px;\n",
              "  }\n",
              "\n",
              "  .colab-df-quickchart:hover {\n",
              "    background-color: var(--hover-bg-color);\n",
              "    box-shadow: 0 1px 2px rgba(60, 64, 67, 0.3), 0 1px 3px 1px rgba(60, 64, 67, 0.15);\n",
              "    fill: var(--button-hover-fill-color);\n",
              "  }\n",
              "\n",
              "  .colab-df-quickchart-complete:disabled,\n",
              "  .colab-df-quickchart-complete:disabled:hover {\n",
              "    background-color: var(--disabled-bg-color);\n",
              "    fill: var(--disabled-fill-color);\n",
              "    box-shadow: none;\n",
              "  }\n",
              "\n",
              "  .colab-df-spinner {\n",
              "    border: 2px solid var(--fill-color);\n",
              "    border-color: transparent;\n",
              "    border-bottom-color: var(--fill-color);\n",
              "    animation:\n",
              "      spin 1s steps(1) infinite;\n",
              "  }\n",
              "\n",
              "  @keyframes spin {\n",
              "    0% {\n",
              "      border-color: transparent;\n",
              "      border-bottom-color: var(--fill-color);\n",
              "      border-left-color: var(--fill-color);\n",
              "    }\n",
              "    20% {\n",
              "      border-color: transparent;\n",
              "      border-left-color: var(--fill-color);\n",
              "      border-top-color: var(--fill-color);\n",
              "    }\n",
              "    30% {\n",
              "      border-color: transparent;\n",
              "      border-left-color: var(--fill-color);\n",
              "      border-top-color: var(--fill-color);\n",
              "      border-right-color: var(--fill-color);\n",
              "    }\n",
              "    40% {\n",
              "      border-color: transparent;\n",
              "      border-right-color: var(--fill-color);\n",
              "      border-top-color: var(--fill-color);\n",
              "    }\n",
              "    60% {\n",
              "      border-color: transparent;\n",
              "      border-right-color: var(--fill-color);\n",
              "    }\n",
              "    80% {\n",
              "      border-color: transparent;\n",
              "      border-right-color: var(--fill-color);\n",
              "      border-bottom-color: var(--fill-color);\n",
              "    }\n",
              "    90% {\n",
              "      border-color: transparent;\n",
              "      border-bottom-color: var(--fill-color);\n",
              "    }\n",
              "  }\n",
              "</style>\n",
              "\n",
              "  <script>\n",
              "    async function quickchart(key) {\n",
              "      const quickchartButtonEl =\n",
              "        document.querySelector('#' + key + ' button');\n",
              "      quickchartButtonEl.disabled = true;  // To prevent multiple clicks.\n",
              "      quickchartButtonEl.classList.add('colab-df-spinner');\n",
              "      try {\n",
              "        const charts = await google.colab.kernel.invokeFunction(\n",
              "            'suggestCharts', [key], {});\n",
              "      } catch (error) {\n",
              "        console.error('Error during call to suggestCharts:', error);\n",
              "      }\n",
              "      quickchartButtonEl.classList.remove('colab-df-spinner');\n",
              "      quickchartButtonEl.classList.add('colab-df-quickchart-complete');\n",
              "    }\n",
              "    (() => {\n",
              "      let quickchartButtonEl =\n",
              "        document.querySelector('#df-efc6b549-d6fa-4891-91c8-aa8dcb3014f7 button');\n",
              "      quickchartButtonEl.style.display =\n",
              "        google.colab.kernel.accessAllowed ? 'block' : 'none';\n",
              "    })();\n",
              "  </script>\n",
              "</div>\n",
              "    </div>\n",
              "  </div>\n"
            ]
          },
          "metadata": {},
          "execution_count": 15
        }
      ]
    },
    {
      "cell_type": "markdown",
      "source": [
        "**Penjelasan**\n",
        "- Output yang ditampilkan adalah dataset A-Z Handwriting Data.csv. Data frame ini digunakan untuk melatih dan mengevaluasi model OCR CNN\n",
        "- Dataset ini memiliki 372,450 baris dan 785 kolom, di mana kolom pertama adalah label dan kolom-kolom berikutnya (784 kolom) adalah nilai piksel dari gambar-gambar alfabet tulisan tangan yang terdiri dari A-Z."
      ],
      "metadata": {
        "id": "If8V3oNy1C1A"
      }
    },
    {
      "cell_type": "code",
      "source": [
        "# Get pixel data only\n",
        "alphabet_data = dataset_az.drop('0', axis=1)\n",
        "# Get labels only\n",
        "alphabet_labels = dataset_az['0']"
      ],
      "metadata": {
        "id": "dK6pP0b-o81T"
      },
      "execution_count": 16,
      "outputs": []
    },
    {
      "cell_type": "code",
      "source": [
        "# Check shape data\n",
        "alphabet_data.shape, alphabet_labels.shape"
      ],
      "metadata": {
        "id": "NllEoaiLpZhI",
        "colab": {
          "base_uri": "https://localhost:8080/"
        },
        "outputId": "49bfae4e-492e-4f28-a7a5-351bfeea9c49"
      },
      "execution_count": 17,
      "outputs": [
        {
          "output_type": "execute_result",
          "data": {
            "text/plain": [
              "((372450, 784), (372450,))"
            ]
          },
          "metadata": {},
          "execution_count": 17
        }
      ]
    },
    {
      "cell_type": "markdown",
      "source": [
        "- Data piksel memiliki bentuk (372450, 784), sementara label memiliki bentuk (372450,)."
      ],
      "metadata": {
        "id": "x__SoxfK1H82"
      }
    },
    {
      "cell_type": "code",
      "source": [
        "# Check shape labels\n",
        "alphabet_labels.shape"
      ],
      "metadata": {
        "id": "UvE88zSkpe5e",
        "colab": {
          "base_uri": "https://localhost:8080/"
        },
        "outputId": "38a08ee6-1abd-43a9-87e5-504f6b856fde"
      },
      "execution_count": 18,
      "outputs": [
        {
          "output_type": "execute_result",
          "data": {
            "text/plain": [
              "(372450,)"
            ]
          },
          "metadata": {},
          "execution_count": 18
        }
      ]
    },
    {
      "cell_type": "markdown",
      "source": [
        "**Penjelasan**\n",
        "- Data label memiliki bentuk (372450,)."
      ],
      "metadata": {
        "id": "SGx6IFSP1MtT"
      }
    },
    {
      "cell_type": "markdown",
      "source": [],
      "metadata": {
        "id": "0kh-TJP1_6bS"
      }
    },
    {
      "cell_type": "code",
      "source": [
        "# Reshape pixel data to 28*28\n",
        "alphabet_data = np.reshape(alphabet_data.values, (alphabet_data.shape[0], 28, 28))\n",
        "# Check the result by its shape\n",
        "alphabet_data.shape"
      ],
      "metadata": {
        "id": "9xps-5kjpio_",
        "colab": {
          "base_uri": "https://localhost:8080/"
        },
        "outputId": "955379ce-3ce6-4dba-f0e0-06e12949fae6"
      },
      "execution_count": 19,
      "outputs": [
        {
          "output_type": "execute_result",
          "data": {
            "text/plain": [
              "(372450, 28, 28)"
            ]
          },
          "metadata": {},
          "execution_count": 19
        }
      ]
    },
    {
      "cell_type": "markdown",
      "source": [
        "**Penjelasan**\n",
        "- data digit memiliki 372.450 baris, 28 kolom, dan 28 baris. Baris mewakili setiap gambar digit, sedangkan kolom mewakili setiap piksel pada gambar tersebut."
      ],
      "metadata": {
        "id": "1RlxC_oz1RRP"
      }
    },
    {
      "cell_type": "code",
      "source": [
        "# Randomly checking A-Z dataset\n",
        "index = np.random.randint(0, alphabet_data.shape[0])\n",
        "plt.imshow(alphabet_data[index], cmap = 'gray')\n",
        "plt.title('Class: ' + str(alphabet_labels[index]));"
      ],
      "metadata": {
        "id": "tDTBbWSoqloX",
        "colab": {
          "base_uri": "https://localhost:8080/",
          "height": 452
        },
        "outputId": "f8a3a2f0-96e4-4ce2-b00c-8ecc3a9e2af2"
      },
      "execution_count": 20,
      "outputs": [
        {
          "output_type": "display_data",
          "data": {
            "text/plain": [
              "<Figure size 640x480 with 1 Axes>"
            ],
            "image/png": "[encoded data removed]"
          },
          "metadata": {}
        }
      ]
    },
    {
      "cell_type": "markdown",
      "source": [
        "**Penjelasan**\n",
        "- Kode tersebut digunakan untuk secara acak memeriksa data digit yang telah disiapkan. Fungsi np.random.randint() digunakan untuk menghasilkan bilangan bulat acak antara 0 dan jumlah baris data digit. Bilangan bulat ini kemudian digunakan untuk memilih salah satu digit dari data digit.\n",
        "\n",
        "  Setelah digit dipilih, fungsi plt.imshow() digunakan untuk menampilkan digit tersebut sebagai gambar. Fungsi plt.title() digunakan untuk menambahkan judul pada gambar yang berisi kelas dari digit tersebut."
      ],
      "metadata": {
        "id": "a88vUhf21VB5"
      }
    },
    {
      "cell_type": "code",
      "source": [
        "# Check data distribution\n",
        "df_az_labels = pd.DataFrame({\n",
        "    'Labels': alphabet_labels.values\n",
        "})\n",
        "sns.countplot(df_az_labels, x='Labels')"
      ],
      "metadata": {
        "id": "72frSp_uqrjm",
        "colab": {
          "base_uri": "https://localhost:8080/",
          "height": 468
        },
        "outputId": "154d8b35-5530-488c-9dbe-246fa9f9129f"
      },
      "execution_count": 21,
      "outputs": [
        {
          "output_type": "execute_result",
          "data": {
            "text/plain": [
              "<Axes: xlabel='Labels', ylabel='count'>"
            ]
          },
          "metadata": {},
          "execution_count": 21
        },
        {
          "output_type": "display_data",
          "data": {
            "text/plain": [
              "<Figure size 640x480 with 1 Axes>"
            ],
            "image/png": "[encoded data removed]"
          },
          "metadata": {}
        }
      ]
    },
    {
      "cell_type": "markdown",
      "source": [
        "**Penjelasan**\n",
        "\n",
        "Kode tersebut digunakan untuk memplot distribusi kelas dari data digit. Fungsi sns.countplot() digunakan untuk membuat plot batang yang menunjukkan jumlah data untuk setiap kelas.\n",
        "- Sumbu x menunjukkan kelas digit.\n",
        "- Sumbu y menunjukkan jumlah data untuk setiap kelas.\n",
        "- Tinggi setiap batang menunjukkan jumlah data untuk kelas tersebut."
      ],
      "metadata": {
        "id": "qFiDSHU21bTp"
      }
    },
    {
      "cell_type": "markdown",
      "source": [
        "## Combine Dataset (MNIST + Kaggel A-Z)"
      ],
      "metadata": {
        "id": "YZf14K79sdEC"
      }
    },
    {
      "cell_type": "code",
      "source": [
        "# Check unique value from digits_labels\n",
        "np.unique(digits_labels)"
      ],
      "metadata": {
        "id": "9voZzZ8Krqk4",
        "colab": {
          "base_uri": "https://localhost:8080/"
        },
        "outputId": "28cb9d0f-a750-4a3d-fb5e-81cb65c7fa55"
      },
      "execution_count": 22,
      "outputs": [
        {
          "output_type": "execute_result",
          "data": {
            "text/plain": [
              "array([0, 1, 2, 3, 4, 5, 6, 7, 8, 9], dtype=uint8)"
            ]
          },
          "metadata": {},
          "execution_count": 22
        }
      ]
    },
    {
      "cell_type": "markdown",
      "source": [
        "**Penjelasan**\n",
        "\n",
        "Kode tersebut digunakan untuk memeriksa nilai unik dari label data digit. Fungsi np.unique() digunakan untuk mengembalikan nilai unik dari sebuah array.\n",
        "\n",
        "Artinya, label data digit hanya memiliki 10 nilai unik, yaitu 0, 1, 2, 3, 4, 5, 6, 7, 8, dan 9.\n"
      ],
      "metadata": {
        "id": "4r4Wlqjk1eAs"
      }
    },
    {
      "cell_type": "code",
      "source": [
        "# Check unique value from alphabet_labels\n",
        "np.unique(alphabet_labels)"
      ],
      "metadata": {
        "id": "9ZzBJFKxs1AF",
        "colab": {
          "base_uri": "https://localhost:8080/"
        },
        "outputId": "f008ac08-1022-453c-a39b-2c7ee5a80c12"
      },
      "execution_count": 23,
      "outputs": [
        {
          "output_type": "execute_result",
          "data": {
            "text/plain": [
              "array([ 0.,  1.,  2.,  3.,  4.,  5.,  6.,  7.,  8.,  9., 10., 11., 12.,\n",
              "       13., 14., 15., 16., 17., 18., 19., 20., 21., 22., 23., 24., 25.],\n",
              "      dtype=float32)"
            ]
          },
          "metadata": {},
          "execution_count": 23
        }
      ]
    },
    {
      "cell_type": "markdown",
      "source": [
        "**Penjelasan**\n",
        "\n",
        "- Output yang dihasilkan berupa array dengan nilai unik dari label alfabet, yaitu 0.0, 1.0, 2.0, ..., 25.0. Dtype (dtype=float32) menunjukkan bahwa tipe data label ini adalah float32. Setelah penambahan (alphabet_labels += 10), nilai uniknya menjadi 10.0, 11.0, 12.0, ..., 35.0."
      ],
      "metadata": {
        "id": "3_v6KCDM1hgg"
      }
    },
    {
      "cell_type": "code",
      "source": [
        "# We already know that digits labels containt labels from 0-9 (10 labels)\n",
        "# We also know that alphabet labels start from 0-25 which represent A-Z\n",
        "# If we want to combine them, the A-Z labels should continuing the digits label\n",
        "\n",
        "alphabet_labels += 10"
      ],
      "metadata": {
        "id": "dM0GV8lIsnzf"
      },
      "execution_count": 24,
      "outputs": []
    },
    {
      "cell_type": "code",
      "source": [
        "# check alphabet labels again\n",
        "np.unique(alphabet_labels)"
      ],
      "metadata": {
        "id": "42YKtJB-tQC6",
        "colab": {
          "base_uri": "https://localhost:8080/"
        },
        "outputId": "2940a66b-e702-4b8a-edc7-d6e12471de87"
      },
      "execution_count": 25,
      "outputs": [
        {
          "output_type": "execute_result",
          "data": {
            "text/plain": [
              "array([10., 11., 12., 13., 14., 15., 16., 17., 18., 19., 20., 21., 22.,\n",
              "       23., 24., 25., 26., 27., 28., 29., 30., 31., 32., 33., 34., 35.],\n",
              "      dtype=float32)"
            ]
          },
          "metadata": {},
          "execution_count": 25
        }
      ]
    },
    {
      "cell_type": "markdown",
      "source": [
        "- Setelah penambahan (alphabet_labels += 10), nilai unik dari label pada dataset alfabet menjadi array [10., 11., 12., 13., 14., 15., 16., 17., 18., 19., 20., 21., 22., 23., 24., 25., 26., 27., 28., 29., 30., 31., 32., 33., 34., 35.]. Dtype (dtype=float32) menunjukkan bahwa tipe data label ini adalah float32."
      ],
      "metadata": {
        "id": "EZNoHrrG1mOA"
      }
    },
    {
      "cell_type": "code",
      "source": [
        "# Combine both of them\n",
        "data = np.vstack([alphabet_data, digits_data])\n",
        "labels = np.hstack([alphabet_labels, digits_labels])"
      ],
      "metadata": {
        "id": "1ydXPXiItVVS"
      },
      "execution_count": 26,
      "outputs": []
    },
    {
      "cell_type": "code",
      "source": [
        "# Check the shape\n",
        "data.shape, labels.shape"
      ],
      "metadata": {
        "id": "-vYLoXFjuLz7",
        "colab": {
          "base_uri": "https://localhost:8080/"
        },
        "outputId": "cdc8a656-80a8-4ef9-e9b6-fdb1d3ac2ba4"
      },
      "execution_count": 27,
      "outputs": [
        {
          "output_type": "execute_result",
          "data": {
            "text/plain": [
              "((442450, 28, 28), (442450,))"
            ]
          },
          "metadata": {},
          "execution_count": 27
        }
      ]
    },
    {
      "cell_type": "markdown",
      "source": [
        "- Output (442450, 28, 28) menunjukkan bahwa data sekarang memiliki 442,450 sampel, masing-masing dengan dimensi gambar 28x28 piksel.\n",
        "- Output (442450,) menunjukkan bahwa terdapat 442,450 label yang sesuai dengan setiap sampel data. Jumlah label sama dengan jumlah sampel data, menunjukkan bahwa setiap sampel memiliki label yang sesuai."
      ],
      "metadata": {
        "id": "OaHHqlpk1sUH"
      }
    },
    {
      "cell_type": "code",
      "source": [
        "# Check labels\n",
        "np.unique(labels)"
      ],
      "metadata": {
        "id": "biyM6WueuRG6",
        "colab": {
          "base_uri": "https://localhost:8080/"
        },
        "outputId": "baaf90e0-11b4-41b1-a051-38ed8c078217"
      },
      "execution_count": 28,
      "outputs": [
        {
          "output_type": "execute_result",
          "data": {
            "text/plain": [
              "array([ 0.,  1.,  2.,  3.,  4.,  5.,  6.,  7.,  8.,  9., 10., 11., 12.,\n",
              "       13., 14., 15., 16., 17., 18., 19., 20., 21., 22., 23., 24., 25.,\n",
              "       26., 27., 28., 29., 30., 31., 32., 33., 34., 35.], dtype=float32)"
            ]
          },
          "metadata": {},
          "execution_count": 28
        }
      ]
    },
    {
      "cell_type": "markdown",
      "source": [
        "- Output yang dihasilkan adalah array bertipe data float32"
      ],
      "metadata": {
        "id": "KQxL6NEM1yXG"
      }
    },
    {
      "cell_type": "code",
      "source": [
        "# Convert data to float32\n",
        "data = np.array(data, dtype = 'float32')"
      ],
      "metadata": {
        "id": "vuEt24lhuVfy"
      },
      "execution_count": 29,
      "outputs": []
    },
    {
      "cell_type": "code",
      "source": [
        "# Since Convolutional need 3d data (including depth)\n",
        "# and our images only in 2d data (because in grayscale format)\n",
        "# we need to add \"the depth\" to the data\n",
        "data = np.expand_dims(data, axis=-1)\n",
        "\n",
        "# check shape\n",
        "data.shape"
      ],
      "metadata": {
        "id": "UC6Vhz59ucdR",
        "colab": {
          "base_uri": "https://localhost:8080/"
        },
        "outputId": "9ba9bbf0-0001-4686-faae-eb8d022c73b3"
      },
      "execution_count": 30,
      "outputs": [
        {
          "output_type": "execute_result",
          "data": {
            "text/plain": [
              "(442450, 28, 28, 1)"
            ]
          },
          "metadata": {},
          "execution_count": 30
        }
      ]
    },
    {
      "cell_type": "markdown",
      "source": [
        "- Output (442450, 28, 28, 1) menunjukkan bahwa data sekarang memiliki 442,450 sampel, masing-masing dengan dimensi gambar 28x28 piksel, dan satu saluran warna (karena ada dimensi kedalaman/depth sebesar 1). Data ini sudah siap untuk digunakan dalam pelatihan model Convolutional Neural Network (CNN)."
      ],
      "metadata": {
        "id": "S17C7HH211Yb"
      }
    },
    {
      "cell_type": "markdown",
      "source": [
        "# Preprocessing"
      ],
      "metadata": {
        "id": "xF71lXtSu3YE"
      }
    },
    {
      "cell_type": "code",
      "source": [
        "# Normalize data\n",
        "data /= 255.0"
      ],
      "metadata": {
        "id": "kFjjP_JLuzbm"
      },
      "execution_count": 31,
      "outputs": []
    },
    {
      "cell_type": "code",
      "source": [
        "# Check range value of data\n",
        "data[0].min(), data[0].max()"
      ],
      "metadata": {
        "id": "zztStKZOu-Dy",
        "colab": {
          "base_uri": "https://localhost:8080/"
        },
        "outputId": "be800423-2dfe-47bf-e9a2-9b0af7188c34"
      },
      "execution_count": 32,
      "outputs": [
        {
          "output_type": "execute_result",
          "data": {
            "text/plain": [
              "(0.0, 1.0)"
            ]
          },
          "metadata": {},
          "execution_count": 32
        }
      ]
    },
    {
      "cell_type": "code",
      "source": [
        "# Enconde the labels\n",
        "# LabelBinarizer similar with OneHotEncoder\n",
        "le = LabelBinarizer()\n",
        "labels = le.fit_transform(labels)"
      ],
      "metadata": {
        "id": "s2C5yKEGu7vt"
      },
      "execution_count": 33,
      "outputs": []
    },
    {
      "cell_type": "markdown",
      "source": [
        "Penjelasan: Menggunakan LabelBinarizer untuk mengkodekan label menjadi bentuk biner (one-hot encoding). Hasilnya adalah array dengan bentuk (442450, 36) karena sekarang terdapat 36 label yang mewakili digit 0-9 dan huruf A-Z."
      ],
      "metadata": {
        "id": "K9qDIo8818gD"
      }
    },
    {
      "cell_type": "code",
      "source": [
        "# Check labels shape\n",
        "labels.shape"
      ],
      "metadata": {
        "id": "Bo1M5YEmvg5x",
        "colab": {
          "base_uri": "https://localhost:8080/"
        },
        "outputId": "7ac2a252-2db1-4ca5-8a74-36f55620e417"
      },
      "execution_count": 34,
      "outputs": [
        {
          "output_type": "execute_result",
          "data": {
            "text/plain": [
              "(442450, 36)"
            ]
          },
          "metadata": {},
          "execution_count": 34
        }
      ]
    },
    {
      "cell_type": "code",
      "source": [
        "# Check data with label binarizer's label\n",
        "plt.imshow(data[30000].reshape(28,28), cmap='gray')\n",
        "plt.title(str(labels[0]))"
      ],
      "metadata": {
        "id": "jCL5ipbsvjpw",
        "colab": {
          "base_uri": "https://localhost:8080/",
          "height": 487
        },
        "outputId": "b9cf51cd-a76f-4623-fa9c-cc7d3f0e5bf2"
      },
      "execution_count": 35,
      "outputs": [
        {
          "output_type": "execute_result",
          "data": {
            "text/plain": [
              "Text(0.5, 1.0, '[0 0 0 0 0 0 0 0 0 0 1 0 0 0 0 0 0 0 0 0 0 0 0 0 0 0 0 0 0 0 0 0 0 0 0 0]')"
            ]
          },
          "metadata": {},
          "execution_count": 35
        },
        {
          "output_type": "display_data",
          "data": {
            "text/plain": [
              "<Figure size 640x480 with 1 Axes>"
            ],
            "image/png": "[encoded data removed]"
          },
          "metadata": {}
        }
      ]
    },
    {
      "cell_type": "markdown",
      "source": [
        "**Penjelasan**\n",
        "\n",
        "Kode tersebut digunakan untuk menampilkan gambar digit dari data digit yang telah diubah bentuk menjadi 28x28 piksel. Fungsi plt.imshow() digunakan untuk menampilkan gambar, sedangkan fungsi plt.title() digunakan untuk menambahkan judul pada gambar yang berisi kelas dari digit tersebut.\n",
        "\n",
        "\n",
        "Kode diatas akan menampilkan label biner yang sesuai dengan sampel tersebut. Outputnya adalah Text(0.5, 1.0, '[0 0 0 0 0 0 0 0 0 0 1 0 0 0 0 0 0 0 0 0 0 0 0 0 0 0 0 0 0 0 0 0 0 0 0 0 0]'). Label ini menunjukkan bahwa digit atau huruf yang mewakili sampel tersebut adalah 10, yang sesuai dengan huruf 'A' dalam alfabet."
      ],
      "metadata": {
        "id": "-AP7xwBx2FOh"
      }
    },
    {
      "cell_type": "code",
      "source": [
        "# Since our data is not balance, we will handle it by giving weight for 'small' data\n",
        "\n",
        "# Check number of data for each labels first\n",
        "classes_total = labels.sum(axis = 0)\n",
        "classes_total"
      ],
      "metadata": {
        "id": "njDbZXKzvsx2",
        "colab": {
          "base_uri": "https://localhost:8080/"
        },
        "outputId": "1656c6fe-3c1d-4648-df28-2297734f63d2"
      },
      "execution_count": 36,
      "outputs": [
        {
          "output_type": "execute_result",
          "data": {
            "text/plain": [
              "array([ 6903,  7877,  6990,  7141,  6824,  6313,  6876,  7293,  6825,\n",
              "        6958, 13869,  8668, 23409, 10134, 11440,  1163,  5762,  7218,\n",
              "        1120,  8493,  5603, 11586, 12336, 19010, 57825, 19341,  5812,\n",
              "       11566, 48419, 22495, 29008,  4182, 10784,  6272, 10859,  6076])"
            ]
          },
          "metadata": {},
          "execution_count": 36
        }
      ]
    },
    {
      "cell_type": "markdown",
      "source": [
        "- Menghitung total data untuk setiap label menggunakan fungsi sum pada axis 0, menghasilkan array yang berisi jumlah data untuk setiap label."
      ],
      "metadata": {
        "id": "IAqVY8W72HyN"
      }
    },
    {
      "cell_type": "code",
      "source": [
        "# Check the biggest value of data\n",
        "classes_total.max()"
      ],
      "metadata": {
        "id": "R1hHYtGLv_ZO",
        "colab": {
          "base_uri": "https://localhost:8080/"
        },
        "outputId": "91438f1d-9da6-4ab6-a3f9-cf967bbacf9a"
      },
      "execution_count": 37,
      "outputs": [
        {
          "output_type": "execute_result",
          "data": {
            "text/plain": [
              "57825"
            ]
          },
          "metadata": {},
          "execution_count": 37
        }
      ]
    },
    {
      "cell_type": "markdown",
      "source": [
        "- Dari kode diatas, didapatkan nilai tertinggi dari jumlah data yaitu 57825"
      ],
      "metadata": {
        "id": "m8ZoCowj2LiZ"
      }
    },
    {
      "cell_type": "code",
      "source": [
        "# Create a weight for each data\n",
        "classes_weights = {}\n",
        "for i in range(0, len(classes_total)):\n",
        "  #print(i)\n",
        "  classes_weights[i] = classes_total.max() / classes_total[i]\n",
        "\n",
        "# Check the weight for each data\n",
        "classes_weights"
      ],
      "metadata": {
        "id": "7TJFrxS2wFTO",
        "colab": {
          "base_uri": "https://localhost:8080/"
        },
        "outputId": "fefd5213-5a0f-4d73-99f2-51f2a516f4c2"
      },
      "execution_count": 38,
      "outputs": [
        {
          "output_type": "execute_result",
          "data": {
            "text/plain": [
              "{0: 8.376792698826597,\n",
              " 1: 7.340992763742541,\n",
              " 2: 8.272532188841202,\n",
              " 3: 8.097605377398123,\n",
              " 4: 8.473769050410317,\n",
              " 5: 9.15967052114684,\n",
              " 6: 8.409685863874346,\n",
              " 7: 7.928835870012341,\n",
              " 8: 8.472527472527473,\n",
              " 9: 8.310577752227651,\n",
              " 10: 4.169370538611291,\n",
              " 11: 6.671089063221043,\n",
              " 12: 2.4702037677816224,\n",
              " 13: 5.7060390763765545,\n",
              " 14: 5.0546328671328675,\n",
              " 15: 49.72055030094583,\n",
              " 16: 10.035577924331829,\n",
              " 17: 8.011221945137157,\n",
              " 18: 51.629464285714285,\n",
              " 19: 6.808548216178029,\n",
              " 20: 10.320364090665715,\n",
              " 21: 4.990937338166753,\n",
              " 22: 4.6875,\n",
              " 23: 3.0418200946870066,\n",
              " 24: 1.0,\n",
              " 25: 2.989762680316426,\n",
              " 26: 9.94924294562973,\n",
              " 27: 4.999567698426422,\n",
              " 28: 1.1942625828703608,\n",
              " 29: 2.5705712380529007,\n",
              " 30: 1.993415609487038,\n",
              " 31: 13.827116212338593,\n",
              " 32: 5.362110534124629,\n",
              " 33: 9.21954719387755,\n",
              " 34: 5.3250759738465785,\n",
              " 35: 9.51695194206715}"
            ]
          },
          "metadata": {},
          "execution_count": 38
        }
      ]
    },
    {
      "cell_type": "markdown",
      "source": [
        "Penjelasan: Membuat dictionary classes_weights yang berisi bobot untuk setiap label. Bobot dihitung sebagai hasil pembagian nilai tertinggi jumlah data dengan jumlah data untuk setiap label. classes_weights menunjukkan bobot untuk setiap label setelah dihitung. Bobot ini akan digunakan dalam pelatihan model untuk menangani ketidakseimbangan data."
      ],
      "metadata": {
        "id": "Vo4206R-2Qy6"
      }
    },
    {
      "cell_type": "markdown",
      "source": [
        "# Split Data to Train and Test"
      ],
      "metadata": {
        "id": "VtDS1O6JwSQ5"
      }
    },
    {
      "cell_type": "code",
      "source": [
        "X_train, X_test, y_train, y_test = train_test_split(data, labels, test_size = 0.2, random_state = 1, stratify = labels)"
      ],
      "metadata": {
        "id": "rV62GJySwM2z"
      },
      "execution_count": 39,
      "outputs": []
    },
    {
      "cell_type": "markdown",
      "source": [
        "## Create Data Augmentation"
      ],
      "metadata": {
        "id": "q7Hs5GwGxw4E"
      }
    },
    {
      "cell_type": "code",
      "source": [
        "# Import library\n",
        "from tensorflow.keras.preprocessing.image import ImageDataGenerator"
      ],
      "metadata": {
        "id": "Xn1jiVn9x2Gx"
      },
      "execution_count": 40,
      "outputs": []
    },
    {
      "cell_type": "code",
      "source": [
        "augmentation = ImageDataGenerator(rotation_range = 10, zoom_range=0.05, width_shift_range=0.1,\n",
        "                                  height_shift_range=0.1, horizontal_flip = False)"
      ],
      "metadata": {
        "id": "su41P3box6Zm"
      },
      "execution_count": 41,
      "outputs": []
    },
    {
      "cell_type": "markdown",
      "source": [
        "# Build CNN Model"
      ],
      "metadata": {
        "id": "GYwIT1TZw8SM"
      }
    },
    {
      "cell_type": "code",
      "source": [
        "# Import library\n",
        "from tensorflow.keras.models import Sequential\n",
        "from tensorflow.keras.layers import Conv2D, MaxPool2D, Flatten, Dense\n",
        "from tensorflow.keras.callbacks import ModelCheckpoint"
      ],
      "metadata": {
        "id": "nvQ2Ly4zwX8z"
      },
      "execution_count": 42,
      "outputs": []
    },
    {
      "cell_type": "code",
      "source": [
        "# Build the network\n",
        "network = Sequential()\n",
        "\n",
        "network.add(Conv2D(filters = 32, kernel_size=(3,3), activation='relu', input_shape=(28,28,1)))\n",
        "network.add(MaxPool2D(pool_size=(2,2)))\n",
        "\n",
        "network.add(Conv2D(filters = 64, kernel_size=(3,3), activation='relu', padding='same'))\n",
        "network.add(MaxPool2D(pool_size=(2,2)))\n",
        "\n",
        "network.add(Conv2D(filters = 128, kernel_size=(3,3), activation='relu', padding='valid'))\n",
        "network.add(MaxPool2D(pool_size=(2,2)))\n",
        "\n",
        "network.add(Flatten())\n",
        "\n",
        "network.add(Dense(64, activation = 'relu'))\n",
        "network.add(Dense(128, activation = 'relu'))\n",
        "\n",
        "network.add(Dense(36, activation='softmax'))\n",
        "\n",
        "network.compile(loss = 'categorical_crossentropy', optimizer = 'adam', metrics = ['accuracy'])"
      ],
      "metadata": {
        "id": "icRreUChxAwF"
      },
      "execution_count": 43,
      "outputs": []
    },
    {
      "cell_type": "code",
      "source": [
        "# Check network summary\n",
        "network.summary()"
      ],
      "metadata": {
        "id": "nAuCYbRWxIKl",
        "colab": {
          "base_uri": "https://localhost:8080/"
        },
        "outputId": "dab02924-1f54-4f2f-c273-3fc5b6b18abd"
      },
      "execution_count": 44,
      "outputs": [
        {
          "output_type": "stream",
          "name": "stdout",
          "text": [
            "Model: \"sequential\"\n",
            "_________________________________________________________________\n",
            " Layer (type)                Output Shape              Param #   \n",
            "=================================================================\n",
            " conv2d (Conv2D)             (None, 26, 26, 32)        320       \n",
            "                                                                 \n",
            " max_pooling2d (MaxPooling2  (None, 13, 13, 32)        0         \n",
            " D)                                                              \n",
            "                                                                 \n",
            " conv2d_1 (Conv2D)           (None, 13, 13, 64)        18496     \n",
            "                                                                 \n",
            " max_pooling2d_1 (MaxPoolin  (None, 6, 6, 64)          0         \n",
            " g2D)                                                            \n",
            "                                                                 \n",
            " conv2d_2 (Conv2D)           (None, 4, 4, 128)         73856     \n",
            "                                                                 \n",
            " max_pooling2d_2 (MaxPoolin  (None, 2, 2, 128)         0         \n",
            " g2D)                                                            \n",
            "                                                                 \n",
            " flatten (Flatten)           (None, 512)               0         \n",
            "                                                                 \n",
            " dense (Dense)               (None, 64)                32832     \n",
            "                                                                 \n",
            " dense_1 (Dense)             (None, 128)               8320      \n",
            "                                                                 \n",
            " dense_2 (Dense)             (None, 36)                4644      \n",
            "                                                                 \n",
            "=================================================================\n",
            "Total params: 138468 (540.89 KB)\n",
            "Trainable params: 138468 (540.89 KB)\n",
            "Non-trainable params: 0 (0.00 Byte)\n",
            "_________________________________________________________________\n"
          ]
        }
      ]
    },
    {
      "cell_type": "markdown",
      "source": [
        "**Penjelasan**\n",
        "\n",
        "Kode tersebut digunakan untuk membangun jaringan saraf tiruan (neural network) untuk pengenalan digit. Jaringan saraf tiruan ini menggunakan arsitektur convolutional neural network (CNN).\n",
        "\n",
        "jaringan saraf tiruan yang dibangun terdiri dari beberapa lapisan, yaitu:\n",
        "\n",
        "- Lapisan input (input layer) menerima data input, yaitu gambar digit.\n",
        "- Lapisan convolutional (convolutional layer) menyaring gambar untuk mengekstrak fitur-fitur penting.\n",
        "- Lapisan pooling (pooling layer) mengurangi ukuran gambar tanpa kehilangan informasi penting.\n",
        "- Lapisan flatten (flatten layer) mengubah gambar menjadi vektor.\n",
        "- Lapisan fully connected (fully connected layer) menghubungkan semua neuron dalam - lapisan sebelumnya.\n",
        "- Lapisan output (output layer) menghasilkan keluaran, yaitu kelas digit."
      ],
      "metadata": {
        "id": "zlWC0H4UGEI-"
      }
    },
    {
      "cell_type": "code",
      "source": [
        "# Create actual labels\n",
        "name_labels = '0123456789'\n",
        "name_labels += 'ABCDEFGHIJKLMNOPQRSTUVWXYZ'\n",
        "name_labels = [l for l in name_labels]\n",
        "\n",
        "# Check actual label\n",
        "print(name_labels)"
      ],
      "metadata": {
        "id": "o7Vc4ly2xMhk",
        "colab": {
          "base_uri": "https://localhost:8080/"
        },
        "outputId": "34034262-a427-4185-c9c2-3ce959508b09"
      },
      "execution_count": 45,
      "outputs": [
        {
          "output_type": "stream",
          "name": "stdout",
          "text": [
            "['0', '1', '2', '3', '4', '5', '6', '7', '8', '9', 'A', 'B', 'C', 'D', 'E', 'F', 'G', 'H', 'I', 'J', 'K', 'L', 'M', 'N', 'O', 'P', 'Q', 'R', 'S', 'T', 'U', 'V', 'W', 'X', 'Y', 'Z']\n"
          ]
        }
      ]
    },
    {
      "cell_type": "markdown",
      "source": [
        "## Train model"
      ],
      "metadata": {
        "id": "DH7hSW38xX6e"
      }
    },
    {
      "cell_type": "code",
      "source": [
        "# Set model name, epoch, and batch size\n",
        "file_model = 'custom_ocr.model'\n",
        "epochs = 20\n",
        "batch_size = 128"
      ],
      "metadata": {
        "id": "rNQ_-PY7xVRD"
      },
      "execution_count": 46,
      "outputs": []
    },
    {
      "cell_type": "markdown",
      "source": [
        "- Dalam kode ini, model disimpan dengan nama 'custom_ocr.model'. Jumlah epoch ditetapkan sebanyak 20, dan ukuran batch untuk pelatihan adalah 128."
      ],
      "metadata": {
        "id": "b5WkOPuyHvRh"
      }
    },
    {
      "cell_type": "code",
      "source": [
        "# Setup checkpoint\n",
        "checkpointer = ModelCheckpoint(file_model, monitor = 'val_loss', verbose = 1, save_best_only=True)"
      ],
      "metadata": {
        "id": "F8Orj5UQxdtr"
      },
      "execution_count": 47,
      "outputs": []
    },
    {
      "cell_type": "markdown",
      "source": [
        "- Membuat objek ModelCheckpoint untuk menyimpan model setiap kali terjadi perbaikan (monitor='val_loss') pada nilai validasi (save_best_only=True)."
      ],
      "metadata": {
        "id": "wA4y16-yHyOO"
      }
    },
    {
      "cell_type": "code",
      "source": [
        "# Fit the model\n",
        "history = network.fit(augmentation.flow(X_train, y_train, batch_size=batch_size),\n",
        "                      validation_data = (X_test, y_test),\n",
        "                      steps_per_epoch = len(X_train) // batch_size, epochs=epochs,\n",
        "                      class_weight = classes_weights, verbose=1, callbacks=[checkpointer])"
      ],
      "metadata": {
        "id": "enFAwiaxxkgx",
        "colab": {
          "base_uri": "https://localhost:8080/"
        },
        "outputId": "37d5f1f4-ac40-4c2d-8777-f0ed170ea5e0"
      },
      "execution_count": 48,
      "outputs": [
        {
          "output_type": "stream",
          "name": "stdout",
          "text": [
            "Epoch 1/20\n",
            "2764/2765 [============================>.] - ETA: 0s - loss: 2.2507 - accuracy: 0.8228\n",
            "Epoch 1: val_loss improved from inf to 0.24590, saving model to custom_ocr.model\n",
            "2765/2765 [==============================] - 142s 47ms/step - loss: 2.2504 - accuracy: 0.8228 - val_loss: 0.2459 - val_accuracy: 0.9049\n",
            "Epoch 2/20\n",
            "2764/2765 [============================>.] - ETA: 0s - loss: 0.9816 - accuracy: 0.9001\n",
            "Epoch 2: val_loss improved from 0.24590 to 0.24396, saving model to custom_ocr.model\n",
            "2765/2765 [==============================] - 131s 47ms/step - loss: 0.9816 - accuracy: 0.9001 - val_loss: 0.2440 - val_accuracy: 0.9015\n",
            "Epoch 3/20\n",
            "2764/2765 [============================>.] - ETA: 0s - loss: 0.8165 - accuracy: 0.9125\n",
            "Epoch 3: val_loss did not improve from 0.24396\n",
            "2765/2765 [==============================] - 131s 47ms/step - loss: 0.8164 - accuracy: 0.9125 - val_loss: 0.2560 - val_accuracy: 0.8982\n",
            "Epoch 4/20\n",
            "2765/2765 [==============================] - ETA: 0s - loss: 0.7253 - accuracy: 0.9200\n",
            "Epoch 4: val_loss did not improve from 0.24396\n",
            "2765/2765 [==============================] - 133s 48ms/step - loss: 0.7253 - accuracy: 0.9200 - val_loss: 0.2507 - val_accuracy: 0.8967\n",
            "Epoch 5/20\n",
            "2765/2765 [==============================] - ETA: 0s - loss: 0.6703 - accuracy: 0.9259\n",
            "Epoch 5: val_loss did not improve from 0.24396\n",
            "2765/2765 [==============================] - 128s 46ms/step - loss: 0.6703 - accuracy: 0.9259 - val_loss: 0.3039 - val_accuracy: 0.8738\n",
            "Epoch 6/20\n",
            "2765/2765 [==============================] - ETA: 0s - loss: 0.6074 - accuracy: 0.9316\n",
            "Epoch 6: val_loss did not improve from 0.24396\n",
            "2765/2765 [==============================] - 122s 44ms/step - loss: 0.6074 - accuracy: 0.9316 - val_loss: 0.2837 - val_accuracy: 0.8896\n",
            "Epoch 7/20\n",
            "2765/2765 [==============================] - ETA: 0s - loss: 0.5829 - accuracy: 0.9335\n",
            "Epoch 7: val_loss did not improve from 0.24396\n",
            "2765/2765 [==============================] - 130s 47ms/step - loss: 0.5829 - accuracy: 0.9335 - val_loss: 0.2823 - val_accuracy: 0.8848\n",
            "Epoch 8/20\n",
            "2764/2765 [============================>.] - ETA: 0s - loss: 0.5586 - accuracy: 0.9352\n",
            "Epoch 8: val_loss did not improve from 0.24396\n",
            "2765/2765 [==============================] - 130s 47ms/step - loss: 0.5585 - accuracy: 0.9352 - val_loss: 0.2796 - val_accuracy: 0.8870\n",
            "Epoch 9/20\n",
            "2765/2765 [==============================] - ETA: 0s - loss: 0.5382 - accuracy: 0.9369\n",
            "Epoch 9: val_loss did not improve from 0.24396\n",
            "2765/2765 [==============================] - 125s 45ms/step - loss: 0.5382 - accuracy: 0.9369 - val_loss: 0.2649 - val_accuracy: 0.8862\n",
            "Epoch 10/20\n",
            "2765/2765 [==============================] - ETA: 0s - loss: 0.5087 - accuracy: 0.9388\n",
            "Epoch 10: val_loss did not improve from 0.24396\n",
            "2765/2765 [==============================] - 127s 46ms/step - loss: 0.5087 - accuracy: 0.9388 - val_loss: 0.2810 - val_accuracy: 0.8797\n",
            "Epoch 11/20\n",
            "2765/2765 [==============================] - ETA: 0s - loss: 0.5005 - accuracy: 0.9402\n",
            "Epoch 11: val_loss improved from 0.24396 to 0.17820, saving model to custom_ocr.model\n",
            "2765/2765 [==============================] - 126s 46ms/step - loss: 0.5005 - accuracy: 0.9402 - val_loss: 0.1782 - val_accuracy: 0.9296\n",
            "Epoch 12/20\n",
            "2764/2765 [============================>.] - ETA: 0s - loss: 0.4836 - accuracy: 0.9422\n",
            "Epoch 12: val_loss did not improve from 0.17820\n",
            "2765/2765 [==============================] - 122s 44ms/step - loss: 0.4836 - accuracy: 0.9422 - val_loss: 0.2383 - val_accuracy: 0.8950\n",
            "Epoch 13/20\n",
            "2764/2765 [============================>.] - ETA: 0s - loss: 0.4661 - accuracy: 0.9433\n",
            "Epoch 13: val_loss did not improve from 0.17820\n",
            "2765/2765 [==============================] - 125s 45ms/step - loss: 0.4661 - accuracy: 0.9433 - val_loss: 0.2677 - val_accuracy: 0.8763\n",
            "Epoch 14/20\n",
            "2764/2765 [============================>.] - ETA: 0s - loss: 0.4648 - accuracy: 0.9447\n",
            "Epoch 14: val_loss improved from 0.17820 to 0.16012, saving model to custom_ocr.model\n",
            "2765/2765 [==============================] - 151s 55ms/step - loss: 0.4648 - accuracy: 0.9447 - val_loss: 0.1601 - val_accuracy: 0.9472\n",
            "Epoch 15/20\n",
            "2765/2765 [==============================] - ETA: 0s - loss: 0.4498 - accuracy: 0.9452\n",
            "Epoch 15: val_loss did not improve from 0.16012\n",
            "2765/2765 [==============================] - 144s 52ms/step - loss: 0.4498 - accuracy: 0.9452 - val_loss: 0.1826 - val_accuracy: 0.9319\n",
            "Epoch 16/20\n",
            "2764/2765 [============================>.] - ETA: 0s - loss: 0.4448 - accuracy: 0.9456\n",
            "Epoch 16: val_loss did not improve from 0.16012\n",
            "2765/2765 [==============================] - 124s 45ms/step - loss: 0.4448 - accuracy: 0.9456 - val_loss: 0.1644 - val_accuracy: 0.9456\n",
            "Epoch 17/20\n",
            "2764/2765 [============================>.] - ETA: 0s - loss: 0.4376 - accuracy: 0.9465\n",
            "Epoch 17: val_loss did not improve from 0.16012\n",
            "2765/2765 [==============================] - 129s 47ms/step - loss: 0.4376 - accuracy: 0.9465 - val_loss: 0.1792 - val_accuracy: 0.9244\n",
            "Epoch 18/20\n",
            "2764/2765 [============================>.] - ETA: 0s - loss: 0.4200 - accuracy: 0.9486\n",
            "Epoch 18: val_loss did not improve from 0.16012\n",
            "2765/2765 [==============================] - 142s 51ms/step - loss: 0.4199 - accuracy: 0.9486 - val_loss: 0.1967 - val_accuracy: 0.9118\n",
            "Epoch 19/20\n",
            "2765/2765 [==============================] - ETA: 0s - loss: 0.4235 - accuracy: 0.9484\n",
            "Epoch 19: val_loss improved from 0.16012 to 0.14010, saving model to custom_ocr.model\n",
            "2765/2765 [==============================] - 125s 45ms/step - loss: 0.4235 - accuracy: 0.9484 - val_loss: 0.1401 - val_accuracy: 0.9566\n",
            "Epoch 20/20\n",
            "2765/2765 [==============================] - ETA: 0s - loss: 0.4129 - accuracy: 0.9499\n",
            "Epoch 20: val_loss improved from 0.14010 to 0.13947, saving model to custom_ocr.model\n",
            "2765/2765 [==============================] - 136s 49ms/step - loss: 0.4129 - accuracy: 0.9499 - val_loss: 0.1395 - val_accuracy: 0.9527\n"
          ]
        }
      ]
    },
    {
      "cell_type": "markdown",
      "source": [
        "**Penjelasan**\n",
        "\n",
        "- augmentation mungkin merujuk pada suatu metode augmentasi data untuk memperbanyak variasi data pelatihan.\n",
        "- X_train dan y_train adalah data pelatihan dan labelnya.\n",
        "- X_test dan y_test adalah data pengujian dan labelnya.\n",
        "- steps_per_epoch dihitung sebagai panjang data pelatihan dibagi dengan ukuran batch.\n",
        "- class_weight mungkin digunakan untuk menangani ketidakseimbangan kelas.\n",
        "- callbacks=[checkpointer] digunakan untuk menyimpan model terbaik selama pelatihan.\n",
        "\n",
        "Dari hasil running, terdapat beberapa informasi penting untuk setiap epoch:\n",
        "\n",
        "- loss: Nilai fungsi kerugian pada data pelatihan.\n",
        "- accuracy: Akurasi pada data pelatihan.\n",
        "- val_loss: Nilai fungsi kerugian pada data validasi.\n",
        "- val_accuracy: Akurasi pada data validasi.\n",
        "- Informasi tambahan seperti waktu yang diambil untuk setiap epoch."
      ],
      "metadata": {
        "id": "kiAItWsnH2bh"
      }
    },
    {
      "cell_type": "markdown",
      "source": [
        "# Evaluate Model"
      ],
      "metadata": {
        "id": "bM4mGoWL6jxk"
      }
    },
    {
      "cell_type": "markdown",
      "source": [
        "## Make a Single Prediction"
      ],
      "metadata": {
        "id": "ig0TiV6N7V29"
      }
    },
    {
      "cell_type": "markdown",
      "source": [],
      "metadata": {
        "id": "5pbMkmvg7V0i"
      }
    },
    {
      "cell_type": "code",
      "source": [
        "# make a prediction\n",
        "predictions = network.predict(X_test, batch_size=batch_size)"
      ],
      "metadata": {
        "id": "WDJUSW-l6lEl",
        "colab": {
          "base_uri": "https://localhost:8080/"
        },
        "outputId": "f506ab1f-7423-433e-82ac-b87be9bfa4a0"
      },
      "execution_count": 49,
      "outputs": [
        {
          "output_type": "stream",
          "name": "stdout",
          "text": [
            "692/692 [==============================] - 2s 2ms/step\n"
          ]
        }
      ]
    },
    {
      "cell_type": "markdown",
      "source": [
        "- menunjukkan bahwa model telah membuat prediksi pada data pengujian (X_test). Proses ini menghasilkan predictions yang merupakan hasil prediksi model untuk setiap sampel dalam data pengujian.\n",
        "\n",
        "  Jumlah sampel yang diproses adalah 692, dan masing-masing prediksi dapat berupa nilai probabilitas untuk setiap kelas atau label yang ada dalam tugas klasifikasi."
      ],
      "metadata": {
        "id": "AfBdluPKIWMv"
      }
    },
    {
      "cell_type": "code",
      "source": [
        "# Check prediction for data-0\n",
        "# You will get the probability for each label\n",
        "# The highest one is the prediction\n",
        "predictions[1]"
      ],
      "metadata": {
        "id": "tQ5Ta4b96pEt",
        "colab": {
          "base_uri": "https://localhost:8080/"
        },
        "outputId": "f667b85c-3d1c-4e13-9788-85c854e076c8"
      },
      "execution_count": 50,
      "outputs": [
        {
          "output_type": "execute_result",
          "data": {
            "text/plain": [
              "array([1.64339628e-17, 1.82567312e-11, 7.37355489e-13, 9.31797768e-23,\n",
              "       1.17897110e-17, 2.86096624e-12, 1.63995875e-16, 5.44128830e-16,\n",
              "       1.42936595e-17, 1.21624202e-18, 7.03366080e-15, 1.97515593e-12,\n",
              "       2.03347820e-12, 5.58887485e-12, 1.65404108e-13, 1.07956795e-13,\n",
              "       9.03267871e-14, 1.30634772e-12, 9.99974132e-01, 2.53151520e-05,\n",
              "       2.30416619e-09, 7.47293853e-08, 1.67748884e-20, 6.92803468e-19,\n",
              "       8.26619521e-14, 3.06127660e-16, 1.43365342e-16, 1.05196173e-14,\n",
              "       5.50966529e-11, 4.72257824e-07, 3.19756537e-13, 1.49150992e-22,\n",
              "       5.97567853e-15, 4.88446172e-10, 7.73576217e-14, 7.90156968e-11],\n",
              "      dtype=float32)"
            ]
          },
          "metadata": {},
          "execution_count": 50
        }
      ]
    },
    {
      "cell_type": "markdown",
      "source": [
        "**Penjelasan**\n",
        "\n",
        "menunjukkan array probabilitas untuk setiap kelas atau label yang mungkin dalam tugas klasifikasi. Setiap elemen array mewakili probabilitas bahwa data pengujian tersebut termasuk dalam kelas tertentu."
      ],
      "metadata": {
        "id": "TiiM4ELZIql7"
      }
    },
    {
      "cell_type": "code",
      "source": [
        "# Get the actual prediction -> highest probability\n",
        "np.argmax(predictions[1])"
      ],
      "metadata": {
        "id": "9THTrYAH64g8",
        "colab": {
          "base_uri": "https://localhost:8080/"
        },
        "outputId": "f4d3d0f3-776d-4fb0-c4c2-a2e462b795eb"
      },
      "execution_count": 51,
      "outputs": [
        {
          "output_type": "execute_result",
          "data": {
            "text/plain": [
              "18"
            ]
          },
          "metadata": {},
          "execution_count": 51
        }
      ]
    },
    {
      "cell_type": "markdown",
      "source": [
        "menunjukkan bahwa indeks dengan nilai tertinggi dalam array probabilitas adalah 18. Ini mengindikasikan bahwa model memprediksi bahwa sampel tersebut termasuk dalam kelas atau label dengan indeks 18."
      ],
      "metadata": {
        "id": "nRS0RIWPI8Sj"
      }
    },
    {
      "cell_type": "code",
      "source": [
        "# Check label for 24\n",
        "name_labels[18]"
      ],
      "metadata": {
        "id": "pG6n2eTI6-Ly",
        "colab": {
          "base_uri": "https://localhost:8080/",
          "height": 36
        },
        "outputId": "97e085d8-23a1-4611-c471-57e582d3e004"
      },
      "execution_count": 52,
      "outputs": [
        {
          "output_type": "execute_result",
          "data": {
            "text/plain": [
              "'I'"
            ],
            "application/vnd.google.colaboratory.intrinsic+json": {
              "type": "string"
            }
          },
          "metadata": {},
          "execution_count": 52
        }
      ]
    },
    {
      "cell_type": "markdown",
      "source": [
        "menunjukkan bahwa label atau nama yang terkait dengan kelas atau indeks 18 dalam tugas klasifikasi ini adalah 'I'."
      ],
      "metadata": {
        "id": "HxwAXzBxJCpR"
      }
    },
    {
      "cell_type": "code",
      "source": [
        "# Check y_test label for 0\n",
        "y_test[1]"
      ],
      "metadata": {
        "id": "chDSvyYq7Bxq",
        "colab": {
          "base_uri": "https://localhost:8080/"
        },
        "outputId": "22d082ed-d9af-41e8-c19b-106c156208c5"
      },
      "execution_count": 53,
      "outputs": [
        {
          "output_type": "execute_result",
          "data": {
            "text/plain": [
              "array([0, 0, 0, 0, 0, 0, 0, 0, 0, 0, 0, 0, 0, 0, 0, 0, 0, 0, 1, 0, 0, 0,\n",
              "       0, 0, 0, 0, 0, 0, 0, 0, 0, 0, 0, 0, 0, 0])"
            ]
          },
          "metadata": {},
          "execution_count": 53
        }
      ]
    },
    {
      "cell_type": "markdown",
      "source": [
        "menunjukkan bahwa label atau target sebenarnya untuk sampel tertentu dalam data pengujian adalah array biner di mana hanya satu elemen bernilai 1, yaitu pada indeks 18 (indeks dimulai dari 0)."
      ],
      "metadata": {
        "id": "4JO_tltWJRMB"
      }
    },
    {
      "cell_type": "code",
      "source": [
        "# check the highest value\n",
        "np.argmax(y_test[1])"
      ],
      "metadata": {
        "id": "BpoE99Us7KpZ",
        "colab": {
          "base_uri": "https://localhost:8080/"
        },
        "outputId": "9eb87b82-73f5-4eb7-b02c-22d4ae72993a"
      },
      "execution_count": 54,
      "outputs": [
        {
          "output_type": "execute_result",
          "data": {
            "text/plain": [
              "18"
            ]
          },
          "metadata": {},
          "execution_count": 54
        }
      ]
    },
    {
      "cell_type": "markdown",
      "source": [
        "menunjukkan bahwa indeks yang memiliki nilai tertinggi (1) dalam array y_test[1] adalah 18"
      ],
      "metadata": {
        "id": "QyNDx1kTJo25"
      }
    },
    {
      "cell_type": "code",
      "source": [
        "# Check the label of y_test 0\n",
        "name_labels[np.argmax(y_test[18])]"
      ],
      "metadata": {
        "id": "KjJRX1lC7Ppw",
        "colab": {
          "base_uri": "https://localhost:8080/",
          "height": 36
        },
        "outputId": "f49bc434-b72c-41ca-85a6-c3dfa1ae5478"
      },
      "execution_count": 55,
      "outputs": [
        {
          "output_type": "execute_result",
          "data": {
            "text/plain": [
              "'S'"
            ],
            "application/vnd.google.colaboratory.intrinsic+json": {
              "type": "string"
            }
          },
          "metadata": {},
          "execution_count": 55
        }
      ]
    },
    {
      "cell_type": "markdown",
      "source": [
        "menunjukkan bahwa label atau nama yang terkait dengan kelas atau indeks yang memiliki nilai 1 dalam array y_test[18] adalah 'S'"
      ],
      "metadata": {
        "id": "q6JRhASOJdL6"
      }
    },
    {
      "cell_type": "markdown",
      "source": [
        "## Make an Evaluation on Test Data"
      ],
      "metadata": {
        "id": "_xFS3-cs7a0x"
      }
    },
    {
      "cell_type": "code",
      "source": [
        "# Evaluate on test data\n",
        "network.evaluate(X_test, y_test)"
      ],
      "metadata": {
        "id": "t-rko8WP7TYA",
        "colab": {
          "base_uri": "https://localhost:8080/"
        },
        "outputId": "4ab33608-a866-4a2f-d18b-e1580a5bf500"
      },
      "execution_count": 56,
      "outputs": [
        {
          "output_type": "stream",
          "name": "stdout",
          "text": [
            "2766/2766 [==============================] - 10s 3ms/step - loss: 0.1395 - accuracy: 0.9527\n"
          ]
        },
        {
          "output_type": "execute_result",
          "data": {
            "text/plain": [
              "[0.13947418332099915, 0.9527291059494019]"
            ]
          },
          "metadata": {},
          "execution_count": 56
        }
      ]
    },
    {
      "cell_type": "markdown",
      "source": [
        "**Penjelasan**\n",
        "\n",
        "menunjukkan performa model pada data pengujian. Dua nilai yang dihasilkan adalah nilai fungsi kerugian (loss) dan akurasi.\n",
        "\n",
        "Dalam konteks ini:\n",
        "\n",
        "- Loss: 0.1395\n",
        "- Akurasi: 95.27%"
      ],
      "metadata": {
        "id": "iYm8M7-8Jy19"
      }
    },
    {
      "cell_type": "code",
      "source": [
        "# Print Classification Report\n",
        "print(classification_report(y_test.argmax(axis=1), predictions.argmax(axis=1), target_names = name_labels))"
      ],
      "metadata": {
        "id": "VkQtgoCq7gx2",
        "colab": {
          "base_uri": "https://localhost:8080/"
        },
        "outputId": "3044dc31-bdc7-4c4b-edfe-9383f7a6fd9f"
      },
      "execution_count": 57,
      "outputs": [
        {
          "output_type": "stream",
          "name": "stdout",
          "text": [
            "              precision    recall  f1-score   support\n",
            "\n",
            "           0       0.43      0.57      0.49      1381\n",
            "           1       0.98      0.99      0.98      1575\n",
            "           2       0.93      0.95      0.94      1398\n",
            "           3       0.96      0.99      0.97      1428\n",
            "           4       0.96      0.96      0.96      1365\n",
            "           5       0.57      0.95      0.72      1263\n",
            "           6       0.94      0.98      0.96      1375\n",
            "           7       0.97      0.99      0.98      1459\n",
            "           8       0.93      0.99      0.96      1365\n",
            "           9       0.97      0.97      0.97      1392\n",
            "           A       0.99      0.99      0.99      2774\n",
            "           B       0.98      0.99      0.98      1734\n",
            "           C       0.99      0.98      0.98      4682\n",
            "           D       0.90      0.97      0.94      2027\n",
            "           E       0.99      0.98      0.99      2288\n",
            "           F       0.97      0.99      0.98       233\n",
            "           G       0.95      0.93      0.94      1152\n",
            "           H       0.98      0.97      0.97      1444\n",
            "           I       0.96      0.98      0.97       224\n",
            "           J       0.96      0.98      0.97      1698\n",
            "           K       0.98      0.99      0.98      1121\n",
            "           L       0.98      0.98      0.98      2317\n",
            "           M       0.99      0.99      0.99      2467\n",
            "           N       0.99      0.98      0.99      3802\n",
            "           O       0.94      0.90      0.92     11565\n",
            "           P       0.99      0.99      0.99      3868\n",
            "           Q       0.95      0.99      0.97      1162\n",
            "           R       0.99      0.99      0.99      2313\n",
            "           S       0.99      0.89      0.94      9684\n",
            "           T       1.00      0.99      0.99      4499\n",
            "           U       0.99      0.98      0.98      5801\n",
            "           V       0.98      1.00      0.99       836\n",
            "           W       0.96      0.99      0.98      2157\n",
            "           X       0.99      0.99      0.99      1254\n",
            "           Y       0.98      0.97      0.97      2172\n",
            "           Z       0.95      0.94      0.94      1215\n",
            "\n",
            "    accuracy                           0.95     88490\n",
            "   macro avg       0.94      0.96      0.95     88490\n",
            "weighted avg       0.96      0.95      0.95     88490\n",
            "\n"
          ]
        }
      ]
    },
    {
      "cell_type": "markdown",
      "source": [
        "**Penjelasan**\n",
        "\n",
        "classification_report memberikan evaluasi kinerja model secara rinci dengan berbagai metrik seperti precision, recall, dan f1-score untuk setiap kelas.\n",
        "\n",
        "Berikut adalah beberapa poin penting dari laporan tersebut:\n",
        "\n",
        "- Precision: Kemampuan model untuk tidak mengklasifikasikan sampel yang sebenarnya negatif sebagai positif. Dalam konteks ini, Precision yang tinggi menunjukkan bahwa ketika model mengklasifikasikan sesuatu sebagai suatu kelas, itu cenderung benar.\n",
        "- Recall: Kemampuan model untuk mengidentifikasi semua sampel positif. Recall yang tinggi menunjukkan bahwa model mampu mendeteksi sebagian besar sampel yang sebenarnya positif.\n",
        "- F1-score: Harmonic mean dari precision dan recall. F1-score yang tinggi menunjukkan keseimbangan antara precision dan recall.\n",
        "\n",
        "Ketiga metrik tersebut diukur untuk setiap kelas yang terdaftar di laporan tersebut. Selain itu, laporan mencakup nilai rata-rata untuk precision, recall, dan f1-score di seluruh kelas, yang disebut sebagai \"macro avg,\" \"weighted avg,\" dan \"accuracy.\""
      ],
      "metadata": {
        "id": "931IjA12KIVI"
      }
    },
    {
      "cell_type": "code",
      "source": [
        "# Visualize loss value for each epoch\n",
        "plt.plot(history.history['val_loss'])"
      ],
      "metadata": {
        "id": "mIETfqMu7nv1",
        "colab": {
          "base_uri": "https://localhost:8080/",
          "height": 447
        },
        "outputId": "44aa0372-5a47-4642-e8c8-88f237faec8b"
      },
      "execution_count": 58,
      "outputs": [
        {
          "output_type": "execute_result",
          "data": {
            "text/plain": [
              "[<matplotlib.lines.Line2D at 0x7db092f99990>]"
            ]
          },
          "metadata": {},
          "execution_count": 58
        },
        {
          "output_type": "display_data",
          "data": {
            "text/plain": [
              "<Figure size 640x480 with 1 Axes>"
            ],
            "image/png": "[encoded data removed]"
          },
          "metadata": {}
        }
      ]
    },
    {
      "cell_type": "markdown",
      "source": [
        " Plot tersebut memberikan gambaran tentang bagaimana loss model pada data validasi berubah selama proses pelatihan"
      ],
      "metadata": {
        "id": "y7xsf9LXK_U4"
      }
    },
    {
      "cell_type": "code",
      "source": [
        "# You can also check the another metrics\n",
        "history.history.keys()"
      ],
      "metadata": {
        "id": "mNUP1QP17vas",
        "colab": {
          "base_uri": "https://localhost:8080/"
        },
        "outputId": "0654dd50-9dd4-464b-9380-24968f257864"
      },
      "execution_count": 59,
      "outputs": [
        {
          "output_type": "execute_result",
          "data": {
            "text/plain": [
              "dict_keys(['loss', 'accuracy', 'val_loss', 'val_accuracy'])"
            ]
          },
          "metadata": {},
          "execution_count": 59
        }
      ]
    },
    {
      "cell_type": "markdown",
      "source": [
        "mendapatkan kumpulan kunci (keys) yang tersedia dalam objek history.history. Dalam konteks pelatihan model neural network, kunci-kunci umumnya adalah sebagai berikut:\n",
        "\n",
        "- 'loss': Nilai loss pada data pelatihan pada setiap epoch.\n",
        "- 'accuracy': Akurasi pada data pelatihan pada setiap epoch.\n",
        "- 'val_loss': Nilai loss pada data validasi pada setiap epoch.\n",
        "- 'val_accuracy': Akurasi pada data validasi pada setiap epoch.\n",
        "\n",
        "Dengan informasi ini, Anda dapat memanfaatkannya untuk membuat plot perubahan loss dan akurasi selama pelatihan model"
      ],
      "metadata": {
        "id": "bp2xnbDoLQ-q"
      }
    },
    {
      "cell_type": "code",
      "source": [
        "# Check the model performance by validation accuracy\n",
        "plt.plot(history.history['val_accuracy'])"
      ],
      "metadata": {
        "id": "VwEZzjEa716s",
        "colab": {
          "base_uri": "https://localhost:8080/",
          "height": 449
        },
        "outputId": "056974a7-0bde-470c-a983-27e48572efb0"
      },
      "execution_count": 60,
      "outputs": [
        {
          "output_type": "execute_result",
          "data": {
            "text/plain": [
              "[<matplotlib.lines.Line2D at 0x7db0931c0d60>]"
            ]
          },
          "metadata": {},
          "execution_count": 60
        },
        {
          "output_type": "display_data",
          "data": {
            "text/plain": [
              "<Figure size 640x480 with 1 Axes>"
            ],
            "image/png": "[encoded data removed]"
          },
          "metadata": {}
        }
      ]
    },
    {
      "cell_type": "markdown",
      "source": [
        "menunjukkan perubahan akurasi pada data validasi selama proses pelatihan model"
      ],
      "metadata": {
        "id": "JwuV_6FALbtG"
      }
    },
    {
      "cell_type": "markdown",
      "source": [
        "# Save The Model"
      ],
      "metadata": {
        "id": "D0rviDyl79Bk"
      }
    },
    {
      "cell_type": "code",
      "source": [
        "# The result will show in colab directory\n",
        "network.save('network', save_format= 'h5')"
      ],
      "metadata": {
        "id": "QZ4ftlmq76nC",
        "colab": {
          "base_uri": "https://localhost:8080/"
        },
        "outputId": "28cf19ac-3e94-447c-813f-4411f5b8df3d"
      },
      "execution_count": 61,
      "outputs": [
        {
          "output_type": "stream",
          "name": "stderr",
          "text": [
            "/usr/local/lib/python3.10/dist-packages/keras/src/engine/training.py:3079: UserWarning: You are saving your model as an HDF5 file via `model.save()`. This file format is considered legacy. We recommend using instead the native Keras format, e.g. `model.save('my_model.keras')`.\n",
            "  saving_api.save_model(\n"
          ]
        }
      ]
    },
    {
      "cell_type": "markdown",
      "source": [
        "# Testing on Real Image"
      ],
      "metadata": {
        "id": "A3EWZVrz0YDV"
      }
    },
    {
      "cell_type": "code",
      "source": [
        "# Import library\n",
        "from tensorflow.keras.models import load_model"
      ],
      "metadata": {
        "id": "1wUedJB-0Z_q"
      },
      "execution_count": 62,
      "outputs": []
    },
    {
      "cell_type": "code",
      "source": [
        "# Load saved network\n",
        "load_network = load_model('network')"
      ],
      "metadata": {
        "id": "D6E24QOm0hiB"
      },
      "execution_count": 63,
      "outputs": []
    },
    {
      "cell_type": "code",
      "source": [
        "# Check summary\n",
        "load_network.summary()"
      ],
      "metadata": {
        "id": "0cB7lmOc0nlR",
        "colab": {
          "base_uri": "https://localhost:8080/"
        },
        "outputId": "c7ae2ae0-eb35-4106-95d1-ae3f731541b0"
      },
      "execution_count": 64,
      "outputs": [
        {
          "output_type": "stream",
          "name": "stdout",
          "text": [
            "Model: \"sequential\"\n",
            "_________________________________________________________________\n",
            " Layer (type)                Output Shape              Param #   \n",
            "=================================================================\n",
            " conv2d (Conv2D)             (None, 26, 26, 32)        320       \n",
            "                                                                 \n",
            " max_pooling2d (MaxPooling2  (None, 13, 13, 32)        0         \n",
            " D)                                                              \n",
            "                                                                 \n",
            " conv2d_1 (Conv2D)           (None, 13, 13, 64)        18496     \n",
            "                                                                 \n",
            " max_pooling2d_1 (MaxPoolin  (None, 6, 6, 64)          0         \n",
            " g2D)                                                            \n",
            "                                                                 \n",
            " conv2d_2 (Conv2D)           (None, 4, 4, 128)         73856     \n",
            "                                                                 \n",
            " max_pooling2d_2 (MaxPoolin  (None, 2, 2, 128)         0         \n",
            " g2D)                                                            \n",
            "                                                                 \n",
            " flatten (Flatten)           (None, 512)               0         \n",
            "                                                                 \n",
            " dense (Dense)               (None, 64)                32832     \n",
            "                                                                 \n",
            " dense_1 (Dense)             (None, 128)               8320      \n",
            "                                                                 \n",
            " dense_2 (Dense)             (None, 36)                4644      \n",
            "                                                                 \n",
            "=================================================================\n",
            "Total params: 138468 (540.89 KB)\n",
            "Trainable params: 138468 (540.89 KB)\n",
            "Non-trainable params: 0 (0.00 Byte)\n",
            "_________________________________________________________________\n"
          ]
        }
      ]
    },
    {
      "cell_type": "markdown",
      "source": [
        "melihat lapisan-lapisan yang digunakan, bentuk output dari setiap lapisan, serta jumlah parameter yang dapat diatur (trainable params) dan jumlah total parameter."
      ],
      "metadata": {
        "id": "kYWJ0FpgLr0c"
      }
    },
    {
      "cell_type": "code",
      "source": [
        "from google.colab import drive\n",
        "drive.mount('/content/drive')"
      ],
      "metadata": {
        "colab": {
          "base_uri": "https://localhost:8080/"
        },
        "id": "YerJcmTOCaOO",
        "outputId": "0cb8b4c3-3f65-4130-d6ee-54e607e53b95"
      },
      "execution_count": 66,
      "outputs": [
        {
          "output_type": "stream",
          "name": "stdout",
          "text": [
            "Mounted at /content/drive\n"
          ]
        }
      ]
    },
    {
      "cell_type": "code",
      "source": [
        "# Load Image\n",
        "import cv2\n",
        "from google.colab.patches import cv2_imshow\n",
        "\n",
        "img = cv2.imread('/content/drive/MyDrive/KULIAH/Semester 5/MachineLearning/Quiz 2/b_small.png')\n",
        "cv2_imshow(img)"
      ],
      "metadata": {
        "id": "hbnaTxZK07JW",
        "colab": {
          "base_uri": "https://localhost:8080/",
          "height": 317
        },
        "outputId": "adcbb1b1-44d9-45d3-c56d-fc7501887006"
      },
      "execution_count": 67,
      "outputs": [
        {
          "output_type": "display_data",
          "data": {
            "text/plain": [
              "<PIL.Image.Image image mode=RGB size=300x300>"
            ],
            "image/png": "[encoded data removed]"
          },
          "metadata": {}
        }
      ]
    },
    {
      "cell_type": "code",
      "source": [
        "# Check shape\n",
        "img.shape"
      ],
      "metadata": {
        "id": "EfDOYN6D1OZ9",
        "colab": {
          "base_uri": "https://localhost:8080/"
        },
        "outputId": "052fa89a-0da7-499f-c087-1232521d5aad"
      },
      "execution_count": 68,
      "outputs": [
        {
          "output_type": "execute_result",
          "data": {
            "text/plain": [
              "(300, 300, 3)"
            ]
          },
          "metadata": {},
          "execution_count": 68
        }
      ]
    },
    {
      "cell_type": "code",
      "source": [
        "# Convert to gray\n",
        "gray_img = cv2.cvtColor(img, cv2.COLOR_BGR2GRAY)\n",
        "\n",
        "# check shape\n",
        "gray_img.shape"
      ],
      "metadata": {
        "id": "7e6w1zaL1RW7",
        "colab": {
          "base_uri": "https://localhost:8080/"
        },
        "outputId": "17f0f573-e2c5-4a62-c072-adcbfa320f14"
      },
      "execution_count": 69,
      "outputs": [
        {
          "output_type": "execute_result",
          "data": {
            "text/plain": [
              "(300, 300)"
            ]
          },
          "metadata": {},
          "execution_count": 69
        }
      ]
    },
    {
      "cell_type": "code",
      "source": [
        "# Pre-process\n",
        "# Binary Threshold and Otsu\n",
        "value, thresh = cv2.threshold(gray_img, 0, 255, cv2.THRESH_BINARY + cv2.THRESH_OTSU)\n",
        "\n",
        "cv2_imshow(thresh)\n",
        "\n",
        "# print threshold value\n",
        "print(value)"
      ],
      "metadata": {
        "id": "9_al0IF01c3q",
        "colab": {
          "base_uri": "https://localhost:8080/",
          "height": 334
        },
        "outputId": "f9b4765d-43d6-4d11-c941-c6c2e7208ad6"
      },
      "execution_count": 70,
      "outputs": [
        {
          "output_type": "display_data",
          "data": {
            "text/plain": [
              "<PIL.Image.Image image mode=L size=300x300>"
            ],
            "image/png": "[encoded data removed]"
          },
          "metadata": {}
        },
        {
          "output_type": "stream",
          "name": "stdout",
          "text": [
            "120.0\n"
          ]
        }
      ]
    },
    {
      "cell_type": "code",
      "source": [
        "# Resize image in order to match network input shape -> 28*28\n",
        "img_resize = cv2.resize(gray_img, (28,28))\n",
        "cv2_imshow(img_resize)"
      ],
      "metadata": {
        "id": "dmjHswqd1wB5",
        "colab": {
          "base_uri": "https://localhost:8080/",
          "height": 45
        },
        "outputId": "d5bd41b5-dadb-4a45-8997-de71c7254ce8"
      },
      "execution_count": 71,
      "outputs": [
        {
          "output_type": "display_data",
          "data": {
            "text/plain": [
              "<PIL.Image.Image image mode=L size=28x28>"
            ],
            "image/png": "[encoded data removed]"
          },
          "metadata": {}
        }
      ]
    },
    {
      "cell_type": "code",
      "source": [
        "# Convert to float 32\n",
        "# and extend the dimension since network input shape is 28*28*1\n",
        "img_input = img_resize.astype('float32') / 255 # also perform normalization\n",
        "img_input = np.expand_dims(img_input, axis=-1) # insert depth\n",
        "\n",
        "# check shape\n",
        "img_input.shape"
      ],
      "metadata": {
        "id": "bZStKgUl2Kk_",
        "colab": {
          "base_uri": "https://localhost:8080/"
        },
        "outputId": "bcf53b49-1388-4d2d-d204-adc33bbf82ad"
      },
      "execution_count": 73,
      "outputs": [
        {
          "output_type": "execute_result",
          "data": {
            "text/plain": [
              "(28, 28, 1)"
            ]
          },
          "metadata": {},
          "execution_count": 73
        }
      ]
    },
    {
      "cell_type": "code",
      "source": [
        "# Add \"amount of data\" as dimension\n",
        "img_input = np.reshape(img_input, (1,28,28,1))\n",
        "img_input.shape"
      ],
      "metadata": {
        "id": "7Xs7JwKj2lxr",
        "colab": {
          "base_uri": "https://localhost:8080/"
        },
        "outputId": "414023c7-ef76-48e6-84ea-22a9903502cf"
      },
      "execution_count": 74,
      "outputs": [
        {
          "output_type": "execute_result",
          "data": {
            "text/plain": [
              "(1, 28, 28, 1)"
            ]
          },
          "metadata": {},
          "execution_count": 74
        }
      ]
    },
    {
      "cell_type": "code",
      "source": [
        "# Make a predition\n",
        "prediction = load_network.predict(img_input)\n",
        "pred_label = np.argmax(prediction) # predict actual label\n",
        "pred_label"
      ],
      "metadata": {
        "id": "fZLWIWLs2yuX",
        "colab": {
          "base_uri": "https://localhost:8080/"
        },
        "outputId": "21988f9d-eeb8-41af-80f7-c241f2b37645"
      },
      "execution_count": 75,
      "outputs": [
        {
          "output_type": "stream",
          "name": "stdout",
          "text": [
            "1/1 [==============================] - 0s 163ms/step\n"
          ]
        },
        {
          "output_type": "execute_result",
          "data": {
            "text/plain": [
              "6"
            ]
          },
          "metadata": {},
          "execution_count": 75
        }
      ]
    },
    {
      "cell_type": "code",
      "source": [
        "# check label for 6\n",
        "name_labels[6]"
      ],
      "metadata": {
        "id": "72Pl04hq3WNz",
        "colab": {
          "base_uri": "https://localhost:8080/",
          "height": 36
        },
        "outputId": "d4f6274e-77eb-462d-abfb-dc3f8e750fbb"
      },
      "execution_count": 76,
      "outputs": [
        {
          "output_type": "execute_result",
          "data": {
            "text/plain": [
              "'6'"
            ],
            "application/vnd.google.colaboratory.intrinsic+json": {
              "type": "string"
            }
          },
          "metadata": {},
          "execution_count": 76
        }
      ]
    }
  ]
}