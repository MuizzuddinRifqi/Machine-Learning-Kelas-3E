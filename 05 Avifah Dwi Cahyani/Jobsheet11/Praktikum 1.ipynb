{
 "cells": [
  {
   "cell_type": "markdown",
   "metadata": {},
   "source": [
    "## **Praktikum 1**"
   ]
  },
  {
   "cell_type": "markdown",
   "metadata": {},
   "source": [
    "#### **Langkah 1 - Import Library**"
   ]
  },
  {
   "cell_type": "code",
   "execution_count": 1,
   "metadata": {},
   "outputs": [],
   "source": [
    "import tensorflow as tf\n",
    "from keras.preprocessing.image import ImageDataGenerator"
   ]
  },
  {
   "cell_type": "markdown",
   "metadata": {},
   "source": [
    "#### **Langkah 2 - Pra Pengolahan Data**\n",
    "Pada tahap ini kita akan sedikit melakukan manipulasi pada citra yang digunakan. Manipulasi yang dilakukan diantaranya adalah normalisasi nilai piksel, koreksi kemiringan, pembesaran (zoom), dan flip."
   ]
  },
  {
   "cell_type": "markdown",
   "metadata": {},
   "source": [
    "##### **Langkah 2.1. Pra Pengolahan Data Training**"
   ]
  },
  {
   "cell_type": "code",
   "execution_count": 2,
   "metadata": {},
   "outputs": [
    {
     "name": "stdout",
     "output_type": "stream",
     "text": [
      "Found 8000 images belonging to 2 classes.\n"
     ]
    }
   ],
   "source": [
    "train_datagen = ImageDataGenerator(rescale = 1./255,\n",
    "                                   shear_range = 0.2,\n",
    "                                   zoom_range = 0.2,\n",
    "                                   horizontal_flip = True)\n",
    "#Membuat objek train_datagen yang melakukan augmentasi gambar pada data latih. Rescale 1./255 normalisasi nilai piksel, shear_range mengaplikasikan transformasi shear, zoom_range memberikan efek zoom-in atau zoom-out, dan horizontal_flip melakukan flip horizontal pada gambar\n",
    "training_set = train_datagen.flow_from_directory('dataset/training_set',\n",
    "                                                 target_size = (64, 64),\n",
    "                                                 batch_size = 32,\n",
    "                                                 class_mode = 'binary')\n",
    "#Membuat generator aliran data dari direktori 'dataset/training_set'. Gambar akan diubah ukurannya menjadi 64x64 piksel. Batch size adalah 32, dan mode kelas adalah biner, yang sesuai untuk klasifikasi biner"
   ]
  },
  {
   "cell_type": "markdown",
   "metadata": {},
   "source": [
    "##### **Langkah 2.2. Pra Pengolahan Data Testing**"
   ]
  },
  {
   "cell_type": "code",
   "execution_count": 3,
   "metadata": {},
   "outputs": [
    {
     "name": "stdout",
     "output_type": "stream",
     "text": [
      "Found 2000 images belonging to 2 classes.\n"
     ]
    }
   ],
   "source": [
    "test_datagen = ImageDataGenerator(rescale = 1./255) #mengonversi piksel gambar menjadi nilai dalam rentang 0 hingga 1 dengan cara membagi setiap piksel dengan 255.\n",
    "test_set = test_datagen.flow_from_directory('dataset/test_set',\n",
    "                                            target_size = (64, 64),\n",
    "                                            batch_size = 32,\n",
    "                                            class_mode = 'binary')\n",
    "#Membuat generator aliran data dari direktori 'dataset/training_set'\n",
    "#Gambar akan diubah ukurannya menjadi 64x64 piksel\n",
    "#Batch size adalah 32, dan mode kelas adalah biner, yang sesuai untuk klasifikasi biner"
   ]
  },
  {
   "cell_type": "markdown",
   "metadata": {},
   "source": [
    "### **Langkah 3 - Pembuatan Model CNN**"
   ]
  },
  {
   "cell_type": "markdown",
   "metadata": {},
   "source": [
    "#### **Langkah 3.1.  - Inisiasi Model CNN**"
   ]
  },
  {
   "cell_type": "code",
   "execution_count": 4,
   "metadata": {},
   "outputs": [],
   "source": [
    "cnn = tf.keras.models.Sequential() #Membuat model Sequential menggunakan objek cnn"
   ]
  },
  {
   "cell_type": "markdown",
   "metadata": {},
   "source": [
    "#### **Langkah 3.2. - Pembuatan Layer Konvolusi 1**"
   ]
  },
  {
   "cell_type": "code",
   "execution_count": 5,
   "metadata": {},
   "outputs": [],
   "source": [
    "cnn.add(tf.keras.layers.Conv2D(filters=32, kernel_size=3, activation='relu', input_shape=[64, 64, 3]))\n",
    "#Menambahkan lapisan konvolusi (Conv2D) dengan 32 filter, ukuran kernel 3x3, dan fungsi aktivasi ReLU"
   ]
  },
  {
   "cell_type": "markdown",
   "metadata": {},
   "source": [
    "#### **Langkah 3.3 - Pembuatan Layer Pooling 1**"
   ]
  },
  {
   "cell_type": "code",
   "execution_count": 6,
   "metadata": {},
   "outputs": [],
   "source": [
    "cnn.add(tf.keras.layers.MaxPool2D(pool_size=2, strides=2))\n",
    "#Menambahkan lapisan pooling (MaxPool2D) untuk mereduksi dimensi spasial gambar dengan menggunakan pooling ukuran 2x2"
   ]
  },
  {
   "cell_type": "markdown",
   "metadata": {},
   "source": [
    "#### **Langkah 3.4 - Pembuatan Layer Konvolusi 2 dan Pooling 2**"
   ]
  },
  {
   "cell_type": "code",
   "execution_count": 7,
   "metadata": {},
   "outputs": [],
   "source": [
    "cnn.add(tf.keras.layers.Conv2D(filters=32, kernel_size=3, activation='relu')) #Menambahkan lapisan konvolusi kedua dengan 32 filter, ukuran kernel 3x3, dan fungsi aktivasi ReLU.\n",
    "cnn.add(tf.keras.layers.MaxPool2D(pool_size=2, strides=2)) #Menambahkan lapisan pooling kedua untuk mereduksi dimensi spasial gambar."
   ]
  },
  {
   "cell_type": "markdown",
   "metadata": {},
   "source": [
    "#### **Langkah 3.5 - Flattening**"
   ]
  },
  {
   "cell_type": "code",
   "execution_count": 8,
   "metadata": {},
   "outputs": [],
   "source": [
    "cnn.add(tf.keras.layers.Flatten()) #Menambahkan lapisan ratakan (Flatten) untuk mengubah data dari format matriks menjadi format vektor."
   ]
  },
  {
   "cell_type": "markdown",
   "metadata": {},
   "source": [
    "#### **Langkah 3.6 - Fully Connected Layer 1 (Input)**"
   ]
  },
  {
   "cell_type": "code",
   "execution_count": 9,
   "metadata": {},
   "outputs": [],
   "source": [
    "cnn.add(tf.keras.layers.Dense(units=128, activation='relu'))\n",
    "#Menambahkan lapisan terhubung penuh (Dense) dengan 128 unit dan fungsi aktivasi ReLU."
   ]
  },
  {
   "cell_type": "markdown",
   "metadata": {},
   "source": [
    "#### **Langkah 3.7 - Fully Connected Layer 2 (Output)**"
   ]
  },
  {
   "cell_type": "code",
   "execution_count": 10,
   "metadata": {},
   "outputs": [],
   "source": [
    "cnn.add(tf.keras.layers.Dense(units=1, activation='sigmoid'))\n",
    "#Menambahkan lapisan terhubung penuh terakhir dengan 1 unit (karena ini adalah tugas klasifikasi biner) dan fungsi aktivasi sigmoid."
   ]
  },
  {
   "cell_type": "markdown",
   "metadata": {},
   "source": [
    "#### **Langkah 3.8 - Compile Model CNN**"
   ]
  },
  {
   "cell_type": "code",
   "execution_count": 11,
   "metadata": {},
   "outputs": [],
   "source": [
    "cnn.compile(optimizer = 'adam', loss = 'binary_crossentropy', metrics = ['accuracy'])\n",
    "#Mengompilasi model dengan pengoptimal 'adam', fungsi kerugian 'binary_crossentropy' (karena ini adalah tugas klasifikasi biner), dan metrik akurasi untuk evaluasi kinerja model selama pelatihan."
   ]
  },
  {
   "cell_type": "markdown",
   "metadata": {},
   "source": [
    "Penggunaan loss function binary crossentropy dikarenakan kita hanya melakukan klasifikasi pada dua kelas, yaitu kucing dan anjing."
   ]
  },
  {
   "cell_type": "markdown",
   "metadata": {},
   "source": [
    "### **Langkah 4 - Fit CNN**"
   ]
  },
  {
   "cell_type": "code",
   "execution_count": 12,
   "metadata": {},
   "outputs": [
    {
     "name": "stdout",
     "output_type": "stream",
     "text": [
      "Epoch 1/25\n",
      "250/250 [==============================] - 98s 384ms/step - loss: 0.6809 - accuracy: 0.5638 - val_loss: 0.6313 - val_accuracy: 0.6595\n",
      "Epoch 2/25\n",
      "250/250 [==============================] - 62s 248ms/step - loss: 0.6111 - accuracy: 0.6675 - val_loss: 0.5771 - val_accuracy: 0.6935\n",
      "Epoch 3/25\n",
      "250/250 [==============================] - 63s 253ms/step - loss: 0.5652 - accuracy: 0.7065 - val_loss: 0.6691 - val_accuracy: 0.6570\n",
      "Epoch 4/25\n",
      "250/250 [==============================] - 63s 253ms/step - loss: 0.5409 - accuracy: 0.7274 - val_loss: 0.5318 - val_accuracy: 0.7360\n",
      "Epoch 5/25\n",
      "250/250 [==============================] - 63s 253ms/step - loss: 0.5062 - accuracy: 0.7540 - val_loss: 0.4958 - val_accuracy: 0.7520\n",
      "Epoch 6/25\n",
      "250/250 [==============================] - 110s 442ms/step - loss: 0.4934 - accuracy: 0.7573 - val_loss: 0.4732 - val_accuracy: 0.7820\n",
      "Epoch 7/25\n",
      "250/250 [==============================] - 80s 319ms/step - loss: 0.4763 - accuracy: 0.7671 - val_loss: 0.4797 - val_accuracy: 0.7740\n",
      "Epoch 8/25\n",
      "250/250 [==============================] - 81s 324ms/step - loss: 0.4534 - accuracy: 0.7887 - val_loss: 0.4763 - val_accuracy: 0.7830\n",
      "Epoch 9/25\n",
      "250/250 [==============================] - 83s 330ms/step - loss: 0.4402 - accuracy: 0.7928 - val_loss: 0.4596 - val_accuracy: 0.7960\n",
      "Epoch 10/25\n",
      "250/250 [==============================] - 89s 355ms/step - loss: 0.4326 - accuracy: 0.7976 - val_loss: 0.4742 - val_accuracy: 0.7865\n",
      "Epoch 11/25\n",
      "250/250 [==============================] - 94s 374ms/step - loss: 0.4194 - accuracy: 0.8067 - val_loss: 0.4466 - val_accuracy: 0.8000\n",
      "Epoch 12/25\n",
      "250/250 [==============================] - 97s 387ms/step - loss: 0.4140 - accuracy: 0.8112 - val_loss: 0.4714 - val_accuracy: 0.7850\n",
      "Epoch 13/25\n",
      "250/250 [==============================] - 98s 392ms/step - loss: 0.3981 - accuracy: 0.8142 - val_loss: 0.4399 - val_accuracy: 0.8040\n",
      "Epoch 14/25\n",
      "250/250 [==============================] - 85s 338ms/step - loss: 0.3891 - accuracy: 0.8242 - val_loss: 0.4618 - val_accuracy: 0.8000\n",
      "Epoch 15/25\n",
      "250/250 [==============================] - 89s 357ms/step - loss: 0.3809 - accuracy: 0.8229 - val_loss: 0.4340 - val_accuracy: 0.8110\n",
      "Epoch 16/25\n",
      "250/250 [==============================] - 82s 327ms/step - loss: 0.3779 - accuracy: 0.8322 - val_loss: 0.4671 - val_accuracy: 0.7965\n",
      "Epoch 17/25\n",
      "250/250 [==============================] - 70s 279ms/step - loss: 0.3566 - accuracy: 0.8380 - val_loss: 0.4550 - val_accuracy: 0.8045\n",
      "Epoch 18/25\n",
      "250/250 [==============================] - 73s 294ms/step - loss: 0.3586 - accuracy: 0.8395 - val_loss: 0.4501 - val_accuracy: 0.8075\n",
      "Epoch 19/25\n",
      "250/250 [==============================] - 81s 323ms/step - loss: 0.3473 - accuracy: 0.8429 - val_loss: 0.4736 - val_accuracy: 0.7960\n",
      "Epoch 20/25\n",
      "250/250 [==============================] - 68s 272ms/step - loss: 0.3438 - accuracy: 0.8465 - val_loss: 0.4535 - val_accuracy: 0.8145\n",
      "Epoch 21/25\n",
      "250/250 [==============================] - 66s 264ms/step - loss: 0.3367 - accuracy: 0.8495 - val_loss: 0.4542 - val_accuracy: 0.8080\n",
      "Epoch 22/25\n",
      "250/250 [==============================] - 83s 334ms/step - loss: 0.3165 - accuracy: 0.8574 - val_loss: 0.4609 - val_accuracy: 0.8190\n",
      "Epoch 23/25\n",
      "250/250 [==============================] - 68s 272ms/step - loss: 0.3251 - accuracy: 0.8566 - val_loss: 0.4987 - val_accuracy: 0.7885\n",
      "Epoch 24/25\n",
      "250/250 [==============================] - 69s 277ms/step - loss: 0.3078 - accuracy: 0.8650 - val_loss: 0.5021 - val_accuracy: 0.8015\n",
      "Epoch 25/25\n",
      "250/250 [==============================] - 63s 254ms/step - loss: 0.3080 - accuracy: 0.8674 - val_loss: 0.4640 - val_accuracy: 0.8120\n"
     ]
    },
    {
     "data": {
      "text/plain": [
       "<keras.src.callbacks.History at 0x269aa2652d0>"
      ]
     },
     "execution_count": 12,
     "metadata": {},
     "output_type": "execute_result"
    }
   ],
   "source": [
    "cnn.fit(x = training_set, validation_data = test_set, epochs = 25)\n",
    "#Kode ini memulai proses pelatihan model CNN dengan menggunakan data latih dari training_set dan menggunakannya untuk validasi dengan data uji dari test_set. \n",
    "#Pelatihan akan berlangsung selama 25 epoch."
   ]
  },
  {
   "cell_type": "markdown",
   "metadata": {},
   "source": [
    "### **Langkah 5 - Prediksi dengan 1 Citra**"
   ]
  },
  {
   "cell_type": "markdown",
   "metadata": {},
   "source": [
    "Pada langkah ini, kita akan mencoba melakukan prediksi pada 1 citra anjing dan kucing."
   ]
  },
  {
   "cell_type": "code",
   "execution_count": 13,
   "metadata": {},
   "outputs": [
    {
     "name": "stdout",
     "output_type": "stream",
     "text": [
      "1/1 [==============================] - 1s 542ms/step\n"
     ]
    }
   ],
   "source": [
    "import numpy as np\n",
    "from keras.preprocessing import image #memproses gambar sebelum memasukkannya ke model.\n",
    "test_image = image.load_img('dataset/single_prediction/cat_or_dog_1.jpg', target_size = (64, 64)) #mengubah ukurannya menjadi 64x64 piksel.\n",
    "test_image = image.img_to_array(test_image) #Mengonversi gambar ke dalam array NumPy\n",
    "test_image = np.expand_dims(test_image, axis = 0) #Menambahkan dimensi tambahan di depan array untuk mencocokkan format input model CNN.\n",
    "result = cnn.predict(test_image) #Memasukkan gambar yang telah diproses ke model CNN untuk melakukan prediksi.\n",
    "training_set.class_indices #Memberikan informasi indeks kelas untuk model, yang akan membantu dalam menafsirkan hasil prediksi.\n",
    "if result[0][0] == 1:\n",
    "  prediction = 'dog'\n",
    "else:\n",
    "  prediction = 'cat'\n",
    "  #Menetapkan label prediksi berdasarkan hasil dari model. \n",
    "  #Jika nilai prediksi adalah 1, maka diprediksi sebagai 'dog', jika bukan, maka diprediksi sebagai 'cat'."
   ]
  }
 ],
 "metadata": {
  "kernelspec": {
   "display_name": "base",
   "language": "python",
   "name": "python3"
  },
  "language_info": {
   "codemirror_mode": {
    "name": "ipython",
    "version": 3
   },
   "file_extension": ".py",
   "mimetype": "text/x-python",
   "name": "python",
   "nbconvert_exporter": "python",
   "pygments_lexer": "ipython3",
   "version": "3.11.4"
  }
 },
 "nbformat": 4,
 "nbformat_minor": 2
}
