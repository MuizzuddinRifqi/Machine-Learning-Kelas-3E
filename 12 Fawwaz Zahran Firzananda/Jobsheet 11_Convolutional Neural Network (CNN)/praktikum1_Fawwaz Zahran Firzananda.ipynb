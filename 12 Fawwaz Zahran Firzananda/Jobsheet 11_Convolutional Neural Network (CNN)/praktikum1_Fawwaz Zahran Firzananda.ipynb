{
  "cells": [
    {
      "cell_type": "code",
      "execution_count": 1,
      "metadata": {
        "id": "hM1gdO6a_6nw"
      },
      "outputs": [],
      "source": [
        "import tensorflow as tf\n",
        "from keras.preprocessing.image import ImageDataGenerator"
      ]
    },
    {
      "cell_type": "code",
      "execution_count": 2,
      "metadata": {
        "colab": {
          "base_uri": "https://localhost:8080/"
        },
        "id": "Kq07RMc9Bt-U",
        "outputId": "cee7cf85-07e8-4818-ed3e-298884efe5d2"
      },
      "outputs": [
        {
          "name": "stdout",
          "output_type": "stream",
          "text": [
            "Found 3096 images belonging to 2 classes.\n"
          ]
        }
      ],
      "source": [
        "train_datagen = ImageDataGenerator(rescale = 1./255, # Reskalasi nilai piksel gambar menjadi rentang o hingga 1.\n",
        "                                   shear_range = 0.2, # Teknik shear untuk merubah bentuk gambar.\n",
        "                                   zoom_range = 0.2, # Efek zoom in/out pada gambar.\n",
        "                                   horizontal_flip = True) # Flip horizontal pada gambar.\n",
        "training_set = train_datagen.flow_from_directory('/content/drive/MyDrive/Pembelajaran Mesin Js11/dataset/training_set',\n",
        "                                                 target_size = (64, 64), # Mengukur ukuran gambar.\n",
        "                                                 batch_size = 32, # Menentukan jumlah gambar.\n",
        "                                                 class_mode = 'binary')"
      ]
    },
    {
      "cell_type": "code",
      "execution_count": 4,
      "metadata": {
        "colab": {
          "base_uri": "https://localhost:8080/"
        },
        "id": "LMawF_UBCCYi",
        "outputId": "b9aa7c93-0584-4826-98ff-83f18999e896"
      },
      "outputs": [
        {
          "name": "stdout",
          "output_type": "stream",
          "text": [
            "Found 1984 images belonging to 2 classes.\n"
          ]
        }
      ],
      "source": [
        "# Pra pengolahan data testing.\n",
        "test_datagen = ImageDataGenerator(rescale = 1./255)\n",
        "test_set = test_datagen.flow_from_directory('/content/drive/MyDrive/Pembelajaran Mesin Js11/dataset/test_set',\n",
        "                                            target_size = (64, 64),\n",
        "                                            batch_size = 32,\n",
        "                                            class_mode = 'binary')"
      ]
    },
    {
      "cell_type": "code",
      "execution_count": 5,
      "metadata": {
        "id": "sNTppSQOCUyg"
      },
      "outputs": [],
      "source": [
        "cnn = tf.keras.models.Sequential() # Inisiasi model cnn."
      ]
    },
    {
      "cell_type": "code",
      "execution_count": 6,
      "metadata": {
        "id": "WM1nJZp9CYDu"
      },
      "outputs": [],
      "source": [
        "# Menambahkan lapisan konvolusi pertama.\n",
        "cnn.add(tf.keras.layers.Conv2D(filters=32, kernel_size=3, activation='relu', input_shape=[64, 64, 3]))"
      ]
    },
    {
      "cell_type": "code",
      "execution_count": 7,
      "metadata": {
        "id": "YgwXmvW5CcHl"
      },
      "outputs": [],
      "source": [
        "# Menambahkan lapisan pooling pertama.\n",
        "cnn.add(tf.keras.layers.MaxPool2D(pool_size=2, strides=2))"
      ]
    },
    {
      "cell_type": "code",
      "execution_count": 8,
      "metadata": {
        "id": "XXMCI0huChjQ"
      },
      "outputs": [],
      "source": [
        "cnn.add(tf.keras.layers.Conv2D(filters=32, kernel_size=3, activation='relu')) # Menambahkan lapisan konvolusi kedua.\n",
        "cnn.add(tf.keras.layers.MaxPool2D(pool_size=2, strides=2)) # Menambahkan lapisan pooling kedua"
      ]
    },
    {
      "cell_type": "code",
      "execution_count": 9,
      "metadata": {
        "id": "EtiMOpGqCoki"
      },
      "outputs": [],
      "source": [
        "cnn.add(tf.keras.layers.Flatten()) # Menambahkan lapisan flat."
      ]
    },
    {
      "cell_type": "code",
      "execution_count": 10,
      "metadata": {
        "id": "IZW2C1RCCrYZ"
      },
      "outputs": [],
      "source": [
        "cnn.add(tf.keras.layers.Dense(units=128, activation='relu')) # Menambahkan lapisan terhubung penuh."
      ]
    },
    {
      "cell_type": "code",
      "execution_count": 11,
      "metadata": {
        "id": "IhLcPT64Cum4"
      },
      "outputs": [],
      "source": [
        "cnn.add(tf.keras.layers.Dense(units=1, activation='sigmoid')) # Menambahkan lapisan output."
      ]
    },
    {
      "cell_type": "code",
      "execution_count": 12,
      "metadata": {
        "id": "aJtlfyxMCxCx"
      },
      "outputs": [],
      "source": [
        "cnn.compile(optimizer = 'adam', loss = 'binary_crossentropy', metrics = ['accuracy']) # Mengonfigurasi proses pelatihan model."
      ]
    },
    {
      "cell_type": "code",
      "execution_count": 13,
      "metadata": {
        "colab": {
          "base_uri": "https://localhost:8080/"
        },
        "id": "9SMrqB71Cz0T",
        "outputId": "60f5421d-5d8a-4b4e-83c1-427c3d581d11"
      },
      "outputs": [
        {
          "name": "stdout",
          "output_type": "stream",
          "text": [
            "Epoch 1/25\n",
            "97/97 [==============================] - 1705s 18s/step - loss: 0.6746 - accuracy: 0.5753 - val_loss: 0.6680 - val_accuracy: 0.5373\n",
            "Epoch 2/25\n",
            "97/97 [==============================] - 38s 389ms/step - loss: 0.6289 - accuracy: 0.6253 - val_loss: 0.6842 - val_accuracy: 0.5882\n",
            "Epoch 3/25\n",
            "97/97 [==============================] - 42s 438ms/step - loss: 0.5893 - accuracy: 0.6815 - val_loss: 0.6196 - val_accuracy: 0.6477\n",
            "Epoch 4/25\n",
            "97/97 [==============================] - 37s 381ms/step - loss: 0.5714 - accuracy: 0.6974 - val_loss: 0.6294 - val_accuracy: 0.6638\n",
            "Epoch 5/25\n",
            "97/97 [==============================] - 39s 398ms/step - loss: 0.5530 - accuracy: 0.7132 - val_loss: 0.5926 - val_accuracy: 0.6976\n",
            "Epoch 6/25\n",
            "97/97 [==============================] - 40s 411ms/step - loss: 0.5288 - accuracy: 0.7403 - val_loss: 0.6996 - val_accuracy: 0.6512\n",
            "Epoch 7/25\n",
            "97/97 [==============================] - 36s 376ms/step - loss: 0.5097 - accuracy: 0.7529 - val_loss: 0.7091 - val_accuracy: 0.6593\n",
            "Epoch 8/25\n",
            "97/97 [==============================] - 41s 426ms/step - loss: 0.4942 - accuracy: 0.7649 - val_loss: 0.5819 - val_accuracy: 0.7288\n",
            "Epoch 9/25\n",
            "97/97 [==============================] - 38s 391ms/step - loss: 0.4835 - accuracy: 0.7681 - val_loss: 0.5555 - val_accuracy: 0.7419\n",
            "Epoch 10/25\n",
            "97/97 [==============================] - 42s 437ms/step - loss: 0.4700 - accuracy: 0.7752 - val_loss: 0.5323 - val_accuracy: 0.7480\n",
            "Epoch 11/25\n",
            "97/97 [==============================] - 40s 416ms/step - loss: 0.4486 - accuracy: 0.7865 - val_loss: 0.5895 - val_accuracy: 0.7354\n",
            "Epoch 12/25\n",
            "97/97 [==============================] - 39s 401ms/step - loss: 0.4357 - accuracy: 0.7926 - val_loss: 0.5253 - val_accuracy: 0.7555\n",
            "Epoch 13/25\n",
            "97/97 [==============================] - 37s 386ms/step - loss: 0.4144 - accuracy: 0.8149 - val_loss: 0.5453 - val_accuracy: 0.7515\n",
            "Epoch 14/25\n",
            "97/97 [==============================] - 39s 403ms/step - loss: 0.4146 - accuracy: 0.8049 - val_loss: 0.5613 - val_accuracy: 0.7631\n",
            "Epoch 15/25\n",
            "97/97 [==============================] - 40s 408ms/step - loss: 0.4207 - accuracy: 0.8088 - val_loss: 0.5478 - val_accuracy: 0.7686\n",
            "Epoch 16/25\n",
            "97/97 [==============================] - 37s 383ms/step - loss: 0.3930 - accuracy: 0.8194 - val_loss: 0.5685 - val_accuracy: 0.7571\n",
            "Epoch 17/25\n",
            "97/97 [==============================] - 37s 378ms/step - loss: 0.3881 - accuracy: 0.8198 - val_loss: 0.7350 - val_accuracy: 0.6961\n",
            "Epoch 18/25\n",
            "97/97 [==============================] - 39s 400ms/step - loss: 0.3815 - accuracy: 0.8317 - val_loss: 0.5795 - val_accuracy: 0.7500\n",
            "Epoch 19/25\n",
            "97/97 [==============================] - 36s 372ms/step - loss: 0.3645 - accuracy: 0.8324 - val_loss: 0.6528 - val_accuracy: 0.7450\n",
            "Epoch 20/25\n",
            "97/97 [==============================] - 38s 394ms/step - loss: 0.3700 - accuracy: 0.8343 - val_loss: 0.4931 - val_accuracy: 0.7818\n",
            "Epoch 21/25\n",
            "97/97 [==============================] - 39s 408ms/step - loss: 0.3554 - accuracy: 0.8466 - val_loss: 0.4902 - val_accuracy: 0.7772\n",
            "Epoch 22/25\n",
            "97/97 [==============================] - 39s 402ms/step - loss: 0.3524 - accuracy: 0.8437 - val_loss: 0.6332 - val_accuracy: 0.7424\n",
            "Epoch 23/25\n",
            "97/97 [==============================] - 40s 414ms/step - loss: 0.3264 - accuracy: 0.8627 - val_loss: 0.5681 - val_accuracy: 0.7707\n",
            "Epoch 24/25\n",
            "97/97 [==============================] - 38s 389ms/step - loss: 0.3134 - accuracy: 0.8698 - val_loss: 0.5590 - val_accuracy: 0.7772\n",
            "Epoch 25/25\n",
            "97/97 [==============================] - 39s 406ms/step - loss: 0.3167 - accuracy: 0.8576 - val_loss: 0.5230 - val_accuracy: 0.7913\n"
          ]
        },
        {
          "data": {
            "text/plain": [
              "<keras.src.callbacks.History at 0x7de2ff746fe0>"
            ]
          },
          "execution_count": 13,
          "metadata": {},
          "output_type": "execute_result"
        }
      ],
      "source": [
        "cnn.fit(x = training_set, validation_data = test_set, epochs = 25) # Fit cnn."
      ]
    },
    {
      "cell_type": "code",
      "execution_count": 15,
      "metadata": {
        "colab": {
          "base_uri": "https://localhost:8080/"
        },
        "id": "KhOwdNQRNqho",
        "outputId": "2a818e6f-cf57-4f1b-812b-9436d797b00b"
      },
      "outputs": [
        {
          "name": "stdout",
          "output_type": "stream",
          "text": [
            "1/1 [==============================] - 0s 140ms/step\n"
          ]
        }
      ],
      "source": [
        "import numpy as np\n",
        "from keras.preprocessing import image\n",
        "test_image = image.load_img('/content/drive/MyDrive/Pembelajaran Mesin Js11/dataset/single_prediction/cat_or_dog_1.jpg', target_size = (64, 64))\n",
        "test_image = image.img_to_array(test_image) # Mengubah gambar yang dimuat menjadi array NumPy.\n",
        "test_image = np.expand_dims(test_image, axis = 0) # Menambahkan dimensi batch ke array gambar.\n",
        "result = cnn.predict(test_image) # Melakukan prediksi menggunakan model cnn.\n",
        "training_set.class_indices # Melatihan model menggunakan generator data.\n",
        "\n",
        "# Cek hasil prediksi\n",
        "if result[0][0] == 1:\n",
        "  prediction = 'dog'\n",
        "else:\n",
        "  prediction = 'cat'"
      ]
    }
  ],
  "metadata": {
    "colab": {
      "provenance": []
    },
    "kernelspec": {
      "display_name": "Python 3",
      "name": "python3"
    },
    "language_info": {
      "name": "python"
    }
  },
  "nbformat": 4,
  "nbformat_minor": 0
}
