{
  "cells": [
    {
      "cell_type": "markdown",
      "metadata": {
        "id": "xJDQThFK1rNV"
      },
      "source": [
        "* Lakukan klasifikasi pada data MNIST dengan menggunakan model ANN\n",
        "* Anda diperbolehkan melakukan eksplorasi terhadap,\n",
        "    * Metode pra pengolahan\n",
        "    * Pemilihan fitur\n",
        "    * Arsitektur ANN\n",
        "    * Fungsi Aktiviasi\n",
        "* ANN diimplementasikan dengan menggunakan tensorflow.\n",
        "* DIKERJAKAN SECARA BERKELOMPOK\n",
        "* JELASKAN HASIL YANG ANDA DAPATKAN,\n",
        "    * AKURASI\n",
        "    * CONFUSION MATRIX\n",
        "    * KONFIGURASI MODEL --> MULAI DARI PRA PENGOLAHAN SAMPAI ARSITEKTUR ANN"
      ]
    },
    {
      "cell_type": "code",
      "execution_count": 1,
      "metadata": {
        "id": "d72_2tnF1ju3"
      },
      "outputs": [],
      "source": [
        "import tensorflow as tf\n",
        "from tensorflow import keras\n",
        "from tensorflow.keras import layers"
      ]
    },
    {
      "cell_type": "code",
      "execution_count": 2,
      "metadata": {
        "colab": {
          "base_uri": "https://localhost:8080/"
        },
        "id": "jqj9GP124GHU",
        "outputId": "631d4040-7f15-4363-e4b8-b64282c31bec"
      },
      "outputs": [
        {
          "name": "stdout",
          "output_type": "stream",
          "text": [
            "Downloading data from https://storage.googleapis.com/tensorflow/tf-keras-datasets/mnist.npz\n",
            "11490434/11490434 [==============================] - 0s 0us/step\n",
            "Epoch 1/5\n",
            "1875/1875 [==============================] - 19s 10ms/step - loss: 0.2986 - accuracy: 0.9111\n",
            "Epoch 2/5\n",
            "1875/1875 [==============================] - 15s 8ms/step - loss: 0.1412 - accuracy: 0.9576\n",
            "Epoch 3/5\n",
            "1875/1875 [==============================] - 8s 4ms/step - loss: 0.1053 - accuracy: 0.9686\n",
            "Epoch 4/5\n",
            "1875/1875 [==============================] - 9s 5ms/step - loss: 0.0857 - accuracy: 0.9741\n",
            "Epoch 5/5\n",
            "1875/1875 [==============================] - 7s 4ms/step - loss: 0.0741 - accuracy: 0.9767\n",
            "313/313 [==============================] - 1s 2ms/step - loss: 0.0743 - accuracy: 0.9766\n",
            "Test accuracy: 0.9765999913215637\n",
            "313/313 [==============================] - 1s 3ms/step\n",
            "Confusion Matrix:\n",
            "tf.Tensor(\n",
            "[[ 968    0    1    2    0    2    2    2    2    1]\n",
            " [   0 1123    3    1    0    0    1    1    6    0]\n",
            " [   3    2 1003    7    3    0    1    6    7    0]\n",
            " [   0    0    1  990    0    7    0    6    5    1]\n",
            " [   1    0    4    1  965    0    3    1    3    4]\n",
            " [   2    0    0   14    0  865    3    1    6    1]\n",
            " [   6    3    0    1    2    5  936    0    5    0]\n",
            " [   1    7    5    3    0    0    0 1002    4    6]\n",
            " [   5    0    1    6    4    3    2    7  945    1]\n",
            " [   2    4    0    6   12    3    1    7    5  969]], shape=(10, 10), dtype=int32)\n"
          ]
        }
      ],
      "source": [
        "# Load the MNIST dataset\n",
        "mnist = keras.datasets.mnist # 28x28 images of hand-written digits 0-9\n",
        "(train_images, train_labels), (test_images, test_labels) = mnist.load_data() # Split into training and test sets\n",
        "\n",
        "# Preprocessing\n",
        "train_images, test_images = train_images / 255.0, test_images / 255.0 # Scale the pixel values from 0 to 1\n",
        "\n",
        "# Build the ANN model\n",
        "model = keras.Sequential([\n",
        "    layers.Flatten(input_shape=(28, 28)),  # Flatten the 28x28 input images\n",
        "    layers.Dense(128, activation='relu'),  # Hidden layer with ReLU activation\n",
        "    layers.Dropout(0.2),                  # Dropout layer to reduce overfitting\n",
        "    layers.Dense(10, activation='softmax') # Output layer with 10 classes and softmax activation\n",
        "])\n",
        "\n",
        "# Compile the model\n",
        "model.compile(optimizer='adam', # Optimizer\n",
        "              loss='sparse_categorical_crossentropy', # Loss function\n",
        "              metrics=['accuracy']) # Accuracy metric\n",
        "\n",
        "# Train the model\n",
        "model.fit(train_images, train_labels, epochs=5) # Train the model for 5 epochs\n",
        "\n",
        "# Evaluate the model on the test data\n",
        "test_loss, test_accuracy = model.evaluate(test_images, test_labels) # Evaluate the model on the test data using `evaluate`\n",
        "\n",
        "print(f'Test accuracy: {test_accuracy}') # Print test accuracy\n",
        "\n",
        "# Confusion Matrix\n",
        "predictions = model.predict(test_images) # Make predictions on the test data\n",
        "confusion_matrix = tf.math.confusion_matrix(test_labels, tf.argmax(predictions, axis=1)) # Create a confusion matrix on the test data\n",
        "print('Confusion Matrix:') # Print the confusion matrix\n",
        "print(confusion_matrix) # Print the confusion matrix"
      ]
    }
  ],
  "metadata": {
    "colab": {
      "provenance": []
    },
    "kernelspec": {
      "display_name": "Python 3",
      "name": "python3"
    },
    "language_info": {
      "name": "python"
    }
  },
  "nbformat": 4,
  "nbformat_minor": 0
}
